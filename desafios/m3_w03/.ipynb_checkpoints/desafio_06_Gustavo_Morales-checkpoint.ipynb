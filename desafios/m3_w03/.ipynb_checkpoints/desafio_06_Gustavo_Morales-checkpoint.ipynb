{
 "cells": [
  {
   "cell_type": "markdown",
   "metadata": {},
   "source": [
    "## Machine Learning - Desafío 6, Inferencia de tópicos con EM\n",
    "#### Gustavo Morales, G10 - 22.Ene.2020, (Miércoles Semana 3)"
   ]
  },
  {
   "cell_type": "markdown",
   "metadata": {},
   "source": [
    "### **Ejercicio 1: Preparar el ambiente de trabajo**"
   ]
  },
  {
   "cell_type": "code",
   "execution_count": 1,
   "metadata": {},
   "outputs": [],
   "source": [
    "import pandas as pd\n",
    "import numpy as np\n",
    "import matplotlib.pyplot as plt\n",
    "from matplotlib.pyplot import rcParams\n",
    "import seaborn as sns\n",
    "import glob\n",
    "import os\n",
    "from sklearn.feature_extraction.text import CountVectorizer\n",
    "from sklearn.decomposition import LatentDirichletAllocation\n",
    "from sklearn.model_selection import GridSearchCV, train_test_split\n",
    "from sklearn.metrics import classification_report\n",
    "from sklearn.pipeline import Pipeline\n",
    "plt.style.use('seaborn-paper')"
   ]
  },
  {
   "cell_type": "code",
   "execution_count": 2,
   "metadata": {},
   "outputs": [
    {
     "name": "stdout",
     "output_type": "stream",
     "text": [
      "/home/gus/learn/courses/dlatam_ds/desafios/m3_w03/dump_plus_pop\n"
     ]
    }
   ],
   "source": [
    "for name in glob.glob(os.getcwd()+'/dump_plus_pop'):\n",
    "    print(name)"
   ]
  },
  {
   "cell_type": "code",
   "execution_count": 3,
   "metadata": {},
   "outputs": [
    {
     "name": "stdout",
     "output_type": "stream",
     "text": [
      "<class 'pandas.core.frame.DataFrame'>\n",
      "RangeIndex: 10804 entries, 0 to 10803\n",
      "Data columns (total 4 columns):\n",
      "artist    10804 non-null object\n",
      "genre     10804 non-null object\n",
      "song      10804 non-null object\n",
      "lyrics    10804 non-null object\n",
      "dtypes: object(4)\n",
      "memory usage: 337.8+ KB\n"
     ]
    }
   ],
   "source": [
    "route = glob.glob('dump_plus_pop/*.csv')\n",
    "dfs = [pd.read_csv(fname, header=0) for fname in route]\n",
    "df = pd.concat(dfs, axis=0, ignore_index=True, sort=True)\n",
    "df.drop(columns='Unnamed: 0', inplace=True)\n",
    "df.rename(columns={'0': 'artist', '1': 'genre', '2': 'song', '3': 'lyrics'}, inplace=True)\n",
    "df.info()"
   ]
  },
  {
   "cell_type": "code",
   "execution_count": 4,
   "metadata": {},
   "outputs": [
    {
     "data": {
      "text/html": [
       "<div>\n",
       "<style scoped>\n",
       "    .dataframe tbody tr th:only-of-type {\n",
       "        vertical-align: middle;\n",
       "    }\n",
       "\n",
       "    .dataframe tbody tr th {\n",
       "        vertical-align: top;\n",
       "    }\n",
       "\n",
       "    .dataframe thead th {\n",
       "        text-align: right;\n",
       "    }\n",
       "</style>\n",
       "<table border=\"1\" class=\"dataframe\">\n",
       "  <thead>\n",
       "    <tr style=\"text-align: right;\">\n",
       "      <th></th>\n",
       "      <th>artist</th>\n",
       "      <th>genre</th>\n",
       "      <th>song</th>\n",
       "      <th>lyrics</th>\n",
       "    </tr>\n",
       "  </thead>\n",
       "  <tbody>\n",
       "    <tr>\n",
       "      <th>6060</th>\n",
       "      <td>Nicki Minaj</td>\n",
       "      <td>pop</td>\n",
       "      <td>Entertainment 2.0</td>\n",
       "      <td>Yessir! (Ey girl) \\n I'mma hit the club, hit t...</td>\n",
       "    </tr>\n",
       "    <tr>\n",
       "      <th>655</th>\n",
       "      <td>De La Soul</td>\n",
       "      <td>hiphop</td>\n",
       "      <td>My Writes</td>\n",
       "      <td>{*Ad libs for the first 30 seconds*} \\n (Dove)...</td>\n",
       "    </tr>\n",
       "    <tr>\n",
       "      <th>4744</th>\n",
       "      <td>The Doors</td>\n",
       "      <td>rock</td>\n",
       "      <td>We Could Be So Good Together</td>\n",
       "      <td>Unfortunately, we are not licensed to display ...</td>\n",
       "    </tr>\n",
       "    <tr>\n",
       "      <th>9281</th>\n",
       "      <td>Michael Jackson</td>\n",
       "      <td>pop</td>\n",
       "      <td>Shout</td>\n",
       "      <td>Shout \\n Ignorance of people purchasing diamon...</td>\n",
       "    </tr>\n",
       "    <tr>\n",
       "      <th>3283</th>\n",
       "      <td>Bruce Springsteen</td>\n",
       "      <td>rock</td>\n",
       "      <td>Jersey Girl</td>\n",
       "      <td>I got no time for the corner boys \\n Down in t...</td>\n",
       "    </tr>\n",
       "  </tbody>\n",
       "</table>\n",
       "</div>"
      ],
      "text/plain": [
       "                 artist   genre                          song  \\\n",
       "6060        Nicki Minaj     pop             Entertainment 2.0   \n",
       "655          De La Soul  hiphop                     My Writes   \n",
       "4744          The Doors    rock  We Could Be So Good Together   \n",
       "9281    Michael Jackson     pop                         Shout   \n",
       "3283  Bruce Springsteen    rock                   Jersey Girl   \n",
       "\n",
       "                                                 lyrics  \n",
       "6060  Yessir! (Ey girl) \\n I'mma hit the club, hit t...  \n",
       "655   {*Ad libs for the first 30 seconds*} \\n (Dove)...  \n",
       "4744  Unfortunately, we are not licensed to display ...  \n",
       "9281  Shout \\n Ignorance of people purchasing diamon...  \n",
       "3283  I got no time for the corner boys \\n Down in t...  "
      ]
     },
     "execution_count": 4,
     "metadata": {},
     "output_type": "execute_result"
    }
   ],
   "source": [
    "df.sample(5)"
   ]
  },
  {
   "cell_type": "markdown",
   "metadata": {},
   "source": [
    "### **Ejercicio 2: Matriz de ocurrencias**"
   ]
  },
  {
   "cell_type": "code",
   "execution_count": 5,
   "metadata": {},
   "outputs": [],
   "source": [
    "def get_top_n_words(dataframe, n, genre=None):\n",
    "    df_ = dataframe\n",
    "    if genre!=None:\n",
    "        df_ = dataframe[dataframe['genre']==genre]\n",
    "    count_vectorizer = CountVectorizer(stop_words='english')\n",
    "    count_vectorizer_fit = count_vectorizer.fit_transform(df_['lyrics'])\n",
    "    words = count_vectorizer.get_feature_names()\n",
    "    words_freq = count_vectorizer_fit.toarray().sum(axis=0)\n",
    "    df__ = pd.DataFrame({'words':words, 'frequency':words_freq})\n",
    "    print(genre) if genre!=None else print('')\n",
    "    res = df__.sort_values('frequency', ascending=False).head(n)\n",
    "    return res"
   ]
  },
  {
   "cell_type": "code",
   "execution_count": 6,
   "metadata": {},
   "outputs": [
    {
     "name": "stdout",
     "output_type": "stream",
     "text": [
      "\n"
     ]
    },
    {
     "data": {
      "text/html": [
       "<div>\n",
       "<style scoped>\n",
       "    .dataframe tbody tr th:only-of-type {\n",
       "        vertical-align: middle;\n",
       "    }\n",
       "\n",
       "    .dataframe tbody tr th {\n",
       "        vertical-align: top;\n",
       "    }\n",
       "\n",
       "    .dataframe thead th {\n",
       "        text-align: right;\n",
       "    }\n",
       "</style>\n",
       "<table border=\"1\" class=\"dataframe\">\n",
       "  <thead>\n",
       "    <tr style=\"text-align: right;\">\n",
       "      <th></th>\n",
       "      <th>words</th>\n",
       "      <th>frequency</th>\n",
       "    </tr>\n",
       "  </thead>\n",
       "  <tbody>\n",
       "    <tr>\n",
       "      <th>26039</th>\n",
       "      <td>like</td>\n",
       "      <td>22309</td>\n",
       "    </tr>\n",
       "    <tr>\n",
       "      <th>13425</th>\n",
       "      <td>don</td>\n",
       "      <td>21310</td>\n",
       "    </tr>\n",
       "    <tr>\n",
       "      <th>24895</th>\n",
       "      <td>know</td>\n",
       "      <td>18996</td>\n",
       "    </tr>\n",
       "    <tr>\n",
       "      <th>19259</th>\n",
       "      <td>got</td>\n",
       "      <td>17039</td>\n",
       "    </tr>\n",
       "    <tr>\n",
       "      <th>24300</th>\n",
       "      <td>just</td>\n",
       "      <td>16993</td>\n",
       "    </tr>\n",
       "    <tr>\n",
       "      <th>...</th>\n",
       "      <td>...</td>\n",
       "      <td>...</td>\n",
       "    </tr>\n",
       "    <tr>\n",
       "      <th>32899</th>\n",
       "      <td>penance</td>\n",
       "      <td>34</td>\n",
       "    </tr>\n",
       "    <tr>\n",
       "      <th>10447</th>\n",
       "      <td>crave</td>\n",
       "      <td>34</td>\n",
       "    </tr>\n",
       "    <tr>\n",
       "      <th>35316</th>\n",
       "      <td>puffin</td>\n",
       "      <td>34</td>\n",
       "    </tr>\n",
       "    <tr>\n",
       "      <th>34230</th>\n",
       "      <td>population</td>\n",
       "      <td>34</td>\n",
       "    </tr>\n",
       "    <tr>\n",
       "      <th>31960</th>\n",
       "      <td>overseas</td>\n",
       "      <td>33</td>\n",
       "    </tr>\n",
       "  </tbody>\n",
       "</table>\n",
       "<p>5000 rows × 2 columns</p>\n",
       "</div>"
      ],
      "text/plain": [
       "            words  frequency\n",
       "26039        like      22309\n",
       "13425         don      21310\n",
       "24895        know      18996\n",
       "19259         got      17039\n",
       "24300        just      16993\n",
       "...           ...        ...\n",
       "32899     penance         34\n",
       "10447       crave         34\n",
       "35316      puffin         34\n",
       "34230  population         34\n",
       "31960    overseas         33\n",
       "\n",
       "[5000 rows x 2 columns]"
      ]
     },
     "execution_count": 6,
     "metadata": {},
     "output_type": "execute_result"
    }
   ],
   "source": [
    "get_top_n_words(df, 5000)"
   ]
  },
  {
   "cell_type": "markdown",
   "metadata": {},
   "source": [
    "### **Ejercicio 3: Entrenamiento del Modelo**"
   ]
  },
  {
   "cell_type": "code",
   "execution_count": 7,
   "metadata": {},
   "outputs": [],
   "source": [
    "X = df['lyrics']\n",
    "y = df['genre']\n",
    "\n",
    "X_train, X_test, y_train, y_test = train_test_split(X, y, test_size=.33, random_state=42)"
   ]
  },
  {
   "cell_type": "code",
   "execution_count": 8,
   "metadata": {},
   "outputs": [],
   "source": [
    "pipeline = Pipeline([\n",
    "    ('cvect', CountVectorizer(stop_words='english')),\n",
    "    ('latda', LatentDirichletAllocation(\n",
    "        max_iter=10,\n",
    "        random_state=42,\n",
    "        learning_method='online',\n",
    "        batch_size=128,\n",
    "        evaluate_every=-1,\n",
    "        n_jobs=-1))\n",
    "])"
   ]
  },
  {
   "cell_type": "code",
   "execution_count": 9,
   "metadata": {},
   "outputs": [
    {
     "data": {
      "text/plain": [
       "dict_keys(['memory', 'steps', 'verbose', 'cvect', 'latda', 'cvect__analyzer', 'cvect__binary', 'cvect__decode_error', 'cvect__dtype', 'cvect__encoding', 'cvect__input', 'cvect__lowercase', 'cvect__max_df', 'cvect__max_features', 'cvect__min_df', 'cvect__ngram_range', 'cvect__preprocessor', 'cvect__stop_words', 'cvect__strip_accents', 'cvect__token_pattern', 'cvect__tokenizer', 'cvect__vocabulary', 'latda__batch_size', 'latda__doc_topic_prior', 'latda__evaluate_every', 'latda__learning_decay', 'latda__learning_method', 'latda__learning_offset', 'latda__max_doc_update_iter', 'latda__max_iter', 'latda__mean_change_tol', 'latda__n_components', 'latda__n_jobs', 'latda__perp_tol', 'latda__random_state', 'latda__topic_word_prior', 'latda__total_samples', 'latda__verbose'])"
      ]
     },
     "execution_count": 9,
     "metadata": {},
     "output_type": "execute_result"
    }
   ],
   "source": [
    "pipeline.get_params().keys()  # displays exact keyworded parameters to pass as input to `grid_param`"
   ]
  },
  {
   "cell_type": "code",
   "execution_count": 10,
   "metadata": {},
   "outputs": [],
   "source": [
    "CV = 3\n",
    "VERBOSITY = 20\n",
    "PARAM_GRID = {\n",
    "    'latda__n_components': [5, 10, 15],\n",
    "    'latda__learning_decay': [0.7, 0.5]\n",
    "}"
   ]
  },
  {
   "cell_type": "code",
   "execution_count": 11,
   "metadata": {},
   "outputs": [],
   "source": [
    "grid_search = GridSearchCV(pipeline, param_grid=PARAM_GRID, cv=CV, return_train_score=True, verbose=VERBOSITY)"
   ]
  },
  {
   "cell_type": "code",
   "execution_count": 12,
   "metadata": {},
   "outputs": [
    {
     "name": "stdout",
     "output_type": "stream",
     "text": [
      "Fitting 3 folds for each of 6 candidates, totalling 18 fits\n",
      "[CV] latda__learning_decay=0.7, latda__n_components=5 ................\n"
     ]
    },
    {
     "name": "stderr",
     "output_type": "stream",
     "text": [
      "[Parallel(n_jobs=1)]: Using backend SequentialBackend with 1 concurrent workers.\n"
     ]
    },
    {
     "name": "stdout",
     "output_type": "stream",
     "text": [
      "[CV]  latda__learning_decay=0.7, latda__n_components=5, score=(train=-5802471.693, test=-2900423.075), total=  27.0s\n",
      "[CV] latda__learning_decay=0.7, latda__n_components=5 ................\n"
     ]
    },
    {
     "name": "stderr",
     "output_type": "stream",
     "text": [
      "[Parallel(n_jobs=1)]: Done   1 out of   1 | elapsed:   30.0s remaining:    0.0s\n"
     ]
    },
    {
     "name": "stdout",
     "output_type": "stream",
     "text": [
      "[CV]  latda__learning_decay=0.7, latda__n_components=5, score=(train=-5826501.492, test=-2866597.595), total=  26.0s\n",
      "[CV] latda__learning_decay=0.7, latda__n_components=5 ................\n"
     ]
    },
    {
     "name": "stderr",
     "output_type": "stream",
     "text": [
      "[Parallel(n_jobs=1)]: Done   2 out of   2 | elapsed:   59.0s remaining:    0.0s\n"
     ]
    },
    {
     "name": "stdout",
     "output_type": "stream",
     "text": [
      "[CV]  latda__learning_decay=0.7, latda__n_components=5, score=(train=-5786515.667, test=-2901272.543), total=  26.9s\n",
      "[CV] latda__learning_decay=0.7, latda__n_components=10 ...............\n"
     ]
    },
    {
     "name": "stderr",
     "output_type": "stream",
     "text": [
      "[Parallel(n_jobs=1)]: Done   3 out of   3 | elapsed:  1.5min remaining:    0.0s\n"
     ]
    },
    {
     "name": "stdout",
     "output_type": "stream",
     "text": [
      "[CV]  latda__learning_decay=0.7, latda__n_components=10, score=(train=-5788500.089, test=-2902394.901), total=  35.5s\n",
      "[CV] latda__learning_decay=0.7, latda__n_components=10 ...............\n"
     ]
    },
    {
     "name": "stderr",
     "output_type": "stream",
     "text": [
      "[Parallel(n_jobs=1)]: Done   4 out of   4 | elapsed:  2.1min remaining:    0.0s\n"
     ]
    },
    {
     "name": "stdout",
     "output_type": "stream",
     "text": [
      "[CV]  latda__learning_decay=0.7, latda__n_components=10, score=(train=-5822770.228, test=-2889862.538), total=  36.6s\n",
      "[CV] latda__learning_decay=0.7, latda__n_components=10 ...............\n"
     ]
    },
    {
     "name": "stderr",
     "output_type": "stream",
     "text": [
      "[Parallel(n_jobs=1)]: Done   5 out of   5 | elapsed:  2.8min remaining:    0.0s\n"
     ]
    },
    {
     "name": "stdout",
     "output_type": "stream",
     "text": [
      "[CV]  latda__learning_decay=0.7, latda__n_components=10, score=(train=-5776115.753, test=-2917438.900), total=  36.6s\n",
      "[CV] latda__learning_decay=0.7, latda__n_components=15 ...............\n"
     ]
    },
    {
     "name": "stderr",
     "output_type": "stream",
     "text": [
      "[Parallel(n_jobs=1)]: Done   6 out of   6 | elapsed:  3.5min remaining:    0.0s\n"
     ]
    },
    {
     "name": "stdout",
     "output_type": "stream",
     "text": [
      "[CV]  latda__learning_decay=0.7, latda__n_components=15, score=(train=-5791613.546, test=-2918675.013), total=  45.6s\n",
      "[CV] latda__learning_decay=0.7, latda__n_components=15 ...............\n"
     ]
    },
    {
     "name": "stderr",
     "output_type": "stream",
     "text": [
      "[Parallel(n_jobs=1)]: Done   7 out of   7 | elapsed:  4.3min remaining:    0.0s\n"
     ]
    },
    {
     "name": "stdout",
     "output_type": "stream",
     "text": [
      "[CV]  latda__learning_decay=0.7, latda__n_components=15, score=(train=-5823183.709, test=-2901509.560), total=  49.3s\n",
      "[CV] latda__learning_decay=0.7, latda__n_components=15 ...............\n"
     ]
    },
    {
     "name": "stderr",
     "output_type": "stream",
     "text": [
      "[Parallel(n_jobs=1)]: Done   8 out of   8 | elapsed:  5.2min remaining:    0.0s\n"
     ]
    },
    {
     "name": "stdout",
     "output_type": "stream",
     "text": [
      "[CV]  latda__learning_decay=0.7, latda__n_components=15, score=(train=-5801952.373, test=-2943528.767), total=  46.1s\n",
      "[CV] latda__learning_decay=0.5, latda__n_components=5 ................\n"
     ]
    },
    {
     "name": "stderr",
     "output_type": "stream",
     "text": [
      "[Parallel(n_jobs=1)]: Done   9 out of   9 | elapsed:  6.0min remaining:    0.0s\n"
     ]
    },
    {
     "name": "stdout",
     "output_type": "stream",
     "text": [
      "[CV]  latda__learning_decay=0.5, latda__n_components=5, score=(train=-5812492.379, test=-2895021.990), total=  25.0s\n",
      "[CV] latda__learning_decay=0.5, latda__n_components=5 ................\n"
     ]
    },
    {
     "name": "stderr",
     "output_type": "stream",
     "text": [
      "[Parallel(n_jobs=1)]: Done  10 out of  10 | elapsed:  6.4min remaining:    0.0s\n"
     ]
    },
    {
     "name": "stdout",
     "output_type": "stream",
     "text": [
      "[CV]  latda__learning_decay=0.5, latda__n_components=5, score=(train=-5843002.193, test=-2870575.261), total=  24.2s\n",
      "[CV] latda__learning_decay=0.5, latda__n_components=5 ................\n"
     ]
    },
    {
     "name": "stderr",
     "output_type": "stream",
     "text": [
      "[Parallel(n_jobs=1)]: Done  11 out of  11 | elapsed:  6.9min remaining:    0.0s\n"
     ]
    },
    {
     "name": "stdout",
     "output_type": "stream",
     "text": [
      "[CV]  latda__learning_decay=0.5, latda__n_components=5, score=(train=-5811050.731, test=-2907214.882), total=  24.5s\n",
      "[CV] latda__learning_decay=0.5, latda__n_components=10 ...............\n"
     ]
    },
    {
     "name": "stderr",
     "output_type": "stream",
     "text": [
      "[Parallel(n_jobs=1)]: Done  12 out of  12 | elapsed:  7.4min remaining:    0.0s\n"
     ]
    },
    {
     "name": "stdout",
     "output_type": "stream",
     "text": [
      "[CV]  latda__learning_decay=0.5, latda__n_components=10, score=(train=-5817855.013, test=-2914541.079), total=  34.4s\n",
      "[CV] latda__learning_decay=0.5, latda__n_components=10 ...............\n"
     ]
    },
    {
     "name": "stderr",
     "output_type": "stream",
     "text": [
      "[Parallel(n_jobs=1)]: Done  13 out of  13 | elapsed:  8.0min remaining:    0.0s\n"
     ]
    },
    {
     "name": "stdout",
     "output_type": "stream",
     "text": [
      "[CV]  latda__learning_decay=0.5, latda__n_components=10, score=(train=-5845811.079, test=-2897271.983), total=  36.3s\n",
      "[CV] latda__learning_decay=0.5, latda__n_components=10 ...............\n"
     ]
    },
    {
     "name": "stderr",
     "output_type": "stream",
     "text": [
      "[Parallel(n_jobs=1)]: Done  14 out of  14 | elapsed:  8.6min remaining:    0.0s\n"
     ]
    },
    {
     "name": "stdout",
     "output_type": "stream",
     "text": [
      "[CV]  latda__learning_decay=0.5, latda__n_components=10, score=(train=-5812111.344, test=-2931118.718), total=  33.3s\n",
      "[CV] latda__learning_decay=0.5, latda__n_components=15 ...............\n"
     ]
    },
    {
     "name": "stderr",
     "output_type": "stream",
     "text": [
      "[Parallel(n_jobs=1)]: Done  15 out of  15 | elapsed:  9.2min remaining:    0.0s\n"
     ]
    },
    {
     "name": "stdout",
     "output_type": "stream",
     "text": [
      "[CV]  latda__learning_decay=0.5, latda__n_components=15, score=(train=-5821390.375, test=-2931037.865), total=  45.9s\n",
      "[CV] latda__learning_decay=0.5, latda__n_components=15 ...............\n"
     ]
    },
    {
     "name": "stderr",
     "output_type": "stream",
     "text": [
      "[Parallel(n_jobs=1)]: Done  16 out of  16 | elapsed: 10.0min remaining:    0.0s\n"
     ]
    },
    {
     "name": "stdout",
     "output_type": "stream",
     "text": [
      "[CV]  latda__learning_decay=0.5, latda__n_components=15, score=(train=-5853569.775, test=-2913061.957), total=  46.0s\n",
      "[CV] latda__learning_decay=0.5, latda__n_components=15 ...............\n"
     ]
    },
    {
     "name": "stderr",
     "output_type": "stream",
     "text": [
      "[Parallel(n_jobs=1)]: Done  17 out of  17 | elapsed: 10.9min remaining:    0.0s\n"
     ]
    },
    {
     "name": "stdout",
     "output_type": "stream",
     "text": [
      "[CV]  latda__learning_decay=0.5, latda__n_components=15, score=(train=-5822554.739, test=-2952621.260), total=  46.6s\n"
     ]
    },
    {
     "name": "stderr",
     "output_type": "stream",
     "text": [
      "[Parallel(n_jobs=1)]: Done  18 out of  18 | elapsed: 11.7min remaining:    0.0s\n",
      "[Parallel(n_jobs=1)]: Done  18 out of  18 | elapsed: 11.7min finished\n"
     ]
    },
    {
     "data": {
      "text/plain": [
       "GridSearchCV(cv=3, error_score=nan,\n",
       "             estimator=Pipeline(memory=None,\n",
       "                                steps=[('cvect',\n",
       "                                        CountVectorizer(analyzer='word',\n",
       "                                                        binary=False,\n",
       "                                                        decode_error='strict',\n",
       "                                                        dtype=<class 'numpy.int64'>,\n",
       "                                                        encoding='utf-8',\n",
       "                                                        input='content',\n",
       "                                                        lowercase=True,\n",
       "                                                        max_df=1.0,\n",
       "                                                        max_features=None,\n",
       "                                                        min_df=1,\n",
       "                                                        ngram_range=(1, 1),\n",
       "                                                        preprocessor=None,\n",
       "                                                        stop_words='english',\n",
       "                                                        strip_accents=None,\n",
       "                                                        token_pattern...\n",
       "                                                                  max_iter=10,\n",
       "                                                                  mean_change_tol=0.001,\n",
       "                                                                  n_components=10,\n",
       "                                                                  n_jobs=-1,\n",
       "                                                                  perp_tol=0.1,\n",
       "                                                                  random_state=42,\n",
       "                                                                  topic_word_prior=None,\n",
       "                                                                  total_samples=1000000.0,\n",
       "                                                                  verbose=0))],\n",
       "                                verbose=False),\n",
       "             iid='deprecated', n_jobs=None,\n",
       "             param_grid={'latda__learning_decay': [0.7, 0.5],\n",
       "                         'latda__n_components': [5, 10, 15]},\n",
       "             pre_dispatch='2*n_jobs', refit=True, return_train_score=True,\n",
       "             scoring=None, verbose=20)"
      ]
     },
     "execution_count": 12,
     "metadata": {},
     "output_type": "execute_result"
    }
   ],
   "source": [
    "grid_search.fit(X_train, y_train)"
   ]
  },
  {
   "cell_type": "markdown",
   "metadata": {},
   "source": [
    "La mejor combinación de parámetros se obtiene mediante:"
   ]
  },
  {
   "cell_type": "code",
   "execution_count": 13,
   "metadata": {},
   "outputs": [
    {
     "data": {
      "text/plain": [
       "{'latda__learning_decay': 0.7, 'latda__n_components': 5}"
      ]
     },
     "execution_count": 13,
     "metadata": {},
     "output_type": "execute_result"
    }
   ],
   "source": [
    "grid_search.best_params_"
   ]
  },
  {
   "cell_type": "code",
   "execution_count": 14,
   "metadata": {},
   "outputs": [],
   "source": [
    "scores = grid_search.cv_results_['mean_test_score']\n",
    "data = scores.reshape(len(PARAM_GRID['latda__n_components']),len(PARAM_GRID['latda__learning_decay']))"
   ]
  },
  {
   "cell_type": "code",
   "execution_count": 15,
   "metadata": {},
   "outputs": [
    {
     "data": {
      "image/png": "[encoded data removed]",
      "text/plain": [
       "<Figure size 360x360 with 1 Axes>"
      ]
     },
     "metadata": {
      "needs_background": "light"
     },
     "output_type": "display_data"
    }
   ],
   "source": [
    "plt.figure(figsize=(5,5))\n",
    "sns.heatmap(\n",
    "    data, cmap='Blues', annot=True, fmt='.4', cbar=False,\n",
    "    xticklabels=PARAM_GRID['latda__learning_decay'],\n",
    "    yticklabels=PARAM_GRID['latda__n_components']\n",
    ")\n",
    "plt.xlabel('learning_decay', fontsize=15)\n",
    "plt.ylabel('n_components', fontsize=15)\n",
    "plt.tight_layout()"
   ]
  },
  {
   "cell_type": "markdown",
   "metadata": {},
   "source": [
    "### **Ejercicio 4 : Inferencia e Identificación de Tópicos**"
   ]
  },
  {
   "cell_type": "code",
   "execution_count": 16,
   "metadata": {},
   "outputs": [],
   "source": [
    "lda_model = LatentDirichletAllocation(\n",
    "    n_components=grid_search.best_params_['latda__n_components'],\n",
    "    learning_decay=grid_search.best_params_['latda__learning_decay'],\n",
    "    max_iter=10, random_state=42, batch_size=128, evaluate_every=-1, n_jobs=-1\n",
    ")"
   ]
  },
  {
   "cell_type": "code",
   "execution_count": 17,
   "metadata": {},
   "outputs": [],
   "source": [
    "cvect = CountVectorizer(stop_words='english')\n",
    "lda_model_fit = lda_model.fit(cvect.fit_transform(df['lyrics']))"
   ]
  },
  {
   "cell_type": "code",
   "execution_count": 18,
   "metadata": {},
   "outputs": [
    {
     "name": "stdout",
     "output_type": "stream",
     "text": [
      "topic: 1\n",
      "like got shit don know yo ain nigga man em fuck cause just yeah niggas\n",
      "topic: 2\n",
      "la ah da doo song mi future ba boom yeah eh lyrics page que moment\n",
      "topic: 3\n",
      "love don know oh just yeah baby ll let got like time want come ve\n",
      "topic: 4\n",
      "just like got don man ain ll cause know said say na ha make people\n",
      "topic: 5\n",
      "god death life blood die dead world eyes soul kill hell black pain war end\n"
     ]
    }
   ],
   "source": [
    "for topic_id, topic_name in enumerate(lda_model_fit.components_):\n",
    "    print('topic: {}'.format(topic_id+1))\n",
    "    print(' '.join([cvect.get_feature_names()[i] for i in topic_name.argsort()[:-15-1:-1]]))"
   ]
  },
  {
   "cell_type": "markdown",
   "metadata": {},
   "source": [
    "**(R)** ¿A qué tópicos están asociados cada clase inferida?\n",
    "\n",
    "- `topic 1`: black music\n",
    "- `topic 2`: classic rock\n",
    "- `topic 3`: pop\n",
    "- `topic 4`: soft rock\n",
    "- `topic 5`: metal"
   ]
  },
  {
   "cell_type": "markdown",
   "metadata": {},
   "source": [
    "### **Ejercicio 5: Identificación de probabilidades**"
   ]
  },
  {
   "cell_type": "code",
   "execution_count": 19,
   "metadata": {},
   "outputs": [],
   "source": [
    "# generamos una transformación de los datos a distribución de tópico por palabra en el documento\n",
    "fit_best_lda = lda_model_fit.transform(cvect.fit_transform(df['lyrics']))\n",
    "# estra transformación la podemos coercionar a un dataframe de la siguiente manera\n",
    "topics_for_each_doc = pd.DataFrame(np.round(fit_best_lda, 3), index=df.index)\n",
    "#agregamos identificadores de columna\n",
    "topics_for_each_doc.columns = list(map(lambda x: \"T: {}\".format(x), range(1, lda_model_fit.n_components+1)))\n",
    "# concatenamos las probabilidades de tópico por documento a nuestra matriz original\n",
    "concatenated_df = pd.concat([df, topics_for_each_doc], axis=1)\n",
    "# argmax en la matriz de tópicos\n",
    "concatenated_df['highest_topic'] = np.argmax(topics_for_each_doc.values, axis = 1) + 1"
   ]
  },
  {
   "cell_type": "code",
   "execution_count": 20,
   "metadata": {},
   "outputs": [
    {
     "data": {
      "text/html": [
       "<div>\n",
       "<style scoped>\n",
       "    .dataframe tbody tr th:only-of-type {\n",
       "        vertical-align: middle;\n",
       "    }\n",
       "\n",
       "    .dataframe tbody tr th {\n",
       "        vertical-align: top;\n",
       "    }\n",
       "\n",
       "    .dataframe thead th {\n",
       "        text-align: right;\n",
       "    }\n",
       "</style>\n",
       "<table border=\"1\" class=\"dataframe\">\n",
       "  <thead>\n",
       "    <tr style=\"text-align: right;\">\n",
       "      <th></th>\n",
       "      <th>artist</th>\n",
       "      <th>genre</th>\n",
       "      <th>song</th>\n",
       "      <th>lyrics</th>\n",
       "      <th>T: 1</th>\n",
       "      <th>T: 2</th>\n",
       "      <th>T: 3</th>\n",
       "      <th>T: 4</th>\n",
       "      <th>T: 5</th>\n",
       "      <th>highest_topic</th>\n",
       "    </tr>\n",
       "  </thead>\n",
       "  <tbody>\n",
       "    <tr>\n",
       "      <th>5540</th>\n",
       "      <td>Slayer</td>\n",
       "      <td>metal</td>\n",
       "      <td>Witching Hour</td>\n",
       "      <td>Come hear the moon is calling, \\n The witching...</td>\n",
       "      <td>0.002</td>\n",
       "      <td>0.002</td>\n",
       "      <td>0.002</td>\n",
       "      <td>0.002</td>\n",
       "      <td>0.991</td>\n",
       "      <td>5</td>\n",
       "    </tr>\n",
       "    <tr>\n",
       "      <th>5620</th>\n",
       "      <td>Kiss</td>\n",
       "      <td>rock</td>\n",
       "      <td>Magic Touch</td>\n",
       "      <td>She's got the magic touch \\n And you're walkin...</td>\n",
       "      <td>0.002</td>\n",
       "      <td>0.002</td>\n",
       "      <td>0.994</td>\n",
       "      <td>0.002</td>\n",
       "      <td>0.002</td>\n",
       "      <td>3</td>\n",
       "    </tr>\n",
       "    <tr>\n",
       "      <th>7702</th>\n",
       "      <td>Eminem</td>\n",
       "      <td>hiphop</td>\n",
       "      <td>Fly Away</td>\n",
       "      <td>(Just Blaze - Chorus) \\n Some people ask me, w...</td>\n",
       "      <td>0.493</td>\n",
       "      <td>0.001</td>\n",
       "      <td>0.318</td>\n",
       "      <td>0.189</td>\n",
       "      <td>0.001</td>\n",
       "      <td>1</td>\n",
       "    </tr>\n",
       "    <tr>\n",
       "      <th>2310</th>\n",
       "      <td>Weezer</td>\n",
       "      <td>rock</td>\n",
       "      <td>The Prettiest Girl In The Whole Wide World</td>\n",
       "      <td>Fall leaves falling \\n Colder than air \\n Too ...</td>\n",
       "      <td>0.002</td>\n",
       "      <td>0.002</td>\n",
       "      <td>0.990</td>\n",
       "      <td>0.002</td>\n",
       "      <td>0.002</td>\n",
       "      <td>3</td>\n",
       "    </tr>\n",
       "    <tr>\n",
       "      <th>4629</th>\n",
       "      <td>Anthrax</td>\n",
       "      <td>metal</td>\n",
       "      <td>Crush</td>\n",
       "      <td>(Now you see me now you dontx3) \\n Now you see...</td>\n",
       "      <td>0.003</td>\n",
       "      <td>0.003</td>\n",
       "      <td>0.321</td>\n",
       "      <td>0.003</td>\n",
       "      <td>0.671</td>\n",
       "      <td>5</td>\n",
       "    </tr>\n",
       "    <tr>\n",
       "      <th>...</th>\n",
       "      <td>...</td>\n",
       "      <td>...</td>\n",
       "      <td>...</td>\n",
       "      <td>...</td>\n",
       "      <td>...</td>\n",
       "      <td>...</td>\n",
       "      <td>...</td>\n",
       "      <td>...</td>\n",
       "      <td>...</td>\n",
       "      <td>...</td>\n",
       "    </tr>\n",
       "    <tr>\n",
       "      <th>2567</th>\n",
       "      <td>Pink Floyd</td>\n",
       "      <td>rock</td>\n",
       "      <td>San Tropez</td>\n",
       "      <td>As I reach for a peach \\n Slide a line down be...</td>\n",
       "      <td>0.104</td>\n",
       "      <td>0.002</td>\n",
       "      <td>0.684</td>\n",
       "      <td>0.208</td>\n",
       "      <td>0.002</td>\n",
       "      <td>3</td>\n",
       "    </tr>\n",
       "    <tr>\n",
       "      <th>7471</th>\n",
       "      <td>Eminem</td>\n",
       "      <td>hiphop</td>\n",
       "      <td>Soldier</td>\n",
       "      <td>I'm a soldier \\n I'm a soldier \\n Da da da da ...</td>\n",
       "      <td>0.562</td>\n",
       "      <td>0.001</td>\n",
       "      <td>0.092</td>\n",
       "      <td>0.001</td>\n",
       "      <td>0.344</td>\n",
       "      <td>1</td>\n",
       "    </tr>\n",
       "    <tr>\n",
       "      <th>4531</th>\n",
       "      <td>Meshuggah</td>\n",
       "      <td>metal</td>\n",
       "      <td>Demiurge</td>\n",
       "      <td>Writhing and embraced \\n Retribution. Soul ecl...</td>\n",
       "      <td>0.100</td>\n",
       "      <td>0.005</td>\n",
       "      <td>0.069</td>\n",
       "      <td>0.005</td>\n",
       "      <td>0.821</td>\n",
       "      <td>5</td>\n",
       "    </tr>\n",
       "    <tr>\n",
       "      <th>10206</th>\n",
       "      <td>Immortal</td>\n",
       "      <td>metal</td>\n",
       "      <td>One By One</td>\n",
       "      <td>Aeons ago the legends tell we rode onward. \\n ...</td>\n",
       "      <td>0.001</td>\n",
       "      <td>0.001</td>\n",
       "      <td>0.180</td>\n",
       "      <td>0.001</td>\n",
       "      <td>0.816</td>\n",
       "      <td>5</td>\n",
       "    </tr>\n",
       "    <tr>\n",
       "      <th>9889</th>\n",
       "      <td>Ghostface Killah</td>\n",
       "      <td>hiphop</td>\n",
       "      <td>Life's A Rebirth</td>\n",
       "      <td>(RZA:) \\n With Lester Cane's revenge complete ...</td>\n",
       "      <td>0.371</td>\n",
       "      <td>0.001</td>\n",
       "      <td>0.001</td>\n",
       "      <td>0.001</td>\n",
       "      <td>0.626</td>\n",
       "      <td>5</td>\n",
       "    </tr>\n",
       "  </tbody>\n",
       "</table>\n",
       "<p>100 rows × 10 columns</p>\n",
       "</div>"
      ],
      "text/plain": [
       "                 artist   genre                                        song  \\\n",
       "5540             Slayer   metal                               Witching Hour   \n",
       "5620               Kiss    rock                                 Magic Touch   \n",
       "7702             Eminem  hiphop                                    Fly Away   \n",
       "2310             Weezer    rock  The Prettiest Girl In The Whole Wide World   \n",
       "4629            Anthrax   metal                                       Crush   \n",
       "...                 ...     ...                                         ...   \n",
       "2567         Pink Floyd    rock                                  San Tropez   \n",
       "7471             Eminem  hiphop                                     Soldier   \n",
       "4531          Meshuggah   metal                                    Demiurge   \n",
       "10206          Immortal   metal                                  One By One   \n",
       "9889   Ghostface Killah  hiphop                            Life's A Rebirth   \n",
       "\n",
       "                                                  lyrics   T: 1   T: 2   T: 3  \\\n",
       "5540   Come hear the moon is calling, \\n The witching...  0.002  0.002  0.002   \n",
       "5620   She's got the magic touch \\n And you're walkin...  0.002  0.002  0.994   \n",
       "7702   (Just Blaze - Chorus) \\n Some people ask me, w...  0.493  0.001  0.318   \n",
       "2310   Fall leaves falling \\n Colder than air \\n Too ...  0.002  0.002  0.990   \n",
       "4629   (Now you see me now you dontx3) \\n Now you see...  0.003  0.003  0.321   \n",
       "...                                                  ...    ...    ...    ...   \n",
       "2567   As I reach for a peach \\n Slide a line down be...  0.104  0.002  0.684   \n",
       "7471   I'm a soldier \\n I'm a soldier \\n Da da da da ...  0.562  0.001  0.092   \n",
       "4531   Writhing and embraced \\n Retribution. Soul ecl...  0.100  0.005  0.069   \n",
       "10206  Aeons ago the legends tell we rode onward. \\n ...  0.001  0.001  0.180   \n",
       "9889   (RZA:) \\n With Lester Cane's revenge complete ...  0.371  0.001  0.001   \n",
       "\n",
       "        T: 4   T: 5  highest_topic  \n",
       "5540   0.002  0.991              5  \n",
       "5620   0.002  0.002              3  \n",
       "7702   0.189  0.001              1  \n",
       "2310   0.002  0.002              3  \n",
       "4629   0.003  0.671              5  \n",
       "...      ...    ...            ...  \n",
       "2567   0.208  0.002              3  \n",
       "7471   0.001  0.344              1  \n",
       "4531   0.005  0.821              5  \n",
       "10206  0.001  0.816              5  \n",
       "9889   0.001  0.626              5  \n",
       "\n",
       "[100 rows x 10 columns]"
      ]
     },
     "execution_count": 20,
     "metadata": {},
     "output_type": "execute_result"
    }
   ],
   "source": [
    "concatenated_df.sample(100)"
   ]
  },
  {
   "cell_type": "markdown",
   "metadata": {},
   "source": [
    "**(R)** Matriz de correlaciones:"
   ]
  },
  {
   "cell_type": "code",
   "execution_count": 21,
   "metadata": {},
   "outputs": [
    {
     "data": {
      "image/png": "[encoded data removed]",
      "text/plain": [
       "<Figure size 360x288 with 2 Axes>"
      ]
     },
     "metadata": {
      "needs_background": "light"
     },
     "output_type": "display_data"
    }
   ],
   "source": [
    "topics = concatenated_df.iloc[:,4:9]\n",
    "corr = topics.corr()\n",
    "f, ax = plt.subplots(figsize=(5,4))\n",
    "sns.heatmap(corr, cmap='Blues', annot=True)\n",
    "plt.tight_layout()"
   ]
  },
  {
   "cell_type": "markdown",
   "metadata": {},
   "source": [
    "**(R)** La mayor correlación la encuentro entre los tópicos T1 y T3, sin correlaciones significativas entre los demás tópicos."
   ]
  },
  {
   "cell_type": "code",
   "execution_count": 22,
   "metadata": {},
   "outputs": [],
   "source": [
    "def report_artist_topic(infered_df, artist, plot_means = True, topic_label=None):\n",
    "    \"\"\"TODO: Docstring for report_artist_topic.\n",
    "\n",
    "    :infered_df: TODO\n",
    "    :artist: TODO\n",
    "    :plot_means: TODO\n",
    "    :returns: TODO\n",
    "\n",
    "    \"\"\"\n",
    "    # en base al objeto retornado con identify_most_likely_topic, subseteamos por artista\n",
    "    tmp_artist_topics = infered_df.query(f\"artist == '{artist}'\")\n",
    "    # extraemos solo las columnas identificadas como topico\n",
    "    topic_labels = [i if i.startswith('T') else None for i in tmp_artist_topics]\n",
    "    # eliminamos las que no sean tópicos\n",
    "    topic_labels = list(set(topic_labels).difference(set([None])))\n",
    "    # subseteamos columnas\n",
    "    tmp_artist_topics = tmp_artist_topics.loc[:, topic_labels]\n",
    "    # calculamos la media a nivel de columna\n",
    "    tmp_artist_means = tmp_artist_topics.apply(np.mean, axis=0)\n",
    "\n",
    "    if topic_label is not None:\n",
    "        tmp_artist_topics.columns=topic_label\n",
    "\n",
    "    for index, (colname, serie) in enumerate(tmp_artist_topics.iteritems()):\n",
    "        plt.subplot(len(topic_labels), 1, index + 1)\n",
    "        sns.distplot(serie)\n",
    "        sns.despine()\n",
    "        if plot_means is True:\n",
    "            plt.axvline(tmp_artist_means[index])\n",
    "\n",
    "        plt.title(colname)\n",
    "        plt.xlim(0, 1)\n",
    "        plt.xlabel('')\n",
    "        plt.tight_layout()\n",
    "\n",
    "    return tmp_artist_means"
   ]
  },
  {
   "cell_type": "markdown",
   "metadata": {},
   "source": [
    "**(R)** Probabilidades de pertenencia y gráfico correspondiente para un artista específico:"
   ]
  },
  {
   "cell_type": "code",
   "execution_count": 23,
   "metadata": {},
   "outputs": [
    {
     "data": {
      "text/plain": [
       "T: 1    0.005525\n",
       "T: 3    0.369747\n",
       "T: 4    0.036455\n",
       "T: 5    0.569606\n",
       "T: 2    0.018717\n",
       "dtype: float64"
      ]
     },
     "execution_count": 23,
     "metadata": {},
     "output_type": "execute_result"
    },
    {
     "data": {
      "image/png": "[encoded data removed]",
      "text/plain": [
       "<Figure size 460.8x316.8 with 5 Axes>"
      ]
     },
     "metadata": {
      "needs_background": "light"
     },
     "output_type": "display_data"
    }
   ],
   "source": [
    "report_artist_topic(infered_df=concatenated_df, artist='Opeth')"
   ]
  },
  {
   "cell_type": "markdown",
   "metadata": {},
   "source": [
    "**(R)** La mayor probabilidad para _Opeth_ es tópico T5, al que yo le asigné previamente _Metal_ (lo cual da razonablemente bueno)."
   ]
  },
  {
   "cell_type": "code",
   "execution_count": null,
   "metadata": {},
   "outputs": [],
   "source": []
  }
 ],
 "metadata": {
  "kernelspec": {
   "display_name": "dlatam_ds",
   "language": "python",
   "name": "dlatam_ds"
  },
  "language_info": {
   "codemirror_mode": {
    "name": "ipython",
    "version": 3
   },
   "file_extension": ".py",
   "mimetype": "text/x-python",
   "name": "python",
   "nbconvert_exporter": "python",
   "pygments_lexer": "ipython3",
   "version": "3.7.3"
  }
 },
 "nbformat": 4,
 "nbformat_minor": 4
}
