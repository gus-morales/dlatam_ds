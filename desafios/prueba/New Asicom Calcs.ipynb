{
 "cells": [
  {
   "cell_type": "code",
   "execution_count": 1,
   "metadata": {},
   "outputs": [],
   "source": [
    "import numpy as np\n",
    "import math\n",
    "from decimal import Context, setcontext, getcontext, Decimal, ROUND_HALF_EVEN"
   ]
  },
  {
   "cell_type": "code",
   "execution_count": 2,
   "metadata": {},
   "outputs": [],
   "source": [
    "myothercontext = Context(prec=7)\n",
    "setcontext(myothercontext)"
   ]
  },
  {
   "cell_type": "code",
   "execution_count": 3,
   "metadata": {},
   "outputs": [],
   "source": [
    "#Setup \n",
    "Neutral = Decimal(1)\n",
    "Annual_fix = Decimal(365/360)\n",
    "Nper_in_a_year = Decimal(1/12) #Not valid in Peru and peruvians\n",
    "Periods = Decimal(12) #Not valid in Peru and peruvians\n",
    "Significant_numbers = 4"
   ]
  },
  {
   "cell_type": "code",
   "execution_count": 4,
   "metadata": {},
   "outputs": [],
   "source": [
    "#to test\n",
    "interest = Decimal(0.0125)  #anual\n",
    "nper = 180\n",
    "grace = Decimal(6)\n",
    "insurance_monthly_fix = Decimal(3)\n",
    "property_value = Decimal(5000)\n",
    "loan = Decimal(4000)\n",
    "unsolved_factor = Decimal(1)\n",
    "credit_life_insurance_factor = Decimal(0.000068)\n",
    "credit_fire_insurance_factor = Decimal(0.00168)"
   ]
  },
  {
   "cell_type": "code",
   "execution_count": 5,
   "metadata": {},
   "outputs": [],
   "source": [
    "credit_property_insurance_factor = {\n",
    "    \"dpto\": Decimal(0.9),\n",
    "    \"casa\": Decimal(0.75),\n",
    "}"
   ]
  },
  {
   "cell_type": "code",
   "execution_count": 6,
   "metadata": {},
   "outputs": [
    {
     "name": "stdout",
     "output_type": "stream",
     "text": [
      "0.2737180\n"
     ]
    }
   ],
   "source": [
    "#aux functions only\n",
    "def thirdpow(a,b,c):\n",
    "    return pow(pow(a,b),c) #Excel does a ^ b ^ c as [(a ^ b) ^ c] instead of [a ^ (b ^ c)]\n",
    "\n",
    "def get_monthly_rate(annual_rate):\n",
    "    getcontext().rounding = ROUND_HALF_EVEN\n",
    "    return thirdpow(Neutral + annual_rate, Annual_fix, Nper_in_a_year ) - Neutral\n",
    "\n",
    "\n",
    "\n",
    "def get_life_insurance(per, loan):\n",
    "    first_period_value = 1\n",
    "    default_period_value = 2\n",
    "    return first_period_value if per == 1 else default_period_value\n",
    "\n",
    "\n",
    "\n",
    "def get_monthly_rate_amount_applied(annual_rate, grace):\n",
    "    return round(pow((Neutral + Decimal(annual_rate)), Decimal(unsolved_factor_k(grace)/Periods)) - Neutral, Significant_numbers)\n",
    "\n",
    "\n",
    "\n",
    "class SimulatedPayment:\n",
    "    def __init__(self, property_value, loan, nper, interest, grace, property_type):\n",
    "        self.interest = interest\n",
    "        self.grace = grace\n",
    "        self.nper = nper\n",
    "        self.loan = loan\n",
    "        self.property_value = property_value\n",
    "        self.property_type = property_type\n",
    "        self.payment = self.get_payment()\n",
    "        self.total = self.get_total()\n",
    "                 \n",
    "    def unsolved_factor_k(self, grace):\n",
    "        unsolved_factor = Neutral\n",
    "        for x in range(int(grace)):\n",
    "            unsolved_factor += unsolved_factor * get_monthly_rate(interest)\n",
    "        return unsolved_factor\n",
    "    \n",
    "    def get_payment(self):\n",
    "        getcontext().rounding = ROUND_HALF_EVEN\n",
    "        monthly_rate_aux = get_monthly_rate(self.interest)\n",
    "        num = self.unsolved_factor_k(int(self.grace)) * monthly_rate_aux\n",
    "        dem = Neutral - (pow((Neutral + monthly_rate_aux), self.nper * -Neutral))\n",
    "        return num / dem * loan\n",
    "    \n",
    "    credit_property_insurance_factor = {\n",
    "        \"dpto\": Decimal(0.9),\n",
    "        \"casa\": Decimal(0.75),\n",
    "    }\n",
    "    \n",
    "    def get_fire_insurance(self, per=1):\n",
    "        fire_rate = credit_fire_insurance_factor * self.property_value * \\\n",
    "                    Nper_in_a_year * self.credit_property_insurance_factor[self.property_type]\n",
    "\n",
    "        first_period_value = fire_rate * (grace + insurance_monthly_fix)\n",
    "        return first_period_value if per == 1 else fire_rate\n",
    "    \n",
    "    def get_life_insurance(self, per=2):\n",
    "        life_rate = self.unsolved_factor_k(self.grace) * self.loan * \\\n",
    "                             credit_life_insurance_factor \n",
    "        \n",
    "        first_period_value = life_rate * (self.grace + insurance_monthly_fix)\n",
    "        default_period_value = life_rate\n",
    "        return first_period_value if per == 1 else default_period_value     \n",
    "    \n",
    "    def get_total(self):\n",
    "        return self.get_payment() + self.get_fire_insurance()\n",
    "\n",
    "    def __repr__(self):\n",
    "        return f'SimulatedPayment{self.__dict__}'\n",
    "    \n",
    "credit = SimulatedPayment(property_value, loan, nper, interest, grace, \"dpto\")\n",
    "\n",
    "print(credit.get_life_insurance())\n"
   ]
  },
  {
   "cell_type": "code",
   "execution_count": null,
   "metadata": {},
   "outputs": [],
   "source": []
  }
 ],
 "metadata": {
  "kernelspec": {
   "display_name": "Python 3",
   "language": "python",
   "name": "python3"
  },
  "language_info": {
   "codemirror_mode": {
    "name": "ipython",
    "version": 3
   },
   "file_extension": ".py",
   "mimetype": "text/x-python",
   "name": "python",
   "nbconvert_exporter": "python",
   "pygments_lexer": "ipython3",
   "version": "3.7.3"
  }
 },
 "nbformat": 4,
 "nbformat_minor": 4
}
