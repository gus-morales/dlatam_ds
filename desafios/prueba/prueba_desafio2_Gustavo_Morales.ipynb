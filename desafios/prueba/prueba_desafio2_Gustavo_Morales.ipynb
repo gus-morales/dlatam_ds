{
 "cells": [
  {
   "cell_type": "markdown",
   "metadata": {},
   "source": [
    "## Prueba Fundamentos de Data Science\n",
    "###  Gustavo Morales, G10 - 21.Oct.2019"
   ]
  },
  {
   "cell_type": "markdown",
   "metadata": {},
   "source": [
    "☑ Hito 1 `04.Oct.2019` : Preliminares y Aspectos Computacionales.\\\n",
    "☐ Hito 2 `06.Oct.2019`: Descripción.\\\n",
    "☐ Hito 3: Modelación descriptiva.\\\n",
    "☐ Hito 4: Modelación predictiva.\n",
    "\n",
    "**NOTA: Considerar categorías incompletas (☐) como WIP**"
   ]
  },
  {
   "cell_type": "markdown",
   "metadata": {},
   "source": [
    "## ────── DESAFIO 2: Rendimiento escolar ──────"
   ]
  },
  {
   "cell_type": "markdown",
   "metadata": {},
   "source": [
    "**ENUNCIADO**\n",
    "\n",
    "Una escuela portuguesa requiere que se identifiquen aquellos alumnos que presentan un bajo desempeño académico, medido en el promedio final del año escolar. Además, se requiere inspeccionar una batería de preguntas asociadas a aspectos ambientales del alumno y ver si se pueden abstraer en categorías latentes."
   ]
  },
  {
   "cell_type": "markdown",
   "metadata": {},
   "source": [
    "**TIPO DE PROBLEMA**\n",
    "\n",
    "* Para poder resolver el problema de identificación de alumnos con bajo desempeño académico, se generará un modelo el cual utilizará como base los registros sociodemográficos y conductuales de los alumnos que han sido facilitados por dos escuelas para así poder realizar perfiles. La idea es generar un algoritmo de clasificación para poder obtener información usando la batería de preguntas realizada al alumno sobre aspectos ambientales.\n",
    "\n",
    "* Se utilizarán todos los regresores (modelo saturado) para luego definir mediante correlaciones qué variables son fundamentales para nuestro modelo (modelo depurado):\n",
    "\n",
    "    $G1 = \\beta_0 + \\sum_{j=1}^{N}{\\beta_j * X_ij + \\varepsilon_i}$\n",
    "\n",
    "    $G2 = \\beta_0 + \\sum_{j=1}^{N}{\\beta_j * X_ij + \\varepsilon_i}$\n",
    "\n",
    "    $G3 = \\beta_0 + \\sum_{j=1}^{N}{\\beta_j * X_ij + \\varepsilon_i}$\n",
    "\n",
    "* Para resolver este problema se generará un modelo de clasificación ya visto en la sección de dimensionalidad. Para esto se aplicará una regresión que identificará alumnos que presentan un bajo desempeño académico dependiendo de ciertos factores.\n",
    "\n",
    "* Finalmente mediante modelación predictiva, se generará un modelo para predecir las notas de G3 (promedio final)."
   ]
  },
  {
   "cell_type": "markdown",
   "metadata": {},
   "source": [
    "**JUSTIFICACIÓN METRICAS**\n",
    "\n",
    "Los tipos de gráficos que usaremos para evaluar tanto modelos como datos son:\n",
    "* Gráfico de cajas, `boxplot`;\n",
    "* Histograma, `histogram`;\n",
    "* Gráfico de puntos `scatterplot` (o similares);\n",
    "* Mapa de calor, `heatmap`.\n",
    "\n",
    "La interpretación de diversos gráficos ayudará a visualizar y comprender el comportamiento tanto de los datos como de los modelos.\n",
    "\n",
    "Para el caso de regresión se utilizarán las siguientes herramientas:\n",
    "* Test de hipótesis nula\n",
    "* Nivel de significancia (al 95%)\n",
    "* p-values\n",
    "* Coeficiente de correlación\n",
    "* $R^{2}$\n",
    "\n",
    "Dichas métricas contribuyen a evaluar una regresión. \n",
    "\n",
    "Dentro de la inferencia estadística, un contraste de hipótesis (también denominado test de hipótesis o prueba de significación) es un procedimiento para juzgar si una propiedad que se supone en una población estadística es compatible con lo observado en una muestra de dicha población. Se denomina hipótesis nula $H_0$ a la hipótesis que se desea contrastar. La hipótesis $H_0$ nunca se considera probada, aunque puede ser rechazada por los datos. El nivel de significancia se aplicará para definir los límites extremos de los resultados de los tests y de esta manera establecer un criterio cuantitativo para rechazar la hipótesis nula. Esto se corresponde directamente con el p-value.\n",
    "\n",
    "El coeficiente de correlación mide la \"intensidad\" de una correlación entre variables, y contribuye a definir regresores significativos para el modelo.\n",
    "\n",
    "Finalmente, el $R^{2}$ es una medida estadística que representa la proporción de la varianza de una variable dependiente que es explicada por una variable independiente (o más variables) en un modelo de regresión. Mientras el coeficiente de correlación cuantifica qué tan correlacionadas están dos variables, $R^2$ explica hasta qué punto la varianza de una variable explica la varianza de una segunda variable. Así, si $R^2=0.5$, entonces aproximadamente la mitad de la observación observada puede ser explicada o atribuida a los _inputs_ del modelo.\n",
    "\n",
    "Para medir la aplicabilidad de la reducción de dimensionalidad sobre la base de datos, se utilizarán los tests de:\n",
    "* Esferacidad de Bartlett\n",
    "* Prueba de Kaiser-Meyer-Olkin \n",
    "\n",
    "La esferacidad de Bartlett busca testear la hipótesis (nula) de que la matriz de correlaciones es una matriz identidad (es decir, que no existe covarianza entre ítems). Esto es relevante porque al no existir covarianza, no sería práctico reducir dimensiones. Exigiremos una significancia de un 95% para indicar evidencia en contra de la hipótesis nula.\n",
    "\n",
    "Por otro lado, la prueba KMO se aplica para discriminar factores latentes. Como consenso, valores mayores a 0.7 indican que existe al menos un factor latente."
   ]
  },
  {
   "cell_type": "markdown",
   "metadata": {},
   "source": [
    "**JUSTIFICACIÓN DE LIBRERIAS**\n",
    "\n",
    "Utilizaré `pandas` y `numpy` para manejar los datos, transformarlos y prepararlos para el modelamiento, en conjunto con `matplotlib.pyplot` y `seaborn`, útiles para realizar gráficos pertinentes a la visualización de los datos y de los resultados. La librería `statsmodels` sirve para analizar estadísticamente la significancia de las variables en el modelamiento. A su vez, `factor_analyzer` nos dará las herramientas para el algoritmo de reducción de dimensionalidad, y sus respectivos factores latentes. Luego, `sklearn.linear_model` y `sklearn.model_selection` contienen los métodos de modelamiento predictivo, en particular `LinearRegression()` para la regresión lineal, y `train_test_split()` para generar las submuestras; mientras que `sklearn.metrics` a su vez contiene todas las métricas para cuantificar el rendimiento del modelo. Adicionalmente, `missingno` es útil para visualizar datos inválidos (NaN)."
   ]
  },
  {
   "cell_type": "markdown",
   "metadata": {},
   "source": [
    "**PREPROCESAMIENTO y RECODIFICACION DE DATOS**"
   ]
  },
  {
   "cell_type": "code",
   "execution_count": 1,
   "metadata": {},
   "outputs": [],
   "source": [
    "import numpy as np\n",
    "import pandas as pd\n",
    "import matplotlib.pyplot as plt\n",
    "from matplotlib import rcParams\n",
    "import seaborn as sns\n",
    "import missingno as msno\n",
    "import statsmodels.formula.api as smf\n",
    "import factor_analyzer as factor\n",
    "from sklearn.linear_model import LinearRegression\n",
    "from sklearn.metrics import mean_squared_error, r2_score\n",
    "from sklearn.model_selection import train_test_split\n",
    "from support import *  # local support functions\n",
    "plt.style.use('seaborn-notebook')"
   ]
  },
  {
   "cell_type": "markdown",
   "metadata": {},
   "source": [
    "Primero veamos qué tiene el dataset:"
   ]
  },
  {
   "cell_type": "code",
   "execution_count": 2,
   "metadata": {},
   "outputs": [
    {
     "data": {
      "text/html": [
       "<div>\n",
       "<style scoped>\n",
       "    .dataframe tbody tr th:only-of-type {\n",
       "        vertical-align: middle;\n",
       "    }\n",
       "\n",
       "    .dataframe tbody tr th {\n",
       "        vertical-align: top;\n",
       "    }\n",
       "\n",
       "    .dataframe thead th {\n",
       "        text-align: right;\n",
       "    }\n",
       "</style>\n",
       "<table border=\"1\" class=\"dataframe\">\n",
       "  <thead>\n",
       "    <tr style=\"text-align: right;\">\n",
       "      <th></th>\n",
       "      <th>school</th>\n",
       "      <th>sex</th>\n",
       "      <th>age</th>\n",
       "      <th>address</th>\n",
       "      <th>famsize</th>\n",
       "      <th>Pstatus</th>\n",
       "      <th>Medu</th>\n",
       "      <th>Fedu</th>\n",
       "      <th>Mjob</th>\n",
       "      <th>Fjob</th>\n",
       "      <th>...</th>\n",
       "      <th>famrel</th>\n",
       "      <th>freetime</th>\n",
       "      <th>goout</th>\n",
       "      <th>Dalc</th>\n",
       "      <th>Walc</th>\n",
       "      <th>health</th>\n",
       "      <th>absences</th>\n",
       "      <th>G1</th>\n",
       "      <th>G2</th>\n",
       "      <th>G3</th>\n",
       "    </tr>\n",
       "  </thead>\n",
       "  <tbody>\n",
       "    <tr>\n",
       "      <th>327</th>\n",
       "      <td>GP</td>\n",
       "      <td>M</td>\n",
       "      <td>\"17\"</td>\n",
       "      <td>R</td>\n",
       "      <td>GT3</td>\n",
       "      <td>T</td>\n",
       "      <td>2</td>\n",
       "      <td>nulidade</td>\n",
       "      <td>services</td>\n",
       "      <td>other</td>\n",
       "      <td>...</td>\n",
       "      <td>4</td>\n",
       "      <td>4</td>\n",
       "      <td>\"5\"</td>\n",
       "      <td>5</td>\n",
       "      <td>5</td>\n",
       "      <td>\"4\"</td>\n",
       "      <td>8</td>\n",
       "      <td>11</td>\n",
       "      <td>10</td>\n",
       "      <td>10</td>\n",
       "    </tr>\n",
       "    <tr>\n",
       "      <th>295</th>\n",
       "      <td>GP</td>\n",
       "      <td>M</td>\n",
       "      <td>\"17\"</td>\n",
       "      <td>U</td>\n",
       "      <td>GT3</td>\n",
       "      <td>T</td>\n",
       "      <td>3</td>\n",
       "      <td>3</td>\n",
       "      <td>health</td>\n",
       "      <td>other</td>\n",
       "      <td>...</td>\n",
       "      <td>4</td>\n",
       "      <td>4</td>\n",
       "      <td>\"3\"</td>\n",
       "      <td>1</td>\n",
       "      <td>3</td>\n",
       "      <td>\"5\"</td>\n",
       "      <td>4</td>\n",
       "      <td>14</td>\n",
       "      <td>12</td>\n",
       "      <td>11</td>\n",
       "    </tr>\n",
       "    <tr>\n",
       "      <th>25</th>\n",
       "      <td>GP</td>\n",
       "      <td>F</td>\n",
       "      <td>\"16\"</td>\n",
       "      <td>U</td>\n",
       "      <td>GT3</td>\n",
       "      <td>T</td>\n",
       "      <td>2</td>\n",
       "      <td>2</td>\n",
       "      <td>services</td>\n",
       "      <td>services</td>\n",
       "      <td>...</td>\n",
       "      <td>1</td>\n",
       "      <td>2</td>\n",
       "      <td>\"2\"</td>\n",
       "      <td>1</td>\n",
       "      <td>3</td>\n",
       "      <td>\"5\"</td>\n",
       "      <td>14</td>\n",
       "      <td>6</td>\n",
       "      <td>9</td>\n",
       "      <td>8</td>\n",
       "    </tr>\n",
       "    <tr>\n",
       "      <th>378</th>\n",
       "      <td>MS</td>\n",
       "      <td>F</td>\n",
       "      <td>\"18\"</td>\n",
       "      <td>U</td>\n",
       "      <td>GT3</td>\n",
       "      <td>T</td>\n",
       "      <td>3</td>\n",
       "      <td>3</td>\n",
       "      <td>other</td>\n",
       "      <td>other</td>\n",
       "      <td>...</td>\n",
       "      <td>4</td>\n",
       "      <td>1</td>\n",
       "      <td>\"3\"</td>\n",
       "      <td>1</td>\n",
       "      <td>2</td>\n",
       "      <td>\"1\"</td>\n",
       "      <td>0</td>\n",
       "      <td>15</td>\n",
       "      <td>15</td>\n",
       "      <td>15</td>\n",
       "    </tr>\n",
       "    <tr>\n",
       "      <th>330</th>\n",
       "      <td>GP</td>\n",
       "      <td>M</td>\n",
       "      <td>\"18\"</td>\n",
       "      <td>U</td>\n",
       "      <td>LE3</td>\n",
       "      <td>T</td>\n",
       "      <td>2</td>\n",
       "      <td>2</td>\n",
       "      <td>other</td>\n",
       "      <td>other</td>\n",
       "      <td>...</td>\n",
       "      <td>4</td>\n",
       "      <td>5</td>\n",
       "      <td>\"5\"</td>\n",
       "      <td>2</td>\n",
       "      <td>4</td>\n",
       "      <td>\"5\"</td>\n",
       "      <td>2</td>\n",
       "      <td>9</td>\n",
       "      <td>8</td>\n",
       "      <td>8</td>\n",
       "    </tr>\n",
       "  </tbody>\n",
       "</table>\n",
       "<p>5 rows × 33 columns</p>\n",
       "</div>"
      ],
      "text/plain": [
       "    school sex   age address famsize Pstatus Medu      Fedu      Mjob  \\\n",
       "327     GP   M  \"17\"       R     GT3       T    2  nulidade  services   \n",
       "295     GP   M  \"17\"       U     GT3       T    3         3    health   \n",
       "25      GP   F  \"16\"       U     GT3       T    2         2  services   \n",
       "378     MS   F  \"18\"       U     GT3       T    3         3     other   \n",
       "330     GP   M  \"18\"       U     LE3       T    2         2     other   \n",
       "\n",
       "         Fjob  ... famrel freetime goout Dalc Walc health absences  G1  G2  G3  \n",
       "327     other  ...      4        4   \"5\"    5    5    \"4\"        8  11  10  10  \n",
       "295     other  ...      4        4   \"3\"    1    3    \"5\"        4  14  12  11  \n",
       "25   services  ...      1        2   \"2\"    1    3    \"5\"       14   6   9   8  \n",
       "378     other  ...      4        1   \"3\"    1    2    \"1\"        0  15  15  15  \n",
       "330     other  ...      4        5   \"5\"    2    4    \"5\"        2   9   8   8  \n",
       "\n",
       "[5 rows x 33 columns]"
      ]
     },
     "execution_count": 2,
     "metadata": {},
     "output_type": "execute_result"
    }
   ],
   "source": [
    "df = pd.read_csv('students.csv', sep='|')\n",
    "df = df.drop(columns = \"Unnamed: 0\")\n",
    "df.sample(n=5)"
   ]
  },
  {
   "cell_type": "markdown",
   "metadata": {},
   "source": [
    "Ahora convertiré los valores de texto que corresponden a valores NaN, y los visualizaré:"
   ]
  },
  {
   "cell_type": "code",
   "execution_count": 3,
   "metadata": {},
   "outputs": [],
   "source": [
    "df = df.replace('nulidade', np.nan)\n",
    "df = df.replace('sem validade', np.nan)\n",
    "df = df.replace('zero', np.nan)"
   ]
  },
  {
   "cell_type": "code",
   "execution_count": 4,
   "metadata": {},
   "outputs": [
    {
     "name": "stdout",
     "output_type": "stream",
     "text": [
      "<class 'pandas.core.frame.DataFrame'>\n",
      "RangeIndex: 395 entries, 0 to 394\n",
      "Data columns (total 33 columns):\n",
      "school        390 non-null object\n",
      "sex           392 non-null object\n",
      "age           391 non-null object\n",
      "address       393 non-null object\n",
      "famsize       391 non-null object\n",
      "Pstatus       389 non-null object\n",
      "Medu          392 non-null object\n",
      "Fedu          390 non-null object\n",
      "Mjob          389 non-null object\n",
      "Fjob          395 non-null object\n",
      "reason        391 non-null object\n",
      "guardian      391 non-null object\n",
      "traveltime    392 non-null object\n",
      "studytime     390 non-null object\n",
      "failures      390 non-null object\n",
      "schoolsup     387 non-null object\n",
      "famsup        390 non-null object\n",
      "paid          394 non-null object\n",
      "activities    390 non-null object\n",
      "nursery       389 non-null object\n",
      "higher        389 non-null object\n",
      "internet      392 non-null object\n",
      "romantic      393 non-null object\n",
      "famrel        390 non-null object\n",
      "freetime      393 non-null object\n",
      "goout         390 non-null object\n",
      "Dalc          392 non-null object\n",
      "Walc          390 non-null object\n",
      "health        391 non-null object\n",
      "absences      391 non-null object\n",
      "G1            391 non-null object\n",
      "G2            395 non-null int64\n",
      "G3            392 non-null object\n",
      "dtypes: int64(1), object(32)\n",
      "memory usage: 102.0+ KB\n"
     ]
    }
   ],
   "source": [
    "df.info()"
   ]
  },
  {
   "cell_type": "code",
   "execution_count": 5,
   "metadata": {},
   "outputs": [
    {
     "data": {
      "image/png": "[encoded data removed]",
      "text/plain": [
       "<Figure size 1800x720 with 2 Axes>"
      ]
     },
     "metadata": {
      "needs_background": "light"
     },
     "output_type": "display_data"
    }
   ],
   "source": [
    "msno.matrix(df);"
   ]
  },
  {
   "cell_type": "code",
   "execution_count": 6,
   "metadata": {},
   "outputs": [
    {
     "data": {
      "text/plain": [
       "schoolsup     2.0\n",
       "higher        1.5\n",
       "Pstatus       1.5\n",
       "Mjob          1.5\n",
       "nursery       1.5\n",
       "famsup        1.3\n",
       "Fedu          1.3\n",
       "studytime     1.3\n",
       "failures      1.3\n",
       "activities    1.3\n",
       "school        1.3\n",
       "famrel        1.3\n",
       "goout         1.3\n",
       "Walc          1.3\n",
       "reason        1.0\n",
       "health        1.0\n",
       "age           1.0\n",
       "famsize       1.0\n",
       "G1            1.0\n",
       "guardian      1.0\n",
       "absences      1.0\n",
       "sex           0.8\n",
       "Medu          0.8\n",
       "internet      0.8\n",
       "traveltime    0.8\n",
       "Dalc          0.8\n",
       "G3            0.8\n",
       "romantic      0.5\n",
       "address       0.5\n",
       "freetime      0.5\n",
       "paid          0.3\n",
       "Fjob          0.0\n",
       "G2            0.0\n",
       "dtype: float64"
      ]
     },
     "execution_count": 6,
     "metadata": {},
     "output_type": "execute_result"
    }
   ],
   "source": [
    "df.isna().mean().sort_values(ascending=False).round(3)*100"
   ]
  },
  {
   "cell_type": "markdown",
   "metadata": {},
   "source": [
    "Ahora procedo a eliminar los valores inválidos:"
   ]
  },
  {
   "cell_type": "code",
   "execution_count": 7,
   "metadata": {},
   "outputs": [
    {
     "data": {
      "image/png": "[encoded data removed]",
      "text/plain": [
       "<Figure size 1800x720 with 2 Axes>"
      ]
     },
     "metadata": {
      "needs_background": "light"
     },
     "output_type": "display_data"
    }
   ],
   "source": [
    "df = df.dropna().reset_index(drop=True)\n",
    "msno.matrix(df);"
   ]
  },
  {
   "cell_type": "markdown",
   "metadata": {},
   "source": [
    "Notar que en el objeto `df` hay tres columnas que contienen valores numéricos codificados como tipo `string`, por lo tanto los transformamos a tipo numérico:"
   ]
  },
  {
   "cell_type": "code",
   "execution_count": 8,
   "metadata": {},
   "outputs": [],
   "source": [
    "df['age'].replace(regex=True, inplace=True, to_replace = r'\\D', value = r'')\n",
    "df['goout'].replace(regex=True, inplace=True, to_replace = r'\\D', value = r'')\n",
    "df['health'].replace(regex=True, inplace=True, to_replace = r'\\D', value = r'')"
   ]
  },
  {
   "cell_type": "code",
   "execution_count": 9,
   "metadata": {},
   "outputs": [
    {
     "name": "stdout",
     "output_type": "stream",
     "text": [
      "<class 'pandas.core.frame.DataFrame'>\n",
      "RangeIndex: 284 entries, 0 to 283\n",
      "Data columns (total 33 columns):\n",
      "school        284 non-null object\n",
      "sex           284 non-null object\n",
      "age           284 non-null object\n",
      "address       284 non-null object\n",
      "famsize       284 non-null object\n",
      "Pstatus       284 non-null object\n",
      "Medu          284 non-null object\n",
      "Fedu          284 non-null object\n",
      "Mjob          284 non-null object\n",
      "Fjob          284 non-null object\n",
      "reason        284 non-null object\n",
      "guardian      284 non-null object\n",
      "traveltime    284 non-null object\n",
      "studytime     284 non-null object\n",
      "failures      284 non-null object\n",
      "schoolsup     284 non-null object\n",
      "famsup        284 non-null object\n",
      "paid          284 non-null object\n",
      "activities    284 non-null object\n",
      "nursery       284 non-null object\n",
      "higher        284 non-null object\n",
      "internet      284 non-null object\n",
      "romantic      284 non-null object\n",
      "famrel        284 non-null object\n",
      "freetime      284 non-null object\n",
      "goout         284 non-null object\n",
      "Dalc          284 non-null object\n",
      "Walc          284 non-null object\n",
      "health        284 non-null object\n",
      "absences      284 non-null object\n",
      "G1            284 non-null object\n",
      "G2            284 non-null int64\n",
      "G3            284 non-null object\n",
      "dtypes: int64(1), object(32)\n",
      "memory usage: 73.3+ KB\n"
     ]
    }
   ],
   "source": [
    "df.info()"
   ]
  },
  {
   "cell_type": "code",
   "execution_count": 10,
   "metadata": {},
   "outputs": [],
   "source": [
    "cols_to_int = ['age', 'Medu', 'Fedu', 'traveltime', 'studytime', 'failures', 'famrel',\n",
    "               'freetime', 'goout', 'Dalc', 'Walc', 'health', 'absences', 'G1', 'G3']"
   ]
  },
  {
   "cell_type": "code",
   "execution_count": 11,
   "metadata": {},
   "outputs": [],
   "source": [
    "for col in df.columns.tolist():\n",
    "    if col in cols_to_int:\n",
    "        df[col] = df[col].astype(int)"
   ]
  },
  {
   "cell_type": "code",
   "execution_count": 12,
   "metadata": {},
   "outputs": [
    {
     "name": "stdout",
     "output_type": "stream",
     "text": [
      "<class 'pandas.core.frame.DataFrame'>\n",
      "RangeIndex: 284 entries, 0 to 283\n",
      "Data columns (total 33 columns):\n",
      "school        284 non-null object\n",
      "sex           284 non-null object\n",
      "age           284 non-null int64\n",
      "address       284 non-null object\n",
      "famsize       284 non-null object\n",
      "Pstatus       284 non-null object\n",
      "Medu          284 non-null int64\n",
      "Fedu          284 non-null int64\n",
      "Mjob          284 non-null object\n",
      "Fjob          284 non-null object\n",
      "reason        284 non-null object\n",
      "guardian      284 non-null object\n",
      "traveltime    284 non-null int64\n",
      "studytime     284 non-null int64\n",
      "failures      284 non-null int64\n",
      "schoolsup     284 non-null object\n",
      "famsup        284 non-null object\n",
      "paid          284 non-null object\n",
      "activities    284 non-null object\n",
      "nursery       284 non-null object\n",
      "higher        284 non-null object\n",
      "internet      284 non-null object\n",
      "romantic      284 non-null object\n",
      "famrel        284 non-null int64\n",
      "freetime      284 non-null int64\n",
      "goout         284 non-null int64\n",
      "Dalc          284 non-null int64\n",
      "Walc          284 non-null int64\n",
      "health        284 non-null int64\n",
      "absences      284 non-null int64\n",
      "G1            284 non-null int64\n",
      "G2            284 non-null int64\n",
      "G3            284 non-null int64\n",
      "dtypes: int64(16), object(17)\n",
      "memory usage: 73.3+ KB\n"
     ]
    }
   ],
   "source": [
    "df.info()"
   ]
  },
  {
   "cell_type": "markdown",
   "metadata": {},
   "source": [
    "Ahora procedemos a binarizar las columnas del dataframe, tanto binarias como con múltiples categorías:"
   ]
  },
  {
   "cell_type": "code",
   "execution_count": 13,
   "metadata": {},
   "outputs": [],
   "source": [
    "df_backup = df.copy()\n",
    "binarize_binary(df)"
   ]
  },
  {
   "cell_type": "code",
   "execution_count": 14,
   "metadata": {},
   "outputs": [
    {
     "data": {
      "text/html": [
       "<div>\n",
       "<style scoped>\n",
       "    .dataframe tbody tr th:only-of-type {\n",
       "        vertical-align: middle;\n",
       "    }\n",
       "\n",
       "    .dataframe tbody tr th {\n",
       "        vertical-align: top;\n",
       "    }\n",
       "\n",
       "    .dataframe thead th {\n",
       "        text-align: right;\n",
       "    }\n",
       "</style>\n",
       "<table border=\"1\" class=\"dataframe\">\n",
       "  <thead>\n",
       "    <tr style=\"text-align: right;\">\n",
       "      <th></th>\n",
       "      <th>school</th>\n",
       "      <th>sex</th>\n",
       "      <th>age</th>\n",
       "      <th>address</th>\n",
       "      <th>famsize</th>\n",
       "      <th>Pstatus</th>\n",
       "      <th>Medu</th>\n",
       "      <th>Fedu</th>\n",
       "      <th>Mjob</th>\n",
       "      <th>Fjob</th>\n",
       "      <th>...</th>\n",
       "      <th>famrel</th>\n",
       "      <th>freetime</th>\n",
       "      <th>goout</th>\n",
       "      <th>Dalc</th>\n",
       "      <th>Walc</th>\n",
       "      <th>health</th>\n",
       "      <th>absences</th>\n",
       "      <th>G1</th>\n",
       "      <th>G2</th>\n",
       "      <th>G3</th>\n",
       "    </tr>\n",
       "  </thead>\n",
       "  <tbody>\n",
       "    <tr>\n",
       "      <th>70</th>\n",
       "      <td>0</td>\n",
       "      <td>0</td>\n",
       "      <td>15</td>\n",
       "      <td>1</td>\n",
       "      <td>0</td>\n",
       "      <td>0</td>\n",
       "      <td>1</td>\n",
       "      <td>1</td>\n",
       "      <td>at_home</td>\n",
       "      <td>other</td>\n",
       "      <td>...</td>\n",
       "      <td>3</td>\n",
       "      <td>1</td>\n",
       "      <td>2</td>\n",
       "      <td>1</td>\n",
       "      <td>1</td>\n",
       "      <td>1</td>\n",
       "      <td>2</td>\n",
       "      <td>7</td>\n",
       "      <td>10</td>\n",
       "      <td>10</td>\n",
       "    </tr>\n",
       "    <tr>\n",
       "      <th>252</th>\n",
       "      <td>1</td>\n",
       "      <td>0</td>\n",
       "      <td>17</td>\n",
       "      <td>1</td>\n",
       "      <td>0</td>\n",
       "      <td>0</td>\n",
       "      <td>4</td>\n",
       "      <td>4</td>\n",
       "      <td>teacher</td>\n",
       "      <td>services</td>\n",
       "      <td>...</td>\n",
       "      <td>4</td>\n",
       "      <td>3</td>\n",
       "      <td>3</td>\n",
       "      <td>1</td>\n",
       "      <td>2</td>\n",
       "      <td>5</td>\n",
       "      <td>4</td>\n",
       "      <td>12</td>\n",
       "      <td>13</td>\n",
       "      <td>13</td>\n",
       "    </tr>\n",
       "    <tr>\n",
       "      <th>53</th>\n",
       "      <td>0</td>\n",
       "      <td>0</td>\n",
       "      <td>15</td>\n",
       "      <td>1</td>\n",
       "      <td>0</td>\n",
       "      <td>0</td>\n",
       "      <td>1</td>\n",
       "      <td>1</td>\n",
       "      <td>other</td>\n",
       "      <td>other</td>\n",
       "      <td>...</td>\n",
       "      <td>3</td>\n",
       "      <td>3</td>\n",
       "      <td>4</td>\n",
       "      <td>2</td>\n",
       "      <td>4</td>\n",
       "      <td>5</td>\n",
       "      <td>2</td>\n",
       "      <td>8</td>\n",
       "      <td>6</td>\n",
       "      <td>5</td>\n",
       "    </tr>\n",
       "    <tr>\n",
       "      <th>159</th>\n",
       "      <td>0</td>\n",
       "      <td>0</td>\n",
       "      <td>16</td>\n",
       "      <td>0</td>\n",
       "      <td>0</td>\n",
       "      <td>0</td>\n",
       "      <td>2</td>\n",
       "      <td>3</td>\n",
       "      <td>services</td>\n",
       "      <td>teacher</td>\n",
       "      <td>...</td>\n",
       "      <td>2</td>\n",
       "      <td>3</td>\n",
       "      <td>1</td>\n",
       "      <td>1</td>\n",
       "      <td>1</td>\n",
       "      <td>3</td>\n",
       "      <td>2</td>\n",
       "      <td>16</td>\n",
       "      <td>16</td>\n",
       "      <td>17</td>\n",
       "    </tr>\n",
       "    <tr>\n",
       "      <th>260</th>\n",
       "      <td>1</td>\n",
       "      <td>1</td>\n",
       "      <td>18</td>\n",
       "      <td>0</td>\n",
       "      <td>1</td>\n",
       "      <td>0</td>\n",
       "      <td>4</td>\n",
       "      <td>4</td>\n",
       "      <td>teacher</td>\n",
       "      <td>services</td>\n",
       "      <td>...</td>\n",
       "      <td>4</td>\n",
       "      <td>2</td>\n",
       "      <td>2</td>\n",
       "      <td>2</td>\n",
       "      <td>2</td>\n",
       "      <td>5</td>\n",
       "      <td>0</td>\n",
       "      <td>13</td>\n",
       "      <td>13</td>\n",
       "      <td>13</td>\n",
       "    </tr>\n",
       "  </tbody>\n",
       "</table>\n",
       "<p>5 rows × 33 columns</p>\n",
       "</div>"
      ],
      "text/plain": [
       "     school  sex  age  address  famsize  Pstatus  Medu  Fedu      Mjob  \\\n",
       "70        0    0   15        1        0        0     1     1   at_home   \n",
       "252       1    0   17        1        0        0     4     4   teacher   \n",
       "53        0    0   15        1        0        0     1     1     other   \n",
       "159       0    0   16        0        0        0     2     3  services   \n",
       "260       1    1   18        0        1        0     4     4   teacher   \n",
       "\n",
       "         Fjob  ... famrel freetime  goout  Dalc  Walc  health  absences  G1  \\\n",
       "70      other  ...      3        1      2     1     1       1         2   7   \n",
       "252  services  ...      4        3      3     1     2       5         4  12   \n",
       "53      other  ...      3        3      4     2     4       5         2   8   \n",
       "159   teacher  ...      2        3      1     1     1       3         2  16   \n",
       "260  services  ...      4        2      2     2     2       5         0  13   \n",
       "\n",
       "     G2  G3  \n",
       "70   10  10  \n",
       "252  13  13  \n",
       "53    6   5  \n",
       "159  16  17  \n",
       "260  13  13  \n",
       "\n",
       "[5 rows x 33 columns]"
      ]
     },
     "execution_count": 14,
     "metadata": {},
     "output_type": "execute_result"
    }
   ],
   "source": [
    "df.sample(5)"
   ]
  },
  {
   "cell_type": "code",
   "execution_count": 15,
   "metadata": {},
   "outputs": [],
   "source": [
    "cols = binarize(df)\n",
    "df.drop(columns=cols, inplace=True)"
   ]
  },
  {
   "cell_type": "code",
   "execution_count": 16,
   "metadata": {},
   "outputs": [
    {
     "name": "stdout",
     "output_type": "stream",
     "text": [
      "<class 'pandas.core.frame.DataFrame'>\n",
      "RangeIndex: 284 entries, 0 to 283\n",
      "Data columns (total 42 columns):\n",
      "school                   284 non-null int64\n",
      "sex                      284 non-null int64\n",
      "age                      284 non-null int64\n",
      "address                  284 non-null int64\n",
      "famsize                  284 non-null int64\n",
      "Pstatus                  284 non-null int64\n",
      "Medu                     284 non-null int64\n",
      "Fedu                     284 non-null int64\n",
      "traveltime               284 non-null int64\n",
      "studytime                284 non-null int64\n",
      "failures                 284 non-null int64\n",
      "schoolsup                284 non-null int64\n",
      "famsup                   284 non-null int64\n",
      "paid                     284 non-null int64\n",
      "activities               284 non-null int64\n",
      "nursery                  284 non-null int64\n",
      "higher                   284 non-null int64\n",
      "internet                 284 non-null int64\n",
      "romantic                 284 non-null int64\n",
      "famrel                   284 non-null int64\n",
      "freetime                 284 non-null int64\n",
      "goout                    284 non-null int64\n",
      "Dalc                     284 non-null int64\n",
      "Walc                     284 non-null int64\n",
      "health                   284 non-null int64\n",
      "absences                 284 non-null int64\n",
      "G1                       284 non-null int64\n",
      "G2                       284 non-null int64\n",
      "G3                       284 non-null int64\n",
      "bin_Mjob_services        284 non-null int64\n",
      "bin_Mjob_teacher         284 non-null int64\n",
      "bin_Mjob_at_home         284 non-null int64\n",
      "bin_Mjob_health          284 non-null int64\n",
      "bin_Fjob_services        284 non-null int64\n",
      "bin_Fjob_teacher         284 non-null int64\n",
      "bin_Fjob_health          284 non-null int64\n",
      "bin_Fjob_at_home         284 non-null int64\n",
      "bin_reason_home          284 non-null int64\n",
      "bin_reason_reputation    284 non-null int64\n",
      "bin_reason_other         284 non-null int64\n",
      "bin_guardian_father      284 non-null int64\n",
      "bin_guardian_other       284 non-null int64\n",
      "dtypes: int64(42)\n",
      "memory usage: 93.3 KB\n"
     ]
    }
   ],
   "source": [
    "df.info()"
   ]
  },
  {
   "cell_type": "markdown",
   "metadata": {},
   "source": [
    "## ────── FIN HITO 1 ──────"
   ]
  },
  {
   "cell_type": "code",
   "execution_count": null,
   "metadata": {},
   "outputs": [],
   "source": []
  }
 ],
 "metadata": {
  "kernelspec": {
   "display_name": "dlatam_ds",
   "language": "python",
   "name": "dlatam_ds"
  },
  "language_info": {
   "codemirror_mode": {
    "name": "ipython",
    "version": 3
   },
   "file_extension": ".py",
   "mimetype": "text/x-python",
   "name": "python",
   "nbconvert_exporter": "python",
   "pygments_lexer": "ipython3",
   "version": "3.7.3"
  }
 },
 "nbformat": 4,
 "nbformat_minor": 4
}
