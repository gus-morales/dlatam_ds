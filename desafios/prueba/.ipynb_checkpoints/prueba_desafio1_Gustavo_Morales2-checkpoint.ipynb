{
 "cells": [
  {
   "cell_type": "markdown",
   "metadata": {},
   "source": [
    "## Prueba Fundamentos de Data Science\n",
    "###  Gustavo Morales, G10 - 21.Oct.2019"
   ]
  },
  {
   "cell_type": "markdown",
   "metadata": {},
   "source": [
    "☑ Hito 1: Preliminares y Aspectos Computacionales.\n",
    "\n",
    "☐ Hito 2: Descripción.\n",
    "\n",
    "☐ Hito 3: Modelación descriptiva.\n",
    "\n",
    "☐ Hito 4: Modelación predictiva.\n",
    "\n",
    "**NOTA: Considerar categorías incompletas (☐) como WIP**"
   ]
  },
  {
   "cell_type": "markdown",
   "metadata": {},
   "source": [
    "### DESAFIO 1"
   ]
  },
  {
   "cell_type": "markdown",
   "metadata": {},
   "source": [
    "**ENUNCIADO**\n",
    "\n",
    "Usted trabaja para un organismo no gubernamental que está interesado en las dinámicas socioeconómicas que determinan la desigualdad de ingreso y la erradicación de la pobreza extrema, enmarcado dentro de los objetivos del desarrollo del nuevo milenio del Programa de las Naciones Unidas para el Desarrollo. Le encomiendan el desarrollo de un modelo predictivo sobre la probabilidad que un individuo presente salarios por sobre o bajo los 50.000 dólares anuales, en base a una serie de atributos sociodemográficos."
   ]
  },
  {
   "cell_type": "markdown",
   "metadata": {},
   "source": [
    "**TIPO DE PROBLEMA** → Predicción usando técnicas de aprendizaje de máquinas. La variable objetivo es binaria, y la idea es hacer al menos tres modelos que sean capaz de predecir la ocurrencia de la misma basada en una matriz de atributos sociodemográficos."
   ]
  },
  {
   "cell_type": "markdown",
   "metadata": {},
   "source": [
    "**JUSTIFICACIÓN METRICAS**\n",
    "\n",
    "`precision`, porque es la probabilidad de que instancias positivas sean efectivamente predichas como positivas, es decir, es una medida de la calidad del modelo;\n",
    "\n",
    "`sensitivity` o `recall`, porque hace referencia a cuántas de las mediciones que son positivas el modelo es capaz de capturar etiquetándolas como positivas, es decir, es una medida de la completitud del modelo;\n",
    "\n",
    "`accuracy`, porque es la fracción de predicciones correctas entre el número total de registros, es decir, es una medida intuitiva del poder de predicción del modelo;\n",
    "\n",
    "`F1-score`, porque combina de manera razonable `precision` y `sensitivity`, es decir, es una medida de qué tan robusto es el modelo como un todo; y\n",
    "\n",
    "`AUC`, porque el área bajo la curva ROC es una buena medida de cuán bien se pueden discriminar los casos positivos de los negativos, reduciendo los errores Tipo I y II.\n",
    "\n",
    "Finalmente mostraré la `confusion matrix`, para poder visualizar las posibles correlaciones entre los atributos del modelo."
   ]
  },
  {
   "cell_type": "markdown",
   "metadata": {},
   "source": [
    "**JUSTIFICACIÓN DE LIBRERIAS**\n",
    "\n",
    "`pandas`, `numpy`: para poder manejar los datos, transformarlos y prepararlos para el modelamiento.\n",
    "\n",
    "`matplotlib.pyplot`, `seaborn`: para poder realizar gráficos pertinentes a la visualización de los datos y de los resultados.\n",
    "\n",
    "`sklearn`: para poder aplicar las técnicas de modelamiento predictivo via técnicas de _machine learning_."
   ]
  },
  {
   "cell_type": "markdown",
   "metadata": {},
   "source": [
    "**PREPROCESAMIENTO y RECODIFICACION DE DATOS**\n",
    "\n",
    "Realizaré el proceso estándar para el preprocesamiento de los datos:\n",
    "\n",
    "    - revisión del archivo con los datos (encoding, archivo corruptos, etc.);\n",
    "    - limpieza de valores inválidos si corresponde;\n",
    "    - recodificación de columnas según lo sugerido y de acorde a las necesidades del problema."
   ]
  },
  {
   "cell_type": "code",
   "execution_count": 1,
   "metadata": {},
   "outputs": [],
   "source": [
    "import pandas as pd\n",
    "import numpy as np\n",
    "import matplotlib.pyplot as plt\n",
    "import seaborn as sns\n",
    "from sklearn.linear_model import LogisticRegression\n",
    "from sklearn.model_selection import train_test_split\n",
    "from sklearn.metrics import classification_report, roc_curve, roc_auc_score, confusion_matrix\n",
    "from sklearn.compose import ColumnTransformer\n",
    "from sklearn.pipeline import Pipeline\n",
    "from sklearn.impute import SimpleImputer\n",
    "from sklearn.preprocessing import StandardScaler, OneHotEncoder\n",
    "import missingno as msno\n",
    "plt.style.use('seaborn-notebook')\n",
    "\n",
    "# modelo saturado?\n",
    "# education already label-encoded?\n",
    "# NaNs?\n",
    "# tres modelos predictivos?\n",
    "# diferencia entre relationship y civstatus?"
   ]
  },
  {
   "cell_type": "markdown",
   "metadata": {},
   "source": [
    "Primero veamos qué tiene el dataset:"
   ]
  },
  {
   "cell_type": "code",
   "execution_count": 2,
   "metadata": {},
   "outputs": [
    {
     "data": {
      "text/html": [
       "<div>\n",
       "<style scoped>\n",
       "    .dataframe tbody tr th:only-of-type {\n",
       "        vertical-align: middle;\n",
       "    }\n",
       "\n",
       "    .dataframe tbody tr th {\n",
       "        vertical-align: top;\n",
       "    }\n",
       "\n",
       "    .dataframe thead th {\n",
       "        text-align: right;\n",
       "    }\n",
       "</style>\n",
       "<table border=\"1\" class=\"dataframe\">\n",
       "  <thead>\n",
       "    <tr style=\"text-align: right;\">\n",
       "      <th></th>\n",
       "      <th>age</th>\n",
       "      <th>workclass</th>\n",
       "      <th>fnlwgt</th>\n",
       "      <th>education</th>\n",
       "      <th>educational-num</th>\n",
       "      <th>marital-status</th>\n",
       "      <th>occupation</th>\n",
       "      <th>relationship</th>\n",
       "      <th>race</th>\n",
       "      <th>gender</th>\n",
       "      <th>capital-gain</th>\n",
       "      <th>capital-loss</th>\n",
       "      <th>hours-per-week</th>\n",
       "      <th>native-country</th>\n",
       "      <th>income</th>\n",
       "    </tr>\n",
       "  </thead>\n",
       "  <tbody>\n",
       "    <tr>\n",
       "      <th>34860</th>\n",
       "      <td>38</td>\n",
       "      <td>Private</td>\n",
       "      <td>405284</td>\n",
       "      <td>Bachelors</td>\n",
       "      <td>13</td>\n",
       "      <td>Never-married</td>\n",
       "      <td>Other-service</td>\n",
       "      <td>Own-child</td>\n",
       "      <td>White</td>\n",
       "      <td>Female</td>\n",
       "      <td>0</td>\n",
       "      <td>0</td>\n",
       "      <td>35</td>\n",
       "      <td>United-States</td>\n",
       "      <td>&lt;=50K</td>\n",
       "    </tr>\n",
       "    <tr>\n",
       "      <th>46235</th>\n",
       "      <td>55</td>\n",
       "      <td>Private</td>\n",
       "      <td>368797</td>\n",
       "      <td>Masters</td>\n",
       "      <td>14</td>\n",
       "      <td>Married-civ-spouse</td>\n",
       "      <td>Exec-managerial</td>\n",
       "      <td>Husband</td>\n",
       "      <td>White</td>\n",
       "      <td>Male</td>\n",
       "      <td>0</td>\n",
       "      <td>1977</td>\n",
       "      <td>60</td>\n",
       "      <td>United-States</td>\n",
       "      <td>&gt;50K</td>\n",
       "    </tr>\n",
       "    <tr>\n",
       "      <th>19803</th>\n",
       "      <td>45</td>\n",
       "      <td>Self-emp-not-inc</td>\n",
       "      <td>204205</td>\n",
       "      <td>10th</td>\n",
       "      <td>6</td>\n",
       "      <td>Married-civ-spouse</td>\n",
       "      <td>Craft-repair</td>\n",
       "      <td>Husband</td>\n",
       "      <td>White</td>\n",
       "      <td>Male</td>\n",
       "      <td>0</td>\n",
       "      <td>0</td>\n",
       "      <td>65</td>\n",
       "      <td>United-States</td>\n",
       "      <td>&lt;=50K</td>\n",
       "    </tr>\n",
       "    <tr>\n",
       "      <th>31570</th>\n",
       "      <td>36</td>\n",
       "      <td>Private</td>\n",
       "      <td>187167</td>\n",
       "      <td>Assoc-acdm</td>\n",
       "      <td>12</td>\n",
       "      <td>Married-civ-spouse</td>\n",
       "      <td>Sales</td>\n",
       "      <td>Wife</td>\n",
       "      <td>White</td>\n",
       "      <td>Female</td>\n",
       "      <td>0</td>\n",
       "      <td>0</td>\n",
       "      <td>40</td>\n",
       "      <td>United-States</td>\n",
       "      <td>&lt;=50K</td>\n",
       "    </tr>\n",
       "    <tr>\n",
       "      <th>28986</th>\n",
       "      <td>40</td>\n",
       "      <td>Self-emp-not-inc</td>\n",
       "      <td>188436</td>\n",
       "      <td>HS-grad</td>\n",
       "      <td>9</td>\n",
       "      <td>Separated</td>\n",
       "      <td>Exec-managerial</td>\n",
       "      <td>Other-relative</td>\n",
       "      <td>White</td>\n",
       "      <td>Male</td>\n",
       "      <td>0</td>\n",
       "      <td>0</td>\n",
       "      <td>40</td>\n",
       "      <td>United-States</td>\n",
       "      <td>&lt;=50K</td>\n",
       "    </tr>\n",
       "    <tr>\n",
       "      <th>32274</th>\n",
       "      <td>49</td>\n",
       "      <td>Local-gov</td>\n",
       "      <td>31339</td>\n",
       "      <td>HS-grad</td>\n",
       "      <td>9</td>\n",
       "      <td>Married-civ-spouse</td>\n",
       "      <td>Craft-repair</td>\n",
       "      <td>Husband</td>\n",
       "      <td>White</td>\n",
       "      <td>Male</td>\n",
       "      <td>0</td>\n",
       "      <td>0</td>\n",
       "      <td>40</td>\n",
       "      <td>United-States</td>\n",
       "      <td>&lt;=50K</td>\n",
       "    </tr>\n",
       "    <tr>\n",
       "      <th>31555</th>\n",
       "      <td>27</td>\n",
       "      <td>Private</td>\n",
       "      <td>34273</td>\n",
       "      <td>Assoc-voc</td>\n",
       "      <td>11</td>\n",
       "      <td>Never-married</td>\n",
       "      <td>Prof-specialty</td>\n",
       "      <td>Not-in-family</td>\n",
       "      <td>White</td>\n",
       "      <td>Female</td>\n",
       "      <td>0</td>\n",
       "      <td>1876</td>\n",
       "      <td>36</td>\n",
       "      <td>Canada</td>\n",
       "      <td>&lt;=50K</td>\n",
       "    </tr>\n",
       "    <tr>\n",
       "      <th>7748</th>\n",
       "      <td>29</td>\n",
       "      <td>Private</td>\n",
       "      <td>167336</td>\n",
       "      <td>Some-college</td>\n",
       "      <td>10</td>\n",
       "      <td>Married-civ-spouse</td>\n",
       "      <td>Adm-clerical</td>\n",
       "      <td>Wife</td>\n",
       "      <td>White</td>\n",
       "      <td>Female</td>\n",
       "      <td>0</td>\n",
       "      <td>0</td>\n",
       "      <td>50</td>\n",
       "      <td>United-States</td>\n",
       "      <td>&lt;=50K</td>\n",
       "    </tr>\n",
       "    <tr>\n",
       "      <th>47246</th>\n",
       "      <td>54</td>\n",
       "      <td>Local-gov</td>\n",
       "      <td>127943</td>\n",
       "      <td>HS-grad</td>\n",
       "      <td>9</td>\n",
       "      <td>Widowed</td>\n",
       "      <td>Other-service</td>\n",
       "      <td>Unmarried</td>\n",
       "      <td>Black</td>\n",
       "      <td>Female</td>\n",
       "      <td>0</td>\n",
       "      <td>0</td>\n",
       "      <td>40</td>\n",
       "      <td>United-States</td>\n",
       "      <td>&lt;=50K</td>\n",
       "    </tr>\n",
       "    <tr>\n",
       "      <th>45069</th>\n",
       "      <td>45</td>\n",
       "      <td>Private</td>\n",
       "      <td>184277</td>\n",
       "      <td>Assoc-voc</td>\n",
       "      <td>11</td>\n",
       "      <td>Divorced</td>\n",
       "      <td>Adm-clerical</td>\n",
       "      <td>Unmarried</td>\n",
       "      <td>White</td>\n",
       "      <td>Female</td>\n",
       "      <td>0</td>\n",
       "      <td>0</td>\n",
       "      <td>55</td>\n",
       "      <td>United-States</td>\n",
       "      <td>&gt;50K</td>\n",
       "    </tr>\n",
       "  </tbody>\n",
       "</table>\n",
       "</div>"
      ],
      "text/plain": [
       "       age         workclass  fnlwgt     education  educational-num  \\\n",
       "34860   38           Private  405284     Bachelors               13   \n",
       "46235   55           Private  368797       Masters               14   \n",
       "19803   45  Self-emp-not-inc  204205          10th                6   \n",
       "31570   36           Private  187167    Assoc-acdm               12   \n",
       "28986   40  Self-emp-not-inc  188436       HS-grad                9   \n",
       "32274   49         Local-gov   31339       HS-grad                9   \n",
       "31555   27           Private   34273     Assoc-voc               11   \n",
       "7748    29           Private  167336  Some-college               10   \n",
       "47246   54         Local-gov  127943       HS-grad                9   \n",
       "45069   45           Private  184277     Assoc-voc               11   \n",
       "\n",
       "           marital-status       occupation    relationship   race  gender  \\\n",
       "34860       Never-married    Other-service       Own-child  White  Female   \n",
       "46235  Married-civ-spouse  Exec-managerial         Husband  White    Male   \n",
       "19803  Married-civ-spouse     Craft-repair         Husband  White    Male   \n",
       "31570  Married-civ-spouse            Sales            Wife  White  Female   \n",
       "28986           Separated  Exec-managerial  Other-relative  White    Male   \n",
       "32274  Married-civ-spouse     Craft-repair         Husband  White    Male   \n",
       "31555       Never-married   Prof-specialty   Not-in-family  White  Female   \n",
       "7748   Married-civ-spouse     Adm-clerical            Wife  White  Female   \n",
       "47246             Widowed    Other-service       Unmarried  Black  Female   \n",
       "45069            Divorced     Adm-clerical       Unmarried  White  Female   \n",
       "\n",
       "       capital-gain  capital-loss  hours-per-week native-country income  \n",
       "34860             0             0              35  United-States  <=50K  \n",
       "46235             0          1977              60  United-States   >50K  \n",
       "19803             0             0              65  United-States  <=50K  \n",
       "31570             0             0              40  United-States  <=50K  \n",
       "28986             0             0              40  United-States  <=50K  \n",
       "32274             0             0              40  United-States  <=50K  \n",
       "31555             0          1876              36         Canada  <=50K  \n",
       "7748              0             0              50  United-States  <=50K  \n",
       "47246             0             0              40  United-States  <=50K  \n",
       "45069             0             0              55  United-States   >50K  "
      ]
     },
     "execution_count": 2,
     "metadata": {},
     "output_type": "execute_result"
    }
   ],
   "source": [
    "df = pd.read_csv('income-db.csv')\n",
    "df.sample(n=10)"
   ]
  },
  {
   "cell_type": "markdown",
   "metadata": {},
   "source": [
    "Transformo los datos `?` a NaN's para poder tratarlos adecuadamente:"
   ]
  },
  {
   "cell_type": "code",
   "execution_count": 3,
   "metadata": {},
   "outputs": [],
   "source": [
    "df = df.replace(to_replace='?', value=np.nan)"
   ]
  },
  {
   "cell_type": "code",
   "execution_count": 4,
   "metadata": {},
   "outputs": [
    {
     "name": "stdout",
     "output_type": "stream",
     "text": [
      "<class 'pandas.core.frame.DataFrame'>\n",
      "RangeIndex: 48842 entries, 0 to 48841\n",
      "Data columns (total 15 columns):\n",
      "age                48842 non-null int64\n",
      "workclass          46043 non-null object\n",
      "fnlwgt             48842 non-null int64\n",
      "education          48842 non-null object\n",
      "educational-num    48842 non-null int64\n",
      "marital-status     48842 non-null object\n",
      "occupation         46033 non-null object\n",
      "relationship       48842 non-null object\n",
      "race               48842 non-null object\n",
      "gender             48842 non-null object\n",
      "capital-gain       48842 non-null int64\n",
      "capital-loss       48842 non-null int64\n",
      "hours-per-week     48842 non-null int64\n",
      "native-country     47985 non-null object\n",
      "income             48842 non-null object\n",
      "dtypes: int64(6), object(9)\n",
      "memory usage: 5.6+ MB\n"
     ]
    }
   ],
   "source": [
    "df.info()"
   ]
  },
  {
   "cell_type": "code",
   "execution_count": 5,
   "metadata": {},
   "outputs": [
    {
     "data": {
      "image/png": "[encoded data removed]",
      "text/plain": [
       "<Figure size 1800x720 with 2 Axes>"
      ]
     },
     "metadata": {
      "needs_background": "light"
     },
     "output_type": "display_data"
    }
   ],
   "source": [
    "msno.matrix(df);"
   ]
  },
  {
   "cell_type": "markdown",
   "metadata": {},
   "source": [
    "La recodificación se puede realizar de la siguiente manera. Primero, defino los grupos:"
   ]
  },
  {
   "cell_type": "code",
   "execution_count": 6,
   "metadata": {},
   "outputs": [],
   "source": [
    "white_collars = ['Prof-specialty', 'Exec-managerial', 'Adm-clerical', 'Sales', 'Tech-support']\n",
    "blue_collars = ['Craft-repair', 'Machine-op-inspct', 'Transport-moving', 'Handlers-cleaners', 'Farming-fishing', 'Protective-serv', 'Priv-house-serv']\n",
    "other_collars = ['Other-service', 'Armed-Forces']\n",
    "federal_gov_wc = ['Federal-gov']\n",
    "state_level_gov_wc = ['State-goc', 'Local-gov']\n",
    "self_employed_wc = ['Self-emp-inc', 'Self-emp-not-inc']\n",
    "unemployed_wc = ['Never-worked', 'Without-pay']\n",
    "private_wc = ['Private']\n",
    "preschool_ed = ['Preschool']\n",
    "elementary_school_ed = ['1st-4th', '5th-6th']\n",
    "high_school_ed = ['7th-8th', '9th', '10th', '11th', '12th', 'HS-grad']\n",
    "college_ed = ['Assoc-voc', 'Assoc-acdm', 'Some-college']\n",
    "university_ed = ['Bachelors', 'Masters', 'Prof-school', 'Doctorate']\n",
    "married_ms = ['Married-civ-spouse', 'Married-spouse-absent', 'Married-AF-spouse']\n",
    "divorced_ms = ['Divorced']\n",
    "separated_ms = ['Separated']\n",
    "widowed_ms = ['Widowed']\n",
    "america_reg = ['United-States', 'Mexico', 'Puerto-Rico', 'Canada', 'El-Salvador', 'Cuba', 'Jamaica', 'Dominican-Republic', 'Guatemala', 'Columbia', 'Haiti', 'Nicaragua', 'Peru', 'Ecuador', 'Trinadad&Tobago', 'Outlying-US', 'Honduras']\n",
    "europe_reg = ['Germany', 'England', 'Italy', 'Poland', 'Portugal', 'Greece', 'France', 'Ireland', 'Yugoslavia', 'Scotland', 'Hungary', 'Holand-Netherlands']\n",
    "asia_reg = ['Philippines', 'India', 'China', 'Japan', 'Vietnam', 'Taiwan', 'Iran', 'Hong', 'Thailand', 'Cambodia', 'Laos']\n",
    "africa_reg = ['South']"
   ]
  },
  {
   "cell_type": "code",
   "execution_count": 7,
   "metadata": {},
   "outputs": [],
   "source": [
    "def recod_row(row, original, to, labels):\n",
    "    \"\"\"For a given dataframe row, creates a new column based on a label list.\n",
    "    \n",
    "    Parameters\n",
    "    ----------\n",
    "    row : str\n",
    "        The dataframe row to be based upon\n",
    "    labels: lst\n",
    "        List containing all labels\n",
    "    \n",
    "    Returns\n",
    "    -------\n",
    "    label: str\n",
    "        Corresponding output label\n",
    "    \"\"\"\n",
    "    return to if row[original] in labels else np.nan\n",
    "\n",
    "def get_scores(cm_object):\n",
    "    tn, fp, fn, tp = cm_object.ravel()\n",
    "    precision = tp / (tp + fp)\n",
    "    accuracy = (tp + tn) / (tp + tn + fp + fn)\n",
    "    sensitivity = tp / (tp + fn)\n",
    "    specificity = tn / (tn + fp)\n",
    "    neg_pred_value = tn / (tn + fn)\n",
    "    f1 = 2*(precision * sensitivity)/(precision + sensitivity)\n",
    "    return {'precision': precision,\n",
    "            'accuracy': accuracy,\n",
    "            'sensitivity (recall)': sensitivity,\n",
    "            'specificity': specificity,\n",
    "            'neg_pred_value': neg_pred_value,\n",
    "            'f1': f1}"
   ]
  },
  {
   "cell_type": "code",
   "execution_count": 8,
   "metadata": {},
   "outputs": [],
   "source": [
    "df['collars'] = df.apply(lambda row: recod_row(row, 'occupation', 'white', white_collars), axis=1)\n",
    "df['collars'] = df.apply(lambda row: recod_row(row, 'occupation', 'blue', blue_collars) if row['collars'] is np.nan else row['collars'], axis=1)\n",
    "df['collars'] = df.apply(lambda row: recod_row(row, 'occupation', 'others', other_collars) if row['collars'] is np.nan else row['collars'], axis=1)\n",
    "df['workclass_recod'] = df.apply(lambda row: recod_row(row, 'workclass', 'federal_gov', federal_gov_wc), axis=1)\n",
    "df['workclass_recod'] = df.apply(lambda row: recod_row(row, 'workclass', 'state_level_gov', state_level_gov_wc) if row['workclass_recod'] is np.nan else row['workclass_recod'], axis=1)\n",
    "df['workclass_recod'] = df.apply(lambda row: recod_row(row, 'workclass', 'self_employed', self_employed_wc) if row['workclass_recod'] is np.nan else row['workclass_recod'], axis=1)\n",
    "df['workclass_recod'] = df.apply(lambda row: recod_row(row, 'workclass', 'unemployed', unemployed_wc) if row['workclass_recod'] is np.nan else row['workclass_recod'], axis=1)\n",
    "df['workclass_recod'] = df.apply(lambda row: recod_row(row, 'workclass', 'private', private_wc) if row['workclass_recod'] is np.nan else row['workclass_recod'], axis=1)\n",
    "df['educ_recod'] = df.apply(lambda row: recod_row(row, 'education', 'preschool', preschool_ed), axis=1)\n",
    "df['educ_recod'] = df.apply(lambda row: recod_row(row, 'education', 'elementary_school', elementary_school_ed) if row['educ_recod'] is np.nan else row['educ_recod'], axis=1)\n",
    "df['educ_recod'] = df.apply(lambda row: recod_row(row, 'education', 'high_school', high_school_ed) if row['educ_recod'] is np.nan else row['educ_recod'], axis=1)\n",
    "df['educ_recod'] = df.apply(lambda row: recod_row(row, 'education', 'college', college_ed) if row['educ_recod'] is np.nan else row['educ_recod'], axis=1)\n",
    "df['educ_recod'] = df.apply(lambda row: recod_row(row, 'education', 'university', university_ed) if row['educ_recod'] is np.nan else row['educ_recod'], axis=1)\n",
    "df['civstatus'] = df.apply(lambda row: recod_row(row, 'marital-status', 'married', married_ms), axis=1)\n",
    "df['civstatus'] = df.apply(lambda row: recod_row(row, 'marital-status', 'divorced', divorced_ms) if row['civstatus'] is np.nan else row['civstatus'], axis=1)\n",
    "df['civstatus'] = df.apply(lambda row: recod_row(row, 'marital-status', 'separated', separated_ms) if row['civstatus'] is np.nan else row['civstatus'], axis=1)\n",
    "df['civstatus'] = df.apply(lambda row: recod_row(row, 'marital-status', 'widowed', widowed_ms) if row['civstatus'] is np.nan else row['civstatus'], axis=1)\n",
    "df['region'] = df.apply(lambda row: recod_row(row, 'native-country', 'america', america_reg), axis=1)\n",
    "df['region'] = df.apply(lambda row: recod_row(row, 'native-country', 'europe', europe_reg) if row['region'] is np.nan else row['region'], axis=1)\n",
    "df['region'] = df.apply(lambda row: recod_row(row, 'native-country', 'asia', asia_reg) if row['region'] is np.nan else row['region'], axis=1)\n",
    "df['region'] = df.apply(lambda row: recod_row(row, 'native-country', 'africa', africa_reg) if row['region'] is np.nan else row['region'], axis=1)"
   ]
  },
  {
   "cell_type": "code",
   "execution_count": 9,
   "metadata": {},
   "outputs": [
    {
     "data": {
      "text/plain": [
       "<=50K    37155\n",
       ">50K     11687\n",
       "Name: income, dtype: int64"
      ]
     },
     "execution_count": 9,
     "metadata": {},
     "output_type": "execute_result"
    }
   ],
   "source": [
    "df['income'].value_counts()"
   ]
  },
  {
   "cell_type": "code",
   "execution_count": 10,
   "metadata": {},
   "outputs": [],
   "source": [
    "df['>50k'] = np.where(df['income']=='>50K', 1, 0)"
   ]
  },
  {
   "cell_type": "markdown",
   "metadata": {},
   "source": [
    "Para reducir colinearidad, elimino las columnas que contienen la misma información:"
   ]
  },
  {
   "cell_type": "code",
   "execution_count": 11,
   "metadata": {},
   "outputs": [],
   "source": [
    "df = df.drop(columns=['occupation', 'workclass', 'education', 'marital-status', 'native-country', 'income', 'educ_recod'])"
   ]
  },
  {
   "cell_type": "code",
   "execution_count": 12,
   "metadata": {},
   "outputs": [
    {
     "data": {
      "image/png": "[encoded data removed]",
      "text/plain": [
       "<Figure size 576x360 with 2 Axes>"
      ]
     },
     "metadata": {
      "needs_background": "light"
     },
     "output_type": "display_data"
    }
   ],
   "source": [
    "dfcorr = df.corr().dropna()\n",
    "plt.rcParams['figure.figsize'] = 8, 5\n",
    "ax = sns.heatmap(dfcorr, annot=True, cmap='Blues', vmin=-1, vmax=1, fmt='.1g')\n",
    "plt.tight_layout()"
   ]
  },
  {
   "cell_type": "code",
   "execution_count": 13,
   "metadata": {},
   "outputs": [],
   "source": [
    "X = df.drop(['>50k'], axis=1)  # features\n",
    "y = df['>50k']  # target"
   ]
  },
  {
   "cell_type": "code",
   "execution_count": 14,
   "metadata": {},
   "outputs": [
    {
     "name": "stdout",
     "output_type": "stream",
     "text": [
      "Sample size = 48842\n",
      "Features     = 13\n"
     ]
    }
   ],
   "source": [
    "print(f'Sample size = {y.shape[0]}')\n",
    "print(f'Features     = {X.shape[1]}')"
   ]
  },
  {
   "cell_type": "markdown",
   "metadata": {},
   "source": [
    "De las :\n",
    "\n",
    "5 regresores NUMÉRICOS →\\\n",
    "`age`, `fnlwgt`, `capital-gain`, `capital-loss`, `hours-per-week`\n",
    "\n",
    "8 regresors CATEGÓRICOS →\\\n",
    "`relationship` (6), `educational-num` (16), `race` (5), `gender` (2), `collars` (3), `workclass_recod` (5), `civstatus` (4), `region` (4)"
   ]
  },
  {
   "cell_type": "markdown",
   "metadata": {},
   "source": [
    "Ahora construiré la pipeline para todo el proceso:\\\n",
    "(1) proprocesamiento de los datos, que incluye codificación de clases para las variables categóricas y estandarización para las variables numéricas, y\\\n",
    "(2) modelamiento."
   ]
  },
  {
   "cell_type": "code",
   "execution_count": 15,
   "metadata": {},
   "outputs": [],
   "source": [
    "numeric_features = ['age', 'fnlwgt', 'capital-gain', 'capital-loss', 'hours-per-week']\n",
    "numeric_transformer = Pipeline(steps=[\n",
    "    ('imputer', SimpleImputer(strategy='median')),\n",
    "    ('scaler', StandardScaler())])"
   ]
  },
  {
   "cell_type": "code",
   "execution_count": 16,
   "metadata": {},
   "outputs": [],
   "source": [
    "categorical_features = ['relationship', 'educational-num', 'race', 'gender', 'collars', 'workclass_recod', 'civstatus', 'region']\n",
    "categorical_transformer = Pipeline(steps=[\n",
    "    ('imputer', SimpleImputer(strategy='constant', fill_value='missing')),\n",
    "    ('onehot', OneHotEncoder(handle_unknown='ignore'))])"
   ]
  },
  {
   "cell_type": "code",
   "execution_count": 17,
   "metadata": {},
   "outputs": [],
   "source": [
    "preprocessor = ColumnTransformer(\n",
    "    transformers=[\n",
    "        ('num', numeric_transformer, numeric_features),\n",
    "        ('cat', categorical_transformer, categorical_features)])"
   ]
  },
  {
   "cell_type": "code",
   "execution_count": 18,
   "metadata": {},
   "outputs": [],
   "source": [
    "clf = Pipeline(steps=[('preprocessor', preprocessor),\n",
    "                      ('model', LogisticRegression(solver='lbfgs', max_iter=1000))])"
   ]
  },
  {
   "cell_type": "code",
   "execution_count": 19,
   "metadata": {},
   "outputs": [],
   "source": [
    "X_train, X_test, y_train, y_test = train_test_split(X, y, test_size=0.33, random_state=42)"
   ]
  },
  {
   "cell_type": "code",
   "execution_count": 20,
   "metadata": {},
   "outputs": [],
   "source": [
    "model1_logistic = clf.fit(X_train, y_train)"
   ]
  },
  {
   "cell_type": "code",
   "execution_count": 21,
   "metadata": {},
   "outputs": [],
   "source": [
    "y_test_predict_log = model1_logistic.predict(X_test)  # make prediction\n",
    "y_test_predict_probs_log = model1_logistic.predict_proba(X_test)[:,1]  # get probabilities of predicted classes"
   ]
  },
  {
   "cell_type": "code",
   "execution_count": 22,
   "metadata": {},
   "outputs": [
    {
     "name": "stdout",
     "output_type": "stream",
     "text": [
      "              precision    recall  f1-score   support\n",
      "\n",
      "           0       0.88      0.93      0.91     12316\n",
      "           1       0.74      0.60      0.66      3802\n",
      "\n",
      "    accuracy                           0.85     16118\n",
      "   macro avg       0.81      0.77      0.78     16118\n",
      "weighted avg       0.85      0.85      0.85     16118\n",
      "\n"
     ]
    }
   ],
   "source": [
    "print(classification_report(y_test, y_test_predict_log))"
   ]
  },
  {
   "cell_type": "code",
   "execution_count": 23,
   "metadata": {},
   "outputs": [
    {
     "data": {
      "text/html": [
       "<div>\n",
       "<style scoped>\n",
       "    .dataframe tbody tr th:only-of-type {\n",
       "        vertical-align: middle;\n",
       "    }\n",
       "\n",
       "    .dataframe tbody tr th {\n",
       "        vertical-align: top;\n",
       "    }\n",
       "\n",
       "    .dataframe thead th {\n",
       "        text-align: right;\n",
       "    }\n",
       "</style>\n",
       "<table border=\"1\" class=\"dataframe\">\n",
       "  <thead>\n",
       "    <tr style=\"text-align: right;\">\n",
       "      <th></th>\n",
       "      <th>actual positive</th>\n",
       "      <th>actual negative</th>\n",
       "    </tr>\n",
       "  </thead>\n",
       "  <tbody>\n",
       "    <tr>\n",
       "      <th>predicted positive</th>\n",
       "      <td>TP = 2272</td>\n",
       "      <td>FP = 813 (type I)</td>\n",
       "    </tr>\n",
       "    <tr>\n",
       "      <th>predicted negative</th>\n",
       "      <td>FN = 1530 (type II)</td>\n",
       "      <td>TN = 11503</td>\n",
       "    </tr>\n",
       "  </tbody>\n",
       "</table>\n",
       "</div>"
      ],
      "text/plain": [
       "                        actual positive    actual negative\n",
       "predicted positive            TP = 2272  FP = 813 (type I)\n",
       "predicted negative  FN = 1530 (type II)         TN = 11503"
      ]
     },
     "execution_count": 23,
     "metadata": {},
     "output_type": "execute_result"
    }
   ],
   "source": [
    "cm = confusion_matrix(y_test, y_test_predict_log)\n",
    "tn, fp, fn, tp = cm.ravel()\n",
    "df1 = pd.DataFrame.from_dict({'predicted positive': f'TP = {tp}', 'predicted negative': f'FN = {fn} (type II)'},\n",
    "                             orient='index', columns=['actual positive'])\n",
    "df2 = pd.DataFrame.from_dict({'predicted positive': f'FP = {fp} (type I)', 'predicted negative': f'TN = {tn}'},\n",
    "                             orient='index', columns=['actual negative'])\n",
    "pd.concat([df1,df2], axis=1)"
   ]
  },
  {
   "cell_type": "code",
   "execution_count": 24,
   "metadata": {},
   "outputs": [
    {
     "data": {
      "text/plain": [
       "{'precision': 0.7364667747163696,\n",
       " 'accuracy': 0.8546345700459114,\n",
       " 'sensitivity (recall)': 0.5975802209363493,\n",
       " 'specificity': 0.9339883078921728,\n",
       " 'neg_pred_value': 0.8826056932402363,\n",
       " 'f1': 0.6597938144329898}"
      ]
     },
     "execution_count": 24,
     "metadata": {},
     "output_type": "execute_result"
    }
   ],
   "source": [
    "get_scores(cm)"
   ]
  },
  {
   "cell_type": "code",
   "execution_count": 25,
   "metadata": {},
   "outputs": [],
   "source": [
    "auc = roc_auc_score(y_test, y_test_predict_probs_log)\n",
    "fpr, tpr, thresholds = roc_curve(y_test, y_test_predict_probs_log)"
   ]
  },
  {
   "cell_type": "code",
   "execution_count": 26,
   "metadata": {},
   "outputs": [
    {
     "data": {
      "image/png": "[encoded data removed]",
      "text/plain": [
       "<Figure size 432x288 with 1 Axes>"
      ]
     },
     "metadata": {
      "needs_background": "light"
     },
     "output_type": "display_data"
    }
   ],
   "source": [
    "plt.rcParams['figure.figsize'] = 6, 4\n",
    "plt.plot(fpr, tpr, label=f'ROC curve: AUC={auc:0.2f}')\n",
    "plt.xlabel('1 - Specificity (false positive rate)')\n",
    "plt.ylabel('Sensitivity (true positive rate)')\n",
    "plt.grid(True)\n",
    "plt.legend()\n",
    "plt.tight_layout()"
   ]
  },
  {
   "cell_type": "markdown",
   "metadata": {},
   "source": [
    "Probando con 2 casos extremos:\n",
    "\n",
    "(1) un hombre blanco europeo con ganacias fuera del salario, trabajo administrativo en una compañía privada; vs\\\n",
    "(2) una mujer negra africana sin ganancias extra, casada y desempleada."
   ]
  },
  {
   "cell_type": "code",
   "execution_count": 27,
   "metadata": {},
   "outputs": [],
   "source": [
    "rich = np.array([40.0, 1.0, 16, 'Husband', 'White', 'Male' , 10000,   0, 40, 'white', 'private'   , 'married', 'europe']).reshape(1,-1)  # reshape is for a single feature/sample\n",
    "poor = np.array([20.0, 1.0,  9, 'Wife',    'Black', 'Woman',   100,   0,  0, 'blue' , 'unemployed', 'married', 'africa']).reshape(1,-1)  # reshape is for a single feature/sample"
   ]
  },
  {
   "cell_type": "code",
   "execution_count": 28,
   "metadata": {},
   "outputs": [],
   "source": [
    "rich = pd.DataFrame(data=rich, columns=df.columns[:-1])\n",
    "poor = pd.DataFrame(data=poor, columns=df.columns[:-1])"
   ]
  },
  {
   "cell_type": "code",
   "execution_count": 29,
   "metadata": {},
   "outputs": [
    {
     "name": "stdout",
     "output_type": "stream",
     "text": [
      "Hombre: con una probabilidad de 0.91,la predicción de un salario >50k anual es 1\n"
     ]
    }
   ],
   "source": [
    "print(f\"Hombre: con una probabilidad de {model1_logistic.predict_proba(rich)[0][1]:.2f},\\\n",
    "la predicción de un salario >50k anual es {model1_logistic.predict(rich)[0]}\")"
   ]
  },
  {
   "cell_type": "code",
   "execution_count": 30,
   "metadata": {},
   "outputs": [
    {
     "name": "stdout",
     "output_type": "stream",
     "text": [
      "Mujer: con una probabilidad de 0.02,la predicción de un salario >50k anual es 0\n"
     ]
    }
   ],
   "source": [
    "print(f\"Mujer: con una probabilidad de {model1_logistic.predict_proba(poor)[0][1]:.2f},\\\n",
    "la predicción de un salario >50k anual es {model1_logistic.predict(poor)[0]}\")"
   ]
  },
  {
   "cell_type": "code",
   "execution_count": null,
   "metadata": {},
   "outputs": [],
   "source": []
  },
  {
   "cell_type": "code",
   "execution_count": null,
   "metadata": {},
   "outputs": [],
   "source": []
  }
 ],
 "metadata": {
  "kernelspec": {
   "display_name": "dlatam_ds",
   "language": "python",
   "name": "dlatam_ds"
  },
  "language_info": {
   "codemirror_mode": {
    "name": "ipython",
    "version": 3
   },
   "file_extension": ".py",
   "mimetype": "text/x-python",
   "name": "python",
   "nbconvert_exporter": "python",
   "pygments_lexer": "ipython3",
   "version": "3.7.3"
  }
 },
 "nbformat": 4,
 "nbformat_minor": 4
}
