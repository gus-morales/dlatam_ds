{
 "cells": [
  {
   "cell_type": "code",
   "execution_count": 1,
   "metadata": {},
   "outputs": [],
   "source": [
    "import numpy as np\n",
    "import math\n",
    "from decimal import Context, setcontext, getcontext, Decimal, ROUND_HALF_EVEN"
   ]
  },
  {
   "cell_type": "code",
   "execution_count": 2,
   "metadata": {},
   "outputs": [],
   "source": [
    "myothercontext = Context(prec=7)\n",
    "setcontext(myothercontext)"
   ]
  },
  {
   "cell_type": "code",
   "execution_count": 3,
   "metadata": {},
   "outputs": [],
   "source": [
    "#Setup \n",
    "Neutral = Decimal(1)\n",
    "Annual_fix = Decimal(365/360)\n",
    "Nper_in_a_year = Decimal(1/12) #Not valid in Peru and peruvians\n",
    "Periods = Decimal(12) #Not valid in Peru and peruvians\n",
    "Significant_numbers = 4"
   ]
  },
  {
   "cell_type": "code",
   "execution_count": 4,
   "metadata": {},
   "outputs": [],
   "source": [
    "#to test\n",
    "interest = Decimal(0.0125)\n",
    "nper = 180\n",
    "grace = Decimal(6)\n",
    "insurance_monthly_fix = Decimal(3)\n",
    "property_value = Decimal(5000)\n",
    "loan = Decimal(4000)\n",
    "unsolved_factor = Decimal(1)\n",
    "credit_life_insurance_factor = Decimal(0.000068)\n",
    "credit_fire_insurance_factor = Decimal(0.00168)"
   ]
  },
  {
   "cell_type": "code",
   "execution_count": 5,
   "metadata": {},
   "outputs": [],
   "source": [
    "credit_property_insurance_factor = {\n",
    "    \"dpto\": Decimal(0.9),\n",
    "    \"casa\": Decimal(0.75),\n",
    "}"
   ]
  },
  {
   "cell_type": "code",
   "execution_count": 6,
   "metadata": {},
   "outputs": [
    {
     "name": "stdout",
     "output_type": "stream",
     "text": [
      "1.749462803393076\n",
      "4589.633740000007\n",
      "[Decimal('1.005259'), Decimal('1.004203'), Decimal('1.003149'), Decimal('1.002096'), Decimal('1.001044'), Decimal('0.9999929'), Decimal('0.9989429'), Decimal('0.9978940'), Decimal('0.9968462'), Decimal('0.9957995'), Decimal('0.9947539'), Decimal('0.9937094'), Decimal('0.9926660'), Decimal('0.9916237'), Decimal('0.9905825'), Decimal('0.9895424'), Decimal('0.9885034'), Decimal('0.9874655'), Decimal('0.9864287'), Decimal('0.9853930'), Decimal('0.9843583'), Decimal('0.9833247'), Decimal('0.9822922'), Decimal('0.9812608'), Decimal('0.9802305'), Decimal('0.9792013'), Decimal('0.9781731'), Decimal('0.9771460'), Decimal('0.9761200'), Decimal('0.9750951'), Decimal('0.9740712'), Decimal('0.9730484'), Decimal('0.9720267'), Decimal('0.9710061'), Decimal('0.9699865'), Decimal('0.9689680'), Decimal('0.9679506'), Decimal('0.9669343'), Decimal('0.9659190'), Decimal('0.9649048'), Decimal('0.9638916'), Decimal('0.9628795'), Decimal('0.9618685'), Decimal('0.9608585'), Decimal('0.9598496'), Decimal('0.9588418'), Decimal('0.9578350'), Decimal('0.9568293'), Decimal('0.9558246'), Decimal('0.9548210'), Decimal('0.9538184'), Decimal('0.9528169'), Decimal('0.9518164'), Decimal('0.9508170'), Decimal('0.9498186'), Decimal('0.9488213'), Decimal('0.9478250'), Decimal('0.9468298'), Decimal('0.9458356'), Decimal('0.9448425'), Decimal('0.9438504'), Decimal('0.9428594'), Decimal('0.9418694'), Decimal('0.9408804'), Decimal('0.9398925'), Decimal('0.9389056'), Decimal('0.9379197'), Decimal('0.9369349'), Decimal('0.9359511'), Decimal('0.9349684'), Decimal('0.9339867'), Decimal('0.9330060'), Decimal('0.9320263'), Decimal('0.9310477'), Decimal('0.9300701'), Decimal('0.9290935'), Decimal('0.9281180'), Decimal('0.9271435'), Decimal('0.9261700'), Decimal('0.9251975'), Decimal('0.9242260'), Decimal('0.9232556'), Decimal('0.9222862'), Decimal('0.9213178'), Decimal('0.9203504'), Decimal('0.9193840'), Decimal('0.9184186'), Decimal('0.9174543'), Decimal('0.9164910'), Decimal('0.9155287'), Decimal('0.9145674'), Decimal('0.9136071'), Decimal('0.9126478'), Decimal('0.9116895'), Decimal('0.9107322'), Decimal('0.9097759'), Decimal('0.9088206'), Decimal('0.9078663'), Decimal('0.9069130'), Decimal('0.9059607'), Decimal('0.9050094'), Decimal('0.9040591'), Decimal('0.9031098'), Decimal('0.9021615'), Decimal('0.9012142'), Decimal('0.9002679'), Decimal('0.8993226'), Decimal('0.8983783'), Decimal('0.8974350'), Decimal('0.8964927'), Decimal('0.8955514'), Decimal('0.8946111'), Decimal('0.8936718'), Decimal('0.8927334'), Decimal('0.8917960'), Decimal('0.8908596'), Decimal('0.8899242'), Decimal('0.8889898'), Decimal('0.8880564'), Decimal('0.8871239'), Decimal('0.8861924'), Decimal('0.8852619'), Decimal('0.8843324'), Decimal('0.8834039'), Decimal('0.8824763'), Decimal('0.8815497'), Decimal('0.8806241'), Decimal('0.8796994'), Decimal('0.8787757'), Decimal('0.8778530'), Decimal('0.8769313'), Decimal('0.8760105'), Decimal('0.8750907'), Decimal('0.8741719'), Decimal('0.8732540'), Decimal('0.8723371'), Decimal('0.8714211'), Decimal('0.8705061'), Decimal('0.8695921'), Decimal('0.8686790'), Decimal('0.8677669'), Decimal('0.8668557'), Decimal('0.8659455'), Decimal('0.8650363'), Decimal('0.8641280'), Decimal('0.8632207'), Decimal('0.8623143'), Decimal('0.8614089'), Decimal('0.8605044'), Decimal('0.8596009'), Decimal('0.8586983'), Decimal('0.8577967'), Decimal('0.8568960'), Decimal('0.8559963'), Decimal('0.8550975'), Decimal('0.8541996'), Decimal('0.8533027'), Decimal('0.8524067'), Decimal('0.8515117'), Decimal('0.8506176'), Decimal('0.8497245'), Decimal('0.8488323'), Decimal('0.8479410'), Decimal('0.8470507'), Decimal('0.8461613'), Decimal('0.8452728'), Decimal('0.8443853'), Decimal('0.8434987'), Decimal('0.8426130'), Decimal('0.8417283'), Decimal('0.8408445'), Decimal('0.8399616'), Decimal('0.8390796'), Decimal('0.8381986'), Decimal('0.8373185'), Decimal('0.8364393'), Decimal('0.8355610'), Decimal('0.8346837'), Decimal('0.8338073'), Decimal('0.8329318')]\n"
     ]
    }
   ],
   "source": [
    "#aux functions only\n",
    "def thirdpow(a,b,c):\n",
    "    return pow(pow(a,b),c) #Excel does a ^ b ^ c as [(a ^ b) ^ c] instead of [a ^ (b ^ c)]\n",
    "\n",
    "def get_monthly_rate(annual_rate):\n",
    "    getcontext().rounding = ROUND_HALF_EVEN\n",
    "    return thirdpow(Neutral + annual_rate, Annual_fix, Nper_in_a_year ) - Neutral\n",
    "\n",
    "def get_monthly_rate_amount_applied(annual_rate, grace):\n",
    "    return round(pow((Neutral + Decimal(annual_rate)), Decimal(unsolved_factor_k(grace)/Periods)) - Neutral, Significant_numbers)\n",
    "\n",
    "\n",
    "\n",
    "class SimulatedPayment:\n",
    "    def __init__(self, property_value, loan, nper, interest, grace, property_type):\n",
    "        self.interest = interest\n",
    "        self.grace = grace\n",
    "        self.nper = nper\n",
    "        self.loan = loan\n",
    "        self.property_value = property_value\n",
    "        self.property_type = property_type\n",
    "        self.payment = self.get_payment()\n",
    "                 \n",
    "    def unsolved_factor_k(self, grace):\n",
    "        unsolved_factor = Neutral\n",
    "        for x in range(int(grace)):\n",
    "            unsolved_factor += unsolved_factor * get_monthly_rate(interest)\n",
    "        return unsolved_factor\n",
    "    \n",
    "    def get_payment(self):\n",
    "        getcontext().rounding = ROUND_HALF_EVEN\n",
    "        monthly_rate_aux = get_monthly_rate(self.interest)\n",
    "        num = self.unsolved_factor_k(int(self.grace)) * monthly_rate_aux\n",
    "        dem = Neutral - (pow((Neutral + monthly_rate_aux), self.nper * -Neutral))\n",
    "        return num / dem * loan\n",
    "    \n",
    "    credit_property_insurance_factor = {\n",
    "        \"dpto\": Decimal(0.9),\n",
    "        \"casa\": Decimal(0.75),\n",
    "    }\n",
    "    \n",
    "    def get_fire_insurance(self, per):\n",
    "        fire_rate = credit_fire_insurance_factor * self.property_value * \\\n",
    "                    Nper_in_a_year * self.credit_property_insurance_factor[self.property_type]\n",
    "\n",
    "        first_period_value = fire_rate * (grace + insurance_monthly_fix)\n",
    "        return first_period_value if per == 0 else fire_rate\n",
    "    \n",
    "    \"\"\"def get_factors(self):\n",
    "        rate = get_monthly_rate(self.interest)\n",
    "        unsolved_factor_base = self.unsolved_factor_k(self.grace)\n",
    "        factors_base = []\n",
    "        for i in range(self.nper):\n",
    "            unsolved_factor_base -= unsolved_factor_base * rate\n",
    "            factors_base.append(unsolved_factor_base)\n",
    "        return factors_base\n",
    "    \"\"\"\n",
    "            \n",
    "    \n",
    "    def get_life_insurance(self, per):\n",
    "        life_rate = self.unsolved_factor_k(self.grace) * self.loan * \\\n",
    "                             credit_life_insurance_factor \n",
    "        \n",
    "        first_period_value = life_rate * (self.grace + insurance_monthly_fix)\n",
    "        return first_period_value if per == 0 else life_rate     \n",
    "    \n",
    "    def get_total(self, term):\n",
    "        return self.get_payment() + self.get_fire_insurance(term) + self.get_life_insurance(term)\n",
    "    \n",
    "    def build_payments(self):\n",
    "        factors = []\n",
    "        for k in range(self.nper):\n",
    "            factors.append(float(self.get_total(k)))\n",
    "        return [(float(self.loan * -1))] + [0] * int(self.grace) + factors\n",
    "    \n",
    "    def get_cae(self):\n",
    "        return np.irr(self.build_payments()) * int(Periods) * 100\n",
    "    \n",
    "    def get_ctc(self):\n",
    "        return sum(self.build_payments()) + float(loan)\n",
    "        \n",
    "\n",
    "    def __repr__(self):\n",
    "        return f'SimulatedPayment{self.__dict__}'\n",
    "    \n",
    "credit = SimulatedPayment(property_value, loan, nper, interest, grace, \"dpto\")\n",
    "\n",
    "print(credit.get_cae())\n",
    "print(credit.get_ctc())\n",
    "print(credit.get_factors())\n"
   ]
  },
  {
   "cell_type": "code",
   "execution_count": null,
   "metadata": {},
   "outputs": [],
   "source": []
  }
 ],
 "metadata": {
  "kernelspec": {
   "display_name": "Python 3",
   "language": "python",
   "name": "python3"
  },
  "language_info": {
   "codemirror_mode": {
    "name": "ipython",
    "version": 3
   },
   "file_extension": ".py",
   "mimetype": "text/x-python",
   "name": "python",
   "nbconvert_exporter": "python",
   "pygments_lexer": "ipython3",
   "version": "3.7.3"
  }
 },
 "nbformat": 4,
 "nbformat_minor": 4
}
