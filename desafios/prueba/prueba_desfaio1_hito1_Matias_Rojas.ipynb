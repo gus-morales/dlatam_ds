{
 "cells": [
  {
   "cell_type": "markdown",
   "metadata": {},
   "source": [
    "# Desafío 1: Determinantes del ingreso"
   ]
  },
  {
   "cell_type": "markdown",
   "metadata": {},
   "source": [
    "# 1. Preliminares"
   ]
  },
  {
   "cell_type": "markdown",
   "metadata": {},
   "source": [
    "☑ Hito 1: Preliminares y Aspectos Computacionales.<br>\n",
    "☑ Hito 2: Descripción.<br>\n",
    "☐ Hito 3: Modelación descriptiva.<br>\n",
    "☐ Hito 4: Modelación predictiva.<br>\n"
   ]
  },
  {
   "cell_type": "markdown",
   "metadata": {},
   "source": [
    "## Descripción del problema"
   ]
  },
  {
   "cell_type": "markdown",
   "metadata": {},
   "source": [
    "Usted trabaja para un  organismo no  gubernamental que está interesado en  las  dinámicas socioeconómicas que determinan la desigualdad de ingreso y la erradicación de la pobreza extrema,enmarcado dentro de los objetivos del desarrollo del nuevo milenio del Programa de las Naciones Unidas para el  Desarrollo. Le  encomiendan el  desarrollo de  un  modelo predictivo  sobre la <b>probabilidad que un individuo presente salarios por sobre o bajo los 50.000 dólares anuales</b>, en basea una serie de atributos sociodemográficos.\n",
    "\n",
    "Para desarrollar este problema se utilizará un modelo de regresión logistica por medio de machine learning, el cual nos permitirá determinar probabilidad de ocurrencia, esto sumado a que nuestra variable dependiente cuenta con la particularidad de ser binaria y el resto de variables independientes cumplen la condición de ser continuos y/o categoricos.\n",
    "\n",
    "Resulta que para los casos donde nuestro vector objetivo presenta atributos discretos como en este caso las métricasc (MSE, R2) fallan en  capturar el  fenómeno, es por esto que utilizaremos las siguientes metricas: <br><br>\n",
    "<b>Precision:</b><br>\n",
    "Mide la fracción de predicciones correctas entre las etiquetas positivas. <br>\n",
    "\n",
    "<b>Recall:</b><br>\n",
    "Mide la fraccion de verdaderos positivos predichos por el modelo. <br>\n",
    "\n",
    "<b>F1-score:</b> <br>\n",
    "\n",
    "<b>accuracy:</b> <br>\n",
    "\n",
    "<b>AUC:</b> <br>\n",
    "\n",
    "<b>confusion matrix:</b> <br>\n",
    "\n"
   ]
  },
  {
   "cell_type": "markdown",
   "metadata": {},
   "source": [
    "# 2. Aspectos computacionales\n",
    "\n",
    "Para el desarrollo de este modelo predictivo se utilizarán las siguientes librerias, las cuales se detallan a continuación:\n",
    "\n",
    "`pandas`, `numpy`: manejo de datos (df) y transformación de los mismos.\n",
    "\n",
    "`matplotlib`, `seaborn`: para generar visualizaciones de datos\n",
    "\n",
    "`sklearn`: libreria de _machine learning_ para aplicar el modelo smf.logit\n",
    "\n",
    "`IPython.display` , `tabulate`: Generar prints con mejor aspecto\n",
    "\n",
    "`missingno`: permite graficar las variables perdidas en el dataframe\n",
    "\n",
    "`statsmodels.formula.api`: \n",
    "\n",
    "`re`: Replace library\n",
    "\n",
    "`IPython.display` , `tabulate`: Generar prints con mejor aspecto"
   ]
  },
  {
   "cell_type": "code",
   "execution_count": 1,
   "metadata": {},
   "outputs": [],
   "source": [
    "import numpy as np\n",
    "import pandas as pd\n",
    "import matplotlib.pyplot as plt\n",
    "import seaborn as sns\n",
    "import missingno as msno\n",
    "import statsmodels.formula.api as smf\n",
    "import re\n",
    "from sklearn.linear_model import LinearRegression\n",
    "from sklearn.linear_model import LogisticRegression\n",
    "from sklearn.model_selection import train_test_split\n",
    "from sklearn.preprocessing import StandardScaler\n",
    "from sklearn.metrics import classification_report, roc_curve, roc_auc_score, confusion_matrix\n",
    "plt.rcParams['figure.figsize'] = 10, 8\n",
    "from IPython.display import HTML, display\n",
    "import tabulate\n",
    "import warnings\n",
    "warnings.filterwarnings(\"ignore\")"
   ]
  },
  {
   "cell_type": "markdown",
   "metadata": {},
   "source": [
    "Se importa el dataset y se visualizan las primeras columnas:"
   ]
  },
  {
   "cell_type": "code",
   "execution_count": 2,
   "metadata": {},
   "outputs": [
    {
     "data": {
      "text/html": [
       "<div>\n",
       "<style scoped>\n",
       "    .dataframe tbody tr th:only-of-type {\n",
       "        vertical-align: middle;\n",
       "    }\n",
       "\n",
       "    .dataframe tbody tr th {\n",
       "        vertical-align: top;\n",
       "    }\n",
       "\n",
       "    .dataframe thead th {\n",
       "        text-align: right;\n",
       "    }\n",
       "</style>\n",
       "<table border=\"1\" class=\"dataframe\">\n",
       "  <thead>\n",
       "    <tr style=\"text-align: right;\">\n",
       "      <th></th>\n",
       "      <th>age</th>\n",
       "      <th>workclass</th>\n",
       "      <th>fnlwgt</th>\n",
       "      <th>education</th>\n",
       "      <th>educational-num</th>\n",
       "      <th>marital-status</th>\n",
       "      <th>occupation</th>\n",
       "      <th>relationship</th>\n",
       "      <th>race</th>\n",
       "      <th>gender</th>\n",
       "      <th>capital-gain</th>\n",
       "      <th>capital-loss</th>\n",
       "      <th>hours-per-week</th>\n",
       "      <th>native-country</th>\n",
       "      <th>income</th>\n",
       "    </tr>\n",
       "  </thead>\n",
       "  <tbody>\n",
       "    <tr>\n",
       "      <th>0</th>\n",
       "      <td>25</td>\n",
       "      <td>Private</td>\n",
       "      <td>226802</td>\n",
       "      <td>11th</td>\n",
       "      <td>7</td>\n",
       "      <td>Never-married</td>\n",
       "      <td>Machine-op-inspct</td>\n",
       "      <td>Own-child</td>\n",
       "      <td>Black</td>\n",
       "      <td>Male</td>\n",
       "      <td>0</td>\n",
       "      <td>0</td>\n",
       "      <td>40</td>\n",
       "      <td>United-States</td>\n",
       "      <td>&lt;=50K</td>\n",
       "    </tr>\n",
       "    <tr>\n",
       "      <th>1</th>\n",
       "      <td>38</td>\n",
       "      <td>Private</td>\n",
       "      <td>89814</td>\n",
       "      <td>HS-grad</td>\n",
       "      <td>9</td>\n",
       "      <td>Married-civ-spouse</td>\n",
       "      <td>Farming-fishing</td>\n",
       "      <td>Husband</td>\n",
       "      <td>White</td>\n",
       "      <td>Male</td>\n",
       "      <td>0</td>\n",
       "      <td>0</td>\n",
       "      <td>50</td>\n",
       "      <td>United-States</td>\n",
       "      <td>&lt;=50K</td>\n",
       "    </tr>\n",
       "    <tr>\n",
       "      <th>2</th>\n",
       "      <td>28</td>\n",
       "      <td>Local-gov</td>\n",
       "      <td>336951</td>\n",
       "      <td>Assoc-acdm</td>\n",
       "      <td>12</td>\n",
       "      <td>Married-civ-spouse</td>\n",
       "      <td>Protective-serv</td>\n",
       "      <td>Husband</td>\n",
       "      <td>White</td>\n",
       "      <td>Male</td>\n",
       "      <td>0</td>\n",
       "      <td>0</td>\n",
       "      <td>40</td>\n",
       "      <td>United-States</td>\n",
       "      <td>&gt;50K</td>\n",
       "    </tr>\n",
       "    <tr>\n",
       "      <th>3</th>\n",
       "      <td>44</td>\n",
       "      <td>Private</td>\n",
       "      <td>160323</td>\n",
       "      <td>Some-college</td>\n",
       "      <td>10</td>\n",
       "      <td>Married-civ-spouse</td>\n",
       "      <td>Machine-op-inspct</td>\n",
       "      <td>Husband</td>\n",
       "      <td>Black</td>\n",
       "      <td>Male</td>\n",
       "      <td>7688</td>\n",
       "      <td>0</td>\n",
       "      <td>40</td>\n",
       "      <td>United-States</td>\n",
       "      <td>&gt;50K</td>\n",
       "    </tr>\n",
       "    <tr>\n",
       "      <th>4</th>\n",
       "      <td>18</td>\n",
       "      <td>?</td>\n",
       "      <td>103497</td>\n",
       "      <td>Some-college</td>\n",
       "      <td>10</td>\n",
       "      <td>Never-married</td>\n",
       "      <td>?</td>\n",
       "      <td>Own-child</td>\n",
       "      <td>White</td>\n",
       "      <td>Female</td>\n",
       "      <td>0</td>\n",
       "      <td>0</td>\n",
       "      <td>30</td>\n",
       "      <td>United-States</td>\n",
       "      <td>&lt;=50K</td>\n",
       "    </tr>\n",
       "  </tbody>\n",
       "</table>\n",
       "</div>"
      ],
      "text/plain": [
       "   age  workclass  fnlwgt     education  educational-num      marital-status  \\\n",
       "0   25    Private  226802          11th                7       Never-married   \n",
       "1   38    Private   89814       HS-grad                9  Married-civ-spouse   \n",
       "2   28  Local-gov  336951    Assoc-acdm               12  Married-civ-spouse   \n",
       "3   44    Private  160323  Some-college               10  Married-civ-spouse   \n",
       "4   18          ?  103497  Some-college               10       Never-married   \n",
       "\n",
       "          occupation relationship   race  gender  capital-gain  capital-loss  \\\n",
       "0  Machine-op-inspct    Own-child  Black    Male             0             0   \n",
       "1    Farming-fishing      Husband  White    Male             0             0   \n",
       "2    Protective-serv      Husband  White    Male             0             0   \n",
       "3  Machine-op-inspct      Husband  Black    Male          7688             0   \n",
       "4                  ?    Own-child  White  Female             0             0   \n",
       "\n",
       "   hours-per-week native-country income  \n",
       "0              40  United-States  <=50K  \n",
       "1              50  United-States  <=50K  \n",
       "2              40  United-States   >50K  \n",
       "3              40  United-States   >50K  \n",
       "4              30  United-States  <=50K  "
      ]
     },
     "execution_count": 2,
     "metadata": {},
     "output_type": "execute_result"
    }
   ],
   "source": [
    "df = pd.read_csv('income-db.csv')\n",
    "df.head()"
   ]
  },
  {
   "cell_type": "markdown",
   "metadata": {},
   "source": [
    "# 3. Descripción"
   ]
  },
  {
   "cell_type": "code",
   "execution_count": 3,
   "metadata": {},
   "outputs": [],
   "source": [
    "#significancia estadisitca  = 0.005\n",
    "#Variables a borrar = sbp, adiposity, obesity, alcohol\n",
    "df = df.drop(['fnlwgt'], axis=1)"
   ]
  },
  {
   "cell_type": "markdown",
   "metadata": {},
   "source": [
    "Reemplaza el guión medio por guión bajo en el nombre de las columnas."
   ]
  },
  {
   "cell_type": "code",
   "execution_count": 4,
   "metadata": {},
   "outputs": [],
   "source": [
    "df = df.rename(columns=lambda x: re.sub('-','_',x))"
   ]
  },
  {
   "cell_type": "markdown",
   "metadata": {},
   "source": [
    "se realiza la transformación de la variable `?` a `NA` para su posterior tratamiento y se realiza una primera inspección de la data"
   ]
  },
  {
   "cell_type": "code",
   "execution_count": 5,
   "metadata": {},
   "outputs": [],
   "source": [
    "df = df.replace(to_replace =\"?\",value = np.nan)"
   ]
  },
  {
   "cell_type": "code",
   "execution_count": 6,
   "metadata": {},
   "outputs": [
    {
     "name": "stdout",
     "output_type": "stream",
     "text": [
      "<class 'pandas.core.frame.DataFrame'>\n",
      "RangeIndex: 48842 entries, 0 to 48841\n",
      "Data columns (total 14 columns):\n",
      "age                48842 non-null int64\n",
      "workclass          46043 non-null object\n",
      "education          48842 non-null object\n",
      "educational_num    48842 non-null int64\n",
      "marital_status     48842 non-null object\n",
      "occupation         46033 non-null object\n",
      "relationship       48842 non-null object\n",
      "race               48842 non-null object\n",
      "gender             48842 non-null object\n",
      "capital_gain       48842 non-null int64\n",
      "capital_loss       48842 non-null int64\n",
      "hours_per_week     48842 non-null int64\n",
      "native_country     47985 non-null object\n",
      "income             48842 non-null object\n",
      "dtypes: int64(5), object(9)\n",
      "memory usage: 5.2+ MB\n"
     ]
    }
   ],
   "source": [
    "df.info()"
   ]
  },
  {
   "cell_type": "markdown",
   "metadata": {},
   "source": [
    "analisis de las variables perdidas, existen 3 variables que presentan dichas variables:\n",
    "workclass, occupation, native_country"
   ]
  },
  {
   "cell_type": "code",
   "execution_count": 7,
   "metadata": {},
   "outputs": [
    {
     "data": {
      "text/plain": [
       "age                   0\n",
       "workclass          2799\n",
       "education             0\n",
       "educational_num       0\n",
       "marital_status        0\n",
       "occupation         2809\n",
       "relationship          0\n",
       "race                  0\n",
       "gender                0\n",
       "capital_gain          0\n",
       "capital_loss          0\n",
       "hours_per_week        0\n",
       "native_country      857\n",
       "income                0\n",
       "dtype: int64"
      ]
     },
     "execution_count": 7,
     "metadata": {},
     "output_type": "execute_result"
    }
   ],
   "source": [
    "#Distribución de valores nulos por columna\n",
    "df.isnull().sum(axis = 0)"
   ]
  },
  {
   "cell_type": "code",
   "execution_count": 8,
   "metadata": {},
   "outputs": [
    {
     "data": {
      "text/plain": [
       "<matplotlib.axes._subplots.AxesSubplot at 0x1a1906f8d0>"
      ]
     },
     "execution_count": 8,
     "metadata": {},
     "output_type": "execute_result"
    },
    {
     "data": {
      "image/png": "[encoded data removed]",
      "text/plain": [
       "<Figure size 1800x720 with 2 Axes>"
      ]
     },
     "metadata": {
      "needs_background": "light"
     },
     "output_type": "display_data"
    }
   ],
   "source": [
    "msno.matrix(df)"
   ]
  },
  {
   "cell_type": "markdown",
   "metadata": {},
   "source": [
    "se eliminan los valores perdidos"
   ]
  },
  {
   "cell_type": "code",
   "execution_count": 9,
   "metadata": {},
   "outputs": [],
   "source": [
    "#drop na\n",
    "df = df.dropna()"
   ]
  },
  {
   "cell_type": "code",
   "execution_count": 10,
   "metadata": {},
   "outputs": [
    {
     "data": {
      "text/plain": [
       "age                0\n",
       "workclass          0\n",
       "education          0\n",
       "educational_num    0\n",
       "marital_status     0\n",
       "occupation         0\n",
       "relationship       0\n",
       "race               0\n",
       "gender             0\n",
       "capital_gain       0\n",
       "capital_loss       0\n",
       "hours_per_week     0\n",
       "native_country     0\n",
       "income             0\n",
       "dtype: int64"
      ]
     },
     "execution_count": 10,
     "metadata": {},
     "output_type": "execute_result"
    }
   ],
   "source": [
    "# analizar luego del dropna()\n",
    "df.isnull().sum(axis = 0)"
   ]
  },
  {
   "cell_type": "code",
   "execution_count": 11,
   "metadata": {},
   "outputs": [
    {
     "data": {
      "text/plain": [
       "<matplotlib.axes._subplots.AxesSubplot at 0x1a190ffb70>"
      ]
     },
     "execution_count": 11,
     "metadata": {},
     "output_type": "execute_result"
    },
    {
     "data": {
      "image/png": "[encoded data removed]",
      "text/plain": [
       "<Figure size 1800x720 with 2 Axes>"
      ]
     },
     "metadata": {
      "needs_background": "light"
     },
     "output_type": "display_data"
    }
   ],
   "source": [
    "msno.matrix(df)"
   ]
  },
  {
   "cell_type": "markdown",
   "metadata": {},
   "source": [
    "## Transformaciones\n",
    "<b>occupation <b>\n",
    "debe recodificarse como collars siguiendo una nomenclatura similar a:<br>\n",
    "white-collar $\\leftarrow$ Prof-specialty, Exec-managerial, Adm-clerical, Sales,Tech-support.<br>\n",
    "blue-collar$\\leftarrow$ Craft-repair, Machine-op-inspct, Transport-moving,Handlers-cleaners, Farming-fishing, Protective-serv, Priv-house-serv.<br>\n",
    "others $\\leftarrow$ Other-service, Armed-Forces<br>"
   ]
  },
  {
   "cell_type": "code",
   "execution_count": 12,
   "metadata": {},
   "outputs": [
    {
     "data": {
      "text/plain": [
       "Craft-repair         6020\n",
       "Prof-specialty       6008\n",
       "Exec-managerial      5984\n",
       "Adm-clerical         5540\n",
       "Sales                5408\n",
       "Other-service        4808\n",
       "Machine-op-inspct    2970\n",
       "Transport-moving     2316\n",
       "Handlers-cleaners    2046\n",
       "Farming-fishing      1480\n",
       "Tech-support         1420\n",
       "Protective-serv       976\n",
       "Priv-house-serv       232\n",
       "Armed-Forces           14\n",
       "Name: occupation, dtype: int64"
      ]
     },
     "execution_count": 12,
     "metadata": {},
     "output_type": "execute_result"
    }
   ],
   "source": [
    "#valores originales de ocupación\n",
    "df['occupation'].value_counts()"
   ]
  },
  {
   "cell_type": "code",
   "execution_count": 13,
   "metadata": {},
   "outputs": [],
   "source": [
    "# copia la columna con el nombre indicado\n",
    "df['collars'] = df['occupation']\n"
   ]
  },
  {
   "cell_type": "code",
   "execution_count": 14,
   "metadata": {},
   "outputs": [],
   "source": [
    "df['collars'] = df['collars'].replace(to_replace =['Prof-specialty','Exec-managerial',\n",
    "                                                         'Adm-clerical','Sales',\n",
    "                                                         'Tech-support'],value = 'white-collar')"
   ]
  },
  {
   "cell_type": "code",
   "execution_count": 15,
   "metadata": {},
   "outputs": [],
   "source": [
    "df['collars'] = df['collars'].replace(to_replace =['Craft-repair','Machine-op-inspct',\n",
    "                                                         'Transport-moving','Handlers-cleaners',\n",
    "                                                         'Farming-fishing','Protective-serv',\n",
    "                                                         'Priv-house-serv'],value = 'blue-collar')\n"
   ]
  },
  {
   "cell_type": "code",
   "execution_count": 16,
   "metadata": {},
   "outputs": [],
   "source": [
    "df['collars'] = df['collars'].replace(to_replace =['Other-service', \n",
    "                                                      'Armed-Forces'],value = 'others')\n"
   ]
  },
  {
   "cell_type": "code",
   "execution_count": 17,
   "metadata": {},
   "outputs": [
    {
     "data": {
      "text/plain": [
       "white-collar    24360\n",
       "blue-collar     16040\n",
       "others           4822\n",
       "Name: collars, dtype: int64"
      ]
     },
     "execution_count": 17,
     "metadata": {},
     "output_type": "execute_result"
    }
   ],
   "source": [
    "#valores transformados de ocupación\n",
    "df['collars'].value_counts()"
   ]
  },
  {
   "cell_type": "markdown",
   "metadata": {},
   "source": [
    "<b>workclass <b>\n",
    "debe recodificarse como workclass_recod  siguiendo una  nomenclatura similar a :<br>\n",
    "federal-gov$\\leftarrow$ Federal-gov.<br>\n",
    "state-level-gov$\\leftarrow$ State-gov, Local-gov.<br>\n",
    "self-employed$\\leftarrow$ Self-emp-inc,Self-emp-not-inc <br>\n",
    "unemployed$\\leftarrow$ Never-worked, Without-pay<br>"
   ]
  },
  {
   "cell_type": "code",
   "execution_count": 18,
   "metadata": {},
   "outputs": [
    {
     "data": {
      "text/plain": [
       "Private             33307\n",
       "Self-emp-not-inc     3796\n",
       "Local-gov            3100\n",
       "State-gov            1946\n",
       "Self-emp-inc         1646\n",
       "Federal-gov          1406\n",
       "Without-pay            21\n",
       "Name: workclass, dtype: int64"
      ]
     },
     "execution_count": 18,
     "metadata": {},
     "output_type": "execute_result"
    }
   ],
   "source": [
    "#valores originales de ocupación\n",
    "df['workclass'].value_counts()"
   ]
  },
  {
   "cell_type": "code",
   "execution_count": 19,
   "metadata": {},
   "outputs": [],
   "source": [
    "# copia la columna con el nombre indicado\n",
    "df['workclass_recod'] = df['workclass']\n"
   ]
  },
  {
   "cell_type": "code",
   "execution_count": 20,
   "metadata": {},
   "outputs": [],
   "source": [
    "df['workclass_recod'] = df['workclass_recod'].replace(to_replace =['Federal-gov'],value='federal-gov')"
   ]
  },
  {
   "cell_type": "code",
   "execution_count": 21,
   "metadata": {},
   "outputs": [],
   "source": [
    "df['workclass_recod'] = df['workclass_recod'].replace(to_replace =['State-gov',\n",
    "                                                             'Local-gov'],value='state-level-gov')"
   ]
  },
  {
   "cell_type": "code",
   "execution_count": 22,
   "metadata": {},
   "outputs": [],
   "source": [
    "df['workclass_recod'] = df['workclass_recod'].replace(to_replace =['Self-emp-inc',\n",
    "                                                             'Self-emp-not-inc'],value='self-employed')"
   ]
  },
  {
   "cell_type": "code",
   "execution_count": 23,
   "metadata": {},
   "outputs": [],
   "source": [
    "df['workclass_recod'] = df['workclass_recod'].replace(to_replace =['Never-worked',\n",
    "                                                             'Without-pay'],value='unemployed')"
   ]
  },
  {
   "cell_type": "code",
   "execution_count": null,
   "metadata": {},
   "outputs": [
    {
     "data": {
      "text/plain": [
       "Private            33307\n",
       "self-employed       5442\n",
       "state-level-gov     5046\n",
       "federal-gov         1406\n",
       "unemployed            21\n",
       "Name: workclass_recod, dtype: int64"
      ]
     },
     "execution_count": 24,
     "metadata": {},
     "output_type": "execute_result"
    }
   ],
   "source": [
    "#valores transformados de ocupación\n",
    "df['workclass_recod'].value_counts()"
   ]
  },
  {
   "cell_type": "markdown",
   "metadata": {},
   "source": [
    "<b>education debe recodificarse como educ_recod siguiendo una nomenclatura similar a :<br>\n",
    "preschool$\\leftarrow$ Preschool<br>\n",
    "elementary-school$\\leftarrow$ 1st-4th, 5th-6th<br>\n",
    "high-school$\\leftarrow$ 7th-8th, 9th, 10th,11th, 12th, HS-grad<br>\n",
    "college$\\leftarrow$ Assoc-voc, Assoc-acdm, Some-college<br>\n",
    "university$\\leftarrow$ Bachelors, Masters, Prof-school, Doctorate<br>"
   ]
  },
  {
   "cell_type": "code",
   "execution_count": null,
   "metadata": {},
   "outputs": [
    {
     "data": {
      "text/plain": [
       "HS-grad         14783\n",
       "Some-college     9899\n",
       "Bachelors        7570\n",
       "Masters          2514\n",
       "Assoc-voc        1959\n",
       "11th             1619\n",
       "Assoc-acdm       1507\n",
       "10th             1223\n",
       "7th-8th           823\n",
       "Prof-school       785\n",
       "9th               676\n",
       "12th              577\n",
       "Doctorate         544\n",
       "5th-6th           449\n",
       "1st-4th           222\n",
       "Preschool          72\n",
       "Name: education, dtype: int64"
      ]
     },
     "execution_count": 25,
     "metadata": {},
     "output_type": "execute_result"
    }
   ],
   "source": [
    "#valores originales de ocupación\n",
    "df['education'].value_counts()"
   ]
  },
  {
   "cell_type": "code",
   "execution_count": null,
   "metadata": {},
   "outputs": [],
   "source": [
    "# copia la columna con el nombre indicado\n",
    "df['educ_recod'] = df['education']\n"
   ]
  },
  {
   "cell_type": "code",
   "execution_count": null,
   "metadata": {},
   "outputs": [],
   "source": [
    "df['educ_recod'] = df['educ_recod'].replace(to_replace =['Preschool'],value = 'preschool')"
   ]
  },
  {
   "cell_type": "code",
   "execution_count": null,
   "metadata": {},
   "outputs": [],
   "source": [
    "df['educ_recod'] = df['educ_recod'].replace(to_replace =['1st-4th', '5th-6th'],value = 'elementary-school')"
   ]
  },
  {
   "cell_type": "code",
   "execution_count": null,
   "metadata": {},
   "outputs": [],
   "source": [
    "df['educ_recod'] = df['educ_recod'].replace(to_replace =['7th-8th', \n",
    "                                                        '9th', \n",
    "                                                        '10th',\n",
    "                                                        '11th', \n",
    "                                                        '12th',\n",
    "                                                        'HS-grad'],value = 'high-school')"
   ]
  },
  {
   "cell_type": "code",
   "execution_count": null,
   "metadata": {},
   "outputs": [],
   "source": [
    "df['educ_recod'] = df['educ_recod'].replace(to_replace =['Assoc-voc', \n",
    "                                                        'Assoc-acdm', \n",
    "                                                        'Some-college'],value = 'college')"
   ]
  },
  {
   "cell_type": "code",
   "execution_count": null,
   "metadata": {},
   "outputs": [],
   "source": [
    "df['educ_recod'] = df['educ_recod'].replace(to_replace =['Bachelors', \n",
    "                                                        'Masters', \n",
    "                                                        'Prof-school', \n",
    "                                                        'Doctorate'],value = 'university')"
   ]
  },
  {
   "cell_type": "code",
   "execution_count": null,
   "metadata": {},
   "outputs": [
    {
     "data": {
      "text/plain": [
       "high-school          19701\n",
       "college              13365\n",
       "university           11413\n",
       "elementary-school      671\n",
       "preschool               72\n",
       "Name: educ_recod, dtype: int64"
      ]
     },
     "execution_count": 32,
     "metadata": {},
     "output_type": "execute_result"
    }
   ],
   "source": [
    "#valores recodificados de ocupación\n",
    "df['educ_recod'].value_counts()"
   ]
  },
  {
   "cell_type": "markdown",
   "metadata": {},
   "source": [
    "<b>marital-status debe recodificarse como civstatus  siguiendo una  nomenclatura similar a :<br>\n",
    "married$\\leftarrow$ Married-civ-spouse, Married-spouse-absent, Married-AF-spouse<br>\n",
    "divorced$\\leftarrow$ Divorced<br>\n",
    "separated$\\leftarrow$ Separated<br>\n",
    "widowed$\\leftarrow$ Widowed<br>"
   ]
  },
  {
   "cell_type": "code",
   "execution_count": null,
   "metadata": {},
   "outputs": [
    {
     "data": {
      "text/plain": [
       "Married-civ-spouse       21055\n",
       "Never-married            14598\n",
       "Divorced                  6297\n",
       "Separated                 1411\n",
       "Widowed                   1277\n",
       "Married-spouse-absent      552\n",
       "Married-AF-spouse           32\n",
       "Name: marital_status, dtype: int64"
      ]
     },
     "execution_count": 33,
     "metadata": {},
     "output_type": "execute_result"
    }
   ],
   "source": [
    "#valores originales de estado conyugal\n",
    "df['marital_status'].value_counts()"
   ]
  },
  {
   "cell_type": "code",
   "execution_count": null,
   "metadata": {},
   "outputs": [],
   "source": [
    "# copia la columna con el nombre indicado\n",
    "df['civstatus'] = df['marital_status']"
   ]
  },
  {
   "cell_type": "code",
   "execution_count": null,
   "metadata": {},
   "outputs": [],
   "source": [
    "df['civstatus'] = df['marital_status'].replace(to_replace =['Married-civ-spouse', \n",
    "                                                            'Married-spouse-absent', \n",
    "                                                            'Married-AF-spouse'],value = 'married')"
   ]
  },
  {
   "cell_type": "code",
   "execution_count": null,
   "metadata": {},
   "outputs": [],
   "source": [
    "df['civstatus'] = df['civstatus'].replace(to_replace =['Divorced'],value = 'divorced')"
   ]
  },
  {
   "cell_type": "code",
   "execution_count": null,
   "metadata": {},
   "outputs": [],
   "source": [
    "df['civstatus'] = df['civstatus'].replace(to_replace =['Separated'],value = 'separated')"
   ]
  },
  {
   "cell_type": "code",
   "execution_count": null,
   "metadata": {},
   "outputs": [],
   "source": [
    "df['civstatus'] = df['civstatus'].replace(to_replace =['Widowed'],value = 'widowed')"
   ]
  },
  {
   "cell_type": "code",
   "execution_count": null,
   "metadata": {},
   "outputs": [
    {
     "data": {
      "text/plain": [
       "married          21639\n",
       "Never-married    14598\n",
       "divorced          6297\n",
       "separated         1411\n",
       "widowed           1277\n",
       "Name: civstatus, dtype: int64"
      ]
     },
     "execution_count": 39,
     "metadata": {},
     "output_type": "execute_result"
    }
   ],
   "source": [
    "#valores transformados de estado conyugal\n",
    "df['civstatus'].value_counts()"
   ]
  },
  {
   "cell_type": "markdown",
   "metadata": {},
   "source": [
    "<B>native-country debe recodificarse como region donde cada país debe asignarse auno de los 5 continente"
   ]
  },
  {
   "cell_type": "code",
   "execution_count": null,
   "metadata": {},
   "outputs": [],
   "source": [
    "# copia la columna con el nombre indicado\n",
    "df['region'] = df['native_country']"
   ]
  },
  {
   "cell_type": "code",
   "execution_count": null,
   "metadata": {},
   "outputs": [
    {
     "data": {
      "text/plain": [
       "United-States                 41292\n",
       "Mexico                          903\n",
       "Philippines                     283\n",
       "Germany                         193\n",
       "Puerto-Rico                     175\n",
       "Canada                          163\n",
       "India                           147\n",
       "El-Salvador                     147\n",
       "Cuba                            133\n",
       "England                         119\n",
       "China                           113\n",
       "Jamaica                         103\n",
       "South                           101\n",
       "Italy                           100\n",
       "Dominican-Republic               97\n",
       "Japan                            89\n",
       "Guatemala                        86\n",
       "Vietnam                          83\n",
       "Columbia                         82\n",
       "Poland                           81\n",
       "Haiti                            69\n",
       "Portugal                         62\n",
       "Iran                             56\n",
       "Taiwan                           55\n",
       "Greece                           49\n",
       "Nicaragua                        48\n",
       "Peru                             45\n",
       "Ecuador                          43\n",
       "Ireland                          36\n",
       "France                           36\n",
       "Thailand                         29\n",
       "Hong                             28\n",
       "Trinadad&Tobago                  26\n",
       "Cambodia                         26\n",
       "Yugoslavia                       23\n",
       "Outlying-US(Guam-USVI-etc)       22\n",
       "Laos                             21\n",
       "Scotland                         20\n",
       "Honduras                         19\n",
       "Hungary                          18\n",
       "Holand-Netherlands                1\n",
       "Name: region, dtype: int64"
      ]
     },
     "execution_count": 41,
     "metadata": {},
     "output_type": "execute_result"
    }
   ],
   "source": [
    "#valores originales de region\n",
    "df['region'].value_counts()"
   ]
  },
  {
   "cell_type": "code",
   "execution_count": null,
   "metadata": {},
   "outputs": [],
   "source": [
    "df['region'] = df['region'].replace(to_replace =['United-States',\n",
    "                                                 'Peru',\n",
    "                                                 'Guatemala',\n",
    "                                                 'Mexico',\n",
    "                                                 'El-Salvador', \n",
    "                                                 'Puerto-Rico',\n",
    "                                                 'Columbia',\n",
    "                                                 'Nicaragua',\n",
    "                                                 'Honduras',\n",
    "                                                 'Jamaica',\n",
    "                                                 'Ecuador',\n",
    "                                                 'Trinadad&Tobago',\n",
    "                                                 'Cuba',\n",
    "                                                 'Canada',\n",
    "                                                 'Haiti',\n",
    "                                                 'Outlying-US(Guam-USVI-etc)',\n",
    "                                                 'Dominican-Republic'],value = 'america')"
   ]
  },
  {
   "cell_type": "code",
   "execution_count": null,
   "metadata": {},
   "outputs": [],
   "source": [
    "df['region'] = df['region'].replace(to_replace =['Ireland', 'Germany',\n",
    "                                                 'Poland','England',\n",
    "                                                 'Italy','Portugal',\n",
    "                                                 'Scotland', 'Yugoslavia',\n",
    "                                                 'Hungary','Greece',\n",
    "                                                 'France',\n",
    "                                                 'Holand-Netherlands'],value = 'europa')"
   ]
  },
  {
   "cell_type": "code",
   "execution_count": null,
   "metadata": {},
   "outputs": [],
   "source": [
    "df['region'] = df['region'].replace(to_replace =['Philippines','Thailand',\n",
    "                                                 'India','Laos','Taiwan',\n",
    "                                                 'China','Iran','Hong',\n",
    "                                                 'Cambodia','Vietnam',\n",
    "                                                 'Japan'],value = 'asia')"
   ]
  },
  {
   "cell_type": "code",
   "execution_count": null,
   "metadata": {},
   "outputs": [
    {
     "data": {
      "text/plain": [
       "america    43453\n",
       "asia         930\n",
       "europa       738\n",
       "South        101\n",
       "Name: region, dtype: int64"
      ]
     },
     "execution_count": 45,
     "metadata": {},
     "output_type": "execute_result"
    }
   ],
   "source": [
    "#valores transformados de region\n",
    "df['region'].value_counts()"
   ]
  },
  {
   "cell_type": "code",
   "execution_count": null,
   "metadata": {},
   "outputs": [],
   "source": [
    "#binarización de income\n",
    "df['income'] = np.where(df['income'] == '>50K', 1, 0)"
   ]
  },
  {
   "cell_type": "code",
   "execution_count": null,
   "metadata": {},
   "outputs": [
    {
     "data": {
      "text/plain": [
       "0    34014\n",
       "1    11208\n",
       "Name: income, dtype: int64"
      ]
     },
     "execution_count": 47,
     "metadata": {},
     "output_type": "execute_result"
    }
   ],
   "source": [
    "#valores transformados de region\n",
    "df['income'].value_counts()"
   ]
  },
  {
   "cell_type": "code",
   "execution_count": null,
   "metadata": {},
   "outputs": [],
   "source": [
    "df = df.drop(columns=['occupation', 'workclass', 'education', 'marital_status', 'native_country'])"
   ]
  },
  {
   "cell_type": "code",
   "execution_count": null,
   "metadata": {},
   "outputs": [
    {
     "data": {
      "text/html": [
       "<div>\n",
       "<style scoped>\n",
       "    .dataframe tbody tr th:only-of-type {\n",
       "        vertical-align: middle;\n",
       "    }\n",
       "\n",
       "    .dataframe tbody tr th {\n",
       "        vertical-align: top;\n",
       "    }\n",
       "\n",
       "    .dataframe thead th {\n",
       "        text-align: right;\n",
       "    }\n",
       "</style>\n",
       "<table border=\"1\" class=\"dataframe\">\n",
       "  <thead>\n",
       "    <tr style=\"text-align: right;\">\n",
       "      <th></th>\n",
       "      <th>age</th>\n",
       "      <th>educational_num</th>\n",
       "      <th>relationship</th>\n",
       "      <th>race</th>\n",
       "      <th>gender</th>\n",
       "      <th>capital_gain</th>\n",
       "      <th>capital_loss</th>\n",
       "      <th>hours_per_week</th>\n",
       "      <th>income</th>\n",
       "      <th>collars</th>\n",
       "      <th>workclass_recod</th>\n",
       "      <th>educ_recod</th>\n",
       "      <th>civstatus</th>\n",
       "      <th>region</th>\n",
       "    </tr>\n",
       "  </thead>\n",
       "  <tbody>\n",
       "    <tr>\n",
       "      <th>0</th>\n",
       "      <td>25</td>\n",
       "      <td>7</td>\n",
       "      <td>Own-child</td>\n",
       "      <td>Black</td>\n",
       "      <td>Male</td>\n",
       "      <td>0</td>\n",
       "      <td>0</td>\n",
       "      <td>40</td>\n",
       "      <td>0</td>\n",
       "      <td>blue-collar</td>\n",
       "      <td>Private</td>\n",
       "      <td>high-school</td>\n",
       "      <td>Never-married</td>\n",
       "      <td>america</td>\n",
       "    </tr>\n",
       "    <tr>\n",
       "      <th>1</th>\n",
       "      <td>38</td>\n",
       "      <td>9</td>\n",
       "      <td>Husband</td>\n",
       "      <td>White</td>\n",
       "      <td>Male</td>\n",
       "      <td>0</td>\n",
       "      <td>0</td>\n",
       "      <td>50</td>\n",
       "      <td>0</td>\n",
       "      <td>blue-collar</td>\n",
       "      <td>Private</td>\n",
       "      <td>high-school</td>\n",
       "      <td>married</td>\n",
       "      <td>america</td>\n",
       "    </tr>\n",
       "    <tr>\n",
       "      <th>2</th>\n",
       "      <td>28</td>\n",
       "      <td>12</td>\n",
       "      <td>Husband</td>\n",
       "      <td>White</td>\n",
       "      <td>Male</td>\n",
       "      <td>0</td>\n",
       "      <td>0</td>\n",
       "      <td>40</td>\n",
       "      <td>1</td>\n",
       "      <td>blue-collar</td>\n",
       "      <td>state-level-gov</td>\n",
       "      <td>college</td>\n",
       "      <td>married</td>\n",
       "      <td>america</td>\n",
       "    </tr>\n",
       "    <tr>\n",
       "      <th>3</th>\n",
       "      <td>44</td>\n",
       "      <td>10</td>\n",
       "      <td>Husband</td>\n",
       "      <td>Black</td>\n",
       "      <td>Male</td>\n",
       "      <td>7688</td>\n",
       "      <td>0</td>\n",
       "      <td>40</td>\n",
       "      <td>1</td>\n",
       "      <td>blue-collar</td>\n",
       "      <td>Private</td>\n",
       "      <td>college</td>\n",
       "      <td>married</td>\n",
       "      <td>america</td>\n",
       "    </tr>\n",
       "    <tr>\n",
       "      <th>5</th>\n",
       "      <td>34</td>\n",
       "      <td>6</td>\n",
       "      <td>Not-in-family</td>\n",
       "      <td>White</td>\n",
       "      <td>Male</td>\n",
       "      <td>0</td>\n",
       "      <td>0</td>\n",
       "      <td>30</td>\n",
       "      <td>0</td>\n",
       "      <td>others</td>\n",
       "      <td>Private</td>\n",
       "      <td>high-school</td>\n",
       "      <td>Never-married</td>\n",
       "      <td>america</td>\n",
       "    </tr>\n",
       "  </tbody>\n",
       "</table>\n",
       "</div>"
      ],
      "text/plain": [
       "   age  educational_num   relationship   race gender  capital_gain  \\\n",
       "0   25                7      Own-child  Black   Male             0   \n",
       "1   38                9        Husband  White   Male             0   \n",
       "2   28               12        Husband  White   Male             0   \n",
       "3   44               10        Husband  Black   Male          7688   \n",
       "5   34                6  Not-in-family  White   Male             0   \n",
       "\n",
       "   capital_loss  hours_per_week  income      collars  workclass_recod  \\\n",
       "0             0              40       0  blue-collar          Private   \n",
       "1             0              50       0  blue-collar          Private   \n",
       "2             0              40       1  blue-collar  state-level-gov   \n",
       "3             0              40       1  blue-collar          Private   \n",
       "5             0              30       0       others          Private   \n",
       "\n",
       "    educ_recod      civstatus   region  \n",
       "0  high-school  Never-married  america  \n",
       "1  high-school        married  america  \n",
       "2      college        married  america  \n",
       "3      college        married  america  \n",
       "5  high-school  Never-married  america  "
      ]
     },
     "execution_count": 49,
     "metadata": {},
     "output_type": "execute_result"
    }
   ],
   "source": [
    "df.head()"
   ]
  },
  {
   "cell_type": "markdown",
   "metadata": {},
   "source": [
    "# 4. Modelación descriptiva"
   ]
  },
  {
   "cell_type": "code",
   "execution_count": null,
   "metadata": {},
   "outputs": [
    {
     "data": {
      "image/png": "[encoded data removed]",
      "text/plain": [
       "<Figure size 576x360 with 2 Axes>"
      ]
     },
     "metadata": {
      "needs_background": "light"
     },
     "output_type": "display_data"
    }
   ],
   "source": [
    "dfcorr = df.corr().dropna()\n",
    "plt.rcParams['figure.figsize'] = 8, 5\n",
    "ax = sns.heatmap(dfcorr, annot=True, cmap='Blues', vmin=-1, vmax=1, fmt='.1g')\n",
    "plt.tight_layout()"
   ]
  },
  {
   "cell_type": "code",
   "execution_count": null,
   "metadata": {},
   "outputs": [],
   "source": [
    "def transformaciones(df):\n",
    "    \"\"\"For a given dataframe, binarize rows 0-1 (2 category).\n",
    "    \n",
    "    Parameters\n",
    "    ----------\n",
    "    dataframe : df\n",
    "        dataframe to transform\n",
    "    \n",
    "    Returns\n",
    "    -------\n",
    "    print : 'done'\n",
    "        when ends\n",
    "    \"\"\"\n",
    "    columnas = df.columns.to_list()\n",
    "    for columna in columnas:\n",
    "        if df[columna].dtypes == 'object':\n",
    "            valores = df[columna].value_counts().index.tolist()\n",
    "            valores.pop(0)\n",
    "            for valor in valores:\n",
    "                df[\"bin_\"+columna+\"_\"+valor] = np.where(df[columna] == valor, 1, 0)"
   ]
  },
  {
   "cell_type": "code",
   "execution_count": null,
   "metadata": {},
   "outputs": [],
   "source": [
    "transformaciones(df)"
   ]
  },
  {
   "cell_type": "code",
   "execution_count": null,
   "metadata": {},
   "outputs": [],
   "source": [
    "df = df.drop(columns=['relationship','race','gender','collars','workclass_recod','educ_recod','civstatus','region'])"
   ]
  },
  {
   "cell_type": "code",
   "execution_count": null,
   "metadata": {},
   "outputs": [
    {
     "data": {
      "text/plain": [
       "'income ~ + age + educational_num + capital_gain + capital_loss + hours_per_week + bin_relationship_Not_in_family + bin_relationship_Own_child + bin_relationship_Unmarried + bin_relationship_Wife + bin_relationship_Other_relative + bin_race_Black + bin_race_Asian_Pac_Islander + bin_race_Amer_Indian_Eskimo + bin_race_Other + bin_gender_Female + bin_collars_blue_collar + bin_collars_others + bin_workclass_recod_self_employed + bin_workclass_recod_state_level_gov + bin_workclass_recod_federal_gov + bin_workclass_recod_unemployed + bin_educ_recod_college + bin_educ_recod_university + bin_educ_recod_elementary_school + bin_educ_recod_preschool + bin_civstatus_Never_married + bin_civstatus_divorced + bin_civstatus_separated + bin_civstatus_widowed + bin_region_asia + bin_region_europa + bin_region_South'"
      ]
     },
     "execution_count": 54,
     "metadata": {},
     "output_type": "execute_result"
    }
   ],
   "source": [
    "# Implemente un modelo con la siguiente forma\n",
    "df = df.rename(columns=lambda x: re.sub('-','_',x))\n",
    "columnas = df.columns.to_list()\n",
    "tmpcolumns = 'income ~'\n",
    "for columna in columnas:\n",
    "    if columna != 'income':\n",
    "         tmpcolumns += ' + '+ columna\n",
    "tmpcolumns"
   ]
  },
  {
   "cell_type": "code",
   "execution_count": null,
   "metadata": {},
   "outputs": [
    {
     "name": "stdout",
     "output_type": "stream",
     "text": [
      "Optimization terminated successfully.\n",
      "         Current function value: 0.331857\n",
      "         Iterations 11\n"
     ]
    },
    {
     "data": {
      "text/html": [
       "<table class=\"simpletable\">\n",
       "<caption>Logit Regression Results</caption>\n",
       "<tr>\n",
       "  <th>Dep. Variable:</th>      <td>income</td>      <th>  No. Observations:  </th>  <td> 45222</td> \n",
       "</tr>\n",
       "<tr>\n",
       "  <th>Model:</th>               <td>Logit</td>      <th>  Df Residuals:      </th>  <td> 45189</td> \n",
       "</tr>\n",
       "<tr>\n",
       "  <th>Method:</th>               <td>MLE</td>       <th>  Df Model:          </th>  <td>    32</td> \n",
       "</tr>\n",
       "<tr>\n",
       "  <th>Date:</th>          <td>Sat, 02 Nov 2019</td> <th>  Pseudo R-squ.:     </th>  <td>0.4073</td> \n",
       "</tr>\n",
       "<tr>\n",
       "  <th>Time:</th>              <td>14:54:25</td>     <th>  Log-Likelihood:    </th> <td> -15007.</td>\n",
       "</tr>\n",
       "<tr>\n",
       "  <th>converged:</th>           <td>True</td>       <th>  LL-Null:           </th> <td> -25322.</td>\n",
       "</tr>\n",
       "<tr>\n",
       "  <th> </th>                      <td> </td>        <th>  LLR p-value:       </th>  <td> 0.000</td> \n",
       "</tr>\n",
       "</table>\n",
       "<table class=\"simpletable\">\n",
       "<tr>\n",
       "                   <td></td>                      <th>coef</th>     <th>std err</th>      <th>z</th>      <th>P>|z|</th>  <th>[0.025</th>    <th>0.975]</th>  \n",
       "</tr>\n",
       "<tr>\n",
       "  <th>Intercept</th>                           <td>   -5.4042</td> <td>    0.171</td> <td>  -31.544</td> <td> 0.000</td> <td>   -5.740</td> <td>   -5.068</td>\n",
       "</tr>\n",
       "<tr>\n",
       "  <th>age</th>                                 <td>    0.0249</td> <td>    0.001</td> <td>   18.408</td> <td> 0.000</td> <td>    0.022</td> <td>    0.028</td>\n",
       "</tr>\n",
       "<tr>\n",
       "  <th>educational_num</th>                     <td>    0.2757</td> <td>    0.016</td> <td>   17.191</td> <td> 0.000</td> <td>    0.244</td> <td>    0.307</td>\n",
       "</tr>\n",
       "<tr>\n",
       "  <th>capital_gain</th>                        <td>    0.0003</td> <td>  8.6e-06</td> <td>   36.912</td> <td> 0.000</td> <td>    0.000</td> <td>    0.000</td>\n",
       "</tr>\n",
       "<tr>\n",
       "  <th>capital_loss</th>                        <td>    0.0007</td> <td> 3.07e-05</td> <td>   21.320</td> <td> 0.000</td> <td>    0.001</td> <td>    0.001</td>\n",
       "</tr>\n",
       "<tr>\n",
       "  <th>hours_per_week</th>                      <td>    0.0295</td> <td>    0.001</td> <td>   22.396</td> <td> 0.000</td> <td>    0.027</td> <td>    0.032</td>\n",
       "</tr>\n",
       "<tr>\n",
       "  <th>bin_relationship_Not_in_family</th>      <td>   -0.9591</td> <td>    0.134</td> <td>   -7.160</td> <td> 0.000</td> <td>   -1.222</td> <td>   -0.697</td>\n",
       "</tr>\n",
       "<tr>\n",
       "  <th>bin_relationship_Own_child</th>          <td>   -1.9455</td> <td>    0.167</td> <td>  -11.680</td> <td> 0.000</td> <td>   -2.272</td> <td>   -1.619</td>\n",
       "</tr>\n",
       "<tr>\n",
       "  <th>bin_relationship_Unmarried</th>          <td>   -1.1914</td> <td>    0.151</td> <td>   -7.916</td> <td> 0.000</td> <td>   -1.486</td> <td>   -0.896</td>\n",
       "</tr>\n",
       "<tr>\n",
       "  <th>bin_relationship_Wife</th>               <td>    1.0609</td> <td>    0.084</td> <td>   12.618</td> <td> 0.000</td> <td>    0.896</td> <td>    1.226</td>\n",
       "</tr>\n",
       "<tr>\n",
       "  <th>bin_relationship_Other_relative</th>     <td>   -1.4202</td> <td>    0.187</td> <td>   -7.580</td> <td> 0.000</td> <td>   -1.787</td> <td>   -1.053</td>\n",
       "</tr>\n",
       "<tr>\n",
       "  <th>bin_race_Black</th>                      <td>   -0.2040</td> <td>    0.062</td> <td>   -3.268</td> <td> 0.001</td> <td>   -0.326</td> <td>   -0.082</td>\n",
       "</tr>\n",
       "<tr>\n",
       "  <th>bin_race_Asian_Pac_Islander</th>         <td>    0.2850</td> <td>    0.135</td> <td>    2.116</td> <td> 0.034</td> <td>    0.021</td> <td>    0.549</td>\n",
       "</tr>\n",
       "<tr>\n",
       "  <th>bin_race_Amer_Indian_Eskimo</th>         <td>   -0.5528</td> <td>    0.179</td> <td>   -3.083</td> <td> 0.002</td> <td>   -0.904</td> <td>   -0.201</td>\n",
       "</tr>\n",
       "<tr>\n",
       "  <th>bin_race_Other</th>                      <td>   -0.2690</td> <td>    0.206</td> <td>   -1.306</td> <td> 0.191</td> <td>   -0.673</td> <td>    0.135</td>\n",
       "</tr>\n",
       "<tr>\n",
       "  <th>bin_gender_Female</th>                   <td>   -0.7891</td> <td>    0.064</td> <td>  -12.287</td> <td> 0.000</td> <td>   -0.915</td> <td>   -0.663</td>\n",
       "</tr>\n",
       "<tr>\n",
       "  <th>bin_collars_blue_collar</th>             <td>   -0.6041</td> <td>    0.035</td> <td>  -17.086</td> <td> 0.000</td> <td>   -0.673</td> <td>   -0.535</td>\n",
       "</tr>\n",
       "<tr>\n",
       "  <th>bin_collars_others</th>                  <td>   -1.3365</td> <td>    0.086</td> <td>  -15.578</td> <td> 0.000</td> <td>   -1.505</td> <td>   -1.168</td>\n",
       "</tr>\n",
       "<tr>\n",
       "  <th>bin_workclass_recod_self_employed</th>   <td>   -0.3441</td> <td>    0.042</td> <td>   -8.150</td> <td> 0.000</td> <td>   -0.427</td> <td>   -0.261</td>\n",
       "</tr>\n",
       "<tr>\n",
       "  <th>bin_workclass_recod_state_level_gov</th> <td>   -0.0765</td> <td>    0.046</td> <td>   -1.668</td> <td> 0.095</td> <td>   -0.166</td> <td>    0.013</td>\n",
       "</tr>\n",
       "<tr>\n",
       "  <th>bin_workclass_recod_federal_gov</th>     <td>    0.4389</td> <td>    0.075</td> <td>    5.856</td> <td> 0.000</td> <td>    0.292</td> <td>    0.586</td>\n",
       "</tr>\n",
       "<tr>\n",
       "  <th>bin_workclass_recod_unemployed</th>      <td>   -1.1046</td> <td>    0.801</td> <td>   -1.379</td> <td> 0.168</td> <td>   -2.674</td> <td>    0.465</td>\n",
       "</tr>\n",
       "<tr>\n",
       "  <th>bin_educ_recod_college</th>              <td>    0.0659</td> <td>    0.047</td> <td>    1.410</td> <td> 0.159</td> <td>   -0.026</td> <td>    0.157</td>\n",
       "</tr>\n",
       "<tr>\n",
       "  <th>bin_educ_recod_university</th>           <td>    0.1551</td> <td>    0.086</td> <td>    1.803</td> <td> 0.071</td> <td>   -0.013</td> <td>    0.324</td>\n",
       "</tr>\n",
       "<tr>\n",
       "  <th>bin_educ_recod_elementary_school</th>    <td>    0.2309</td> <td>    0.223</td> <td>    1.035</td> <td> 0.301</td> <td>   -0.207</td> <td>    0.668</td>\n",
       "</tr>\n",
       "<tr>\n",
       "  <th>bin_educ_recod_preschool</th>            <td>   -3.9004</td> <td>    4.058</td> <td>   -0.961</td> <td> 0.336</td> <td>  -11.853</td> <td>    4.053</td>\n",
       "</tr>\n",
       "<tr>\n",
       "  <th>bin_civstatus_Never_married</th>         <td>   -1.2872</td> <td>    0.137</td> <td>   -9.414</td> <td> 0.000</td> <td>   -1.555</td> <td>   -1.019</td>\n",
       "</tr>\n",
       "<tr>\n",
       "  <th>bin_civstatus_divorced</th>              <td>   -0.8030</td> <td>    0.138</td> <td>   -5.801</td> <td> 0.000</td> <td>   -1.074</td> <td>   -0.532</td>\n",
       "</tr>\n",
       "<tr>\n",
       "  <th>bin_civstatus_separated</th>             <td>   -0.8240</td> <td>    0.178</td> <td>   -4.623</td> <td> 0.000</td> <td>   -1.173</td> <td>   -0.475</td>\n",
       "</tr>\n",
       "<tr>\n",
       "  <th>bin_civstatus_widowed</th>               <td>   -0.7116</td> <td>    0.176</td> <td>   -4.044</td> <td> 0.000</td> <td>   -1.056</td> <td>   -0.367</td>\n",
       "</tr>\n",
       "<tr>\n",
       "  <th>bin_region_asia</th>                     <td>   -0.4291</td> <td>    0.151</td> <td>   -2.842</td> <td> 0.004</td> <td>   -0.725</td> <td>   -0.133</td>\n",
       "</tr>\n",
       "<tr>\n",
       "  <th>bin_region_europa</th>                   <td>    0.2009</td> <td>    0.106</td> <td>    1.903</td> <td> 0.057</td> <td>   -0.006</td> <td>    0.408</td>\n",
       "</tr>\n",
       "<tr>\n",
       "  <th>bin_region_South</th>                    <td>   -1.4524</td> <td>    0.382</td> <td>   -3.804</td> <td> 0.000</td> <td>   -2.201</td> <td>   -0.704</td>\n",
       "</tr>\n",
       "</table>"
      ],
      "text/plain": [
       "<class 'statsmodels.iolib.summary.Summary'>\n",
       "\"\"\"\n",
       "                           Logit Regression Results                           \n",
       "==============================================================================\n",
       "Dep. Variable:                 income   No. Observations:                45222\n",
       "Model:                          Logit   Df Residuals:                    45189\n",
       "Method:                           MLE   Df Model:                           32\n",
       "Date:                Sat, 02 Nov 2019   Pseudo R-squ.:                  0.4073\n",
       "Time:                        14:54:25   Log-Likelihood:                -15007.\n",
       "converged:                       True   LL-Null:                       -25322.\n",
       "                                        LLR p-value:                     0.000\n",
       "=======================================================================================================\n",
       "                                          coef    std err          z      P>|z|      [0.025      0.975]\n",
       "-------------------------------------------------------------------------------------------------------\n",
       "Intercept                              -5.4042      0.171    -31.544      0.000      -5.740      -5.068\n",
       "age                                     0.0249      0.001     18.408      0.000       0.022       0.028\n",
       "educational_num                         0.2757      0.016     17.191      0.000       0.244       0.307\n",
       "capital_gain                            0.0003    8.6e-06     36.912      0.000       0.000       0.000\n",
       "capital_loss                            0.0007   3.07e-05     21.320      0.000       0.001       0.001\n",
       "hours_per_week                          0.0295      0.001     22.396      0.000       0.027       0.032\n",
       "bin_relationship_Not_in_family         -0.9591      0.134     -7.160      0.000      -1.222      -0.697\n",
       "bin_relationship_Own_child             -1.9455      0.167    -11.680      0.000      -2.272      -1.619\n",
       "bin_relationship_Unmarried             -1.1914      0.151     -7.916      0.000      -1.486      -0.896\n",
       "bin_relationship_Wife                   1.0609      0.084     12.618      0.000       0.896       1.226\n",
       "bin_relationship_Other_relative        -1.4202      0.187     -7.580      0.000      -1.787      -1.053\n",
       "bin_race_Black                         -0.2040      0.062     -3.268      0.001      -0.326      -0.082\n",
       "bin_race_Asian_Pac_Islander             0.2850      0.135      2.116      0.034       0.021       0.549\n",
       "bin_race_Amer_Indian_Eskimo            -0.5528      0.179     -3.083      0.002      -0.904      -0.201\n",
       "bin_race_Other                         -0.2690      0.206     -1.306      0.191      -0.673       0.135\n",
       "bin_gender_Female                      -0.7891      0.064    -12.287      0.000      -0.915      -0.663\n",
       "bin_collars_blue_collar                -0.6041      0.035    -17.086      0.000      -0.673      -0.535\n",
       "bin_collars_others                     -1.3365      0.086    -15.578      0.000      -1.505      -1.168\n",
       "bin_workclass_recod_self_employed      -0.3441      0.042     -8.150      0.000      -0.427      -0.261\n",
       "bin_workclass_recod_state_level_gov    -0.0765      0.046     -1.668      0.095      -0.166       0.013\n",
       "bin_workclass_recod_federal_gov         0.4389      0.075      5.856      0.000       0.292       0.586\n",
       "bin_workclass_recod_unemployed         -1.1046      0.801     -1.379      0.168      -2.674       0.465\n",
       "bin_educ_recod_college                  0.0659      0.047      1.410      0.159      -0.026       0.157\n",
       "bin_educ_recod_university               0.1551      0.086      1.803      0.071      -0.013       0.324\n",
       "bin_educ_recod_elementary_school        0.2309      0.223      1.035      0.301      -0.207       0.668\n",
       "bin_educ_recod_preschool               -3.9004      4.058     -0.961      0.336     -11.853       4.053\n",
       "bin_civstatus_Never_married            -1.2872      0.137     -9.414      0.000      -1.555      -1.019\n",
       "bin_civstatus_divorced                 -0.8030      0.138     -5.801      0.000      -1.074      -0.532\n",
       "bin_civstatus_separated                -0.8240      0.178     -4.623      0.000      -1.173      -0.475\n",
       "bin_civstatus_widowed                  -0.7116      0.176     -4.044      0.000      -1.056      -0.367\n",
       "bin_region_asia                        -0.4291      0.151     -2.842      0.004      -0.725      -0.133\n",
       "bin_region_europa                       0.2009      0.106      1.903      0.057      -0.006       0.408\n",
       "bin_region_South                       -1.4524      0.382     -3.804      0.000      -2.201      -0.704\n",
       "=======================================================================================================\n",
       "\"\"\""
      ]
     },
     "execution_count": 55,
     "metadata": {},
     "output_type": "execute_result"
    }
   ],
   "source": [
    "modelo1=smf.logit(tmpcolumns, data=df).fit()\n",
    "modelo1.summary()"
   ]
  },
  {
   "cell_type": "code",
   "execution_count": null,
   "metadata": {},
   "outputs": [],
   "source": [
    "#significancia estadisitca  = 0.005\n",
    "#Variables a borrar = sbp, adiposity, obesity, alcohol\n",
    "df = df.drop(['bin_race_Other','bin_workclass_recod_state_level_gov','bin_workclass_recod_unemployed',\n",
    "                'bin_educ_recod_college','bin_educ_recod_university','bin_educ_recod_elementary_school',\n",
    "                'bin_educ_recod_preschool','bin_region_europa'], axis=1)"
   ]
  },
  {
   "cell_type": "code",
   "execution_count": null,
   "metadata": {},
   "outputs": [],
   "source": [
    "columnas = df.columns.to_list()\n",
    "tmpcolumns = 'income ~'\n",
    "for columna in columnas:\n",
    "    if columna != 'income':\n",
    "         tmpcolumns += ' + '+ columna\n",
    "tmpcolumns"
   ]
  },
  {
   "cell_type": "code",
   "execution_count": null,
   "metadata": {},
   "outputs": [],
   "source": [
    "modelo2=smf.logit(tmpcolumns, data=df).fit()\n",
    "modelo2.summary()"
   ]
  },
  {
   "cell_type": "markdown",
   "metadata": {},
   "source": [
    "def invlogit(x):\n",
    "    return 1 / (1 + np.exp(-x))"
   ]
  },
  {
   "cell_type": "code",
   "execution_count": null,
   "metadata": {},
   "outputs": [],
   "source": [
    "x = df.drop(['income'], axis=1)  # features\n",
    "y = df['income']  # target"
   ]
  },
  {
   "cell_type": "code",
   "execution_count": null,
   "metadata": {},
   "outputs": [],
   "source": [
    "x_train, x_test, y_train, y_test = train_test_split(x, y, test_size=0.33, random_state=42)"
   ]
  },
  {
   "cell_type": "code",
   "execution_count": null,
   "metadata": {},
   "outputs": [],
   "source": [
    "model = LogisticRegression().fit(x_train, y_train)"
   ]
  },
  {
   "cell_type": "code",
   "execution_count": null,
   "metadata": {},
   "outputs": [],
   "source": [
    "yhat_class = model.predict(x_test)"
   ]
  },
  {
   "cell_type": "code",
   "execution_count": null,
   "metadata": {},
   "outputs": [],
   "source": [
    "yhat_pr = model.predict_proba(x_test)[:, 1]"
   ]
  },
  {
   "cell_type": "code",
   "execution_count": null,
   "metadata": {},
   "outputs": [],
   "source": [
    "from sklearn.metrics import confusion_matrix\n",
    "print(confusion_matrix(y_test, yhat_class))"
   ]
  },
  {
   "cell_type": "code",
   "execution_count": null,
   "metadata": {},
   "outputs": [],
   "source": [
    "from sklearn.metrics import classification_report\n",
    "print(classification_report(y_test, yhat_class))"
   ]
  },
  {
   "cell_type": "code",
   "execution_count": null,
   "metadata": {},
   "outputs": [],
   "source": [
    "from sklearn.metrics import roc_curve\n",
    "false_positive, true_positive, thres = roc_curve(y_test, yhat_pr)\n",
    "plt.plot(false_positive, true_positive, color=\"red\")\n",
    "plt.plot([0,1], ls='-')\n",
    "plt.ylabel(\"Verdaderos Positivos\")\n",
    "plt.xlabel(\"Falsos Positivos\")"
   ]
  },
  {
   "cell_type": "code",
   "execution_count": null,
   "metadata": {},
   "outputs": [],
   "source": [
    "from sklearn.metrics import roc_auc_score\n",
    "roc_auc_score(y_test, yhat_pr)"
   ]
  },
  {
   "cell_type": "markdown",
   "metadata": {},
   "source": [
    "hay casi un 40% sobre el mecanismo de clasificación aleatoria"
   ]
  },
  {
   "cell_type": "code",
   "execution_count": null,
   "metadata": {},
   "outputs": [],
   "source": [
    "rich = np.array([40.0, 16, 'Husband', 'White', 'Male' , 1000, 0, 40, 'white', 'private'   , 'university', 'married', 'europe']).reshape(1,-1) "
   ]
  },
  {
   "cell_type": "code",
   "execution_count": null,
   "metadata": {},
   "outputs": [],
   "source": [
    "richdf = pd.DataFrame(rich,index=rich[:,0])"
   ]
  },
  {
   "cell_type": "code",
   "execution_count": null,
   "metadata": {},
   "outputs": [],
   "source": [
    "richdf = transformaciones(richdf)"
   ]
  },
  {
   "cell_type": "code",
   "execution_count": null,
   "metadata": {},
   "outputs": [],
   "source": [
    "richdf"
   ]
  },
  {
   "cell_type": "code",
   "execution_count": null,
   "metadata": {},
   "outputs": [],
   "source": [
    "predictrich = model.predict_proba(richdf)[:, 1]"
   ]
  },
  {
   "cell_type": "code",
   "execution_count": null,
   "metadata": {},
   "outputs": [],
   "source": [
    "poor = np.array([20.0,  9, 'Wife'   , 'Black', 'Woman',   100, 0,  0, 'blue' , 'unemployed', 'preschool' , 'married', 'africa']).reshape(1,-1)  # reshape is for a single feature/sample"
   ]
  },
  {
   "cell_type": "code",
   "execution_count": null,
   "metadata": {},
   "outputs": [],
   "source": [
    "poordf = pd.DataFrame(poor,index=poor[:,0])"
   ]
  },
  {
   "cell_type": "code",
   "execution_count": null,
   "metadata": {},
   "outputs": [],
   "source": []
  },
  {
   "cell_type": "code",
   "execution_count": null,
   "metadata": {},
   "outputs": [],
   "source": []
  }
 ],
 "metadata": {
  "kernelspec": {
   "display_name": "Python 3",
   "language": "python",
   "name": "python3"
  },
  "language_info": {
   "codemirror_mode": {
    "name": "ipython",
    "version": 3
   },
   "file_extension": ".py",
   "mimetype": "text/x-python",
   "name": "python",
   "nbconvert_exporter": "python",
   "pygments_lexer": "ipython3",
   "version": "3.7.3"
  }
 },
 "nbformat": 4,
 "nbformat_minor": 4
}
