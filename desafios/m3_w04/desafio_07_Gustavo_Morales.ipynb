{
 "cells": [
  {
   "cell_type": "markdown",
   "metadata": {},
   "source": [
    "## Machine Learning - Desafío 7, Árboles de Regresión\n",
    "#### Gustavo Morales, G10 - 27.Ene.2020, (Lunes Semana 4)"
   ]
  },
  {
   "cell_type": "markdown",
   "metadata": {},
   "source": [
    "### **Ejercicio 1: Preparar el ambiente de trabajo**"
   ]
  },
  {
   "cell_type": "code",
   "execution_count": 1,
   "metadata": {},
   "outputs": [],
   "source": [
    "import pandas as pd\n",
    "import numpy as np\n",
    "import matplotlib.pyplot as plt\n",
    "import seaborn as sns\n",
    "from sklearn.model_selection import train_test_split, GridSearchCV\n",
    "from sklearn.metrics import mean_squared_error, median_absolute_error, r2_score\n",
    "from sklearn.tree import DecisionTreeRegressor\n",
    "import pickle"
   ]
  },
  {
   "cell_type": "code",
   "execution_count": 2,
   "metadata": {},
   "outputs": [],
   "source": [
    "df = pd.read_csv('ames_housing.csv').drop(columns='Unnamed: 0')"
   ]
  },
  {
   "cell_type": "code",
   "execution_count": 3,
   "metadata": {},
   "outputs": [
    {
     "data": {
      "text/html": [
       "<div>\n",
       "<style scoped>\n",
       "    .dataframe tbody tr th:only-of-type {\n",
       "        vertical-align: middle;\n",
       "    }\n",
       "\n",
       "    .dataframe tbody tr th {\n",
       "        vertical-align: top;\n",
       "    }\n",
       "\n",
       "    .dataframe thead th {\n",
       "        text-align: right;\n",
       "    }\n",
       "</style>\n",
       "<table border=\"1\" class=\"dataframe\">\n",
       "  <thead>\n",
       "    <tr style=\"text-align: right;\">\n",
       "      <th></th>\n",
       "      <th>MS_SubClass</th>\n",
       "      <th>MS_Zoning</th>\n",
       "      <th>Lot_Frontage</th>\n",
       "      <th>Lot_Area</th>\n",
       "      <th>Street</th>\n",
       "      <th>Alley</th>\n",
       "      <th>Lot_Shape</th>\n",
       "      <th>Land_Contour</th>\n",
       "      <th>Utilities</th>\n",
       "      <th>Lot_Config</th>\n",
       "      <th>...</th>\n",
       "      <th>Fence</th>\n",
       "      <th>Misc_Feature</th>\n",
       "      <th>Misc_Val</th>\n",
       "      <th>Mo_Sold</th>\n",
       "      <th>Year_Sold</th>\n",
       "      <th>Sale_Type</th>\n",
       "      <th>Sale_Condition</th>\n",
       "      <th>Sale_Price</th>\n",
       "      <th>Longitude</th>\n",
       "      <th>Latitude</th>\n",
       "    </tr>\n",
       "  </thead>\n",
       "  <tbody>\n",
       "    <tr>\n",
       "      <th>1357</th>\n",
       "      <td>Two_Story_1945_and_Older</td>\n",
       "      <td>Residential_Medium_Density</td>\n",
       "      <td>0</td>\n",
       "      <td>5100</td>\n",
       "      <td>Pave</td>\n",
       "      <td>Gravel</td>\n",
       "      <td>Regular</td>\n",
       "      <td>Lvl</td>\n",
       "      <td>AllPub</td>\n",
       "      <td>Inside</td>\n",
       "      <td>...</td>\n",
       "      <td>Minimum_Privacy</td>\n",
       "      <td>None</td>\n",
       "      <td>0</td>\n",
       "      <td>6</td>\n",
       "      <td>2008</td>\n",
       "      <td>WD</td>\n",
       "      <td>Normal</td>\n",
       "      <td>161000</td>\n",
       "      <td>-93.621065</td>\n",
       "      <td>42.029038</td>\n",
       "    </tr>\n",
       "    <tr>\n",
       "      <th>2367</th>\n",
       "      <td>Two_Story_PUD_1946_and_Newer</td>\n",
       "      <td>Residential_Medium_Density</td>\n",
       "      <td>21</td>\n",
       "      <td>1890</td>\n",
       "      <td>Pave</td>\n",
       "      <td>No_Alley_Access</td>\n",
       "      <td>Regular</td>\n",
       "      <td>Lvl</td>\n",
       "      <td>AllPub</td>\n",
       "      <td>Inside</td>\n",
       "      <td>...</td>\n",
       "      <td>No_Fence</td>\n",
       "      <td>None</td>\n",
       "      <td>0</td>\n",
       "      <td>7</td>\n",
       "      <td>2006</td>\n",
       "      <td>WD</td>\n",
       "      <td>Normal</td>\n",
       "      <td>116000</td>\n",
       "      <td>-93.627103</td>\n",
       "      <td>42.051798</td>\n",
       "    </tr>\n",
       "    <tr>\n",
       "      <th>2822</th>\n",
       "      <td>Two_Story_1946_and_Newer</td>\n",
       "      <td>Residential_Low_Density</td>\n",
       "      <td>62</td>\n",
       "      <td>7162</td>\n",
       "      <td>Pave</td>\n",
       "      <td>No_Alley_Access</td>\n",
       "      <td>Regular</td>\n",
       "      <td>Lvl</td>\n",
       "      <td>AllPub</td>\n",
       "      <td>Inside</td>\n",
       "      <td>...</td>\n",
       "      <td>No_Fence</td>\n",
       "      <td>None</td>\n",
       "      <td>0</td>\n",
       "      <td>5</td>\n",
       "      <td>2006</td>\n",
       "      <td>WD</td>\n",
       "      <td>Normal</td>\n",
       "      <td>196500</td>\n",
       "      <td>-93.672379</td>\n",
       "      <td>42.018990</td>\n",
       "    </tr>\n",
       "    <tr>\n",
       "      <th>2126</th>\n",
       "      <td>One_Story_1946_and_Newer_All_Styles</td>\n",
       "      <td>Residential_Low_Density</td>\n",
       "      <td>60</td>\n",
       "      <td>8070</td>\n",
       "      <td>Pave</td>\n",
       "      <td>No_Alley_Access</td>\n",
       "      <td>Regular</td>\n",
       "      <td>Lvl</td>\n",
       "      <td>AllPub</td>\n",
       "      <td>Inside</td>\n",
       "      <td>...</td>\n",
       "      <td>No_Fence</td>\n",
       "      <td>None</td>\n",
       "      <td>0</td>\n",
       "      <td>8</td>\n",
       "      <td>2007</td>\n",
       "      <td>WD</td>\n",
       "      <td>Normal</td>\n",
       "      <td>123600</td>\n",
       "      <td>-93.692415</td>\n",
       "      <td>42.019028</td>\n",
       "    </tr>\n",
       "    <tr>\n",
       "      <th>1544</th>\n",
       "      <td>One_Story_1945_and_Older</td>\n",
       "      <td>Residential_Medium_Density</td>\n",
       "      <td>50</td>\n",
       "      <td>7000</td>\n",
       "      <td>Pave</td>\n",
       "      <td>No_Alley_Access</td>\n",
       "      <td>Regular</td>\n",
       "      <td>Lvl</td>\n",
       "      <td>AllPub</td>\n",
       "      <td>Inside</td>\n",
       "      <td>...</td>\n",
       "      <td>Minimum_Privacy</td>\n",
       "      <td>None</td>\n",
       "      <td>0</td>\n",
       "      <td>7</td>\n",
       "      <td>2008</td>\n",
       "      <td>WD</td>\n",
       "      <td>Normal</td>\n",
       "      <td>126000</td>\n",
       "      <td>-93.628409</td>\n",
       "      <td>42.022607</td>\n",
       "    </tr>\n",
       "    <tr>\n",
       "      <th>2415</th>\n",
       "      <td>One_Story_1946_and_Newer_All_Styles</td>\n",
       "      <td>Residential_Low_Density</td>\n",
       "      <td>102</td>\n",
       "      <td>11660</td>\n",
       "      <td>Pave</td>\n",
       "      <td>No_Alley_Access</td>\n",
       "      <td>Slightly_Irregular</td>\n",
       "      <td>Lvl</td>\n",
       "      <td>AllPub</td>\n",
       "      <td>Inside</td>\n",
       "      <td>...</td>\n",
       "      <td>No_Fence</td>\n",
       "      <td>None</td>\n",
       "      <td>0</td>\n",
       "      <td>7</td>\n",
       "      <td>2006</td>\n",
       "      <td>New</td>\n",
       "      <td>Partial</td>\n",
       "      <td>174190</td>\n",
       "      <td>-93.644627</td>\n",
       "      <td>42.063031</td>\n",
       "    </tr>\n",
       "    <tr>\n",
       "      <th>2227</th>\n",
       "      <td>One_Story_PUD_1946_and_Newer</td>\n",
       "      <td>Residential_Medium_Density</td>\n",
       "      <td>35</td>\n",
       "      <td>3907</td>\n",
       "      <td>Pave</td>\n",
       "      <td>No_Alley_Access</td>\n",
       "      <td>Slightly_Irregular</td>\n",
       "      <td>Bnk</td>\n",
       "      <td>AllPub</td>\n",
       "      <td>Inside</td>\n",
       "      <td>...</td>\n",
       "      <td>No_Fence</td>\n",
       "      <td>None</td>\n",
       "      <td>0</td>\n",
       "      <td>3</td>\n",
       "      <td>2007</td>\n",
       "      <td>WD</td>\n",
       "      <td>Normal</td>\n",
       "      <td>200000</td>\n",
       "      <td>-93.645785</td>\n",
       "      <td>42.009321</td>\n",
       "    </tr>\n",
       "    <tr>\n",
       "      <th>410</th>\n",
       "      <td>Two_Story_PUD_1946_and_Newer</td>\n",
       "      <td>Residential_Low_Density</td>\n",
       "      <td>24</td>\n",
       "      <td>2280</td>\n",
       "      <td>Pave</td>\n",
       "      <td>No_Alley_Access</td>\n",
       "      <td>Regular</td>\n",
       "      <td>Lvl</td>\n",
       "      <td>AllPub</td>\n",
       "      <td>FR2</td>\n",
       "      <td>...</td>\n",
       "      <td>No_Fence</td>\n",
       "      <td>None</td>\n",
       "      <td>0</td>\n",
       "      <td>7</td>\n",
       "      <td>2009</td>\n",
       "      <td>WD</td>\n",
       "      <td>Normal</td>\n",
       "      <td>148500</td>\n",
       "      <td>-93.624748</td>\n",
       "      <td>42.050705</td>\n",
       "    </tr>\n",
       "    <tr>\n",
       "      <th>761</th>\n",
       "      <td>One_Story_1946_and_Newer_All_Styles</td>\n",
       "      <td>Residential_Low_Density</td>\n",
       "      <td>50</td>\n",
       "      <td>4280</td>\n",
       "      <td>Pave</td>\n",
       "      <td>No_Alley_Access</td>\n",
       "      <td>Slightly_Irregular</td>\n",
       "      <td>Lvl</td>\n",
       "      <td>AllPub</td>\n",
       "      <td>Inside</td>\n",
       "      <td>...</td>\n",
       "      <td>No_Fence</td>\n",
       "      <td>None</td>\n",
       "      <td>0</td>\n",
       "      <td>9</td>\n",
       "      <td>2009</td>\n",
       "      <td>WD</td>\n",
       "      <td>Normal</td>\n",
       "      <td>88750</td>\n",
       "      <td>-93.659205</td>\n",
       "      <td>42.032681</td>\n",
       "    </tr>\n",
       "    <tr>\n",
       "      <th>436</th>\n",
       "      <td>Two_Story_1946_and_Newer</td>\n",
       "      <td>Residential_Low_Density</td>\n",
       "      <td>59</td>\n",
       "      <td>23303</td>\n",
       "      <td>Pave</td>\n",
       "      <td>No_Alley_Access</td>\n",
       "      <td>Irregular</td>\n",
       "      <td>Lvl</td>\n",
       "      <td>AllPub</td>\n",
       "      <td>CulDSac</td>\n",
       "      <td>...</td>\n",
       "      <td>No_Fence</td>\n",
       "      <td>None</td>\n",
       "      <td>0</td>\n",
       "      <td>6</td>\n",
       "      <td>2009</td>\n",
       "      <td>WD</td>\n",
       "      <td>Family</td>\n",
       "      <td>409900</td>\n",
       "      <td>-93.656737</td>\n",
       "      <td>42.060353</td>\n",
       "    </tr>\n",
       "  </tbody>\n",
       "</table>\n",
       "<p>10 rows × 81 columns</p>\n",
       "</div>"
      ],
      "text/plain": [
       "                              MS_SubClass                   MS_Zoning  \\\n",
       "1357             Two_Story_1945_and_Older  Residential_Medium_Density   \n",
       "2367         Two_Story_PUD_1946_and_Newer  Residential_Medium_Density   \n",
       "2822             Two_Story_1946_and_Newer     Residential_Low_Density   \n",
       "2126  One_Story_1946_and_Newer_All_Styles     Residential_Low_Density   \n",
       "1544             One_Story_1945_and_Older  Residential_Medium_Density   \n",
       "2415  One_Story_1946_and_Newer_All_Styles     Residential_Low_Density   \n",
       "2227         One_Story_PUD_1946_and_Newer  Residential_Medium_Density   \n",
       "410          Two_Story_PUD_1946_and_Newer     Residential_Low_Density   \n",
       "761   One_Story_1946_and_Newer_All_Styles     Residential_Low_Density   \n",
       "436              Two_Story_1946_and_Newer     Residential_Low_Density   \n",
       "\n",
       "      Lot_Frontage  Lot_Area Street            Alley           Lot_Shape  \\\n",
       "1357             0      5100   Pave           Gravel             Regular   \n",
       "2367            21      1890   Pave  No_Alley_Access             Regular   \n",
       "2822            62      7162   Pave  No_Alley_Access             Regular   \n",
       "2126            60      8070   Pave  No_Alley_Access             Regular   \n",
       "1544            50      7000   Pave  No_Alley_Access             Regular   \n",
       "2415           102     11660   Pave  No_Alley_Access  Slightly_Irregular   \n",
       "2227            35      3907   Pave  No_Alley_Access  Slightly_Irregular   \n",
       "410             24      2280   Pave  No_Alley_Access             Regular   \n",
       "761             50      4280   Pave  No_Alley_Access  Slightly_Irregular   \n",
       "436             59     23303   Pave  No_Alley_Access           Irregular   \n",
       "\n",
       "     Land_Contour Utilities Lot_Config  ...            Fence Misc_Feature  \\\n",
       "1357          Lvl    AllPub     Inside  ...  Minimum_Privacy         None   \n",
       "2367          Lvl    AllPub     Inside  ...         No_Fence         None   \n",
       "2822          Lvl    AllPub     Inside  ...         No_Fence         None   \n",
       "2126          Lvl    AllPub     Inside  ...         No_Fence         None   \n",
       "1544          Lvl    AllPub     Inside  ...  Minimum_Privacy         None   \n",
       "2415          Lvl    AllPub     Inside  ...         No_Fence         None   \n",
       "2227          Bnk    AllPub     Inside  ...         No_Fence         None   \n",
       "410           Lvl    AllPub        FR2  ...         No_Fence         None   \n",
       "761           Lvl    AllPub     Inside  ...         No_Fence         None   \n",
       "436           Lvl    AllPub    CulDSac  ...         No_Fence         None   \n",
       "\n",
       "     Misc_Val Mo_Sold Year_Sold Sale_Type Sale_Condition Sale_Price  \\\n",
       "1357        0       6      2008       WD          Normal     161000   \n",
       "2367        0       7      2006       WD          Normal     116000   \n",
       "2822        0       5      2006       WD          Normal     196500   \n",
       "2126        0       8      2007       WD          Normal     123600   \n",
       "1544        0       7      2008       WD          Normal     126000   \n",
       "2415        0       7      2006       New        Partial     174190   \n",
       "2227        0       3      2007       WD          Normal     200000   \n",
       "410         0       7      2009       WD          Normal     148500   \n",
       "761         0       9      2009       WD          Normal      88750   \n",
       "436         0       6      2009       WD          Family     409900   \n",
       "\n",
       "      Longitude   Latitude  \n",
       "1357 -93.621065  42.029038  \n",
       "2367 -93.627103  42.051798  \n",
       "2822 -93.672379  42.018990  \n",
       "2126 -93.692415  42.019028  \n",
       "1544 -93.628409  42.022607  \n",
       "2415 -93.644627  42.063031  \n",
       "2227 -93.645785  42.009321  \n",
       "410  -93.624748  42.050705  \n",
       "761  -93.659205  42.032681  \n",
       "436  -93.656737  42.060353  \n",
       "\n",
       "[10 rows x 81 columns]"
      ]
     },
     "execution_count": 3,
     "metadata": {},
     "output_type": "execute_result"
    }
   ],
   "source": [
    "df.sample(10, random_state=42)"
   ]
  },
  {
   "cell_type": "code",
   "execution_count": 4,
   "metadata": {},
   "outputs": [
    {
     "name": "stdout",
     "output_type": "stream",
     "text": [
      "<class 'pandas.core.frame.DataFrame'>\n",
      "RangeIndex: 2930 entries, 0 to 2929\n",
      "Columns: 81 entries, MS_SubClass to Latitude\n",
      "dtypes: float64(2), int64(33), object(46)\n",
      "memory usage: 1.8+ MB\n"
     ]
    }
   ],
   "source": [
    "df.info(max_cols=80)"
   ]
  },
  {
   "cell_type": "markdown",
   "metadata": {},
   "source": [
    "### **Ejercicio 2: Feature engineering**"
   ]
  },
  {
   "cell_type": "markdown",
   "metadata": {},
   "source": [
    "Selecciono las variables tipo `object`, luego convierto dichos datos en $k-1$ variables _dummy_, y borro las variables duplicadas:"
   ]
  },
  {
   "cell_type": "code",
   "execution_count": 5,
   "metadata": {},
   "outputs": [],
   "source": [
    "obj_vars = df.select_dtypes(include='object').columns.tolist()"
   ]
  },
  {
   "cell_type": "code",
   "execution_count": 6,
   "metadata": {},
   "outputs": [],
   "source": [
    "cols_to_delete = []\n",
    "for i, col in enumerate(df):\n",
    "    if df[col].dtype == 'object':\n",
    "        df = pd.concat([df, pd.get_dummies(df[col], drop_first=True, prefix=col)], axis=1)\n",
    "        cols_to_delete.append(col)\n",
    "df_dummy = df.drop(columns = cols_to_delete)"
   ]
  },
  {
   "cell_type": "code",
   "execution_count": 7,
   "metadata": {},
   "outputs": [
    {
     "name": "stdout",
     "output_type": "stream",
     "text": [
      "<class 'pandas.core.frame.DataFrame'>\n",
      "RangeIndex: 2930 entries, 0 to 2929\n",
      "Columns: 307 entries, Lot_Frontage to Sale_Condition_Partial\n",
      "dtypes: float64(2), int64(33), uint8(272)\n",
      "memory usage: 1.5 MB\n"
     ]
    }
   ],
   "source": [
    "df_dummy.info()"
   ]
  },
  {
   "cell_type": "markdown",
   "metadata": {},
   "source": [
    "### **Ejercicio 3: Primer modelo**"
   ]
  },
  {
   "cell_type": "code",
   "execution_count": 8,
   "metadata": {},
   "outputs": [],
   "source": [
    "obj = 'Sale_Price'\n",
    "X = df_dummy.drop([obj], axis=1)\n",
    "y = df_dummy[obj]\n",
    "X_train, X_test, y_train, y_test = train_test_split(X, y, test_size=.33, random_state=42)"
   ]
  },
  {
   "cell_type": "code",
   "execution_count": 9,
   "metadata": {},
   "outputs": [],
   "source": [
    "dtr_base = DecisionTreeRegressor().fit(X_train,y_train)"
   ]
  },
  {
   "cell_type": "code",
   "execution_count": 10,
   "metadata": {},
   "outputs": [
    {
     "name": "stdout",
     "output_type": "stream",
     "text": [
      "Test MSE:  1369488536.46\n",
      "Test MAE:  16500.0\n",
      "Test R2:  0.8\n"
     ]
    }
   ],
   "source": [
    "y_pred = dtr_base.predict(X_test)\n",
    "print(\"Test MSE: \", mean_squared_error(y_test, y_pred).round(2))\n",
    "print(\"Test MAE: \", median_absolute_error(y_test, y_pred).round(2))\n",
    "print(\"Test R2: \", r2_score(y_test, y_pred).round(2))"
   ]
  },
  {
   "cell_type": "markdown",
   "metadata": {},
   "source": [
    "**(R)** El desempeño del modelo es malo, con errores grandes y un R$^2$ apenas significativo."
   ]
  },
  {
   "cell_type": "markdown",
   "metadata": {},
   "source": [
    "### **Ejercicio 4: Importancia relativa**"
   ]
  },
  {
   "cell_type": "code",
   "execution_count": 11,
   "metadata": {},
   "outputs": [],
   "source": [
    "import lec7_graphs as from_lecture"
   ]
  },
  {
   "cell_type": "code",
   "execution_count": 12,
   "metadata": {},
   "outputs": [
    {
     "data": {
      "image/png": "[encoded data removed]",
      "text/plain": [
       "<Figure size 4680x1440 with 1 Axes>"
      ]
     },
     "metadata": {
      "needs_background": "light"
     },
     "output_type": "display_data"
    }
   ],
   "source": [
    "plt.figure(figsize = (65, 20))\n",
    "from_lecture.plot_importance(dtr_base, X.columns, 10)\n",
    "plt.tight_layout()"
   ]
  },
  {
   "cell_type": "markdown",
   "metadata": {},
   "source": [
    "Ahora veamos:"
   ]
  },
  {
   "cell_type": "code",
   "execution_count": 13,
   "metadata": {},
   "outputs": [],
   "source": [
    "tmp_importance = dtr_base.feature_importances_\n",
    "sort_importance = np.argsort(tmp_importance)[::-1]\n",
    "names = [X.columns[i] for i in sort_importance]"
   ]
  },
  {
   "cell_type": "markdown",
   "metadata": {},
   "source": [
    "Así, los 10 atributos con mayor relevancia en la predicción de `Sale_Price` están dados por"
   ]
  },
  {
   "cell_type": "code",
   "execution_count": 14,
   "metadata": {},
   "outputs": [
    {
     "data": {
      "text/plain": [
       "['Garage_Cars',\n",
       " 'Gr_Liv_Area',\n",
       " 'First_Flr_SF',\n",
       " 'Exter_Qual_Typical',\n",
       " 'Year_Built',\n",
       " 'Total_Bsmt_SF',\n",
       " 'Second_Flr_SF',\n",
       " 'Year_Remod_Add',\n",
       " 'Central_Air_Y',\n",
       " 'Fireplace_Qu_No_Fireplace']"
      ]
     },
     "execution_count": 14,
     "metadata": {},
     "output_type": "execute_result"
    }
   ],
   "source": [
    "names[:10]"
   ]
  },
  {
   "cell_type": "code",
   "execution_count": 15,
   "metadata": {},
   "outputs": [
    {
     "data": {
      "text/html": [
       "<div>\n",
       "<style scoped>\n",
       "    .dataframe tbody tr th:only-of-type {\n",
       "        vertical-align: middle;\n",
       "    }\n",
       "\n",
       "    .dataframe tbody tr th {\n",
       "        vertical-align: top;\n",
       "    }\n",
       "\n",
       "    .dataframe thead th {\n",
       "        text-align: right;\n",
       "    }\n",
       "</style>\n",
       "<table border=\"1\" class=\"dataframe\">\n",
       "  <thead>\n",
       "    <tr style=\"text-align: right;\">\n",
       "      <th></th>\n",
       "      <th>Sale_Price</th>\n",
       "      <th>Garage_Cars</th>\n",
       "      <th>Gr_Liv_Area</th>\n",
       "      <th>First_Flr_SF</th>\n",
       "      <th>Exter_Qual_Typical</th>\n",
       "      <th>Year_Built</th>\n",
       "      <th>Total_Bsmt_SF</th>\n",
       "      <th>Second_Flr_SF</th>\n",
       "      <th>Year_Remod_Add</th>\n",
       "      <th>Central_Air_Y</th>\n",
       "      <th>Fireplace_Qu_No_Fireplace</th>\n",
       "    </tr>\n",
       "  </thead>\n",
       "  <tbody>\n",
       "    <tr>\n",
       "      <th>0</th>\n",
       "      <td>215000</td>\n",
       "      <td>2</td>\n",
       "      <td>1656</td>\n",
       "      <td>1656</td>\n",
       "      <td>1</td>\n",
       "      <td>1960</td>\n",
       "      <td>1080</td>\n",
       "      <td>0</td>\n",
       "      <td>1960</td>\n",
       "      <td>1</td>\n",
       "      <td>0</td>\n",
       "    </tr>\n",
       "    <tr>\n",
       "      <th>1</th>\n",
       "      <td>105000</td>\n",
       "      <td>1</td>\n",
       "      <td>896</td>\n",
       "      <td>896</td>\n",
       "      <td>1</td>\n",
       "      <td>1961</td>\n",
       "      <td>882</td>\n",
       "      <td>0</td>\n",
       "      <td>1961</td>\n",
       "      <td>1</td>\n",
       "      <td>1</td>\n",
       "    </tr>\n",
       "    <tr>\n",
       "      <th>2</th>\n",
       "      <td>172000</td>\n",
       "      <td>1</td>\n",
       "      <td>1329</td>\n",
       "      <td>1329</td>\n",
       "      <td>1</td>\n",
       "      <td>1958</td>\n",
       "      <td>1329</td>\n",
       "      <td>0</td>\n",
       "      <td>1958</td>\n",
       "      <td>1</td>\n",
       "      <td>1</td>\n",
       "    </tr>\n",
       "    <tr>\n",
       "      <th>3</th>\n",
       "      <td>244000</td>\n",
       "      <td>2</td>\n",
       "      <td>2110</td>\n",
       "      <td>2110</td>\n",
       "      <td>0</td>\n",
       "      <td>1968</td>\n",
       "      <td>2110</td>\n",
       "      <td>0</td>\n",
       "      <td>1968</td>\n",
       "      <td>1</td>\n",
       "      <td>0</td>\n",
       "    </tr>\n",
       "    <tr>\n",
       "      <th>4</th>\n",
       "      <td>189900</td>\n",
       "      <td>2</td>\n",
       "      <td>1629</td>\n",
       "      <td>928</td>\n",
       "      <td>1</td>\n",
       "      <td>1997</td>\n",
       "      <td>928</td>\n",
       "      <td>701</td>\n",
       "      <td>1998</td>\n",
       "      <td>1</td>\n",
       "      <td>0</td>\n",
       "    </tr>\n",
       "    <tr>\n",
       "      <th>...</th>\n",
       "      <td>...</td>\n",
       "      <td>...</td>\n",
       "      <td>...</td>\n",
       "      <td>...</td>\n",
       "      <td>...</td>\n",
       "      <td>...</td>\n",
       "      <td>...</td>\n",
       "      <td>...</td>\n",
       "      <td>...</td>\n",
       "      <td>...</td>\n",
       "      <td>...</td>\n",
       "    </tr>\n",
       "    <tr>\n",
       "      <th>2925</th>\n",
       "      <td>142500</td>\n",
       "      <td>2</td>\n",
       "      <td>1003</td>\n",
       "      <td>1003</td>\n",
       "      <td>1</td>\n",
       "      <td>1984</td>\n",
       "      <td>1003</td>\n",
       "      <td>0</td>\n",
       "      <td>1984</td>\n",
       "      <td>1</td>\n",
       "      <td>1</td>\n",
       "    </tr>\n",
       "    <tr>\n",
       "      <th>2926</th>\n",
       "      <td>131000</td>\n",
       "      <td>2</td>\n",
       "      <td>902</td>\n",
       "      <td>902</td>\n",
       "      <td>1</td>\n",
       "      <td>1983</td>\n",
       "      <td>864</td>\n",
       "      <td>0</td>\n",
       "      <td>1983</td>\n",
       "      <td>1</td>\n",
       "      <td>1</td>\n",
       "    </tr>\n",
       "    <tr>\n",
       "      <th>2927</th>\n",
       "      <td>132000</td>\n",
       "      <td>0</td>\n",
       "      <td>970</td>\n",
       "      <td>970</td>\n",
       "      <td>1</td>\n",
       "      <td>1992</td>\n",
       "      <td>912</td>\n",
       "      <td>0</td>\n",
       "      <td>1992</td>\n",
       "      <td>1</td>\n",
       "      <td>1</td>\n",
       "    </tr>\n",
       "    <tr>\n",
       "      <th>2928</th>\n",
       "      <td>170000</td>\n",
       "      <td>2</td>\n",
       "      <td>1389</td>\n",
       "      <td>1389</td>\n",
       "      <td>1</td>\n",
       "      <td>1974</td>\n",
       "      <td>1389</td>\n",
       "      <td>0</td>\n",
       "      <td>1975</td>\n",
       "      <td>1</td>\n",
       "      <td>0</td>\n",
       "    </tr>\n",
       "    <tr>\n",
       "      <th>2929</th>\n",
       "      <td>188000</td>\n",
       "      <td>3</td>\n",
       "      <td>2000</td>\n",
       "      <td>996</td>\n",
       "      <td>1</td>\n",
       "      <td>1993</td>\n",
       "      <td>996</td>\n",
       "      <td>1004</td>\n",
       "      <td>1994</td>\n",
       "      <td>1</td>\n",
       "      <td>0</td>\n",
       "    </tr>\n",
       "  </tbody>\n",
       "</table>\n",
       "<p>2930 rows × 11 columns</p>\n",
       "</div>"
      ],
      "text/plain": [
       "      Sale_Price  Garage_Cars  Gr_Liv_Area  First_Flr_SF  Exter_Qual_Typical  \\\n",
       "0         215000            2         1656          1656                   1   \n",
       "1         105000            1          896           896                   1   \n",
       "2         172000            1         1329          1329                   1   \n",
       "3         244000            2         2110          2110                   0   \n",
       "4         189900            2         1629           928                   1   \n",
       "...          ...          ...          ...           ...                 ...   \n",
       "2925      142500            2         1003          1003                   1   \n",
       "2926      131000            2          902           902                   1   \n",
       "2927      132000            0          970           970                   1   \n",
       "2928      170000            2         1389          1389                   1   \n",
       "2929      188000            3         2000           996                   1   \n",
       "\n",
       "      Year_Built  Total_Bsmt_SF  Second_Flr_SF  Year_Remod_Add  Central_Air_Y  \\\n",
       "0           1960           1080              0            1960              1   \n",
       "1           1961            882              0            1961              1   \n",
       "2           1958           1329              0            1958              1   \n",
       "3           1968           2110              0            1968              1   \n",
       "4           1997            928            701            1998              1   \n",
       "...          ...            ...            ...             ...            ...   \n",
       "2925        1984           1003              0            1984              1   \n",
       "2926        1983            864              0            1983              1   \n",
       "2927        1992            912              0            1992              1   \n",
       "2928        1974           1389              0            1975              1   \n",
       "2929        1993            996           1004            1994              1   \n",
       "\n",
       "      Fireplace_Qu_No_Fireplace  \n",
       "0                             0  \n",
       "1                             1  \n",
       "2                             1  \n",
       "3                             0  \n",
       "4                             0  \n",
       "...                         ...  \n",
       "2925                          1  \n",
       "2926                          1  \n",
       "2927                          1  \n",
       "2928                          0  \n",
       "2929                          0  \n",
       "\n",
       "[2930 rows x 11 columns]"
      ]
     },
     "execution_count": 15,
     "metadata": {},
     "output_type": "execute_result"
    }
   ],
   "source": [
    "df_att = df_dummy[names[:10]]\n",
    "df_obj = df['Sale_Price']\n",
    "df_best = pd.concat([df_obj, df_att], axis=1)\n",
    "df_best"
   ]
  },
  {
   "cell_type": "markdown",
   "metadata": {},
   "source": [
    "### **Ejercicio 5: Refactorización del modelo y _pickling_**"
   ]
  },
  {
   "cell_type": "code",
   "execution_count": 16,
   "metadata": {},
   "outputs": [],
   "source": [
    "X2 = df_best.drop([obj], axis=1)\n",
    "y2= df_best[obj]\n",
    "X2_train, X2_test, y2_train, y2_test = train_test_split(X2, y2, test_size=.33, random_state=42)"
   ]
  },
  {
   "cell_type": "code",
   "execution_count": 17,
   "metadata": {},
   "outputs": [],
   "source": [
    "CV = 5\n",
    "VERBOSITY = 1\n",
    "PARAM_GRID = {\n",
    "    'max_depth': np.linspace(1, 32, 32),  # [1, 2, 3, ... , 31, 32]\n",
    "    'max_features': list(range(1, X2_train.shape[1]))  # [1, 2, ... , NUMBER_OF_ATTRIBUTES]\n",
    "}"
   ]
  },
  {
   "cell_type": "code",
   "execution_count": 18,
   "metadata": {},
   "outputs": [
    {
     "name": "stdout",
     "output_type": "stream",
     "text": [
      "Fitting 5 folds for each of 288 candidates, totalling 1440 fits\n"
     ]
    },
    {
     "name": "stderr",
     "output_type": "stream",
     "text": [
      "[Parallel(n_jobs=1)]: Using backend SequentialBackend with 1 concurrent workers.\n",
      "[Parallel(n_jobs=1)]: Done 1440 out of 1440 | elapsed:    8.8s finished\n"
     ]
    }
   ],
   "source": [
    "dtr_gs = GridSearchCV(DecisionTreeRegressor(), param_grid=PARAM_GRID, cv=CV, verbose=VERBOSITY).fit(X2_train, y2_train)"
   ]
  },
  {
   "cell_type": "markdown",
   "metadata": {},
   "source": [
    "La mejor combinación de hiperparámetros y su desempeño asociado está dado por:"
   ]
  },
  {
   "cell_type": "code",
   "execution_count": 19,
   "metadata": {},
   "outputs": [
    {
     "data": {
      "text/plain": [
       "{'max_depth': 9.0, 'max_features': 3}"
      ]
     },
     "execution_count": 19,
     "metadata": {},
     "output_type": "execute_result"
    }
   ],
   "source": [
    "dtr_gs.best_params_"
   ]
  },
  {
   "cell_type": "code",
   "execution_count": 20,
   "metadata": {},
   "outputs": [
    {
     "data": {
      "text/plain": [
       "0.7796766730982743"
      ]
     },
     "execution_count": 20,
     "metadata": {},
     "output_type": "execute_result"
    }
   ],
   "source": [
    "dtr_gs.best_score_"
   ]
  },
  {
   "cell_type": "markdown",
   "metadata": {},
   "source": [
    "**(R)** Comparación del desempeño en la muestra de validación con el modelo por defecto:"
   ]
  },
  {
   "cell_type": "code",
   "execution_count": 21,
   "metadata": {},
   "outputs": [],
   "source": [
    "dict_base = {\n",
    "    'mse': mean_squared_error(y_test, y_pred).round(2),\n",
    "    'mae': median_absolute_error(y_test, y_pred).round(2),\n",
    "    'r2': r2_score(y_test, y_pred).round(2)\n",
    "}"
   ]
  },
  {
   "cell_type": "code",
   "execution_count": 22,
   "metadata": {},
   "outputs": [],
   "source": [
    "y2_pred = dtr_gs.predict(X2_test)\n",
    "dict_best = {\n",
    "    'mse': mean_squared_error(y2_test, y2_pred).round(2),\n",
    "    'mae': median_absolute_error(y2_test, y2_pred).round(2),\n",
    "    'r2': r2_score(y2_test, y2_pred).round(2)\n",
    "}"
   ]
  },
  {
   "cell_type": "code",
   "execution_count": 23,
   "metadata": {},
   "outputs": [
    {
     "data": {
      "text/html": [
       "<div>\n",
       "<style scoped>\n",
       "    .dataframe tbody tr th:only-of-type {\n",
       "        vertical-align: middle;\n",
       "    }\n",
       "\n",
       "    .dataframe tbody tr th {\n",
       "        vertical-align: top;\n",
       "    }\n",
       "\n",
       "    .dataframe thead th {\n",
       "        text-align: right;\n",
       "    }\n",
       "</style>\n",
       "<table border=\"1\" class=\"dataframe\">\n",
       "  <thead>\n",
       "    <tr style=\"text-align: right;\">\n",
       "      <th></th>\n",
       "      <th>base</th>\n",
       "      <th>best</th>\n",
       "    </tr>\n",
       "  </thead>\n",
       "  <tbody>\n",
       "    <tr>\n",
       "      <th>mse</th>\n",
       "      <td>1.369489e+09</td>\n",
       "      <td>1.937903e+09</td>\n",
       "    </tr>\n",
       "    <tr>\n",
       "      <th>mae</th>\n",
       "      <td>1.650000e+04</td>\n",
       "      <td>1.543344e+04</td>\n",
       "    </tr>\n",
       "    <tr>\n",
       "      <th>r2</th>\n",
       "      <td>8.000000e-01</td>\n",
       "      <td>7.100000e-01</td>\n",
       "    </tr>\n",
       "  </tbody>\n",
       "</table>\n",
       "</div>"
      ],
      "text/plain": [
       "             base          best\n",
       "mse  1.369489e+09  1.937903e+09\n",
       "mae  1.650000e+04  1.543344e+04\n",
       "r2   8.000000e-01  7.100000e-01"
      ]
     },
     "execution_count": 23,
     "metadata": {},
     "output_type": "execute_result"
    }
   ],
   "source": [
    "d1 = pd.DataFrame.from_dict(dict_base, orient='index', columns=['base'])\n",
    "d2 = pd.DataFrame.from_dict(dict_best, orient='index', columns=['best'])\n",
    "pd.concat([d1, d2], axis=1)"
   ]
  },
  {
   "cell_type": "markdown",
   "metadata": {},
   "source": [
    "Y sobre el _pickling_:"
   ]
  },
  {
   "cell_type": "code",
   "execution_count": 24,
   "metadata": {},
   "outputs": [],
   "source": [
    "pickle.dump(dtr_gs, open('gus-morales_actividad07_best-model.pkl', 'wb'))\n",
    "pickle.dump(X2_train, open('gus-morales_actividad07_xtrain.pkl', 'wb'))\n",
    "pickle.dump(X2_test, open('gus-morales_actividad07_xtest.pkl', 'wb'))\n",
    "pickle.dump(y2_train, open('gus-morales_actividad07_ytrain.pkl', 'wb'))\n",
    "pickle.dump(y2_test, open('gus-morales_actividad07_ytest.pkl', 'wb'))"
   ]
  },
  {
   "cell_type": "code",
   "execution_count": null,
   "metadata": {},
   "outputs": [],
   "source": []
  }
 ],
 "metadata": {
  "kernelspec": {
   "display_name": "dlatam_ds",
   "language": "python",
   "name": "dlatam_ds"
  },
  "language_info": {
   "codemirror_mode": {
    "name": "ipython",
    "version": 3
   },
   "file_extension": ".py",
   "mimetype": "text/x-python",
   "name": "python",
   "nbconvert_exporter": "python",
   "pygments_lexer": "ipython3",
   "version": "3.7.3"
  }
 },
 "nbformat": 4,
 "nbformat_minor": 4
}
