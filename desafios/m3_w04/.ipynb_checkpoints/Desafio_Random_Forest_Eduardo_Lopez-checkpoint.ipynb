{
 "cells": [
  {
   "cell_type": "markdown",
   "metadata": {},
   "source": [
    "![alttext](logo.png)"
   ]
  },
  {
   "cell_type": "markdown",
   "metadata": {},
   "source": [
    "### Nombre Alumno: Eduardo López\n",
    "### Generación :  G10\n",
    "### Profesores : Heriberto Briceño - Gianina Salomó \n",
    "### Fecha : Miercoles  29 de enero 2019"
   ]
  },
  {
   "cell_type": "markdown",
   "metadata": {},
   "source": [
    "# Ejercicio 1: Preparación del ambiente de trabajo\n",
    "* Importe las librerías clásicas a utilizar.\n",
    "* Para este ejercicio Random Forest de Regresión.\n",
    "* De manera adicional importe las funciones y clases necesarias para generar un desempeño de métricas en problemas de regresión.\n",
    "* Elimine la columna 'Unnamed: 0' cuando cargue los datos."
   ]
  },
  {
   "cell_type": "code",
   "execution_count": 1,
   "metadata": {},
   "outputs": [],
   "source": [
    "import numpy as np\n",
    "import pandas as pd\n",
    "import matplotlib.pyplot as plt\n",
    "import seaborn as sns \n",
    "from sklearn.model_selection import train_test_split\n",
    "from sklearn.metrics import classification_report\n",
    "from matplotlib import rcParams\n",
    "from sklearn.tree import DecisionTreeRegressor\n",
    "from sklearn.metrics import mean_squared_error, median_absolute_error, r2_score\n",
    "from sklearn.ensemble import RandomForestClassifier\n",
    "from sklearn.metrics import accuracy_score, roc_auc_score, classification_report\n",
    "\n",
    "plt.style.use(\"seaborn\")\n",
    "\n",
    "df = pd.read_csv(\"ames_housing.csv\").drop(columns = \"Unnamed: 0\")"
   ]
  },
  {
   "cell_type": "code",
   "execution_count": 2,
   "metadata": {},
   "outputs": [
    {
     "data": {
      "text/html": [
       "<div>\n",
       "<style scoped>\n",
       "    .dataframe tbody tr th:only-of-type {\n",
       "        vertical-align: middle;\n",
       "    }\n",
       "\n",
       "    .dataframe tbody tr th {\n",
       "        vertical-align: top;\n",
       "    }\n",
       "\n",
       "    .dataframe thead th {\n",
       "        text-align: right;\n",
       "    }\n",
       "</style>\n",
       "<table border=\"1\" class=\"dataframe\">\n",
       "  <thead>\n",
       "    <tr style=\"text-align: right;\">\n",
       "      <th></th>\n",
       "      <th>MS_SubClass</th>\n",
       "      <th>MS_Zoning</th>\n",
       "      <th>Lot_Frontage</th>\n",
       "      <th>Lot_Area</th>\n",
       "      <th>Street</th>\n",
       "      <th>Alley</th>\n",
       "      <th>Lot_Shape</th>\n",
       "      <th>Land_Contour</th>\n",
       "      <th>Utilities</th>\n",
       "      <th>Lot_Config</th>\n",
       "      <th>...</th>\n",
       "      <th>Fence</th>\n",
       "      <th>Misc_Feature</th>\n",
       "      <th>Misc_Val</th>\n",
       "      <th>Mo_Sold</th>\n",
       "      <th>Year_Sold</th>\n",
       "      <th>Sale_Type</th>\n",
       "      <th>Sale_Condition</th>\n",
       "      <th>Sale_Price</th>\n",
       "      <th>Longitude</th>\n",
       "      <th>Latitude</th>\n",
       "    </tr>\n",
       "  </thead>\n",
       "  <tbody>\n",
       "    <tr>\n",
       "      <th>0</th>\n",
       "      <td>One_Story_1946_and_Newer_All_Styles</td>\n",
       "      <td>Residential_Low_Density</td>\n",
       "      <td>141</td>\n",
       "      <td>31770</td>\n",
       "      <td>Pave</td>\n",
       "      <td>No_Alley_Access</td>\n",
       "      <td>Slightly_Irregular</td>\n",
       "      <td>Lvl</td>\n",
       "      <td>AllPub</td>\n",
       "      <td>Corner</td>\n",
       "      <td>...</td>\n",
       "      <td>No_Fence</td>\n",
       "      <td>None</td>\n",
       "      <td>0</td>\n",
       "      <td>5</td>\n",
       "      <td>2010</td>\n",
       "      <td>WD</td>\n",
       "      <td>Normal</td>\n",
       "      <td>215000</td>\n",
       "      <td>-93.619754</td>\n",
       "      <td>42.054035</td>\n",
       "    </tr>\n",
       "    <tr>\n",
       "      <th>1</th>\n",
       "      <td>One_Story_1946_and_Newer_All_Styles</td>\n",
       "      <td>Residential_High_Density</td>\n",
       "      <td>80</td>\n",
       "      <td>11622</td>\n",
       "      <td>Pave</td>\n",
       "      <td>No_Alley_Access</td>\n",
       "      <td>Regular</td>\n",
       "      <td>Lvl</td>\n",
       "      <td>AllPub</td>\n",
       "      <td>Inside</td>\n",
       "      <td>...</td>\n",
       "      <td>Minimum_Privacy</td>\n",
       "      <td>None</td>\n",
       "      <td>0</td>\n",
       "      <td>6</td>\n",
       "      <td>2010</td>\n",
       "      <td>WD</td>\n",
       "      <td>Normal</td>\n",
       "      <td>105000</td>\n",
       "      <td>-93.619756</td>\n",
       "      <td>42.053014</td>\n",
       "    </tr>\n",
       "    <tr>\n",
       "      <th>2</th>\n",
       "      <td>One_Story_1946_and_Newer_All_Styles</td>\n",
       "      <td>Residential_Low_Density</td>\n",
       "      <td>81</td>\n",
       "      <td>14267</td>\n",
       "      <td>Pave</td>\n",
       "      <td>No_Alley_Access</td>\n",
       "      <td>Slightly_Irregular</td>\n",
       "      <td>Lvl</td>\n",
       "      <td>AllPub</td>\n",
       "      <td>Corner</td>\n",
       "      <td>...</td>\n",
       "      <td>No_Fence</td>\n",
       "      <td>Gar2</td>\n",
       "      <td>12500</td>\n",
       "      <td>6</td>\n",
       "      <td>2010</td>\n",
       "      <td>WD</td>\n",
       "      <td>Normal</td>\n",
       "      <td>172000</td>\n",
       "      <td>-93.619387</td>\n",
       "      <td>42.052659</td>\n",
       "    </tr>\n",
       "    <tr>\n",
       "      <th>3</th>\n",
       "      <td>One_Story_1946_and_Newer_All_Styles</td>\n",
       "      <td>Residential_Low_Density</td>\n",
       "      <td>93</td>\n",
       "      <td>11160</td>\n",
       "      <td>Pave</td>\n",
       "      <td>No_Alley_Access</td>\n",
       "      <td>Regular</td>\n",
       "      <td>Lvl</td>\n",
       "      <td>AllPub</td>\n",
       "      <td>Corner</td>\n",
       "      <td>...</td>\n",
       "      <td>No_Fence</td>\n",
       "      <td>None</td>\n",
       "      <td>0</td>\n",
       "      <td>4</td>\n",
       "      <td>2010</td>\n",
       "      <td>WD</td>\n",
       "      <td>Normal</td>\n",
       "      <td>244000</td>\n",
       "      <td>-93.617320</td>\n",
       "      <td>42.051245</td>\n",
       "    </tr>\n",
       "    <tr>\n",
       "      <th>4</th>\n",
       "      <td>Two_Story_1946_and_Newer</td>\n",
       "      <td>Residential_Low_Density</td>\n",
       "      <td>74</td>\n",
       "      <td>13830</td>\n",
       "      <td>Pave</td>\n",
       "      <td>No_Alley_Access</td>\n",
       "      <td>Slightly_Irregular</td>\n",
       "      <td>Lvl</td>\n",
       "      <td>AllPub</td>\n",
       "      <td>Inside</td>\n",
       "      <td>...</td>\n",
       "      <td>Minimum_Privacy</td>\n",
       "      <td>None</td>\n",
       "      <td>0</td>\n",
       "      <td>3</td>\n",
       "      <td>2010</td>\n",
       "      <td>WD</td>\n",
       "      <td>Normal</td>\n",
       "      <td>189900</td>\n",
       "      <td>-93.638933</td>\n",
       "      <td>42.060899</td>\n",
       "    </tr>\n",
       "    <tr>\n",
       "      <th>...</th>\n",
       "      <td>...</td>\n",
       "      <td>...</td>\n",
       "      <td>...</td>\n",
       "      <td>...</td>\n",
       "      <td>...</td>\n",
       "      <td>...</td>\n",
       "      <td>...</td>\n",
       "      <td>...</td>\n",
       "      <td>...</td>\n",
       "      <td>...</td>\n",
       "      <td>...</td>\n",
       "      <td>...</td>\n",
       "      <td>...</td>\n",
       "      <td>...</td>\n",
       "      <td>...</td>\n",
       "      <td>...</td>\n",
       "      <td>...</td>\n",
       "      <td>...</td>\n",
       "      <td>...</td>\n",
       "      <td>...</td>\n",
       "      <td>...</td>\n",
       "    </tr>\n",
       "    <tr>\n",
       "      <th>2925</th>\n",
       "      <td>Split_or_Multilevel</td>\n",
       "      <td>Residential_Low_Density</td>\n",
       "      <td>37</td>\n",
       "      <td>7937</td>\n",
       "      <td>Pave</td>\n",
       "      <td>No_Alley_Access</td>\n",
       "      <td>Slightly_Irregular</td>\n",
       "      <td>Lvl</td>\n",
       "      <td>AllPub</td>\n",
       "      <td>CulDSac</td>\n",
       "      <td>...</td>\n",
       "      <td>Good_Privacy</td>\n",
       "      <td>None</td>\n",
       "      <td>0</td>\n",
       "      <td>3</td>\n",
       "      <td>2006</td>\n",
       "      <td>WD</td>\n",
       "      <td>Normal</td>\n",
       "      <td>142500</td>\n",
       "      <td>-93.604776</td>\n",
       "      <td>41.988964</td>\n",
       "    </tr>\n",
       "    <tr>\n",
       "      <th>2926</th>\n",
       "      <td>One_Story_1946_and_Newer_All_Styles</td>\n",
       "      <td>Residential_Low_Density</td>\n",
       "      <td>0</td>\n",
       "      <td>8885</td>\n",
       "      <td>Pave</td>\n",
       "      <td>No_Alley_Access</td>\n",
       "      <td>Slightly_Irregular</td>\n",
       "      <td>Low</td>\n",
       "      <td>AllPub</td>\n",
       "      <td>Inside</td>\n",
       "      <td>...</td>\n",
       "      <td>Minimum_Privacy</td>\n",
       "      <td>None</td>\n",
       "      <td>0</td>\n",
       "      <td>6</td>\n",
       "      <td>2006</td>\n",
       "      <td>WD</td>\n",
       "      <td>Normal</td>\n",
       "      <td>131000</td>\n",
       "      <td>-93.602680</td>\n",
       "      <td>41.988314</td>\n",
       "    </tr>\n",
       "    <tr>\n",
       "      <th>2927</th>\n",
       "      <td>Split_Foyer</td>\n",
       "      <td>Residential_Low_Density</td>\n",
       "      <td>62</td>\n",
       "      <td>10441</td>\n",
       "      <td>Pave</td>\n",
       "      <td>No_Alley_Access</td>\n",
       "      <td>Regular</td>\n",
       "      <td>Lvl</td>\n",
       "      <td>AllPub</td>\n",
       "      <td>Inside</td>\n",
       "      <td>...</td>\n",
       "      <td>Minimum_Privacy</td>\n",
       "      <td>Shed</td>\n",
       "      <td>700</td>\n",
       "      <td>7</td>\n",
       "      <td>2006</td>\n",
       "      <td>WD</td>\n",
       "      <td>Normal</td>\n",
       "      <td>132000</td>\n",
       "      <td>-93.606847</td>\n",
       "      <td>41.986510</td>\n",
       "    </tr>\n",
       "    <tr>\n",
       "      <th>2928</th>\n",
       "      <td>One_Story_1946_and_Newer_All_Styles</td>\n",
       "      <td>Residential_Low_Density</td>\n",
       "      <td>77</td>\n",
       "      <td>10010</td>\n",
       "      <td>Pave</td>\n",
       "      <td>No_Alley_Access</td>\n",
       "      <td>Regular</td>\n",
       "      <td>Lvl</td>\n",
       "      <td>AllPub</td>\n",
       "      <td>Inside</td>\n",
       "      <td>...</td>\n",
       "      <td>No_Fence</td>\n",
       "      <td>None</td>\n",
       "      <td>0</td>\n",
       "      <td>4</td>\n",
       "      <td>2006</td>\n",
       "      <td>WD</td>\n",
       "      <td>Normal</td>\n",
       "      <td>170000</td>\n",
       "      <td>-93.600190</td>\n",
       "      <td>41.990921</td>\n",
       "    </tr>\n",
       "    <tr>\n",
       "      <th>2929</th>\n",
       "      <td>Two_Story_1946_and_Newer</td>\n",
       "      <td>Residential_Low_Density</td>\n",
       "      <td>74</td>\n",
       "      <td>9627</td>\n",
       "      <td>Pave</td>\n",
       "      <td>No_Alley_Access</td>\n",
       "      <td>Regular</td>\n",
       "      <td>Lvl</td>\n",
       "      <td>AllPub</td>\n",
       "      <td>Inside</td>\n",
       "      <td>...</td>\n",
       "      <td>No_Fence</td>\n",
       "      <td>None</td>\n",
       "      <td>0</td>\n",
       "      <td>11</td>\n",
       "      <td>2006</td>\n",
       "      <td>WD</td>\n",
       "      <td>Normal</td>\n",
       "      <td>188000</td>\n",
       "      <td>-93.599996</td>\n",
       "      <td>41.989265</td>\n",
       "    </tr>\n",
       "  </tbody>\n",
       "</table>\n",
       "<p>2930 rows × 81 columns</p>\n",
       "</div>"
      ],
      "text/plain": [
       "                              MS_SubClass                 MS_Zoning  \\\n",
       "0     One_Story_1946_and_Newer_All_Styles   Residential_Low_Density   \n",
       "1     One_Story_1946_and_Newer_All_Styles  Residential_High_Density   \n",
       "2     One_Story_1946_and_Newer_All_Styles   Residential_Low_Density   \n",
       "3     One_Story_1946_and_Newer_All_Styles   Residential_Low_Density   \n",
       "4                Two_Story_1946_and_Newer   Residential_Low_Density   \n",
       "...                                   ...                       ...   \n",
       "2925                  Split_or_Multilevel   Residential_Low_Density   \n",
       "2926  One_Story_1946_and_Newer_All_Styles   Residential_Low_Density   \n",
       "2927                          Split_Foyer   Residential_Low_Density   \n",
       "2928  One_Story_1946_and_Newer_All_Styles   Residential_Low_Density   \n",
       "2929             Two_Story_1946_and_Newer   Residential_Low_Density   \n",
       "\n",
       "      Lot_Frontage  Lot_Area Street            Alley           Lot_Shape  \\\n",
       "0              141     31770   Pave  No_Alley_Access  Slightly_Irregular   \n",
       "1               80     11622   Pave  No_Alley_Access             Regular   \n",
       "2               81     14267   Pave  No_Alley_Access  Slightly_Irregular   \n",
       "3               93     11160   Pave  No_Alley_Access             Regular   \n",
       "4               74     13830   Pave  No_Alley_Access  Slightly_Irregular   \n",
       "...            ...       ...    ...              ...                 ...   \n",
       "2925            37      7937   Pave  No_Alley_Access  Slightly_Irregular   \n",
       "2926             0      8885   Pave  No_Alley_Access  Slightly_Irregular   \n",
       "2927            62     10441   Pave  No_Alley_Access             Regular   \n",
       "2928            77     10010   Pave  No_Alley_Access             Regular   \n",
       "2929            74      9627   Pave  No_Alley_Access             Regular   \n",
       "\n",
       "     Land_Contour Utilities Lot_Config  ...            Fence Misc_Feature  \\\n",
       "0             Lvl    AllPub     Corner  ...         No_Fence         None   \n",
       "1             Lvl    AllPub     Inside  ...  Minimum_Privacy         None   \n",
       "2             Lvl    AllPub     Corner  ...         No_Fence         Gar2   \n",
       "3             Lvl    AllPub     Corner  ...         No_Fence         None   \n",
       "4             Lvl    AllPub     Inside  ...  Minimum_Privacy         None   \n",
       "...           ...       ...        ...  ...              ...          ...   \n",
       "2925          Lvl    AllPub    CulDSac  ...     Good_Privacy         None   \n",
       "2926          Low    AllPub     Inside  ...  Minimum_Privacy         None   \n",
       "2927          Lvl    AllPub     Inside  ...  Minimum_Privacy         Shed   \n",
       "2928          Lvl    AllPub     Inside  ...         No_Fence         None   \n",
       "2929          Lvl    AllPub     Inside  ...         No_Fence         None   \n",
       "\n",
       "     Misc_Val Mo_Sold Year_Sold Sale_Type Sale_Condition Sale_Price  \\\n",
       "0           0       5      2010       WD          Normal     215000   \n",
       "1           0       6      2010       WD          Normal     105000   \n",
       "2       12500       6      2010       WD          Normal     172000   \n",
       "3           0       4      2010       WD          Normal     244000   \n",
       "4           0       3      2010       WD          Normal     189900   \n",
       "...       ...     ...       ...       ...            ...        ...   \n",
       "2925        0       3      2006       WD          Normal     142500   \n",
       "2926        0       6      2006       WD          Normal     131000   \n",
       "2927      700       7      2006       WD          Normal     132000   \n",
       "2928        0       4      2006       WD          Normal     170000   \n",
       "2929        0      11      2006       WD          Normal     188000   \n",
       "\n",
       "      Longitude   Latitude  \n",
       "0    -93.619754  42.054035  \n",
       "1    -93.619756  42.053014  \n",
       "2    -93.619387  42.052659  \n",
       "3    -93.617320  42.051245  \n",
       "4    -93.638933  42.060899  \n",
       "...         ...        ...  \n",
       "2925 -93.604776  41.988964  \n",
       "2926 -93.602680  41.988314  \n",
       "2927 -93.606847  41.986510  \n",
       "2928 -93.600190  41.990921  \n",
       "2929 -93.599996  41.989265  \n",
       "\n",
       "[2930 rows x 81 columns]"
      ]
     },
     "execution_count": 2,
     "metadata": {},
     "output_type": "execute_result"
    }
   ],
   "source": [
    "df"
   ]
  },
  {
   "cell_type": "markdown",
   "metadata": {},
   "source": [
    "# Ejercicio 2: Importación de archivos serializados\n",
    "* Importe su modelo entrenado y sus conjuntos de entrenamiento y validación serializados la sesión pasada y evalúe el desempeño del modelo de su compañero con el suyo ¿Cuál es mejor? Si no puede ejecutar el modelo, comente cuáles pueden ser los causantes.\n",
    "* No es necesario que realice diagnósticos gráficos sobre el modelo, sólo reporte sus métricas. \n",
    "* Para importar un archivo serializado, puede ocupar la siguiente línea de código:"
   ]
  },
  {
   "cell_type": "code",
   "execution_count": 3,
   "metadata": {},
   "outputs": [],
   "source": [
    "import pickle"
   ]
  },
  {
   "cell_type": "code",
   "execution_count": 4,
   "metadata": {},
   "outputs": [],
   "source": [
    "edu_model = pickle.load(open(\"eduardo-lopez-actividad07-model.sav\", 'rb'))\n",
    "edu_X_train = pickle.load(open(\"eduardo-lopez-actividad07-X_train.sav\", 'rb'))\n",
    "edu_X_test = pickle.load(open(\"eduardo-lopez-actividad07-X_test.sav\", 'rb'))\n",
    "edu_y_train = pickle.load(open(\"eduardo-lopez-actividad07-y_train.sav\", 'rb'))\n",
    "edu_y_test = pickle.load(open(\"eduardo-lopez-actividad07-y_test.sav\", 'rb'))\n",
    "\n",
    "gus_model = pickle.load(open(\"gus-morales_actividad07_best-model.pkl\", 'rb'))\n",
    "gus_X_test = pickle.load(open(\"gus-morales_actividad07_xtest.pkl\", 'rb'))\n",
    "gus_X_train = pickle.load(open(\"gus-morales_actividad07_xtrain.pkl\", 'rb'))\n",
    "gus_y_test = pickle.load(open(\"gus-morales_actividad07_ytest.pkl\", 'rb'))\n",
    "gus_y_train = pickle.load(open(\"gus-morales_actividad07_ytrain.pkl\", 'rb'))"
   ]
  },
  {
   "cell_type": "code",
   "execution_count": 5,
   "metadata": {},
   "outputs": [],
   "source": [
    "y_edu_pred = edu_model.predict(edu_X_test)\n",
    "y_gus_pred = gus_model.predict(gus_X_test)\n",
    "\n",
    "edu_metrics = [mean_squared_error(edu_y_test, y_edu_pred).round(5),\n",
    "                  median_absolute_error(edu_y_test, y_edu_pred).round(5),\n",
    "                  r2_score(edu_y_test, y_edu_pred).round(5)]\n",
    "\n",
    "gus_metrics = [mean_squared_error(gus_y_test, y_gus_pred).round(5),\n",
    "                  median_absolute_error(gus_y_test, y_gus_pred).round(5),\n",
    "                  r2_score(gus_y_test, y_gus_pred).round(5)]\n",
    "\n",
    "df_metrics = pd.DataFrame(data = [edu_metrics, gus_metrics],\n",
    "                         index = [\"Modelo Eduardo\", \"Modelo Gustavo\"],\n",
    "                         columns = [\"MSE\", \"MAE\", \"R2\"])"
   ]
  },
  {
   "cell_type": "markdown",
   "metadata": {},
   "source": [
    "### Desempeño de modelos "
   ]
  },
  {
   "cell_type": "code",
   "execution_count": 6,
   "metadata": {
    "scrolled": true
   },
   "outputs": [
    {
     "data": {
      "text/html": [
       "<div>\n",
       "<style scoped>\n",
       "    .dataframe tbody tr th:only-of-type {\n",
       "        vertical-align: middle;\n",
       "    }\n",
       "\n",
       "    .dataframe tbody tr th {\n",
       "        vertical-align: top;\n",
       "    }\n",
       "\n",
       "    .dataframe thead th {\n",
       "        text-align: right;\n",
       "    }\n",
       "</style>\n",
       "<table border=\"1\" class=\"dataframe\">\n",
       "  <thead>\n",
       "    <tr style=\"text-align: right;\">\n",
       "      <th></th>\n",
       "      <th>Modelo Eduardo</th>\n",
       "      <th>Modelo Gustavo</th>\n",
       "    </tr>\n",
       "  </thead>\n",
       "  <tbody>\n",
       "    <tr>\n",
       "      <th>MSE</th>\n",
       "      <td>1.329358e+09</td>\n",
       "      <td>1.937903e+09</td>\n",
       "    </tr>\n",
       "    <tr>\n",
       "      <th>MAE</th>\n",
       "      <td>1.537500e+04</td>\n",
       "      <td>1.543344e+04</td>\n",
       "    </tr>\n",
       "    <tr>\n",
       "      <th>R2</th>\n",
       "      <td>7.691600e-01</td>\n",
       "      <td>7.133800e-01</td>\n",
       "    </tr>\n",
       "  </tbody>\n",
       "</table>\n",
       "</div>"
      ],
      "text/plain": [
       "     Modelo Eduardo  Modelo Gustavo\n",
       "MSE    1.329358e+09    1.937903e+09\n",
       "MAE    1.537500e+04    1.543344e+04\n",
       "R2     7.691600e-01    7.133800e-01"
      ]
     },
     "execution_count": 6,
     "metadata": {},
     "output_type": "execute_result"
    }
   ],
   "source": [
    "df_metrics.T"
   ]
  },
  {
   "cell_type": "markdown",
   "metadata": {},
   "source": [
    "El modelo con arbol de regresion generado presenta mejores resultados en el modelo Eduardo sin embargo cabe destacar que al ser un arbol de decision los modelos tienden a diferir su puntaje cada vez que son ejecutados. Por lo tanto el modelo Gustavo podria presentar mejores resultados en algun momento."
   ]
  },
  {
   "cell_type": "markdown",
   "metadata": {},
   "source": [
    "### Desempeño de modelos utilizando set de datos del compañero"
   ]
  },
  {
   "cell_type": "code",
   "execution_count": 7,
   "metadata": {},
   "outputs": [],
   "source": [
    "y_gus_pred = gus_model.predict(edu_X_test)\n",
    "y_edu_pred = edu_model.predict(gus_X_test)\n",
    "\n",
    "edu_metrics = [mean_squared_error(gus_y_test, y_edu_pred).round(5),\n",
    "                  median_absolute_error(gus_y_test, y_edu_pred).round(5),\n",
    "                  r2_score(gus_y_test, y_edu_pred).round(5)]\n",
    "\n",
    "gus_metrics = [mean_squared_error(edu_y_test, y_gus_pred).round(5),\n",
    "                  median_absolute_error(edu_y_test, y_gus_pred).round(5),\n",
    "                  r2_score(edu_y_test, y_gus_pred).round(5)]\n",
    "\n",
    "df_metrics = pd.DataFrame(data = [edu_metrics, gus_metrics],\n",
    "                         index = [\"Modelo Eduardo\", \"Modelo Gustavo\"],\n",
    "                         columns = [\"MSE\", \"MAE\", \"R2\"])"
   ]
  },
  {
   "cell_type": "code",
   "execution_count": 8,
   "metadata": {},
   "outputs": [
    {
     "data": {
      "text/html": [
       "<div>\n",
       "<style scoped>\n",
       "    .dataframe tbody tr th:only-of-type {\n",
       "        vertical-align: middle;\n",
       "    }\n",
       "\n",
       "    .dataframe tbody tr th {\n",
       "        vertical-align: top;\n",
       "    }\n",
       "\n",
       "    .dataframe thead th {\n",
       "        text-align: right;\n",
       "    }\n",
       "</style>\n",
       "<table border=\"1\" class=\"dataframe\">\n",
       "  <thead>\n",
       "    <tr style=\"text-align: right;\">\n",
       "      <th></th>\n",
       "      <th>Modelo Eduardo</th>\n",
       "      <th>Modelo Gustavo</th>\n",
       "    </tr>\n",
       "  </thead>\n",
       "  <tbody>\n",
       "    <tr>\n",
       "      <th>MSE</th>\n",
       "      <td>5.056843e+09</td>\n",
       "      <td>5.848384e+09</td>\n",
       "    </tr>\n",
       "    <tr>\n",
       "      <th>MAE</th>\n",
       "      <td>4.119188e+04</td>\n",
       "      <td>4.082368e+04</td>\n",
       "    </tr>\n",
       "    <tr>\n",
       "      <th>R2</th>\n",
       "      <td>2.520900e-01</td>\n",
       "      <td>-1.556000e-02</td>\n",
       "    </tr>\n",
       "  </tbody>\n",
       "</table>\n",
       "</div>"
      ],
      "text/plain": [
       "     Modelo Eduardo  Modelo Gustavo\n",
       "MSE    5.056843e+09    5.848384e+09\n",
       "MAE    4.119188e+04    4.082368e+04\n",
       "R2     2.520900e-01   -1.556000e-02"
      ]
     },
     "execution_count": 8,
     "metadata": {},
     "output_type": "execute_result"
    }
   ],
   "source": [
    "df_metrics.T"
   ]
  },
  {
   "cell_type": "markdown",
   "metadata": {},
   "source": [
    "Se destaca que los modelos utilizando los set de validacion del compañero presentan resultados tremendamente malos, esto es una respuesta clara a lo conocido como overfitting."
   ]
  },
  {
   "cell_type": "markdown",
   "metadata": {},
   "source": [
    "# Ejercicio 3: Evaluación Random Forest\n",
    "* En base a los conjuntos de entrenamiento serializados, genere un modelo utilizando sklearn.ensemble.RandomForest sin modificar hiperparámetros, sólo declarando la semilla pseudoaleatoria.\n",
    "* Reporte su desempeño y compárelo con su modelo de la sesión pasada, así como con el de su compañero."
   ]
  },
  {
   "cell_type": "code",
   "execution_count": 9,
   "metadata": {},
   "outputs": [],
   "source": [
    "rf_model = RandomForestClassifier(random_state = 63).fit(edu_X_train, edu_y_train)"
   ]
  },
  {
   "cell_type": "code",
   "execution_count": 10,
   "metadata": {},
   "outputs": [],
   "source": [
    "metrics = [mean_squared_error(edu_y_test, rf_model.predict(edu_X_test)).round(5),\n",
    "                  median_absolute_error(edu_y_test, rf_model.predict(edu_X_test)).round(5),\n",
    "                  r2_score(edu_y_test, rf_model.predict(edu_X_test)).round(5)]"
   ]
  },
  {
   "cell_type": "code",
   "execution_count": 11,
   "metadata": {},
   "outputs": [
    {
     "name": "stdout",
     "output_type": "stream",
     "text": [
      "Test MSE:  1457554904.5698035\n",
      "Test MSE:  15900.0\n",
      "Test MSE:  0.7468976835908085\n"
     ]
    }
   ],
   "source": [
    "print(\"Test MSE: \", mean_squared_error(edu_y_test, rf_model.predict(edu_X_test)))\n",
    "print(\"Test MSE: \", median_absolute_error(edu_y_test, rf_model.predict(edu_X_test)))\n",
    "print(\"Test MSE: \", r2_score(edu_y_test, rf_model.predict(edu_X_test)))"
   ]
  },
  {
   "cell_type": "markdown",
   "metadata": {},
   "source": [
    "El modelo posee un desempeño similar a los 2 modelos presentados anteriormente."
   ]
  },
  {
   "cell_type": "markdown",
   "metadata": {},
   "source": [
    "# Ejercicio 4: Reporte las métricas de desempeño\n",
    "* Para  afinar  el  comportamiento de  nuestro modelo, evalúe su  desempeño los  siguientes hiperparámetros:\n",
    "    * max_features: None, log2, sqrt.\n",
    "    * n_estimators: Evaluar entre 20 y 1000 en pasos de 50.\n",
    "* Guarde la tasa de error en la exactitud medida con OOB.\n",
    "* Grafique el comportamiento."
   ]
  },
  {
   "cell_type": "code",
   "execution_count": 12,
   "metadata": {},
   "outputs": [
    {
     "name": "stdout",
     "output_type": "stream",
     "text": [
      "20\n",
      "40\n",
      "60\n",
      "80\n"
     ]
    }
   ],
   "source": [
    "tmp_oob_none, tmp_oob_sqrt, tmp_oob_log2 = [], [], []\n",
    "tmp_test_acc_none, tmp_test_acc_sqrt, tmp_test_acc_log2 = [], [], []\n",
    "n_estimators = range(100, 1000, 200)\n",
    "\n",
    "for i in n_estimators:\n",
    "    print(i)\n",
    "    rf_model_none = RandomForestClassifier(n_estimators = i, max_features = None,\n",
    "                                            oob_score = True, random_state = 63).fit(edu_X_train, edu_y_train)\n",
    "    rf_model_sqrt = RandomForestClassifier(n_estimators = i, max_features = \"sqrt\",\n",
    "                                            oob_score = True, random_state = 63).fit(edu_X_train, edu_y_train)\n",
    "    rf_model_log2 = RandomForestClassifier(n_estimators = i, max_features = \"log2\",\n",
    "                                            oob_score = True, random_state = 63).fit(edu_X_train, edu_y_train)\n",
    "    \n",
    "    tmp_oob_none.append(1 - rf_model_none.oob_score_)\n",
    "    tmp_oob_sqrt.append(1 - rf_model_sqrt.oob_score_)\n",
    "    tmp_oob_log2.append(1 - rf_model_log2.oob_score_)\n",
    "    \n",
    "    tmp_test_acc_none.append(1 - accuracy_score(edu_y_test, rf_model_none.predict(edu_X_test)))\n",
    "    tmp_test_acc_sqrt.append(1 - accuracy_score(edu_y_test, rf_model_sqrt.predict(edu_X_test)))\n",
    "    tmp_test_acc_log2.append(1 - accuracy_score(edu_y_test, rf_model_log2.predict(edu_X_test)))"
   ]
  },
  {
   "cell_type": "code",
   "execution_count": 13,
   "metadata": {},
   "outputs": [
    {
     "data": {
      "text/plain": [
       "<Figure size 864x288 with 0 Axes>"
      ]
     },
     "metadata": {},
     "output_type": "display_data"
    },
    {
     "data": {
      "image/png": "[encoded data removed]",
      "text/plain": [
       "<Figure size 432x288 with 3 Axes>"
      ]
     },
     "metadata": {
      "needs_background": "light"
     },
     "output_type": "display_data"
    }
   ],
   "source": [
    "plt.figure(figsize=(12, 4));\n",
    "fig, axs = plt.subplots(1, 3, sharex = True, sharey = True);\n",
    "axs[0].plot(tmp_oob_log2, '.-', label = 'OOB error rate');\n",
    "axs[0].plot(tmp_test_acc_log2, '.-', label = 'Test error rate');\n",
    "axs[0].set_title('Log2');\n",
    "axs[1].plot(tmp_oob_sqrt,'.-',  label = 'OOB error rate');\n",
    "axs[1].plot(tmp_test_acc_sqrt,'.-',  label = 'Test error rate');\n",
    "axs[1].set_title('Squared Root');\n",
    "axs[2].plot(tmp_oob_none, '.-', label = 'OOB error rate');\n",
    "axs[2].plot(tmp_test_acc_none,'.-',  label = 'Test error rate');\n",
    "axs[2].set_title('None');\n",
    "plt.tight_layout();\n",
    "plt.legend();"
   ]
  },
  {
   "cell_type": "markdown",
   "metadata": {},
   "source": [
    "* El desempeño de None tiende a ser peor que Log2 y Raiz cuadrada. \n",
    "* Log2 y Raiz cuadrada tienden a tener un comportamiento similar.\n",
    "* El comportamiento del puntaje OOB tiende a mejorar en Log2 y Raiz cuadrada en la medida que aumentamos la cantidad de estimadores a incluir en el ensamble."
   ]
  },
  {
   "cell_type": "markdown",
   "metadata": {},
   "source": [
    "# Ejercicio 5: Refactorice el modelo\n",
    "* En base a la mejor combinación de hiperparámetros, reentrene el modelo y comente su desempeño."
   ]
  },
  {
   "cell_type": "markdown",
   "metadata": {},
   "source": [
    "### Utilizando el modelo con mejor desempeño\n",
    " * Ya que Squared Root y Log2 tuvieron un comportamiento similar, se decidio utilizar los dos."
   ]
  },
  {
   "cell_type": "code",
   "execution_count": 14,
   "metadata": {},
   "outputs": [
    {
     "name": "stdout",
     "output_type": "stream",
     "text": [
      "Test MSE:  1446982344.2461221\n",
      "Test MSE:  16000.0\n",
      "Test MSE:  0.7487335935108465\n",
      "-----------------------------------\n",
      "Test MSE:  1446982344.2461221\n",
      "Test MSE:  16000.0\n",
      "Test MSE:  0.7487335935108465\n"
     ]
    }
   ],
   "source": [
    "print(\"Test MSE: \", mean_squared_error(edu_y_test, rf_model_sqrt.predict(edu_X_test)))\n",
    "print(\"Test MSE: \", median_absolute_error(edu_y_test, rf_model_sqrt.predict(edu_X_test)))\n",
    "print(\"Test MSE: \", r2_score(edu_y_test, rf_model_sqrt.predict(edu_X_test)))\n",
    "\n",
    "print(\"-----------------------------------\")\n",
    "\n",
    "print(\"Test MSE: \", mean_squared_error(edu_y_test, rf_model_log2.predict(edu_X_test)))\n",
    "print(\"Test MSE: \", median_absolute_error(edu_y_test, rf_model_log2.predict(edu_X_test)))\n",
    "print(\"Test MSE: \", r2_score(edu_y_test, rf_model_log2.predict(edu_X_test)))"
   ]
  },
  {
   "cell_type": "code",
   "execution_count": null,
   "metadata": {},
   "outputs": [],
   "source": []
  }
 ],
 "metadata": {
  "kernelspec": {
   "display_name": "Python 3",
   "language": "python",
   "name": "python3"
  },
  "language_info": {
   "codemirror_mode": {
    "name": "ipython",
    "version": 3
   },
   "file_extension": ".py",
   "mimetype": "text/x-python",
   "name": "python",
   "nbconvert_exporter": "python",
   "pygments_lexer": "ipython3",
   "version": "3.7.3"
  }
 },
 "nbformat": 4,
 "nbformat_minor": 4
}
