{
 "cells": [
  {
   "cell_type": "markdown",
   "metadata": {},
   "source": [
    "![alttext](logo.png)"
   ]
  },
  {
   "cell_type": "markdown",
   "metadata": {},
   "source": [
    "### Team Tomato: Gustavo Morales - Eduardo López\n",
    "### Generación :  G10\n",
    "### Profesores : Heriberto Briceño - Giannina Salomo \n",
    "### Fecha : Lunes 2 de Marzo de 2020\n",
    "\n",
    "☑ Hito 1: Preliminares y Aspectos Computacionales.\\\n",
    "☑ Hito 2: Descripción.\\\n",
    "☑ Hito 3: Modelación descriptiva.\\\n",
    "☑ Hito 4: Modelación predictiva."
   ]
  },
  {
   "cell_type": "markdown",
   "metadata": {},
   "source": [
    "# Hito 1"
   ]
  },
  {
   "cell_type": "markdown",
   "metadata": {},
   "source": [
    "# Preliminares "
   ]
  },
  {
   "cell_type": "markdown",
   "metadata": {},
   "source": [
    "### Descripción del problema \n",
    "Analizando los crímenes en la ciudad de de Nueva York.\n",
    "Mediante la información entregada por el departamento de policia de New York se solicita un estudio que entregue de manera detallada si ocurrio o no un arresto y ademas si durante un procedimiento policial concluirá en alguna acción violenta.\n",
    "\n",
    "### Objetivo \n",
    "Desarrollar varios modelos de clasificación para definir si existira violencia durante un procedimiento policial y si ocurrio un arresto o no.\n",
    "\n",
    "### Solución \n",
    "Desarrollo de modelos de clasificación, una vez entrenados y puestos a prueba serán calificados y evaluados entre ellos para definir que modelo es mas exacto y preciso al momento de clasificar. Una vez hecho esto se llevara a cabo el paso fundamental de definir las clases correspondiente a violencia y arresto.\n",
    "\n",
    "### Métricas de desempeño \n",
    "Las métricas de desempeño ayudaran a definir si nuestros modelos son eficientes o no.\n",
    "\n",
    "Antes de presentar todo tipo de soluciones matemáticas se procederá a graficar las variables consideradas relevantes para la solución de este problema. Para esto se aplicarán gráficos tales como:\n",
    "* De distribución \n",
    "\n",
    "Mediante la interpretación de diversos gráficos se puede poseer una idea o cercanía a como se comportan los datos, así evitando caer en sesgos o malos cálculos.\n",
    "\n",
    "Para el caso de clasificación se utilizaran las siguientes metricas de desempeño:\n",
    "* **Precisión**: la exactitud se define como la cantidad de predicciones positivas que fueron correctas.\n",
    "* **Recall**: el porcentaje de casos positivos detectados.\n",
    "* **Accuracy**: es la fracción de predicciones correctas entre el número total de registros\n",
    "* **F1-score**: es una medida para probar el accuracy\n",
    "* **Curva ROC**: define que tan buen desempeño tiene nuestro modelo.\n",
    "    * Área bajo la curva (AUC): También a modo de apoyo como metrica a la curva ROC, se utilizara el área bajo la curva."
   ]
  },
  {
   "cell_type": "markdown",
   "metadata": {},
   "source": [
    "# Aspectos computacionales"
   ]
  },
  {
   "cell_type": "markdown",
   "metadata": {},
   "source": [
    "### Librerias para ingesta y preprocesamiento de datos\n",
    "\n",
    "Para la ingesta y preprocesamiento de datos se utilizaran las librerias de Numpy y Pandas."
   ]
  },
  {
   "cell_type": "code",
   "execution_count": 1,
   "metadata": {},
   "outputs": [],
   "source": [
    "import numpy as np \n",
    "import pandas as pd"
   ]
  },
  {
   "cell_type": "markdown",
   "metadata": {},
   "source": [
    "### Librerias para visualización de datos\n",
    "Para la visualización de datos se utilizaran las librerias de Matplotlib y Seaborn. "
   ]
  },
  {
   "cell_type": "code",
   "execution_count": 2,
   "metadata": {},
   "outputs": [],
   "source": [
    "import matplotlib.pyplot as plt\n",
    "from matplotlib import rcParams\n",
    "import seaborn as sns"
   ]
  },
  {
   "cell_type": "markdown",
   "metadata": {},
   "source": [
    "Y para definir un estilo estandar se utilizara la base de seaborn"
   ]
  },
  {
   "cell_type": "code",
   "execution_count": 3,
   "metadata": {},
   "outputs": [],
   "source": [
    "plt.style.use(\"seaborn\")"
   ]
  },
  {
   "cell_type": "markdown",
   "metadata": {},
   "source": [
    "### Librerias para Machine Learning\n",
    "Las librerias a continuación facilitan la creación de un modelo en base a la predicción de un vector objetivo utilizando modelos de clasificación.\n",
    "\n",
    "Dado que se trabajara con un problema de aprendizaje supervisado, se utilizaran los siguientes modelos:\n",
    "\n",
    "#### Modelos\n",
    "   * GradientBoostingClassifier\n",
    "       * Hiperparametros:\n",
    "       ```python\n",
    "          gradient_params = {'learning_rate': [0.01, 0.1,0.5],\n",
    "                             'n_estimators': [50, 100, 500, 1000, 2000],\n",
    "                             'subsample': [0.1,0.5,0.9]}\n",
    "       ```\n",
    "   * AdaBoostClassifier\n",
    "        * Hiperparametros: \n",
    "        ```python \n",
    "           ada_params = {'learning_rate': [0.01, 0.1, 0.5],\n",
    "                         'n_estimators': [50, 100, 500, 1000, 2000]}\n",
    "        ```\n",
    "   * DecisionTreeClassifier\n",
    "        * Hiperparametros: \n",
    "        ```python\n",
    "           max_depth = 4\n",
    "        ```\n",
    "   * LogisticRegression\n",
    "   * SVC\n",
    "        * Hiperparametros:\n",
    "        ```python\n",
    "           params = {\"C\": [0.0001, 0.001, 0.01, 0.1, 1, 10, 100, 1000],\n",
    "                     \"gamma\": [0.0000001, 0.0001, 0.001, 0.01, 0.1, 1, 10]}\n",
    "           cv = 10\n",
    "        ```\n",
    "        \n",
    "#### Métricas\n",
    "   * roc_curve: para generar curva ROC\n",
    "   * roc_auc_score: para obtener el area bajo la curva\n",
    "   * classification_report: para generar un resumen del desempeño del modelo en base a precision, recall, accuracy y F1-score.\n",
    "   \n",
    "#### Selección\n",
    "   * train_test_split: método que divide una matriz de manera aleatoria para generar sets de entrenamiento y prueba. (33% para validación)"
   ]
  },
  {
   "cell_type": "markdown",
   "metadata": {},
   "source": [
    "### Modulos para implementación de modelos"
   ]
  },
  {
   "cell_type": "code",
   "execution_count": 4,
   "metadata": {},
   "outputs": [],
   "source": [
    "from sklearn.ensemble import GradientBoostingClassifier\n",
    "from sklearn.svm import SVC\n",
    "from sklearn.ensemble import AdaBoostClassifier\n",
    "from sklearn.tree import DecisionTreeClassifier\n",
    "from sklearn.linear_model import LogisticRegression"
   ]
  },
  {
   "cell_type": "markdown",
   "metadata": {},
   "source": [
    "### Modulos para selección y medición de desempeño de modelos"
   ]
  },
  {
   "cell_type": "code",
   "execution_count": 5,
   "metadata": {},
   "outputs": [],
   "source": [
    "from sklearn.model_selection import train_test_split\n",
    "from sklearn.metrics import classification_report, roc_curve, roc_auc_score"
   ]
  },
  {
   "cell_type": "markdown",
   "metadata": {},
   "source": [
    "#### Modulo para optimizar procesos de aprendizaje en modelos"
   ]
  },
  {
   "cell_type": "code",
   "execution_count": 6,
   "metadata": {},
   "outputs": [],
   "source": [
    "from sklearn.pipeline import Pipeline"
   ]
  },
  {
   "cell_type": "markdown",
   "metadata": {},
   "source": [
    "#### Modulo para selección de mejores hiperparametros según modelo"
   ]
  },
  {
   "cell_type": "code",
   "execution_count": 7,
   "metadata": {},
   "outputs": [],
   "source": [
    "from sklearn.model_selection import GridSearchCV"
   ]
  },
  {
   "cell_type": "markdown",
   "metadata": {},
   "source": [
    "#### Modulo para serialización de modelos"
   ]
  },
  {
   "cell_type": "code",
   "execution_count": 8,
   "metadata": {},
   "outputs": [],
   "source": [
    "import pickle"
   ]
  },
  {
   "cell_type": "markdown",
   "metadata": {},
   "source": [
    "#### Funciones auxiliares y que no se muestren warnings en ejecución"
   ]
  },
  {
   "cell_type": "code",
   "execution_count": 9,
   "metadata": {},
   "outputs": [],
   "source": [
    "import preproc_nyc_sqf as pre_funcs\n",
    "import aux_funcs as funcs\n",
    "import warnings\n",
    "\n",
    "warnings.filterwarnings(\"ignore\")\n",
    "\n",
    "plt.style.use(\"seaborn\")"
   ]
  },
  {
   "cell_type": "markdown",
   "metadata": {},
   "source": [
    "# Hito 2"
   ]
  },
  {
   "cell_type": "markdown",
   "metadata": {},
   "source": [
    "## Feature Enginering"
   ]
  },
  {
   "cell_type": "code",
   "execution_count": 10,
   "metadata": {},
   "outputs": [],
   "source": [
    "df = pd.read_csv(\"2009_1perc.csv\").drop(columns = \"Unnamed: 0\")\n",
    "df_test = pd.read_csv(\"2010_1perc.csv\").drop(columns = \"Unnamed: 0\")"
   ]
  },
  {
   "cell_type": "code",
   "execution_count": 11,
   "metadata": {},
   "outputs": [
    {
     "data": {
      "text/html": [
       "<div>\n",
       "<style scoped>\n",
       "    .dataframe tbody tr th:only-of-type {\n",
       "        vertical-align: middle;\n",
       "    }\n",
       "\n",
       "    .dataframe tbody tr th {\n",
       "        vertical-align: top;\n",
       "    }\n",
       "\n",
       "    .dataframe thead th {\n",
       "        text-align: right;\n",
       "    }\n",
       "</style>\n",
       "<table border=\"1\" class=\"dataframe\">\n",
       "  <thead>\n",
       "    <tr style=\"text-align: right;\">\n",
       "      <th></th>\n",
       "      <th>year</th>\n",
       "      <th>pct</th>\n",
       "      <th>ser_num</th>\n",
       "      <th>datestop</th>\n",
       "      <th>timestop</th>\n",
       "      <th>recstat</th>\n",
       "      <th>inout</th>\n",
       "      <th>trhsloc</th>\n",
       "      <th>perobs</th>\n",
       "      <th>crimsusp</th>\n",
       "      <th>...</th>\n",
       "      <th>zip</th>\n",
       "      <th>addrpct</th>\n",
       "      <th>sector</th>\n",
       "      <th>beat</th>\n",
       "      <th>post</th>\n",
       "      <th>xcoord</th>\n",
       "      <th>ycoord</th>\n",
       "      <th>dettypcm</th>\n",
       "      <th>linecm</th>\n",
       "      <th>detailcm</th>\n",
       "    </tr>\n",
       "  </thead>\n",
       "  <tbody>\n",
       "    <tr>\n",
       "      <th>0</th>\n",
       "      <td>2009</td>\n",
       "      <td>41</td>\n",
       "      <td>1779</td>\n",
       "      <td>4032009</td>\n",
       "      <td>130</td>\n",
       "      <td>A</td>\n",
       "      <td>O</td>\n",
       "      <td>P</td>\n",
       "      <td>1.0</td>\n",
       "      <td>CPW</td>\n",
       "      <td>...</td>\n",
       "      <td></td>\n",
       "      <td>41</td>\n",
       "      <td>G</td>\n",
       "      <td>7</td>\n",
       "      <td></td>\n",
       "      <td>1013067</td>\n",
       "      <td>0238633</td>\n",
       "      <td>CM</td>\n",
       "      <td>1</td>\n",
       "      <td>20</td>\n",
       "    </tr>\n",
       "    <tr>\n",
       "      <th>1</th>\n",
       "      <td>2009</td>\n",
       "      <td>108</td>\n",
       "      <td>5805</td>\n",
       "      <td>10292009</td>\n",
       "      <td>1050</td>\n",
       "      <td>A</td>\n",
       "      <td>O</td>\n",
       "      <td>P</td>\n",
       "      <td>3.0</td>\n",
       "      <td>BURG</td>\n",
       "      <td>...</td>\n",
       "      <td></td>\n",
       "      <td>108</td>\n",
       "      <td>J</td>\n",
       "      <td></td>\n",
       "      <td></td>\n",
       "      <td>1012043</td>\n",
       "      <td>0212157</td>\n",
       "      <td>CM</td>\n",
       "      <td>1</td>\n",
       "      <td>14</td>\n",
       "    </tr>\n",
       "    <tr>\n",
       "      <th>2</th>\n",
       "      <td>2009</td>\n",
       "      <td>43</td>\n",
       "      <td>8340</td>\n",
       "      <td>10062009</td>\n",
       "      <td>1450</td>\n",
       "      <td>1</td>\n",
       "      <td>O</td>\n",
       "      <td>P</td>\n",
       "      <td>1.0</td>\n",
       "      <td>MISD</td>\n",
       "      <td>...</td>\n",
       "      <td></td>\n",
       "      <td>43</td>\n",
       "      <td>E</td>\n",
       "      <td></td>\n",
       "      <td></td>\n",
       "      <td>1017599</td>\n",
       "      <td>0240200</td>\n",
       "      <td>CM</td>\n",
       "      <td>1</td>\n",
       "      <td>20</td>\n",
       "    </tr>\n",
       "    <tr>\n",
       "      <th>3</th>\n",
       "      <td>2009</td>\n",
       "      <td>77</td>\n",
       "      <td>932</td>\n",
       "      <td>1232009</td>\n",
       "      <td>1843</td>\n",
       "      <td>A</td>\n",
       "      <td>O</td>\n",
       "      <td>P</td>\n",
       "      <td>5.0</td>\n",
       "      <td>MIS</td>\n",
       "      <td>...</td>\n",
       "      <td></td>\n",
       "      <td>77</td>\n",
       "      <td>J</td>\n",
       "      <td>4</td>\n",
       "      <td>35</td>\n",
       "      <td>1002625</td>\n",
       "      <td>0183442</td>\n",
       "      <td>CM</td>\n",
       "      <td>1</td>\n",
       "      <td>24</td>\n",
       "    </tr>\n",
       "    <tr>\n",
       "      <th>4</th>\n",
       "      <td>2009</td>\n",
       "      <td>110</td>\n",
       "      <td>11224</td>\n",
       "      <td>12132009</td>\n",
       "      <td>1655</td>\n",
       "      <td>A</td>\n",
       "      <td>O</td>\n",
       "      <td>P</td>\n",
       "      <td>3.0</td>\n",
       "      <td>CPW</td>\n",
       "      <td>...</td>\n",
       "      <td></td>\n",
       "      <td>110</td>\n",
       "      <td>H</td>\n",
       "      <td></td>\n",
       "      <td></td>\n",
       "      <td>1024535</td>\n",
       "      <td>0209890</td>\n",
       "      <td>CM</td>\n",
       "      <td>1</td>\n",
       "      <td>20</td>\n",
       "    </tr>\n",
       "    <tr>\n",
       "      <th>...</th>\n",
       "      <td>...</td>\n",
       "      <td>...</td>\n",
       "      <td>...</td>\n",
       "      <td>...</td>\n",
       "      <td>...</td>\n",
       "      <td>...</td>\n",
       "      <td>...</td>\n",
       "      <td>...</td>\n",
       "      <td>...</td>\n",
       "      <td>...</td>\n",
       "      <td>...</td>\n",
       "      <td>...</td>\n",
       "      <td>...</td>\n",
       "      <td>...</td>\n",
       "      <td>...</td>\n",
       "      <td>...</td>\n",
       "      <td>...</td>\n",
       "      <td>...</td>\n",
       "      <td>...</td>\n",
       "      <td>...</td>\n",
       "      <td>...</td>\n",
       "    </tr>\n",
       "    <tr>\n",
       "      <th>5807</th>\n",
       "      <td>2009</td>\n",
       "      <td>52</td>\n",
       "      <td>3719</td>\n",
       "      <td>3282009</td>\n",
       "      <td>210</td>\n",
       "      <td>A</td>\n",
       "      <td>O</td>\n",
       "      <td>P</td>\n",
       "      <td>1.0</td>\n",
       "      <td>ASSAULT</td>\n",
       "      <td>...</td>\n",
       "      <td></td>\n",
       "      <td>52</td>\n",
       "      <td>A</td>\n",
       "      <td></td>\n",
       "      <td></td>\n",
       "      <td>1009910</td>\n",
       "      <td>0255837</td>\n",
       "      <td>CM</td>\n",
       "      <td>1</td>\n",
       "      <td>9</td>\n",
       "    </tr>\n",
       "    <tr>\n",
       "      <th>5808</th>\n",
       "      <td>2009</td>\n",
       "      <td>79</td>\n",
       "      <td>15751</td>\n",
       "      <td>9292009</td>\n",
       "      <td>2008</td>\n",
       "      <td>A</td>\n",
       "      <td>O</td>\n",
       "      <td>P</td>\n",
       "      <td>3.0</td>\n",
       "      <td>CPW</td>\n",
       "      <td>...</td>\n",
       "      <td></td>\n",
       "      <td>79</td>\n",
       "      <td>F</td>\n",
       "      <td>17</td>\n",
       "      <td></td>\n",
       "      <td>1001545</td>\n",
       "      <td>0192836</td>\n",
       "      <td>CM</td>\n",
       "      <td>1</td>\n",
       "      <td>20</td>\n",
       "    </tr>\n",
       "    <tr>\n",
       "      <th>5809</th>\n",
       "      <td>2009</td>\n",
       "      <td>69</td>\n",
       "      <td>3024</td>\n",
       "      <td>6262009</td>\n",
       "      <td>1937</td>\n",
       "      <td>1</td>\n",
       "      <td>O</td>\n",
       "      <td>P</td>\n",
       "      <td>1.0</td>\n",
       "      <td>FEL</td>\n",
       "      <td>...</td>\n",
       "      <td></td>\n",
       "      <td>69</td>\n",
       "      <td>B</td>\n",
       "      <td></td>\n",
       "      <td></td>\n",
       "      <td>1012860</td>\n",
       "      <td>0174682</td>\n",
       "      <td>CM</td>\n",
       "      <td>1</td>\n",
       "      <td>85</td>\n",
       "    </tr>\n",
       "    <tr>\n",
       "      <th>5810</th>\n",
       "      <td>2009</td>\n",
       "      <td>76</td>\n",
       "      <td>1303</td>\n",
       "      <td>3102009</td>\n",
       "      <td>59</td>\n",
       "      <td>1</td>\n",
       "      <td>O</td>\n",
       "      <td>H</td>\n",
       "      <td>1.0</td>\n",
       "      <td>CPM MISD  PSA#771</td>\n",
       "      <td>...</td>\n",
       "      <td></td>\n",
       "      <td>76</td>\n",
       "      <td>A</td>\n",
       "      <td>10</td>\n",
       "      <td></td>\n",
       "      <td>0981820</td>\n",
       "      <td>0185424</td>\n",
       "      <td>CM</td>\n",
       "      <td>1</td>\n",
       "      <td>27</td>\n",
       "    </tr>\n",
       "    <tr>\n",
       "      <th>5811</th>\n",
       "      <td>2009</td>\n",
       "      <td>10</td>\n",
       "      <td>1018</td>\n",
       "      <td>5142009</td>\n",
       "      <td>40</td>\n",
       "      <td>1</td>\n",
       "      <td>O</td>\n",
       "      <td>H</td>\n",
       "      <td>5.0</td>\n",
       "      <td>CPCS</td>\n",
       "      <td>...</td>\n",
       "      <td></td>\n",
       "      <td>10</td>\n",
       "      <td>D</td>\n",
       "      <td></td>\n",
       "      <td></td>\n",
       "      <td>0984003</td>\n",
       "      <td>0212087</td>\n",
       "      <td>CM</td>\n",
       "      <td>1</td>\n",
       "      <td>24</td>\n",
       "    </tr>\n",
       "  </tbody>\n",
       "</table>\n",
       "<p>5812 rows × 111 columns</p>\n",
       "</div>"
      ],
      "text/plain": [
       "      year  pct  ser_num  datestop  timestop recstat inout trhsloc  perobs  \\\n",
       "0     2009   41     1779   4032009       130       A     O       P     1.0   \n",
       "1     2009  108     5805  10292009      1050       A     O       P     3.0   \n",
       "2     2009   43     8340  10062009      1450       1     O       P     1.0   \n",
       "3     2009   77      932   1232009      1843       A     O       P     5.0   \n",
       "4     2009  110    11224  12132009      1655       A     O       P     3.0   \n",
       "...    ...  ...      ...       ...       ...     ...   ...     ...     ...   \n",
       "5807  2009   52     3719   3282009       210       A     O       P     1.0   \n",
       "5808  2009   79    15751   9292009      2008       A     O       P     3.0   \n",
       "5809  2009   69     3024   6262009      1937       1     O       P     1.0   \n",
       "5810  2009   76     1303   3102009        59       1     O       H     1.0   \n",
       "5811  2009   10     1018   5142009        40       1     O       H     5.0   \n",
       "\n",
       "               crimsusp  ...  zip addrpct sector beat post   xcoord   ycoord  \\\n",
       "0                   CPW  ...           41      G    7       1013067  0238633   \n",
       "1                  BURG  ...          108      J            1012043  0212157   \n",
       "2                  MISD  ...           43      E            1017599  0240200   \n",
       "3                   MIS  ...           77      J    4   35  1002625  0183442   \n",
       "4                   CPW  ...          110      H            1024535  0209890   \n",
       "...                 ...  ...  ...     ...    ...  ...  ...      ...      ...   \n",
       "5807            ASSAULT  ...           52      A            1009910  0255837   \n",
       "5808                CPW  ...           79      F   17       1001545  0192836   \n",
       "5809                FEL  ...           69      B            1012860  0174682   \n",
       "5810  CPM MISD  PSA#771  ...           76      A   10       0981820  0185424   \n",
       "5811               CPCS  ...           10      D            0984003  0212087   \n",
       "\n",
       "     dettypcm  linecm  detailcm  \n",
       "0          CM       1        20  \n",
       "1          CM       1        14  \n",
       "2          CM       1        20  \n",
       "3          CM       1        24  \n",
       "4          CM       1        20  \n",
       "...       ...     ...       ...  \n",
       "5807       CM       1         9  \n",
       "5808       CM       1        20  \n",
       "5809       CM       1        85  \n",
       "5810       CM       1        27  \n",
       "5811       CM       1        24  \n",
       "\n",
       "[5812 rows x 111 columns]"
      ]
     },
     "execution_count": 11,
     "metadata": {},
     "output_type": "execute_result"
    }
   ],
   "source": [
    "df"
   ]
  },
  {
   "cell_type": "code",
   "execution_count": 12,
   "metadata": {},
   "outputs": [
    {
     "data": {
      "text/html": [
       "<div>\n",
       "<style scoped>\n",
       "    .dataframe tbody tr th:only-of-type {\n",
       "        vertical-align: middle;\n",
       "    }\n",
       "\n",
       "    .dataframe tbody tr th {\n",
       "        vertical-align: top;\n",
       "    }\n",
       "\n",
       "    .dataframe thead th {\n",
       "        text-align: right;\n",
       "    }\n",
       "</style>\n",
       "<table border=\"1\" class=\"dataframe\">\n",
       "  <thead>\n",
       "    <tr style=\"text-align: right;\">\n",
       "      <th></th>\n",
       "      <th>year</th>\n",
       "      <th>pct</th>\n",
       "      <th>ser_num</th>\n",
       "      <th>datestop</th>\n",
       "      <th>timestop</th>\n",
       "      <th>recstat</th>\n",
       "      <th>inout</th>\n",
       "      <th>trhsloc</th>\n",
       "      <th>perobs</th>\n",
       "      <th>crimsusp</th>\n",
       "      <th>...</th>\n",
       "      <th>zip</th>\n",
       "      <th>addrpct</th>\n",
       "      <th>sector</th>\n",
       "      <th>beat</th>\n",
       "      <th>post</th>\n",
       "      <th>xcoord</th>\n",
       "      <th>ycoord</th>\n",
       "      <th>dettypcm</th>\n",
       "      <th>linecm</th>\n",
       "      <th>detailcm</th>\n",
       "    </tr>\n",
       "  </thead>\n",
       "  <tbody>\n",
       "    <tr>\n",
       "      <th>0</th>\n",
       "      <td>2010</td>\n",
       "      <td>6</td>\n",
       "      <td>487</td>\n",
       "      <td>1192010</td>\n",
       "      <td>1420</td>\n",
       "      <td>1</td>\n",
       "      <td>O</td>\n",
       "      <td>P</td>\n",
       "      <td>2</td>\n",
       "      <td>FEL</td>\n",
       "      <td>...</td>\n",
       "      <td></td>\n",
       "      <td>6</td>\n",
       "      <td>G</td>\n",
       "      <td></td>\n",
       "      <td>38</td>\n",
       "      <td>983543</td>\n",
       "      <td>208767</td>\n",
       "      <td>CM</td>\n",
       "      <td>1</td>\n",
       "      <td>85</td>\n",
       "    </tr>\n",
       "    <tr>\n",
       "      <th>1</th>\n",
       "      <td>2010</td>\n",
       "      <td>42</td>\n",
       "      <td>7138</td>\n",
       "      <td>9042010</td>\n",
       "      <td>225</td>\n",
       "      <td>1</td>\n",
       "      <td>I</td>\n",
       "      <td>T</td>\n",
       "      <td>10</td>\n",
       "      <td>FELONY</td>\n",
       "      <td>...</td>\n",
       "      <td></td>\n",
       "      <td>42</td>\n",
       "      <td>E</td>\n",
       "      <td></td>\n",
       "      <td></td>\n",
       "      <td>1014172</td>\n",
       "      <td>241737</td>\n",
       "      <td>CM</td>\n",
       "      <td>1</td>\n",
       "      <td>45</td>\n",
       "    </tr>\n",
       "    <tr>\n",
       "      <th>2</th>\n",
       "      <td>2010</td>\n",
       "      <td>33</td>\n",
       "      <td>2628</td>\n",
       "      <td>6302010</td>\n",
       "      <td>1240</td>\n",
       "      <td>1</td>\n",
       "      <td>I</td>\n",
       "      <td>T</td>\n",
       "      <td>5</td>\n",
       "      <td>ROBBERY</td>\n",
       "      <td>...</td>\n",
       "      <td></td>\n",
       "      <td>33</td>\n",
       "      <td>B</td>\n",
       "      <td>6</td>\n",
       "      <td></td>\n",
       "      <td>1000916</td>\n",
       "      <td>245710</td>\n",
       "      <td>CM</td>\n",
       "      <td>1</td>\n",
       "      <td>85</td>\n",
       "    </tr>\n",
       "    <tr>\n",
       "      <th>3</th>\n",
       "      <td>2010</td>\n",
       "      <td>108</td>\n",
       "      <td>6384</td>\n",
       "      <td>11172010</td>\n",
       "      <td>2338</td>\n",
       "      <td>1</td>\n",
       "      <td>O</td>\n",
       "      <td>P</td>\n",
       "      <td>3</td>\n",
       "      <td>CSCS</td>\n",
       "      <td>...</td>\n",
       "      <td></td>\n",
       "      <td>108</td>\n",
       "      <td>J</td>\n",
       "      <td></td>\n",
       "      <td></td>\n",
       "      <td>1012612</td>\n",
       "      <td>212240</td>\n",
       "      <td>CM</td>\n",
       "      <td>1</td>\n",
       "      <td>28</td>\n",
       "    </tr>\n",
       "    <tr>\n",
       "      <th>4</th>\n",
       "      <td>2010</td>\n",
       "      <td>14</td>\n",
       "      <td>2295</td>\n",
       "      <td>3072010</td>\n",
       "      <td>2240</td>\n",
       "      <td>1</td>\n",
       "      <td>I</td>\n",
       "      <td>T</td>\n",
       "      <td>5</td>\n",
       "      <td>MISD/ CPW</td>\n",
       "      <td>...</td>\n",
       "      <td></td>\n",
       "      <td>14</td>\n",
       "      <td>C</td>\n",
       "      <td>7</td>\n",
       "      <td></td>\n",
       "      <td>987636</td>\n",
       "      <td>212439</td>\n",
       "      <td>CM</td>\n",
       "      <td>1</td>\n",
       "      <td>20</td>\n",
       "    </tr>\n",
       "    <tr>\n",
       "      <th>...</th>\n",
       "      <td>...</td>\n",
       "      <td>...</td>\n",
       "      <td>...</td>\n",
       "      <td>...</td>\n",
       "      <td>...</td>\n",
       "      <td>...</td>\n",
       "      <td>...</td>\n",
       "      <td>...</td>\n",
       "      <td>...</td>\n",
       "      <td>...</td>\n",
       "      <td>...</td>\n",
       "      <td>...</td>\n",
       "      <td>...</td>\n",
       "      <td>...</td>\n",
       "      <td>...</td>\n",
       "      <td>...</td>\n",
       "      <td>...</td>\n",
       "      <td>...</td>\n",
       "      <td>...</td>\n",
       "      <td>...</td>\n",
       "      <td>...</td>\n",
       "    </tr>\n",
       "    <tr>\n",
       "      <th>6008</th>\n",
       "      <td>2010</td>\n",
       "      <td>60</td>\n",
       "      <td>7062</td>\n",
       "      <td>9262010</td>\n",
       "      <td>45</td>\n",
       "      <td>1</td>\n",
       "      <td>O</td>\n",
       "      <td>H</td>\n",
       "      <td>2</td>\n",
       "      <td>MISD</td>\n",
       "      <td>...</td>\n",
       "      <td></td>\n",
       "      <td>60</td>\n",
       "      <td>I</td>\n",
       "      <td></td>\n",
       "      <td></td>\n",
       "      <td>989382</td>\n",
       "      <td>155162</td>\n",
       "      <td>CM</td>\n",
       "      <td>1</td>\n",
       "      <td>20</td>\n",
       "    </tr>\n",
       "    <tr>\n",
       "      <th>6009</th>\n",
       "      <td>2010</td>\n",
       "      <td>75</td>\n",
       "      <td>15797</td>\n",
       "      <td>7302010</td>\n",
       "      <td>10</td>\n",
       "      <td>A</td>\n",
       "      <td>O</td>\n",
       "      <td>P</td>\n",
       "      <td>1</td>\n",
       "      <td>ROBBERY</td>\n",
       "      <td>...</td>\n",
       "      <td></td>\n",
       "      <td>75</td>\n",
       "      <td>A</td>\n",
       "      <td></td>\n",
       "      <td></td>\n",
       "      <td>1012757</td>\n",
       "      <td>186018</td>\n",
       "      <td>CM</td>\n",
       "      <td>1</td>\n",
       "      <td>85</td>\n",
       "    </tr>\n",
       "    <tr>\n",
       "      <th>6010</th>\n",
       "      <td>2010</td>\n",
       "      <td>123</td>\n",
       "      <td>830</td>\n",
       "      <td>4302010</td>\n",
       "      <td>1630</td>\n",
       "      <td>A</td>\n",
       "      <td>O</td>\n",
       "      <td>P</td>\n",
       "      <td>3</td>\n",
       "      <td>GLA</td>\n",
       "      <td>...</td>\n",
       "      <td></td>\n",
       "      <td>123</td>\n",
       "      <td>E</td>\n",
       "      <td></td>\n",
       "      <td></td>\n",
       "      <td>933868</td>\n",
       "      <td>138600</td>\n",
       "      <td>CM</td>\n",
       "      <td>1</td>\n",
       "      <td>46</td>\n",
       "    </tr>\n",
       "    <tr>\n",
       "      <th>6011</th>\n",
       "      <td>2010</td>\n",
       "      <td>115</td>\n",
       "      <td>13122</td>\n",
       "      <td>11232010</td>\n",
       "      <td>2100</td>\n",
       "      <td>1</td>\n",
       "      <td>O</td>\n",
       "      <td>P</td>\n",
       "      <td>1</td>\n",
       "      <td>FELONY</td>\n",
       "      <td>...</td>\n",
       "      <td></td>\n",
       "      <td>115</td>\n",
       "      <td>E</td>\n",
       "      <td></td>\n",
       "      <td></td>\n",
       "      <td>1014722</td>\n",
       "      <td>214388</td>\n",
       "      <td>CM</td>\n",
       "      <td>1</td>\n",
       "      <td>85</td>\n",
       "    </tr>\n",
       "    <tr>\n",
       "      <th>6012</th>\n",
       "      <td>2010</td>\n",
       "      <td>14</td>\n",
       "      <td>219</td>\n",
       "      <td>1062010</td>\n",
       "      <td>1406</td>\n",
       "      <td>1</td>\n",
       "      <td>I</td>\n",
       "      <td>T</td>\n",
       "      <td>4</td>\n",
       "      <td>CRIM MIS.</td>\n",
       "      <td>...</td>\n",
       "      <td></td>\n",
       "      <td>14</td>\n",
       "      <td>H</td>\n",
       "      <td>11</td>\n",
       "      <td></td>\n",
       "      <td>987078</td>\n",
       "      <td>215157</td>\n",
       "      <td>CM</td>\n",
       "      <td>1</td>\n",
       "      <td>23</td>\n",
       "    </tr>\n",
       "  </tbody>\n",
       "</table>\n",
       "<p>6013 rows × 111 columns</p>\n",
       "</div>"
      ],
      "text/plain": [
       "      year  pct  ser_num  datestop  timestop recstat inout trhsloc  perobs  \\\n",
       "0     2010    6      487   1192010      1420       1     O       P       2   \n",
       "1     2010   42     7138   9042010       225       1     I       T      10   \n",
       "2     2010   33     2628   6302010      1240       1     I       T       5   \n",
       "3     2010  108     6384  11172010      2338       1     O       P       3   \n",
       "4     2010   14     2295   3072010      2240       1     I       T       5   \n",
       "...    ...  ...      ...       ...       ...     ...   ...     ...     ...   \n",
       "6008  2010   60     7062   9262010        45       1     O       H       2   \n",
       "6009  2010   75    15797   7302010        10       A     O       P       1   \n",
       "6010  2010  123      830   4302010      1630       A     O       P       3   \n",
       "6011  2010  115    13122  11232010      2100       1     O       P       1   \n",
       "6012  2010   14      219   1062010      1406       1     I       T       4   \n",
       "\n",
       "       crimsusp  ...  zip addrpct sector beat post   xcoord  ycoord dettypcm  \\\n",
       "0           FEL  ...            6      G        38   983543  208767       CM   \n",
       "1        FELONY  ...           42      E            1014172  241737       CM   \n",
       "2       ROBBERY  ...           33      B    6       1000916  245710       CM   \n",
       "3          CSCS  ...          108      J            1012612  212240       CM   \n",
       "4     MISD/ CPW  ...           14      C    7        987636  212439       CM   \n",
       "...         ...  ...  ...     ...    ...  ...  ...      ...     ...      ...   \n",
       "6008       MISD  ...           60      I             989382  155162       CM   \n",
       "6009    ROBBERY  ...           75      A            1012757  186018       CM   \n",
       "6010        GLA  ...          123      E             933868  138600       CM   \n",
       "6011     FELONY  ...          115      E            1014722  214388       CM   \n",
       "6012  CRIM MIS.  ...           14      H   11        987078  215157       CM   \n",
       "\n",
       "      linecm  detailcm  \n",
       "0          1        85  \n",
       "1          1        45  \n",
       "2          1        85  \n",
       "3          1        28  \n",
       "4          1        20  \n",
       "...      ...       ...  \n",
       "6008       1        20  \n",
       "6009       1        85  \n",
       "6010       1        46  \n",
       "6011       1        85  \n",
       "6012       1        23  \n",
       "\n",
       "[6013 rows x 111 columns]"
      ]
     },
     "execution_count": 12,
     "metadata": {},
     "output_type": "execute_result"
    }
   ],
   "source": [
    "df_test"
   ]
  },
  {
   "cell_type": "code",
   "execution_count": 13,
   "metadata": {},
   "outputs": [
    {
     "name": "stdout",
     "output_type": "stream",
     "text": [
      "<class 'pandas.core.frame.DataFrame'>\n",
      "RangeIndex: 5812 entries, 0 to 5811\n",
      "Columns: 111 entries, year to detailcm\n",
      "dtypes: float64(1), int64(18), object(92)\n",
      "memory usage: 4.9+ MB\n"
     ]
    }
   ],
   "source": [
    "df.info()"
   ]
  },
  {
   "cell_type": "markdown",
   "metadata": {},
   "source": [
    "No existen datos perdidos (NaN)"
   ]
  },
  {
   "cell_type": "code",
   "execution_count": 14,
   "metadata": {},
   "outputs": [
    {
     "name": "stdout",
     "output_type": "stream",
     "text": [
      "<class 'pandas.core.frame.DataFrame'>\n",
      "RangeIndex: 6013 entries, 0 to 6012\n",
      "Columns: 111 entries, year to detailcm\n",
      "dtypes: int64(16), object(95)\n",
      "memory usage: 5.1+ MB\n"
     ]
    }
   ],
   "source": [
    "df_test.info()"
   ]
  },
  {
   "cell_type": "code",
   "execution_count": 15,
   "metadata": {},
   "outputs": [
    {
     "name": "stdout",
     "output_type": "stream",
     "text": [
      "['perobs']\n",
      "[]\n"
     ]
    }
   ],
   "source": [
    "df, cat_att, num_att = pre_funcs.create_suitable_dataframe(df)\n",
    "df_test, cat_att_test, num_att_test = pre_funcs.create_suitable_dataframe(df_test)"
   ]
  },
  {
   "cell_type": "code",
   "execution_count": 16,
   "metadata": {
    "scrolled": true
   },
   "outputs": [
    {
     "data": {
      "text/html": [
       "<div>\n",
       "<style scoped>\n",
       "    .dataframe tbody tr th:only-of-type {\n",
       "        vertical-align: middle;\n",
       "    }\n",
       "\n",
       "    .dataframe tbody tr th {\n",
       "        vertical-align: top;\n",
       "    }\n",
       "\n",
       "    .dataframe thead th {\n",
       "        text-align: right;\n",
       "    }\n",
       "</style>\n",
       "<table border=\"1\" class=\"dataframe\">\n",
       "  <thead>\n",
       "    <tr style=\"text-align: right;\">\n",
       "      <th></th>\n",
       "      <th>recstat</th>\n",
       "      <th>inout</th>\n",
       "      <th>trhsloc</th>\n",
       "      <th>typeofid</th>\n",
       "      <th>explnstp</th>\n",
       "      <th>othpers</th>\n",
       "      <th>arstmade</th>\n",
       "      <th>sumissue</th>\n",
       "      <th>offunif</th>\n",
       "      <th>officrid</th>\n",
       "      <th>...</th>\n",
       "      <th>race</th>\n",
       "      <th>haircolr</th>\n",
       "      <th>eyecolor</th>\n",
       "      <th>build</th>\n",
       "      <th>city</th>\n",
       "      <th>sector</th>\n",
       "      <th>beat</th>\n",
       "      <th>post</th>\n",
       "      <th>month</th>\n",
       "      <th>meters</th>\n",
       "    </tr>\n",
       "  </thead>\n",
       "  <tbody>\n",
       "    <tr>\n",
       "      <th>0</th>\n",
       "      <td>A</td>\n",
       "      <td>O</td>\n",
       "      <td>P</td>\n",
       "      <td>P</td>\n",
       "      <td>Y</td>\n",
       "      <td>N</td>\n",
       "      <td>N</td>\n",
       "      <td>N</td>\n",
       "      <td>Y</td>\n",
       "      <td>N</td>\n",
       "      <td>...</td>\n",
       "      <td>B</td>\n",
       "      <td>BK</td>\n",
       "      <td>BR</td>\n",
       "      <td>M</td>\n",
       "      <td>BRONX</td>\n",
       "      <td>G</td>\n",
       "      <td>7</td>\n",
       "      <td></td>\n",
       "      <td>4</td>\n",
       "      <td>1.798320</td>\n",
       "    </tr>\n",
       "    <tr>\n",
       "      <th>2</th>\n",
       "      <td>1</td>\n",
       "      <td>O</td>\n",
       "      <td>P</td>\n",
       "      <td>V</td>\n",
       "      <td>Y</td>\n",
       "      <td>N</td>\n",
       "      <td>N</td>\n",
       "      <td>N</td>\n",
       "      <td>N</td>\n",
       "      <td>N</td>\n",
       "      <td>...</td>\n",
       "      <td>Q</td>\n",
       "      <td>BR</td>\n",
       "      <td>BR</td>\n",
       "      <td>M</td>\n",
       "      <td>BRONX</td>\n",
       "      <td>E</td>\n",
       "      <td>U</td>\n",
       "      <td></td>\n",
       "      <td>10</td>\n",
       "      <td>1.920240</td>\n",
       "    </tr>\n",
       "    <tr>\n",
       "      <th>3</th>\n",
       "      <td>A</td>\n",
       "      <td>O</td>\n",
       "      <td>P</td>\n",
       "      <td>P</td>\n",
       "      <td>Y</td>\n",
       "      <td>N</td>\n",
       "      <td>N</td>\n",
       "      <td>N</td>\n",
       "      <td>Y</td>\n",
       "      <td>N</td>\n",
       "      <td>...</td>\n",
       "      <td>B</td>\n",
       "      <td>BK</td>\n",
       "      <td>BR</td>\n",
       "      <td>T</td>\n",
       "      <td>BROOKLYN</td>\n",
       "      <td>J</td>\n",
       "      <td>4</td>\n",
       "      <td>35</td>\n",
       "      <td>12</td>\n",
       "      <td>1.676400</td>\n",
       "    </tr>\n",
       "    <tr>\n",
       "      <th>5</th>\n",
       "      <td>1</td>\n",
       "      <td>I</td>\n",
       "      <td>T</td>\n",
       "      <td>V</td>\n",
       "      <td>Y</td>\n",
       "      <td>N</td>\n",
       "      <td>N</td>\n",
       "      <td>N</td>\n",
       "      <td>N</td>\n",
       "      <td>Y</td>\n",
       "      <td>...</td>\n",
       "      <td>B</td>\n",
       "      <td>BK</td>\n",
       "      <td>BR</td>\n",
       "      <td>M</td>\n",
       "      <td>MANHATTAN</td>\n",
       "      <td>F</td>\n",
       "      <td>16</td>\n",
       "      <td></td>\n",
       "      <td>5</td>\n",
       "      <td>1.767840</td>\n",
       "    </tr>\n",
       "    <tr>\n",
       "      <th>6</th>\n",
       "      <td>1</td>\n",
       "      <td>O</td>\n",
       "      <td>P</td>\n",
       "      <td>P</td>\n",
       "      <td>Y</td>\n",
       "      <td>N</td>\n",
       "      <td>N</td>\n",
       "      <td>N</td>\n",
       "      <td>Y</td>\n",
       "      <td>N</td>\n",
       "      <td>...</td>\n",
       "      <td>B</td>\n",
       "      <td>BK</td>\n",
       "      <td>BR</td>\n",
       "      <td>T</td>\n",
       "      <td>BROOKLYN</td>\n",
       "      <td>N</td>\n",
       "      <td>U</td>\n",
       "      <td></td>\n",
       "      <td>11</td>\n",
       "      <td>1.557528</td>\n",
       "    </tr>\n",
       "    <tr>\n",
       "      <th>...</th>\n",
       "      <td>...</td>\n",
       "      <td>...</td>\n",
       "      <td>...</td>\n",
       "      <td>...</td>\n",
       "      <td>...</td>\n",
       "      <td>...</td>\n",
       "      <td>...</td>\n",
       "      <td>...</td>\n",
       "      <td>...</td>\n",
       "      <td>...</td>\n",
       "      <td>...</td>\n",
       "      <td>...</td>\n",
       "      <td>...</td>\n",
       "      <td>...</td>\n",
       "      <td>...</td>\n",
       "      <td>...</td>\n",
       "      <td>...</td>\n",
       "      <td>...</td>\n",
       "      <td>...</td>\n",
       "      <td>...</td>\n",
       "      <td>...</td>\n",
       "    </tr>\n",
       "    <tr>\n",
       "      <th>5806</th>\n",
       "      <td>A</td>\n",
       "      <td>O</td>\n",
       "      <td>P</td>\n",
       "      <td>V</td>\n",
       "      <td>Y</td>\n",
       "      <td>Y</td>\n",
       "      <td>N</td>\n",
       "      <td>N</td>\n",
       "      <td>Y</td>\n",
       "      <td>N</td>\n",
       "      <td>...</td>\n",
       "      <td>B</td>\n",
       "      <td>BK</td>\n",
       "      <td>BR</td>\n",
       "      <td>M</td>\n",
       "      <td>BRONX</td>\n",
       "      <td>N</td>\n",
       "      <td>U</td>\n",
       "      <td>3</td>\n",
       "      <td>5</td>\n",
       "      <td>1.554480</td>\n",
       "    </tr>\n",
       "    <tr>\n",
       "      <th>5808</th>\n",
       "      <td>A</td>\n",
       "      <td>O</td>\n",
       "      <td>P</td>\n",
       "      <td>P</td>\n",
       "      <td>Y</td>\n",
       "      <td>N</td>\n",
       "      <td>N</td>\n",
       "      <td>N</td>\n",
       "      <td>N</td>\n",
       "      <td>N</td>\n",
       "      <td>...</td>\n",
       "      <td>B</td>\n",
       "      <td>BK</td>\n",
       "      <td>BR</td>\n",
       "      <td>T</td>\n",
       "      <td>BROOKLYN</td>\n",
       "      <td>F</td>\n",
       "      <td>17</td>\n",
       "      <td></td>\n",
       "      <td>9</td>\n",
       "      <td>1.557528</td>\n",
       "    </tr>\n",
       "    <tr>\n",
       "      <th>5809</th>\n",
       "      <td>1</td>\n",
       "      <td>O</td>\n",
       "      <td>P</td>\n",
       "      <td>P</td>\n",
       "      <td>Y</td>\n",
       "      <td>N</td>\n",
       "      <td>N</td>\n",
       "      <td>N</td>\n",
       "      <td>Y</td>\n",
       "      <td>N</td>\n",
       "      <td>...</td>\n",
       "      <td>B</td>\n",
       "      <td>BK</td>\n",
       "      <td>BR</td>\n",
       "      <td>M</td>\n",
       "      <td>BROOKLYN</td>\n",
       "      <td>B</td>\n",
       "      <td>U</td>\n",
       "      <td></td>\n",
       "      <td>6</td>\n",
       "      <td>1.737360</td>\n",
       "    </tr>\n",
       "    <tr>\n",
       "      <th>5810</th>\n",
       "      <td>1</td>\n",
       "      <td>O</td>\n",
       "      <td>H</td>\n",
       "      <td>P</td>\n",
       "      <td>Y</td>\n",
       "      <td>N</td>\n",
       "      <td>Y</td>\n",
       "      <td>N</td>\n",
       "      <td>Y</td>\n",
       "      <td>N</td>\n",
       "      <td>...</td>\n",
       "      <td>B</td>\n",
       "      <td>BK</td>\n",
       "      <td>BR</td>\n",
       "      <td>T</td>\n",
       "      <td>BROOKLYN</td>\n",
       "      <td>A</td>\n",
       "      <td>10</td>\n",
       "      <td></td>\n",
       "      <td>3</td>\n",
       "      <td>1.767840</td>\n",
       "    </tr>\n",
       "    <tr>\n",
       "      <th>5811</th>\n",
       "      <td>1</td>\n",
       "      <td>O</td>\n",
       "      <td>H</td>\n",
       "      <td>P</td>\n",
       "      <td>Y</td>\n",
       "      <td>N</td>\n",
       "      <td>N</td>\n",
       "      <td>N</td>\n",
       "      <td>Y</td>\n",
       "      <td>N</td>\n",
       "      <td>...</td>\n",
       "      <td>U</td>\n",
       "      <td>BK</td>\n",
       "      <td>BR</td>\n",
       "      <td>M</td>\n",
       "      <td>MANHATTAN</td>\n",
       "      <td>D</td>\n",
       "      <td>U</td>\n",
       "      <td></td>\n",
       "      <td>5</td>\n",
       "      <td>1.828800</td>\n",
       "    </tr>\n",
       "  </tbody>\n",
       "</table>\n",
       "<p>4636 rows × 74 columns</p>\n",
       "</div>"
      ],
      "text/plain": [
       "     recstat inout trhsloc typeofid explnstp othpers arstmade sumissue  \\\n",
       "0          A     O       P        P        Y       N        N        N   \n",
       "2          1     O       P        V        Y       N        N        N   \n",
       "3          A     O       P        P        Y       N        N        N   \n",
       "5          1     I       T        V        Y       N        N        N   \n",
       "6          1     O       P        P        Y       N        N        N   \n",
       "...      ...   ...     ...      ...      ...     ...      ...      ...   \n",
       "5806       A     O       P        V        Y       Y        N        N   \n",
       "5808       A     O       P        P        Y       N        N        N   \n",
       "5809       1     O       P        P        Y       N        N        N   \n",
       "5810       1     O       H        P        Y       N        Y        N   \n",
       "5811       1     O       H        P        Y       N        N        N   \n",
       "\n",
       "     offunif officrid  ... race haircolr eyecolor build       city sector  \\\n",
       "0          Y        N  ...    B       BK       BR     M      BRONX      G   \n",
       "2          N        N  ...    Q       BR       BR     M      BRONX      E   \n",
       "3          Y        N  ...    B       BK       BR     T   BROOKLYN      J   \n",
       "5          N        Y  ...    B       BK       BR     M  MANHATTAN      F   \n",
       "6          Y        N  ...    B       BK       BR     T   BROOKLYN      N   \n",
       "...      ...      ...  ...  ...      ...      ...   ...        ...    ...   \n",
       "5806       Y        N  ...    B       BK       BR     M      BRONX      N   \n",
       "5808       N        N  ...    B       BK       BR     T   BROOKLYN      F   \n",
       "5809       Y        N  ...    B       BK       BR     M   BROOKLYN      B   \n",
       "5810       Y        N  ...    B       BK       BR     T   BROOKLYN      A   \n",
       "5811       Y        N  ...    U       BK       BR     M  MANHATTAN      D   \n",
       "\n",
       "     beat post month    meters  \n",
       "0       7          4  1.798320  \n",
       "2       U         10  1.920240  \n",
       "3       4   35    12  1.676400  \n",
       "5      16          5  1.767840  \n",
       "6       U         11  1.557528  \n",
       "...   ...  ...   ...       ...  \n",
       "5806    U    3     5  1.554480  \n",
       "5808   17          9  1.557528  \n",
       "5809    U          6  1.737360  \n",
       "5810   10          3  1.767840  \n",
       "5811    U          5  1.828800  \n",
       "\n",
       "[4636 rows x 74 columns]"
      ]
     },
     "execution_count": 16,
     "metadata": {},
     "output_type": "execute_result"
    }
   ],
   "source": [
    "df"
   ]
  },
  {
   "cell_type": "markdown",
   "metadata": {},
   "source": [
    "### Analisis exploratorio tanto para atributos continuos como discretos."
   ]
  },
  {
   "cell_type": "markdown",
   "metadata": {},
   "source": [
    "#### Grafico set de datos 2009"
   ]
  },
  {
   "cell_type": "code",
   "execution_count": 17,
   "metadata": {},
   "outputs": [
    {
     "data": {
      "image/png": "[encoded data removed]",
      "text/plain": [
       "<Figure size 1080x1440 with 74 Axes>"
      ]
     },
     "metadata": {},
     "output_type": "display_data"
    }
   ],
   "source": [
    "plt.figure(figsize = (15, 20))\n",
    "funcs.plot_describe_variables(df, 15, 5)"
   ]
  },
  {
   "cell_type": "markdown",
   "metadata": {},
   "source": [
    "### Dado el gráfico de distribuciones se procede a eliminar columnas que no generan ningun aporte al estudio:\n",
    "* post\n",
    "* beat\n",
    "* meters"
   ]
  },
  {
   "cell_type": "markdown",
   "metadata": {},
   "source": [
    "#### Grafico set de datos 2010"
   ]
  },
  {
   "cell_type": "code",
   "execution_count": 18,
   "metadata": {},
   "outputs": [
    {
     "data": {
      "image/png": "[encoded data removed]",
      "text/plain": [
       "<Figure size 1080x1440 with 77 Axes>"
      ]
     },
     "metadata": {},
     "output_type": "display_data"
    }
   ],
   "source": [
    "plt.figure(figsize = (15, 20))\n",
    "funcs.plot_describe_variables(df_test, 15, 6)"
   ]
  },
  {
   "cell_type": "markdown",
   "metadata": {},
   "source": [
    "### Dado el gráfico de distribuciones se procede a eliminar columnas que no generan ningun aporte al estudio:\n",
    "* addrpct\n",
    "* beat\n",
    "* dettypcm\n",
    "* linecm\n",
    "* detailcm\n",
    "* meters"
   ]
  },
  {
   "cell_type": "code",
   "execution_count": 19,
   "metadata": {},
   "outputs": [],
   "source": [
    "df = df.drop(columns = [\"post\", \"beat\", \"meters\"])\n",
    "df_test = df_test.drop(columns = [\"addrpct\",\"beat\",\"dettypcm\",\"linecm\",\"detailcm\",\"meters\"])"
   ]
  },
  {
   "cell_type": "code",
   "execution_count": 20,
   "metadata": {},
   "outputs": [],
   "source": [
    "def plot_importance(fit_model, feat_names):\n",
    "    \"\"\"TODO: Docstring for plot_importance.\n",
    "\n",
    "    :fit_model: TODO\n",
    "    :: TODO\n",
    "    :returns: TODO\n",
    "\n",
    "    \"\"\"\n",
    "    tmp_importance = fit_model.best_estimator_.feature_importances_ # para acceder a features importantes\n",
    "    sort_importance = np.argsort(tmp_importance)[::-1]\n",
    "    names = [feat_names[i] for i in sort_importance]\n",
    "    plt.title(\"Feature importance\")\n",
    "    plt.barh(names[:20], tmp_importance[sort_importance][:20])\n",
    "    plt.yticks(names[:20], names, rotation = 0)"
   ]
  },
  {
   "cell_type": "markdown",
   "metadata": {},
   "source": [
    "### Binarizamos el dataset 2009 y 2010"
   ]
  },
  {
   "cell_type": "code",
   "execution_count": 21,
   "metadata": {},
   "outputs": [],
   "source": [
    "df = funcs.binarize_object(df)\n",
    "df_test = funcs.binarize_object(df_test)"
   ]
  },
  {
   "cell_type": "markdown",
   "metadata": {},
   "source": [
    "### Primer vector objetivo - Si existe arresto o no\n",
    "* vector objetivo: arstmade_Y"
   ]
  },
  {
   "cell_type": "code",
   "execution_count": 22,
   "metadata": {},
   "outputs": [],
   "source": [
    "X = df.drop([\"arstmade_Y\"], axis = 1)\n",
    "y = df[\"arstmade_Y\"]\n",
    "X_train, X_test, y_train, y_test = train_test_split(X, y, test_size = .33, random_state = 63)"
   ]
  },
  {
   "cell_type": "markdown",
   "metadata": {},
   "source": [
    "## Modelos "
   ]
  },
  {
   "cell_type": "markdown",
   "metadata": {},
   "source": [
    "### Gradient Boosting Classifier"
   ]
  },
  {
   "cell_type": "markdown",
   "metadata": {},
   "source": [
    "```python\n",
    "gradient_params = {'learning_rate': [0.01, 0.1,0.5],\n",
    "                   'n_estimators': [50, 100, 500, 1000, 2000],\n",
    "                   'subsample': [0.1,0.5,0.9]}\n",
    "\n",
    "grad_model_2009 = GridSearchCV(GradientBoostingClassifier(), gradient_params,\n",
    "                             cv = 4).fit(X_train, y_train)\n",
    "```"
   ]
  },
  {
   "cell_type": "code",
   "execution_count": 23,
   "metadata": {},
   "outputs": [],
   "source": [
    "grad_model_2009 = pickle.load(open(\"gradmodel_2009_arstmade.sav\", 'rb'))"
   ]
  },
  {
   "cell_type": "markdown",
   "metadata": {},
   "source": [
    "#### Mejores hiperparametros para GradientBoostingClassifier"
   ]
  },
  {
   "cell_type": "code",
   "execution_count": 24,
   "metadata": {},
   "outputs": [
    {
     "name": "stdout",
     "output_type": "stream",
     "text": [
      "{'learning_rate': 0.01, 'n_estimators': 500, 'subsample': 0.9}\n"
     ]
    }
   ],
   "source": [
    "print(grad_model_2009.best_params_)"
   ]
  },
  {
   "cell_type": "markdown",
   "metadata": {},
   "source": [
    "#### Desempeño de GradientBoostingClassifer utilizando mejor combinación de hiperparametros"
   ]
  },
  {
   "cell_type": "code",
   "execution_count": 25,
   "metadata": {},
   "outputs": [],
   "source": [
    "pred_gradient = grad_model_2009.best_estimator_.predict(X_test)"
   ]
  },
  {
   "cell_type": "code",
   "execution_count": 26,
   "metadata": {
    "scrolled": true
   },
   "outputs": [
    {
     "name": "stdout",
     "output_type": "stream",
     "text": [
      "              precision    recall  f1-score   support\n",
      "\n",
      "           0       0.98      0.99      0.99      1450\n",
      "           1       0.81      0.64      0.71        80\n",
      "\n",
      "    accuracy                           0.97      1530\n",
      "   macro avg       0.89      0.81      0.85      1530\n",
      "weighted avg       0.97      0.97      0.97      1530\n",
      "\n"
     ]
    }
   ],
   "source": [
    "print(classification_report(y_test, pred_gradient))"
   ]
  },
  {
   "cell_type": "markdown",
   "metadata": {},
   "source": [
    "### Principales factores asociados al arresto "
   ]
  },
  {
   "cell_type": "code",
   "execution_count": 27,
   "metadata": {},
   "outputs": [
    {
     "data": {
      "image/png": "[encoded data removed]",
      "text/plain": [
       "<Figure size 720x720 with 1 Axes>"
      ]
     },
     "metadata": {},
     "output_type": "display_data"
    }
   ],
   "source": [
    "plt.rcParams['figure.figsize'] = 10, 10\n",
    "plot_importance(grad_model_2009, X.columns)"
   ]
  },
  {
   "cell_type": "markdown",
   "metadata": {},
   "source": [
    "### Los atributos que aumentan de mayor manera la probabilidad de arresto son:\n",
    "* sb_other_Y: BASIS OF SEARCH - OTHER -> En que se basan para investigar.\n",
    "* pf_hcuff_Y: PHYSICAL FORCE - HANDCUFF -> Existio fuerza fisica, esposas.\n",
    "* contrabn_Y: WAS CONTRABAND FOUND ON SUSPECT ? -> Si el sospechoso andaba con contrabando."
   ]
  },
  {
   "cell_type": "markdown",
   "metadata": {},
   "source": [
    "### Ada Boost Classifier"
   ]
  },
  {
   "cell_type": "markdown",
   "metadata": {},
   "source": [
    "```python\n",
    "ada_params = {'learning_rate': [0.01, 0.1, 0.5],\n",
    "              'n_estimators': [50, 100, 500, 1000, 2000]}\n",
    "\n",
    "ada_model_2009 = GridSearchCV(AdaBoostClassifier(random_state = 63), ada_params,\n",
    "                             cv = 4).fit(X_train, y_train)\n",
    "```"
   ]
  },
  {
   "cell_type": "code",
   "execution_count": 28,
   "metadata": {},
   "outputs": [],
   "source": [
    "# pickle.dump(ada_model_2009, open('adamodel_2009_arstmade.sav','wb')) \n",
    "ada_model_2009 = pickle.load(open(\"adamodel_2009_arstmade.sav\", 'rb'))"
   ]
  },
  {
   "cell_type": "markdown",
   "metadata": {},
   "source": [
    "#### Mejores hiperparametros para AdaBoostClassifier"
   ]
  },
  {
   "cell_type": "code",
   "execution_count": 29,
   "metadata": {},
   "outputs": [
    {
     "name": "stdout",
     "output_type": "stream",
     "text": [
      "{'learning_rate': 0.5, 'n_estimators': 50}\n"
     ]
    }
   ],
   "source": [
    "print(ada_model_2009.best_params_)"
   ]
  },
  {
   "cell_type": "markdown",
   "metadata": {},
   "source": [
    "#### Desempeño de AdaBoostClassifier utilizando mejor combinación de hiperparametros"
   ]
  },
  {
   "cell_type": "code",
   "execution_count": 30,
   "metadata": {},
   "outputs": [
    {
     "name": "stdout",
     "output_type": "stream",
     "text": [
      "              precision    recall  f1-score   support\n",
      "\n",
      "           0       0.98      1.00      0.99      1450\n",
      "           1       0.90      0.55      0.68        80\n",
      "\n",
      "    accuracy                           0.97      1530\n",
      "   macro avg       0.94      0.77      0.83      1530\n",
      "weighted avg       0.97      0.97      0.97      1530\n",
      "\n"
     ]
    }
   ],
   "source": [
    "print(classification_report(y_test, ada_model_2009.best_estimator_.predict(X_test)))"
   ]
  },
  {
   "cell_type": "markdown",
   "metadata": {},
   "source": [
    "#### Generación de segundo vector objetivo - Si existio violencia o no: \n",
    "* Para generar el vector objetivo se utilizaran como referencia los siguientes atributos: \n",
    "    * pf_hands: PHYSICAL FORCE USED BY OFFICER - HANDS\n",
    "    * pf_wall: PHYSICAL FORCE USED BY OFFICER - SUSPECT AGAINST WALL \n",
    "    * pf_grnd: PHYSICAL FORCE USED BY OFFICER - SUSPECT ON GROUND\n",
    "    * pf_drwep: PHYSICAL FORCE USED BY OFFICER - WEAPON DRAWN\n",
    "    * pf_ptwep: PHYSICAL FORCE USED BY OFFICER - WEAPON POINTED \n",
    "    * pf_baton: PHYSICAL FORCE USED BY OFFICER - BATON\n",
    "    * pf_hcuff: PHYSICAL FORCE USED BY OFFICER - HANDCUFF\n",
    "    * pf_pepsp: PHYSICAL FORCE USED BY OFFICER - PEPPER SPRAY \n",
    "    * pf_other: PHYSICAL FORCE USED BY OFFICER - OTHER"
   ]
  },
  {
   "cell_type": "code",
   "execution_count": 31,
   "metadata": {},
   "outputs": [],
   "source": [
    "df_pf = df.loc[:,\"pf_hands_Y\":\"pf_other_Y\"]"
   ]
  },
  {
   "cell_type": "markdown",
   "metadata": {},
   "source": [
    "### Generación de segundo vector objetivo - Si ocurrio violencia si o no\n",
    "* PF -> Physical Force"
   ]
  },
  {
   "cell_type": "code",
   "execution_count": 32,
   "metadata": {},
   "outputs": [],
   "source": [
    "df[\"PF\"] = -1"
   ]
  },
  {
   "cell_type": "code",
   "execution_count": 33,
   "metadata": {},
   "outputs": [],
   "source": [
    "for i, row in df_pf.iterrows():\n",
    "    df[\"PF\"][i] = 1 if (row == 1).any() else 0"
   ]
  },
  {
   "cell_type": "code",
   "execution_count": 34,
   "metadata": {},
   "outputs": [
    {
     "data": {
      "text/plain": [
       "0    3500\n",
       "1    1136\n",
       "Name: PF, dtype: int64"
      ]
     },
     "execution_count": 34,
     "metadata": {},
     "output_type": "execute_result"
    }
   ],
   "source": [
    "df[\"PF\"].value_counts()"
   ]
  },
  {
   "cell_type": "code",
   "execution_count": 35,
   "metadata": {},
   "outputs": [],
   "source": [
    "cols = df_pf.columns.tolist()"
   ]
  },
  {
   "cell_type": "markdown",
   "metadata": {},
   "source": [
    "Se eliminan las columnas que generaron el nuevo vector objetivo para evitar colinealidad."
   ]
  },
  {
   "cell_type": "code",
   "execution_count": 36,
   "metadata": {},
   "outputs": [],
   "source": [
    "df = df.drop(columns = cols)"
   ]
  },
  {
   "cell_type": "code",
   "execution_count": 37,
   "metadata": {},
   "outputs": [
    {
     "data": {
      "text/html": [
       "<div>\n",
       "<style scoped>\n",
       "    .dataframe tbody tr th:only-of-type {\n",
       "        vertical-align: middle;\n",
       "    }\n",
       "\n",
       "    .dataframe tbody tr th {\n",
       "        vertical-align: top;\n",
       "    }\n",
       "\n",
       "    .dataframe thead th {\n",
       "        text-align: right;\n",
       "    }\n",
       "</style>\n",
       "<table border=\"1\" class=\"dataframe\">\n",
       "  <thead>\n",
       "    <tr style=\"text-align: right;\">\n",
       "      <th></th>\n",
       "      <th>month</th>\n",
       "      <th>recstat_A</th>\n",
       "      <th>inout_O</th>\n",
       "      <th>trhsloc_P</th>\n",
       "      <th>trhsloc_T</th>\n",
       "      <th>trhsloc_U</th>\n",
       "      <th>typeofid_P</th>\n",
       "      <th>typeofid_R</th>\n",
       "      <th>typeofid_V</th>\n",
       "      <th>explnstp_Y</th>\n",
       "      <th>...</th>\n",
       "      <th>sector_J</th>\n",
       "      <th>sector_K</th>\n",
       "      <th>sector_M</th>\n",
       "      <th>sector_N</th>\n",
       "      <th>sector_P</th>\n",
       "      <th>sector_Q</th>\n",
       "      <th>sector_R</th>\n",
       "      <th>sector_T</th>\n",
       "      <th>sector_U</th>\n",
       "      <th>PF</th>\n",
       "    </tr>\n",
       "  </thead>\n",
       "  <tbody>\n",
       "    <tr>\n",
       "      <th>0</th>\n",
       "      <td>4</td>\n",
       "      <td>1</td>\n",
       "      <td>1</td>\n",
       "      <td>1</td>\n",
       "      <td>0</td>\n",
       "      <td>0</td>\n",
       "      <td>1</td>\n",
       "      <td>0</td>\n",
       "      <td>0</td>\n",
       "      <td>1</td>\n",
       "      <td>...</td>\n",
       "      <td>0</td>\n",
       "      <td>0</td>\n",
       "      <td>0</td>\n",
       "      <td>0</td>\n",
       "      <td>0</td>\n",
       "      <td>0</td>\n",
       "      <td>0</td>\n",
       "      <td>0</td>\n",
       "      <td>0</td>\n",
       "      <td>0</td>\n",
       "    </tr>\n",
       "    <tr>\n",
       "      <th>2</th>\n",
       "      <td>10</td>\n",
       "      <td>0</td>\n",
       "      <td>1</td>\n",
       "      <td>1</td>\n",
       "      <td>0</td>\n",
       "      <td>0</td>\n",
       "      <td>0</td>\n",
       "      <td>0</td>\n",
       "      <td>1</td>\n",
       "      <td>1</td>\n",
       "      <td>...</td>\n",
       "      <td>0</td>\n",
       "      <td>0</td>\n",
       "      <td>0</td>\n",
       "      <td>0</td>\n",
       "      <td>0</td>\n",
       "      <td>0</td>\n",
       "      <td>0</td>\n",
       "      <td>0</td>\n",
       "      <td>0</td>\n",
       "      <td>0</td>\n",
       "    </tr>\n",
       "    <tr>\n",
       "      <th>3</th>\n",
       "      <td>12</td>\n",
       "      <td>1</td>\n",
       "      <td>1</td>\n",
       "      <td>1</td>\n",
       "      <td>0</td>\n",
       "      <td>0</td>\n",
       "      <td>1</td>\n",
       "      <td>0</td>\n",
       "      <td>0</td>\n",
       "      <td>1</td>\n",
       "      <td>...</td>\n",
       "      <td>1</td>\n",
       "      <td>0</td>\n",
       "      <td>0</td>\n",
       "      <td>0</td>\n",
       "      <td>0</td>\n",
       "      <td>0</td>\n",
       "      <td>0</td>\n",
       "      <td>0</td>\n",
       "      <td>0</td>\n",
       "      <td>0</td>\n",
       "    </tr>\n",
       "    <tr>\n",
       "      <th>5</th>\n",
       "      <td>5</td>\n",
       "      <td>0</td>\n",
       "      <td>0</td>\n",
       "      <td>0</td>\n",
       "      <td>1</td>\n",
       "      <td>0</td>\n",
       "      <td>0</td>\n",
       "      <td>0</td>\n",
       "      <td>1</td>\n",
       "      <td>1</td>\n",
       "      <td>...</td>\n",
       "      <td>0</td>\n",
       "      <td>0</td>\n",
       "      <td>0</td>\n",
       "      <td>0</td>\n",
       "      <td>0</td>\n",
       "      <td>0</td>\n",
       "      <td>0</td>\n",
       "      <td>0</td>\n",
       "      <td>0</td>\n",
       "      <td>0</td>\n",
       "    </tr>\n",
       "    <tr>\n",
       "      <th>6</th>\n",
       "      <td>11</td>\n",
       "      <td>0</td>\n",
       "      <td>1</td>\n",
       "      <td>1</td>\n",
       "      <td>0</td>\n",
       "      <td>0</td>\n",
       "      <td>1</td>\n",
       "      <td>0</td>\n",
       "      <td>0</td>\n",
       "      <td>1</td>\n",
       "      <td>...</td>\n",
       "      <td>0</td>\n",
       "      <td>0</td>\n",
       "      <td>0</td>\n",
       "      <td>1</td>\n",
       "      <td>0</td>\n",
       "      <td>0</td>\n",
       "      <td>0</td>\n",
       "      <td>0</td>\n",
       "      <td>0</td>\n",
       "      <td>0</td>\n",
       "    </tr>\n",
       "    <tr>\n",
       "      <th>...</th>\n",
       "      <td>...</td>\n",
       "      <td>...</td>\n",
       "      <td>...</td>\n",
       "      <td>...</td>\n",
       "      <td>...</td>\n",
       "      <td>...</td>\n",
       "      <td>...</td>\n",
       "      <td>...</td>\n",
       "      <td>...</td>\n",
       "      <td>...</td>\n",
       "      <td>...</td>\n",
       "      <td>...</td>\n",
       "      <td>...</td>\n",
       "      <td>...</td>\n",
       "      <td>...</td>\n",
       "      <td>...</td>\n",
       "      <td>...</td>\n",
       "      <td>...</td>\n",
       "      <td>...</td>\n",
       "      <td>...</td>\n",
       "      <td>...</td>\n",
       "    </tr>\n",
       "    <tr>\n",
       "      <th>5806</th>\n",
       "      <td>5</td>\n",
       "      <td>1</td>\n",
       "      <td>1</td>\n",
       "      <td>1</td>\n",
       "      <td>0</td>\n",
       "      <td>0</td>\n",
       "      <td>0</td>\n",
       "      <td>0</td>\n",
       "      <td>1</td>\n",
       "      <td>1</td>\n",
       "      <td>...</td>\n",
       "      <td>0</td>\n",
       "      <td>0</td>\n",
       "      <td>0</td>\n",
       "      <td>1</td>\n",
       "      <td>0</td>\n",
       "      <td>0</td>\n",
       "      <td>0</td>\n",
       "      <td>0</td>\n",
       "      <td>0</td>\n",
       "      <td>1</td>\n",
       "    </tr>\n",
       "    <tr>\n",
       "      <th>5808</th>\n",
       "      <td>9</td>\n",
       "      <td>1</td>\n",
       "      <td>1</td>\n",
       "      <td>1</td>\n",
       "      <td>0</td>\n",
       "      <td>0</td>\n",
       "      <td>1</td>\n",
       "      <td>0</td>\n",
       "      <td>0</td>\n",
       "      <td>1</td>\n",
       "      <td>...</td>\n",
       "      <td>0</td>\n",
       "      <td>0</td>\n",
       "      <td>0</td>\n",
       "      <td>0</td>\n",
       "      <td>0</td>\n",
       "      <td>0</td>\n",
       "      <td>0</td>\n",
       "      <td>0</td>\n",
       "      <td>0</td>\n",
       "      <td>1</td>\n",
       "    </tr>\n",
       "    <tr>\n",
       "      <th>5809</th>\n",
       "      <td>6</td>\n",
       "      <td>0</td>\n",
       "      <td>1</td>\n",
       "      <td>1</td>\n",
       "      <td>0</td>\n",
       "      <td>0</td>\n",
       "      <td>1</td>\n",
       "      <td>0</td>\n",
       "      <td>0</td>\n",
       "      <td>1</td>\n",
       "      <td>...</td>\n",
       "      <td>0</td>\n",
       "      <td>0</td>\n",
       "      <td>0</td>\n",
       "      <td>0</td>\n",
       "      <td>0</td>\n",
       "      <td>0</td>\n",
       "      <td>0</td>\n",
       "      <td>0</td>\n",
       "      <td>0</td>\n",
       "      <td>0</td>\n",
       "    </tr>\n",
       "    <tr>\n",
       "      <th>5810</th>\n",
       "      <td>3</td>\n",
       "      <td>0</td>\n",
       "      <td>1</td>\n",
       "      <td>0</td>\n",
       "      <td>0</td>\n",
       "      <td>0</td>\n",
       "      <td>1</td>\n",
       "      <td>0</td>\n",
       "      <td>0</td>\n",
       "      <td>1</td>\n",
       "      <td>...</td>\n",
       "      <td>0</td>\n",
       "      <td>0</td>\n",
       "      <td>0</td>\n",
       "      <td>0</td>\n",
       "      <td>0</td>\n",
       "      <td>0</td>\n",
       "      <td>0</td>\n",
       "      <td>0</td>\n",
       "      <td>0</td>\n",
       "      <td>1</td>\n",
       "    </tr>\n",
       "    <tr>\n",
       "      <th>5811</th>\n",
       "      <td>5</td>\n",
       "      <td>0</td>\n",
       "      <td>1</td>\n",
       "      <td>0</td>\n",
       "      <td>0</td>\n",
       "      <td>0</td>\n",
       "      <td>1</td>\n",
       "      <td>0</td>\n",
       "      <td>0</td>\n",
       "      <td>1</td>\n",
       "      <td>...</td>\n",
       "      <td>0</td>\n",
       "      <td>0</td>\n",
       "      <td>0</td>\n",
       "      <td>0</td>\n",
       "      <td>0</td>\n",
       "      <td>0</td>\n",
       "      <td>0</td>\n",
       "      <td>0</td>\n",
       "      <td>0</td>\n",
       "      <td>0</td>\n",
       "    </tr>\n",
       "  </tbody>\n",
       "</table>\n",
       "<p>4636 rows × 113 columns</p>\n",
       "</div>"
      ],
      "text/plain": [
       "      month  recstat_A  inout_O  trhsloc_P  trhsloc_T  trhsloc_U  typeofid_P  \\\n",
       "0         4          1        1          1          0          0           1   \n",
       "2        10          0        1          1          0          0           0   \n",
       "3        12          1        1          1          0          0           1   \n",
       "5         5          0        0          0          1          0           0   \n",
       "6        11          0        1          1          0          0           1   \n",
       "...     ...        ...      ...        ...        ...        ...         ...   \n",
       "5806      5          1        1          1          0          0           0   \n",
       "5808      9          1        1          1          0          0           1   \n",
       "5809      6          0        1          1          0          0           1   \n",
       "5810      3          0        1          0          0          0           1   \n",
       "5811      5          0        1          0          0          0           1   \n",
       "\n",
       "      typeofid_R  typeofid_V  explnstp_Y  ...  sector_J  sector_K  sector_M  \\\n",
       "0              0           0           1  ...         0         0         0   \n",
       "2              0           1           1  ...         0         0         0   \n",
       "3              0           0           1  ...         1         0         0   \n",
       "5              0           1           1  ...         0         0         0   \n",
       "6              0           0           1  ...         0         0         0   \n",
       "...          ...         ...         ...  ...       ...       ...       ...   \n",
       "5806           0           1           1  ...         0         0         0   \n",
       "5808           0           0           1  ...         0         0         0   \n",
       "5809           0           0           1  ...         0         0         0   \n",
       "5810           0           0           1  ...         0         0         0   \n",
       "5811           0           0           1  ...         0         0         0   \n",
       "\n",
       "      sector_N  sector_P  sector_Q  sector_R  sector_T  sector_U  PF  \n",
       "0            0         0         0         0         0         0   0  \n",
       "2            0         0         0         0         0         0   0  \n",
       "3            0         0         0         0         0         0   0  \n",
       "5            0         0         0         0         0         0   0  \n",
       "6            1         0         0         0         0         0   0  \n",
       "...        ...       ...       ...       ...       ...       ...  ..  \n",
       "5806         1         0         0         0         0         0   1  \n",
       "5808         0         0         0         0         0         0   1  \n",
       "5809         0         0         0         0         0         0   0  \n",
       "5810         0         0         0         0         0         0   1  \n",
       "5811         0         0         0         0         0         0   0  \n",
       "\n",
       "[4636 rows x 113 columns]"
      ]
     },
     "execution_count": 37,
     "metadata": {},
     "output_type": "execute_result"
    }
   ],
   "source": [
    "df"
   ]
  },
  {
   "cell_type": "markdown",
   "metadata": {},
   "source": [
    "## Modelos "
   ]
  },
  {
   "cell_type": "code",
   "execution_count": 38,
   "metadata": {},
   "outputs": [],
   "source": [
    "X = df.drop([\"PF\"], axis = 1)\n",
    "y = df[\"PF\"]\n",
    "X_train, X_test, y_train, y_test = train_test_split(X, y, test_size = .33, random_state = 63)"
   ]
  },
  {
   "cell_type": "markdown",
   "metadata": {},
   "source": [
    "### Gradient Boosting Classifier"
   ]
  },
  {
   "cell_type": "markdown",
   "metadata": {},
   "source": [
    "```python\n",
    "gradient_params = {'learning_rate': [0.01, 0.1,0.5],\n",
    "                   'n_estimators': [50, 100, 500, 1000, 2000],\n",
    "                   'subsample': [0.1,0.5,0.9]}\n",
    "\n",
    "grad_model_2009_PF = GridSearchCV(GradientBoostingClassifier(), gradient_params,\n",
    "                             cv = 4).fit(X_train, y_train)\n",
    "```"
   ]
  },
  {
   "cell_type": "code",
   "execution_count": 39,
   "metadata": {},
   "outputs": [],
   "source": [
    "# pickle.dump(grad_model_2009_PF, open('gradmodel_2009_PF.sav','wb')) \n",
    "grad_model_2009_PF = pickle.load(open(\"gradmodel_2009_PF.sav\", 'rb'))"
   ]
  },
  {
   "cell_type": "markdown",
   "metadata": {},
   "source": [
    "#### Mejores hiperparametros para Gradient Boosting Classifier"
   ]
  },
  {
   "cell_type": "code",
   "execution_count": 40,
   "metadata": {},
   "outputs": [
    {
     "data": {
      "text/plain": [
       "{'learning_rate': 0.01, 'n_estimators': 500, 'subsample': 0.9}"
      ]
     },
     "execution_count": 40,
     "metadata": {},
     "output_type": "execute_result"
    }
   ],
   "source": [
    "grad_model_2009_PF.best_params_"
   ]
  },
  {
   "cell_type": "markdown",
   "metadata": {},
   "source": [
    "#### Desempeño de GradientBoostingClassifer utilizando mejor combinación de hiperparametros"
   ]
  },
  {
   "cell_type": "code",
   "execution_count": 41,
   "metadata": {},
   "outputs": [
    {
     "name": "stdout",
     "output_type": "stream",
     "text": [
      "              precision    recall  f1-score   support\n",
      "\n",
      "           0       0.78      0.95      0.86      1163\n",
      "           1       0.50      0.15      0.23       367\n",
      "\n",
      "    accuracy                           0.76      1530\n",
      "   macro avg       0.64      0.55      0.54      1530\n",
      "weighted avg       0.71      0.76      0.71      1530\n",
      "\n"
     ]
    }
   ],
   "source": [
    "print(classification_report(y_test, grad_model_2009_PF.best_estimator_.predict(X_test)))"
   ]
  },
  {
   "cell_type": "markdown",
   "metadata": {},
   "source": [
    "### Ada Boost Classifier"
   ]
  },
  {
   "cell_type": "markdown",
   "metadata": {},
   "source": [
    "```python\n",
    "ada_params = {'learning_rate': [0.01, 0.1, 0.5],\n",
    "              'n_estimators': [50, 100, 500, 1000, 2000]}\n",
    "\n",
    "ada_model_2009_PF = GridSearchCV(AdaBoostClassifier(random_state = 63), ada_params,\n",
    "                             cv = 4).fit(X_train, y_train)\n",
    "```"
   ]
  },
  {
   "cell_type": "code",
   "execution_count": 42,
   "metadata": {},
   "outputs": [],
   "source": [
    "# pickle.dump(ada_model_2009_PF, open('adamodel_2009_PF.sav','wb')) \n",
    "ada_model_2009_PF = pickle.load(open(\"adamodel_2009_PF.sav\", 'rb'))"
   ]
  },
  {
   "cell_type": "markdown",
   "metadata": {},
   "source": [
    "#### Mejores hiperparametros para Ada Boost Classifier"
   ]
  },
  {
   "cell_type": "code",
   "execution_count": 43,
   "metadata": {},
   "outputs": [
    {
     "data": {
      "text/plain": [
       "{'learning_rate': 0.5, 'n_estimators': 50}"
      ]
     },
     "execution_count": 43,
     "metadata": {},
     "output_type": "execute_result"
    }
   ],
   "source": [
    "ada_model_2009_PF.best_params_"
   ]
  },
  {
   "cell_type": "markdown",
   "metadata": {},
   "source": [
    "#### Desempeño de AdaBoostClassifier utilizando mejor combinación de hiperparametros"
   ]
  },
  {
   "cell_type": "code",
   "execution_count": 44,
   "metadata": {},
   "outputs": [
    {
     "name": "stdout",
     "output_type": "stream",
     "text": [
      "              precision    recall  f1-score   support\n",
      "\n",
      "           0       0.79      0.94      0.86      1163\n",
      "           1       0.54      0.21      0.30       367\n",
      "\n",
      "    accuracy                           0.77      1530\n",
      "   macro avg       0.67      0.58      0.58      1530\n",
      "weighted avg       0.73      0.77      0.73      1530\n",
      "\n"
     ]
    }
   ],
   "source": [
    "print(classification_report(y_test, ada_model_2009_PF.best_estimator_.predict(X_test)))"
   ]
  },
  {
   "cell_type": "markdown",
   "metadata": {},
   "source": [
    "# Hito 3"
   ]
  },
  {
   "cell_type": "code",
   "execution_count": null,
   "metadata": {},
   "outputs": [],
   "source": []
  }
 ],
 "metadata": {
  "kernelspec": {
   "display_name": "Python 3",
   "language": "python",
   "name": "python3"
  },
  "language_info": {
   "codemirror_mode": {
    "name": "ipython",
    "version": 3
   },
   "file_extension": ".py",
   "mimetype": "text/x-python",
   "name": "python",
   "nbconvert_exporter": "python",
   "pygments_lexer": "ipython3",
   "version": "3.7.3"
  }
 },
 "nbformat": 4,
 "nbformat_minor": 2
}
