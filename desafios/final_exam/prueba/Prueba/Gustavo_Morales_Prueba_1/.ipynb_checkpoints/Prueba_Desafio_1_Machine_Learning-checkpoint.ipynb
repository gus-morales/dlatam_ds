{
 "cells": [
  {
   "cell_type": "markdown",
   "metadata": {},
   "source": [
    "![alttext](logo.png)"
   ]
  },
  {
   "cell_type": "markdown",
   "metadata": {},
   "source": [
    "### Team Tomato: Gustavo Morales - Eduardo López\n",
    "### Generación :  G10\n",
    "### Profesores : Heriberto Briceño - Giannina Salomo \n",
    "### Fecha : Lunes 2 de Marzo de 2020\n",
    "\n",
    "▣ Hito 1: Preliminares y aspectos computacionales.\\\n",
    "▣ Hito 2: Análisis exploratorio e ingeniería de atributos.\\\n",
    "▢ Hito 3: Modelación descriptiva.\\\n",
    "▢ Hito 4: Modelación predictiva."
   ]
  },
  {
   "cell_type": "markdown",
   "metadata": {},
   "source": [
    "# H1: Preliminares y aspectos computacionales"
   ]
  },
  {
   "cell_type": "markdown",
   "metadata": {},
   "source": [
    "### Descripción del problema \n",
    "Se solicita que mediante el estudio de un gran número de tweets, se puedan clasificar si estos pertenecen a la categoría de \"Positivo\" o \"Negativo\". Ejemplos de tweets positivos son aquellos relacionados a atributos como:\n",
    "* `happines`, `love`, `surprise`, `fun`, `relief`, `enthusiasm`.\n",
    "\n",
    "En el caso de tweets negativos, tendríamos por ejemplo:\n",
    "* `worry`, `sadness`, `hate`, `empty`, `boredom`, `anger`.\n",
    "\n",
    "### Objetivo\n",
    "Evaluar múltiples modelos de clasificación de tweets para predecir si pertenecen a una u otra de dichas categorías.\n",
    "\n",
    "### Solución\n",
    "Analizar distintos modelos de clasificación. Una vez entrenados y puestos a prueba, serán calificados y comparados entre sí para definir qué modelo es más exacto y preciso al momento de clasificar. Una vez hecho esto se llevará a cabo el paso fundamental de definir la clase correspondiente a un tweet especifico.\n",
    "\n",
    "A fin de mejorar el rendimento al momento de predecir, se recurrirá a dos técnicas de preprocesamiento de datos de este tipo: _tokenización_ y _lematización_. La primera hace referencia a discriminar _tokens_ (\"palabras\" definidas según algún criterio simple dentro de un cuerpo de texto más grande) que tengan valor linguístico, y la segunda a un proceso que consiste en eliminar formas linguísticas de dichas palabras con el fin de agrupar las morfológicamente idénticas o similares. El objetivo de la _lematización_ es reducir las palabras a su raíz lingúistica básica, reduciendo los datos que no aportan valor estadístico. El proceso de _stemming_ tiene el mismo objetivo, y consiste en simplemente cortar palabras que tengan la misma raíz. Dicha técnica fue desechada en favor de la _lematización_ por considerarla más cruda y propensa a fallos (por ejemplo, con carrot y cartoon).\n",
    "\n",
    "### Métricas de desempeño\n",
    "Las métricas de desempeño caracterizan la eficiencia de nuestros modelos. Antes de presentar soluciones estrictamente cuantitativas se procederá a graficar las variables consideradas relevantes para la solución de este problema, mostrando gráficos de distribución relevantes al problema.\n",
    "\n",
    "Para el caso de clasificación se utilizaran las siguientes metricas de desempeño:\n",
    "* `precision`: la exactitud se define como la cantidad de predicciones positivas que fueron correctas.\n",
    "* `recall`: el porcentaje de casos positivos detectados.\n",
    "* `accuracy`: la fracción de predicciones correctas entre el número total de registros.\n",
    "* `F1-score`: para cuantificar el balance entre `precision` y `recall`.\n",
    "* `ROC curve`: es más bien un gráfico de apoyo, útil para visualizar la capacidad de diagnóstico de un clasificador binario. Similarmente, el área bajo la curva ROC, `AUC score`, cuantifica el poder del modelo para discriminar entre dos clases."
   ]
  },
  {
   "cell_type": "markdown",
   "metadata": {},
   "source": [
    "### Aspectos computacionales\n",
    "\n",
    "Para la ingesta y preprocesamiento de datos se utilizarán las librerías de `numpy` y `pandas`. Para la visualización de datos se utilizarán las librerías de `matplotlib` y `seaborn`."
   ]
  },
  {
   "cell_type": "code",
   "execution_count": 1,
   "metadata": {},
   "outputs": [],
   "source": [
    "import numpy as np\n",
    "import pandas as pd\n",
    "import matplotlib.pyplot as plt\n",
    "from matplotlib import rcParams\n",
    "import seaborn as sns\n",
    "plt.style.use('seaborn')"
   ]
  },
  {
   "cell_type": "markdown",
   "metadata": {},
   "source": [
    "Para el desarrollo de técnicas de aprendizaje de máquina, las librerías a continuación facilitarán la creación de modelos en base a la predicción de un vector objetivo utilizando modelos de clasificación. El problema corresponde a aprendizaje supervisado, por lo que proponemos utilizar los siguientes modelos. Para aquellos que se beneficien de una búsqueda de grilla previa, se especifican sus respectivos hiperparámetros (tentativos):\n",
    "\n",
    "   * Bernoulli Naive-Bayes\n",
    "   * AdaBoostClassifier\n",
    "        * Hiperparametros: \n",
    "        ```python \n",
    "           ada_params = {\n",
    "               'learning_rate': [0.01, 0.1, 0.5],  # shrinks the contribution of each classifier\n",
    "               'n_estimators': [50, 100, 500, 1000, 2000]  # max number of estimators at which boosting is terminated\n",
    "           }\n",
    "        ```\n",
    "   * DecisionTreeClassifier\n",
    "        * Hiperparametros: \n",
    "        ```python\n",
    "           max_depth = 4  # maximum depth of the tree\n",
    "        ```\n",
    "   * LogisticRegression\n",
    "       * Hiperparametros: \n",
    "        ```python\n",
    "           C = 2  # regularization strength, smaller values specify stronger regularization\n",
    "        ```\n",
    "   * SVC\n",
    "        * Hiperparametros:\n",
    "        ```python\n",
    "           params = {\n",
    "               'C': [0.0001, 0.001, 0.01, 0.1, 1, 10, 100, 1000],  # regularization parameter, l2 penalty\n",
    "               'gamma': [0.0000001, 0.0001, 0.001, 0.01, 0.1, 1, 10]  # kernel coefficient\n",
    "           }\n",
    "        ```\n",
    "   \n",
    "#### Selección de submuestras\n",
    "   * Usaremos el método `train_test_split`, que divide la matriz de datos de manera aleatoria, generando sets de entrenamiento y prueba. Utilizaremos un 33% del total para la muestra de entrenamiento y el resto para la muestra de prueba, con una semilla pseudoaleatoria con valor 63."
   ]
  },
  {
   "cell_type": "markdown",
   "metadata": {},
   "source": [
    "#### Módulos para implementación de modelos "
   ]
  },
  {
   "cell_type": "code",
   "execution_count": 2,
   "metadata": {},
   "outputs": [],
   "source": [
    "from sklearn.naive_bayes import BernoulliNB\n",
    "from sklearn.svm import SVC\n",
    "from sklearn.ensemble import AdaBoostClassifier\n",
    "from sklearn.tree import DecisionTreeClassifier\n",
    "from sklearn.linear_model import LogisticRegression"
   ]
  },
  {
   "cell_type": "markdown",
   "metadata": {},
   "source": [
    "#### Módulos para selección y medición de desempeño de modelos"
   ]
  },
  {
   "cell_type": "code",
   "execution_count": 3,
   "metadata": {},
   "outputs": [],
   "source": [
    "from sklearn.model_selection import train_test_split\n",
    "from sklearn.metrics import classification_report, roc_curve, roc_auc_score"
   ]
  },
  {
   "cell_type": "markdown",
   "metadata": {},
   "source": [
    "#### Módulo para optimizar, organizar y concatenar procesos de aprendizaje en modelos"
   ]
  },
  {
   "cell_type": "code",
   "execution_count": 4,
   "metadata": {},
   "outputs": [],
   "source": [
    "from sklearn.pipeline import Pipeline"
   ]
  },
  {
   "cell_type": "markdown",
   "metadata": {},
   "source": [
    "#### Módulo para búsqueda y selección automática de hiperparámetros"
   ]
  },
  {
   "cell_type": "code",
   "execution_count": 5,
   "metadata": {},
   "outputs": [],
   "source": [
    "from sklearn.model_selection import GridSearchCV"
   ]
  },
  {
   "cell_type": "markdown",
   "metadata": {},
   "source": [
    "#### Módulos para serialización de objetos y filtro advertencias"
   ]
  },
  {
   "cell_type": "code",
   "execution_count": 6,
   "metadata": {},
   "outputs": [],
   "source": [
    "import pickle\n",
    "import warnings\n",
    "warnings.filterwarnings(\"ignore\")"
   ]
  },
  {
   "cell_type": "markdown",
   "metadata": {},
   "source": [
    "# H2: Análisis exploratorio e ingeniería de atributos"
   ]
  },
  {
   "cell_type": "markdown",
   "metadata": {},
   "source": [
    "### Ingeniería de atributos (_Feature Engineering_)"
   ]
  },
  {
   "cell_type": "code",
   "execution_count": 7,
   "metadata": {},
   "outputs": [],
   "source": [
    "df = pd.read_csv(\"text_emotion.csv\")"
   ]
  },
  {
   "cell_type": "markdown",
   "metadata": {},
   "source": [
    "Primero observamos el set de datos y revisamos su integridad:"
   ]
  },
  {
   "cell_type": "code",
   "execution_count": 8,
   "metadata": {},
   "outputs": [
    {
     "data": {
      "text/html": [
       "<div>\n",
       "<style scoped>\n",
       "    .dataframe tbody tr th:only-of-type {\n",
       "        vertical-align: middle;\n",
       "    }\n",
       "\n",
       "    .dataframe tbody tr th {\n",
       "        vertical-align: top;\n",
       "    }\n",
       "\n",
       "    .dataframe thead th {\n",
       "        text-align: right;\n",
       "    }\n",
       "</style>\n",
       "<table border=\"1\" class=\"dataframe\">\n",
       "  <thead>\n",
       "    <tr style=\"text-align: right;\">\n",
       "      <th></th>\n",
       "      <th>tweet_id</th>\n",
       "      <th>sentiment</th>\n",
       "      <th>author</th>\n",
       "      <th>content</th>\n",
       "    </tr>\n",
       "  </thead>\n",
       "  <tbody>\n",
       "    <tr>\n",
       "      <th>0</th>\n",
       "      <td>1956967341</td>\n",
       "      <td>empty</td>\n",
       "      <td>xoshayzers</td>\n",
       "      <td>@tiffanylue i know  i was listenin to bad habi...</td>\n",
       "    </tr>\n",
       "    <tr>\n",
       "      <th>1</th>\n",
       "      <td>1956967666</td>\n",
       "      <td>sadness</td>\n",
       "      <td>wannamama</td>\n",
       "      <td>Layin n bed with a headache  ughhhh...waitin o...</td>\n",
       "    </tr>\n",
       "    <tr>\n",
       "      <th>2</th>\n",
       "      <td>1956967696</td>\n",
       "      <td>sadness</td>\n",
       "      <td>coolfunky</td>\n",
       "      <td>Funeral ceremony...gloomy friday...</td>\n",
       "    </tr>\n",
       "    <tr>\n",
       "      <th>3</th>\n",
       "      <td>1956967789</td>\n",
       "      <td>enthusiasm</td>\n",
       "      <td>czareaquino</td>\n",
       "      <td>wants to hang out with friends SOON!</td>\n",
       "    </tr>\n",
       "    <tr>\n",
       "      <th>4</th>\n",
       "      <td>1956968416</td>\n",
       "      <td>neutral</td>\n",
       "      <td>xkilljoyx</td>\n",
       "      <td>@dannycastillo We want to trade with someone w...</td>\n",
       "    </tr>\n",
       "    <tr>\n",
       "      <th>...</th>\n",
       "      <td>...</td>\n",
       "      <td>...</td>\n",
       "      <td>...</td>\n",
       "      <td>...</td>\n",
       "    </tr>\n",
       "    <tr>\n",
       "      <th>39995</th>\n",
       "      <td>1753918954</td>\n",
       "      <td>neutral</td>\n",
       "      <td>showMe_Heaven</td>\n",
       "      <td>@JohnLloydTaylor</td>\n",
       "    </tr>\n",
       "    <tr>\n",
       "      <th>39996</th>\n",
       "      <td>1753919001</td>\n",
       "      <td>love</td>\n",
       "      <td>drapeaux</td>\n",
       "      <td>Happy Mothers Day  All my love</td>\n",
       "    </tr>\n",
       "    <tr>\n",
       "      <th>39997</th>\n",
       "      <td>1753919005</td>\n",
       "      <td>love</td>\n",
       "      <td>JenniRox</td>\n",
       "      <td>Happy Mother's Day to all the mommies out ther...</td>\n",
       "    </tr>\n",
       "    <tr>\n",
       "      <th>39998</th>\n",
       "      <td>1753919043</td>\n",
       "      <td>happiness</td>\n",
       "      <td>ipdaman1</td>\n",
       "      <td>@niariley WASSUP BEAUTIFUL!!! FOLLOW ME!!  PEE...</td>\n",
       "    </tr>\n",
       "    <tr>\n",
       "      <th>39999</th>\n",
       "      <td>1753919049</td>\n",
       "      <td>love</td>\n",
       "      <td>Alpharalpha</td>\n",
       "      <td>@mopedronin bullet train from tokyo    the gf ...</td>\n",
       "    </tr>\n",
       "  </tbody>\n",
       "</table>\n",
       "<p>40000 rows × 4 columns</p>\n",
       "</div>"
      ],
      "text/plain": [
       "         tweet_id   sentiment         author  \\\n",
       "0      1956967341       empty     xoshayzers   \n",
       "1      1956967666     sadness      wannamama   \n",
       "2      1956967696     sadness      coolfunky   \n",
       "3      1956967789  enthusiasm    czareaquino   \n",
       "4      1956968416     neutral      xkilljoyx   \n",
       "...           ...         ...            ...   \n",
       "39995  1753918954     neutral  showMe_Heaven   \n",
       "39996  1753919001        love       drapeaux   \n",
       "39997  1753919005        love       JenniRox   \n",
       "39998  1753919043   happiness       ipdaman1   \n",
       "39999  1753919049        love    Alpharalpha   \n",
       "\n",
       "                                                 content  \n",
       "0      @tiffanylue i know  i was listenin to bad habi...  \n",
       "1      Layin n bed with a headache  ughhhh...waitin o...  \n",
       "2                    Funeral ceremony...gloomy friday...  \n",
       "3                   wants to hang out with friends SOON!  \n",
       "4      @dannycastillo We want to trade with someone w...  \n",
       "...                                                  ...  \n",
       "39995                                   @JohnLloydTaylor  \n",
       "39996                     Happy Mothers Day  All my love  \n",
       "39997  Happy Mother's Day to all the mommies out ther...  \n",
       "39998  @niariley WASSUP BEAUTIFUL!!! FOLLOW ME!!  PEE...  \n",
       "39999  @mopedronin bullet train from tokyo    the gf ...  \n",
       "\n",
       "[40000 rows x 4 columns]"
      ]
     },
     "execution_count": 8,
     "metadata": {},
     "output_type": "execute_result"
    }
   ],
   "source": [
    "df"
   ]
  },
  {
   "cell_type": "code",
   "execution_count": 9,
   "metadata": {},
   "outputs": [
    {
     "name": "stdout",
     "output_type": "stream",
     "text": [
      "<class 'pandas.core.frame.DataFrame'>\n",
      "RangeIndex: 40000 entries, 0 to 39999\n",
      "Data columns (total 4 columns):\n",
      "tweet_id     40000 non-null int64\n",
      "sentiment    40000 non-null object\n",
      "author       40000 non-null object\n",
      "content      40000 non-null object\n",
      "dtypes: int64(1), object(3)\n",
      "memory usage: 1.2+ MB\n"
     ]
    }
   ],
   "source": [
    "df.info()"
   ]
  },
  {
   "cell_type": "markdown",
   "metadata": {},
   "source": [
    "Notar que NO existen valores perdidos (NaN)."
   ]
  },
  {
   "cell_type": "markdown",
   "metadata": {},
   "source": [
    "Para el preprocesamiento del vector objetivo, definimos primero una función pertinente que se encarga de capitalizar todo el texto en minúscula, luego filtra todo lo que no sea letra, y finalmente aplica una _lematización_. Este último paso utiliza el modelo `en_core_web_sm` de `spacy`, entrenado para efectuar la reducción."
   ]
  },
  {
   "cell_type": "code",
   "execution_count": 10,
   "metadata": {},
   "outputs": [],
   "source": [
    "import spacy\n",
    "import re\n",
    "from nltk.corpus import stopwords\n",
    "\n",
    "nlp = spacy.load('en_core_web_sm')  # English multi-task CNN trained on OntoNotes.\n",
    "\n",
    "def preproc_text(text):\n",
    "    \"\"\"Transform input text to improve modeling, including capitalization, filtering, and lemmatization.\n",
    "\n",
    "    Args:\n",
    "    text (str): Text content\n",
    "    \n",
    "    Returns:\n",
    "    text (str): Transformed text content\n",
    "    \"\"\"\n",
    "    text = text.lower()\n",
    "    text = re.sub('[^a-z]+',' ',text)\n",
    "    text = ' '.join([token.lemma_ if token.lemma_ != '-PRON-' else token.text for token in nlp(text)])\n",
    "    return text"
   ]
  },
  {
   "cell_type": "markdown",
   "metadata": {},
   "source": [
    "#### Ejemplo de Lemmatización\n",
    "La lematización funciona reduciendo las palabras a una raíz linguística dada."
   ]
  },
  {
   "cell_type": "code",
   "execution_count": 11,
   "metadata": {},
   "outputs": [
    {
     "name": "stdout",
     "output_type": "stream",
     "text": [
      "Texto sin lematizar:  I he she became going did made make\n",
      "-------------------------\n",
      "Texto lematizado:  ['I', 'he', 'she', 'become', 'go', 'do', 'make', 'make']\n"
     ]
    }
   ],
   "source": [
    "text = 'I he she became going did made make'\n",
    "textl = [token.lemma_ if token.lemma_ != '-PRON-' else token.text for token in nlp(text)]\n",
    "print('Texto sin lematizar: ', text)\n",
    "print('-------------------------')\n",
    "print('Texto lematizado: ', textl)"
   ]
  },
  {
   "cell_type": "markdown",
   "metadata": {},
   "source": [
    "### Frencuencia de categorías\n",
    "Una vez procesado el texto, analizamos la frecuencia de categorías en el texto:"
   ]
  },
  {
   "cell_type": "code",
   "execution_count": 12,
   "metadata": {},
   "outputs": [
    {
     "data": {
      "image/png": "[encoded data removed]",
      "text/plain": [
       "<Figure size 432x432 with 1 Axes>"
      ]
     },
     "metadata": {},
     "output_type": "display_data"
    }
   ],
   "source": [
    "sent = df['sentiment'].value_counts().index.tolist()\n",
    "sent_frec = df['sentiment'].value_counts().tolist()\n",
    "\n",
    "df_sent = pd.DataFrame({'sentiment':sent, 'frequency':sent_frec})\n",
    "\n",
    "ax = sns.catplot(x = 'sentiment', y = 'frequency', kind = 'bar', height = 6, data = df_sent);\n",
    "ax.set_xticklabels(rotation = 45, horizontalalignment = 'right');\n"
   ]
  },
  {
   "cell_type": "markdown",
   "metadata": {},
   "source": [
    "### Recodificación:\n",
    "En este punto podemos hacer una recodificación del vector objetivo conteniendo una clasificación binaria: sentimiento Positivo y Negativo."
   ]
  },
  {
   "cell_type": "code",
   "execution_count": 13,
   "metadata": {},
   "outputs": [],
   "source": [
    "df.replace(to_replace = \"worry\",value = \"Negativa\", inplace = True)\n",
    "df.replace(to_replace = \"happiness\",value = \"Positiva\", inplace = True)\n",
    "df.replace(to_replace = \"sadness\",value = \"Negativa\", inplace = True)\n",
    "df.replace(to_replace = \"love\",value = \"Positiva\", inplace = True)\n",
    "df.replace(to_replace = \"surprise\",value = \"Positiva\", inplace = True)\n",
    "df.replace(to_replace = \"fun\",value = \"Positiva\", inplace = True)\n",
    "df.replace(to_replace = \"relief\",value = \"Positiva\", inplace = True)\n",
    "df.replace(to_replace = \"hate\",value = \"Negativa\", inplace = True)\n",
    "df.replace(to_replace = \"empty\",value = \"Negativa\", inplace = True)\n",
    "df.replace(to_replace = \"enthusiasm\",value = \"Positiva\", inplace = True)\n",
    "df.replace(to_replace = \"boredom\",value = \"Negativa\", inplace = True)\n",
    "df.replace(to_replace = \"anger\",value = \"Negativa\", inplace = True)"
   ]
  },
  {
   "cell_type": "markdown",
   "metadata": {},
   "source": [
    "A continuación decidimos borrar los tweets clasificados como neutrales porque de acuerdo a nuestra clasificación binaria de Positivo vs Negativo, una clasificación Neutral se puede entender como ruido para el modelo, o similarmente, un dato nulo."
   ]
  },
  {
   "cell_type": "code",
   "execution_count": 14,
   "metadata": {},
   "outputs": [],
   "source": [
    "df = df.drop(df[df.sentiment == 'neutral'].index)\n",
    "\n",
    "# Para aleatorizar categoria \"neutral\"\n",
    "#for i, row in df[\"sentiment\"].iteritems():\n",
    "    #if row == \"neutral\":\n",
    "        #df[\"sentiment\"][i] = np.random.choice(choice_sent)"
   ]
  },
  {
   "cell_type": "code",
   "execution_count": 15,
   "metadata": {
    "scrolled": true
   },
   "outputs": [
    {
     "data": {
      "text/plain": [
       "Negativa    16063\n",
       "Positiva    15299\n",
       "Name: sentiment, dtype: int64"
      ]
     },
     "execution_count": 15,
     "metadata": {},
     "output_type": "execute_result"
    }
   ],
   "source": [
    "df['sentiment'].value_counts()"
   ]
  },
  {
   "cell_type": "markdown",
   "metadata": {},
   "source": [
    "### Tokenización\n",
    "A continuación realizamos el proceso de _tokenización_, cuyo objetivo es discriminar palabras entre sí."
   ]
  },
  {
   "cell_type": "code",
   "execution_count": 16,
   "metadata": {},
   "outputs": [],
   "source": [
    "from sklearn.feature_extraction.text import CountVectorizer\n",
    "# instanciamos un objeto CountVectorizer con nuestra función\n",
    "count_vectorizer = CountVectorizer(preprocessor = preproc_text, stop_words = 'english') \n",
    "# implementamos los pasos de fit y transform\n",
    "count_vectorizer_fit = count_vectorizer.fit_transform(df['content'])\n",
    "# extraemos los tokens (palabras)\n",
    "words = count_vectorizer.get_feature_names()\n",
    "# y ahora extraemos la frecuencia\n",
    "words_freq = count_vectorizer_fit.toarray().sum(axis=0)"
   ]
  },
  {
   "cell_type": "code",
   "execution_count": 17,
   "metadata": {},
   "outputs": [],
   "source": [
    "df_words = pd.DataFrame({'words':words, 'frequency':words_freq})"
   ]
  },
  {
   "cell_type": "markdown",
   "metadata": {},
   "source": [
    "El resultado de la tokenización y su frecuencia es:"
   ]
  },
  {
   "cell_type": "code",
   "execution_count": 18,
   "metadata": {},
   "outputs": [
    {
     "data": {
      "text/html": [
       "<div>\n",
       "<style scoped>\n",
       "    .dataframe tbody tr th:only-of-type {\n",
       "        vertical-align: middle;\n",
       "    }\n",
       "\n",
       "    .dataframe tbody tr th {\n",
       "        vertical-align: top;\n",
       "    }\n",
       "\n",
       "    .dataframe thead th {\n",
       "        text-align: right;\n",
       "    }\n",
       "</style>\n",
       "<table border=\"1\" class=\"dataframe\">\n",
       "  <thead>\n",
       "    <tr style=\"text-align: right;\">\n",
       "      <th></th>\n",
       "      <th>words</th>\n",
       "      <th>frequency</th>\n",
       "    </tr>\n",
       "  </thead>\n",
       "  <tbody>\n",
       "    <tr>\n",
       "      <th>0</th>\n",
       "      <td>aa</td>\n",
       "      <td>3</td>\n",
       "    </tr>\n",
       "    <tr>\n",
       "      <th>1</th>\n",
       "      <td>aaa</td>\n",
       "      <td>2</td>\n",
       "    </tr>\n",
       "    <tr>\n",
       "      <th>2</th>\n",
       "      <td>aaaa</td>\n",
       "      <td>1</td>\n",
       "    </tr>\n",
       "    <tr>\n",
       "      <th>3</th>\n",
       "      <td>aaaaa</td>\n",
       "      <td>1</td>\n",
       "    </tr>\n",
       "    <tr>\n",
       "      <th>4</th>\n",
       "      <td>aaaaaaaa</td>\n",
       "      <td>1</td>\n",
       "    </tr>\n",
       "    <tr>\n",
       "      <th>...</th>\n",
       "      <td>...</td>\n",
       "      <td>...</td>\n",
       "    </tr>\n",
       "    <tr>\n",
       "      <th>34246</th>\n",
       "      <td>zzz</td>\n",
       "      <td>2</td>\n",
       "    </tr>\n",
       "    <tr>\n",
       "      <th>34247</th>\n",
       "      <td>zzzz</td>\n",
       "      <td>2</td>\n",
       "    </tr>\n",
       "    <tr>\n",
       "      <th>34248</th>\n",
       "      <td>zzzzy</td>\n",
       "      <td>1</td>\n",
       "    </tr>\n",
       "    <tr>\n",
       "      <th>34249</th>\n",
       "      <td>zzzzz</td>\n",
       "      <td>1</td>\n",
       "    </tr>\n",
       "    <tr>\n",
       "      <th>34250</th>\n",
       "      <td>zzzzzzzzzzzzzzz</td>\n",
       "      <td>1</td>\n",
       "    </tr>\n",
       "  </tbody>\n",
       "</table>\n",
       "<p>34251 rows × 2 columns</p>\n",
       "</div>"
      ],
      "text/plain": [
       "                 words  frequency\n",
       "0                   aa          3\n",
       "1                  aaa          2\n",
       "2                 aaaa          1\n",
       "3                aaaaa          1\n",
       "4             aaaaaaaa          1\n",
       "...                ...        ...\n",
       "34246              zzz          2\n",
       "34247             zzzz          2\n",
       "34248            zzzzy          1\n",
       "34249            zzzzz          1\n",
       "34250  zzzzzzzzzzzzzzz          1\n",
       "\n",
       "[34251 rows x 2 columns]"
      ]
     },
     "execution_count": 18,
     "metadata": {},
     "output_type": "execute_result"
    }
   ],
   "source": [
    "df_words"
   ]
  },
  {
   "cell_type": "markdown",
   "metadata": {},
   "source": [
    "Con ello, las 10 palabras mas repetidas de todo el data set de la columna 'content' está dado por:"
   ]
  },
  {
   "cell_type": "code",
   "execution_count": 19,
   "metadata": {
    "scrolled": true
   },
   "outputs": [
    {
     "data": {
      "text/html": [
       "<div>\n",
       "<style scoped>\n",
       "    .dataframe tbody tr th:only-of-type {\n",
       "        vertical-align: middle;\n",
       "    }\n",
       "\n",
       "    .dataframe tbody tr th {\n",
       "        vertical-align: top;\n",
       "    }\n",
       "\n",
       "    .dataframe thead th {\n",
       "        text-align: right;\n",
       "    }\n",
       "</style>\n",
       "<table border=\"1\" class=\"dataframe\">\n",
       "  <thead>\n",
       "    <tr style=\"text-align: right;\">\n",
       "      <th></th>\n",
       "      <th>words</th>\n",
       "      <th>frequency</th>\n",
       "    </tr>\n",
       "  </thead>\n",
       "  <tbody>\n",
       "    <tr>\n",
       "      <th>7130</th>\n",
       "      <td>day</td>\n",
       "      <td>3203</td>\n",
       "    </tr>\n",
       "    <tr>\n",
       "      <th>15566</th>\n",
       "      <td>just</td>\n",
       "      <td>2614</td>\n",
       "    </tr>\n",
       "    <tr>\n",
       "      <th>11568</th>\n",
       "      <td>good</td>\n",
       "      <td>2336</td>\n",
       "    </tr>\n",
       "    <tr>\n",
       "      <th>17825</th>\n",
       "      <td>love</td>\n",
       "      <td>1827</td>\n",
       "    </tr>\n",
       "    <tr>\n",
       "      <th>33257</th>\n",
       "      <td>work</td>\n",
       "      <td>1727</td>\n",
       "    </tr>\n",
       "    <tr>\n",
       "      <th>17270</th>\n",
       "      <td>like</td>\n",
       "      <td>1710</td>\n",
       "    </tr>\n",
       "    <tr>\n",
       "      <th>24265</th>\n",
       "      <td>quot</td>\n",
       "      <td>1469</td>\n",
       "    </tr>\n",
       "    <tr>\n",
       "      <th>30484</th>\n",
       "      <td>today</td>\n",
       "      <td>1390</td>\n",
       "    </tr>\n",
       "    <tr>\n",
       "      <th>12305</th>\n",
       "      <td>happy</td>\n",
       "      <td>1390</td>\n",
       "    </tr>\n",
       "    <tr>\n",
       "      <th>13227</th>\n",
       "      <td>http</td>\n",
       "      <td>1284</td>\n",
       "    </tr>\n",
       "  </tbody>\n",
       "</table>\n",
       "</div>"
      ],
      "text/plain": [
       "       words  frequency\n",
       "7130     day       3203\n",
       "15566   just       2614\n",
       "11568   good       2336\n",
       "17825   love       1827\n",
       "33257   work       1727\n",
       "17270   like       1710\n",
       "24265   quot       1469\n",
       "30484  today       1390\n",
       "12305  happy       1390\n",
       "13227   http       1284"
      ]
     },
     "execution_count": 19,
     "metadata": {},
     "output_type": "execute_result"
    }
   ],
   "source": [
    "df_words.sort_values(\"frequency\", ascending = False).head(10)"
   ]
  },
  {
   "cell_type": "markdown",
   "metadata": {},
   "source": [
    "### Primera iteración de Modelación"
   ]
  },
  {
   "cell_type": "markdown",
   "metadata": {},
   "source": [
    "A continuación entrenaremos los modelos a desarrollar:"
   ]
  },
  {
   "cell_type": "markdown",
   "metadata": {},
   "source": [
    "#### **Ada Boost Classifier**"
   ]
  },
  {
   "cell_type": "code",
   "execution_count": 20,
   "metadata": {},
   "outputs": [],
   "source": [
    "X = count_vectorizer_fit\n",
    "y = df['sentiment']\n",
    "\n",
    "X_train, X_test, y_train, y_test = train_test_split(X, y, test_size=.33, random_state=63)"
   ]
  },
  {
   "cell_type": "markdown",
   "metadata": {},
   "source": [
    "* Hiperparametros para el clasificador AdaBoost:"
   ]
  },
  {
   "cell_type": "code",
   "execution_count": 21,
   "metadata": {},
   "outputs": [],
   "source": [
    "ada_params = {\n",
    "    'learning_rate': [0.01, 0.1, 0.5],\n",
    "    'n_estimators': [50, 100, 500, 1000, 2000]\n",
    "}"
   ]
  },
  {
   "cell_type": "markdown",
   "metadata": {},
   "source": [
    "A continuación ejecutamos la siguiente búsqueda de grilla para determinar los mejores hiperparámetros dentro de dicha grilla. Dado que toma un tiempo considerable, decidimos guardar el resultado y cargarlo en una instancia de `pickle`.\n",
    "\n",
    "```python\n",
    "ada_model = GridSearchCV(AdaBoostClassifier(random_state = 63), ada_params,\n",
    "                             cv = 2).fit(X_train, y_train)\n",
    "```"
   ]
  },
  {
   "cell_type": "code",
   "execution_count": 22,
   "metadata": {},
   "outputs": [],
   "source": [
    "ada_model = pickle.load(open('adamodel_prueba1.sav', 'rb'))"
   ]
  },
  {
   "cell_type": "markdown",
   "metadata": {},
   "source": [
    "De esta forma, la mejor selección de hiperparámetros está dada por:"
   ]
  },
  {
   "cell_type": "code",
   "execution_count": 23,
   "metadata": {},
   "outputs": [
    {
     "name": "stdout",
     "output_type": "stream",
     "text": [
      "{'learning_rate': 0.1, 'n_estimators': 2000}\n"
     ]
    }
   ],
   "source": [
    "print(ada_model.best_params_)"
   ]
  },
  {
   "cell_type": "markdown",
   "metadata": {},
   "source": [
    "Con lo cual las métricas de clasificación para el modelo entrenado son:"
   ]
  },
  {
   "cell_type": "code",
   "execution_count": 24,
   "metadata": {},
   "outputs": [
    {
     "name": "stdout",
     "output_type": "stream",
     "text": [
      "              precision    recall  f1-score   support\n",
      "\n",
      "    Negativa       0.70      0.81      0.75      5346\n",
      "    Positiva       0.75      0.63      0.68      5004\n",
      "\n",
      "    accuracy                           0.72     10350\n",
      "   macro avg       0.73      0.72      0.72     10350\n",
      "weighted avg       0.72      0.72      0.72     10350\n",
      "\n"
     ]
    }
   ],
   "source": [
    "print(classification_report(y_test, ada_model.best_estimator_.predict(X_test)))"
   ]
  },
  {
   "cell_type": "markdown",
   "metadata": {},
   "source": [
    "#### **Bernoulli Naive Bayes**"
   ]
  },
  {
   "cell_type": "code",
   "execution_count": 25,
   "metadata": {},
   "outputs": [],
   "source": [
    "X = df['content']\n",
    "y = df['sentiment']\n",
    "\n",
    "X_train, X_test, y_train, y_test = train_test_split(X, y, test_size=.33, random_state=63)"
   ]
  },
  {
   "cell_type": "markdown",
   "metadata": {},
   "source": [
    "Luego realizamos el siguiente _pipeline_ con el método de Naive Bayes, en donde primero procesamos el texto de acorde a las directivas anteriores, y luego entrenamos. Por la misma razón del modelamiento anterior, decidimos guardar el resultado para su posterior uso:\n",
    "\n",
    "```python\n",
    "nb_model = Pipeline(\n",
    "    [\n",
    "        ( 'count_vectorizer', CountVectorizer(preprocessor=preproc_text, stop_words='english') ),\n",
    "        ( 'naive_bayes', BernoulliNB() )\n",
    "    ]\n",
    ")\n",
    "\n",
    "nb_model.fit(X_train, y_train)\n",
    "```"
   ]
  },
  {
   "cell_type": "code",
   "execution_count": 26,
   "metadata": {},
   "outputs": [],
   "source": [
    "nb_model = pickle.load(open(\"nbmodel_prueba1.sav\", 'rb'))"
   ]
  },
  {
   "cell_type": "markdown",
   "metadata": {},
   "source": [
    "Finalmente, el rendimiento para este caso está dado por:"
   ]
  },
  {
   "cell_type": "code",
   "execution_count": 27,
   "metadata": {},
   "outputs": [
    {
     "name": "stdout",
     "output_type": "stream",
     "text": [
      "              precision    recall  f1-score   support\n",
      "\n",
      "    Negativa       0.71      0.79      0.74      5346\n",
      "    Positiva       0.74      0.65      0.69      5004\n",
      "\n",
      "    accuracy                           0.72     10350\n",
      "   macro avg       0.72      0.72      0.72     10350\n",
      "weighted avg       0.72      0.72      0.72     10350\n",
      "\n"
     ]
    }
   ],
   "source": [
    "print(classification_report(y_test, nb_model.predict(X_test)))"
   ]
  },
  {
   "cell_type": "markdown",
   "metadata": {},
   "source": [
    "Podemos testear la predicción de la siguiente forma, arrojando clasificaciones bastante razonables:"
   ]
  },
  {
   "cell_type": "code",
   "execution_count": 28,
   "metadata": {},
   "outputs": [],
   "source": [
    "pred_list = [\"what the fuck\", \"I'm happy\", \"I'm angry\", \n",
    "             \"I'm sad\", \"Who cares\", \"How to become a super hero\"]"
   ]
  },
  {
   "cell_type": "code",
   "execution_count": 29,
   "metadata": {
    "scrolled": true
   },
   "outputs": [
    {
     "data": {
      "text/plain": [
       "['Negativa', 'Positiva', 'Negativa', 'Negativa', 'Negativa', 'Negativa']"
      ]
     },
     "execution_count": 29,
     "metadata": {},
     "output_type": "execute_result"
    }
   ],
   "source": [
    "list(nb_model.predict(pred_list))"
   ]
  },
  {
   "cell_type": "markdown",
   "metadata": {},
   "source": [
    "# Hito 3 (WIP)"
   ]
  },
  {
   "cell_type": "markdown",
   "metadata": {},
   "source": [
    "## Logistic Regression"
   ]
  },
  {
   "cell_type": "code",
   "execution_count": 30,
   "metadata": {},
   "outputs": [],
   "source": [
    "log_model = Pipeline([(\"count_vectorizer\", CountVectorizer(preprocessor = preproc_text,\n",
    "                                                            stop_words = \"english\")),\n",
    "                          (\"log_regression\", LogisticRegression())])"
   ]
  },
  {
   "cell_type": "code",
   "execution_count": 31,
   "metadata": {},
   "outputs": [
    {
     "data": {
      "text/plain": [
       "Pipeline(memory=None,\n",
       "         steps=[('count_vectorizer',\n",
       "                 CountVectorizer(analyzer='word', binary=False,\n",
       "                                 decode_error='strict',\n",
       "                                 dtype=<class 'numpy.int64'>, encoding='utf-8',\n",
       "                                 input='content', lowercase=True, max_df=1.0,\n",
       "                                 max_features=None, min_df=1,\n",
       "                                 ngram_range=(1, 1),\n",
       "                                 preprocessor=<function preproc_text at 0x7f0e4788c8c8>,\n",
       "                                 stop_words='english', strip_accents=None,\n",
       "                                 token_pattern='(?u)\\\\b\\\\w\\\\w+\\\\b',\n",
       "                                 tokenizer=None, vocabulary=None)),\n",
       "                ('log_regression',\n",
       "                 LogisticRegression(C=1.0, class_weight=None, dual=False,\n",
       "                                    fit_intercept=True, intercept_scaling=1,\n",
       "                                    l1_ratio=None, max_iter=100,\n",
       "                                    multi_class='auto', n_jobs=None,\n",
       "                                    penalty='l2', random_state=None,\n",
       "                                    solver='lbfgs', tol=0.0001, verbose=0,\n",
       "                                    warm_start=False))],\n",
       "         verbose=False)"
      ]
     },
     "execution_count": 31,
     "metadata": {},
     "output_type": "execute_result"
    }
   ],
   "source": [
    "log_model.fit(X_train, y_train)"
   ]
  },
  {
   "cell_type": "code",
   "execution_count": 32,
   "metadata": {},
   "outputs": [
    {
     "name": "stdout",
     "output_type": "stream",
     "text": [
      "              precision    recall  f1-score   support\n",
      "\n",
      "    Negativa       0.73      0.76      0.74      5346\n",
      "    Positiva       0.73      0.70      0.71      5004\n",
      "\n",
      "    accuracy                           0.73     10350\n",
      "   macro avg       0.73      0.73      0.73     10350\n",
      "weighted avg       0.73      0.73      0.73     10350\n",
      "\n"
     ]
    }
   ],
   "source": [
    "print(classification_report(y_test, log_model.predict(X_test)))"
   ]
  },
  {
   "cell_type": "markdown",
   "metadata": {},
   "source": [
    "### SVC "
   ]
  },
  {
   "cell_type": "markdown",
   "metadata": {},
   "source": [
    "#### Hiperparametros "
   ]
  },
  {
   "cell_type": "code",
   "execution_count": 33,
   "metadata": {},
   "outputs": [],
   "source": [
    "params = {\"C\": [0.0001, 0.001, 0.01, 0.1, 1, 10, 100, 1000],\n",
    "          \"gamma\": [0.0000001, 0.0001, 0.001, 0.01, 0.1, 1, 10]}\n",
    "\n",
    "params_2 = {\"C\": [0.0001, 100],\n",
    "           \"gamma\": [0.00001, 10]}"
   ]
  },
  {
   "cell_type": "code",
   "execution_count": null,
   "metadata": {},
   "outputs": [],
   "source": []
  },
  {
   "cell_type": "code",
   "execution_count": null,
   "metadata": {},
   "outputs": [],
   "source": []
  },
  {
   "cell_type": "code",
   "execution_count": null,
   "metadata": {},
   "outputs": [],
   "source": []
  },
  {
   "cell_type": "code",
   "execution_count": null,
   "metadata": {},
   "outputs": [],
   "source": []
  },
  {
   "cell_type": "code",
   "execution_count": null,
   "metadata": {},
   "outputs": [],
   "source": []
  }
 ],
 "metadata": {
  "kernelspec": {
   "display_name": "Python 3",
   "language": "python",
   "name": "python3"
  },
  "language_info": {
   "codemirror_mode": {
    "name": "ipython",
    "version": 3
   },
   "file_extension": ".py",
   "mimetype": "text/x-python",
   "name": "python",
   "nbconvert_exporter": "python",
   "pygments_lexer": "ipython3",
   "version": "3.7.3"
  }
 },
 "nbformat": 4,
 "nbformat_minor": 4
}
