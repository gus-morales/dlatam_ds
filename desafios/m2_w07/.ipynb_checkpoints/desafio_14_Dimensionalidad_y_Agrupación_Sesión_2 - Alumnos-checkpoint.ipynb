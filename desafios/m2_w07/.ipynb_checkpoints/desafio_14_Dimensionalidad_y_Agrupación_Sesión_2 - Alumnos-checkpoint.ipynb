{
 "cells": [
  {
   "cell_type": "markdown",
   "metadata": {},
   "source": [
    "![](logo.png)"
   ]
  },
  {
   "cell_type": "markdown",
   "metadata": {},
   "source": [
    "# Desafio 14 - Dimensionalidad y Agrupación"
   ]
  },
  {
   "cell_type": "markdown",
   "metadata": {},
   "source": [
    "### BERNARDA RODRIGUEZ\n",
    "### G10 - 06_11_2019"
   ]
  },
  {
   "cell_type": "markdown",
   "metadata": {},
   "source": [
    "<p style='text-align: justify;'> Para poder realizar esta actividad debes haber revisado la lectura correspondiente a la semana.\n",
    "Crea una carpeta de trabajo y guarda todos los archivos correspondientes (notebook y csv).\n",
    "Una vez terminada la actividad, comprime la carpeta y sube el .zip a la sección correspondiente.\n",
    " </p>\n",
    "\n",
    "\n",
    "\n"
   ]
  },
  {
   "cell_type": "markdown",
   "metadata": {},
   "source": [
    "### Ejercicio 1: Preparación del ambiente de trabajo"
   ]
  },
  {
   "cell_type": "markdown",
   "metadata": {},
   "source": [
    "<p style='text-align: justify;'> Para este ejercicio trabajaremos de manera conjunta identificando la paleta de colores de carátulas de álbumes.</p>\n",
    "\n",
    "* Las imágenes se encuentran en una carpeta con el nombre album_covers.\n",
    "* Cada imagen tiene la siguiente nomenclatura: artista-nombre-del-album.jpg.\n",
    "* El objetivo es generar un método que nos permita identificar la dominancia de una cantidad finita de colores.\n",
    "* Para importar imágenes y visualizarlas, vamos a importar las siguientes librerías:\n",
    "  * Partamos por incluír las librerías clásicas: pandas, numpy y matplotlib.pyplot.\n",
    "  * __sklearn.cluster.KMeans__: para extraer los principales componentes de una matriz numérica.\n",
    "  * __skimage.io__: Para poder ingresar y leer imágenes. </p>\n",
    "\n",
    "\n"
   ]
  },
  {
   "cell_type": "code",
   "execution_count": 1,
   "metadata": {},
   "outputs": [],
   "source": [
    "import pandas as pd\n",
    "import numpy as np\n",
    "import matplotlib.pyplot as plt\n",
    "\n",
    "from sklearn.cluster import KMeans, MiniBatchKMeans\n",
    "from skimage import io\n",
    "\n",
    "import warnings\n",
    "warnings.filterwarnings(action=\"ignore\")"
   ]
  },
  {
   "cell_type": "markdown",
   "metadata": {},
   "source": [
    "### Ejercicio 2: Importación de imagenes"
   ]
  },
  {
   "cell_type": "markdown",
   "metadata": {},
   "source": [
    "<p style='text-align: justify;'> Partamos por ingresar una imágen a nuestro ambiente de trabajo. Para ello ocuparemos io.imread. ¿Qué devuelve? </p>\n",
    "<p style='text-align: justify;'> Para visualizar la imágen en el notebook, ocupe __io.imshow.__ </p>\n",
    "\n"
   ]
  },
  {
   "cell_type": "code",
   "execution_count": 2,
   "metadata": {},
   "outputs": [
    {
     "name": "stdout",
     "output_type": "stream",
     "text": [
      " El volumen de la unidad C es Windows\n",
      " El n£mero de serie del volumen es: 9ECA-07A3\n",
      "\n",
      " Directorio de C:\\Users\\BERNARDA RODRIGUEZ\\Documents\\FUNDAMENTOS_DATA_SCIENCE\\UNIDAD_7_DIMENSIONALIDAD_Y_AGRUPACION\\Sesi¢n_Presencial_1\\album_covers\n",
      "\n",
      "28-10-2019  02:49    <DIR>          .\n",
      "28-10-2019  02:49    <DIR>          ..\n",
      "24-09-2018  14:45             6.148 .DS_Store\n",
      "24-09-2018  14:45           300.260 alt-j-this-is-all-yours.jpg\n",
      "24-09-2018  14:45            94.751 altar-of-plagues-teethed-glory-and-injury.jpg\n",
      "24-09-2018  14:45           147.352 avalanches-since-i-left-you.jpg\n",
      "24-09-2018  14:45            62.222 backstreet-boys-millenium.jpg\n",
      "24-09-2018  14:45            42.512 big-krit-4eva-is-a-mighty.webp\n",
      "24-09-2018  14:45           173.614 britney-spears-baby-one-more-time.jpg\n",
      "24-09-2018  14:45           158.334 brockhampton-saturation-ii.jpg\n",
      "24-09-2018  14:45            34.730 car-bomb-meta.jpg\n",
      "24-09-2018  14:45            49.463 carly-rae-jepsen-emotion-side-b.jpg\n",
      "24-09-2018  14:45           916.944 carly-rae-jepsen-emotion.png\n",
      "24-09-2018  14:45           237.616 cloudkicker-let-yourself-be-huge.jpg\n",
      "24-09-2018  14:45         1.077.771 colin-stetson-sarah-neufeld-never-were-the-way-she-was.jpg\n",
      "24-09-2018  14:45            42.238 darkthrone-a-blaze-in-the-northern-sky.jpg\n",
      "24-09-2018  14:45           179.905 de-la-soul-3-feets-and-rising.jpg\n",
      "24-09-2018  14:45            62.622 deafheaven-roads-to-judah.jpg\n",
      "24-09-2018  14:45            61.213 deafheaven-sunbather.jpg\n",
      "24-09-2018  14:45           168.145 deathspell-omega-paracletus.jpg\n",
      "24-09-2018  14:45           130.786 deltron-3030-self-titled.jpg\n",
      "24-09-2018  14:45           514.492 denzel-curry-imperial.jpg\n",
      "24-09-2018  14:45         1.013.628 drake-take-care.jpg\n",
      "24-09-2018  14:45            55.264 dua-lipa-self-titled.jpeg\n",
      "24-09-2018  14:45           864.652 feist-pleasure.jpg\n",
      "24-09-2018  14:45           203.057 haken-aquarius.jpg\n",
      "24-09-2018  14:45           518.297 hop-along-bark-your-head-off.jpg\n",
      "24-09-2018  14:45           200.998 hop-along-painted-shut.jpg\n",
      "24-09-2018  14:45           149.378 immolation-close-to-a-world-below.jpg\n",
      "24-09-2018  14:45           164.138 immolation-dawn-of-possession.jpg\n",
      "24-09-2018  14:45             4.271 james-blake-self-titled.jpeg\n",
      "24-09-2018  14:45            36.765 jamie-xx-in-colour.jpeg\n",
      "24-09-2018  14:45           292.934 jay-z-kanye-west-watch-the-throne.jpeg\n",
      "24-09-2018  14:45            13.517 jon-hopkins-immunity.jpg\n",
      "24-09-2018  14:45            93.255 kendric-lamar-to-pimp-a-butterfly.jpg\n",
      "24-09-2018  14:45           192.014 lauryn-hill-the-miseducation-of-lauryn-hill.jpg\n",
      "24-09-2018  14:45            32.883 meshuggah-destroy-erase-create.jpg\n",
      "24-09-2018  14:45           322.831 nails-abandon-all-life.jpg\n",
      "24-09-2018  14:45            28.610 nsync-self-titled.jpg\n",
      "24-09-2018  14:45            71.494 opeth-blackwater-park.jpg\n",
      "24-09-2018  14:45           241.515 outkast-stankonia.jpg\n",
      "24-09-2018  14:45           114.013 the-clash-london-calling.jpg\n",
      "24-09-2018  14:45           100.218 the_weakerthans-reconstruction_site-frontal.jpg\n",
      "24-09-2018  14:45            79.547 wu-tang-clan-enter-the-wu-tang-36-chambers.jpg\n",
      "              42 archivos      9.254.397 bytes\n",
      "\n",
      " Directorio de C:\\Users\\BERNARDA RODRIGUEZ\\Documents\\FUNDAMENTOS_DATA_SCIENCE\\UNIDAD_7_DIMENSIONALIDAD_Y_AGRUPACION\\Sesi¢n_Presencial_1\n",
      "\n",
      "\n",
      " Directorio de C:\\Users\\BERNARDA RODRIGUEZ\\Documents\\FUNDAMENTOS_DATA_SCIENCE\\UNIDAD_7_DIMENSIONALIDAD_Y_AGRUPACION\\Sesi¢n_Presencial_1\n",
      "\n",
      "\n",
      " Directorio de C:\\Users\\BERNARDA RODRIGUEZ\\Documents\\FUNDAMENTOS_DATA_SCIENCE\\UNIDAD_7_DIMENSIONALIDAD_Y_AGRUPACION\\Sesi¢n_Presencial_1\n",
      "\n",
      "\n",
      " Directorio de C:\\Users\\BERNARDA RODRIGUEZ\\Documents\\FUNDAMENTOS_DATA_SCIENCE\\UNIDAD_7_DIMENSIONALIDAD_Y_AGRUPACION\\Sesi¢n_Presencial_1\n",
      "\n",
      "\n",
      " Directorio de C:\\Users\\BERNARDA RODRIGUEZ\\Documents\\FUNDAMENTOS_DATA_SCIENCE\\UNIDAD_7_DIMENSIONALIDAD_Y_AGRUPACION\\Sesi¢n_Presencial_1\n",
      "\n",
      "\n",
      " Directorio de C:\\Users\\BERNARDA RODRIGUEZ\\Documents\\FUNDAMENTOS_DATA_SCIENCE\\UNIDAD_7_DIMENSIONALIDAD_Y_AGRUPACION\\Sesi¢n_Presencial_1\n",
      "\n",
      "\n",
      " Directorio de C:\\Users\\BERNARDA RODRIGUEZ\\Documents\\FUNDAMENTOS_DATA_SCIENCE\\UNIDAD_7_DIMENSIONALIDAD_Y_AGRUPACION\\Sesi¢n_Presencial_1\n",
      "\n",
      "\n",
      " Directorio de C:\\Users\\BERNARDA RODRIGUEZ\\Documents\\FUNDAMENTOS_DATA_SCIENCE\\UNIDAD_7_DIMENSIONALIDAD_Y_AGRUPACION\\Sesi¢n_Presencial_1\n",
      "\n",
      "\n",
      " Directorio de C:\\Users\\BERNARDA RODRIGUEZ\\Documents\\FUNDAMENTOS_DATA_SCIENCE\\UNIDAD_7_DIMENSIONALIDAD_Y_AGRUPACION\\Sesi¢n_Presencial_1\n",
      "\n",
      "\n",
      " Directorio de C:\\Users\\BERNARDA RODRIGUEZ\\Documents\\FUNDAMENTOS_DATA_SCIENCE\\UNIDAD_7_DIMENSIONALIDAD_Y_AGRUPACION\\Sesi¢n_Presencial_1\n",
      "\n",
      "\n",
      " Directorio de C:\\Users\\BERNARDA RODRIGUEZ\\Documents\\FUNDAMENTOS_DATA_SCIENCE\\UNIDAD_7_DIMENSIONALIDAD_Y_AGRUPACION\\Sesi¢n_Presencial_1\\album_covers\n",
      "\n",
      "28-10-2019  02:49    <DIR>          .\n",
      "28-10-2019  02:49    <DIR>          ..\n",
      "24-09-2018  14:45             6.148 .DS_Store\n",
      "24-09-2018  14:45           300.260 alt-j-this-is-all-yours.jpg\n",
      "24-09-2018  14:45            94.751 altar-of-plagues-teethed-glory-and-injury.jpg\n",
      "24-09-2018  14:45           147.352 avalanches-since-i-left-you.jpg\n",
      "24-09-2018  14:45            62.222 backstreet-boys-millenium.jpg\n",
      "24-09-2018  14:45            42.512 big-krit-4eva-is-a-mighty.webp\n",
      "24-09-2018  14:45           173.614 britney-spears-baby-one-more-time.jpg\n",
      "24-09-2018  14:45           158.334 brockhampton-saturation-ii.jpg\n",
      "24-09-2018  14:45            34.730 car-bomb-meta.jpg\n",
      "24-09-2018  14:45            49.463 carly-rae-jepsen-emotion-side-b.jpg\n",
      "24-09-2018  14:45           916.944 carly-rae-jepsen-emotion.png\n",
      "24-09-2018  14:45           237.616 cloudkicker-let-yourself-be-huge.jpg\n",
      "24-09-2018  14:45         1.077.771 colin-stetson-sarah-neufeld-never-were-the-way-she-was.jpg\n",
      "24-09-2018  14:45            42.238 darkthrone-a-blaze-in-the-northern-sky.jpg\n",
      "24-09-2018  14:45           179.905 de-la-soul-3-feets-and-rising.jpg\n",
      "24-09-2018  14:45            62.622 deafheaven-roads-to-judah.jpg\n",
      "24-09-2018  14:45            61.213 deafheaven-sunbather.jpg\n",
      "24-09-2018  14:45           168.145 deathspell-omega-paracletus.jpg\n",
      "24-09-2018  14:45           130.786 deltron-3030-self-titled.jpg\n",
      "24-09-2018  14:45           514.492 denzel-curry-imperial.jpg\n",
      "24-09-2018  14:45         1.013.628 drake-take-care.jpg\n",
      "24-09-2018  14:45            55.264 dua-lipa-self-titled.jpeg\n",
      "24-09-2018  14:45           864.652 feist-pleasure.jpg\n",
      "24-09-2018  14:45           203.057 haken-aquarius.jpg\n",
      "24-09-2018  14:45           518.297 hop-along-bark-your-head-off.jpg\n",
      "24-09-2018  14:45           200.998 hop-along-painted-shut.jpg\n",
      "24-09-2018  14:45           149.378 immolation-close-to-a-world-below.jpg\n",
      "24-09-2018  14:45           164.138 immolation-dawn-of-possession.jpg\n",
      "24-09-2018  14:45             4.271 james-blake-self-titled.jpeg\n",
      "24-09-2018  14:45            36.765 jamie-xx-in-colour.jpeg\n",
      "24-09-2018  14:45           292.934 jay-z-kanye-west-watch-the-throne.jpeg\n",
      "24-09-2018  14:45            13.517 jon-hopkins-immunity.jpg\n",
      "24-09-2018  14:45            93.255 kendric-lamar-to-pimp-a-butterfly.jpg\n",
      "24-09-2018  14:45           192.014 lauryn-hill-the-miseducation-of-lauryn-hill.jpg\n",
      "24-09-2018  14:45            32.883 meshuggah-destroy-erase-create.jpg\n",
      "24-09-2018  14:45           322.831 nails-abandon-all-life.jpg\n",
      "24-09-2018  14:45            28.610 nsync-self-titled.jpg\n",
      "24-09-2018  14:45            71.494 opeth-blackwater-park.jpg\n",
      "24-09-2018  14:45           241.515 outkast-stankonia.jpg\n",
      "24-09-2018  14:45           114.013 the-clash-london-calling.jpg\n",
      "24-09-2018  14:45           100.218 the_weakerthans-reconstruction_site-frontal.jpg\n",
      "24-09-2018  14:45            79.547 wu-tang-clan-enter-the-wu-tang-36-chambers.jpg\n",
      "              42 archivos      9.254.397 bytes\n",
      "               2 dirs  879.845.711.872 bytes libres\n"
     ]
    },
    {
     "name": "stderr",
     "output_type": "stream",
     "text": [
      "No se encuentra el archivo\n"
     ]
    }
   ],
   "source": [
    "!dir album_covers # indica los elementos que se encuentran en el directorio album_covers\n"
   ]
  },
  {
   "cell_type": "code",
   "execution_count": 3,
   "metadata": {},
   "outputs": [
    {
     "data": {
      "text/plain": [
       "Array([[[30, 28, 49],\n",
       "        [30, 28, 49],\n",
       "        [30, 28, 49],\n",
       "        ...,\n",
       "        [23, 21, 34],\n",
       "        [24, 22, 35],\n",
       "        [24, 22, 35]],\n",
       "\n",
       "       [[30, 28, 49],\n",
       "        [30, 28, 49],\n",
       "        [30, 28, 49],\n",
       "        ...,\n",
       "        [24, 22, 35],\n",
       "        [24, 22, 35],\n",
       "        [24, 22, 35]],\n",
       "\n",
       "       [[30, 28, 49],\n",
       "        [30, 28, 49],\n",
       "        [30, 28, 49],\n",
       "        ...,\n",
       "        [25, 23, 36],\n",
       "        [24, 22, 35],\n",
       "        [24, 22, 35]],\n",
       "\n",
       "       ...,\n",
       "\n",
       "       [[20, 20, 28],\n",
       "        [21, 21, 29],\n",
       "        [21, 21, 29],\n",
       "        ...,\n",
       "        [29, 26, 45],\n",
       "        [29, 26, 45],\n",
       "        [29, 26, 45]],\n",
       "\n",
       "       [[20, 19, 27],\n",
       "        [22, 21, 29],\n",
       "        [21, 20, 28],\n",
       "        ...,\n",
       "        [29, 26, 45],\n",
       "        [29, 26, 45],\n",
       "        [29, 26, 45]],\n",
       "\n",
       "       [[20, 19, 27],\n",
       "        [23, 22, 30],\n",
       "        [24, 23, 31],\n",
       "        ...,\n",
       "        [29, 26, 45],\n",
       "        [29, 26, 45],\n",
       "        [29, 26, 45]]], dtype=uint8)"
      ]
     },
     "execution_count": 3,
     "metadata": {},
     "output_type": "execute_result"
    }
   ],
   "source": [
    "imagen = io.imread('album_covers/jon-hopkins-immunity.jpg') # leyendo la imagen en formato .jpg\n",
    "#imagen = io.imread('jon-hopkins-immunity.jpg') # leyendo la imagen en formato .jpg\n",
    "imagen\n",
    "#type(imagen) # Un objeto de matriz representa una matriz homogénea y multidimensional de elementos de tamaño fijo."
   ]
  },
  {
   "cell_type": "code",
   "execution_count": 4,
   "metadata": {},
   "outputs": [
    {
     "data": {
      "text/plain": [
       "imageio.core.util.Array"
      ]
     },
     "execution_count": 4,
     "metadata": {},
     "output_type": "execute_result"
    }
   ],
   "source": [
    "type(imagen)"
   ]
  },
  {
   "cell_type": "code",
   "execution_count": 5,
   "metadata": {},
   "outputs": [
    {
     "data": {
      "text/plain": [
       "(320, 320, 3)"
      ]
     },
     "execution_count": 5,
     "metadata": {},
     "output_type": "execute_result"
    }
   ],
   "source": [
    "imagen.shape  # heigth, width, dims"
   ]
  },
  {
   "cell_type": "code",
   "execution_count": 6,
   "metadata": {},
   "outputs": [
    {
     "data": {
      "image/png": "[encoded data removed]",
      "text/plain": [
       "<Figure size 432x288 with 1 Axes>"
      ]
     },
     "metadata": {
      "needs_background": "light"
     },
     "output_type": "display_data"
    }
   ],
   "source": [
    "io.imshow(imagen) ;# visualizar la imagen"
   ]
  },
  {
   "cell_type": "markdown",
   "metadata": {},
   "source": [
    "### Ejercicio 3: Preprocesamiento de imágenes y KMeans"
   ]
  },
  {
   "cell_type": "markdown",
   "metadata": {},
   "source": [
    "<p style='text-align: justify;'> Con la representación numérica de la imágen, vamos a extraer la altura, el ancho y la cantidad de canales mediante shape. Posteriormente redimensionaremos la imágen con reshape. </p>\n",
    "\n",
    "* Partamos por inicializar nuestro algoritmo __KMeans__ con un k=8, ¿Qué significará esto?\n",
    "\n",
    "* Vuelva a implementar el mismo algoritmo con __MiniBatchKMeans__. ¿Qué diferencia existe con KMeans?"
   ]
  },
  {
   "cell_type": "code",
   "execution_count": 7,
   "metadata": {},
   "outputs": [
    {
     "data": {
      "text/plain": [
       "Array([30, 28, 49], dtype=uint8)"
      ]
     },
     "execution_count": 7,
     "metadata": {},
     "output_type": "execute_result"
    }
   ],
   "source": [
    "imagen[0][0] # genera un cubo representación numérica de la imágen (Las primeras dos cifras corresponen a la cantidad de pixiles. La tercera cifra corresponde al canal RGB)"
   ]
  },
  {
   "cell_type": "code",
   "execution_count": 8,
   "metadata": {},
   "outputs": [],
   "source": [
    "heigth, width, dims = imagen.shape # extraer la altura , el ancho y la cantidad de canales"
   ]
  },
  {
   "cell_type": "code",
   "execution_count": 9,
   "metadata": {},
   "outputs": [
    {
     "data": {
      "text/plain": [
       "320"
      ]
     },
     "execution_count": 9,
     "metadata": {},
     "output_type": "execute_result"
    }
   ],
   "source": [
    "heigth"
   ]
  },
  {
   "cell_type": "code",
   "execution_count": 10,
   "metadata": {},
   "outputs": [
    {
     "data": {
      "text/plain": [
       "320"
      ]
     },
     "execution_count": 10,
     "metadata": {},
     "output_type": "execute_result"
    }
   ],
   "source": [
    "width"
   ]
  },
  {
   "cell_type": "code",
   "execution_count": 11,
   "metadata": {},
   "outputs": [
    {
     "data": {
      "text/plain": [
       "3"
      ]
     },
     "execution_count": 11,
     "metadata": {},
     "output_type": "execute_result"
    }
   ],
   "source": [
    "dims"
   ]
  },
  {
   "cell_type": "code",
   "execution_count": 12,
   "metadata": {},
   "outputs": [],
   "source": [
    "reshape_imagen = imagen.reshape(heigth * width , dims) #  funciona solo en np"
   ]
  },
  {
   "cell_type": "code",
   "execution_count": 13,
   "metadata": {},
   "outputs": [
    {
     "data": {
      "text/plain": [
       "Array([[30, 28, 49],\n",
       "       [30, 28, 49],\n",
       "       [30, 28, 49],\n",
       "       ...,\n",
       "       [29, 26, 45],\n",
       "       [29, 26, 45],\n",
       "       [29, 26, 45]], dtype=uint8)"
      ]
     },
     "execution_count": 13,
     "metadata": {},
     "output_type": "execute_result"
    }
   ],
   "source": [
    "reshape_imagen"
   ]
  },
  {
   "cell_type": "code",
   "execution_count": 14,
   "metadata": {},
   "outputs": [
    {
     "data": {
      "text/plain": [
       "(102400, 3)"
      ]
     },
     "execution_count": 14,
     "metadata": {},
     "output_type": "execute_result"
    }
   ],
   "source": [
    "reshape_imagen.shape  # data para generar los cluster "
   ]
  },
  {
   "cell_type": "markdown",
   "metadata": {},
   "source": [
    "### Partamos por inicializar nuestro algoritmo KMeans con un k=8 , ¿Qué significará esto?"
   ]
  },
  {
   "cell_type": "code",
   "execution_count": 15,
   "metadata": {},
   "outputs": [
    {
     "data": {
      "text/plain": [
       "KMeans(algorithm='auto', copy_x=True, init='k-means++', max_iter=300,\n",
       "       n_clusters=8, n_init=10, n_jobs=None, precompute_distances='auto',\n",
       "       random_state=None, tol=0.0001, verbose=0)"
      ]
     },
     "execution_count": 15,
     "metadata": {},
     "output_type": "execute_result"
    }
   ],
   "source": [
    "modelo_Kmeans = KMeans(n_clusters = 8)  #instanciar disponer imagen en 16 principales \n",
    "modelo_Kmeans "
   ]
  },
  {
   "cell_type": "code",
   "execution_count": 16,
   "metadata": {},
   "outputs": [
    {
     "data": {
      "text/plain": [
       "KMeans(algorithm='auto', copy_x=True, init='k-means++', max_iter=300,\n",
       "       n_clusters=8, n_init=10, n_jobs=None, precompute_distances='auto',\n",
       "       random_state=None, tol=0.0001, verbose=0)"
      ]
     },
     "execution_count": 16,
     "metadata": {},
     "output_type": "execute_result"
    }
   ],
   "source": [
    "modelo_Kmeans.fit(reshape_imagen) # ajustar con la imagen ya en reshape, esperar \n",
    "modelo_Kmeans"
   ]
  },
  {
   "cell_type": "code",
   "execution_count": 17,
   "metadata": {},
   "outputs": [
    {
     "data": {
      "text/plain": [
       "array([[ 28.65204392,  25.59401536,  42.3729519 ],\n",
       "       [168.09264111,  99.9449869 ,  97.57156466],\n",
       "       [ 85.90799585,  73.86562825,  77.73831776],\n",
       "       [124.43427621,  87.42207432,  90.22610464],\n",
       "       [ 53.67811518,  46.75308901,  54.17403141],\n",
       "       [140.26440988,  54.978957  ,  47.86367795],\n",
       "       [ 24.29985309,  23.01631485,  35.07121318],\n",
       "       [ 87.41450432,  36.53359947,  36.45242848]])"
      ]
     },
     "execution_count": 17,
     "metadata": {},
     "output_type": "execute_result"
    }
   ],
   "source": [
    "modelo_Kmeans.cluster_centers_ # extraer loa centroides de da cluster\n",
    "#modelo_Kmeans.get_params"
   ]
  },
  {
   "cell_type": "code",
   "execution_count": 18,
   "metadata": {},
   "outputs": [
    {
     "data": {
      "text/plain": [
       "(8, 3)"
      ]
     },
     "execution_count": 18,
     "metadata": {},
     "output_type": "execute_result"
    }
   ],
   "source": [
    "modelo_Kmeans.cluster_centers_.shape # dimensiones en los clases (pixeles1,2 y 3 canal RGB)\n",
    "# imagen RGB tiene tres canales: rojo, verde y azul. "
   ]
  },
  {
   "cell_type": "markdown",
   "metadata": {},
   "source": [
    "## Vuelva a implementar el mismo algoritmo con MiniBatchKMeans . ¿Qué diferencia existe con KMeans ?"
   ]
  },
  {
   "cell_type": "code",
   "execution_count": 19,
   "metadata": {},
   "outputs": [
    {
     "data": {
      "text/plain": [
       "MiniBatchKMeans(batch_size=100, compute_labels=True, init='k-means++',\n",
       "                init_size=None, max_iter=100, max_no_improvement=10,\n",
       "                n_clusters=8, n_init=3, random_state=None,\n",
       "                reassignment_ratio=0.01, tol=0.0, verbose=0)"
      ]
     },
     "execution_count": 19,
     "metadata": {},
     "output_type": "execute_result"
    }
   ],
   "source": [
    "modelo_MiniBatchKmeans = MiniBatchKMeans(n_clusters = 8)\n",
    "modelo_MiniBatchKmeans"
   ]
  },
  {
   "cell_type": "code",
   "execution_count": 20,
   "metadata": {},
   "outputs": [
    {
     "data": {
      "text/plain": [
       "MiniBatchKMeans(batch_size=100, compute_labels=True, init='k-means++',\n",
       "                init_size=None, max_iter=100, max_no_improvement=10,\n",
       "                n_clusters=8, n_init=3, random_state=None,\n",
       "                reassignment_ratio=0.01, tol=0.0, verbose=0)"
      ]
     },
     "execution_count": 20,
     "metadata": {},
     "output_type": "execute_result"
    }
   ],
   "source": [
    "modelo_MiniBatchKmeans.fit(reshape_imagen)"
   ]
  },
  {
   "cell_type": "code",
   "execution_count": 21,
   "metadata": {},
   "outputs": [
    {
     "data": {
      "text/plain": [
       "array([[ 22.86988848,  22.24163569,  33.04460967],\n",
       "       [138.75      ,  95.97058824,  94.39705882],\n",
       "       [ 76.26388889,  66.61111111,  72.02777778],\n",
       "       [ 49.6039604 ,  39.2970297 ,  46.18811881],\n",
       "       [121.03448276,  48.        ,  46.37931034],\n",
       "       [174.38888889,  97.87037037,  97.09259259],\n",
       "       [ 27.41587678,  24.757109  ,  40.67180095],\n",
       "       [106.57142857,  80.68253968,  83.03174603]])"
      ]
     },
     "execution_count": 21,
     "metadata": {},
     "output_type": "execute_result"
    }
   ],
   "source": [
    "modelo_MiniBatchKmeans.cluster_centers_"
   ]
  },
  {
   "cell_type": "code",
   "execution_count": 22,
   "metadata": {},
   "outputs": [
    {
     "data": {
      "text/plain": [
       "numpy.ndarray"
      ]
     },
     "execution_count": 22,
     "metadata": {},
     "output_type": "execute_result"
    }
   ],
   "source": [
    "type(modelo_MiniBatchKmeans.cluster_centers_)"
   ]
  },
  {
   "cell_type": "code",
   "execution_count": 23,
   "metadata": {},
   "outputs": [
    {
     "data": {
      "text/plain": [
       "(8, 3)"
      ]
     },
     "execution_count": 23,
     "metadata": {},
     "output_type": "execute_result"
    }
   ],
   "source": [
    "modelo_MiniBatchKmeans.cluster_centers_.shape"
   ]
  },
  {
   "cell_type": "markdown",
   "metadata": {},
   "source": [
    "### Ejercicio 4: Extracción de valores"
   ]
  },
  {
   "cell_type": "markdown",
   "metadata": {},
   "source": [
    "<p style='text-align: justify;'> Ahora extraeremos las etiquetas predichas con $labels_$.</p>\n",
    "\n",
    "* Hasta el momento las etiquetas hacen referencia a cada centroide. Para imputar sentido en éstos, debemos extraer los valores de los centroides.\n",
    "* Para extraer los centroides (valores característicos), utilicemos el atributo $cluster_centers_$.\n",
    "* Con las etiquetas, generaremos un conteo de ocurrencia con __np.unique__. \n",
    "* Para extraer el conteo, debemos implementar la opción __return_counts=True__. \n",
    "\n"
   ]
  },
  {
   "cell_type": "code",
   "execution_count": 24,
   "metadata": {},
   "outputs": [
    {
     "data": {
      "text/plain": [
       "array([[ 28.65204392,  25.59401536,  42.3729519 ],\n",
       "       [168.09264111,  99.9449869 ,  97.57156466],\n",
       "       [ 85.90799585,  73.86562825,  77.73831776],\n",
       "       [124.43427621,  87.42207432,  90.22610464],\n",
       "       [ 53.67811518,  46.75308901,  54.17403141],\n",
       "       [140.26440988,  54.978957  ,  47.86367795],\n",
       "       [ 24.29985309,  23.01631485,  35.07121318],\n",
       "       [ 87.41450432,  36.53359947,  36.45242848]])"
      ]
     },
     "execution_count": 24,
     "metadata": {},
     "output_type": "execute_result"
    }
   ],
   "source": [
    "extract_center_kmeans = modelo_Kmeans.cluster_centers_ # los canales rgd solo funcionan con número enteros\n",
    "extract_center_kmeans"
   ]
  },
  {
   "cell_type": "code",
   "execution_count": 25,
   "metadata": {},
   "outputs": [],
   "source": [
    "new_colors_pred_kmeans = modelo_Kmeans.cluster_centers_[\n",
    "modelo_Kmeans.predict(reshape_imagen)].astype(int)"
   ]
  },
  {
   "cell_type": "code",
   "execution_count": 26,
   "metadata": {},
   "outputs": [
    {
     "data": {
      "text/plain": [
       "array([[28, 25, 42],\n",
       "       [28, 25, 42],\n",
       "       [28, 25, 42],\n",
       "       ...,\n",
       "       [28, 25, 42],\n",
       "       [28, 25, 42],\n",
       "       [28, 25, 42]])"
      ]
     },
     "execution_count": 26,
     "metadata": {},
     "output_type": "execute_result"
    }
   ],
   "source": [
    "new_colors_pred_kmeans"
   ]
  },
  {
   "cell_type": "code",
   "execution_count": 27,
   "metadata": {},
   "outputs": [],
   "source": [
    "unique_kmeans , count_kmeans = np.unique(modelo_Kmeans.labels_,return_counts= True)"
   ]
  },
  {
   "cell_type": "code",
   "execution_count": 28,
   "metadata": {},
   "outputs": [
    {
     "data": {
      "text/plain": [
       "array([0, 1, 2, 3, 4, 5, 6, 7])"
      ]
     },
     "execution_count": 28,
     "metadata": {},
     "output_type": "execute_result"
    }
   ],
   "source": [
    "unique_kmeans # clases son unicas de etiquetas"
   ]
  },
  {
   "cell_type": "code",
   "execution_count": 29,
   "metadata": {},
   "outputs": [
    {
     "data": {
      "text/plain": [
       "array([41807,  4210,  4817,  5403,  4770,  1094, 38799,  1500],\n",
       "      dtype=int64)"
      ]
     },
     "execution_count": 29,
     "metadata": {},
     "output_type": "execute_result"
    }
   ],
   "source": [
    "count_kmeans  # cantidad de ocurrencias de las etiquetas"
   ]
  },
  {
   "cell_type": "code",
   "execution_count": 30,
   "metadata": {},
   "outputs": [
    {
     "data": {
      "text/plain": [
       "(102400,)"
      ]
     },
     "execution_count": 30,
     "metadata": {},
     "output_type": "execute_result"
    }
   ],
   "source": [
    "modelo_Kmeans.labels_.shape  # frecuencia total de ocurrencias"
   ]
  },
  {
   "cell_type": "code",
   "execution_count": 31,
   "metadata": {},
   "outputs": [],
   "source": [
    "extract_center_MiniBatchKmeans = modelo_MiniBatchKmeans.cluster_centers_ # los canales rgd solo funcionan con número enteros\n"
   ]
  },
  {
   "cell_type": "code",
   "execution_count": 32,
   "metadata": {},
   "outputs": [],
   "source": [
    "new_colors_pred_MiniBatchKmeans= modelo_MiniBatchKmeans.cluster_centers_[\n",
    "    modelo_MiniBatchKmeans.predict(reshape_imagen)].astype(int)"
   ]
  },
  {
   "cell_type": "code",
   "execution_count": 33,
   "metadata": {},
   "outputs": [
    {
     "data": {
      "text/plain": [
       "array([[27, 24, 40],\n",
       "       [27, 24, 40],\n",
       "       [27, 24, 40],\n",
       "       ...,\n",
       "       [27, 24, 40],\n",
       "       [27, 24, 40],\n",
       "       [27, 24, 40]])"
      ]
     },
     "execution_count": 33,
     "metadata": {},
     "output_type": "execute_result"
    }
   ],
   "source": [
    "new_colors_pred_MiniBatchKmeans"
   ]
  },
  {
   "cell_type": "code",
   "execution_count": 34,
   "metadata": {},
   "outputs": [],
   "source": [
    "unique_MiniBatchKmeans ,count_MiniBatchKmeans = np.unique(modelo_MiniBatchKmeans.labels_,return_counts= True)"
   ]
  },
  {
   "cell_type": "code",
   "execution_count": 35,
   "metadata": {},
   "outputs": [
    {
     "data": {
      "text/plain": [
       "array([0, 1, 2, 3, 4, 5, 6, 7])"
      ]
     },
     "execution_count": 35,
     "metadata": {},
     "output_type": "execute_result"
    }
   ],
   "source": [
    "unique_MiniBatchKmeans "
   ]
  },
  {
   "cell_type": "code",
   "execution_count": 36,
   "metadata": {},
   "outputs": [
    {
     "data": {
      "text/plain": [
       "array([23702,  3873,  4009,  5950,  1799,  3129, 55398,  4540],\n",
       "      dtype=int64)"
      ]
     },
     "execution_count": 36,
     "metadata": {},
     "output_type": "execute_result"
    }
   ],
   "source": [
    "count_MiniBatchKmeans"
   ]
  },
  {
   "cell_type": "code",
   "execution_count": 37,
   "metadata": {},
   "outputs": [
    {
     "data": {
      "text/plain": [
       "(102400,)"
      ]
     },
     "execution_count": 37,
     "metadata": {},
     "output_type": "execute_result"
    }
   ],
   "source": [
    "#unique # clases son unicas de etiquetas\n",
    "#count  # cantidad de ocurrencias de las etiquetas\n",
    "modelo_MiniBatchKmeans.labels_.shape  # frecuencia total de ocurrencias"
   ]
  },
  {
   "cell_type": "markdown",
   "metadata": {},
   "source": [
    "### Ejercicio 5: Conversión rgb a hex"
   ]
  },
  {
   "cell_type": "markdown",
   "metadata": {},
   "source": [
    "Con los centroides, vamos a convertirlos a formato hexadecimal. Vamos a generar una función y la pasaremos con map por cada centroide."
   ]
  },
  {
   "cell_type": "code",
   "execution_count": 38,
   "metadata": {},
   "outputs": [],
   "source": [
    "def rgb_hex_it(rgb):\n",
    "    tmp = list(map(lambda x: int(x), rgb))\n",
    "    return'#%02x%02x%02x' % (tmp[0], tmp[1], tmp[2])"
   ]
  },
  {
   "cell_type": "code",
   "execution_count": 39,
   "metadata": {},
   "outputs": [
    {
     "data": {
      "text/plain": [
       "['#1c192a',\n",
       " '#a86361',\n",
       " '#55494d',\n",
       " '#7c575a',\n",
       " '#352e36',\n",
       " '#8c362f',\n",
       " '#181723',\n",
       " '#572424']"
      ]
     },
     "execution_count": 39,
     "metadata": {},
     "output_type": "execute_result"
    }
   ],
   "source": [
    "hex_holder_kmeans = list(map(lambda x: rgb_hex_it(x), extract_center_kmeans))\n",
    "hex_holder_kmeans"
   ]
  },
  {
   "cell_type": "code",
   "execution_count": 40,
   "metadata": {},
   "outputs": [
    {
     "data": {
      "text/plain": [
       "array(['#181723', '#1c192a', '#352e36', '#55494d', '#572424', '#7c575a',\n",
       "       '#8c362f', '#a86361'], dtype='<U7')"
      ]
     },
     "execution_count": 40,
     "metadata": {},
     "output_type": "execute_result"
    }
   ],
   "source": [
    "np.unique(hex_holder_kmeans)\n",
    "#type(hex_holder)"
   ]
  },
  {
   "cell_type": "code",
   "execution_count": 41,
   "metadata": {},
   "outputs": [
    {
     "data": {
      "text/plain": [
       "list"
      ]
     },
     "execution_count": 41,
     "metadata": {},
     "output_type": "execute_result"
    }
   ],
   "source": [
    "type(hex_holder_kmeans)"
   ]
  },
  {
   "cell_type": "code",
   "execution_count": 42,
   "metadata": {},
   "outputs": [
    {
     "data": {
      "text/plain": [
       "['#161621',\n",
       " '#8a5f5e',\n",
       " '#4c4248',\n",
       " '#31272e',\n",
       " '#79302e',\n",
       " '#ae6161',\n",
       " '#1b1828',\n",
       " '#6a5053']"
      ]
     },
     "execution_count": 42,
     "metadata": {},
     "output_type": "execute_result"
    }
   ],
   "source": [
    "hex_holder_MiniBatchKmeans = list(map(lambda x: rgb_hex_it(x), extract_center_MiniBatchKmeans))\n",
    "hex_holder_MiniBatchKmeans"
   ]
  },
  {
   "cell_type": "code",
   "execution_count": 43,
   "metadata": {},
   "outputs": [
    {
     "data": {
      "text/plain": [
       "array(['#161621', '#1b1828', '#31272e', '#4c4248', '#6a5053', '#79302e',\n",
       "       '#8a5f5e', '#ae6161'], dtype='<U7')"
      ]
     },
     "execution_count": 43,
     "metadata": {},
     "output_type": "execute_result"
    }
   ],
   "source": [
    "np.unique(hex_holder_MiniBatchKmeans)\n",
    "#type(hex_holder)"
   ]
  },
  {
   "cell_type": "code",
   "execution_count": 44,
   "metadata": {},
   "outputs": [
    {
     "data": {
      "text/html": [
       "<div>\n",
       "<style scoped>\n",
       "    .dataframe tbody tr th:only-of-type {\n",
       "        vertical-align: middle;\n",
       "    }\n",
       "\n",
       "    .dataframe tbody tr th {\n",
       "        vertical-align: top;\n",
       "    }\n",
       "\n",
       "    .dataframe thead th {\n",
       "        text-align: right;\n",
       "    }\n",
       "</style>\n",
       "<table border=\"1\" class=\"dataframe\">\n",
       "  <thead>\n",
       "    <tr style=\"text-align: right;\">\n",
       "      <th></th>\n",
       "      <th>Kmeans</th>\n",
       "      <th>MiniBatchKmeans</th>\n",
       "    </tr>\n",
       "  </thead>\n",
       "  <tbody>\n",
       "    <tr>\n",
       "      <th>0</th>\n",
       "      <td>#1c192a</td>\n",
       "      <td>#161621</td>\n",
       "    </tr>\n",
       "    <tr>\n",
       "      <th>1</th>\n",
       "      <td>#a86361</td>\n",
       "      <td>#8a5f5e</td>\n",
       "    </tr>\n",
       "    <tr>\n",
       "      <th>2</th>\n",
       "      <td>#55494d</td>\n",
       "      <td>#4c4248</td>\n",
       "    </tr>\n",
       "    <tr>\n",
       "      <th>3</th>\n",
       "      <td>#7c575a</td>\n",
       "      <td>#31272e</td>\n",
       "    </tr>\n",
       "    <tr>\n",
       "      <th>4</th>\n",
       "      <td>#352e36</td>\n",
       "      <td>#79302e</td>\n",
       "    </tr>\n",
       "    <tr>\n",
       "      <th>5</th>\n",
       "      <td>#8c362f</td>\n",
       "      <td>#ae6161</td>\n",
       "    </tr>\n",
       "    <tr>\n",
       "      <th>6</th>\n",
       "      <td>#181723</td>\n",
       "      <td>#1b1828</td>\n",
       "    </tr>\n",
       "    <tr>\n",
       "      <th>7</th>\n",
       "      <td>#572424</td>\n",
       "      <td>#6a5053</td>\n",
       "    </tr>\n",
       "  </tbody>\n",
       "</table>\n",
       "</div>"
      ],
      "text/plain": [
       "    Kmeans MiniBatchKmeans\n",
       "0  #1c192a         #161621\n",
       "1  #a86361         #8a5f5e\n",
       "2  #55494d         #4c4248\n",
       "3  #7c575a         #31272e\n",
       "4  #352e36         #79302e\n",
       "5  #8c362f         #ae6161\n",
       "6  #181723         #1b1828\n",
       "7  #572424         #6a5053"
      ]
     },
     "execution_count": 44,
     "metadata": {},
     "output_type": "execute_result"
    }
   ],
   "source": [
    "pd.DataFrame({'Kmeans':hex_holder_kmeans,'MiniBatchKmeans':hex_holder_MiniBatchKmeans})"
   ]
  },
  {
   "cell_type": "markdown",
   "metadata": {},
   "source": [
    "### Ejercicio 6: Definición de base"
   ]
  },
  {
   "cell_type": "markdown",
   "metadata": {},
   "source": [
    "Ahora generaremos un DataFrame con las siguientes variables:\n",
    "* El color hex.\n",
    "* La ocurrencia del color en cada pixel count.\n",
    "* El porcentaje de ocurrencia de cada color respecto a cluster_centers_.\n",
    "* Posteriormente ordenaremos los colores de forma descendente por el porcentaje de ocurrencia"
   ]
  },
  {
   "cell_type": "code",
   "execution_count": 45,
   "metadata": {},
   "outputs": [
    {
     "data": {
      "text/html": [
       "<div>\n",
       "<style scoped>\n",
       "    .dataframe tbody tr th:only-of-type {\n",
       "        vertical-align: middle;\n",
       "    }\n",
       "\n",
       "    .dataframe tbody tr th {\n",
       "        vertical-align: top;\n",
       "    }\n",
       "\n",
       "    .dataframe thead th {\n",
       "        text-align: right;\n",
       "    }\n",
       "</style>\n",
       "<table border=\"1\" class=\"dataframe\">\n",
       "  <thead>\n",
       "    <tr style=\"text-align: right;\">\n",
       "      <th></th>\n",
       "      <th>0</th>\n",
       "      <th>1</th>\n",
       "    </tr>\n",
       "  </thead>\n",
       "  <tbody>\n",
       "    <tr>\n",
       "      <th>0</th>\n",
       "      <td>#1c192a</td>\n",
       "      <td>41807</td>\n",
       "    </tr>\n",
       "    <tr>\n",
       "      <th>1</th>\n",
       "      <td>#a86361</td>\n",
       "      <td>4210</td>\n",
       "    </tr>\n",
       "    <tr>\n",
       "      <th>2</th>\n",
       "      <td>#55494d</td>\n",
       "      <td>4817</td>\n",
       "    </tr>\n",
       "    <tr>\n",
       "      <th>3</th>\n",
       "      <td>#7c575a</td>\n",
       "      <td>5403</td>\n",
       "    </tr>\n",
       "    <tr>\n",
       "      <th>4</th>\n",
       "      <td>#352e36</td>\n",
       "      <td>4770</td>\n",
       "    </tr>\n",
       "    <tr>\n",
       "      <th>5</th>\n",
       "      <td>#8c362f</td>\n",
       "      <td>1094</td>\n",
       "    </tr>\n",
       "    <tr>\n",
       "      <th>6</th>\n",
       "      <td>#181723</td>\n",
       "      <td>38799</td>\n",
       "    </tr>\n",
       "    <tr>\n",
       "      <th>7</th>\n",
       "      <td>#572424</td>\n",
       "      <td>1500</td>\n",
       "    </tr>\n",
       "  </tbody>\n",
       "</table>\n",
       "</div>"
      ],
      "text/plain": [
       "         0      1\n",
       "0  #1c192a  41807\n",
       "1  #a86361   4210\n",
       "2  #55494d   4817\n",
       "3  #7c575a   5403\n",
       "4  #352e36   4770\n",
       "5  #8c362f   1094\n",
       "6  #181723  38799\n",
       "7  #572424   1500"
      ]
     },
     "execution_count": 45,
     "metadata": {},
     "output_type": "execute_result"
    }
   ],
   "source": [
    "Base_kmeans = pd.concat([pd.Series(hex_holder_kmeans),pd.Series(count_kmeans)], axis=1)\n",
    "Base_kmeans\n"
   ]
  },
  {
   "cell_type": "code",
   "execution_count": 46,
   "metadata": {},
   "outputs": [
    {
     "data": {
      "text/html": [
       "<div>\n",
       "<style scoped>\n",
       "    .dataframe tbody tr th:only-of-type {\n",
       "        vertical-align: middle;\n",
       "    }\n",
       "\n",
       "    .dataframe tbody tr th {\n",
       "        vertical-align: top;\n",
       "    }\n",
       "\n",
       "    .dataframe thead th {\n",
       "        text-align: right;\n",
       "    }\n",
       "</style>\n",
       "<table border=\"1\" class=\"dataframe\">\n",
       "  <thead>\n",
       "    <tr style=\"text-align: right;\">\n",
       "      <th></th>\n",
       "      <th>hex</th>\n",
       "      <th>count</th>\n",
       "    </tr>\n",
       "  </thead>\n",
       "  <tbody>\n",
       "    <tr>\n",
       "      <th>0</th>\n",
       "      <td>#1c192a</td>\n",
       "      <td>41807</td>\n",
       "    </tr>\n",
       "    <tr>\n",
       "      <th>1</th>\n",
       "      <td>#a86361</td>\n",
       "      <td>4210</td>\n",
       "    </tr>\n",
       "    <tr>\n",
       "      <th>2</th>\n",
       "      <td>#55494d</td>\n",
       "      <td>4817</td>\n",
       "    </tr>\n",
       "    <tr>\n",
       "      <th>3</th>\n",
       "      <td>#7c575a</td>\n",
       "      <td>5403</td>\n",
       "    </tr>\n",
       "    <tr>\n",
       "      <th>4</th>\n",
       "      <td>#352e36</td>\n",
       "      <td>4770</td>\n",
       "    </tr>\n",
       "    <tr>\n",
       "      <th>5</th>\n",
       "      <td>#8c362f</td>\n",
       "      <td>1094</td>\n",
       "    </tr>\n",
       "    <tr>\n",
       "      <th>6</th>\n",
       "      <td>#181723</td>\n",
       "      <td>38799</td>\n",
       "    </tr>\n",
       "    <tr>\n",
       "      <th>7</th>\n",
       "      <td>#572424</td>\n",
       "      <td>1500</td>\n",
       "    </tr>\n",
       "  </tbody>\n",
       "</table>\n",
       "</div>"
      ],
      "text/plain": [
       "       hex  count\n",
       "0  #1c192a  41807\n",
       "1  #a86361   4210\n",
       "2  #55494d   4817\n",
       "3  #7c575a   5403\n",
       "4  #352e36   4770\n",
       "5  #8c362f   1094\n",
       "6  #181723  38799\n",
       "7  #572424   1500"
      ]
     },
     "execution_count": 46,
     "metadata": {},
     "output_type": "execute_result"
    }
   ],
   "source": [
    "Base_kmeans.columns =['hex', 'count']\n",
    "Base_kmeans\n"
   ]
  },
  {
   "cell_type": "code",
   "execution_count": 47,
   "metadata": {},
   "outputs": [
    {
     "data": {
      "text/html": [
       "<div>\n",
       "<style scoped>\n",
       "    .dataframe tbody tr th:only-of-type {\n",
       "        vertical-align: middle;\n",
       "    }\n",
       "\n",
       "    .dataframe tbody tr th {\n",
       "        vertical-align: top;\n",
       "    }\n",
       "\n",
       "    .dataframe thead th {\n",
       "        text-align: right;\n",
       "    }\n",
       "</style>\n",
       "<table border=\"1\" class=\"dataframe\">\n",
       "  <thead>\n",
       "    <tr style=\"text-align: right;\">\n",
       "      <th></th>\n",
       "      <th>hex</th>\n",
       "      <th>count</th>\n",
       "      <th>percentage</th>\n",
       "    </tr>\n",
       "  </thead>\n",
       "  <tbody>\n",
       "    <tr>\n",
       "      <th>0</th>\n",
       "      <td>#1c192a</td>\n",
       "      <td>41807</td>\n",
       "      <td>0.408271</td>\n",
       "    </tr>\n",
       "    <tr>\n",
       "      <th>1</th>\n",
       "      <td>#a86361</td>\n",
       "      <td>4210</td>\n",
       "      <td>0.041113</td>\n",
       "    </tr>\n",
       "    <tr>\n",
       "      <th>2</th>\n",
       "      <td>#55494d</td>\n",
       "      <td>4817</td>\n",
       "      <td>0.047041</td>\n",
       "    </tr>\n",
       "    <tr>\n",
       "      <th>3</th>\n",
       "      <td>#7c575a</td>\n",
       "      <td>5403</td>\n",
       "      <td>0.052764</td>\n",
       "    </tr>\n",
       "    <tr>\n",
       "      <th>4</th>\n",
       "      <td>#352e36</td>\n",
       "      <td>4770</td>\n",
       "      <td>0.046582</td>\n",
       "    </tr>\n",
       "    <tr>\n",
       "      <th>5</th>\n",
       "      <td>#8c362f</td>\n",
       "      <td>1094</td>\n",
       "      <td>0.010684</td>\n",
       "    </tr>\n",
       "    <tr>\n",
       "      <th>6</th>\n",
       "      <td>#181723</td>\n",
       "      <td>38799</td>\n",
       "      <td>0.378896</td>\n",
       "    </tr>\n",
       "    <tr>\n",
       "      <th>7</th>\n",
       "      <td>#572424</td>\n",
       "      <td>1500</td>\n",
       "      <td>0.014648</td>\n",
       "    </tr>\n",
       "  </tbody>\n",
       "</table>\n",
       "</div>"
      ],
      "text/plain": [
       "       hex  count  percentage\n",
       "0  #1c192a  41807    0.408271\n",
       "1  #a86361   4210    0.041113\n",
       "2  #55494d   4817    0.047041\n",
       "3  #7c575a   5403    0.052764\n",
       "4  #352e36   4770    0.046582\n",
       "5  #8c362f   1094    0.010684\n",
       "6  #181723  38799    0.378896\n",
       "7  #572424   1500    0.014648"
      ]
     },
     "execution_count": 47,
     "metadata": {},
     "output_type": "execute_result"
    }
   ],
   "source": [
    "Base_kmeans ['percentage'] = Base_kmeans['count'] /np.sum(Base_kmeans['count'])\n",
    "Base_kmeans "
   ]
  },
  {
   "cell_type": "code",
   "execution_count": 48,
   "metadata": {},
   "outputs": [
    {
     "data": {
      "text/html": [
       "<div>\n",
       "<style scoped>\n",
       "    .dataframe tbody tr th:only-of-type {\n",
       "        vertical-align: middle;\n",
       "    }\n",
       "\n",
       "    .dataframe tbody tr th {\n",
       "        vertical-align: top;\n",
       "    }\n",
       "\n",
       "    .dataframe thead th {\n",
       "        text-align: right;\n",
       "    }\n",
       "</style>\n",
       "<table border=\"1\" class=\"dataframe\">\n",
       "  <thead>\n",
       "    <tr style=\"text-align: right;\">\n",
       "      <th></th>\n",
       "      <th>hex</th>\n",
       "      <th>count</th>\n",
       "      <th>percentage</th>\n",
       "    </tr>\n",
       "  </thead>\n",
       "  <tbody>\n",
       "    <tr>\n",
       "      <th>0</th>\n",
       "      <td>#1c192a</td>\n",
       "      <td>41807</td>\n",
       "      <td>0.408271</td>\n",
       "    </tr>\n",
       "    <tr>\n",
       "      <th>6</th>\n",
       "      <td>#181723</td>\n",
       "      <td>38799</td>\n",
       "      <td>0.378896</td>\n",
       "    </tr>\n",
       "    <tr>\n",
       "      <th>3</th>\n",
       "      <td>#7c575a</td>\n",
       "      <td>5403</td>\n",
       "      <td>0.052764</td>\n",
       "    </tr>\n",
       "    <tr>\n",
       "      <th>2</th>\n",
       "      <td>#55494d</td>\n",
       "      <td>4817</td>\n",
       "      <td>0.047041</td>\n",
       "    </tr>\n",
       "    <tr>\n",
       "      <th>4</th>\n",
       "      <td>#352e36</td>\n",
       "      <td>4770</td>\n",
       "      <td>0.046582</td>\n",
       "    </tr>\n",
       "    <tr>\n",
       "      <th>1</th>\n",
       "      <td>#a86361</td>\n",
       "      <td>4210</td>\n",
       "      <td>0.041113</td>\n",
       "    </tr>\n",
       "    <tr>\n",
       "      <th>7</th>\n",
       "      <td>#572424</td>\n",
       "      <td>1500</td>\n",
       "      <td>0.014648</td>\n",
       "    </tr>\n",
       "    <tr>\n",
       "      <th>5</th>\n",
       "      <td>#8c362f</td>\n",
       "      <td>1094</td>\n",
       "      <td>0.010684</td>\n",
       "    </tr>\n",
       "  </tbody>\n",
       "</table>\n",
       "</div>"
      ],
      "text/plain": [
       "       hex  count  percentage\n",
       "0  #1c192a  41807    0.408271\n",
       "6  #181723  38799    0.378896\n",
       "3  #7c575a   5403    0.052764\n",
       "2  #55494d   4817    0.047041\n",
       "4  #352e36   4770    0.046582\n",
       "1  #a86361   4210    0.041113\n",
       "7  #572424   1500    0.014648\n",
       "5  #8c362f   1094    0.010684"
      ]
     },
     "execution_count": 48,
     "metadata": {},
     "output_type": "execute_result"
    }
   ],
   "source": [
    "Base_kmeans  = Base_kmeans.sort_values(by= 'percentage', ascending= False)\n",
    "Base_kmeans "
   ]
  },
  {
   "cell_type": "code",
   "execution_count": 49,
   "metadata": {},
   "outputs": [
    {
     "data": {
      "text/html": [
       "<div>\n",
       "<style scoped>\n",
       "    .dataframe tbody tr th:only-of-type {\n",
       "        vertical-align: middle;\n",
       "    }\n",
       "\n",
       "    .dataframe tbody tr th {\n",
       "        vertical-align: top;\n",
       "    }\n",
       "\n",
       "    .dataframe thead th {\n",
       "        text-align: right;\n",
       "    }\n",
       "</style>\n",
       "<table border=\"1\" class=\"dataframe\">\n",
       "  <thead>\n",
       "    <tr style=\"text-align: right;\">\n",
       "      <th></th>\n",
       "      <th>hex</th>\n",
       "      <th>count</th>\n",
       "      <th>percentage</th>\n",
       "    </tr>\n",
       "  </thead>\n",
       "  <tbody>\n",
       "    <tr>\n",
       "      <th>6</th>\n",
       "      <td>#1b1828</td>\n",
       "      <td>55398</td>\n",
       "      <td>0.540996</td>\n",
       "    </tr>\n",
       "    <tr>\n",
       "      <th>0</th>\n",
       "      <td>#161621</td>\n",
       "      <td>23702</td>\n",
       "      <td>0.231465</td>\n",
       "    </tr>\n",
       "    <tr>\n",
       "      <th>3</th>\n",
       "      <td>#31272e</td>\n",
       "      <td>5950</td>\n",
       "      <td>0.058105</td>\n",
       "    </tr>\n",
       "    <tr>\n",
       "      <th>7</th>\n",
       "      <td>#6a5053</td>\n",
       "      <td>4540</td>\n",
       "      <td>0.044336</td>\n",
       "    </tr>\n",
       "    <tr>\n",
       "      <th>2</th>\n",
       "      <td>#4c4248</td>\n",
       "      <td>4009</td>\n",
       "      <td>0.039150</td>\n",
       "    </tr>\n",
       "    <tr>\n",
       "      <th>1</th>\n",
       "      <td>#8a5f5e</td>\n",
       "      <td>3873</td>\n",
       "      <td>0.037822</td>\n",
       "    </tr>\n",
       "    <tr>\n",
       "      <th>5</th>\n",
       "      <td>#ae6161</td>\n",
       "      <td>3129</td>\n",
       "      <td>0.030557</td>\n",
       "    </tr>\n",
       "    <tr>\n",
       "      <th>4</th>\n",
       "      <td>#79302e</td>\n",
       "      <td>1799</td>\n",
       "      <td>0.017568</td>\n",
       "    </tr>\n",
       "  </tbody>\n",
       "</table>\n",
       "</div>"
      ],
      "text/plain": [
       "       hex  count  percentage\n",
       "6  #1b1828  55398    0.540996\n",
       "0  #161621  23702    0.231465\n",
       "3  #31272e   5950    0.058105\n",
       "7  #6a5053   4540    0.044336\n",
       "2  #4c4248   4009    0.039150\n",
       "1  #8a5f5e   3873    0.037822\n",
       "5  #ae6161   3129    0.030557\n",
       "4  #79302e   1799    0.017568"
      ]
     },
     "execution_count": 49,
     "metadata": {},
     "output_type": "execute_result"
    }
   ],
   "source": [
    "Base_MiniBatchKmeans = pd.concat([pd.Series(hex_holder_MiniBatchKmeans),pd.Series(count_MiniBatchKmeans)], axis=1)\n",
    "\n",
    "Base_MiniBatchKmeans.columns =['hex', 'count']\n",
    "\n",
    "Base_MiniBatchKmeans ['percentage'] = Base_MiniBatchKmeans['count'] /np.sum(Base_MiniBatchKmeans['count'])\n",
    "Base_MiniBatchKmeans = Base_MiniBatchKmeans.sort_values(by= 'percentage', ascending= False)\n",
    "Base_MiniBatchKmeans"
   ]
  },
  {
   "cell_type": "markdown",
   "metadata": {},
   "source": [
    "### Ejercicio 7: Visualización"
   ]
  },
  {
   "cell_type": "markdown",
   "metadata": {},
   "source": [
    "Genere un gráfico de barras donde presente el porcentaje de cada color. Las barras deben estar coloreadas con el color inferido."
   ]
  },
  {
   "cell_type": "code",
   "execution_count": 50,
   "metadata": {},
   "outputs": [
    {
     "data": {
      "image/png": "[encoded data removed]",
      "text/plain": [
       "<Figure size 432x288 with 1 Axes>"
      ]
     },
     "metadata": {
      "needs_background": "light"
     },
     "output_type": "display_data"
    }
   ],
   "source": [
    "plt.barh(Base_kmeans['hex'], Base_kmeans['percentage'], color =Base_kmeans['hex']);\n"
   ]
  },
  {
   "cell_type": "code",
   "execution_count": 51,
   "metadata": {},
   "outputs": [
    {
     "data": {
      "image/png": "[encoded data removed]",
      "text/plain": [
       "<Figure size 432x288 with 1 Axes>"
      ]
     },
     "metadata": {
      "needs_background": "light"
     },
     "output_type": "display_data"
    }
   ],
   "source": [
    "plt.barh(Base_MiniBatchKmeans['hex'], Base_MiniBatchKmeans['percentage'], color =Base_MiniBatchKmeans['hex']);"
   ]
  },
  {
   "cell_type": "markdown",
   "metadata": {},
   "source": [
    "### Bonus point: envuelva todo en una función"
   ]
  },
  {
   "cell_type": "code",
   "execution_count": 52,
   "metadata": {},
   "outputs": [],
   "source": [
    "# esta es la tarea que deben hacer"
   ]
  }
 ],
 "metadata": {
  "kernelspec": {
   "display_name": "Python 3",
   "language": "python",
   "name": "python3"
  },
  "language_info": {
   "codemirror_mode": {
    "name": "ipython",
    "version": 3
   },
   "file_extension": ".py",
   "mimetype": "text/x-python",
   "name": "python",
   "nbconvert_exporter": "python",
   "pygments_lexer": "ipython3",
   "version": "3.7.4"
  }
 },
 "nbformat": 4,
 "nbformat_minor": 2
}
