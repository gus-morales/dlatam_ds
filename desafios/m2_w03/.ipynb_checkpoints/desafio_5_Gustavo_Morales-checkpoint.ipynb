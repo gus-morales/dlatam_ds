{
 "cells": [
  {
   "cell_type": "markdown",
   "metadata": {},
   "source": [
    "# Desafío Lunes Semana 23 - Gráficos"
   ]
  },
  {
   "cell_type": "markdown",
   "metadata": {},
   "source": [
    "#### Gustavo Morales, G10 - 23.Sep.2019"
   ]
  },
  {
   "cell_type": "markdown",
   "metadata": {},
   "source": [
    "### Ejercicio 1"
   ]
  },
  {
   "cell_type": "code",
   "execution_count": 7,
   "metadata": {},
   "outputs": [],
   "source": [
    "import pandas as pd\n",
    "import numpy as np\n",
    "import matplotlib.pyplot as plt"
   ]
  },
  {
   "cell_type": "code",
   "execution_count": 8,
   "metadata": {},
   "outputs": [],
   "source": [
    "fname = \"qog_std_cs_jan18.csv\"\n",
    "df = pd.read_csv(fname)"
   ]
  },
  {
   "cell_type": "code",
   "execution_count": 9,
   "metadata": {},
   "outputs": [],
   "source": [
    "random_seed = 382  # RUT ends in 038-2"
   ]
  },
  {
   "cell_type": "code",
   "execution_count": 10,
   "metadata": {},
   "outputs": [],
   "source": [
    "df_sample = df[['cname',\n",
    "                'undp_hdi',\n",
    "                'ccodealp',\n",
    "                'ht_region',\n",
    "                'gle_cgdpc',\n",
    "                'imf_pop',\n",
    "                'ffp_hf',\n",
    "                'wef_qes',\n",
    "                'wdi_expedu',\n",
    "                'wdi_ners']].sample(frac=0.5, random_state=random_seed)"
   ]
  },
  {
   "cell_type": "code",
   "execution_count": 11,
   "metadata": {},
   "outputs": [],
   "source": [
    "df_sample['region'] = df_sample['ht_region'].replace(\n",
    "            [1, 2, 3, 4, 5, 6, 7, 8, 9, 10],\n",
    "            ['EastEurope', 'LatAm', 'NorthAfrica', 'SubSaharian', 'WesternDem',\n",
    "             'EastAsia', 'SouthEastAsia', 'SouthAsia', 'Pacific', 'Caribbean']\n",
    ")"
   ]
  },
  {
   "cell_type": "markdown",
   "metadata": {},
   "source": [
    "**(R)** El objeto `Pandas` a utilizar en el siguiente ejercicio es:"
   ]
  },
  {
   "cell_type": "code",
   "execution_count": 64,
   "metadata": {},
   "outputs": [
    {
     "name": "stdout",
     "output_type": "stream",
     "text": [
      "<class 'pandas.core.frame.DataFrame'>\n",
      "Int64Index: 97 entries, 149 to 141\n",
      "Data columns (total 11 columns):\n",
      "cname         97 non-null object\n",
      "undp_hdi      94 non-null float64\n",
      "ccodealp      97 non-null object\n",
      "ht_region     97 non-null int64\n",
      "gle_cgdpc     95 non-null float64\n",
      "imf_pop       79 non-null float64\n",
      "ffp_hf        87 non-null float64\n",
      "wef_qes       76 non-null float64\n",
      "wdi_expedu    77 non-null float64\n",
      "wdi_ners      65 non-null float64\n",
      "region        97 non-null object\n",
      "dtypes: float64(7), int64(1), object(3)\n",
      "memory usage: 9.1+ KB\n"
     ]
    }
   ],
   "source": [
    "df_sample.info()"
   ]
  },
  {
   "cell_type": "markdown",
   "metadata": {},
   "source": [
    "### Ejercicio 2"
   ]
  },
  {
   "cell_type": "code",
   "execution_count": 34,
   "metadata": {},
   "outputs": [
    {
     "data": {
      "text/plain": [
       "['cname',\n",
       " 'undp_hdi',\n",
       " 'ccodealp',\n",
       " 'ht_region',\n",
       " 'gle_cgdpc',\n",
       " 'imf_pop',\n",
       " 'ffp_hf',\n",
       " 'wef_qes',\n",
       " 'wdi_expedu',\n",
       " 'wdi_ners',\n",
       " 'region']"
      ]
     },
     "execution_count": 34,
     "metadata": {},
     "output_type": "execute_result"
    }
   ],
   "source": [
    "df_sample.columns.tolist()"
   ]
  },
  {
   "cell_type": "markdown",
   "metadata": {},
   "source": [
    "Variables continuas: `undp_hdi`, `gle_cgdpc`, `imf_pop`, `ffp_hf`, `wef_qes`, `wdi_expedu`, `wdi_ners`.\n",
    "\n",
    "Variables discretas: `cname`, `ccodealp`, `region`."
   ]
  },
  {
   "cell_type": "code",
   "execution_count": 68,
   "metadata": {},
   "outputs": [],
   "source": [
    "def compute_stats(dataframe):\n",
    "    dataframe_numeric = dataframe.select_dtypes(exclude=['object'])\n",
    "    dataframe_categor = dataframe.select_dtypes(exclude=['numeric'])\n",
    "    pd.options.display.float_format = \"{:.1f}\".format\n",
    "    print(dataframe_numeric.describe())\n",
    "    \n",
    "    #for var in dataframe_disc.columns.tolist():\n",
    "    #    print(dataframe_disc[var].value_counts())\n",
    "    "
   ]
  },
  {
   "cell_type": "code",
   "execution_count": 69,
   "metadata": {},
   "outputs": [
    {
     "ename": "TypeError",
     "evalue": "data type \"numeric\" not understood",
     "output_type": "error",
     "traceback": [
      "\u001b[0;31m---------------\u001b[0m",
      "\u001b[0;31mTypeError\u001b[0mTraceback (most recent call last)",
      "\u001b[0;32m<ipython-input-69-6486c96cf96f>\u001b[0m in \u001b[0;36m<module>\u001b[0;34m\u001b[0m\n\u001b[0;32m----> 1\u001b[0;31m \u001b[0mcompute_stats\u001b[0m\u001b[0;34m(\u001b[0m\u001b[0mdf_sample\u001b[0m\u001b[0;34m)\u001b[0m\u001b[0;34m\u001b[0m\u001b[0;34m\u001b[0m\u001b[0m\n\u001b[0m",
      "\u001b[0;32m<ipython-input-68-9c37defa7403>\u001b[0m in \u001b[0;36mcompute_stats\u001b[0;34m(dataframe)\u001b[0m\n\u001b[1;32m      1\u001b[0m \u001b[0;32mdef\u001b[0m \u001b[0mcompute_stats\u001b[0m\u001b[0;34m(\u001b[0m\u001b[0mdataframe\u001b[0m\u001b[0;34m)\u001b[0m\u001b[0;34m:\u001b[0m\u001b[0;34m\u001b[0m\u001b[0;34m\u001b[0m\u001b[0m\n\u001b[1;32m      2\u001b[0m     \u001b[0mdataframe_numeric\u001b[0m \u001b[0;34m=\u001b[0m \u001b[0mdataframe\u001b[0m\u001b[0;34m.\u001b[0m\u001b[0mselect_dtypes\u001b[0m\u001b[0;34m(\u001b[0m\u001b[0mexclude\u001b[0m\u001b[0;34m=\u001b[0m\u001b[0;34m[\u001b[0m\u001b[0;34m'object'\u001b[0m\u001b[0;34m]\u001b[0m\u001b[0;34m)\u001b[0m\u001b[0;34m\u001b[0m\u001b[0;34m\u001b[0m\u001b[0m\n\u001b[0;32m----> 3\u001b[0;31m     \u001b[0mdataframe_categor\u001b[0m \u001b[0;34m=\u001b[0m \u001b[0mdataframe\u001b[0m\u001b[0;34m.\u001b[0m\u001b[0mselect_dtypes\u001b[0m\u001b[0;34m(\u001b[0m\u001b[0mexclude\u001b[0m\u001b[0;34m=\u001b[0m\u001b[0;34m[\u001b[0m\u001b[0;34m'numeric'\u001b[0m\u001b[0;34m]\u001b[0m\u001b[0;34m)\u001b[0m\u001b[0;34m\u001b[0m\u001b[0;34m\u001b[0m\u001b[0m\n\u001b[0m\u001b[1;32m      4\u001b[0m     \u001b[0mpd\u001b[0m\u001b[0;34m.\u001b[0m\u001b[0moptions\u001b[0m\u001b[0;34m.\u001b[0m\u001b[0mdisplay\u001b[0m\u001b[0;34m.\u001b[0m\u001b[0mfloat_format\u001b[0m \u001b[0;34m=\u001b[0m \u001b[0;34m\"{:.1f}\"\u001b[0m\u001b[0;34m.\u001b[0m\u001b[0mformat\u001b[0m\u001b[0;34m\u001b[0m\u001b[0;34m\u001b[0m\u001b[0m\n\u001b[1;32m      5\u001b[0m     \u001b[0mprint\u001b[0m\u001b[0;34m(\u001b[0m\u001b[0mdataframe_numeric\u001b[0m\u001b[0;34m.\u001b[0m\u001b[0mdescribe\u001b[0m\u001b[0;34m(\u001b[0m\u001b[0;34m)\u001b[0m\u001b[0;34m)\u001b[0m\u001b[0;34m\u001b[0m\u001b[0;34m\u001b[0m\u001b[0m\n",
      "\u001b[0;32m~/.virtualenvs/dlatam_ds/lib/python3.7/site-packages/pandas/core/frame.py\u001b[0m in \u001b[0;36mselect_dtypes\u001b[0;34m(self, include, exclude)\u001b[0m\n\u001b[1;32m   3396\u001b[0m         \u001b[0;31m# convert the myriad valid dtypes object to a single representation\u001b[0m\u001b[0;34m\u001b[0m\u001b[0;34m\u001b[0m\u001b[0;34m\u001b[0m\u001b[0m\n\u001b[1;32m   3397\u001b[0m         include, exclude = map(\n\u001b[0;32m-> 3398\u001b[0;31m             \u001b[0;32mlambda\u001b[0m \u001b[0mx\u001b[0m\u001b[0;34m:\u001b[0m \u001b[0mfrozenset\u001b[0m\u001b[0;34m(\u001b[0m\u001b[0mmap\u001b[0m\u001b[0;34m(\u001b[0m\u001b[0minfer_dtype_from_object\u001b[0m\u001b[0;34m,\u001b[0m \u001b[0mx\u001b[0m\u001b[0;34m)\u001b[0m\u001b[0;34m)\u001b[0m\u001b[0;34m,\u001b[0m \u001b[0mselection\u001b[0m\u001b[0;34m\u001b[0m\u001b[0;34m\u001b[0m\u001b[0m\n\u001b[0m\u001b[1;32m   3399\u001b[0m         )\n\u001b[1;32m   3400\u001b[0m         \u001b[0;32mfor\u001b[0m \u001b[0mdtypes\u001b[0m \u001b[0;32min\u001b[0m \u001b[0;34m(\u001b[0m\u001b[0minclude\u001b[0m\u001b[0;34m,\u001b[0m \u001b[0mexclude\u001b[0m\u001b[0;34m)\u001b[0m\u001b[0;34m:\u001b[0m\u001b[0;34m\u001b[0m\u001b[0;34m\u001b[0m\u001b[0m\n",
      "\u001b[0;32m~/.virtualenvs/dlatam_ds/lib/python3.7/site-packages/pandas/core/frame.py\u001b[0m in \u001b[0;36m<lambda>\u001b[0;34m(x)\u001b[0m\n\u001b[1;32m   3396\u001b[0m         \u001b[0;31m# convert the myriad valid dtypes object to a single representation\u001b[0m\u001b[0;34m\u001b[0m\u001b[0;34m\u001b[0m\u001b[0;34m\u001b[0m\u001b[0m\n\u001b[1;32m   3397\u001b[0m         include, exclude = map(\n\u001b[0;32m-> 3398\u001b[0;31m             \u001b[0;32mlambda\u001b[0m \u001b[0mx\u001b[0m\u001b[0;34m:\u001b[0m \u001b[0mfrozenset\u001b[0m\u001b[0;34m(\u001b[0m\u001b[0mmap\u001b[0m\u001b[0;34m(\u001b[0m\u001b[0minfer_dtype_from_object\u001b[0m\u001b[0;34m,\u001b[0m \u001b[0mx\u001b[0m\u001b[0;34m)\u001b[0m\u001b[0;34m)\u001b[0m\u001b[0;34m,\u001b[0m \u001b[0mselection\u001b[0m\u001b[0;34m\u001b[0m\u001b[0;34m\u001b[0m\u001b[0m\n\u001b[0m\u001b[1;32m   3399\u001b[0m         )\n\u001b[1;32m   3400\u001b[0m         \u001b[0;32mfor\u001b[0m \u001b[0mdtypes\u001b[0m \u001b[0;32min\u001b[0m \u001b[0;34m(\u001b[0m\u001b[0minclude\u001b[0m\u001b[0;34m,\u001b[0m \u001b[0mexclude\u001b[0m\u001b[0;34m)\u001b[0m\u001b[0;34m:\u001b[0m\u001b[0;34m\u001b[0m\u001b[0;34m\u001b[0m\u001b[0m\n",
      "\u001b[0;32m~/.virtualenvs/dlatam_ds/lib/python3.7/site-packages/pandas/core/dtypes/common.py\u001b[0m in \u001b[0;36minfer_dtype_from_object\u001b[0;34m(dtype)\u001b[0m\n\u001b[1;32m   1990\u001b[0m             \u001b[0;32mpass\u001b[0m\u001b[0;34m\u001b[0m\u001b[0;34m\u001b[0m\u001b[0m\n\u001b[1;32m   1991\u001b[0m \u001b[0;34m\u001b[0m\u001b[0m\n\u001b[0;32m-> 1992\u001b[0;31m     \u001b[0;32mreturn\u001b[0m \u001b[0minfer_dtype_from_object\u001b[0m\u001b[0;34m(\u001b[0m\u001b[0mnp\u001b[0m\u001b[0;34m.\u001b[0m\u001b[0mdtype\u001b[0m\u001b[0;34m(\u001b[0m\u001b[0mdtype\u001b[0m\u001b[0;34m)\u001b[0m\u001b[0;34m)\u001b[0m\u001b[0;34m\u001b[0m\u001b[0;34m\u001b[0m\u001b[0m\n\u001b[0m\u001b[1;32m   1993\u001b[0m \u001b[0;34m\u001b[0m\u001b[0m\n\u001b[1;32m   1994\u001b[0m \u001b[0;34m\u001b[0m\u001b[0m\n",
      "\u001b[0;31mTypeError\u001b[0m: data type \"numeric\" not understood"
     ]
    }
   ],
   "source": [
    "compute_stats(df_sample)"
   ]
  },
  {
   "cell_type": "code",
   "execution_count": null,
   "metadata": {},
   "outputs": [],
   "source": [
    "df_sample[['undp_hdi',\n",
    "           'gle_cgdpc',\n",
    "           'imf_pop',\n",
    "           'ffp_hf',\n",
    "           'wef_qes',\n",
    "           'wdi_expedu',\n",
    "           'wdi_ners']].describe()"
   ]
  },
  {
   "cell_type": "markdown",
   "metadata": {},
   "source": [
    "Y para las frecuencias (no tiene mucho sentido hacerlo para `ccodealp` porque son valores únicos, pero ahí va):"
   ]
  },
  {
   "cell_type": "code",
   "execution_count": null,
   "metadata": {},
   "outputs": [],
   "source": [
    "df_sample['region'].value_counts()"
   ]
  },
  {
   "cell_type": "code",
   "execution_count": null,
   "metadata": {},
   "outputs": [],
   "source": [
    "df_sample['ccodealp'].value_counts()"
   ]
  },
  {
   "cell_type": "markdown",
   "metadata": {},
   "source": [
    "### Comparación con compañeros: TODO"
   ]
  },
  {
   "cell_type": "markdown",
   "metadata": {},
   "source": [
    "### Ejercicio 3"
   ]
  },
  {
   "cell_type": "code",
   "execution_count": null,
   "metadata": {},
   "outputs": [],
   "source": [
    "def get_na(dataframe, var, print_list=False):\n",
    "    \"\"\"Returns the quantity and fraction of the 'dataframe' where the input variable 'var' is NaN.\n",
    "    If asked for, returns the 'dataframe' indices of such cases instead.\n",
    "    \"\"\"\n",
    "    na_df = dataframe[var].isna()\n",
    "    \n",
    "    # here 'ascending' is set to False to not change the output ordering\n",
    "    na_quantity = na_df.value_counts(ascending=False)\n",
    "    na_fraction = na_df.value_counts('%', ascending=False)\n",
    "    if print_list:\n",
    "        return dataframe[dataframe[var].isna()][var]\n",
    "    \n",
    "    \"\"\"\n",
    "    I have no idea how to force value_counts() to not drop an index\n",
    "    when one boolean frequency is zero, so I will cover all cases.\n",
    "    I also do not remember how to select by non-integer index, so I had to\n",
    "    turn off sorting above and select using iloc.\n",
    "    \"\"\"\n",
    "    \n",
    "    # if SOME values are NaN\n",
    "    if len(na_quantity)>1 and print_list==False:\n",
    "        return var, na_quantity.iloc[1], na_fraction.iloc[1]\n",
    "    # if everything is NaN\n",
    "    if len(na_quantity)==1 and na_df.value_counts().index[0]==True and print_list==False:\n",
    "        return var, na_quantity.iloc[0], na_fraction.iloc[0]\n",
    "    # if nothing is NaN\n",
    "    if len(na_quantity)==1 and na_df.value_counts().index[0]==False and print_list==False:\n",
    "        return var, 0 , 0"
   ]
  },
  {
   "cell_type": "markdown",
   "metadata": {},
   "source": [
    "Para testear la función agrego:"
   ]
  },
  {
   "cell_type": "code",
   "execution_count": null,
   "metadata": {},
   "outputs": [],
   "source": [
    "df_sample['test']=np.nan"
   ]
  },
  {
   "cell_type": "markdown",
   "metadata": {},
   "source": [
    "e imprimo:"
   ]
  },
  {
   "cell_type": "code",
   "execution_count": null,
   "metadata": {},
   "outputs": [],
   "source": [
    "get_na(df_sample, 'test')"
   ]
  },
  {
   "cell_type": "code",
   "execution_count": null,
   "metadata": {},
   "outputs": [],
   "source": [
    "get_na(df_sample, 'undp_hdi')"
   ]
  },
  {
   "cell_type": "markdown",
   "metadata": {},
   "source": [
    "Lo cual es correcto. Para analizar todas las variables del dataframe original `df`:"
   ]
  },
  {
   "cell_type": "code",
   "execution_count": null,
   "metadata": {},
   "outputs": [],
   "source": [
    "df_sample = df_sample.drop(columns='test')"
   ]
  },
  {
   "cell_type": "code",
   "execution_count": null,
   "metadata": {},
   "outputs": [],
   "source": [
    "results = [ get_na(df, col) for col in df.columns.tolist() ]"
   ]
  },
  {
   "cell_type": "code",
   "execution_count": null,
   "metadata": {},
   "outputs": [],
   "source": [
    "variables = [ result[0] for result in results ]\n",
    "fractions = [ result[2] for result in results ]"
   ]
  },
  {
   "cell_type": "code",
   "execution_count": null,
   "metadata": {},
   "outputs": [],
   "source": [
    "s1 = pd.Series(variables, name='variable')\n",
    "s2 = pd.Series(fractions, name='na_fraction')"
   ]
  },
  {
   "cell_type": "markdown",
   "metadata": {},
   "source": [
    "Las tres variables con un mayor porcentaje de casos perdidos son:"
   ]
  },
  {
   "cell_type": "code",
   "execution_count": null,
   "metadata": {},
   "outputs": [],
   "source": [
    "pd.concat([s1, s2], axis=1).sort_values(by='na_fraction', ascending=False).head(3)"
   ]
  },
  {
   "cell_type": "markdown",
   "metadata": {},
   "source": [
    "Y para obtener las listas de países correspondientes:"
   ]
  },
  {
   "cell_type": "code",
   "execution_count": null,
   "metadata": {},
   "outputs": [],
   "source": [
    "def get_nation_list(dataframe, var):\n",
    "    print(var)\n",
    "    for l in dataframe[dataframe[var].isna()]['ccodealp'].tolist():\n",
    "        print(l, end=' ')\n",
    "    print('')\n",
    "    print('---')"
   ]
  },
  {
   "cell_type": "code",
   "execution_count": null,
   "metadata": {},
   "outputs": [],
   "source": [
    "var_list = pd.concat([s1, s2], axis=1).sort_values(by='na_fraction', ascending=False).head(3)['variable']\n",
    "for var in var_list:\n",
    "    get_nation_list(df, var)"
   ]
  },
  {
   "cell_type": "markdown",
   "metadata": {},
   "source": [
    "### Ejercicio 4"
   ]
  },
  {
   "cell_type": "code",
   "execution_count": null,
   "metadata": {},
   "outputs": [],
   "source": [
    "def plot_sample_histogram(dataframe, var, true_mean, sample_mean=False):\n",
    "    dataframe_sample = dataframe.dropna().sample(frac=0.5, random_state=random_seed)\n",
    "    mean_tot = dataframe[var].dropna().mean()\n",
    "    stdd_tot = dataframe[var].dropna().std()\n",
    "    mean_sam = dataframe_sample[var].mean()\n",
    "    plt.hist(dataframe[var].dropna(), color='lightgrey')\n",
    "    plt.axvline(mean_tot, lw=3, color='tomato', ls='-', label='true_mean')\n",
    "    if sample_mean:\n",
    "        plt.axvline(mean_sam, lw=3, color='tomato', ls='--', label='sample_mean')\n",
    "    plt.axvspan(mean_tot-stdd_tot, mean_tot+stdd_tot, alpha=0.1, color='red', label=r'$\\mu \\pm \\sigma$')\n",
    "    plt.xlabel(var)\n",
    "    plt.legend()\n",
    "    plt.tight_layout()"
   ]
  },
  {
   "cell_type": "code",
   "execution_count": null,
   "metadata": {},
   "outputs": [],
   "source": [
    "plot_sample_histogram(df_sample, 'ffp_hf', True, sample_mean=True)"
   ]
  },
  {
   "cell_type": "code",
   "execution_count": null,
   "metadata": {},
   "outputs": [],
   "source": [
    "plot_sample_histogram(df_sample, 'wef_qes', True, sample_mean=True)"
   ]
  },
  {
   "cell_type": "code",
   "execution_count": null,
   "metadata": {},
   "outputs": [],
   "source": [
    "plot_sample_histogram(df_sample, 'wdi_expedu', True, sample_mean=True)"
   ]
  },
  {
   "cell_type": "code",
   "execution_count": null,
   "metadata": {},
   "outputs": [],
   "source": [
    "plot_sample_histogram(df_sample, 'wdi_ners', True, sample_mean=True)"
   ]
  },
  {
   "cell_type": "markdown",
   "metadata": {},
   "source": [
    "**(R)** Las variables en las que la media de la submuestra es mayor que las de la muestra completa son `ffp_hf` y (marginalmente) `wdi_ners`, pero hay que notar que todas caen dentro de *1-sigma* respecto de la media total."
   ]
  },
  {
   "cell_type": "markdown",
   "metadata": {},
   "source": [
    "### Ejercicio 5"
   ]
  },
  {
   "cell_type": "code",
   "execution_count": null,
   "metadata": {},
   "outputs": [],
   "source": [
    "pd.concat([s1, s2], axis=1).sort_values(by='na_fraction').head(4)"
   ]
  },
  {
   "cell_type": "markdown",
   "metadata": {},
   "source": [
    "Escogeré `fh_pr`, `fh_rol` y `fh_status`."
   ]
  },
  {
   "cell_type": "code",
   "execution_count": null,
   "metadata": {},
   "outputs": [],
   "source": [
    "def plot_dotplot(dataframe, plot_var, plot_by, global_stat=False, statistic='mean'):\n",
    "    if statistic=='mean':\n",
    "        stat = dataframe.groupby(plot_by)[plot_var].mean()\n",
    "    if statistic=='median':\n",
    "        stat = dataframe.groupby(plot_by)[plot_var].median()\n",
    "    plt.plot(stat.values, stat.index.tolist(), 'o', label=plot_by)\n",
    "    if global_stat:\n",
    "        mean_tot = dataframe[plot_var].dropna().mean()\n",
    "        plt.axvline(mean_tot, lw=2, color='tomato', ls='--', label='true_mean')\n",
    "    plt.legend()\n",
    "    plt.grid(axis='y')\n",
    "    plt.xlabel(plot_var)\n",
    "    plt.tight_layout()"
   ]
  },
  {
   "cell_type": "code",
   "execution_count": null,
   "metadata": {},
   "outputs": [],
   "source": [
    "df['region'] = df['ht_region'].replace(\n",
    "            [1, 2, 3, 4, 5, 6, 7, 8, 9, 10],\n",
    "            ['EastEurope', 'LatAm', 'NorthAfrica', 'SubSaharian', 'WesternDem',\n",
    "             'EastAsia', 'SouthEastAsia', 'SouthAsia', 'Pacific', 'Caribbean'])"
   ]
  },
  {
   "cell_type": "code",
   "execution_count": null,
   "metadata": {},
   "outputs": [],
   "source": [
    "plot_dotplot(df, 'fh_pr', 'region', global_stat=True)"
   ]
  },
  {
   "cell_type": "code",
   "execution_count": null,
   "metadata": {},
   "outputs": [],
   "source": [
    "plot_dotplot(df, 'fh_rol', 'region', global_stat=True)"
   ]
  },
  {
   "cell_type": "code",
   "execution_count": null,
   "metadata": {},
   "outputs": [],
   "source": [
    "plot_dotplot(df, 'fh_status', 'region', global_stat=True)"
   ]
  },
  {
   "cell_type": "markdown",
   "metadata": {},
   "source": [
    "### Ejercicio 6"
   ]
  },
  {
   "cell_type": "code",
   "execution_count": null,
   "metadata": {},
   "outputs": [],
   "source": [
    "df_sample.to_csv('subsample_gmc_demo.csv')"
   ]
  },
  {
   "cell_type": "markdown",
   "metadata": {},
   "source": [
    "##### ---"
   ]
  },
  {
   "cell_type": "code",
   "execution_count": null,
   "metadata": {},
   "outputs": [],
   "source": [
    "df_sample"
   ]
  },
  {
   "cell_type": "code",
   "execution_count": null,
   "metadata": {},
   "outputs": [],
   "source": []
  }
 ],
 "metadata": {
  "kernelspec": {
   "display_name": "dlatam_ds",
   "language": "python",
   "name": "dlatam_ds"
  },
  "language_info": {
   "codemirror_mode": {
    "name": "ipython",
    "version": 3
   },
   "file_extension": ".py",
   "mimetype": "text/x-python",
   "name": "python",
   "nbconvert_exporter": "python",
   "pygments_lexer": "ipython3",
   "version": "3.7.3"
  }
 },
 "nbformat": 4,
 "nbformat_minor": 4
}
