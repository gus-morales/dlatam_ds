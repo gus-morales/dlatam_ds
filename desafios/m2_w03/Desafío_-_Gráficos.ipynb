{
 "cells": [
  {
   "cell_type": "markdown",
   "metadata": {},
   "source": [
    "# Desafío Lunes Semana 3 - Gráficos"
   ]
  },
  {
   "cell_type": "markdown",
   "metadata": {},
   "source": [
    "#### Gustavo Morales, G10 - 09.Sep.2019"
   ]
  },
  {
   "cell_type": "markdown",
   "metadata": {},
   "source": [
    "### Ejercicio 1"
   ]
  },
  {
   "cell_type": "code",
   "execution_count": 1,
   "metadata": {},
   "outputs": [],
   "source": [
    "import pandas as pd\n",
    "import numpy as np\n",
    "import matplotlib.pyplot as plt"
   ]
  },
  {
   "cell_type": "code",
   "execution_count": 2,
   "metadata": {},
   "outputs": [],
   "source": [
    "fname = \"qog_std_cs_jan18.csv\"\n",
    "df = pd.read_csv(fname)"
   ]
  },
  {
   "cell_type": "code",
   "execution_count": 3,
   "metadata": {},
   "outputs": [],
   "source": [
    "random_seed = 382  # RUT ends in 038-2"
   ]
  },
  {
   "cell_type": "code",
   "execution_count": 4,
   "metadata": {},
   "outputs": [],
   "source": [
    "df_sample = df[['undp_hdi',\n",
    "                'ccodealp',\n",
    "                'ht_region',\n",
    "                'gle_cgdpc',\n",
    "                'imf_pop',\n",
    "                'ffp_hf',\n",
    "                'wef_qes',\n",
    "                'wdi_expedu',\n",
    "                'wdi_ners']].dropna().sample(frac=0.5, random_state=random_seed)"
   ]
  },
  {
   "cell_type": "code",
   "execution_count": 5,
   "metadata": {},
   "outputs": [],
   "source": [
    "df_sample['region'] = df_sample['ht_region'].replace(\n",
    "            [1, 2, 3, 4, 5, 6, 7, 8, 9, 10],\n",
    "            ['EastEurope', 'LatAm', 'NorthAfrica', 'SubSaharian', 'WesternDem',\n",
    "             'EastAsia', 'SouthEastAsia', 'SouthAsia', 'Pacific', 'Caribbean']\n",
    ")"
   ]
  },
  {
   "cell_type": "markdown",
   "metadata": {},
   "source": [
    "**(R)** El objeto `Pandas` a utilizar en el siguiente ejercicio es:"
   ]
  },
  {
   "cell_type": "code",
   "execution_count": 6,
   "metadata": {},
   "outputs": [],
   "source": [
    "df_sample;"
   ]
  },
  {
   "cell_type": "markdown",
   "metadata": {},
   "source": [
    "### Ejercicio 2"
   ]
  },
  {
   "cell_type": "markdown",
   "metadata": {},
   "source": [
    "Variables continuas: `undp_hdi`, `gle_cgdpc`, `imf_pop`, `ffp_hf`, `wef_qes`, `wdi_expedu`, `wdi_ners`.\n",
    "\n",
    "Variables discretas: `ccodealp`, `region`.\n",
    "\n",
    "Aunque `imf_pop` medida en cantidad de personas es técnicamente una medida discreta (no existen 1.2 personas), la voy a considerar continua; (1) por que está representada en \"millones\" (sí existen 1.2 millones de personas), y (2) porque es más útil discretizar la muestra por segmentos (bins) en un histograma, que contar la frecuencia de valores enteros."
   ]
  },
  {
   "cell_type": "markdown",
   "metadata": {},
   "source": [
    "**(R)** Las medidas descriptivas para las variables continuas son:"
   ]
  },
  {
   "cell_type": "code",
   "execution_count": 7,
   "metadata": {},
   "outputs": [
    {
     "data": {
      "text/html": [
       "<div>\n",
       "<style scoped>\n",
       "    .dataframe tbody tr th:only-of-type {\n",
       "        vertical-align: middle;\n",
       "    }\n",
       "\n",
       "    .dataframe tbody tr th {\n",
       "        vertical-align: top;\n",
       "    }\n",
       "\n",
       "    .dataframe thead th {\n",
       "        text-align: right;\n",
       "    }\n",
       "</style>\n",
       "<table border=\"1\" class=\"dataframe\">\n",
       "  <thead>\n",
       "    <tr style=\"text-align: right;\">\n",
       "      <th></th>\n",
       "      <th>undp_hdi</th>\n",
       "      <th>gle_cgdpc</th>\n",
       "      <th>imf_pop</th>\n",
       "      <th>ffp_hf</th>\n",
       "      <th>wef_qes</th>\n",
       "      <th>wdi_expedu</th>\n",
       "      <th>wdi_ners</th>\n",
       "    </tr>\n",
       "  </thead>\n",
       "  <tbody>\n",
       "    <tr>\n",
       "      <th>count</th>\n",
       "      <td>42.000000</td>\n",
       "      <td>42.000000</td>\n",
       "      <td>42.000000</td>\n",
       "      <td>42.000000</td>\n",
       "      <td>42.000000</td>\n",
       "      <td>42.000000</td>\n",
       "      <td>42.000000</td>\n",
       "    </tr>\n",
       "    <tr>\n",
       "      <th>mean</th>\n",
       "      <td>0.787167</td>\n",
       "      <td>21659.006546</td>\n",
       "      <td>23.830643</td>\n",
       "      <td>4.369048</td>\n",
       "      <td>4.085913</td>\n",
       "      <td>4.932790</td>\n",
       "      <td>81.252179</td>\n",
       "    </tr>\n",
       "    <tr>\n",
       "      <th>std</th>\n",
       "      <td>0.130879</td>\n",
       "      <td>20219.794631</td>\n",
       "      <td>40.175753</td>\n",
       "      <td>2.031879</td>\n",
       "      <td>0.893385</td>\n",
       "      <td>1.563701</td>\n",
       "      <td>19.053327</td>\n",
       "    </tr>\n",
       "    <tr>\n",
       "      <th>min</th>\n",
       "      <td>0.438000</td>\n",
       "      <td>900.770020</td>\n",
       "      <td>0.350000</td>\n",
       "      <td>1.000000</td>\n",
       "      <td>2.538635</td>\n",
       "      <td>1.925660</td>\n",
       "      <td>27.239189</td>\n",
       "    </tr>\n",
       "    <tr>\n",
       "      <th>25%</th>\n",
       "      <td>0.742750</td>\n",
       "      <td>7751.427600</td>\n",
       "      <td>2.278750</td>\n",
       "      <td>2.650000</td>\n",
       "      <td>3.468162</td>\n",
       "      <td>3.753833</td>\n",
       "      <td>77.970201</td>\n",
       "    </tr>\n",
       "    <tr>\n",
       "      <th>50%</th>\n",
       "      <td>0.810500</td>\n",
       "      <td>15328.060000</td>\n",
       "      <td>6.262500</td>\n",
       "      <td>4.100000</td>\n",
       "      <td>3.911405</td>\n",
       "      <td>4.955090</td>\n",
       "      <td>87.368702</td>\n",
       "    </tr>\n",
       "    <tr>\n",
       "      <th>75%</th>\n",
       "      <td>0.891750</td>\n",
       "      <td>32307.691000</td>\n",
       "      <td>20.394000</td>\n",
       "      <td>6.000000</td>\n",
       "      <td>4.641426</td>\n",
       "      <td>5.683212</td>\n",
       "      <td>94.208254</td>\n",
       "    </tr>\n",
       "    <tr>\n",
       "      <th>max</th>\n",
       "      <td>0.948000</td>\n",
       "      <td>104049.440000</td>\n",
       "      <td>202.768997</td>\n",
       "      <td>8.600000</td>\n",
       "      <td>5.986858</td>\n",
       "      <td>8.627110</td>\n",
       "      <td>99.444328</td>\n",
       "    </tr>\n",
       "  </tbody>\n",
       "</table>\n",
       "</div>"
      ],
      "text/plain": [
       "        undp_hdi      gle_cgdpc     imf_pop     ffp_hf    wef_qes  wdi_expedu  \\\n",
       "count  42.000000      42.000000   42.000000  42.000000  42.000000   42.000000   \n",
       "mean    0.787167   21659.006546   23.830643   4.369048   4.085913    4.932790   \n",
       "std     0.130879   20219.794631   40.175753   2.031879   0.893385    1.563701   \n",
       "min     0.438000     900.770020    0.350000   1.000000   2.538635    1.925660   \n",
       "25%     0.742750    7751.427600    2.278750   2.650000   3.468162    3.753833   \n",
       "50%     0.810500   15328.060000    6.262500   4.100000   3.911405    4.955090   \n",
       "75%     0.891750   32307.691000   20.394000   6.000000   4.641426    5.683212   \n",
       "max     0.948000  104049.440000  202.768997   8.600000   5.986858    8.627110   \n",
       "\n",
       "        wdi_ners  \n",
       "count  42.000000  \n",
       "mean   81.252179  \n",
       "std    19.053327  \n",
       "min    27.239189  \n",
       "25%    77.970201  \n",
       "50%    87.368702  \n",
       "75%    94.208254  \n",
       "max    99.444328  "
      ]
     },
     "execution_count": 7,
     "metadata": {},
     "output_type": "execute_result"
    }
   ],
   "source": [
    "df_sample[['undp_hdi',\n",
    "           'gle_cgdpc',\n",
    "           'imf_pop',\n",
    "           'ffp_hf',\n",
    "           'wef_qes',\n",
    "           'wdi_expedu',\n",
    "           'wdi_ners']].describe()"
   ]
  },
  {
   "cell_type": "markdown",
   "metadata": {},
   "source": [
    "Y para las frecuencias (no tiene mucho sentido hacerlo para `ccodealp` porque son valores únicos, pero ahí va):"
   ]
  },
  {
   "cell_type": "code",
   "execution_count": 8,
   "metadata": {},
   "outputs": [
    {
     "data": {
      "text/plain": [
       "WesternDem       11\n",
       "EastEurope       10\n",
       "LatAm             6\n",
       "SubSaharian       6\n",
       "NorthAfrica       4\n",
       "SouthEastAsia     2\n",
       "EastAsia          1\n",
       "Caribbean         1\n",
       "SouthAsia         1\n",
       "Name: region, dtype: int64"
      ]
     },
     "execution_count": 8,
     "metadata": {},
     "output_type": "execute_result"
    }
   ],
   "source": [
    "df_sample['region'].value_counts()"
   ]
  },
  {
   "cell_type": "code",
   "execution_count": 9,
   "metadata": {},
   "outputs": [
    {
     "data": {
      "text/plain": [
       "CHL    1\n",
       "ETH    1\n",
       "TUR    1\n",
       "CPV    1\n",
       "PAN    1\n",
       "FRA    1\n",
       "MLT    1\n",
       "JPN    1\n",
       "BLZ    1\n",
       "NOR    1\n",
       "GBR    1\n",
       "EST    1\n",
       "THA    1\n",
       "SVN    1\n",
       "ROU    1\n",
       "AUS    1\n",
       "GEO    1\n",
       "DNK    1\n",
       "SWZ    1\n",
       "MLI    1\n",
       "LUX    1\n",
       "LTU    1\n",
       "LKA    1\n",
       "MDA    1\n",
       "NLD    1\n",
       "KAZ    1\n",
       "CYP    1\n",
       "BRA    1\n",
       "QAT    1\n",
       "CHE    1\n",
       "NZL    1\n",
       "PER    1\n",
       "LBN    1\n",
       "MUS    1\n",
       "HRV    1\n",
       "ARG    1\n",
       "FIN    1\n",
       "RWA    1\n",
       "ECU    1\n",
       "SRB    1\n",
       "LAO    1\n",
       "LVA    1\n",
       "Name: ccodealp, dtype: int64"
      ]
     },
     "execution_count": 9,
     "metadata": {},
     "output_type": "execute_result"
    }
   ],
   "source": [
    "df_sample['ccodealp'].value_counts()"
   ]
  },
  {
   "cell_type": "markdown",
   "metadata": {},
   "source": [
    "### Comparación con compañeros: TODO"
   ]
  },
  {
   "cell_type": "markdown",
   "metadata": {},
   "source": [
    "### Ejercicio 3"
   ]
  },
  {
   "cell_type": "code",
   "execution_count": 10,
   "metadata": {},
   "outputs": [],
   "source": [
    "def get_na(dataframe, var, print_list=False):\n",
    "    \"\"\"Returns the quantity and fraction of the 'dataframe' where the input variable 'var' is NaN.\n",
    "    If asked for, returns the 'dataframe' indices of such cases instead.\n",
    "    \"\"\"\n",
    "    na_df = dataframe[var].isna()\n",
    "    \n",
    "    # here 'ascending' is set to False to not change the output ordering\n",
    "    na_quantity = na_df.value_counts(ascending=False)\n",
    "    na_fraction = na_df.value_counts('%', ascending=False)\n",
    "    if print_list:\n",
    "        return dataframe[dataframe[var].isna()][var]\n",
    "    \n",
    "    \"\"\"\n",
    "    I have no idea how to force value_counts() to not drop an index\n",
    "    when one boolean frequency is zero, so I will cover all cases.\n",
    "    I also do not remember how to select by non-integer index, so I had to\n",
    "    turn off sorting above and select using iloc.\n",
    "    \"\"\"\n",
    "    \n",
    "    # if SOME values are NaN\n",
    "    if len(na_quantity)>1 and print_list==False:\n",
    "        return var, na_quantity.iloc[1], na_fraction.iloc[1]\n",
    "    # if everything is NaN\n",
    "    if len(na_quantity)==1 and na_df.value_counts().index[0]==True and print_list==False:\n",
    "        return var, na_quantity.iloc[0], na_fraction.iloc[0]\n",
    "    # if nothing is NaN\n",
    "    if len(na_quantity)==1 and na_df.value_counts().index[0]==False and print_list==False:\n",
    "        return var, 0 , 0"
   ]
  },
  {
   "cell_type": "markdown",
   "metadata": {},
   "source": [
    "Para testear la función agrego:"
   ]
  },
  {
   "cell_type": "code",
   "execution_count": 11,
   "metadata": {},
   "outputs": [],
   "source": [
    "df_sample['test']=np.nan"
   ]
  },
  {
   "cell_type": "markdown",
   "metadata": {},
   "source": [
    "e imprimo:"
   ]
  },
  {
   "cell_type": "code",
   "execution_count": 12,
   "metadata": {},
   "outputs": [
    {
     "data": {
      "text/plain": [
       "('test', 42, 1.0)"
      ]
     },
     "execution_count": 12,
     "metadata": {},
     "output_type": "execute_result"
    }
   ],
   "source": [
    "get_na(df_sample, 'test')"
   ]
  },
  {
   "cell_type": "code",
   "execution_count": 13,
   "metadata": {},
   "outputs": [
    {
     "data": {
      "text/plain": [
       "('undp_hdi', 0, 0)"
      ]
     },
     "execution_count": 13,
     "metadata": {},
     "output_type": "execute_result"
    }
   ],
   "source": [
    "get_na(df_sample, 'undp_hdi')"
   ]
  },
  {
   "cell_type": "markdown",
   "metadata": {},
   "source": [
    "Lo cual es correcto. Para analizar todas las variables del dataframe original `df`:"
   ]
  },
  {
   "cell_type": "code",
   "execution_count": 14,
   "metadata": {},
   "outputs": [],
   "source": [
    "results = [ get_na(df, col) for col in df.columns.tolist() ]"
   ]
  },
  {
   "cell_type": "code",
   "execution_count": 15,
   "metadata": {},
   "outputs": [],
   "source": [
    "variables = [ result[0] for result in results ]\n",
    "fractions = [ result[2] for result in results ]"
   ]
  },
  {
   "cell_type": "code",
   "execution_count": 16,
   "metadata": {},
   "outputs": [],
   "source": [
    "s1 = pd.Series(variables, name='variable')\n",
    "s2 = pd.Series(fractions, name='na_fraction')"
   ]
  },
  {
   "cell_type": "markdown",
   "metadata": {},
   "source": [
    "Las tres variables con un mayor porcentaje de casos perdidos son:"
   ]
  },
  {
   "cell_type": "code",
   "execution_count": 17,
   "metadata": {},
   "outputs": [
    {
     "data": {
      "text/html": [
       "<div>\n",
       "<style scoped>\n",
       "    .dataframe tbody tr th:only-of-type {\n",
       "        vertical-align: middle;\n",
       "    }\n",
       "\n",
       "    .dataframe tbody tr th {\n",
       "        vertical-align: top;\n",
       "    }\n",
       "\n",
       "    .dataframe thead th {\n",
       "        text-align: right;\n",
       "    }\n",
       "</style>\n",
       "<table border=\"1\" class=\"dataframe\">\n",
       "  <thead>\n",
       "    <tr style=\"text-align: right;\">\n",
       "      <th></th>\n",
       "      <th>variable</th>\n",
       "      <th>na_fraction</th>\n",
       "    </tr>\n",
       "  </thead>\n",
       "  <tbody>\n",
       "    <tr>\n",
       "      <th>1191</th>\n",
       "      <td>r_elf61</td>\n",
       "      <td>0.494845</td>\n",
       "    </tr>\n",
       "    <tr>\n",
       "      <th>181</th>\n",
       "      <td>dpi_dhondt</td>\n",
       "      <td>0.494845</td>\n",
       "    </tr>\n",
       "    <tr>\n",
       "      <th>816</th>\n",
       "      <td>iaep_ese</td>\n",
       "      <td>0.494845</td>\n",
       "    </tr>\n",
       "  </tbody>\n",
       "</table>\n",
       "</div>"
      ],
      "text/plain": [
       "        variable  na_fraction\n",
       "1191     r_elf61     0.494845\n",
       "181   dpi_dhondt     0.494845\n",
       "816     iaep_ese     0.494845"
      ]
     },
     "execution_count": 17,
     "metadata": {},
     "output_type": "execute_result"
    }
   ],
   "source": [
    "pd.concat([s1, s2], axis=1).sort_values(by='na_fraction', ascending=False).head(3)"
   ]
  },
  {
   "cell_type": "markdown",
   "metadata": {},
   "source": [
    "Y para obtener las listas de países correspondientes:"
   ]
  },
  {
   "cell_type": "code",
   "execution_count": 18,
   "metadata": {},
   "outputs": [],
   "source": [
    "def get_nation_list(dataframe, var):\n",
    "    print(var)\n",
    "    for l in dataframe[dataframe[var].isna()]['ccodealp'].tolist():\n",
    "        print(l, end=' ')\n",
    "    print('')\n",
    "    print('---')"
   ]
  },
  {
   "cell_type": "code",
   "execution_count": 19,
   "metadata": {},
   "outputs": [
    {
     "name": "stdout",
     "output_type": "stream",
     "text": [
      "r_elf61\n",
      "DZA AND AGO ATG AZE BHS BHR BGD ARM BRB BIH BWA BLZ SLB BRN BDI BLR KHM CPV COM HRV CYP CZE DMA GNQ ETH ERI EST FJI FRA DJI GEO GMB DEU KIR GRD GUY JAM KAZ KEN KGZ LSO LVA LIE LTU MWI MDV MLT MUS MCO MDA MNE MOZ NAM NRU VUT FSM MHL PLW PAK PNG GNB TLS QAT RUS RWA KNA LCA VCT SMR STP SRB SYC SGP SVK VNM SVN ZWE SSD SDN SUR SWZ TJK TON TTO ARE TKM TUV UGA UKR MKD TZA UZB WSM YEM ZMB \n",
      "---\n",
      "dpi_dhondt\n",
      "AND ATG AZE BHS BHR BGD ARM BRB BWA BLZ SLB BRN MMR CMR CAN CAF TCD CHN TWN COM COG CUB DMA ETH ERI FJI FRA GAB GEO GMB GHA KIR GRD GIN HTI IRN CIV JAM JOR KEN PRK KWT KGZ LAO LBN LBR LBY LIE MWI MYS MDV MLI MCO MNG MNE MAR NRU VUT NGA FSM MHL PLW PAK PNG QAT RWA KNA LCA VCT SMR STP SAU SRB SYC SGP VNM SOM ZWE SSD SDN SWZ THA TON TTO ARE TKM TUV UGA EGY GBR TZA USA UZB WSM YEM ZMB \n",
      "---\n",
      "iaep_ese\n",
      "ALB AND AGO ATG AUS BHS BHR BGD BRB BEL BTN BWA BLZ SLB BRN MMR KHM CAN CPV CHN CUB CZE DNK DMA ETH ERI EST FJI DEU KIR GRC GRD GUY HUN ISL IND IRQ ISR ITA JAM JPN JOR PRK KWT KGZ LAO LBN LSO LVA LBY LIE LUX MDG MYS MDV MLT MUS MCO MDA MAR OMN NRU NPL NLD VUT NZL NOR FSM MHL PLW PAK PNG QAT KNA LCA VCT SMR STP SAU SRB SYC VNM SOM ZAF ESP SUR SWZ SWE CHE THA TON TTO ARE TUV GBR WSM \n",
      "---\n"
     ]
    }
   ],
   "source": [
    "var_list = pd.concat([s1, s2], axis=1).sort_values(by='na_fraction', ascending=False).head(3)['variable']\n",
    "for var in var_list:\n",
    "    get_nation_list(df, var)"
   ]
  },
  {
   "cell_type": "markdown",
   "metadata": {},
   "source": [
    "### Ejercicio 4"
   ]
  },
  {
   "cell_type": "code",
   "execution_count": 52,
   "metadata": {},
   "outputs": [],
   "source": [
    "def plot_sample_histogram(dataframe, var, true_mean, sample_mean=False):\n",
    "    dataframe_sample = dataframe.dropna().sample(frac=0.5, random_state=random_seed)\n",
    "    mean_tot = dataframe[var].dropna().mean()\n",
    "    stdd_tot = dataframe[var].dropna().std()\n",
    "    mean_sam = dataframe_sample[var].mean()\n",
    "    plt.hist(dataframe[var].dropna(), color='lightgrey')\n",
    "    plt.axvline(mean_tot, lw=3, color='tomato', ls='-', label='true_mean')\n",
    "    plt.axvspan(mean_tot-stdd_tot, mean_tot+stdd_tot, alpha=0.1, color='red', label=r'$\\mu \\pm \\sigma$')\n",
    "    if sample_mean:\n",
    "        plt.axvline(mean_sam, lw=3, color='tomato', ls='--', label='sample_mean')\n",
    "    plt.xlabel(var)\n",
    "    plt.legend()\n",
    "    plt.tight_layout()"
   ]
  },
  {
   "cell_type": "code",
   "execution_count": 53,
   "metadata": {},
   "outputs": [
    {
     "data": {
      "image/png": "[encoded data removed]",
      "text/plain": [
       "<Figure size 432x288 with 1 Axes>"
      ]
     },
     "metadata": {
      "needs_background": "light"
     },
     "output_type": "display_data"
    }
   ],
   "source": [
    "plot_histograms(df_sample, 'ffp_hf', True, sample_mean=True)"
   ]
  },
  {
   "cell_type": "code",
   "execution_count": 54,
   "metadata": {},
   "outputs": [
    {
     "data": {
      "image/png": "[encoded data removed]",
      "text/plain": [
       "<Figure size 432x288 with 1 Axes>"
      ]
     },
     "metadata": {
      "needs_background": "light"
     },
     "output_type": "display_data"
    }
   ],
   "source": [
    "plot_histograms(df_sample, 'wef_qes', True, sample_mean=True)"
   ]
  },
  {
   "cell_type": "code",
   "execution_count": 55,
   "metadata": {},
   "outputs": [
    {
     "data": {
      "image/png": "[encoded data removed]",
      "text/plain": [
       "<Figure size 432x288 with 1 Axes>"
      ]
     },
     "metadata": {
      "needs_background": "light"
     },
     "output_type": "display_data"
    }
   ],
   "source": [
    "plot_histograms(df_sample, 'wdi_expedu', True, sample_mean=True)"
   ]
  },
  {
   "cell_type": "code",
   "execution_count": 56,
   "metadata": {},
   "outputs": [
    {
     "data": {
      "image/png": "[encoded data removed]",
      "text/plain": [
       "<Figure size 432x288 with 1 Axes>"
      ]
     },
     "metadata": {
      "needs_background": "light"
     },
     "output_type": "display_data"
    }
   ],
   "source": [
    "plot_histograms(df_sample, 'wdi_ners', True, sample_mean=True)"
   ]
  },
  {
   "cell_type": "markdown",
   "metadata": {},
   "source": [
    "**(R)** Las variables en las que la media de la submuestra es mayor que las de la muestra completa son `wef_qes`, `wdi_expedu` y `wdi_ners`, pero hay que notar que todas caen dentro de *1-sigma* respecto de la media total."
   ]
  },
  {
   "cell_type": "markdown",
   "metadata": {},
   "source": [
    "### Ejercicio 5"
   ]
  },
  {
   "cell_type": "code",
   "execution_count": 25,
   "metadata": {},
   "outputs": [
    {
     "data": {
      "text/html": [
       "<div>\n",
       "<style scoped>\n",
       "    .dataframe tbody tr th:only-of-type {\n",
       "        vertical-align: middle;\n",
       "    }\n",
       "\n",
       "    .dataframe tbody tr th {\n",
       "        vertical-align: top;\n",
       "    }\n",
       "\n",
       "    .dataframe thead th {\n",
       "        text-align: right;\n",
       "    }\n",
       "</style>\n",
       "<table border=\"1\" class=\"dataframe\">\n",
       "  <thead>\n",
       "    <tr style=\"text-align: right;\">\n",
       "      <th></th>\n",
       "      <th>variable</th>\n",
       "      <th>na_fraction</th>\n",
       "    </tr>\n",
       "  </thead>\n",
       "  <tbody>\n",
       "    <tr>\n",
       "      <th>0</th>\n",
       "      <td>ccode</td>\n",
       "      <td>0.0</td>\n",
       "    </tr>\n",
       "    <tr>\n",
       "      <th>639</th>\n",
       "      <td>fh_pr</td>\n",
       "      <td>0.0</td>\n",
       "    </tr>\n",
       "    <tr>\n",
       "      <th>640</th>\n",
       "      <td>fh_rol</td>\n",
       "      <td>0.0</td>\n",
       "    </tr>\n",
       "    <tr>\n",
       "      <th>641</th>\n",
       "      <td>fh_status</td>\n",
       "      <td>0.0</td>\n",
       "    </tr>\n",
       "  </tbody>\n",
       "</table>\n",
       "</div>"
      ],
      "text/plain": [
       "      variable  na_fraction\n",
       "0        ccode          0.0\n",
       "639      fh_pr          0.0\n",
       "640     fh_rol          0.0\n",
       "641  fh_status          0.0"
      ]
     },
     "execution_count": 25,
     "metadata": {},
     "output_type": "execute_result"
    }
   ],
   "source": [
    "pd.concat([s1, s2], axis=1).sort_values(by='na_fraction').head(4)"
   ]
  },
  {
   "cell_type": "markdown",
   "metadata": {},
   "source": [
    "Escogeré `fh_pr`, `fh_rol` y `fh_status`."
   ]
  },
  {
   "cell_type": "code",
   "execution_count": 26,
   "metadata": {},
   "outputs": [],
   "source": [
    "def plot_dotplot(dataframe, plot_var, plot_by, global_stat=False, statistic='mean'):\n",
    "    if statistic=='mean':\n",
    "        stat = dataframe.groupby(plot_by)[plot_var].mean()\n",
    "    if statistic=='median':\n",
    "        stat = dataframe.groupby(plot_by)[plot_var].median()\n",
    "    plt.plot(stat.values, stat.index.tolist(), 'o', label=plot_by)\n",
    "    if global_stat:\n",
    "        mean_tot = dataframe[plot_var].dropna().mean()\n",
    "        plt.axvline(mean_tot, lw=2, color='tomato', ls='--', label='true_mean')\n",
    "    plt.legend()\n",
    "    plt.grid(axis='y')\n",
    "    plt.xlabel(plot_var)\n",
    "    plt.tight_layout()"
   ]
  },
  {
   "cell_type": "code",
   "execution_count": 27,
   "metadata": {},
   "outputs": [],
   "source": [
    "df['region'] = df['ht_region'].replace(\n",
    "            [1, 2, 3, 4, 5, 6, 7, 8, 9, 10],\n",
    "            ['EastEurope', 'LatAm', 'NorthAfrica', 'SubSaharian', 'WesternDem',\n",
    "             'EastAsia', 'SouthEastAsia', 'SouthAsia', 'Pacific', 'Caribbean'])"
   ]
  },
  {
   "cell_type": "code",
   "execution_count": 28,
   "metadata": {},
   "outputs": [
    {
     "data": {
      "image/png": "[encoded data removed]",
      "text/plain": [
       "<Figure size 432x288 with 1 Axes>"
      ]
     },
     "metadata": {
      "needs_background": "light"
     },
     "output_type": "display_data"
    }
   ],
   "source": [
    "plot_dotplot(df, 'fh_pr', 'region', global_stat=True)"
   ]
  },
  {
   "cell_type": "code",
   "execution_count": 29,
   "metadata": {},
   "outputs": [
    {
     "data": {
      "image/png": "[encoded data removed]",
      "text/plain": [
       "<Figure size 432x288 with 1 Axes>"
      ]
     },
     "metadata": {
      "needs_background": "light"
     },
     "output_type": "display_data"
    }
   ],
   "source": [
    "plot_dotplot(df, 'fh_rol', 'region', global_stat=True)"
   ]
  },
  {
   "cell_type": "code",
   "execution_count": 30,
   "metadata": {},
   "outputs": [
    {
     "data": {
      "image/png": "[encoded data removed]",
      "text/plain": [
       "<Figure size 432x288 with 1 Axes>"
      ]
     },
     "metadata": {
      "needs_background": "light"
     },
     "output_type": "display_data"
    }
   ],
   "source": [
    "plot_dotplot(df, 'fh_status', 'region', global_stat=True)"
   ]
  },
  {
   "cell_type": "markdown",
   "metadata": {},
   "source": [
    "### Ejercicio 6"
   ]
  },
  {
   "cell_type": "code",
   "execution_count": 31,
   "metadata": {},
   "outputs": [],
   "source": [
    "df_sample = df_sample.drop(columns='test')"
   ]
  },
  {
   "cell_type": "code",
   "execution_count": 32,
   "metadata": {},
   "outputs": [],
   "source": [
    "df_sample.to_csv('subsample_gmc_demo.csv')"
   ]
  },
  {
   "cell_type": "markdown",
   "metadata": {},
   "source": [
    "##### ---"
   ]
  },
  {
   "cell_type": "code",
   "execution_count": null,
   "metadata": {},
   "outputs": [],
   "source": []
  }
 ],
 "metadata": {
  "kernelspec": {
   "display_name": "dlatam_ds",
   "language": "python",
   "name": "dlatam_ds"
  },
  "language_info": {
   "codemirror_mode": {
    "name": "ipython",
    "version": 3
   },
   "file_extension": ".py",
   "mimetype": "text/x-python",
   "name": "python",
   "nbconvert_exporter": "python",
   "pygments_lexer": "ipython3",
   "version": "3.7.3"
  }
 },
 "nbformat": 4,
 "nbformat_minor": 4
}
