{
 "cells": [
  {
   "cell_type": "markdown",
   "metadata": {},
   "source": [
    "## Desafío - Conceptos previos a Big Data\n",
    "### Gustavo Morales"
   ]
  },
  {
   "cell_type": "markdown",
   "metadata": {},
   "source": [
    "<div class=\"alert alert-block alert-info\">\n",
    "<center><b>Ejercicio 1: </b>Generación Artifical de Datos</center>\n",
    "</div>"
   ]
  },
  {
   "cell_type": "code",
   "execution_count": 1,
   "metadata": {},
   "outputs": [],
   "source": [
    "from functools import reduce  # sólo usada para calcular la complejidad algorítmica"
   ]
  },
  {
   "cell_type": "markdown",
   "metadata": {},
   "source": [
    "La función en cuestión es:"
   ]
  },
  {
   "cell_type": "code",
   "execution_count": 2,
   "metadata": {},
   "outputs": [],
   "source": [
    "import random\n",
    "\n",
    "def create_random_row():\n",
    "    # simulamos la columna edad\n",
    "    age = random.randint(18, 90)\n",
    "    # simulamos la columna ingreso\n",
    "    income = random.randrange(10000, 1000000, step=1000)\n",
    "    # simulamos la situación laboral\n",
    "    employment_status = random.choice(['Unemployed', 'Employed'])\n",
    "    # ???\n",
    "    use_in_minutes = random.uniform(1.0,1000.0)\n",
    "    # simulamos si es que tiene deuda o no\n",
    "    debt_status = random.choice(['Debt', 'No Debt'])\n",
    "    # simulamos si es que se cambió recientemente o no\n",
    "    churn_status = random.choice(['Churn', 'No Churn'])\n",
    "    \n",
    "    return age, income, employment_status, use_in_minutes, debt_status, churn_status"
   ]
  },
  {
   "cell_type": "markdown",
   "metadata": {},
   "source": [
    "**`1.1`** Replique la función 10 millones de veces y presérvela en un objeto."
   ]
  },
  {
   "cell_type": "code",
   "execution_count": 3,
   "metadata": {},
   "outputs": [],
   "source": [
    "n = 1e7\n",
    "random_database = [create_random_row() for i in range(int(n))]"
   ]
  },
  {
   "cell_type": "markdown",
   "metadata": {},
   "source": [
    "<div class=\"alert alert-block alert-info\">\n",
    "<center><b>Ejercicio 2:</b></center>\n",
    "</div>"
   ]
  },
  {
   "cell_type": "markdown",
   "metadata": {},
   "source": [
    "La función en cuestión es:"
   ]
  },
  {
   "cell_type": "code",
   "execution_count": 4,
   "metadata": {},
   "outputs": [],
   "source": [
    "employment_income_looped = 0\n",
    "\n",
    "for i in random_database:\n",
    "    if i[2] == 'Employed':\n",
    "        employment_income_looped += i[1]"
   ]
  },
  {
   "cell_type": "markdown",
   "metadata": {},
   "source": [
    "**`2.1`** ¿Qué retornará la variable `employment_income_looped`?"
   ]
  },
  {
   "cell_type": "markdown",
   "metadata": {},
   "source": [
    "**`R →`** Retornará la suma de ingresos para el conjunto de personas empleadas, en este caso:"
   ]
  },
  {
   "cell_type": "code",
   "execution_count": 5,
   "metadata": {},
   "outputs": [
    {
     "data": {
      "text/plain": [
       "2522397331000"
      ]
     },
     "execution_count": 5,
     "metadata": {},
     "output_type": "execute_result"
    }
   ],
   "source": [
    "employment_income_looped"
   ]
  },
  {
   "cell_type": "markdown",
   "metadata": {},
   "source": [
    "**`2.2`** ¿Cómo sería una implementación del código utilizando `map` y `filter`?"
   ]
  },
  {
   "cell_type": "markdown",
   "metadata": {},
   "source": [
    "**`R →`** Esto me costó entenderlo así que lo dividiré en pasos. Recordar que tanto `map` como `filter` reciben una función y un iterable (o varios en el primer caso):\n",
    "\n",
    "1) Primero, usamos `filter` para filtrar los casos relevantes:\n",
    "\n",
    "```python\n",
    "func1 = lambda x: x[2] == 'Employed'  # función que retorna True o False\n",
    "iterable1 = random_database  # lista de 6-tuplas que entra a 'func1'\n",
    "result1 = list(filter(func1, iterable1))  # iterable que sólo contiene las 6-tuplas que retornaron True\n",
    "```\n",
    "\n",
    "2) Luego, sobre dicho resultado usamos `map`, para mapear la lista de 6-tuplas a una lista de enteros:\n",
    "\n",
    "```python\n",
    "func2 = lambda x: x[1]  # función que deja sólo el 2do elemento de la tupla input\n",
    "iterable2 = result1  # output del paso anterior\n",
    "result2 = list(map(func2, iterable2))  # iterable resultado de aplicar 'func2' a 'iterable2'\n",
    "```\n",
    "\n",
    "3) Al resultado final le aplicamos `sum`, que suma sobre todos los elementos del iterable que entra como input,\n",
    "\n",
    "```python\n",
    "result3 = sum(result2)\n",
    "```"
   ]
  },
  {
   "cell_type": "markdown",
   "metadata": {},
   "source": [
    "La implementación final en forma explícita quedaría:"
   ]
  },
  {
   "cell_type": "code",
   "execution_count": 6,
   "metadata": {},
   "outputs": [],
   "source": [
    "result = sum(list(map(lambda x: x[1], list(filter(lambda x: x[2] == 'Employed', random_database)))))"
   ]
  },
  {
   "cell_type": "markdown",
   "metadata": {},
   "source": [
    "**`2.3`** ¿Son iguales los resultados?"
   ]
  },
  {
   "cell_type": "code",
   "execution_count": 7,
   "metadata": {},
   "outputs": [
    {
     "name": "stdout",
     "output_type": "stream",
     "text": [
      "El resultado es el mismo: 2522397331000\n"
     ]
    }
   ],
   "source": [
    "ans2 = 'El resultado es el mismo: %i'%result if employment_income_looped == result else 'El resultado es DIFERENTE!'\n",
    "print(ans2)"
   ]
  },
  {
   "cell_type": "markdown",
   "metadata": {},
   "source": [
    "Una forma alternativa sólo con comprensión de lista sería por ejemplo:"
   ]
  },
  {
   "cell_type": "code",
   "execution_count": 8,
   "metadata": {},
   "outputs": [
    {
     "data": {
      "text/plain": [
       "2522397331000"
      ]
     },
     "execution_count": 8,
     "metadata": {},
     "output_type": "execute_result"
    }
   ],
   "source": [
    "sum([b for (a,b,c,d,e,f) in random_database if c=='Employed'])"
   ]
  },
  {
   "cell_type": "markdown",
   "metadata": {},
   "source": [
    "<div class=\"alert alert-block alert-info\">\n",
    "<center><b>Ejercicio 3:</b></center>\n",
    "</div>"
   ]
  },
  {
   "cell_type": "markdown",
   "metadata": {},
   "source": [
    "La función en cuestión es:"
   ]
  },
  {
   "cell_type": "code",
   "execution_count": 9,
   "metadata": {},
   "outputs": [],
   "source": [
    "count_debts_looped = 0\n",
    "\n",
    "for i in random_database:\n",
    "    for j in i:\n",
    "        if j == 'Debt':\n",
    "            count_debts_looped += 1"
   ]
  },
  {
   "cell_type": "markdown",
   "metadata": {},
   "source": [
    "**`3.1`** ¿Qué retornará la variable `count_debts_looped`?"
   ]
  },
  {
   "cell_type": "markdown",
   "metadata": {},
   "source": [
    "**`R →`** Retornará el número total de registros con deuda, en este caso:"
   ]
  },
  {
   "cell_type": "code",
   "execution_count": 10,
   "metadata": {},
   "outputs": [
    {
     "data": {
      "text/plain": [
       "4995593"
      ]
     },
     "execution_count": 10,
     "metadata": {},
     "output_type": "execute_result"
    }
   ],
   "source": [
    "count_debts_looped"
   ]
  },
  {
   "cell_type": "markdown",
   "metadata": {},
   "source": [
    "**`3.2`** ¿Cuál será la complejidad algorítmica del código?"
   ]
  },
  {
   "cell_type": "markdown",
   "metadata": {},
   "source": [
    "**`R →`** Análogo a la estimación de la cota superior asintótica (_Big O Notation_), voy a calcular el número de operaciones:"
   ]
  },
  {
   "cell_type": "markdown",
   "metadata": {},
   "source": [
    "```python\n",
    "for i in random_database:           # n = len(random_database) operaciones\n",
    "    for j in i:                     # n = len(i) operaciones\n",
    "        if j == 'Debt':             # n = 1 operación\n",
    "            count_debts_looped += 1 # n = 1 operación\n",
    "```"
   ]
  },
  {
   "cell_type": "code",
   "execution_count": 11,
   "metadata": {},
   "outputs": [
    {
     "name": "stdout",
     "output_type": "stream",
     "text": [
      "6.0e+07\n"
     ]
    }
   ],
   "source": [
    "print('%.1e' % reduce((lambda x, y: x * y), [len(random_database), len(i)]))"
   ]
  },
  {
   "cell_type": "markdown",
   "metadata": {},
   "source": [
    "**`3.3`** ¿Cómo sería una implementación del código utilizando `map` y `filter`?"
   ]
  },
  {
   "cell_type": "markdown",
   "metadata": {},
   "source": [
    "**`R →`** Siguiendo la misma idea del ejercicio anterior:\n",
    "\n",
    "1) Primero usamos `filter` para filtrar los casos relevantes:\n",
    "\n",
    "```python\n",
    "func1 = lambda x: x[4] == 'Debt'  # función que retorna True o False\n",
    "iterable1 = random_database  # lista de 6-tuplas que entra a 'func1'\n",
    "result1 = list(filter(func1, iterable1))  # iterable que sólo contiene las 6-tuplas que retornaron True\n",
    "```\n",
    "\n",
    "2) Luego, sobre dicho resultado usamos `map`, para mapear las listas de 6-tuplas a una lista de strings:\n",
    "\n",
    "```python\n",
    "func2 = lambda x: x[4]  # función que deja sólo el 5to elemento de la tupla input\n",
    "iterable2 = result1  # output del paso anterior\n",
    "result2 = list(map(func2, iterable2))  # iterable resultado de aplicar 'func2' a 'iterable2'\n",
    "```\n",
    "\n",
    "3) Finalmente, al resultado final le aplicamos un `len`, para sumar todas las ocurrencias:\n",
    "\n",
    "```python\n",
    "result3 = len(result2)\n",
    "```"
   ]
  },
  {
   "cell_type": "markdown",
   "metadata": {},
   "source": [
    "La implementación final en forma explícita quedaría:"
   ]
  },
  {
   "cell_type": "code",
   "execution_count": 12,
   "metadata": {},
   "outputs": [],
   "source": [
    "result = len(list(map(lambda x: x[4], list(filter(lambda x: x[4] == 'Debt', random_database)))))"
   ]
  },
  {
   "cell_type": "markdown",
   "metadata": {},
   "source": [
    "**`3.4`** ¿Son iguales los resultados de ambas operaciones?"
   ]
  },
  {
   "cell_type": "code",
   "execution_count": 13,
   "metadata": {},
   "outputs": [
    {
     "name": "stdout",
     "output_type": "stream",
     "text": [
      "El resultado es el mismo: 4995593\n"
     ]
    }
   ],
   "source": [
    "ans3 = 'El resultado es el mismo: %i'%result if count_debts_looped == result else 'El resultado es DIFERENTE!'\n",
    "print(ans3)"
   ]
  },
  {
   "cell_type": "markdown",
   "metadata": {},
   "source": [
    "<div class=\"alert alert-block alert-info\">\n",
    "<center><b>Ejercicio 4:</b></center>\n",
    "</div>"
   ]
  },
  {
   "cell_type": "markdown",
   "metadata": {},
   "source": [
    "El bloque de código en cuestión es:"
   ]
  },
  {
   "cell_type": "code",
   "execution_count": 14,
   "metadata": {},
   "outputs": [],
   "source": [
    "# BLOQUE ORIGINAL\n",
    "churn_subset, no_churn_subset = [], []\n",
    "\n",
    "for i in random_database:\n",
    "    for j in i:\n",
    "        if i == 'Churn':\n",
    "            churn_subset.append(i)\n",
    "    for j in i:\n",
    "        if i == 'No Churn':\n",
    "            no_churn.append(i)"
   ]
  },
  {
   "cell_type": "markdown",
   "metadata": {},
   "source": [
    "y tiene al menos dos problemas:\n",
    "\n",
    "1) de sintaxis: `no_churn` no está definido. Debe cambiarse por `no_churn_subset`.\n",
    "\n",
    "2) de lógica: `i == 'Churn'` y `i == 'No Churn'` siempre serán evaluados como `False`, ya que está comparando una tupla con un string. Ambos _statements_ deben cambiarse por `j == 'Churn'` y `j == 'No Churn'` para así al menos no dejar las listas vacías.\n",
    "\n",
    "El bloque corregido para que al menos tenga sentido comparar, sería:"
   ]
  },
  {
   "cell_type": "code",
   "execution_count": 15,
   "metadata": {},
   "outputs": [],
   "source": [
    "# BLOQUE CORREGIDO\n",
    "churn_subset, no_churn_subset = [], []\n",
    "\n",
    "for i in random_database:\n",
    "    for j in i:\n",
    "        if j == 'Churn':\n",
    "            churn_subset.append(i)\n",
    "    for j in i:\n",
    "        if j == 'No Churn':\n",
    "            no_churn_subset.append(i)"
   ]
  },
  {
   "cell_type": "markdown",
   "metadata": {},
   "source": [
    "**`4.1`** ¿Cuál será el retorno de la variable `churn_subset` y `no_churn_subset`?"
   ]
  },
  {
   "cell_type": "markdown",
   "metadata": {},
   "source": [
    "**`R →`** Retornará el conjunto de tuplas de personas que se cambiaron recientemente y que no."
   ]
  },
  {
   "cell_type": "markdown",
   "metadata": {},
   "source": [
    "**`4.2`** ¿Cuál es la complejidad algorítmica del código?"
   ]
  },
  {
   "cell_type": "markdown",
   "metadata": {},
   "source": [
    "**`R →`** Análogo a la estimación de la cota superior asintótica (_Big O Notation_), voy a calcular el número de operaciones:"
   ]
  },
  {
   "cell_type": "markdown",
   "metadata": {},
   "source": [
    "```python\n",
    "# BLOQUE CORREGIDO\n",
    "churn_subset, no_churn_subset = [], []\n",
    "\n",
    "for i in random_database:             # n = len(random_database) operaciones\n",
    "    for j in i:                       # n = len(i) operaciones\n",
    "        if j == 'Churn':              # n = 1 operación\n",
    "            churn_subset.append(j)    # n = 1 operación\n",
    "    for j in i:                       # n = len(i) operaciones\n",
    "        if j == 'No Churn':           # n = 1 operación\n",
    "            no_churn_subset.append(j) # n = 1 operación\n",
    "```"
   ]
  },
  {
   "cell_type": "code",
   "execution_count": 16,
   "metadata": {},
   "outputs": [
    {
     "name": "stdout",
     "output_type": "stream",
     "text": [
      "1.2e+08\n"
     ]
    }
   ],
   "source": [
    "print('%.1e' % reduce((lambda x, y: x * y), [len(random_database), 2*len(i)]))"
   ]
  },
  {
   "cell_type": "markdown",
   "metadata": {},
   "source": [
    "**`4.3`** ¿Cómo sería una implementación del código utilizando `map` y `filter`?"
   ]
  },
  {
   "cell_type": "markdown",
   "metadata": {},
   "source": [
    "**`R →`** Siguiendo la misma idea de los ejercicios anteriores, dejaré explícito el caso de abandono (la explicación es análoga para el caso de no-abandono).\n",
    "\n",
    "1) Primero usamos `filter` para filtrar los casos relevantes:\n",
    "\n",
    "```python\n",
    "func1 = lambda x: x[5] == 'Churn'  # función que retorna True o False\n",
    "iterable1 = random_database  # lista de 6-tuplas que entra a 'func1'\n",
    "result1 = list(filter(func1, iterable1))  # iterable que sólo contiene las 6-tuplas que retornaron True\n",
    "```\n",
    "\n",
    "2) Luego, sobre dicho resultado usamos `map`.\n",
    "\n",
    "```python\n",
    "func2 = lambda x: x  # función identidad\n",
    "iterable2 = result1  # output del paso anterior\n",
    "churn_subset_new = list(map(func2, iterable2))  # iterable resultado de aplicar 'func2' a 'iterable2'\n",
    "```"
   ]
  },
  {
   "cell_type": "markdown",
   "metadata": {},
   "source": [
    "<div class=\"alert alert-block alert-warning\">\n",
    "<b>NOTA:</b> El último paso no es realmente necesario porque el <i>output</i> de <code>filter</code> ya contiene el resultado que necesitamos, pero lo voy a implementar de todas formas porque lo exigen por enunciado.\n",
    "</div>"
   ]
  },
  {
   "cell_type": "markdown",
   "metadata": {},
   "source": [
    "La implementación final en forma explícita quedaría, para el caso de abandono y no-abandono:"
   ]
  },
  {
   "cell_type": "code",
   "execution_count": 17,
   "metadata": {},
   "outputs": [],
   "source": [
    "churn_subset_new = list(map(lambda x: x, list(filter(lambda x: x[5] == 'Churn', random_database))))\n",
    "no_churn_subset_new = list(map(lambda x: x, list(filter(lambda x: x[5] == 'No Churn', random_database))))"
   ]
  },
  {
   "cell_type": "markdown",
   "metadata": {},
   "source": [
    "**`4.4`** ¿Son iguales los resultados de ambas operaciones?"
   ]
  },
  {
   "cell_type": "code",
   "execution_count": 18,
   "metadata": {},
   "outputs": [
    {
     "name": "stdout",
     "output_type": "stream",
     "text": [
      "El resultado es el mismo.\n"
     ]
    }
   ],
   "source": [
    "if churn_subset_new == churn_subset and no_churn_subset_new == no_churn_subset:\n",
    "    ans4a = 'El resultado es el mismo.'\n",
    "else:\n",
    "    ans4a = 'El resultado es DIFERENTE!'\n",
    "print(ans4a)"
   ]
  },
  {
   "cell_type": "markdown",
   "metadata": {},
   "source": [
    "**`4.5`** Estime la media, la varianza, el mínimo y el máximo de la edad para ambos subsets, sin utilizar librerías externas."
   ]
  },
  {
   "cell_type": "code",
   "execution_count": 19,
   "metadata": {},
   "outputs": [],
   "source": [
    "def get_age_stats(tuple_list):\n",
    "    \"\"\"Prints median, variance, and extreme values of 'age' for a given subset.\"\"\"\n",
    "    ages = list(map(lambda x: x[0], tuple_list))\n",
    "    mean_age = sum(ages)/len(ages)\n",
    "    variance_age = sum((xi - mean_age) ** 2 for xi in ages) / len(ages)\n",
    "    min_value = min(ages)\n",
    "    max_value = max(ages)\n",
    "\n",
    "    print('mean age     = %.2f\\n\\\n",
    "age variance = %.2f\\n\\\n",
    "minimum_age  = %.2f\\n\\\n",
    "maximum_age  = %.2f' % (mean_age, variance_age, min_value, max_value))"
   ]
  },
  {
   "cell_type": "code",
   "execution_count": 20,
   "metadata": {},
   "outputs": [
    {
     "name": "stdout",
     "output_type": "stream",
     "text": [
      "mean age     = 54.01\n",
      "age variance = 443.70\n",
      "minimum_age  = 18.00\n",
      "maximum_age  = 90.00\n"
     ]
    }
   ],
   "source": [
    "get_age_stats(churn_subset_new)"
   ]
  },
  {
   "cell_type": "code",
   "execution_count": 21,
   "metadata": {},
   "outputs": [
    {
     "name": "stdout",
     "output_type": "stream",
     "text": [
      "mean age     = 54.01\n",
      "age variance = 443.75\n",
      "minimum_age  = 18.00\n",
      "maximum_age  = 90.00\n"
     ]
    }
   ],
   "source": [
    "get_age_stats(no_churn_subset_new)"
   ]
  },
  {
   "cell_type": "markdown",
   "metadata": {},
   "source": [
    "<div class=\"alert alert-block alert-info\">\n",
    "<center><b>Ejercicio 5:</b></center>\n",
    "</div>"
   ]
  },
  {
   "cell_type": "markdown",
   "metadata": {},
   "source": [
    "**`5.1`** ¿Cómo sería una implementación utilizando `map`?"
   ]
  },
  {
   "cell_type": "markdown",
   "metadata": {},
   "source": [
    "**`R →`** El bloque de código a mejorar es el siguiente. Notar que usaré `filter` en vez de `map`, ya que puedo considerar el primero como una extensión del segundo:"
   ]
  },
  {
   "cell_type": "code",
   "execution_count": 22,
   "metadata": {},
   "outputs": [
    {
     "name": "stdout",
     "output_type": "stream",
     "text": [
      "Unemployed, Debt, Churn:  1248310\n",
      "Unemployed, No Debt, Churn:  1250937\n",
      "Unemployed, Debt, No Churn:  1249021\n",
      "Unemployed, No Debt, No Churn:  1251592\n",
      "Employed, Debt, Churn:  1250753\n",
      "Employed, No Debt, Churn:  1251624\n",
      "Employed, Debt, No Churn:  1247509\n",
      "Employed, No Debt, No Churn:  1250254\n"
     ]
    }
   ],
   "source": [
    "unemployed_debt_churn = 0\n",
    "unemployed_nodebt_churn = 0\n",
    "unemployed_debt_nochurn = 0\n",
    "unemployed_nodebt_nochurn = 0\n",
    "employed_debt_churn = 0\n",
    "employed_nodebt_churn = 0\n",
    "employed_debt_nochurn = 0\n",
    "employed_nodebt_nochurn = 0\n",
    "\n",
    "for i in random_database:\n",
    "    if i[2] == 'Unemployed' and i[4] == 'Debt' and i[5] == 'Churn':\n",
    "        unemployed_debt_churn += 1\n",
    "    if i[2] == 'Unemployed' and i[4] == 'No Debt' and i[5] == 'Churn':\n",
    "        unemployed_nodebt_churn += 1\n",
    "    if i[2] == 'Unemployed' and i[4] == 'Debt' and i[5] == 'No Churn':\n",
    "        unemployed_debt_nochurn += 1\n",
    "    if i[2] == 'Unemployed' and i[4] == 'No Debt' and i[5] == 'No Churn':\n",
    "        unemployed_nodebt_nochurn += 1\n",
    "    if i[2] == 'Employed' and i[4] == 'Debt' and i[5] == 'Churn':\n",
    "        employed_debt_churn += 1\n",
    "    if i[2] == 'Employed' and i[4] == 'No Debt' and i[5] == 'Churn':\n",
    "        employed_nodebt_churn += 1\n",
    "    if i[2] == 'Employed' and i[4] == 'Debt' and i[5] == 'No Churn':\n",
    "        employed_debt_nochurn += 1\n",
    "    if i[2] == 'Employed' and i[4] == 'No Debt' and i[5] == 'No Churn':\n",
    "        employed_nodebt_nochurn += 1\n",
    "\n",
    "print(\"Unemployed, Debt, Churn: \", unemployed_debt_churn)\n",
    "print(\"Unemployed, No Debt, Churn: \", unemployed_nodebt_churn)\n",
    "print(\"Unemployed, Debt, No Churn: \", unemployed_debt_nochurn)\n",
    "print(\"Unemployed, No Debt, No Churn: \", unemployed_nodebt_nochurn)\n",
    "print(\"Employed, Debt, Churn: \", employed_debt_churn)\n",
    "print(\"Employed, No Debt, Churn: \", employed_nodebt_churn)\n",
    "print(\"Employed, Debt, No Churn: \", employed_debt_nochurn)\n",
    "print(\"Employed, No Debt, No Churn: \", employed_nodebt_nochurn)"
   ]
  },
  {
   "cell_type": "code",
   "execution_count": 23,
   "metadata": {},
   "outputs": [],
   "source": [
    "def operation(string1, string2, string3, database):\n",
    "    result = len(list(filter(lambda x: (x[2] == string1 and x[4] == string2 and x[5] == string3), database)))\n",
    "    print('%s, %s, %s: ' % (string1, string2, string3), result)\n",
    "    return(result)"
   ]
  },
  {
   "cell_type": "code",
   "execution_count": 24,
   "metadata": {},
   "outputs": [
    {
     "name": "stdout",
     "output_type": "stream",
     "text": [
      "Unemployed, Debt, Churn:  1248310\n",
      "Unemployed, Debt, No Churn:  1249021\n",
      "Unemployed, No Debt, Churn:  1250937\n",
      "Unemployed, No Debt, No Churn:  1251592\n",
      "Employed, Debt, Churn:  1250753\n",
      "Employed, Debt, No Churn:  1247509\n",
      "Employed, No Debt, Churn:  1251624\n",
      "Employed, No Debt, No Churn:  1250254\n"
     ]
    }
   ],
   "source": [
    "operations = [operation(i,j,k,random_database)\n",
    "              for i in ['Unemployed', 'Employed']\n",
    "              for j in ['Debt', 'No Debt']\n",
    "              for k in ['Churn', 'No Churn']]"
   ]
  },
  {
   "cell_type": "markdown",
   "metadata": {},
   "source": [
    "**`5.2`** ¿Son iguales los resultados de ambas operaciones?"
   ]
  },
  {
   "cell_type": "code",
   "execution_count": 25,
   "metadata": {},
   "outputs": [],
   "source": [
    "tuple0 = [unemployed_debt_churn,\n",
    "          unemployed_debt_nochurn,\n",
    "          unemployed_nodebt_churn,\n",
    "          unemployed_nodebt_nochurn,\n",
    "          employed_debt_churn,\n",
    "          employed_debt_nochurn,\n",
    "          employed_nodebt_churn,\n",
    "          employed_nodebt_nochurn]\n",
    "\n",
    "result_comparison = 'el mismo.' if tuple0 == operations else 'DIFERENTE!'"
   ]
  },
  {
   "cell_type": "code",
   "execution_count": 26,
   "metadata": {},
   "outputs": [
    {
     "name": "stdout",
     "output_type": "stream",
     "text": [
      "El resultado es el mismo.\n"
     ]
    }
   ],
   "source": [
    "ans5 = 'El resultado es %s' % result_comparison\n",
    "print(ans5)"
   ]
  },
  {
   "cell_type": "markdown",
   "metadata": {},
   "source": [
    "<div class=\"alert alert-block alert-danger\">\n",
    "<center>FIN DESAFIO 1</center>\n",
    "</div>"
   ]
  }
 ],
 "metadata": {
  "kernelspec": {
   "display_name": "dlatam_ds",
   "language": "python",
   "name": "dlatam_ds"
  },
  "language_info": {
   "codemirror_mode": {
    "name": "ipython",
    "version": 3
   },
   "file_extension": ".py",
   "mimetype": "text/x-python",
   "name": "python",
   "nbconvert_exporter": "python",
   "pygments_lexer": "ipython3",
   "version": "3.7.3"
  }
 },
 "nbformat": 4,
 "nbformat_minor": 4
}
