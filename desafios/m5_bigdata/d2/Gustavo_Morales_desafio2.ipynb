{
 "cells": [
  {
   "cell_type": "markdown",
   "metadata": {},
   "source": [
    "## Desafío 2 - Introducción a Big Data\n",
    "### Gustavo Morales"
   ]
  },
  {
   "cell_type": "code",
   "execution_count": 1,
   "metadata": {},
   "outputs": [],
   "source": [
    "import requests\n",
    "import random\n",
    "import pandas as pd\n",
    "import numpy as np\n",
    "from pprint import pprint"
   ]
  },
  {
   "cell_type": "markdown",
   "metadata": {},
   "source": [
    "<div class=\"alert alert-block alert-info\">\n",
    "<center><b>Ejercicio 1: </b>Ingesta de datos semiestructurados</center>\n",
    "</div>"
   ]
  },
  {
   "cell_type": "markdown",
   "metadata": {},
   "source": [
    "**`R →`** Haremos la consulta a la API y revisaremos que retorne una conexión exitosa (código HTTP 200):"
   ]
  },
  {
   "cell_type": "code",
   "execution_count": 2,
   "metadata": {},
   "outputs": [
    {
     "data": {
      "text/plain": [
       "<Response [200]>"
      ]
     },
     "execution_count": 2,
     "metadata": {},
     "output_type": "execute_result"
    }
   ],
   "source": [
    "response = requests.get('https://www.balldontlie.io/api/v1/games/?per_page=100')\n",
    "response"
   ]
  },
  {
   "cell_type": "markdown",
   "metadata": {},
   "source": [
    "Guardamos la respuesta en formato JSON, y revisamos los campos asociados a los datos y metadata para confirmar que sea una variable semiestructurada:"
   ]
  },
  {
   "cell_type": "code",
   "execution_count": 3,
   "metadata": {},
   "outputs": [
    {
     "data": {
      "text/plain": [
       "dict_keys(['data', 'meta'])"
      ]
     },
     "execution_count": 3,
     "metadata": {},
     "output_type": "execute_result"
    }
   ],
   "source": [
    "json = response.json()\n",
    "json.keys()"
   ]
  },
  {
   "cell_type": "code",
   "execution_count": 4,
   "metadata": {},
   "outputs": [
    {
     "name": "stdout",
     "output_type": "stream",
     "text": [
      "{'current_page': 1,\n",
      " 'next_page': 2,\n",
      " 'per_page': 100,\n",
      " 'total_count': 48754,\n",
      " 'total_pages': 488}\n"
     ]
    }
   ],
   "source": [
    "pprint(json['meta'])"
   ]
  },
  {
   "cell_type": "code",
   "execution_count": 5,
   "metadata": {},
   "outputs": [
    {
     "name": "stdout",
     "output_type": "stream",
     "text": [
      "{'date': '2019-04-02T00:00:00.000Z',\n",
      " 'home_team': {'abbreviation': 'SAS',\n",
      "               'city': 'San Antonio',\n",
      "               'conference': 'West',\n",
      "               'division': 'Southwest',\n",
      "               'full_name': 'San Antonio Spurs',\n",
      "               'id': 27,\n",
      "               'name': 'Spurs'},\n",
      " 'home_team_score': 117,\n",
      " 'id': 49085,\n",
      " 'period': 4,\n",
      " 'postseason': False,\n",
      " 'season': 2018,\n",
      " 'status': 'Final',\n",
      " 'time': '     ',\n",
      " 'visitor_team': {'abbreviation': 'ATL',\n",
      "                  'city': 'Atlanta',\n",
      "                  'conference': 'East',\n",
      "                  'division': 'Southeast',\n",
      "                  'full_name': 'Atlanta Hawks',\n",
      "                  'id': 1,\n",
      "                  'name': 'Hawks'},\n",
      " 'visitor_team_score': 111}\n"
     ]
    }
   ],
   "source": [
    "pprint(random.choice(json['data']))"
   ]
  },
  {
   "cell_type": "code",
   "execution_count": 6,
   "metadata": {},
   "outputs": [
    {
     "name": "stdout",
     "output_type": "stream",
     "text": [
      "El campo de datos 'data' es de tipo <class 'list'> y tiene largo 100.\n"
     ]
    }
   ],
   "source": [
    "print(\"El campo de datos 'data' es de tipo %s y tiene largo %d.\" %(type(json['data']), len(json['data'])))"
   ]
  },
  {
   "cell_type": "markdown",
   "metadata": {},
   "source": [
    "<div class=\"alert alert-block alert-info\">\n",
    "<center><b>Ejercicio 2: </b>Organización de los datos</center>\n",
    "</div>"
   ]
  },
  {
   "cell_type": "markdown",
   "metadata": {},
   "source": [
    "**`R →`** Haremos una función para transformar el JSON a diccionario, para así mapear la base de datos a ese diccionario:"
   ]
  },
  {
   "cell_type": "code",
   "execution_count": 7,
   "metadata": {},
   "outputs": [],
   "source": [
    "def game_json_to_dict(json_data):\n",
    "    d = {\n",
    "        'season' : json_data['season'],\n",
    "        'period' : json_data['period'],\n",
    "        'home' : json_data['home_team']['full_name'],\n",
    "        'home_conference' : json_data['home_team']['conference'],\n",
    "        'home_division' : json_data['home_team']['division'],\n",
    "        'visitor' : json_data['visitor_team']['full_name'],\n",
    "        'visitor_conference' : json_data['visitor_team']['conference'],\n",
    "        'visitor_division' : json_data['visitor_team']['division'],\n",
    "        'home_score' : json_data['home_team_score'],\n",
    "        'visitor_score' : json_data['visitor_team_score'],\n",
    "        'home_differential' : json_data['home_team_score'] - json_data['visitor_team_score'],\n",
    "        'visitor_differential' : json_data['visitor_team_score'] - json_data['home_team_score']\n",
    "    }\n",
    "    return d"
   ]
  },
  {
   "cell_type": "code",
   "execution_count": 8,
   "metadata": {},
   "outputs": [],
   "source": [
    "df = pd.DataFrame.from_dict(list(map(game_json_to_dict, json['data'])))"
   ]
  },
  {
   "cell_type": "code",
   "execution_count": 9,
   "metadata": {},
   "outputs": [
    {
     "data": {
      "text/html": [
       "<div>\n",
       "<style scoped>\n",
       "    .dataframe tbody tr th:only-of-type {\n",
       "        vertical-align: middle;\n",
       "    }\n",
       "\n",
       "    .dataframe tbody tr th {\n",
       "        vertical-align: top;\n",
       "    }\n",
       "\n",
       "    .dataframe thead th {\n",
       "        text-align: right;\n",
       "    }\n",
       "</style>\n",
       "<table border=\"1\" class=\"dataframe\">\n",
       "  <thead>\n",
       "    <tr style=\"text-align: right;\">\n",
       "      <th></th>\n",
       "      <th>season</th>\n",
       "      <th>period</th>\n",
       "      <th>home</th>\n",
       "      <th>home_conference</th>\n",
       "      <th>home_division</th>\n",
       "      <th>visitor</th>\n",
       "      <th>visitor_conference</th>\n",
       "      <th>visitor_division</th>\n",
       "      <th>home_score</th>\n",
       "      <th>visitor_score</th>\n",
       "      <th>home_differential</th>\n",
       "      <th>visitor_differential</th>\n",
       "    </tr>\n",
       "  </thead>\n",
       "  <tbody>\n",
       "    <tr>\n",
       "      <th>0</th>\n",
       "      <td>2018</td>\n",
       "      <td>4</td>\n",
       "      <td>Boston Celtics</td>\n",
       "      <td>East</td>\n",
       "      <td>Atlantic</td>\n",
       "      <td>Charlotte Hornets</td>\n",
       "      <td>East</td>\n",
       "      <td>Southeast</td>\n",
       "      <td>126</td>\n",
       "      <td>94</td>\n",
       "      <td>32</td>\n",
       "      <td>-32</td>\n",
       "    </tr>\n",
       "    <tr>\n",
       "      <th>1</th>\n",
       "      <td>2018</td>\n",
       "      <td>4</td>\n",
       "      <td>Boston Celtics</td>\n",
       "      <td>East</td>\n",
       "      <td>Atlantic</td>\n",
       "      <td>LA Clippers</td>\n",
       "      <td>West</td>\n",
       "      <td>Pacific</td>\n",
       "      <td>112</td>\n",
       "      <td>123</td>\n",
       "      <td>-11</td>\n",
       "      <td>11</td>\n",
       "    </tr>\n",
       "  </tbody>\n",
       "</table>\n",
       "</div>"
      ],
      "text/plain": [
       "   season  period            home home_conference home_division  \\\n",
       "0    2018       4  Boston Celtics            East      Atlantic   \n",
       "1    2018       4  Boston Celtics            East      Atlantic   \n",
       "\n",
       "             visitor visitor_conference visitor_division  home_score  \\\n",
       "0  Charlotte Hornets               East        Southeast         126   \n",
       "1        LA Clippers               West          Pacific         112   \n",
       "\n",
       "   visitor_score  home_differential  visitor_differential  \n",
       "0             94                 32                   -32  \n",
       "1            123                -11                    11  "
      ]
     },
     "execution_count": 9,
     "metadata": {},
     "output_type": "execute_result"
    }
   ],
   "source": [
    "df.head(2)"
   ]
  },
  {
   "cell_type": "markdown",
   "metadata": {},
   "source": [
    "<div class=\"alert alert-block alert-info\">\n",
    "<center><b>Ejercicio 3: </b>El efecto de jugar de local</center>\n",
    "</div>"
   ]
  },
  {
   "cell_type": "markdown",
   "metadata": {},
   "source": [
    "**`R →`** Luego de generar las dos columnas basado en el puntaje diferencial de cada partido, agruparé por la variable `home`, y la suma de `home_win` la ordenaré según corresponda. Análogamente repetiré lo mismo para `visit` y `visit_win`."
   ]
  },
  {
   "cell_type": "code",
   "execution_count": 10,
   "metadata": {},
   "outputs": [],
   "source": [
    "df['home_win'] = np.where(df['home_differential'] >= 1, 1, 0)\n",
    "df['visitor_win'] = np.where(df['visitor_differential'] >= 1, 1, 0)\n",
    "df['draw'] = np.where(df['home_differential'] == 0, 1, 0)"
   ]
  },
  {
   "cell_type": "code",
   "execution_count": 11,
   "metadata": {},
   "outputs": [
    {
     "data": {
      "text/html": [
       "<div>\n",
       "<style scoped>\n",
       "    .dataframe tbody tr th:only-of-type {\n",
       "        vertical-align: middle;\n",
       "    }\n",
       "\n",
       "    .dataframe tbody tr th {\n",
       "        vertical-align: top;\n",
       "    }\n",
       "\n",
       "    .dataframe thead th {\n",
       "        text-align: right;\n",
       "    }\n",
       "</style>\n",
       "<table border=\"1\" class=\"dataframe\">\n",
       "  <thead>\n",
       "    <tr style=\"text-align: right;\">\n",
       "      <th></th>\n",
       "      <th>season</th>\n",
       "      <th>period</th>\n",
       "      <th>home</th>\n",
       "      <th>home_conference</th>\n",
       "      <th>home_division</th>\n",
       "      <th>visitor</th>\n",
       "      <th>visitor_conference</th>\n",
       "      <th>visitor_division</th>\n",
       "      <th>home_score</th>\n",
       "      <th>visitor_score</th>\n",
       "      <th>home_differential</th>\n",
       "      <th>visitor_differential</th>\n",
       "      <th>home_win</th>\n",
       "      <th>visitor_win</th>\n",
       "      <th>draw</th>\n",
       "    </tr>\n",
       "  </thead>\n",
       "  <tbody>\n",
       "    <tr>\n",
       "      <th>0</th>\n",
       "      <td>2018</td>\n",
       "      <td>4</td>\n",
       "      <td>Boston Celtics</td>\n",
       "      <td>East</td>\n",
       "      <td>Atlantic</td>\n",
       "      <td>Charlotte Hornets</td>\n",
       "      <td>East</td>\n",
       "      <td>Southeast</td>\n",
       "      <td>126</td>\n",
       "      <td>94</td>\n",
       "      <td>32</td>\n",
       "      <td>-32</td>\n",
       "      <td>1</td>\n",
       "      <td>0</td>\n",
       "      <td>0</td>\n",
       "    </tr>\n",
       "    <tr>\n",
       "      <th>1</th>\n",
       "      <td>2018</td>\n",
       "      <td>4</td>\n",
       "      <td>Boston Celtics</td>\n",
       "      <td>East</td>\n",
       "      <td>Atlantic</td>\n",
       "      <td>LA Clippers</td>\n",
       "      <td>West</td>\n",
       "      <td>Pacific</td>\n",
       "      <td>112</td>\n",
       "      <td>123</td>\n",
       "      <td>-11</td>\n",
       "      <td>11</td>\n",
       "      <td>0</td>\n",
       "      <td>1</td>\n",
       "      <td>0</td>\n",
       "    </tr>\n",
       "  </tbody>\n",
       "</table>\n",
       "</div>"
      ],
      "text/plain": [
       "   season  period            home home_conference home_division  \\\n",
       "0    2018       4  Boston Celtics            East      Atlantic   \n",
       "1    2018       4  Boston Celtics            East      Atlantic   \n",
       "\n",
       "             visitor visitor_conference visitor_division  home_score  \\\n",
       "0  Charlotte Hornets               East        Southeast         126   \n",
       "1        LA Clippers               West          Pacific         112   \n",
       "\n",
       "   visitor_score  home_differential  visitor_differential  home_win  \\\n",
       "0             94                 32                   -32         1   \n",
       "1            123                -11                    11         0   \n",
       "\n",
       "   visitor_win  draw  \n",
       "0            0     0  \n",
       "1            1     0  "
      ]
     },
     "execution_count": 11,
     "metadata": {},
     "output_type": "execute_result"
    }
   ],
   "source": [
    "df.head(2)"
   ]
  },
  {
   "cell_type": "markdown",
   "metadata": {},
   "source": [
    "`→` Primeros y últimos 5 equipos en cuanto a desempeño por jugar de **local**:"
   ]
  },
  {
   "cell_type": "code",
   "execution_count": 12,
   "metadata": {},
   "outputs": [
    {
     "data": {
      "text/plain": [
       "home\n",
       "Washington Wizards    4\n",
       "Philadelphia 76ers    4\n",
       "Detroit Pistons       4\n",
       "Indiana Pacers        4\n",
       "Orlando Magic         4\n",
       "Name: home_win, dtype: int64"
      ]
     },
     "execution_count": 12,
     "metadata": {},
     "output_type": "execute_result"
    }
   ],
   "source": [
    "df.groupby(['home'])['home_win'].sum().sort_values(ascending=False).head(5)"
   ]
  },
  {
   "cell_type": "code",
   "execution_count": 13,
   "metadata": {},
   "outputs": [
    {
     "data": {
      "text/plain": [
       "home\n",
       "Phoenix Suns             0\n",
       "Oklahoma City Thunder    0\n",
       "Charlotte Hornets        0\n",
       "New York Knicks          0\n",
       "Atlanta Hawks            1\n",
       "Name: home_win, dtype: int64"
      ]
     },
     "execution_count": 13,
     "metadata": {},
     "output_type": "execute_result"
    }
   ],
   "source": [
    "df.groupby(['home'])['home_win'].sum().sort_values(ascending=True).head(5)"
   ]
  },
  {
   "cell_type": "markdown",
   "metadata": {},
   "source": [
    "`→` Primeros y últimos 5 equipos en cuanto a desempeño por jugar de **visita**:"
   ]
  },
  {
   "cell_type": "code",
   "execution_count": 14,
   "metadata": {},
   "outputs": [
    {
     "data": {
      "text/plain": [
       "visitor\n",
       "Orlando Magic         4\n",
       "LA Clippers           3\n",
       "Washington Wizards    2\n",
       "Los Angeles Lakers    2\n",
       "Boston Celtics        2\n",
       "Name: visitor_win, dtype: int64"
      ]
     },
     "execution_count": 14,
     "metadata": {},
     "output_type": "execute_result"
    }
   ],
   "source": [
    "df.groupby(['visitor'])['visitor_win'].sum().sort_values(ascending=False).head(5)"
   ]
  },
  {
   "cell_type": "code",
   "execution_count": 15,
   "metadata": {},
   "outputs": [
    {
     "data": {
      "text/plain": [
       "visitor\n",
       "Atlanta Hawks             0\n",
       "Sacramento Kings          0\n",
       "Phoenix Suns              0\n",
       "New York Knicks           0\n",
       "Minnesota Timberwolves    0\n",
       "Name: visitor_win, dtype: int64"
      ]
     },
     "execution_count": 15,
     "metadata": {},
     "output_type": "execute_result"
    }
   ],
   "source": [
    "df.groupby(['visitor'])['visitor_win'].sum().sort_values(ascending=True).head(5)"
   ]
  },
  {
   "cell_type": "markdown",
   "metadata": {},
   "source": [
    "<div class=\"alert alert-block alert-info\">\n",
    "<center><b>Ejercicio 4: </b>Obteniendo el porcentaje de ganar local y de visita</center>\n",
    "</div>"
   ]
  },
  {
   "cell_type": "markdown",
   "metadata": {},
   "source": [
    "**`R →`** Aquí agruparé por `home`/`visit`, y calcularé la frecuencia porcentual de los partidos ganados de cada uno."
   ]
  },
  {
   "cell_type": "code",
   "execution_count": 16,
   "metadata": {},
   "outputs": [
    {
     "data": {
      "text/plain": [
       "home                    home_win\n",
       "Atlanta Hawks           0           0.800000\n",
       "                        1           0.200000\n",
       "Boston Celtics          0           0.250000\n",
       "                        1           0.750000\n",
       "Brooklyn Nets           0           0.666667\n",
       "                        1           0.333333\n",
       "Charlotte Hornets       0           1.000000\n",
       "Chicago Bulls           0           0.800000\n",
       "                        1           0.200000\n",
       "Cleveland Cavaliers     0           0.500000\n",
       "                        1           0.500000\n",
       "Dallas Mavericks        0           0.333333\n",
       "                        1           0.666667\n",
       "Denver Nuggets          1           1.000000\n",
       "Detroit Pistons         1           1.000000\n",
       "Golden State Warriors   0           0.250000\n",
       "                        1           0.750000\n",
       "Houston Rockets         0           0.333333\n",
       "                        1           0.666667\n",
       "Indiana Pacers          0           0.333333\n",
       "                        1           0.666667\n",
       "Los Angeles Lakers      0           0.500000\n",
       "                        1           0.500000\n",
       "Memphis Grizzlies       0           0.666667\n",
       "                        1           0.333333\n",
       "Miami Heat              1           1.000000\n",
       "Milwaukee Bucks         0           0.333333\n",
       "                        1           0.666667\n",
       "Minnesota Timberwolves  0           0.333333\n",
       "                        1           0.666667\n",
       "New Orleans Pelicans    0           0.666667\n",
       "                        1           0.333333\n",
       "New York Knicks         0           1.000000\n",
       "Oklahoma City Thunder   0           1.000000\n",
       "Orlando Magic           0           0.200000\n",
       "                        1           0.800000\n",
       "Philadelphia 76ers      0           0.200000\n",
       "                        1           0.800000\n",
       "Phoenix Suns            0           1.000000\n",
       "Portland Trail Blazers  1           1.000000\n",
       "Sacramento Kings        0           0.400000\n",
       "                        1           0.600000\n",
       "San Antonio Spurs       1           1.000000\n",
       "Toronto Raptors         1           1.000000\n",
       "Utah Jazz               1           1.000000\n",
       "Washington Wizards      0           0.200000\n",
       "                        1           0.800000\n",
       "Name: home_win, dtype: float64"
      ]
     },
     "execution_count": 16,
     "metadata": {},
     "output_type": "execute_result"
    }
   ],
   "source": [
    "sl = df.groupby(['home'])['home_win'].value_counts('%', sort=False)  # 0 → local lost; 1 → local won\n",
    "sl"
   ]
  },
  {
   "cell_type": "code",
   "execution_count": 17,
   "metadata": {},
   "outputs": [
    {
     "data": {
      "text/plain": [
       "visitor                 visitor_win\n",
       "Atlanta Hawks           0              1.000000\n",
       "Boston Celtics          0              0.333333\n",
       "                        1              0.666667\n",
       "Brooklyn Nets           0              0.333333\n",
       "                        1              0.666667\n",
       "Charlotte Hornets       0              0.714286\n",
       "                        1              0.285714\n",
       "Chicago Bulls           0              0.750000\n",
       "                        1              0.250000\n",
       "Cleveland Cavaliers     0              1.000000\n",
       "Dallas Mavericks        0              1.000000\n",
       "Denver Nuggets          0              0.666667\n",
       "                        1              0.333333\n",
       "Detroit Pistons         0              0.500000\n",
       "                        1              0.500000\n",
       "Golden State Warriors   0              0.500000\n",
       "                        1              0.500000\n",
       "Houston Rockets         0              0.500000\n",
       "                        1              0.500000\n",
       "Indiana Pacers          1              1.000000\n",
       "LA Clippers             1              1.000000\n",
       "Los Angeles Lakers      0              0.500000\n",
       "                        1              0.500000\n",
       "Memphis Grizzlies       0              1.000000\n",
       "Miami Heat              0              0.666667\n",
       "                        1              0.333333\n",
       "Milwaukee Bucks         1              1.000000\n",
       "Minnesota Timberwolves  0              1.000000\n",
       "New Orleans Pelicans    0              0.666667\n",
       "                        1              0.333333\n",
       "New York Knicks         0              1.000000\n",
       "Oklahoma City Thunder   0              0.500000\n",
       "                        1              0.500000\n",
       "Orlando Magic           0              0.333333\n",
       "                        1              0.666667\n",
       "Philadelphia 76ers      0              0.333333\n",
       "                        1              0.666667\n",
       "Phoenix Suns            0              1.000000\n",
       "Portland Trail Blazers  0              0.600000\n",
       "                        1              0.400000\n",
       "Sacramento Kings        0              1.000000\n",
       "San Antonio Spurs       0              0.666667\n",
       "                        1              0.333333\n",
       "Toronto Raptors         0              0.500000\n",
       "                        1              0.500000\n",
       "Utah Jazz               0              0.500000\n",
       "                        1              0.500000\n",
       "Washington Wizards      0              0.500000\n",
       "                        1              0.500000\n",
       "Name: visitor_win, dtype: float64"
      ]
     },
     "execution_count": 17,
     "metadata": {},
     "output_type": "execute_result"
    }
   ],
   "source": [
    "sv = df.groupby(['visitor'])['visitor_win'].value_counts('%', sort=False)  # 0 → visitor lost; 1 → visitor won\n",
    "sv"
   ]
  },
  {
   "cell_type": "markdown",
   "metadata": {},
   "source": [
    "¿Qué equipos tienen iguales chances de ganar como visitante o local? → Dice \"como visitante **o** local\", por lo tanto contaré ambas ocurrencias tal que la fracción sea 0.5 y entregaré el nombre de equipo si ocurre tanto en un caso como en el otro:"
   ]
  },
  {
   "cell_type": "code",
   "execution_count": 18,
   "metadata": {},
   "outputs": [],
   "source": [
    "df_ = pd.concat([sl, sv], axis=1)"
   ]
  },
  {
   "cell_type": "code",
   "execution_count": 19,
   "metadata": {},
   "outputs": [
    {
     "data": {
      "text/plain": [
       "{'Cleveland Cavaliers',\n",
       " 'Detroit Pistons',\n",
       " 'Golden State Warriors',\n",
       " 'Houston Rockets',\n",
       " 'Los Angeles Lakers',\n",
       " 'Oklahoma City Thunder',\n",
       " 'Toronto Raptors',\n",
       " 'Utah Jazz',\n",
       " 'Washington Wizards'}"
      ]
     },
     "execution_count": 19,
     "metadata": {},
     "output_type": "execute_result"
    }
   ],
   "source": [
    "set(list(filter(None, [row.name[0] if (row['home_win'] == 0.5 or row['visitor_win'] == 0.5) else '' for (idx, row) in df_.iterrows()])))"
   ]
  },
  {
   "cell_type": "markdown",
   "metadata": {},
   "source": [
    "<div class=\"alert alert-block alert-danger\">\n",
    "<center>FIN DESAFIO 1</center>\n",
    "</div>"
   ]
  },
  {
   "cell_type": "code",
   "execution_count": null,
   "metadata": {},
   "outputs": [],
   "source": []
  }
 ],
 "metadata": {
  "kernelspec": {
   "display_name": "dlatam_ds",
   "language": "python",
   "name": "dlatam_ds"
  },
  "language_info": {
   "codemirror_mode": {
    "name": "ipython",
    "version": 3
   },
   "file_extension": ".py",
   "mimetype": "text/x-python",
   "name": "python",
   "nbconvert_exporter": "python",
   "pygments_lexer": "ipython3",
   "version": "3.7.3"
  }
 },
 "nbformat": 4,
 "nbformat_minor": 4
}
