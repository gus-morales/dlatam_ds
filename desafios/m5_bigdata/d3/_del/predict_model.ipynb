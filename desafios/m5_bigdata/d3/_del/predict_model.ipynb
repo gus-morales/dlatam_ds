{
 "cells": [
  {
   "cell_type": "code",
   "execution_count": 1,
   "metadata": {},
   "outputs": [],
   "source": [
    "import pandas as pd\n",
    "import numpy as np\n",
    "import pickle"
   ]
  },
  {
   "cell_type": "code",
   "execution_count": 2,
   "metadata": {},
   "outputs": [],
   "source": [
    "best_model_pkl = 'pkl/best_model_rf.pkl'\n",
    "best_model = pickle.load(open(best_model_pkl, 'rb'))"
   ]
  },
  {
   "cell_type": "code",
   "execution_count": 3,
   "metadata": {},
   "outputs": [],
   "source": [
    "test_data_file = 'mock_data/test_delivery_data.csv'\n",
    "df_test = pd.read_csv(test_data_file)"
   ]
  },
  {
   "cell_type": "code",
   "execution_count": 4,
   "metadata": {},
   "outputs": [],
   "source": [
    "delay_time_mean = np.mean(df_test['delay_time'])\n",
    "df_test['delay_time_bin'] = 0\n",
    "df_test.delay_time_bin = np.where(df_test.delay_time > delay_time_mean, 1, 0)\n",
    "df_test.drop(columns='delay_time', inplace=True)\n",
    "\n",
    "cols_obj = df_test.select_dtypes(include='object').columns\n",
    "df_test = pd.get_dummies(df_test, cols_obj, drop_first=True)"
   ]
  },
  {
   "cell_type": "code",
   "execution_count": 5,
   "metadata": {},
   "outputs": [],
   "source": [
    "obj = 'delay_time_bin'\n",
    "X_test = df_test.drop([obj], axis=1)\n",
    "y_test = df_test[obj]"
   ]
  },
  {
   "cell_type": "code",
   "execution_count": 6,
   "metadata": {},
   "outputs": [
    {
     "data": {
      "text/plain": [
       "Index(['deliverer_id', 'monthly_app_usage', 'paid_price', 'customer_size',\n",
       "       'delivery_zone_II', 'delivery_zone_III', 'delivery_zone_IV',\n",
       "       'delivery_zone_V', 'delivery_zone_VI', 'delivery_zone_VII',\n",
       "       'delivery_zone_VIII', 'subscription_type_Monthly',\n",
       "       'subscription_type_Prepaid', 'subscription_type_Semestral',\n",
       "       'subscription_type_Trimestral', 'subscription_type_Yearly',\n",
       "       'menu_French', 'menu_Indian', 'menu_Italian', 'menu_Japanese',\n",
       "       'menu_Mexican'],\n",
       "      dtype='object')"
      ]
     },
     "execution_count": 6,
     "metadata": {},
     "output_type": "execute_result"
    }
   ],
   "source": [
    "X_test.columns"
   ]
  },
  {
   "cell_type": "code",
   "execution_count": 7,
   "metadata": {},
   "outputs": [
    {
     "name": "stdout",
     "output_type": "stream",
     "text": [
      "Zone II   = 0.32\n",
      "Zone III  = 0.47\n",
      "Zone IV   = 0.56\n",
      "Zone V    = 0.30\n",
      "Zone VI   = 0.31\n",
      "Zone VII  = 0.51\n",
      "Zone VIII = 0.41\n"
     ]
    }
   ],
   "source": [
    "zones = ['II', 'III', 'IV', 'V', 'VI', 'VII', 'VIII']\n",
    "for z,p in zip(zones, best_model.predict_proba(X_test)[4:11]):\n",
    "    print('Zone %s = %.2f' % (z.ljust(4, ' '), p[1]))"
   ]
  },
  {
   "cell_type": "code",
   "execution_count": 8,
   "metadata": {},
   "outputs": [
    {
     "name": "stdout",
     "output_type": "stream",
     "text": [
      "Subscription type Monthly    = 0.59\n",
      "Subscription type Prepaid    = 0.30\n",
      "Subscription type Semestral  = 0.37\n",
      "Subscription type Trimestral = 0.47\n",
      "Subscription type Yearly     = 0.49\n"
     ]
    }
   ],
   "source": [
    "stypes = ['Monthly', 'Prepaid', 'Semestral', 'Trimestral', 'Yearly']\n",
    "for s,p in zip(stypes, best_model.predict_proba(X_test)[11:16]):\n",
    "    print('Subscription type %s = %.2f' % (s.ljust(10, ' '), p[1]))"
   ]
  },
  {
   "cell_type": "code",
   "execution_count": 9,
   "metadata": {},
   "outputs": [
    {
     "name": "stdout",
     "output_type": "stream",
     "text": [
      "Menu French   = 0.50\n",
      "Menu Indian   = 0.45\n",
      "Menu Italian  = 0.62\n",
      "Menu Japanese = 0.31\n",
      "Menu Mexican  = 0.54\n"
     ]
    }
   ],
   "source": [
    "menus = ['French', 'Indian', 'Italian', 'Japanese', 'Mexican']\n",
    "for m,p in zip(menus, best_model.predict_proba(X_test)[16:21]):\n",
    "    print('Menu %s = %.2f' % (m.ljust(8, ' '), p[1]))"
   ]
  },
  {
   "cell_type": "code",
   "execution_count": null,
   "metadata": {},
   "outputs": [],
   "source": []
  },
  {
   "cell_type": "code",
   "execution_count": null,
   "metadata": {},
   "outputs": [],
   "source": []
  },
  {
   "cell_type": "code",
   "execution_count": null,
   "metadata": {},
   "outputs": [],
   "source": []
  }
 ],
 "metadata": {
  "kernelspec": {
   "display_name": "dlatam_ds",
   "language": "python",
   "name": "dlatam_ds"
  },
  "language_info": {
   "codemirror_mode": {
    "name": "ipython",
    "version": 3
   },
   "file_extension": ".py",
   "mimetype": "text/x-python",
   "name": "python",
   "nbconvert_exporter": "python",
   "pygments_lexer": "ipython3",
   "version": "3.7.3"
  }
 },
 "nbformat": 4,
 "nbformat_minor": 4
}
