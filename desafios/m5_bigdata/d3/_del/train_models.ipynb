{
 "cells": [
  {
   "cell_type": "code",
   "execution_count": 1,
   "metadata": {},
   "outputs": [],
   "source": [
    "import pandas as pd\n",
    "import numpy as np\n",
    "import pickle\n",
    "from sklearn.model_selection import train_test_split\n",
    "from sklearn.linear_model import LogisticRegression\n",
    "from sklearn.tree import DecisionTreeClassifier\n",
    "from sklearn.ensemble import RandomForestClassifier, GradientBoostingClassifier\n",
    "from sklearn.naive_bayes import BernoulliNB\n",
    "from sklearn.metrics import classification_report"
   ]
  },
  {
   "cell_type": "code",
   "execution_count": 2,
   "metadata": {},
   "outputs": [],
   "source": [
    "train_data = 'mock_data/train_delivery_data.csv'\n",
    "df_train = pd.read_csv(train_data)"
   ]
  },
  {
   "cell_type": "code",
   "execution_count": 3,
   "metadata": {},
   "outputs": [],
   "source": [
    "delay_time_mean = np.mean(df_train['delay_time'])\n",
    "df_train['delay_time_bin'] = 0\n",
    "df_train.delay_time_bin = np.where(df_train.delay_time > delay_time_mean, 1, 0)\n",
    "df_train.drop(columns='delay_time', inplace=True)"
   ]
  },
  {
   "cell_type": "code",
   "execution_count": 4,
   "metadata": {},
   "outputs": [],
   "source": [
    "cols_obj = df_train.select_dtypes(include='object').columns\n",
    "df_train = pd.get_dummies(df_train, cols_obj, drop_first=True)"
   ]
  },
  {
   "cell_type": "code",
   "execution_count": 6,
   "metadata": {},
   "outputs": [],
   "source": [
    "obj = 'delay_time_bin'\n",
    "X = df_train.drop([obj], axis=1)\n",
    "y = df_train[obj]\n",
    "X_train, X_test, y_train, y_test = train_test_split(X, y, test_size=.33, random_state=11238)"
   ]
  },
  {
   "cell_type": "code",
   "execution_count": 7,
   "metadata": {},
   "outputs": [],
   "source": [
    "lr = LogisticRegression(max_iter=1000).fit(X_train, y_train)\n",
    "dt = DecisionTreeClassifier().fit(X_train, y_train)\n",
    "rf = RandomForestClassifier().fit(X_train, y_train)\n",
    "gb = GradientBoostingClassifier().fit(X_train, y_train)\n",
    "nb = BernoulliNB().fit(X_train, y_train)"
   ]
  },
  {
   "cell_type": "code",
   "execution_count": 8,
   "metadata": {},
   "outputs": [
    {
     "name": "stdout",
     "output_type": "stream",
     "text": [
      "              precision    recall  f1-score   support\n",
      "\n",
      "           0       0.46      0.56      0.50       167\n",
      "           1       0.41      0.31      0.36       163\n",
      "\n",
      "    accuracy                           0.44       330\n",
      "   macro avg       0.43      0.44      0.43       330\n",
      "weighted avg       0.43      0.44      0.43       330\n",
      "\n"
     ]
    }
   ],
   "source": [
    "print(classification_report(y_test, lr.predict(X_test)))"
   ]
  },
  {
   "cell_type": "code",
   "execution_count": 9,
   "metadata": {},
   "outputs": [
    {
     "name": "stdout",
     "output_type": "stream",
     "text": [
      "              precision    recall  f1-score   support\n",
      "\n",
      "           0       0.51      0.46      0.48       167\n",
      "           1       0.50      0.55      0.52       163\n",
      "\n",
      "    accuracy                           0.50       330\n",
      "   macro avg       0.50      0.50      0.50       330\n",
      "weighted avg       0.50      0.50      0.50       330\n",
      "\n"
     ]
    }
   ],
   "source": [
    "print(classification_report(y_test, dt.predict(X_test)))"
   ]
  },
  {
   "cell_type": "code",
   "execution_count": 10,
   "metadata": {},
   "outputs": [
    {
     "name": "stdout",
     "output_type": "stream",
     "text": [
      "              precision    recall  f1-score   support\n",
      "\n",
      "           0       0.53      0.53      0.53       167\n",
      "           1       0.52      0.52      0.52       163\n",
      "\n",
      "    accuracy                           0.52       330\n",
      "   macro avg       0.52      0.52      0.52       330\n",
      "weighted avg       0.52      0.52      0.52       330\n",
      "\n"
     ]
    }
   ],
   "source": [
    "print(classification_report(y_test, rf.predict(X_test)))"
   ]
  },
  {
   "cell_type": "code",
   "execution_count": 11,
   "metadata": {},
   "outputs": [
    {
     "name": "stdout",
     "output_type": "stream",
     "text": [
      "              precision    recall  f1-score   support\n",
      "\n",
      "           0       0.47      0.49      0.48       167\n",
      "           1       0.45      0.43      0.44       163\n",
      "\n",
      "    accuracy                           0.46       330\n",
      "   macro avg       0.46      0.46      0.46       330\n",
      "weighted avg       0.46      0.46      0.46       330\n",
      "\n"
     ]
    }
   ],
   "source": [
    "print(classification_report(y_test, gb.predict(X_test)))"
   ]
  },
  {
   "cell_type": "code",
   "execution_count": 12,
   "metadata": {},
   "outputs": [
    {
     "name": "stdout",
     "output_type": "stream",
     "text": [
      "              precision    recall  f1-score   support\n",
      "\n",
      "           0       0.51      0.60      0.55       167\n",
      "           1       0.50      0.42      0.46       163\n",
      "\n",
      "    accuracy                           0.51       330\n",
      "   macro avg       0.51      0.51      0.50       330\n",
      "weighted avg       0.51      0.51      0.51       330\n",
      "\n"
     ]
    }
   ],
   "source": [
    "print(classification_report(y_test, nb.predict(X_test)))"
   ]
  },
  {
   "cell_type": "code",
   "execution_count": 13,
   "metadata": {},
   "outputs": [
    {
     "name": "stdout",
     "output_type": "stream",
     "text": [
      "Best model is:\n"
     ]
    },
    {
     "name": "stdin",
     "output_type": "stream",
     "text": [
      " rf\n"
     ]
    }
   ],
   "source": [
    "print(\"Best model is:\")\n",
    "inp = input()\n",
    "if inp == 'lr':\n",
    "pickle.dump(best_model, open('pkl/best_model.pkl', \"wb\"))"
   ]
  },
  {
   "cell_type": "code",
   "execution_count": null,
   "metadata": {},
   "outputs": [],
   "source": []
  }
 ],
 "metadata": {
  "kernelspec": {
   "display_name": "dlatam_ds",
   "language": "python",
   "name": "dlatam_ds"
  },
  "language_info": {
   "codemirror_mode": {
    "name": "ipython",
    "version": 3
   },
   "file_extension": ".py",
   "mimetype": "text/x-python",
   "name": "python",
   "nbconvert_exporter": "python",
   "pygments_lexer": "ipython3",
   "version": "3.7.3"
  }
 },
 "nbformat": 4,
 "nbformat_minor": 4
}
