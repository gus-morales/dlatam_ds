{
 "cells": [
  {
   "cell_type": "markdown",
   "metadata": {},
   "source": [
    "## Machine Learning - Desafío 3, Naive Bayes\n",
    "#### Gustavo Morales, G10 - 25.Nov.2019, (Lunes Semana 2)"
   ]
  },
  {
   "cell_type": "markdown",
   "metadata": {},
   "source": [
    "### Ejercicio 1: Preparar el ambiente de trabajo"
   ]
  },
  {
   "cell_type": "code",
   "execution_count": 2,
   "metadata": {},
   "outputs": [],
   "source": [
    "import pandas as pd\n",
    "import numpy as np\n",
    "import matplotlib.pyplot as plt\n",
    "from matplotlib.pyplot import rcParams\n",
    "import seaborn as sns\n",
    "import glob\n",
    "import os"
   ]
  },
  {
   "cell_type": "code",
   "execution_count": 6,
   "metadata": {},
   "outputs": [
    {
     "name": "stdout",
     "output_type": "stream",
     "text": [
      "/home/gus/learn/courses/dlatam_ds/desafios/m3_w02/desafio_03_Gustavo_Morales.ipynb\n",
      "/home/gus/learn/courses/dlatam_ds/desafios/m3_w02/dump\n",
      "/home/gus/learn/courses/dlatam_ds/desafios/m3_w02/dump_plus_pop\n",
      "/home/gus/learn/courses/dlatam_ds/desafios/m3_w02/02_d_Desafío_-_Naive_Bayes.pdf\n"
     ]
    }
   ],
   "source": [
    "CWD = os.getcwd()\n",
    "\n",
    "for name in glob.glob(CWD+'/*'):\n",
    "    print(name)"
   ]
  },
  {
   "cell_type": "code",
   "execution_count": 5,
   "metadata": {},
   "outputs": [
    {
     "data": {
      "text/plain": [
       "['dump/tool_scrape.csv',\n",
       " 'dump/the_clash_scrape.csv',\n",
       " 'dump/method_man_scrape.csv',\n",
       " 'dump/mobb_deep_scrape.csv',\n",
       " 'dump/black_star_scrape.csv',\n",
       " 'dump/de_la_soul_scrape.csv',\n",
       " 'dump/kanye_west_scrape.csv',\n",
       " 'dump/the_smashing_pumpkins_scrape.csv',\n",
       " 'dump/modest_mouse_scrape.csv',\n",
       " 'dump/radiohead_scrape.csv',\n",
       " 'dump/mayhem_scrape.csv',\n",
       " 'dump/spice_girls_scrape.csv',\n",
       " 'dump/sam_smith_scrape.csv',\n",
       " 'dump/weezer_scrape.csv',\n",
       " 'dump/incubus_scrape.csv',\n",
       " 'dump/pink_floyd_scrape.csv',\n",
       " 'dump/lorde_scrape.csv',\n",
       " 'dump/megadeth_scrape.csv',\n",
       " 'dump/britney_spears_scrape.csv',\n",
       " 'dump/bruce_springsteen_scrape.csv',\n",
       " 'dump/vital_remains_scrape.csv',\n",
       " 'dump/oasis_scrape.csv',\n",
       " 'dump/queen_scrape.csv',\n",
       " 'dump/rage_against_the_machine_scrape.csv',\n",
       " 'dump/rush_scrape.csv',\n",
       " 'dump/meshuggah_scrape.csv',\n",
       " 'dump/anthrax_scrape.csv',\n",
       " 'dump/the_doors_scrape.csv',\n",
       " 'dump/faith_no_more_scrape.csv',\n",
       " 'dump/sia_scrape.csv',\n",
       " 'dump/necrophagist_scrape.csv',\n",
       " 'dump/the_smiths_scrape.csv',\n",
       " 'dump/system_of_a_down_scrape.csv',\n",
       " 'dump/killer_mike_scrape.csv',\n",
       " 'dump/slayer_scrape.csv',\n",
       " 'dump/kiss_scrape.csv',\n",
       " 'dump/gorgoroth_scrape.csv',\n",
       " 'dump/deicide_scrape.csv',\n",
       " 'dump/nicki_minaj_scrape.csv',\n",
       " 'dump/cannibal_corpse_scrape.csv',\n",
       " 'dump/carly_rae_jepsen_scrape.csv',\n",
       " 'dump/raekwon_scrape.csv',\n",
       " 'dump/iron_maiden_scrape.csv',\n",
       " 'dump/the_beatles_scrape.csv',\n",
       " 'dump/eminem_scrape.csv',\n",
       " 'dump/kendrick_lamar_scrape.csv',\n",
       " 'dump/mf_doom_scrape.csv',\n",
       " 'dump/metallica_scrape.csv',\n",
       " 'dump/a_tribe_called_quest_scrape.csv',\n",
       " 'dump/led_zeppelin_scrape.csv',\n",
       " 'dump/red_hot_chili_peppers_scrape.csv',\n",
       " 'dump/nwa_scrape.csv',\n",
       " 'dump/nickelback_scrape.csv',\n",
       " 'dump/michael_jackson_scrape.csv',\n",
       " 'dump/dr._dre_scrape.csv',\n",
       " 'dump/public_enemy_scrape.csv',\n",
       " 'dump/ghostface_killah_scrape.csv',\n",
       " 'dump/mos_def_scrape.csv',\n",
       " 'dump/immortal_scrape.csv',\n",
       " 'dump/dua_lipa_scrape.csv',\n",
       " 'dump/opeth_scrape.csv',\n",
       " 'dump/bob_dylan_scrape.csv',\n",
       " 'dump_plus_pop/tool_scrape.csv',\n",
       " 'dump_plus_pop/the_clash_scrape.csv',\n",
       " 'dump_plus_pop/method_man_scrape.csv',\n",
       " 'dump_plus_pop/mobb_deep_scrape.csv',\n",
       " 'dump_plus_pop/black_star_scrape.csv',\n",
       " 'dump_plus_pop/de_la_soul_scrape.csv',\n",
       " 'dump_plus_pop/kanye_west_scrape.csv',\n",
       " 'dump_plus_pop/justin_timberlake_scrape.csv',\n",
       " 'dump_plus_pop/the_smashing_pumpkins_scrape.csv',\n",
       " 'dump_plus_pop/modest_mouse_scrape.csv',\n",
       " 'dump_plus_pop/backstreet_boys_scrape.csv',\n",
       " 'dump_plus_pop/radiohead_scrape.csv',\n",
       " 'dump_plus_pop/mayhem_scrape.csv',\n",
       " 'dump_plus_pop/the_weeknd_scrape.csv',\n",
       " 'dump_plus_pop/spice_girls_scrape.csv',\n",
       " 'dump_plus_pop/sam_smith_scrape.csv',\n",
       " 'dump_plus_pop/weezer_scrape.csv',\n",
       " 'dump_plus_pop/incubus_scrape.csv',\n",
       " 'dump_plus_pop/pink_floyd_scrape.csv',\n",
       " 'dump_plus_pop/lorde_scrape.csv',\n",
       " 'dump_plus_pop/megadeth_scrape.csv',\n",
       " 'dump_plus_pop/britney_spears_scrape.csv',\n",
       " 'dump_plus_pop/bruce_springsteen_scrape.csv',\n",
       " 'dump_plus_pop/new_kids_on_the_block_scrape.csv',\n",
       " 'dump_plus_pop/vital_remains_scrape.csv',\n",
       " 'dump_plus_pop/oasis_scrape.csv',\n",
       " 'dump_plus_pop/queen_scrape.csv',\n",
       " 'dump_plus_pop/george_michael_scrape.csv',\n",
       " 'dump_plus_pop/rage_against_the_machine_scrape.csv',\n",
       " 'dump_plus_pop/rush_scrape.csv',\n",
       " 'dump_plus_pop/meshuggah_scrape.csv',\n",
       " 'dump_plus_pop/anthrax_scrape.csv',\n",
       " 'dump_plus_pop/the_doors_scrape.csv',\n",
       " 'dump_plus_pop/faith_no_more_scrape.csv',\n",
       " 'dump_plus_pop/sia_scrape.csv',\n",
       " 'dump_plus_pop/necrophagist_scrape.csv',\n",
       " 'dump_plus_pop/the_smiths_scrape.csv',\n",
       " 'dump_plus_pop/system_of_a_down_scrape.csv',\n",
       " 'dump_plus_pop/killer_mike_scrape.csv',\n",
       " 'dump_plus_pop/slayer_scrape.csv',\n",
       " 'dump_plus_pop/kiss_scrape.csv',\n",
       " 'dump_plus_pop/gorgoroth_scrape.csv',\n",
       " 'dump_plus_pop/deicide_scrape.csv',\n",
       " 'dump_plus_pop/nicki_minaj_scrape.csv',\n",
       " 'dump_plus_pop/cannibal_corpse_scrape.csv',\n",
       " 'dump_plus_pop/christina_aguilera_scrape.csv',\n",
       " 'dump_plus_pop/carly_rae_jepsen_scrape.csv',\n",
       " 'dump_plus_pop/five_scrape.csv',\n",
       " 'dump_plus_pop/raekwon_scrape.csv',\n",
       " 'dump_plus_pop/ariana_grande_scrape.csv',\n",
       " 'dump_plus_pop/iron_maiden_scrape.csv',\n",
       " 'dump_plus_pop/the_beatles_scrape.csv',\n",
       " 'dump_plus_pop/eminem_scrape.csv',\n",
       " 'dump_plus_pop/kendrick_lamar_scrape.csv',\n",
       " 'dump_plus_pop/mf_doom_scrape.csv',\n",
       " 'dump_plus_pop/usher_scrape.csv',\n",
       " 'dump_plus_pop/metallica_scrape.csv',\n",
       " 'dump_plus_pop/a_tribe_called_quest_scrape.csv',\n",
       " 'dump_plus_pop/led_zeppelin_scrape.csv',\n",
       " 'dump_plus_pop/red_hot_chili_peppers_scrape.csv',\n",
       " 'dump_plus_pop/nwa_scrape.csv',\n",
       " 'dump_plus_pop/nickelback_scrape.csv',\n",
       " 'dump_plus_pop/michael_jackson_scrape.csv',\n",
       " 'dump_plus_pop/dr._dre_scrape.csv',\n",
       " 'dump_plus_pop/public_enemy_scrape.csv',\n",
       " 'dump_plus_pop/ghostface_killah_scrape.csv',\n",
       " 'dump_plus_pop/frank_ocean_scrape.csv',\n",
       " 'dump_plus_pop/mos_def_scrape.csv',\n",
       " 'dump_plus_pop/pharrell_williams_scrape.csv',\n",
       " 'dump_plus_pop/immortal_scrape.csv',\n",
       " 'dump_plus_pop/dua_lipa_scrape.csv',\n",
       " 'dump_plus_pop/opeth_scrape.csv',\n",
       " 'dump_plus_pop/bob_dylan_scrape.csv']"
      ]
     },
     "execution_count": 5,
     "metadata": {},
     "output_type": "execute_result"
    }
   ],
   "source": [
    "glob.glob('*/*.csv')"
   ]
  },
  {
   "cell_type": "code",
   "execution_count": null,
   "metadata": {},
   "outputs": [],
   "source": []
  }
 ],
 "metadata": {
  "kernelspec": {
   "display_name": "dlatam_ds",
   "language": "python",
   "name": "dlatam_ds"
  },
  "language_info": {
   "codemirror_mode": {
    "name": "ipython",
    "version": 3
   },
   "file_extension": ".py",
   "mimetype": "text/x-python",
   "name": "python",
   "nbconvert_exporter": "python",
   "pygments_lexer": "ipython3",
   "version": "3.7.3"
  }
 },
 "nbformat": 4,
 "nbformat_minor": 4
}
