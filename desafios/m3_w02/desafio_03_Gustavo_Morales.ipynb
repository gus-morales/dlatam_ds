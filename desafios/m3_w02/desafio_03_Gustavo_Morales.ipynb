{
 "cells": [
  {
   "cell_type": "markdown",
   "metadata": {},
   "source": [
    "## Machine Learning - Desafío 3, Naive Bayes\n",
    "#### Gustavo Morales, G10 - 13.Ene.2020, (Lunes Semana 2)"
   ]
  },
  {
   "cell_type": "markdown",
   "metadata": {},
   "source": [
    "### **Ejercicio 1: Preparar el ambiente de trabajo**"
   ]
  },
  {
   "cell_type": "code",
   "execution_count": 1,
   "metadata": {},
   "outputs": [],
   "source": [
    "import pandas as pd\n",
    "import numpy as np\n",
    "import matplotlib.pyplot as plt\n",
    "from matplotlib.pyplot import rcParams\n",
    "import seaborn as sns\n",
    "import glob\n",
    "import os\n",
    "import itertools"
   ]
  },
  {
   "cell_type": "code",
   "execution_count": 2,
   "metadata": {},
   "outputs": [
    {
     "name": "stdout",
     "output_type": "stream",
     "text": [
      "/home/gus/learn/courses/dlatam_ds/desafios/m3_w02/desafio_03_Gustavo_Morales.ipynb\n",
      "/home/gus/learn/courses/dlatam_ds/desafios/m3_w02/desafio_03_Gustavo_Morales.zip\n",
      "/home/gus/learn/courses/dlatam_ds/desafios/m3_w02/dump\n",
      "/home/gus/learn/courses/dlatam_ds/desafios/m3_w02/dump_plus_pop\n",
      "/home/gus/learn/courses/dlatam_ds/desafios/m3_w02/Desafio_Naive_Bayes_Eduardo_Lopez.ipynb\n",
      "/home/gus/learn/courses/dlatam_ds/desafios/m3_w02/Desafio_Analisis_Lineal_Discriminante_Eduardo_Lopez.ipynb\n",
      "/home/gus/learn/courses/dlatam_ds/desafios/m3_w02/desafio_04_Gustavo_Morales.ipynb\n",
      "/home/gus/learn/courses/dlatam_ds/desafios/m3_w02/02_d_Desafío_-_Naive_Bayes.pdf\n"
     ]
    }
   ],
   "source": [
    "CWD = os.getcwd()\n",
    "\n",
    "for name in glob.glob(CWD+'/*'):\n",
    "    print(name)"
   ]
  },
  {
   "cell_type": "code",
   "execution_count": 3,
   "metadata": {},
   "outputs": [],
   "source": [
    "route = glob.glob('dump/*.csv')"
   ]
  },
  {
   "cell_type": "code",
   "execution_count": 4,
   "metadata": {},
   "outputs": [],
   "source": [
    "dfs = []\n",
    "\n",
    "for fname in route:\n",
    "    df_aux = pd.read_csv(fname, header=0)\n",
    "    dfs.append(df_aux)"
   ]
  },
  {
   "cell_type": "code",
   "execution_count": 5,
   "metadata": {},
   "outputs": [],
   "source": [
    "df = pd.concat(dfs, axis=0, ignore_index=True, sort=True)\n",
    "df.drop(columns='Unnamed: 0', inplace=True)\n",
    "df.rename(columns={'0': 'artist', '1': 'genre', '2': 'song', '3': 'lyrics'}, inplace=True)"
   ]
  },
  {
   "cell_type": "code",
   "execution_count": 6,
   "metadata": {},
   "outputs": [
    {
     "data": {
      "text/html": [
       "<div>\n",
       "<style scoped>\n",
       "    .dataframe tbody tr th:only-of-type {\n",
       "        vertical-align: middle;\n",
       "    }\n",
       "\n",
       "    .dataframe tbody tr th {\n",
       "        vertical-align: top;\n",
       "    }\n",
       "\n",
       "    .dataframe thead th {\n",
       "        text-align: right;\n",
       "    }\n",
       "</style>\n",
       "<table border=\"1\" class=\"dataframe\">\n",
       "  <thead>\n",
       "    <tr style=\"text-align: right;\">\n",
       "      <th></th>\n",
       "      <th>artist</th>\n",
       "      <th>genre</th>\n",
       "      <th>song</th>\n",
       "      <th>lyrics</th>\n",
       "    </tr>\n",
       "  </thead>\n",
       "  <tbody>\n",
       "    <tr>\n",
       "      <th>1855</th>\n",
       "      <td>Weezer</td>\n",
       "      <td>rock</td>\n",
       "      <td>Unbreak My Heart</td>\n",
       "      <td>Don't leave me in all this pain \\n Don't leave...</td>\n",
       "    </tr>\n",
       "    <tr>\n",
       "      <th>6322</th>\n",
       "      <td>The Beatles</td>\n",
       "      <td>rock</td>\n",
       "      <td>Penny Lane</td>\n",
       "      <td>In Penny Lane there is a barber showing photog...</td>\n",
       "    </tr>\n",
       "    <tr>\n",
       "      <th>7496</th>\n",
       "      <td>Led Zeppelin</td>\n",
       "      <td>rock</td>\n",
       "      <td>I'm Gonna Crawl</td>\n",
       "      <td>Oh, she's my baby \\n Let me tell you why \\n He...</td>\n",
       "    </tr>\n",
       "    <tr>\n",
       "      <th>6794</th>\n",
       "      <td>Eminem</td>\n",
       "      <td>hiphop</td>\n",
       "      <td>Freestyle I</td>\n",
       "      <td>Im driven to write \\n Given the mic \\n Livin' ...</td>\n",
       "    </tr>\n",
       "    <tr>\n",
       "      <th>3477</th>\n",
       "      <td>Queen</td>\n",
       "      <td>rock</td>\n",
       "      <td>Ogre Battle</td>\n",
       "      <td>Now once upon a time \\n An old man told me a f...</td>\n",
       "    </tr>\n",
       "    <tr>\n",
       "      <th>7360</th>\n",
       "      <td>A Tribe Called Quest</td>\n",
       "      <td>hiphop</td>\n",
       "      <td>The Pressure</td>\n",
       "      <td>(Q-Tip) \\n In this American metropolis filled ...</td>\n",
       "    </tr>\n",
       "    <tr>\n",
       "      <th>6907</th>\n",
       "      <td>Eminem</td>\n",
       "      <td>hiphop</td>\n",
       "      <td>Slim Shade EP</td>\n",
       "      <td>May I have your attention please \\n Will the R...</td>\n",
       "    </tr>\n",
       "    <tr>\n",
       "      <th>2891</th>\n",
       "      <td>Bruce Springsteen</td>\n",
       "      <td>rock</td>\n",
       "      <td>Dancing In The Dark</td>\n",
       "      <td>I get up in the evening \\n And I ain't got not...</td>\n",
       "    </tr>\n",
       "    <tr>\n",
       "      <th>3985</th>\n",
       "      <td>Anthrax</td>\n",
       "      <td>metal</td>\n",
       "      <td>Madhouse</td>\n",
       "      <td>It's time for your medication, Mr. Brown \\n Oo...</td>\n",
       "    </tr>\n",
       "    <tr>\n",
       "      <th>2670</th>\n",
       "      <td>Britney Spears</td>\n",
       "      <td>pop</td>\n",
       "      <td>State Of Grace</td>\n",
       "      <td>Love is a state of grace \\n Transcending time ...</td>\n",
       "    </tr>\n",
       "  </tbody>\n",
       "</table>\n",
       "</div>"
      ],
      "text/plain": [
       "                    artist   genre                 song  \\\n",
       "1855                Weezer    rock     Unbreak My Heart   \n",
       "6322           The Beatles    rock           Penny Lane   \n",
       "7496          Led Zeppelin    rock      I'm Gonna Crawl   \n",
       "6794                Eminem  hiphop          Freestyle I   \n",
       "3477                 Queen    rock          Ogre Battle   \n",
       "7360  A Tribe Called Quest  hiphop         The Pressure   \n",
       "6907                Eminem  hiphop        Slim Shade EP   \n",
       "2891     Bruce Springsteen    rock  Dancing In The Dark   \n",
       "3985               Anthrax   metal             Madhouse   \n",
       "2670        Britney Spears     pop       State Of Grace   \n",
       "\n",
       "                                                 lyrics  \n",
       "1855  Don't leave me in all this pain \\n Don't leave...  \n",
       "6322  In Penny Lane there is a barber showing photog...  \n",
       "7496  Oh, she's my baby \\n Let me tell you why \\n He...  \n",
       "6794  Im driven to write \\n Given the mic \\n Livin' ...  \n",
       "3477  Now once upon a time \\n An old man told me a f...  \n",
       "7360  (Q-Tip) \\n In this American metropolis filled ...  \n",
       "6907  May I have your attention please \\n Will the R...  \n",
       "2891  I get up in the evening \\n And I ain't got not...  \n",
       "3985  It's time for your medication, Mr. Brown \\n Oo...  \n",
       "2670  Love is a state of grace \\n Transcending time ...  "
      ]
     },
     "execution_count": 6,
     "metadata": {},
     "output_type": "execute_result"
    }
   ],
   "source": [
    "df.sample(10)"
   ]
  },
  {
   "cell_type": "code",
   "execution_count": 7,
   "metadata": {},
   "outputs": [
    {
     "name": "stdout",
     "output_type": "stream",
     "text": [
      "<class 'pandas.core.frame.DataFrame'>\n",
      "RangeIndex: 9489 entries, 0 to 9488\n",
      "Data columns (total 4 columns):\n",
      "artist    9489 non-null object\n",
      "genre     9489 non-null object\n",
      "song      9489 non-null object\n",
      "lyrics    9489 non-null object\n",
      "dtypes: object(4)\n",
      "memory usage: 296.7+ KB\n"
     ]
    }
   ],
   "source": [
    "df.info()"
   ]
  },
  {
   "cell_type": "code",
   "execution_count": 8,
   "metadata": {},
   "outputs": [
    {
     "data": {
      "text/plain": [
       "artist    0\n",
       "genre     0\n",
       "song      0\n",
       "lyrics    0\n",
       "dtype: int64"
      ]
     },
     "execution_count": 8,
     "metadata": {},
     "output_type": "execute_result"
    }
   ],
   "source": [
    "df.isnull().sum(axis = 0)  # NaN distribution columnwise"
   ]
  },
  {
   "cell_type": "markdown",
   "metadata": {},
   "source": [
    "### **Ejercicio 2: Descripción de los datos**"
   ]
  },
  {
   "cell_type": "markdown",
   "metadata": {},
   "source": [
    "##### ($2.1$) Cantidad de canciones registradas por cada artista en orden decreciente:"
   ]
  },
  {
   "cell_type": "code",
   "execution_count": 9,
   "metadata": {},
   "outputs": [
    {
     "data": {
      "text/html": [
       "<div>\n",
       "<style scoped>\n",
       "    .dataframe tbody tr th:only-of-type {\n",
       "        vertical-align: middle;\n",
       "    }\n",
       "\n",
       "    .dataframe tbody tr th {\n",
       "        vertical-align: top;\n",
       "    }\n",
       "\n",
       "    .dataframe thead th {\n",
       "        text-align: right;\n",
       "    }\n",
       "</style>\n",
       "<table border=\"1\" class=\"dataframe\">\n",
       "  <thead>\n",
       "    <tr style=\"text-align: right;\">\n",
       "      <th></th>\n",
       "      <th>artist</th>\n",
       "      <th>counts</th>\n",
       "    </tr>\n",
       "  </thead>\n",
       "  <tbody>\n",
       "    <tr>\n",
       "      <th>0</th>\n",
       "      <td>Eminem</td>\n",
       "      <td>493</td>\n",
       "    </tr>\n",
       "    <tr>\n",
       "      <th>1</th>\n",
       "      <td>Bruce Springsteen</td>\n",
       "      <td>467</td>\n",
       "    </tr>\n",
       "    <tr>\n",
       "      <th>2</th>\n",
       "      <td>Bob Dylan</td>\n",
       "      <td>447</td>\n",
       "    </tr>\n",
       "    <tr>\n",
       "      <th>3</th>\n",
       "      <td>Britney Spears</td>\n",
       "      <td>323</td>\n",
       "    </tr>\n",
       "    <tr>\n",
       "      <th>4</th>\n",
       "      <td>Nicki Minaj</td>\n",
       "      <td>282</td>\n",
       "    </tr>\n",
       "    <tr>\n",
       "      <th>...</th>\n",
       "      <td>...</td>\n",
       "      <td>...</td>\n",
       "    </tr>\n",
       "    <tr>\n",
       "      <th>56</th>\n",
       "      <td>Dua Lipa</td>\n",
       "      <td>29</td>\n",
       "    </tr>\n",
       "    <tr>\n",
       "      <th>57</th>\n",
       "      <td>Lorde</td>\n",
       "      <td>27</td>\n",
       "    </tr>\n",
       "    <tr>\n",
       "      <th>58</th>\n",
       "      <td>Black Star</td>\n",
       "      <td>23</td>\n",
       "    </tr>\n",
       "    <tr>\n",
       "      <th>59</th>\n",
       "      <td>Necrophagist</td>\n",
       "      <td>16</td>\n",
       "    </tr>\n",
       "    <tr>\n",
       "      <th>60</th>\n",
       "      <td>Gorgoroth</td>\n",
       "      <td>16</td>\n",
       "    </tr>\n",
       "  </tbody>\n",
       "</table>\n",
       "<p>61 rows × 2 columns</p>\n",
       "</div>"
      ],
      "text/plain": [
       "               artist  counts\n",
       "0              Eminem     493\n",
       "1   Bruce Springsteen     467\n",
       "2           Bob Dylan     447\n",
       "3      Britney Spears     323\n",
       "4         Nicki Minaj     282\n",
       "..                ...     ...\n",
       "56           Dua Lipa      29\n",
       "57              Lorde      27\n",
       "58         Black Star      23\n",
       "59       Necrophagist      16\n",
       "60          Gorgoroth      16\n",
       "\n",
       "[61 rows x 2 columns]"
      ]
     },
     "execution_count": 9,
     "metadata": {},
     "output_type": "execute_result"
    }
   ],
   "source": [
    "df['artist'].value_counts().rename_axis('artist').reset_index(name='counts')"
   ]
  },
  {
   "cell_type": "code",
   "execution_count": 10,
   "metadata": {},
   "outputs": [
    {
     "data": {
      "image/png": "[encoded data removed]",
      "text/plain": [
       "<Figure size 936x360 with 1 Axes>"
      ]
     },
     "metadata": {
      "needs_background": "light"
     },
     "output_type": "display_data"
    }
   ],
   "source": [
    "plt.figure(figsize=(13,5))\n",
    "chart = sns.countplot(data=df, x='artist', order = df['artist'].value_counts().index, palette='viridis')\n",
    "chart.set_xticklabels(chart.get_xticklabels(), rotation=90)\n",
    "plt.tight_layout()"
   ]
  },
  {
   "cell_type": "markdown",
   "metadata": {},
   "source": [
    "##### $(2.2)$ Cantidad de canciones registradas por cada género en orden decreciente:"
   ]
  },
  {
   "cell_type": "code",
   "execution_count": 11,
   "metadata": {},
   "outputs": [
    {
     "data": {
      "text/html": [
       "<div>\n",
       "<style scoped>\n",
       "    .dataframe tbody tr th:only-of-type {\n",
       "        vertical-align: middle;\n",
       "    }\n",
       "\n",
       "    .dataframe tbody tr th {\n",
       "        vertical-align: top;\n",
       "    }\n",
       "\n",
       "    .dataframe thead th {\n",
       "        text-align: right;\n",
       "    }\n",
       "</style>\n",
       "<table border=\"1\" class=\"dataframe\">\n",
       "  <thead>\n",
       "    <tr style=\"text-align: right;\">\n",
       "      <th></th>\n",
       "      <th>genre</th>\n",
       "      <th>counts</th>\n",
       "    </tr>\n",
       "  </thead>\n",
       "  <tbody>\n",
       "    <tr>\n",
       "      <th>0</th>\n",
       "      <td>rock</td>\n",
       "      <td>4140</td>\n",
       "    </tr>\n",
       "    <tr>\n",
       "      <th>1</th>\n",
       "      <td>hiphop</td>\n",
       "      <td>2535</td>\n",
       "    </tr>\n",
       "    <tr>\n",
       "      <th>2</th>\n",
       "      <td>metal</td>\n",
       "      <td>1582</td>\n",
       "    </tr>\n",
       "    <tr>\n",
       "      <th>3</th>\n",
       "      <td>pop</td>\n",
       "      <td>1232</td>\n",
       "    </tr>\n",
       "  </tbody>\n",
       "</table>\n",
       "</div>"
      ],
      "text/plain": [
       "    genre  counts\n",
       "0    rock    4140\n",
       "1  hiphop    2535\n",
       "2   metal    1582\n",
       "3     pop    1232"
      ]
     },
     "execution_count": 11,
     "metadata": {},
     "output_type": "execute_result"
    }
   ],
   "source": [
    "df['genre'].value_counts().rename_axis('genre').reset_index(name='counts')"
   ]
  },
  {
   "cell_type": "code",
   "execution_count": 12,
   "metadata": {},
   "outputs": [
    {
     "data": {
      "image/png": "[encoded data removed]",
      "text/plain": [
       "<Figure size 360x360 with 1 Axes>"
      ]
     },
     "metadata": {
      "needs_background": "light"
     },
     "output_type": "display_data"
    }
   ],
   "source": [
    "plt.figure(figsize=(5,5))\n",
    "chart = sns.countplot(data=df, x='genre', order = df['genre'].value_counts().index, palette='viridis')\n",
    "plt.tight_layout()"
   ]
  },
  {
   "cell_type": "markdown",
   "metadata": {},
   "source": [
    "##### $(2.3)$ Principales tendencias:"
   ]
  },
  {
   "cell_type": "markdown",
   "metadata": {},
   "source": [
    "**(R)** De acuerdo a $(2.1)$, el top 5 de artistas con más canciones es:"
   ]
  },
  {
   "cell_type": "code",
   "execution_count": 13,
   "metadata": {},
   "outputs": [
    {
     "data": {
      "text/plain": [
       "Eminem               493\n",
       "Bruce Springsteen    467\n",
       "Bob Dylan            447\n",
       "Britney Spears       323\n",
       "Nicki Minaj          282\n",
       "Name: artist, dtype: int64"
      ]
     },
     "execution_count": 13,
     "metadata": {},
     "output_type": "execute_result"
    }
   ],
   "source": [
    "df['artist'].value_counts().head(5)"
   ]
  },
  {
   "cell_type": "markdown",
   "metadata": {},
   "source": [
    "Y de acuerdo a $(2.2)$, el género más prolífero es el **rock**, seguido del **hiphop**."
   ]
  },
  {
   "cell_type": "markdown",
   "metadata": {},
   "source": [
    "### **Ejercicio 3: Matriz de ocurrencias**"
   ]
  },
  {
   "cell_type": "code",
   "execution_count": 14,
   "metadata": {},
   "outputs": [],
   "source": [
    "from sklearn.feature_extraction.text import CountVectorizer"
   ]
  },
  {
   "cell_type": "markdown",
   "metadata": {},
   "source": [
    "**(R)** En análisis computacional de textos, un _token_ es una unidad funcional de texto que generaliza el concepto de palabras (típicamente separados por espacios). `CountVectorizer` convierte una colección de documentos de texto a una matriz de cuentas de _tokens_, proveyendo una manera de _tokenizar_ dicha colección construyendo un vocabulario de palabras conocidas, a la vez que permite codificar nuevos documentos usando dicho vocabulario."
   ]
  },
  {
   "cell_type": "code",
   "execution_count": 15,
   "metadata": {},
   "outputs": [],
   "source": [
    "def top100_words(dataframe, genre=None):\n",
    "    df_ = dataframe\n",
    "    if genre!=None:\n",
    "        df_ = dataframe[dataframe['genre'] == genre]\n",
    "    count_vectorizer = CountVectorizer(stop_words = 'english')\n",
    "    count_vectorizer_fit = count_vectorizer.fit_transform(df_['lyrics'])\n",
    "    words = count_vectorizer.get_feature_names()\n",
    "    words_freq = count_vectorizer_fit.toarray().sum(axis = 0)\n",
    "    df__ = pd.DataFrame({'words':words, 'frequency':words_freq})\n",
    "    print(genre) if genre!=None else print('')\n",
    "    print(df__.sort_values('frequency', ascending = False).head(100))"
   ]
  },
  {
   "cell_type": "markdown",
   "metadata": {},
   "source": [
    "**(R)** Las 100 palabras mas repetidas en canciones en todo el data set:"
   ]
  },
  {
   "cell_type": "code",
   "execution_count": 16,
   "metadata": {},
   "outputs": [
    {
     "name": "stdout",
     "output_type": "stream",
     "text": [
      "\n",
      "       words  frequency\n",
      "24950   like      19629\n",
      "12859    don      17398\n",
      "23856   know      14962\n",
      "18439    got      14171\n",
      "23287   just      13978\n",
      "...      ...        ...\n",
      "11041  death       1897\n",
      "24615   left       1895\n",
      "43442  thing       1882\n",
      "14305    end       1829\n",
      "41068   stay       1828\n",
      "\n",
      "[100 rows x 2 columns]\n"
     ]
    }
   ],
   "source": [
    "top100_words(df)"
   ]
  },
  {
   "cell_type": "markdown",
   "metadata": {},
   "source": [
    "**(R)** Las 100 palabras mas repetidas por género:"
   ]
  },
  {
   "cell_type": "code",
   "execution_count": 17,
   "metadata": {},
   "outputs": [
    {
     "name": "stdout",
     "output_type": "stream",
     "text": [
      "rock\n",
      "       words  frequency\n",
      "5282     don       5284\n",
      "10362   love       5114\n",
      "9697    know       4702\n",
      "12077     oh       4258\n",
      "20056   yeah       4157\n",
      "...      ...        ...\n",
      "18247   town        558\n",
      "6337    fall        548\n",
      "14819  round        548\n",
      "4527    days        542\n",
      "10335   lost        541\n",
      "\n",
      "[100 rows x 2 columns]\n",
      "------------------------\n",
      "hiphop\n",
      "        words  frequency\n",
      "18361    like      12055\n",
      "13533     got       7613\n",
      "9466      don       7604\n",
      "17532    know       6535\n",
      "17082    just       6272\n",
      "...       ...        ...\n",
      "31521    talk        823\n",
      "18961      ma        821\n",
      "34088   verse        820\n",
      "5866   chorus        811\n",
      "3911     bout        808\n",
      "\n",
      "[100 rows x 2 columns]\n",
      "------------------------\n",
      "metal\n",
      "       words  frequency\n",
      "7883    life       1233\n",
      "4088     don       1181\n",
      "3284   death       1139\n",
      "13844   time       1096\n",
      "7977      ll       1069\n",
      "...      ...        ...\n",
      "13839   till        215\n",
      "5939    good        214\n",
      "11666   save        213\n",
      "13041   stop        211\n",
      "8034    lord        210\n",
      "\n",
      "[100 rows x 2 columns]\n",
      "------------------------\n",
      "pop\n",
      "           words  frequency\n",
      "3135         don       3329\n",
      "6219        like       2995\n",
      "6390        love       2914\n",
      "7455          oh       2737\n",
      "5918        know       2677\n",
      "...          ...        ...\n",
      "878      believe        282\n",
      "10873      thing        274\n",
      "3641   everybody        270\n",
      "3429          eh        269\n",
      "1865       chick        267\n",
      "\n",
      "[100 rows x 2 columns]\n",
      "------------------------\n"
     ]
    }
   ],
   "source": [
    "genres =  ['rock', 'hiphop', 'metal', 'pop']\n",
    "for genre in genres:\n",
    "    top100_words(df, genre=genre)\n",
    "    print('------------------------')"
   ]
  },
  {
   "cell_type": "markdown",
   "metadata": {},
   "source": [
    "**(R)**\n",
    "- Palabras como `don` (provenientes de `don't`) tienden a ser independientes del género.\n",
    "- Palabras como `love` y `like` tienden a repetirse mucho, excepto en el metal.\n",
    "- En este último, naturalmente las palabras más repetidas son `life`, `death`, `lord`, etc."
   ]
  },
  {
   "cell_type": "markdown",
   "metadata": {},
   "source": [
    "#### **Ejercicio 4: Entrenamiento del Modelo**"
   ]
  },
  {
   "cell_type": "code",
   "execution_count": 18,
   "metadata": {},
   "outputs": [],
   "source": [
    "from sklearn.naive_bayes import MultinomialNB\n",
    "from sklearn.pipeline import Pipeline\n",
    "from sklearn.metrics import roc_auc_score, roc_curve, confusion_matrix\n",
    "from sklearn.model_selection import train_test_split\n",
    "from sklearn.preprocessing import LabelEncoder\n",
    "from sklearn.metrics import classification_report"
   ]
  },
  {
   "cell_type": "code",
   "execution_count": 19,
   "metadata": {},
   "outputs": [],
   "source": [
    "X = df['lyrics']\n",
    "y = df['genre']\n",
    "\n",
    "X_train, X_test, y_train, y_test = train_test_split(X, y, test_size = .4, random_state = 42)"
   ]
  },
  {
   "cell_type": "code",
   "execution_count": 20,
   "metadata": {},
   "outputs": [],
   "source": [
    "pipeline = Pipeline(\n",
    "    [\n",
    "        ('cvect', CountVectorizer(stop_words = 'english')),\n",
    "        ('mnbay', MultinomialNB())\n",
    "    ]\n",
    ")"
   ]
  },
  {
   "cell_type": "code",
   "execution_count": 22,
   "metadata": {},
   "outputs": [],
   "source": [
    "pipeline.fit(X_train, y_train);\n",
    "# pipeline.named_steps.countvect.get_feature_names()"
   ]
  },
  {
   "cell_type": "code",
   "execution_count": 23,
   "metadata": {},
   "outputs": [],
   "source": [
    "to_predict = pd.Series(np.array(\n",
    "    [\"I got a place in the underworld\",\n",
    "     \"As veils of ignorance, hatred retains Storm of arrows through karma Seeking light through samsara\", \n",
    "     \"Bye bye Don't want to be a fool for you Just another player in your game for two You may hate me but it ain't no lie\",\n",
    "     \"Move bitch, get out the way Get out the way bitch, get out the way Move bitch, get out the way Get out the way bitch, get out the way\",\n",
    "     \"Sexual violence doesn’t start and end with rape It starts in our books and behind our school gates\",\n",
    "     \"Take it from the girl you claimed to love You gonna get some bad karma I'm the one who had to learn to build a heart made of armor From the girl who made you soup and tied your shoes when you were hurting You are not deserving, you are not deserving\"\n",
    "    ]))"
   ]
  },
  {
   "cell_type": "code",
   "execution_count": 24,
   "metadata": {},
   "outputs": [
    {
     "data": {
      "text/plain": [
       "array(['rock', 'metal', 'rock', 'pop', 'metal', 'rock'], dtype='<U6')"
      ]
     },
     "execution_count": 24,
     "metadata": {},
     "output_type": "execute_result"
    }
   ],
   "source": [
    "pipeline.predict(to_predict)"
   ]
  },
  {
   "cell_type": "markdown",
   "metadata": {},
   "source": [
    "**(R)** Contraste con la predicción: la predicción es regular; 2 de 6 correctas. `Pop` en general da problemas."
   ]
  },
  {
   "cell_type": "markdown",
   "metadata": {},
   "source": [
    "| Artist       | my prediction     | Google says |\n",
    "|--------------|-------------------|-------------|\n",
    "| Broddy Dale  | Rock              | Rock        |\n",
    "| Gorguts      | Metal             | Metal       |\n",
    "| N'SYNC       | Rock              | Pop         |\n",
    "| Ludacris     | Pop               | Hiphop      |\n",
    "| IDLES        | Metal             | Rock        |\n",
    "| Banks        | Rock              | Pop         |"
   ]
  },
  {
   "cell_type": "code",
   "execution_count": 25,
   "metadata": {},
   "outputs": [],
   "source": [
    "y_prediction = pipeline.predict(X_test)"
   ]
  },
  {
   "cell_type": "code",
   "execution_count": 26,
   "metadata": {},
   "outputs": [
    {
     "name": "stdout",
     "output_type": "stream",
     "text": [
      "              precision    recall  f1-score   support\n",
      "\n",
      "      hiphop       0.85      0.93      0.89      1003\n",
      "       metal       0.83      0.69      0.75       645\n",
      "         pop       0.64      0.37      0.47       461\n",
      "        rock       0.77      0.86      0.81      1687\n",
      "\n",
      "    accuracy                           0.79      3796\n",
      "   macro avg       0.77      0.71      0.73      3796\n",
      "weighted avg       0.78      0.79      0.78      3796\n",
      "\n"
     ]
    }
   ],
   "source": [
    "print(classification_report(y_test, y_prediction))"
   ]
  },
  {
   "cell_type": "code",
   "execution_count": 27,
   "metadata": {},
   "outputs": [],
   "source": [
    "classifier = pipeline.fit(X_train, y_train)"
   ]
  },
  {
   "cell_type": "code",
   "execution_count": 28,
   "metadata": {},
   "outputs": [],
   "source": [
    "def plot_confusion_matrix(cm,\n",
    "                          target_names = ['1', '2', '3', '4'],\n",
    "                          title = 'Confusion matrix',\n",
    "                          cmap = None,\n",
    "                          normalize = False):\n",
    "    # plt.rcParams[\"axes.grid\"] = False\n",
    "\n",
    "    accuracy = np.trace(cm) / float(np.sum(cm))\n",
    "\n",
    "    if cmap is None:\n",
    "        cmap = plt.get_cmap('Blues')\n",
    "\n",
    "    plt.figure(figsize = (8, 6))\n",
    "    plt.imshow(cm, interpolation = 'nearest', cmap = cmap)\n",
    "    # plt.grid(None)\n",
    "    plt.title(title)\n",
    "    plt.colorbar()\n",
    "\n",
    "    if target_names is not None:\n",
    "        tick_marks = np.arange(len(target_names))\n",
    "        plt.xticks(tick_marks, target_names, rotation = 0)\n",
    "        plt.yticks(tick_marks, target_names)\n",
    "\n",
    "    if normalize:\n",
    "        cm = cm.astype('float') / cm.sum(axis = 1)[:, np.newaxis]\n",
    "\n",
    "    thresh = cm.max() / 1.5 if normalize else cm.max() / 2\n",
    "    for i, j in itertools.product(range(cm.shape[0]), range(cm.shape[1])):\n",
    "        if normalize:\n",
    "            plt.text(j, i, \"{:0.4f}\".format(cm[i, j]),\n",
    "                     horizontalalignment = \"center\",\n",
    "                     color = \"white\" if cm[i, j] > thresh else \"black\")\n",
    "        else:\n",
    "            plt.text(j, i, \"{:,}\".format(cm[i, j]),\n",
    "                     horizontalalignment = \"center\",\n",
    "                     color = \"white\" if cm[i, j] > thresh else \"black\")\n",
    "    plt.tight_layout()\n",
    "    plt.ylabel('True label')\n",
    "    plt.xlabel('Predicted label\\naccuracy={:0.4f}'.format(accuracy))"
   ]
  },
  {
   "cell_type": "code",
   "execution_count": 29,
   "metadata": {},
   "outputs": [],
   "source": [
    "from sklearn.metrics import confusion_matrix\n",
    "confusion = confusion_matrix(y_test, y_prediction)"
   ]
  },
  {
   "cell_type": "code",
   "execution_count": 30,
   "metadata": {},
   "outputs": [
    {
     "data": {
      "image/png": "[encoded data removed]",
      "text/plain": [
       "<Figure size 576x432 with 2 Axes>"
      ]
     },
     "metadata": {
      "needs_background": "light"
     },
     "output_type": "display_data"
    }
   ],
   "source": [
    "plot_confusion_matrix(cm           = (confusion), \n",
    "                      normalize    = True,\n",
    "                      target_names = ['hiphop', 'metal', 'pop', 'rock'],\n",
    "                      title        = 'Confusion Matrix')"
   ]
  },
  {
   "cell_type": "markdown",
   "metadata": {},
   "source": [
    "#### **Ejercicio 5: Mejora del Modelo**"
   ]
  },
  {
   "cell_type": "code",
   "execution_count": 31,
   "metadata": {},
   "outputs": [],
   "source": [
    "route2 = glob.glob('dump_plus_pop/*.csv')"
   ]
  },
  {
   "cell_type": "code",
   "execution_count": 32,
   "metadata": {},
   "outputs": [],
   "source": [
    "dfs2 = []\n",
    "\n",
    "for fname in route2:\n",
    "    df_aux = pd.read_csv(fname, header=0)\n",
    "    dfs2.append(df_aux)"
   ]
  },
  {
   "cell_type": "code",
   "execution_count": 33,
   "metadata": {},
   "outputs": [
    {
     "data": {
      "text/html": [
       "<div>\n",
       "<style scoped>\n",
       "    .dataframe tbody tr th:only-of-type {\n",
       "        vertical-align: middle;\n",
       "    }\n",
       "\n",
       "    .dataframe tbody tr th {\n",
       "        vertical-align: top;\n",
       "    }\n",
       "\n",
       "    .dataframe thead th {\n",
       "        text-align: right;\n",
       "    }\n",
       "</style>\n",
       "<table border=\"1\" class=\"dataframe\">\n",
       "  <thead>\n",
       "    <tr style=\"text-align: right;\">\n",
       "      <th></th>\n",
       "      <th>artist</th>\n",
       "      <th>genre</th>\n",
       "      <th>song</th>\n",
       "      <th>lyrics</th>\n",
       "    </tr>\n",
       "  </thead>\n",
       "  <tbody>\n",
       "    <tr>\n",
       "      <th>3448</th>\n",
       "      <td>Bruce Springsteen</td>\n",
       "      <td>rock</td>\n",
       "      <td>O Mary Don't You Weep</td>\n",
       "      <td>Well if I could I surely would \\n Stand on the...</td>\n",
       "    </tr>\n",
       "    <tr>\n",
       "      <th>1183</th>\n",
       "      <td>The Smashing Pumpkins</td>\n",
       "      <td>rock</td>\n",
       "      <td>Tonight, Tonight</td>\n",
       "      <td>Time is never time at all \\n You can never eve...</td>\n",
       "    </tr>\n",
       "    <tr>\n",
       "      <th>10023</th>\n",
       "      <td>Mos Def</td>\n",
       "      <td>hiphop</td>\n",
       "      <td>The Easy Spell</td>\n",
       "      <td>You turn me up a lil'.. \\n I'm gettin' a lotta...</td>\n",
       "    </tr>\n",
       "    <tr>\n",
       "      <th>221</th>\n",
       "      <td>Method Man</td>\n",
       "      <td>hiphop</td>\n",
       "      <td>Perfect World</td>\n",
       "      <td>(Dialogue) \\n First, they dropped the bomb \\n ...</td>\n",
       "    </tr>\n",
       "    <tr>\n",
       "      <th>6847</th>\n",
       "      <td>Raekwon</td>\n",
       "      <td>hiphop</td>\n",
       "      <td>Wake Up</td>\n",
       "      <td>(One) gun go off, showin' everything is lost \\...</td>\n",
       "    </tr>\n",
       "    <tr>\n",
       "      <th>3731</th>\n",
       "      <td>New Kids On The Block</td>\n",
       "      <td>pop</td>\n",
       "      <td>Dirty Dancing</td>\n",
       "      <td>Wasn't in the mood for dancin' forget about ro...</td>\n",
       "    </tr>\n",
       "    <tr>\n",
       "      <th>2638</th>\n",
       "      <td>Pink Floyd</td>\n",
       "      <td>rock</td>\n",
       "      <td>Yet Another Movie</td>\n",
       "      <td>One sound, one single sound \\n One kiss, one s...</td>\n",
       "    </tr>\n",
       "    <tr>\n",
       "      <th>2918</th>\n",
       "      <td>Britney Spears</td>\n",
       "      <td>pop</td>\n",
       "      <td>I Run Away</td>\n",
       "      <td>You took your love away too fast \\n Left no ch...</td>\n",
       "    </tr>\n",
       "    <tr>\n",
       "      <th>5351</th>\n",
       "      <td>Killer Mike</td>\n",
       "      <td>hiphop</td>\n",
       "      <td>A.D.I.D.A.S.</td>\n",
       "      <td>Pussy nigga whatcha doin'! \\n All day I dream ...</td>\n",
       "    </tr>\n",
       "    <tr>\n",
       "      <th>7374</th>\n",
       "      <td>The Beatles</td>\n",
       "      <td>rock</td>\n",
       "      <td>One And One Is Two</td>\n",
       "      <td>One and one is two \\n What am I to do \\n Now t...</td>\n",
       "    </tr>\n",
       "  </tbody>\n",
       "</table>\n",
       "</div>"
      ],
      "text/plain": [
       "                      artist   genre                   song  \\\n",
       "3448       Bruce Springsteen    rock  O Mary Don't You Weep   \n",
       "1183   The Smashing Pumpkins    rock       Tonight, Tonight   \n",
       "10023                Mos Def  hiphop         The Easy Spell   \n",
       "221               Method Man  hiphop          Perfect World   \n",
       "6847                 Raekwon  hiphop                Wake Up   \n",
       "3731   New Kids On The Block     pop          Dirty Dancing   \n",
       "2638              Pink Floyd    rock      Yet Another Movie   \n",
       "2918          Britney Spears     pop             I Run Away   \n",
       "5351             Killer Mike  hiphop           A.D.I.D.A.S.   \n",
       "7374             The Beatles    rock     One And One Is Two   \n",
       "\n",
       "                                                  lyrics  \n",
       "3448   Well if I could I surely would \\n Stand on the...  \n",
       "1183   Time is never time at all \\n You can never eve...  \n",
       "10023  You turn me up a lil'.. \\n I'm gettin' a lotta...  \n",
       "221    (Dialogue) \\n First, they dropped the bomb \\n ...  \n",
       "6847   (One) gun go off, showin' everything is lost \\...  \n",
       "3731   Wasn't in the mood for dancin' forget about ro...  \n",
       "2638   One sound, one single sound \\n One kiss, one s...  \n",
       "2918   You took your love away too fast \\n Left no ch...  \n",
       "5351   Pussy nigga whatcha doin'! \\n All day I dream ...  \n",
       "7374   One and one is two \\n What am I to do \\n Now t...  "
      ]
     },
     "execution_count": 33,
     "metadata": {},
     "output_type": "execute_result"
    }
   ],
   "source": [
    "df2 = pd.concat(dfs2, axis=0, ignore_index=True, sort=True)\n",
    "df2.drop(columns='Unnamed: 0', inplace=True)\n",
    "df2.rename(columns={'0': 'artist', '1': 'genre', '2': 'song', '3': 'lyrics'}, inplace=True)\n",
    "df2.sample(10)"
   ]
  },
  {
   "cell_type": "code",
   "execution_count": 34,
   "metadata": {},
   "outputs": [
    {
     "name": "stdout",
     "output_type": "stream",
     "text": [
      "<class 'pandas.core.frame.DataFrame'>\n",
      "RangeIndex: 10804 entries, 0 to 10803\n",
      "Data columns (total 4 columns):\n",
      "artist    10804 non-null object\n",
      "genre     10804 non-null object\n",
      "song      10804 non-null object\n",
      "lyrics    10804 non-null object\n",
      "dtypes: object(4)\n",
      "memory usage: 337.8+ KB\n"
     ]
    }
   ],
   "source": [
    "df2.info()"
   ]
  },
  {
   "cell_type": "code",
   "execution_count": 35,
   "metadata": {},
   "outputs": [
    {
     "data": {
      "text/plain": [
       "artist    0\n",
       "genre     0\n",
       "song      0\n",
       "lyrics    0\n",
       "dtype: int64"
      ]
     },
     "execution_count": 35,
     "metadata": {},
     "output_type": "execute_result"
    }
   ],
   "source": [
    "df2.isnull().sum(axis = 0)  # NaN distribution columnwise"
   ]
  },
  {
   "cell_type": "code",
   "execution_count": 36,
   "metadata": {},
   "outputs": [],
   "source": [
    "X2 = df2['lyrics']\n",
    "y2 = df2['genre']\n",
    "\n",
    "X2_train, X2_test, y2_train, y2_test = train_test_split(X2, y2, test_size = .4, random_state = 42)"
   ]
  },
  {
   "cell_type": "code",
   "execution_count": 37,
   "metadata": {},
   "outputs": [],
   "source": [
    "pipeline2 = Pipeline(\n",
    "    [\n",
    "        ('cvect2', CountVectorizer(stop_words = 'english')),\n",
    "        ('mnbay2', MultinomialNB())\n",
    "    ]\n",
    ")"
   ]
  },
  {
   "cell_type": "code",
   "execution_count": 38,
   "metadata": {},
   "outputs": [],
   "source": [
    "pipeline2.fit(X2_train, y2_train);"
   ]
  },
  {
   "cell_type": "code",
   "execution_count": 39,
   "metadata": {},
   "outputs": [
    {
     "data": {
      "text/plain": [
       "array(['rock', 'metal', 'pop', 'pop', 'metal', 'pop'], dtype='<U6')"
      ]
     },
     "execution_count": 39,
     "metadata": {},
     "output_type": "execute_result"
    }
   ],
   "source": [
    "pipeline2.predict(to_predict)"
   ]
  },
  {
   "cell_type": "markdown",
   "metadata": {},
   "source": [
    "**(R)** Contraste con la predicción: Mejora bastante con 4 de 6 correctas, con el resto bastante cercano."
   ]
  },
  {
   "cell_type": "markdown",
   "metadata": {},
   "source": [
    "| Artist       | my 2nd prediction     | Google says |\n",
    "|--------------|-------------------|-------------|\n",
    "| Broddy Dale  | Rock              | Rock        |\n",
    "| Gorguts      | Metal             | Metal       |\n",
    "| N'SYNC       | Pop               | Pop         |\n",
    "| Ludacris     | Pop               | Hiphop      |\n",
    "| IDLES        | Metal             | Rock        |\n",
    "| Banks        | Pop               | Pop         |"
   ]
  },
  {
   "cell_type": "code",
   "execution_count": 40,
   "metadata": {},
   "outputs": [],
   "source": [
    "y2_prediction = pipeline2.predict(X2_test)"
   ]
  },
  {
   "cell_type": "code",
   "execution_count": 41,
   "metadata": {},
   "outputs": [
    {
     "name": "stdout",
     "output_type": "stream",
     "text": [
      "              precision    recall  f1-score   support\n",
      "\n",
      "      hiphop       0.85      0.90      0.87      1029\n",
      "       metal       0.81      0.69      0.75       621\n",
      "         pop       0.68      0.68      0.68      1012\n",
      "        rock       0.75      0.76      0.75      1660\n",
      "\n",
      "    accuracy                           0.76      4322\n",
      "   macro avg       0.77      0.76      0.76      4322\n",
      "weighted avg       0.76      0.76      0.76      4322\n",
      "\n"
     ]
    }
   ],
   "source": [
    "print(classification_report(y2_test, y2_prediction))"
   ]
  },
  {
   "cell_type": "code",
   "execution_count": 42,
   "metadata": {},
   "outputs": [],
   "source": [
    "confusion2 = confusion_matrix(y2_test, y2_prediction)"
   ]
  },
  {
   "cell_type": "code",
   "execution_count": 43,
   "metadata": {},
   "outputs": [
    {
     "data": {
      "image/png": "[encoded data removed]",
      "text/plain": [
       "<Figure size 576x432 with 2 Axes>"
      ]
     },
     "metadata": {
      "needs_background": "light"
     },
     "output_type": "display_data"
    }
   ],
   "source": [
    "plot_confusion_matrix(cm           = (confusion2), \n",
    "                      normalize    = True,\n",
    "                      target_names = ['hiphop', 'metal', 'pop', 'rock'],\n",
    "                      title        = 'Confusion Matrix - More Pop Songs')"
   ]
  },
  {
   "cell_type": "markdown",
   "metadata": {},
   "source": [
    "**(R)** En general mejoraron las métricas y las clasificaciones correctas - especialmente para `Pop` - cuyo F1 score subió significativamente. Esto demuestra lo relevante que es tener más datos para cada clase."
   ]
  },
  {
   "cell_type": "code",
   "execution_count": null,
   "metadata": {},
   "outputs": [],
   "source": []
  }
 ],
 "metadata": {
  "kernelspec": {
   "display_name": "dlatam_ds",
   "language": "python",
   "name": "dlatam_ds"
  },
  "language_info": {
   "codemirror_mode": {
    "name": "ipython",
    "version": 3
   },
   "file_extension": ".py",
   "mimetype": "text/x-python",
   "name": "python",
   "nbconvert_exporter": "python",
   "pygments_lexer": "ipython3",
   "version": "3.7.3"
  }
 },
 "nbformat": 4,
 "nbformat_minor": 4
}
