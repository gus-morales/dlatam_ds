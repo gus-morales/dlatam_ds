{
 "cells": [
  {
   "cell_type": "markdown",
   "metadata": {},
   "source": [
    "![alttext](logo.png)"
   ]
  },
  {
   "cell_type": "markdown",
   "metadata": {},
   "source": [
    "### Nombre Alumno: Eduardo López\n",
    "### Generación :  G10\n",
    "### Profesores : Heriberto Briceño - Yanina \n",
    "### Fecha : Lunes 25 de noviembre 2019"
   ]
  },
  {
   "cell_type": "markdown",
   "metadata": {},
   "source": [
    "# Ejercicio 1: Preparar el ambiente de trabajo\n",
    "* Importe los módulos numpy, pandas, matplotlib, seaborn, glob y os siguiendo las buenas prácticas. Los últimos dos módulos permitirán realizar la importación de múltiples archivos dentro de la carpeta dump.\n",
    "* Para ello genere un objeto que guarde en una lista todos los archivos alojados en dump utilizando `glob.glob` y `os.getcwd()` para extraer las rutas absolutas. Posteriormente genere un objeto pd.DataFrame que contenga todos los csv.\n",
    "* Asegúrese de eliminar la columna Unnamed: 0 que se genera por defecto."
   ]
  },
  {
   "cell_type": "code",
   "execution_count": 1,
   "metadata": {},
   "outputs": [],
   "source": [
    "import numpy as np\n",
    "import pandas as pd\n",
    "import matplotlib.pyplot as plt\n",
    "import seaborn as sns \n",
    "from sklearn.metrics import mean_squared_error, r2_score\n",
    "import glob \n",
    "import os \n",
    "import warnings\n",
    "from matplotlib import rcParams\n",
    "warnings.filterwarnings(\"ignore\")\n",
    "\n",
    "cwd = os.getcwd()\n",
    "rute_dump = glob.glob(\"dump/*.csv\")\n",
    "\n",
    "plt.style.use(\"seaborn\")"
   ]
  },
  {
   "cell_type": "code",
   "execution_count": 2,
   "metadata": {},
   "outputs": [
    {
     "data": {
      "text/plain": [
       "['dump\\\\anthrax_scrape.csv',\n",
       " 'dump\\\\a_tribe_called_quest_scrape.csv',\n",
       " 'dump\\\\black_star_scrape.csv',\n",
       " 'dump\\\\bob_dylan_scrape.csv',\n",
       " 'dump\\\\britney_spears_scrape.csv']"
      ]
     },
     "execution_count": 2,
     "metadata": {},
     "output_type": "execute_result"
    }
   ],
   "source": [
    "rute_dump[0:5]"
   ]
  },
  {
   "cell_type": "code",
   "execution_count": 3,
   "metadata": {},
   "outputs": [],
   "source": [
    "list_df = []\n",
    "\n",
    "for filename in rute_dump:\n",
    "    df = pd.read_csv(filename, index_col = None, header = 0)\n",
    "    list_df.append(df)\n",
    "\n",
    "df = pd.concat(list_df, axis = 0, ignore_index = True)"
   ]
  },
  {
   "cell_type": "code",
   "execution_count": 4,
   "metadata": {},
   "outputs": [
    {
     "data": {
      "text/html": [
       "<div>\n",
       "<style scoped>\n",
       "    .dataframe tbody tr th:only-of-type {\n",
       "        vertical-align: middle;\n",
       "    }\n",
       "\n",
       "    .dataframe tbody tr th {\n",
       "        vertical-align: top;\n",
       "    }\n",
       "\n",
       "    .dataframe thead th {\n",
       "        text-align: right;\n",
       "    }\n",
       "</style>\n",
       "<table border=\"1\" class=\"dataframe\">\n",
       "  <thead>\n",
       "    <tr style=\"text-align: right;\">\n",
       "      <th></th>\n",
       "      <th>0</th>\n",
       "      <th>1</th>\n",
       "      <th>2</th>\n",
       "      <th>3</th>\n",
       "      <th>Unnamed: 0</th>\n",
       "    </tr>\n",
       "  </thead>\n",
       "  <tbody>\n",
       "    <tr>\n",
       "      <th>0</th>\n",
       "      <td>Anthrax</td>\n",
       "      <td>metal</td>\n",
       "      <td>Deathrider</td>\n",
       "      <td>Riding hard, high in the saddle \\n Winged stee...</td>\n",
       "      <td>0</td>\n",
       "    </tr>\n",
       "    <tr>\n",
       "      <th>1</th>\n",
       "      <td>Anthrax</td>\n",
       "      <td>metal</td>\n",
       "      <td>Metal Thrashing Mad</td>\n",
       "      <td>Racing down the road \\n In a street machine of...</td>\n",
       "      <td>1</td>\n",
       "    </tr>\n",
       "    <tr>\n",
       "      <th>2</th>\n",
       "      <td>Anthrax</td>\n",
       "      <td>metal</td>\n",
       "      <td>I'm Eighteen</td>\n",
       "      <td>Lines form on my face and hands \\n Lines form ...</td>\n",
       "      <td>2</td>\n",
       "    </tr>\n",
       "    <tr>\n",
       "      <th>3</th>\n",
       "      <td>Anthrax</td>\n",
       "      <td>metal</td>\n",
       "      <td>Panic</td>\n",
       "      <td>Move it to the front \\n Reaching for the light...</td>\n",
       "      <td>3</td>\n",
       "    </tr>\n",
       "    <tr>\n",
       "      <th>4</th>\n",
       "      <td>Anthrax</td>\n",
       "      <td>metal</td>\n",
       "      <td>Subjugator</td>\n",
       "      <td>Out in the streets \\n We're fighting tonight \\...</td>\n",
       "      <td>4</td>\n",
       "    </tr>\n",
       "    <tr>\n",
       "      <th>...</th>\n",
       "      <td>...</td>\n",
       "      <td>...</td>\n",
       "      <td>...</td>\n",
       "      <td>...</td>\n",
       "      <td>...</td>\n",
       "    </tr>\n",
       "    <tr>\n",
       "      <th>9484</th>\n",
       "      <td>Weezer</td>\n",
       "      <td>rock</td>\n",
       "      <td>Thief, You've Taken All That Was Me</td>\n",
       "      <td>Thief, of silent dreams \\n Of golden scenes \\n...</td>\n",
       "      <td>246</td>\n",
       "    </tr>\n",
       "    <tr>\n",
       "      <th>9485</th>\n",
       "      <td>Weezer</td>\n",
       "      <td>rock</td>\n",
       "      <td>We Are All In Love</td>\n",
       "      <td>When your out with your friends \\n In your new...</td>\n",
       "      <td>247</td>\n",
       "    </tr>\n",
       "    <tr>\n",
       "      <th>9486</th>\n",
       "      <td>Weezer</td>\n",
       "      <td>rock</td>\n",
       "      <td>We Go Together</td>\n",
       "      <td>We go together \\n And that's to stay \\n And in...</td>\n",
       "      <td>248</td>\n",
       "    </tr>\n",
       "    <tr>\n",
       "      <th>9487</th>\n",
       "      <td>Weezer</td>\n",
       "      <td>rock</td>\n",
       "      <td>What Is This I Find?</td>\n",
       "      <td>[Jonas]: \\n What is this I find? \\n [Wuan]: \\n...</td>\n",
       "      <td>249</td>\n",
       "    </tr>\n",
       "    <tr>\n",
       "      <th>9488</th>\n",
       "      <td>Weezer</td>\n",
       "      <td>rock</td>\n",
       "      <td>Zep Jamb</td>\n",
       "      <td>Alright \\n Say baby \\n Love me \\n Lay your mon...</td>\n",
       "      <td>250</td>\n",
       "    </tr>\n",
       "  </tbody>\n",
       "</table>\n",
       "<p>9489 rows × 5 columns</p>\n",
       "</div>"
      ],
      "text/plain": [
       "            0      1                                    2  \\\n",
       "0     Anthrax  metal                           Deathrider   \n",
       "1     Anthrax  metal                  Metal Thrashing Mad   \n",
       "2     Anthrax  metal                         I'm Eighteen   \n",
       "3     Anthrax  metal                                Panic   \n",
       "4     Anthrax  metal                           Subjugator   \n",
       "...       ...    ...                                  ...   \n",
       "9484   Weezer   rock  Thief, You've Taken All That Was Me   \n",
       "9485   Weezer   rock                   We Are All In Love   \n",
       "9486   Weezer   rock                       We Go Together   \n",
       "9487   Weezer   rock                 What Is This I Find?   \n",
       "9488   Weezer   rock                             Zep Jamb   \n",
       "\n",
       "                                                      3 Unnamed: 0  \n",
       "0     Riding hard, high in the saddle \\n Winged stee...          0  \n",
       "1     Racing down the road \\n In a street machine of...          1  \n",
       "2     Lines form on my face and hands \\n Lines form ...          2  \n",
       "3     Move it to the front \\n Reaching for the light...          3  \n",
       "4     Out in the streets \\n We're fighting tonight \\...          4  \n",
       "...                                                 ...        ...  \n",
       "9484  Thief, of silent dreams \\n Of golden scenes \\n...        246  \n",
       "9485  When your out with your friends \\n In your new...        247  \n",
       "9486  We go together \\n And that's to stay \\n And in...        248  \n",
       "9487  [Jonas]: \\n What is this I find? \\n [Wuan]: \\n...        249  \n",
       "9488  Alright \\n Say baby \\n Love me \\n Lay your mon...        250  \n",
       "\n",
       "[9489 rows x 5 columns]"
      ]
     },
     "execution_count": 4,
     "metadata": {},
     "output_type": "execute_result"
    }
   ],
   "source": [
    "df"
   ]
  },
  {
   "cell_type": "code",
   "execution_count": 5,
   "metadata": {},
   "outputs": [],
   "source": [
    "df = df.drop(columns = \"Unnamed: 0\")"
   ]
  },
  {
   "cell_type": "code",
   "execution_count": 6,
   "metadata": {},
   "outputs": [],
   "source": [
    "df = df.rename(columns = {\"0\":\"artista\", \"1\":\"genero\", \"2\":\"cancion\", \"3\":\"letra\"})"
   ]
  },
  {
   "cell_type": "code",
   "execution_count": 7,
   "metadata": {
    "scrolled": true
   },
   "outputs": [
    {
     "name": "stdout",
     "output_type": "stream",
     "text": [
      "<class 'pandas.core.frame.DataFrame'>\n",
      "RangeIndex: 9489 entries, 0 to 9488\n",
      "Data columns (total 4 columns):\n",
      "artista    9489 non-null object\n",
      "genero     9489 non-null object\n",
      "cancion    9489 non-null object\n",
      "letra      9489 non-null object\n",
      "dtypes: object(4)\n",
      "memory usage: 296.7+ KB\n"
     ]
    }
   ],
   "source": [
    "df.info()"
   ]
  },
  {
   "cell_type": "markdown",
   "metadata": {},
   "source": [
    "No existen datos perdidos "
   ]
  },
  {
   "cell_type": "code",
   "execution_count": 8,
   "metadata": {},
   "outputs": [
    {
     "data": {
      "text/html": [
       "<div>\n",
       "<style scoped>\n",
       "    .dataframe tbody tr th:only-of-type {\n",
       "        vertical-align: middle;\n",
       "    }\n",
       "\n",
       "    .dataframe tbody tr th {\n",
       "        vertical-align: top;\n",
       "    }\n",
       "\n",
       "    .dataframe thead th {\n",
       "        text-align: right;\n",
       "    }\n",
       "</style>\n",
       "<table border=\"1\" class=\"dataframe\">\n",
       "  <thead>\n",
       "    <tr style=\"text-align: right;\">\n",
       "      <th></th>\n",
       "      <th>artista</th>\n",
       "      <th>genero</th>\n",
       "      <th>cancion</th>\n",
       "      <th>letra</th>\n",
       "    </tr>\n",
       "  </thead>\n",
       "  <tbody>\n",
       "    <tr>\n",
       "      <th>0</th>\n",
       "      <td>Anthrax</td>\n",
       "      <td>metal</td>\n",
       "      <td>Deathrider</td>\n",
       "      <td>Riding hard, high in the saddle \\n Winged stee...</td>\n",
       "    </tr>\n",
       "    <tr>\n",
       "      <th>1</th>\n",
       "      <td>Anthrax</td>\n",
       "      <td>metal</td>\n",
       "      <td>Metal Thrashing Mad</td>\n",
       "      <td>Racing down the road \\n In a street machine of...</td>\n",
       "    </tr>\n",
       "    <tr>\n",
       "      <th>2</th>\n",
       "      <td>Anthrax</td>\n",
       "      <td>metal</td>\n",
       "      <td>I'm Eighteen</td>\n",
       "      <td>Lines form on my face and hands \\n Lines form ...</td>\n",
       "    </tr>\n",
       "    <tr>\n",
       "      <th>3</th>\n",
       "      <td>Anthrax</td>\n",
       "      <td>metal</td>\n",
       "      <td>Panic</td>\n",
       "      <td>Move it to the front \\n Reaching for the light...</td>\n",
       "    </tr>\n",
       "    <tr>\n",
       "      <th>4</th>\n",
       "      <td>Anthrax</td>\n",
       "      <td>metal</td>\n",
       "      <td>Subjugator</td>\n",
       "      <td>Out in the streets \\n We're fighting tonight \\...</td>\n",
       "    </tr>\n",
       "  </tbody>\n",
       "</table>\n",
       "</div>"
      ],
      "text/plain": [
       "   artista genero              cancion  \\\n",
       "0  Anthrax  metal           Deathrider   \n",
       "1  Anthrax  metal  Metal Thrashing Mad   \n",
       "2  Anthrax  metal         I'm Eighteen   \n",
       "3  Anthrax  metal                Panic   \n",
       "4  Anthrax  metal           Subjugator   \n",
       "\n",
       "                                               letra  \n",
       "0  Riding hard, high in the saddle \\n Winged stee...  \n",
       "1  Racing down the road \\n In a street machine of...  \n",
       "2  Lines form on my face and hands \\n Lines form ...  \n",
       "3  Move it to the front \\n Reaching for the light...  \n",
       "4  Out in the streets \\n We're fighting tonight \\...  "
      ]
     },
     "execution_count": 8,
     "metadata": {},
     "output_type": "execute_result"
    }
   ],
   "source": [
    "df.head(5)"
   ]
  },
  {
   "cell_type": "markdown",
   "metadata": {},
   "source": [
    "# Ejercicio 2: Descripción de los datos\n",
    "* Utilizando el objeto creado en el Ejercicio 1, genere dos gráficos de barras que resuman la siguiente información:\n",
    "    * La cantidad de canciones registradas por cada artista, ordenado de mayor a menor.\n",
    "    * La cantidad de canciones registradas en cada género, ordenados de mayor a menor. \n",
    "    \n",
    "* Comente sobre las principales tendencias"
   ]
  },
  {
   "cell_type": "code",
   "execution_count": 9,
   "metadata": {},
   "outputs": [],
   "source": [
    "artist = df[\"artista\"].value_counts().index.tolist()\n",
    "artist_frec = df[\"artista\"].value_counts().tolist()"
   ]
  },
  {
   "cell_type": "code",
   "execution_count": 10,
   "metadata": {},
   "outputs": [],
   "source": [
    "df_artist = pd.DataFrame({\"Artista\":artist, \"Frecuencia\":artist_frec})"
   ]
  },
  {
   "cell_type": "markdown",
   "metadata": {},
   "source": [
    "### Cantidad de canciones registradas por cada artista"
   ]
  },
  {
   "cell_type": "code",
   "execution_count": 11,
   "metadata": {},
   "outputs": [
    {
     "data": {
      "text/html": [
       "<div>\n",
       "<style scoped>\n",
       "    .dataframe tbody tr th:only-of-type {\n",
       "        vertical-align: middle;\n",
       "    }\n",
       "\n",
       "    .dataframe tbody tr th {\n",
       "        vertical-align: top;\n",
       "    }\n",
       "\n",
       "    .dataframe thead th {\n",
       "        text-align: right;\n",
       "    }\n",
       "</style>\n",
       "<table border=\"1\" class=\"dataframe\">\n",
       "  <thead>\n",
       "    <tr style=\"text-align: right;\">\n",
       "      <th></th>\n",
       "      <th>Artista</th>\n",
       "      <th>Frecuencia</th>\n",
       "    </tr>\n",
       "  </thead>\n",
       "  <tbody>\n",
       "    <tr>\n",
       "      <th>0</th>\n",
       "      <td>Eminem</td>\n",
       "      <td>493</td>\n",
       "    </tr>\n",
       "    <tr>\n",
       "      <th>1</th>\n",
       "      <td>Bruce Springsteen</td>\n",
       "      <td>467</td>\n",
       "    </tr>\n",
       "    <tr>\n",
       "      <th>2</th>\n",
       "      <td>Bob Dylan</td>\n",
       "      <td>447</td>\n",
       "    </tr>\n",
       "    <tr>\n",
       "      <th>3</th>\n",
       "      <td>Britney Spears</td>\n",
       "      <td>323</td>\n",
       "    </tr>\n",
       "    <tr>\n",
       "      <th>4</th>\n",
       "      <td>Nicki Minaj</td>\n",
       "      <td>282</td>\n",
       "    </tr>\n",
       "    <tr>\n",
       "      <th>...</th>\n",
       "      <td>...</td>\n",
       "      <td>...</td>\n",
       "    </tr>\n",
       "    <tr>\n",
       "      <th>56</th>\n",
       "      <td>Dua Lipa</td>\n",
       "      <td>29</td>\n",
       "    </tr>\n",
       "    <tr>\n",
       "      <th>57</th>\n",
       "      <td>Lorde</td>\n",
       "      <td>27</td>\n",
       "    </tr>\n",
       "    <tr>\n",
       "      <th>58</th>\n",
       "      <td>Black Star</td>\n",
       "      <td>23</td>\n",
       "    </tr>\n",
       "    <tr>\n",
       "      <th>59</th>\n",
       "      <td>Gorgoroth</td>\n",
       "      <td>16</td>\n",
       "    </tr>\n",
       "    <tr>\n",
       "      <th>60</th>\n",
       "      <td>Necrophagist</td>\n",
       "      <td>16</td>\n",
       "    </tr>\n",
       "  </tbody>\n",
       "</table>\n",
       "<p>61 rows × 2 columns</p>\n",
       "</div>"
      ],
      "text/plain": [
       "              Artista  Frecuencia\n",
       "0              Eminem         493\n",
       "1   Bruce Springsteen         467\n",
       "2           Bob Dylan         447\n",
       "3      Britney Spears         323\n",
       "4         Nicki Minaj         282\n",
       "..                ...         ...\n",
       "56           Dua Lipa          29\n",
       "57              Lorde          27\n",
       "58         Black Star          23\n",
       "59          Gorgoroth          16\n",
       "60       Necrophagist          16\n",
       "\n",
       "[61 rows x 2 columns]"
      ]
     },
     "execution_count": 11,
     "metadata": {},
     "output_type": "execute_result"
    }
   ],
   "source": [
    "df_artist"
   ]
  },
  {
   "cell_type": "code",
   "execution_count": 12,
   "metadata": {},
   "outputs": [
    {
     "data": {
      "image/png": "[encoded data removed]",
      "text/plain": [
       "<Figure size 1008x1008 with 1 Axes>"
      ]
     },
     "metadata": {
      "needs_background": "light"
     },
     "output_type": "display_data"
    }
   ],
   "source": [
    "sns.catplot(x = \"Artista\", y = \"Frecuencia\", kind = \"bar\", height = 14, data = df_artist);"
   ]
  },
  {
   "cell_type": "markdown",
   "metadata": {},
   "source": [
    "### Principales tendencias: \n",
    "Quienes han registrado un mayor numero de canciones de mayor a menor en top 5 son:\n",
    "* Eminem \n",
    "* Bruce Springsteen\n",
    "* Bob Dylan\n",
    "* Britney Spears\n",
    "* Nicki Minaj"
   ]
  },
  {
   "cell_type": "code",
   "execution_count": 13,
   "metadata": {},
   "outputs": [],
   "source": [
    "genre = df[\"genero\"].value_counts().index.tolist()\n",
    "genre_frec = df[\"genero\"].value_counts().tolist()"
   ]
  },
  {
   "cell_type": "code",
   "execution_count": 14,
   "metadata": {},
   "outputs": [],
   "source": [
    "df_genre = pd.DataFrame({\"Genero\":genre, \"Frecuencia\":genre_frec})"
   ]
  },
  {
   "cell_type": "markdown",
   "metadata": {},
   "source": [
    "### Cantidad de canciones registrada en cada genero"
   ]
  },
  {
   "cell_type": "code",
   "execution_count": 15,
   "metadata": {},
   "outputs": [
    {
     "data": {
      "text/html": [
       "<div>\n",
       "<style scoped>\n",
       "    .dataframe tbody tr th:only-of-type {\n",
       "        vertical-align: middle;\n",
       "    }\n",
       "\n",
       "    .dataframe tbody tr th {\n",
       "        vertical-align: top;\n",
       "    }\n",
       "\n",
       "    .dataframe thead th {\n",
       "        text-align: right;\n",
       "    }\n",
       "</style>\n",
       "<table border=\"1\" class=\"dataframe\">\n",
       "  <thead>\n",
       "    <tr style=\"text-align: right;\">\n",
       "      <th></th>\n",
       "      <th>Genero</th>\n",
       "      <th>Frecuencia</th>\n",
       "    </tr>\n",
       "  </thead>\n",
       "  <tbody>\n",
       "    <tr>\n",
       "      <th>0</th>\n",
       "      <td>rock</td>\n",
       "      <td>4140</td>\n",
       "    </tr>\n",
       "    <tr>\n",
       "      <th>1</th>\n",
       "      <td>hiphop</td>\n",
       "      <td>2535</td>\n",
       "    </tr>\n",
       "    <tr>\n",
       "      <th>2</th>\n",
       "      <td>metal</td>\n",
       "      <td>1582</td>\n",
       "    </tr>\n",
       "    <tr>\n",
       "      <th>3</th>\n",
       "      <td>pop</td>\n",
       "      <td>1232</td>\n",
       "    </tr>\n",
       "  </tbody>\n",
       "</table>\n",
       "</div>"
      ],
      "text/plain": [
       "   Genero  Frecuencia\n",
       "0    rock        4140\n",
       "1  hiphop        2535\n",
       "2   metal        1582\n",
       "3     pop        1232"
      ]
     },
     "execution_count": 15,
     "metadata": {},
     "output_type": "execute_result"
    }
   ],
   "source": [
    "df_genre"
   ]
  },
  {
   "cell_type": "code",
   "execution_count": 16,
   "metadata": {},
   "outputs": [
    {
     "data": {
      "image/png": "[encoded data removed]",
      "text/plain": [
       "<Figure size 432x432 with 1 Axes>"
      ]
     },
     "metadata": {
      "needs_background": "light"
     },
     "output_type": "display_data"
    }
   ],
   "source": [
    "sns.catplot(x = \"Genero\", y = \"Frecuencia\", kind = \"bar\", height = 6, data = df_genre);\n",
    "# sns.countplot(df[\"genero\"], order = df[\"genero\"].value_counts().index) # esto es lo mismo"
   ]
  },
  {
   "cell_type": "markdown",
   "metadata": {},
   "source": [
    "### Principales tendencias: \n",
    "Segun los generos musicales, el genero que mas impacto tiene entre todos los artistas es el `rock`, seguido de `hiphop`."
   ]
  },
  {
   "cell_type": "markdown",
   "metadata": {},
   "source": [
    "# Ejercicio 3: Matriz de ocurrencias\n",
    "**Digresión: Tokenización de Textos**\n",
    "\n",
    "Para poder trabajar con textos, debemos pasarlos a una **matriz dispersa**,  donde cada  fila representará una  entrada (en  este  caso, una  canción), y  cada  columna **representará una palabra (token)**. Este es el proceso de tokenización: Identificar la ocurrencia de una palabra específica dentro de  un  conjunto de  textos (corpus). El  tokenizador más  simple `sklearn.feature_extraction.text.CountVectorizer`  genera  una  colección de  textos a una  matriz que  representa la  frecuencia dentro del  texto  de  una  palabra específica. El tokenizador funciona de la siguiente manera:\n",
    "```\n",
    "from sklearn.feature_extraction.text import CountVectorizer\n",
    "# instanciamos un objeto\n",
    "count_vectorizer=CountVectorizer(stop_words='english')\n",
    "# Implementamos los pasos fit y transform\n",
    "count_vectorizer_fit = count_vectorizer.fit_transform(lista_de_textos)\n",
    "# Extraemos tokens (palabras)\n",
    "words = count_vectorizer.get_feature_names()\n",
    "# extraemos frecuencia\n",
    "words_freq = count_vectorizer_fit.toarray().sum(axis=0)\n",
    "```\n",
    "\n",
    "* Importe la clase `CountVectorizer` dentro de los módulos `feature_extraction.text` de la librería sklearn. Lea la documentación asociada a ésta. ¿Cuál es el objetivo de esta clase?\n",
    "* Aplique la clase para extraer las 100 palabras más repetidas en toda la base de datos.\n",
    "* Genere una función que replique el procedimiento para cada uno de los géneros.\n",
    "* Comente sobre las principales características de cada género en cuanto a sus palabras"
   ]
  },
  {
   "cell_type": "markdown",
   "metadata": {},
   "source": [
    "#### CountVectorizer - ¿Cuál es el objetivo de esta clase? \n",
    "CountVectorizer proporciona una manera simple de crear un token de una colección de documentos de texto y crear un vocabulario de palabras conocidas, como así también codificar nuevos documentos utilizando ese vocabulario."
   ]
  },
  {
   "cell_type": "code",
   "execution_count": 17,
   "metadata": {},
   "outputs": [],
   "source": [
    "from sklearn.feature_extraction.text import CountVectorizer\n",
    "# instanciamos un objeto\n",
    "count_vectorizer = CountVectorizer(stop_words = \"english\")\n",
    "# Implementamos los pasos fit y transform\n",
    "count_vectorizer_fit = count_vectorizer.fit_transform(df[\"letra\"])\n",
    "# Extraemos tokens (palabras)\n",
    "words = count_vectorizer.get_feature_names()\n",
    "# extraemos frecuencia\n",
    "words_freq = count_vectorizer_fit.toarray().sum(axis = 0)"
   ]
  },
  {
   "cell_type": "code",
   "execution_count": 18,
   "metadata": {},
   "outputs": [],
   "source": [
    "df_words = pd.DataFrame({\"words\":words, \"frequency\":words_freq})"
   ]
  },
  {
   "cell_type": "markdown",
   "metadata": {},
   "source": [
    "### Las 100 palabras mas repetidas en canciones en todo el data set"
   ]
  },
  {
   "cell_type": "code",
   "execution_count": 19,
   "metadata": {
    "scrolled": false
   },
   "outputs": [
    {
     "data": {
      "text/html": [
       "<div>\n",
       "<style scoped>\n",
       "    .dataframe tbody tr th:only-of-type {\n",
       "        vertical-align: middle;\n",
       "    }\n",
       "\n",
       "    .dataframe tbody tr th {\n",
       "        vertical-align: top;\n",
       "    }\n",
       "\n",
       "    .dataframe thead th {\n",
       "        text-align: right;\n",
       "    }\n",
       "</style>\n",
       "<table border=\"1\" class=\"dataframe\">\n",
       "  <thead>\n",
       "    <tr style=\"text-align: right;\">\n",
       "      <th></th>\n",
       "      <th>words</th>\n",
       "      <th>frequency</th>\n",
       "    </tr>\n",
       "  </thead>\n",
       "  <tbody>\n",
       "    <tr>\n",
       "      <th>24950</th>\n",
       "      <td>like</td>\n",
       "      <td>19629</td>\n",
       "    </tr>\n",
       "    <tr>\n",
       "      <th>12859</th>\n",
       "      <td>don</td>\n",
       "      <td>17398</td>\n",
       "    </tr>\n",
       "    <tr>\n",
       "      <th>23856</th>\n",
       "      <td>know</td>\n",
       "      <td>14962</td>\n",
       "    </tr>\n",
       "    <tr>\n",
       "      <th>18439</th>\n",
       "      <td>got</td>\n",
       "      <td>14171</td>\n",
       "    </tr>\n",
       "    <tr>\n",
       "      <th>23287</th>\n",
       "      <td>just</td>\n",
       "      <td>13978</td>\n",
       "    </tr>\n",
       "    <tr>\n",
       "      <th>...</th>\n",
       "      <td>...</td>\n",
       "      <td>...</td>\n",
       "    </tr>\n",
       "    <tr>\n",
       "      <th>11041</th>\n",
       "      <td>death</td>\n",
       "      <td>1897</td>\n",
       "    </tr>\n",
       "    <tr>\n",
       "      <th>24615</th>\n",
       "      <td>left</td>\n",
       "      <td>1895</td>\n",
       "    </tr>\n",
       "    <tr>\n",
       "      <th>43442</th>\n",
       "      <td>thing</td>\n",
       "      <td>1882</td>\n",
       "    </tr>\n",
       "    <tr>\n",
       "      <th>14305</th>\n",
       "      <td>end</td>\n",
       "      <td>1829</td>\n",
       "    </tr>\n",
       "    <tr>\n",
       "      <th>41068</th>\n",
       "      <td>stay</td>\n",
       "      <td>1828</td>\n",
       "    </tr>\n",
       "  </tbody>\n",
       "</table>\n",
       "<p>100 rows × 2 columns</p>\n",
       "</div>"
      ],
      "text/plain": [
       "       words  frequency\n",
       "24950   like      19629\n",
       "12859    don      17398\n",
       "23856   know      14962\n",
       "18439    got      14171\n",
       "23287   just      13978\n",
       "...      ...        ...\n",
       "11041  death       1897\n",
       "24615   left       1895\n",
       "43442  thing       1882\n",
       "14305    end       1829\n",
       "41068   stay       1828\n",
       "\n",
       "[100 rows x 2 columns]"
      ]
     },
     "execution_count": 19,
     "metadata": {},
     "output_type": "execute_result"
    }
   ],
   "source": [
    "df_words.sort_values(\"frequency\", ascending = False).head(100)"
   ]
  },
  {
   "cell_type": "code",
   "execution_count": 20,
   "metadata": {},
   "outputs": [],
   "source": [
    "def words_freq(dataframe, genre):\n",
    "    df_genre = dataframe[dataframe[\"genero\"] == genre]\n",
    "    count_vectorizer = CountVectorizer(stop_words = \"english\")\n",
    "    # Implementamos los pasos fit y transform\n",
    "    count_vectorizer_fit = count_vectorizer.fit_transform(df_genre[\"letra\"])\n",
    "    # Extraemos tokens (palabras)\n",
    "    words = count_vectorizer.get_feature_names()\n",
    "    # extraemos frecuencia\n",
    "    words_freq = count_vectorizer_fit.toarray().sum(axis = 0)\n",
    "    \n",
    "    df_word_genre = pd.DataFrame({\"words\":words, \"frequency\":words_freq})\n",
    "    \n",
    "    print(df_word_genre.sort_values(\"frequency\", ascending = False).head(100))"
   ]
  },
  {
   "cell_type": "markdown",
   "metadata": {},
   "source": [
    "### Palabras mas repetidas por genero"
   ]
  },
  {
   "cell_type": "code",
   "execution_count": 21,
   "metadata": {},
   "outputs": [
    {
     "name": "stdout",
     "output_type": "stream",
     "text": [
      "       words  frequency\n",
      "5282     don       5284\n",
      "10362   love       5114\n",
      "9697    know       4702\n",
      "12077     oh       4258\n",
      "20056   yeah       4157\n",
      "...      ...        ...\n",
      "18247   town        558\n",
      "6337    fall        548\n",
      "14819  round        548\n",
      "4527    days        542\n",
      "10335   lost        541\n",
      "\n",
      "[100 rows x 2 columns]\n"
     ]
    }
   ],
   "source": [
    "words_freq(df, \"rock\")"
   ]
  },
  {
   "cell_type": "code",
   "execution_count": 22,
   "metadata": {},
   "outputs": [
    {
     "name": "stdout",
     "output_type": "stream",
     "text": [
      "        words  frequency\n",
      "18361    like      12055\n",
      "13533     got       7613\n",
      "9466      don       7604\n",
      "17532    know       6535\n",
      "17082    just       6272\n",
      "...       ...        ...\n",
      "31521    talk        823\n",
      "18961      ma        821\n",
      "34088   verse        820\n",
      "5866   chorus        811\n",
      "3911     bout        808\n",
      "\n",
      "[100 rows x 2 columns]\n"
     ]
    }
   ],
   "source": [
    "words_freq(df, \"hiphop\")"
   ]
  },
  {
   "cell_type": "code",
   "execution_count": 23,
   "metadata": {},
   "outputs": [
    {
     "name": "stdout",
     "output_type": "stream",
     "text": [
      "       words  frequency\n",
      "7883    life       1233\n",
      "4088     don       1181\n",
      "3284   death       1139\n",
      "13844   time       1096\n",
      "7977      ll       1069\n",
      "...      ...        ...\n",
      "13839   till        215\n",
      "5939    good        214\n",
      "11666   save        213\n",
      "13041   stop        211\n",
      "8034    lord        210\n",
      "\n",
      "[100 rows x 2 columns]\n"
     ]
    }
   ],
   "source": [
    "words_freq(df, \"metal\")"
   ]
  },
  {
   "cell_type": "code",
   "execution_count": 24,
   "metadata": {},
   "outputs": [
    {
     "name": "stdout",
     "output_type": "stream",
     "text": [
      "           words  frequency\n",
      "3135         don       3329\n",
      "6219        like       2995\n",
      "6390        love       2914\n",
      "7455          oh       2737\n",
      "5918        know       2677\n",
      "...          ...        ...\n",
      "878      believe        282\n",
      "10873      thing        274\n",
      "3641   everybody        270\n",
      "3429          eh        269\n",
      "1865       chick        267\n",
      "\n",
      "[100 rows x 2 columns]\n"
     ]
    }
   ],
   "source": [
    "words_freq(df, \"pop\")"
   ]
  },
  {
   "cell_type": "markdown",
   "metadata": {},
   "source": [
    "Palabras como `don` (se asume que es don't) son repetidas con alta frecuencia independiente del genero musical. Palabras como `love` y `like` tambien aparecen con mucha frecuencia en solo 3 generos: rock, pop y hiphop. A diferencia del genero metal que usualmente presenta alta frecuencia en sus canciones palabras como `life` y `death`."
   ]
  },
  {
   "cell_type": "markdown",
   "metadata": {},
   "source": [
    "# Ejercicio 4: Entrenamiento del Modelo\n",
    "**Digresión: sklearn Pipelines**\n",
    "\n",
    "La clase Pipeline del módulo sklearn.pipeline permite concatenar múltiples pasos de procesamiento y preprocesamiento en un estimador generado por algún método de scikit-learn. En sí, la clase cuenta con los métodos clásicos fit, predict y score y presentaun comportamiento idéntico a los demás objetos de scikit-learn. Uno de los usos máscomunes es para concatenar pasos de preprocesamiento con un modelo.\n",
    "\n",
    "**Componentes de un Pipeline**\n",
    "\n",
    "Imaginemos que deseamos implementar el siguiente modelo. Considerando un conjunto dedatos, deseo Estandarlizarlo,  posteriormente extraer sus  principales componentes  yfinalmente aplicar un modelo de regresión lineal. Este flujo se puede reexpresar como:\n",
    "\n",
    "```\n",
    "pipeline_model = Pipeline([('scale', StandardScaler()),('pca',RandomizedPCA(n_components=3)),('model', LinearRegression())])\n",
    "```\n",
    "\n",
    "Algunos de los elementos a considerar:\n",
    "\n",
    "1. Cada paso se considera como una tupla, donde se declara el nombre del paso y la funcióna implementar. En este caso, nuestro primer paso es estandarizar la matriz, por lo que asociamos el método StandardScaler con el string scale.\n",
    "2. Todos los pasos declarados se incorporan en una lista, donde el orden de ingreso representa el orden de ejecución.\n",
    "\n",
    "Posteriormente el objeto creado puede utilizarse con los siguientes métodos.\n",
    "\n",
    "* Importe MultinomialNB, train_test_split, Pipeline, confusion_matrix y classification_report.\n",
    "* Genere las muestras de entrenamiento y validación reservando un 40% para validación y declarando una semilla pseudoaleatoria.\n",
    "* Monte el modelo dentro de un Pipeline, donde el primer paso es implementar CountVectorizer y el segundo sea ejecutar el clasificador MultinomialNB.\n",
    "* A continuación se les presenta una lista de letras, ¿cuáles serían las predicciones correspondientes?\n",
    "\n",
    "```\n",
    "['I got a place in the underworld', # Brody Dalle - Underworld'\n",
    "As veils of ignorance, hatred retains Storm of arrows through karma Seeking\n",
    "light through samsara', # Gorguts - Forgotten Arrows\n",
    "\"Bye bye Don't want to be a fool for you Just another player in your game for\n",
    "two You may hate me but it ain't no lie\", # N'SYNC - Bye Bye Bye\n",
    "'Move bitch, get out the way Get out the way bitch, get out the way Move\n",
    "bitch, get out the way Get out the way bitch, get out the way', # Ludacris -\n",
    "Move B*tch\n",
    "'Sexual violence doesn’t start and end with rape It starts in our books and\n",
    "behind our school gates'# IDLES - Mother,\n",
    "\"Take it from the girl you claimed to love You gonna get some bad karma I'm\n",
    "the one who had to learn to \\\n",
    "build a heart made of armor From the girl who made you soup and tied your\n",
    "shoes when you were hurting\\ \n",
    "You are not deserving, you are not deserving\"#Banks -\n",
    "Drowning]\n",
    "```\n",
    "\n",
    "* Genere una predicción implementando la muestra de validación y contraste las predicciones del modelo con las etiquetas verdaderas. Reporte las principales métricas."
   ]
  },
  {
   "cell_type": "code",
   "execution_count": 25,
   "metadata": {},
   "outputs": [],
   "source": [
    "from sklearn.naive_bayes import MultinomialNB\n",
    "from sklearn.pipeline import Pipeline\n",
    "from sklearn.metrics import roc_auc_score, roc_curve, confusion_matrix\n",
    "from sklearn.model_selection import train_test_split\n",
    "from sklearn.preprocessing import LabelEncoder"
   ]
  },
  {
   "cell_type": "code",
   "execution_count": 26,
   "metadata": {},
   "outputs": [],
   "source": [
    "X = df[\"letra\"]\n",
    "y = df[\"artista\"]\n",
    "\n",
    "X_train, X_test, y_train, y_test = train_test_split(X, y, test_size = .40, random_state = 42)"
   ]
  },
  {
   "cell_type": "code",
   "execution_count": 27,
   "metadata": {},
   "outputs": [],
   "source": [
    "pipeline_model = Pipeline([(\"count_vectorizer\", CountVectorizer(stop_words = \"english\")),\n",
    "                          (\"multi_nomial\", MultinomialNB())])"
   ]
  },
  {
   "cell_type": "code",
   "execution_count": 28,
   "metadata": {},
   "outputs": [
    {
     "data": {
      "text/plain": [
       "(5693,)"
      ]
     },
     "execution_count": 28,
     "metadata": {},
     "output_type": "execute_result"
    }
   ],
   "source": [
    "X_train.shape"
   ]
  },
  {
   "cell_type": "code",
   "execution_count": 29,
   "metadata": {},
   "outputs": [
    {
     "data": {
      "text/plain": [
       "(5693,)"
      ]
     },
     "execution_count": 29,
     "metadata": {},
     "output_type": "execute_result"
    }
   ],
   "source": [
    "y_train.shape"
   ]
  },
  {
   "cell_type": "code",
   "execution_count": 30,
   "metadata": {
    "scrolled": false
   },
   "outputs": [
    {
     "data": {
      "text/plain": [
       "Pipeline(memory=None,\n",
       "         steps=[('count_vectorizer',\n",
       "                 CountVectorizer(analyzer='word', binary=False,\n",
       "                                 decode_error='strict',\n",
       "                                 dtype=<class 'numpy.int64'>, encoding='utf-8',\n",
       "                                 input='content', lowercase=True, max_df=1.0,\n",
       "                                 max_features=None, min_df=1,\n",
       "                                 ngram_range=(1, 1), preprocessor=None,\n",
       "                                 stop_words='english', strip_accents=None,\n",
       "                                 token_pattern='(?u)\\\\b\\\\w\\\\w+\\\\b',\n",
       "                                 tokenizer=None, vocabulary=None)),\n",
       "                ('multi_nomial',\n",
       "                 MultinomialNB(alpha=1.0, class_prior=None, fit_prior=True))],\n",
       "         verbose=False)"
      ]
     },
     "execution_count": 30,
     "metadata": {},
     "output_type": "execute_result"
    }
   ],
   "source": [
    "pipeline_model.fit(X_train, y_train)"
   ]
  },
  {
   "cell_type": "code",
   "execution_count": 31,
   "metadata": {},
   "outputs": [],
   "source": [
    "# Acceder a metodos en pipeline\n",
    "# pipeline_model.named_steps.count_vectorizer.get_feature_names()"
   ]
  },
  {
   "cell_type": "markdown",
   "metadata": {},
   "source": [
    "### Vector de prueba para predicción "
   ]
  },
  {
   "cell_type": "code",
   "execution_count": 32,
   "metadata": {},
   "outputs": [],
   "source": [
    "song_pred = np.array([\"I got a place in the underworld\",\n",
    "\"As veils of ignorance, hatred retains Storm of arrows through karma Seeking light through samsara\", \n",
    "\"Bye bye Don't want to be a fool for you Just another player in your game for two You may hate me but it ain't no lie\",\n",
    "\"Move bitch, get out the way Get out the way bitch, get out the way Move bitch, get out the way Get out the way bitch, get out the way\",\n",
    "\"Sexual violence doesn’t start and end with rape It starts in our books and behind our school gates\",\n",
    "\"Take it from the girl you claimed to love You gonna get some bad karma I'm the one who had to learn to build a heart made of armor From the girl who made you soup and tied your shoes when you were hurting You are not deserving, you are not deserving\"])\n",
    "\n",
    "song_pred = pd.Series(song_pred)"
   ]
  },
  {
   "cell_type": "code",
   "execution_count": 33,
   "metadata": {},
   "outputs": [
    {
     "data": {
      "text/plain": [
       "array(['Bob Dylan', 'Iron Maiden', 'Eminem', 'Eminem', 'Anthrax',\n",
       "       'Bruce Springsteen'], dtype='<U24')"
      ]
     },
     "execution_count": 33,
     "metadata": {},
     "output_type": "execute_result"
    }
   ],
   "source": [
    "pipeline_model.predict(song_pred)"
   ]
  },
  {
   "cell_type": "markdown",
   "metadata": {},
   "source": [
    "### Contraste en predicción:\n",
    "| Artista Real | Clasificación     |\n",
    "|--------------|-------------------|\n",
    "| Broddy Dale  | Bob Dylan         |\n",
    "| Gorguts      | Iron Maiden       |\n",
    "| N'SYNC       | Eminem            |\n",
    "| Ludacris     | Eminem            |\n",
    "| IDLES        | Anthrax           |\n",
    "| Banks        | Bruce Springsteen |\n",
    "\n"
   ]
  },
  {
   "cell_type": "code",
   "execution_count": 34,
   "metadata": {},
   "outputs": [],
   "source": [
    "nb_log_prob_pred = pipeline_model.predict_log_proba(X_test)\n",
    "nb_prob_pred = pipeline_model.predict_proba(X_test)\n",
    "nb_class_pred = pipeline_model.predict(X_test)"
   ]
  },
  {
   "cell_type": "code",
   "execution_count": 35,
   "metadata": {},
   "outputs": [],
   "source": [
    "from sklearn.metrics import classification_report"
   ]
  },
  {
   "cell_type": "code",
   "execution_count": 36,
   "metadata": {
    "scrolled": false
   },
   "outputs": [
    {
     "name": "stdout",
     "output_type": "stream",
     "text": [
      "                          precision    recall  f1-score   support\n",
      "\n",
      "    A Tribe Called Quest       0.82      0.32      0.46        44\n",
      "                 Anthrax       0.09      0.01      0.02        73\n",
      "              Black Star       1.00      0.09      0.17        11\n",
      "               Bob Dylan       0.24      0.42      0.30       205\n",
      "          Britney Spears       0.27      0.55      0.36       119\n",
      "       Bruce Springsteen       0.29      0.68      0.41       209\n",
      "         Cannibal Corpse       0.65      0.93      0.76        69\n",
      "        Carly Rae Jepsen       0.00      0.00      0.00        29\n",
      "              De La Soul       0.66      0.32      0.43        59\n",
      "                 Deicide       0.73      0.73      0.73        37\n",
      "                 Dr. Dre       0.71      0.11      0.19        45\n",
      "                Dua Lipa       0.00      0.00      0.00        15\n",
      "                  Eminem       0.13      0.96      0.23       186\n",
      "           Faith No More       0.00      0.00      0.00        38\n",
      "        Ghostface Killah       0.77      0.58      0.66       113\n",
      "               Gorgoroth       1.00      0.33      0.50         6\n",
      "                Immortal       1.00      0.57      0.72        30\n",
      "                 Incubus       1.00      0.11      0.20        46\n",
      "             Iron Maiden       0.13      0.14      0.14        71\n",
      "              Kanye West       0.45      0.68      0.54        98\n",
      "          Kendrick Lamar       0.57      0.26      0.36        46\n",
      "             Killer Mike       0.00      0.00      0.00        24\n",
      "                    Kiss       0.43      0.03      0.06       101\n",
      "            Led Zeppelin       0.33      0.05      0.09        39\n",
      "                   Lorde       0.00      0.00      0.00        11\n",
      "                 MF Doom       0.00      0.00      0.00        29\n",
      "                  Mayhem       1.00      0.06      0.11        33\n",
      "                Megadeth       0.20      0.04      0.06        80\n",
      "               Meshuggah       1.00      0.16      0.28        31\n",
      "               Metallica       0.40      0.06      0.11        65\n",
      "              Method Man       0.00      0.00      0.00        46\n",
      "         Michael Jackson       0.26      0.45      0.33       102\n",
      "               Mobb Deep       0.85      0.79      0.82       100\n",
      "            Modest Mouse       1.00      0.04      0.07        55\n",
      "                 Mos Def       0.60      0.33      0.42        55\n",
      "            Necrophagist       0.00      0.00      0.00         9\n",
      "              Nickelback       0.00      0.00      0.00        52\n",
      "             Nicki Minaj       0.76      0.55      0.64       103\n",
      "                   Oasis       0.00      0.00      0.00        61\n",
      "                   Opeth       1.00      0.02      0.05        41\n",
      "              Pink Floyd       0.00      0.00      0.00        57\n",
      "            Public Enemy       0.62      0.45      0.52        71\n",
      "                   Queen       0.40      0.02      0.05        81\n",
      "               Radiohead       0.00      0.00      0.00        48\n",
      "                 Raekwon       0.65      0.65      0.65        71\n",
      "Rage Against The Machine       0.00      0.00      0.00        33\n",
      "   Red Hot Chili Peppers       0.30      0.04      0.06        84\n",
      "                    Rush       0.67      0.03      0.06        69\n",
      "                     SIA       0.00      0.00      0.00        39\n",
      "               Sam Smith       0.00      0.00      0.00         6\n",
      "                  Slayer       0.62      0.38      0.47        64\n",
      "             Spice Girls       1.00      0.26      0.41        27\n",
      "        System of a Down       1.00      0.15      0.26        34\n",
      "             The Beatles       0.50      0.12      0.19       104\n",
      "               The Clash       1.00      0.11      0.20        62\n",
      "               The Doors       0.00      0.00      0.00        99\n",
      "   The Smashing Pumpkins       0.56      0.10      0.18        86\n",
      "              The Smiths       0.00      0.00      0.00        30\n",
      "                    Tool       1.00      0.10      0.18        20\n",
      "           Vital Remains       0.00      0.00      0.00        23\n",
      "                  Weezer       0.41      0.52      0.46       102\n",
      "\n",
      "                accuracy                           0.32      3796\n",
      "               macro avg       0.44      0.22      0.23      3796\n",
      "            weighted avg       0.42      0.32      0.28      3796\n",
      "\n"
     ]
    }
   ],
   "source": [
    "print(classification_report(y_test, nb_class_pred))"
   ]
  },
  {
   "cell_type": "markdown",
   "metadata": {},
   "source": [
    "### Utilizando variable prior"
   ]
  },
  {
   "cell_type": "code",
   "execution_count": 37,
   "metadata": {},
   "outputs": [],
   "source": [
    "prior_mid = np.linspace(0.5,0.9, num = 61) # valores prior entre 0.5 y 0.9"
   ]
  },
  {
   "cell_type": "code",
   "execution_count": 38,
   "metadata": {},
   "outputs": [],
   "source": [
    "prior_range = df[\"artista\"].value_counts(\"%\").tolist() # valores prior segun porcentaje"
   ]
  },
  {
   "cell_type": "code",
   "execution_count": 39,
   "metadata": {},
   "outputs": [],
   "source": [
    "X = df[\"letra\"]\n",
    "y = df[\"artista\"]\n",
    "\n",
    "X_train, X_test, y_train, y_test = train_test_split(X, y, test_size = .40, random_state = 42)"
   ]
  },
  {
   "cell_type": "code",
   "execution_count": 40,
   "metadata": {},
   "outputs": [],
   "source": [
    "pipeline_model2 = Pipeline([(\"count_vectorizer\", CountVectorizer(stop_words = \"english\")),\n",
    "                          (\"multi_nomial\", MultinomialNB(class_prior = prior_mid))])"
   ]
  },
  {
   "cell_type": "code",
   "execution_count": 41,
   "metadata": {},
   "outputs": [
    {
     "data": {
      "text/plain": [
       "Pipeline(memory=None,\n",
       "         steps=[('count_vectorizer',\n",
       "                 CountVectorizer(analyzer='word', binary=False,\n",
       "                                 decode_error='strict',\n",
       "                                 dtype=<class 'numpy.int64'>, encoding='utf-8',\n",
       "                                 input='content', lowercase=True, max_df=1.0,\n",
       "                                 max_features=None, min_df=1,\n",
       "                                 ngram_range=(1, 1), preprocessor=None,\n",
       "                                 stop_words='english', strip_accents=None,\n",
       "                                 token_pattern='(?u)\\\\b\\\\w\\\\w+\\\\b',\n",
       "                                 tokenizer=No...\n",
       "       0.66666667, 0.67333333, 0.68      , 0.68666667, 0.69333333,\n",
       "       0.7       , 0.70666667, 0.71333333, 0.72      , 0.72666667,\n",
       "       0.73333333, 0.74      , 0.74666667, 0.75333333, 0.76      ,\n",
       "       0.76666667, 0.77333333, 0.78      , 0.78666667, 0.79333333,\n",
       "       0.8       , 0.80666667, 0.81333333, 0.82      , 0.82666667,\n",
       "       0.83333333, 0.84      , 0.84666667, 0.85333333, 0.86      ,\n",
       "       0.86666667, 0.87333333, 0.88      , 0.88666667, 0.89333333,\n",
       "       0.9       ]),\n",
       "                               fit_prior=True))],\n",
       "         verbose=False)"
      ]
     },
     "execution_count": 41,
     "metadata": {},
     "output_type": "execute_result"
    }
   ],
   "source": [
    "pipeline_model2.fit(X_train, y_train)"
   ]
  },
  {
   "cell_type": "code",
   "execution_count": 42,
   "metadata": {},
   "outputs": [],
   "source": [
    "nb_log_prob_pred = pipeline_model2.predict_log_proba(X_test)\n",
    "nb_prob_pred = pipeline_model2.predict_proba(X_test)\n",
    "nb_class_pred = pipeline_model2.predict(X_test)"
   ]
  },
  {
   "cell_type": "code",
   "execution_count": 43,
   "metadata": {},
   "outputs": [
    {
     "name": "stdout",
     "output_type": "stream",
     "text": [
      "                          precision    recall  f1-score   support\n",
      "\n",
      "    A Tribe Called Quest       0.83      0.34      0.48        44\n",
      "                 Anthrax       0.09      0.01      0.02        73\n",
      "              Black Star       1.00      0.09      0.17        11\n",
      "               Bob Dylan       0.25      0.42      0.31       205\n",
      "          Britney Spears       0.27      0.55      0.36       119\n",
      "       Bruce Springsteen       0.30      0.68      0.41       209\n",
      "         Cannibal Corpse       0.65      0.93      0.77        69\n",
      "        Carly Rae Jepsen       0.00      0.00      0.00        29\n",
      "              De La Soul       0.66      0.32      0.43        59\n",
      "                 Deicide       0.73      0.73      0.73        37\n",
      "                 Dr. Dre       0.71      0.11      0.19        45\n",
      "                Dua Lipa       0.00      0.00      0.00        15\n",
      "                  Eminem       0.14      0.96      0.24       186\n",
      "           Faith No More       0.00      0.00      0.00        38\n",
      "        Ghostface Killah       0.77      0.59      0.67       113\n",
      "               Gorgoroth       1.00      0.33      0.50         6\n",
      "                Immortal       1.00      0.63      0.78        30\n",
      "                 Incubus       1.00      0.11      0.20        46\n",
      "             Iron Maiden       0.14      0.15      0.15        71\n",
      "              Kanye West       0.44      0.70      0.54        98\n",
      "          Kendrick Lamar       0.56      0.30      0.39        46\n",
      "             Killer Mike       0.00      0.00      0.00        24\n",
      "                    Kiss       0.40      0.04      0.07       101\n",
      "            Led Zeppelin       0.33      0.05      0.09        39\n",
      "                   Lorde       0.00      0.00      0.00        11\n",
      "                 MF Doom       0.00      0.00      0.00        29\n",
      "                  Mayhem       1.00      0.12      0.22        33\n",
      "                Megadeth       0.19      0.04      0.06        80\n",
      "               Meshuggah       1.00      0.16      0.28        31\n",
      "               Metallica       0.33      0.06      0.10        65\n",
      "              Method Man       0.00      0.00      0.00        46\n",
      "         Michael Jackson       0.26      0.47      0.34       102\n",
      "               Mobb Deep       0.85      0.79      0.82       100\n",
      "            Modest Mouse       0.67      0.04      0.07        55\n",
      "                 Mos Def       0.58      0.33      0.42        55\n",
      "            Necrophagist       0.00      0.00      0.00         9\n",
      "              Nickelback       0.00      0.00      0.00        52\n",
      "             Nicki Minaj       0.75      0.55      0.64       103\n",
      "                   Oasis       0.00      0.00      0.00        61\n",
      "                   Opeth       1.00      0.05      0.09        41\n",
      "              Pink Floyd       0.00      0.00      0.00        57\n",
      "            Public Enemy       0.59      0.46      0.52        71\n",
      "                   Queen       0.50      0.02      0.05        81\n",
      "               Radiohead       1.00      0.02      0.04        48\n",
      "                 Raekwon       0.64      0.66      0.65        71\n",
      "Rage Against The Machine       0.00      0.00      0.00        33\n",
      "   Red Hot Chili Peppers       0.30      0.04      0.06        84\n",
      "                    Rush       0.50      0.03      0.05        69\n",
      "                     SIA       0.00      0.00      0.00        39\n",
      "               Sam Smith       0.00      0.00      0.00         6\n",
      "                  Slayer       0.60      0.41      0.49        64\n",
      "             Spice Girls       1.00      0.26      0.41        27\n",
      "        System of a Down       1.00      0.15      0.26        34\n",
      "             The Beatles       0.50      0.12      0.19       104\n",
      "               The Clash       1.00      0.13      0.23        62\n",
      "               The Doors       0.00      0.00      0.00        99\n",
      "   The Smashing Pumpkins       0.53      0.10      0.17        86\n",
      "              The Smiths       0.00      0.00      0.00        30\n",
      "                    Tool       1.00      0.15      0.26        20\n",
      "           Vital Remains       0.00      0.00      0.00        23\n",
      "                  Weezer       0.41      0.52      0.46       102\n",
      "\n",
      "                accuracy                           0.32      3796\n",
      "               macro avg       0.45      0.23      0.24      3796\n",
      "            weighted avg       0.43      0.32      0.28      3796\n",
      "\n"
     ]
    }
   ],
   "source": [
    "print(classification_report(y_test, nb_class_pred))"
   ]
  },
  {
   "cell_type": "markdown",
   "metadata": {},
   "source": [
    "### Predicción de canción por genero"
   ]
  },
  {
   "cell_type": "code",
   "execution_count": 44,
   "metadata": {},
   "outputs": [],
   "source": [
    "X = df[\"letra\"]\n",
    "y = df[\"genero\"]\n",
    "\n",
    "X_train, X_test, y_train, y_test = train_test_split(X, y, test_size = .40, random_state = 42)"
   ]
  },
  {
   "cell_type": "code",
   "execution_count": 45,
   "metadata": {},
   "outputs": [],
   "source": [
    "model_genre = Pipeline([(\"count_vectorizer\", CountVectorizer(stop_words = \"english\")),\n",
    "                          (\"multi_nomial\", MultinomialNB())])"
   ]
  },
  {
   "cell_type": "code",
   "execution_count": 46,
   "metadata": {},
   "outputs": [
    {
     "data": {
      "text/plain": [
       "Pipeline(memory=None,\n",
       "         steps=[('count_vectorizer',\n",
       "                 CountVectorizer(analyzer='word', binary=False,\n",
       "                                 decode_error='strict',\n",
       "                                 dtype=<class 'numpy.int64'>, encoding='utf-8',\n",
       "                                 input='content', lowercase=True, max_df=1.0,\n",
       "                                 max_features=None, min_df=1,\n",
       "                                 ngram_range=(1, 1), preprocessor=None,\n",
       "                                 stop_words='english', strip_accents=None,\n",
       "                                 token_pattern='(?u)\\\\b\\\\w\\\\w+\\\\b',\n",
       "                                 tokenizer=None, vocabulary=None)),\n",
       "                ('multi_nomial',\n",
       "                 MultinomialNB(alpha=1.0, class_prior=None, fit_prior=True))],\n",
       "         verbose=False)"
      ]
     },
     "execution_count": 46,
     "metadata": {},
     "output_type": "execute_result"
    }
   ],
   "source": [
    "model_genre.fit(X_train, y_train)"
   ]
  },
  {
   "cell_type": "code",
   "execution_count": 47,
   "metadata": {},
   "outputs": [],
   "source": [
    "nb_log_prob_pred = model_genre.predict_log_proba(X_test)\n",
    "nb_prob_pred = model_genre.predict_proba(X_test)\n",
    "nb_class_pred = model_genre.predict(X_test)"
   ]
  },
  {
   "cell_type": "code",
   "execution_count": 48,
   "metadata": {},
   "outputs": [
    {
     "name": "stdout",
     "output_type": "stream",
     "text": [
      "              precision    recall  f1-score   support\n",
      "\n",
      "      hiphop       0.85      0.93      0.89       998\n",
      "       metal       0.85      0.69      0.76       652\n",
      "         pop       0.64      0.41      0.50       451\n",
      "        rock       0.77      0.86      0.81      1695\n",
      "\n",
      "    accuracy                           0.79      3796\n",
      "   macro avg       0.78      0.72      0.74      3796\n",
      "weighted avg       0.79      0.79      0.79      3796\n",
      "\n"
     ]
    }
   ],
   "source": [
    "print(classification_report(y_test, nb_class_pred))"
   ]
  },
  {
   "cell_type": "code",
   "execution_count": 49,
   "metadata": {},
   "outputs": [
    {
     "data": {
      "text/plain": [
       "array(['rock', 'metal', 'rock', 'pop', 'metal', 'rock'], dtype='<U6')"
      ]
     },
     "execution_count": 49,
     "metadata": {},
     "output_type": "execute_result"
    }
   ],
   "source": [
    "model_genre.predict(song_pred)"
   ]
  },
  {
   "cell_type": "code",
   "execution_count": 50,
   "metadata": {},
   "outputs": [
    {
     "data": {
      "text/plain": [
       "0.7945205479452054"
      ]
     },
     "execution_count": 50,
     "metadata": {},
     "output_type": "execute_result"
    }
   ],
   "source": [
    "model_genre.score(X_test,y_test)"
   ]
  },
  {
   "cell_type": "code",
   "execution_count": null,
   "metadata": {},
   "outputs": [],
   "source": []
  }
 ],
 "metadata": {
  "kernelspec": {
   "display_name": "Python 3",
   "language": "python",
   "name": "python3"
  },
  "language_info": {
   "codemirror_mode": {
    "name": "ipython",
    "version": 3
   },
   "file_extension": ".py",
   "mimetype": "text/x-python",
   "name": "python",
   "nbconvert_exporter": "python",
   "pygments_lexer": "ipython3",
   "version": "3.7.3"
  }
 },
 "nbformat": 4,
 "nbformat_minor": 2
}
