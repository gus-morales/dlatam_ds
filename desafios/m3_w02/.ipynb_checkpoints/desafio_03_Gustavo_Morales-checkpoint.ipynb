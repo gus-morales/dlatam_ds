{
 "cells": [
  {
   "cell_type": "markdown",
   "metadata": {},
   "source": [
    "## Machine Learning - Desafío 3, Naive Bayes\n",
    "#### Gustavo Morales, G10 - 25.Nov.2019, (Lunes Semana 2)"
   ]
  },
  {
   "cell_type": "markdown",
   "metadata": {},
   "source": [
    "### **Ejercicio 1: Preparar el ambiente de trabajo**"
   ]
  },
  {
   "cell_type": "code",
   "execution_count": 1,
   "metadata": {},
   "outputs": [],
   "source": [
    "import pandas as pd\n",
    "import numpy as np\n",
    "import matplotlib.pyplot as plt\n",
    "from matplotlib.pyplot import rcParams\n",
    "import seaborn as sns\n",
    "import glob\n",
    "import os"
   ]
  },
  {
   "cell_type": "code",
   "execution_count": 2,
   "metadata": {},
   "outputs": [
    {
     "name": "stdout",
     "output_type": "stream",
     "text": [
      "/home/gus/learn/courses/dlatam_ds/desafios/m3_w02/desafio_03_Gustavo_Morales.ipynb\n",
      "/home/gus/learn/courses/dlatam_ds/desafios/m3_w02/dump\n",
      "/home/gus/learn/courses/dlatam_ds/desafios/m3_w02/dump_plus_pop\n",
      "/home/gus/learn/courses/dlatam_ds/desafios/m3_w02/Desafio_Naive_Bayes_Eduardo_Lopez.ipynb\n",
      "/home/gus/learn/courses/dlatam_ds/desafios/m3_w02/02_d_Desafío_-_Naive_Bayes.pdf\n"
     ]
    }
   ],
   "source": [
    "CWD = os.getcwd()\n",
    "\n",
    "for name in glob.glob(CWD+'/*'):\n",
    "    print(name)"
   ]
  },
  {
   "cell_type": "code",
   "execution_count": 3,
   "metadata": {},
   "outputs": [],
   "source": [
    "route = glob.glob('dump/*.csv')"
   ]
  },
  {
   "cell_type": "code",
   "execution_count": 4,
   "metadata": {},
   "outputs": [],
   "source": [
    "dfs = []\n",
    "\n",
    "for fname in route:\n",
    "    df_aux = pd.read_csv(fname, header=0)\n",
    "    dfs.append(df_aux)"
   ]
  },
  {
   "cell_type": "code",
   "execution_count": 5,
   "metadata": {},
   "outputs": [],
   "source": [
    "df = pd.concat(dfs, axis=0, ignore_index=True, sort=True)\n",
    "df.drop(columns='Unnamed: 0', inplace=True)\n",
    "df.rename(columns={'0': 'artist', '1': 'genre', '2': 'song', '3': 'lyrics'}, inplace=True)"
   ]
  },
  {
   "cell_type": "code",
   "execution_count": 6,
   "metadata": {},
   "outputs": [
    {
     "data": {
      "text/html": [
       "<div>\n",
       "<style scoped>\n",
       "    .dataframe tbody tr th:only-of-type {\n",
       "        vertical-align: middle;\n",
       "    }\n",
       "\n",
       "    .dataframe tbody tr th {\n",
       "        vertical-align: top;\n",
       "    }\n",
       "\n",
       "    .dataframe thead th {\n",
       "        text-align: right;\n",
       "    }\n",
       "</style>\n",
       "<table border=\"1\" class=\"dataframe\">\n",
       "  <thead>\n",
       "    <tr style=\"text-align: right;\">\n",
       "      <th></th>\n",
       "      <th>artist</th>\n",
       "      <th>genre</th>\n",
       "      <th>song</th>\n",
       "      <th>lyrics</th>\n",
       "    </tr>\n",
       "  </thead>\n",
       "  <tbody>\n",
       "    <tr>\n",
       "      <th>5043</th>\n",
       "      <td>Kiss</td>\n",
       "      <td>rock</td>\n",
       "      <td>Rockin' In The U.S.A.</td>\n",
       "      <td>I'm flyin' in a 747 \\n I'm passing by the pear...</td>\n",
       "    </tr>\n",
       "    <tr>\n",
       "      <th>6824</th>\n",
       "      <td>Eminem</td>\n",
       "      <td>hiphop</td>\n",
       "      <td>I'm Having A Relapse</td>\n",
       "      <td>(Sample) \\n Torture chambers, secret passagewa...</td>\n",
       "    </tr>\n",
       "    <tr>\n",
       "      <th>5136</th>\n",
       "      <td>Kiss</td>\n",
       "      <td>rock</td>\n",
       "      <td>You Love Me To Hate You</td>\n",
       "      <td>You tell lies when you look at me \\n Smile whe...</td>\n",
       "    </tr>\n",
       "    <tr>\n",
       "      <th>8667</th>\n",
       "      <td>Ghostface Killah</td>\n",
       "      <td>hiphop</td>\n",
       "      <td>Let The Record Spin</td>\n",
       "      <td>I resurrect him, summon the killer \\n The almi...</td>\n",
       "    </tr>\n",
       "    <tr>\n",
       "      <th>1410</th>\n",
       "      <td>Modest Mouse</td>\n",
       "      <td>rock</td>\n",
       "      <td>Wicked Campaign</td>\n",
       "      <td>Well I just found the fence where I am going t...</td>\n",
       "    </tr>\n",
       "    <tr>\n",
       "      <th>4297</th>\n",
       "      <td>The Doors</td>\n",
       "      <td>rock</td>\n",
       "      <td>Poontang Blues / Build Me A Woman / Sunday Tru...</td>\n",
       "      <td>I've got the poontang blues \\n From the top of...</td>\n",
       "    </tr>\n",
       "    <tr>\n",
       "      <th>5509</th>\n",
       "      <td>Nicki Minaj</td>\n",
       "      <td>pop</td>\n",
       "      <td>Hood Story</td>\n",
       "      <td>Lemme tell a lil' story about this dude I knew...</td>\n",
       "    </tr>\n",
       "    <tr>\n",
       "      <th>4635</th>\n",
       "      <td>The Smiths</td>\n",
       "      <td>rock</td>\n",
       "      <td>Is It Really So Strange?</td>\n",
       "      <td>I left the North \\n I traveled South \\n I foun...</td>\n",
       "    </tr>\n",
       "    <tr>\n",
       "      <th>6267</th>\n",
       "      <td>The Beatles</td>\n",
       "      <td>rock</td>\n",
       "      <td>Act Naturally</td>\n",
       "      <td>They're going to put me in the movies \\n They'...</td>\n",
       "    </tr>\n",
       "    <tr>\n",
       "      <th>8523</th>\n",
       "      <td>Ghostface Killah</td>\n",
       "      <td>hiphop</td>\n",
       "      <td>Ghostface</td>\n",
       "      <td>(Chorus: female singer (Ghostface Killah)) \\n ...</td>\n",
       "    </tr>\n",
       "  </tbody>\n",
       "</table>\n",
       "</div>"
      ],
      "text/plain": [
       "                artist   genre  \\\n",
       "5043              Kiss    rock   \n",
       "6824            Eminem  hiphop   \n",
       "5136              Kiss    rock   \n",
       "8667  Ghostface Killah  hiphop   \n",
       "1410      Modest Mouse    rock   \n",
       "4297         The Doors    rock   \n",
       "5509       Nicki Minaj     pop   \n",
       "4635        The Smiths    rock   \n",
       "6267       The Beatles    rock   \n",
       "8523  Ghostface Killah  hiphop   \n",
       "\n",
       "                                                   song  \\\n",
       "5043                              Rockin' In The U.S.A.   \n",
       "6824                               I'm Having A Relapse   \n",
       "5136                            You Love Me To Hate You   \n",
       "8667                                Let The Record Spin   \n",
       "1410                                    Wicked Campaign   \n",
       "4297  Poontang Blues / Build Me A Woman / Sunday Tru...   \n",
       "5509                                         Hood Story   \n",
       "4635                           Is It Really So Strange?   \n",
       "6267                                      Act Naturally   \n",
       "8523                                          Ghostface   \n",
       "\n",
       "                                                 lyrics  \n",
       "5043  I'm flyin' in a 747 \\n I'm passing by the pear...  \n",
       "6824  (Sample) \\n Torture chambers, secret passagewa...  \n",
       "5136  You tell lies when you look at me \\n Smile whe...  \n",
       "8667  I resurrect him, summon the killer \\n The almi...  \n",
       "1410  Well I just found the fence where I am going t...  \n",
       "4297  I've got the poontang blues \\n From the top of...  \n",
       "5509  Lemme tell a lil' story about this dude I knew...  \n",
       "4635  I left the North \\n I traveled South \\n I foun...  \n",
       "6267  They're going to put me in the movies \\n They'...  \n",
       "8523  (Chorus: female singer (Ghostface Killah)) \\n ...  "
      ]
     },
     "execution_count": 6,
     "metadata": {},
     "output_type": "execute_result"
    }
   ],
   "source": [
    "df.sample(10)"
   ]
  },
  {
   "cell_type": "code",
   "execution_count": 7,
   "metadata": {},
   "outputs": [
    {
     "name": "stdout",
     "output_type": "stream",
     "text": [
      "<class 'pandas.core.frame.DataFrame'>\n",
      "RangeIndex: 9489 entries, 0 to 9488\n",
      "Data columns (total 4 columns):\n",
      "artist    9489 non-null object\n",
      "genre     9489 non-null object\n",
      "song      9489 non-null object\n",
      "lyrics    9489 non-null object\n",
      "dtypes: object(4)\n",
      "memory usage: 296.7+ KB\n"
     ]
    }
   ],
   "source": [
    "df.info()"
   ]
  },
  {
   "cell_type": "code",
   "execution_count": 8,
   "metadata": {},
   "outputs": [
    {
     "data": {
      "text/plain": [
       "artist    0\n",
       "genre     0\n",
       "song      0\n",
       "lyrics    0\n",
       "dtype: int64"
      ]
     },
     "execution_count": 8,
     "metadata": {},
     "output_type": "execute_result"
    }
   ],
   "source": [
    "df.isnull().sum(axis = 0)  # NaN distribution columnwise"
   ]
  },
  {
   "cell_type": "markdown",
   "metadata": {},
   "source": [
    "### **Ejercicio 2: Descripción de los datos**"
   ]
  },
  {
   "cell_type": "markdown",
   "metadata": {},
   "source": [
    "##### ($2.1$) Cantidad de canciones registradas por cada artista en orden decreciente:"
   ]
  },
  {
   "cell_type": "code",
   "execution_count": 9,
   "metadata": {},
   "outputs": [
    {
     "data": {
      "text/html": [
       "<div>\n",
       "<style scoped>\n",
       "    .dataframe tbody tr th:only-of-type {\n",
       "        vertical-align: middle;\n",
       "    }\n",
       "\n",
       "    .dataframe tbody tr th {\n",
       "        vertical-align: top;\n",
       "    }\n",
       "\n",
       "    .dataframe thead th {\n",
       "        text-align: right;\n",
       "    }\n",
       "</style>\n",
       "<table border=\"1\" class=\"dataframe\">\n",
       "  <thead>\n",
       "    <tr style=\"text-align: right;\">\n",
       "      <th></th>\n",
       "      <th>artist</th>\n",
       "      <th>counts</th>\n",
       "    </tr>\n",
       "  </thead>\n",
       "  <tbody>\n",
       "    <tr>\n",
       "      <th>0</th>\n",
       "      <td>Eminem</td>\n",
       "      <td>493</td>\n",
       "    </tr>\n",
       "    <tr>\n",
       "      <th>1</th>\n",
       "      <td>Bruce Springsteen</td>\n",
       "      <td>467</td>\n",
       "    </tr>\n",
       "    <tr>\n",
       "      <th>2</th>\n",
       "      <td>Bob Dylan</td>\n",
       "      <td>447</td>\n",
       "    </tr>\n",
       "    <tr>\n",
       "      <th>3</th>\n",
       "      <td>Britney Spears</td>\n",
       "      <td>323</td>\n",
       "    </tr>\n",
       "    <tr>\n",
       "      <th>4</th>\n",
       "      <td>Nicki Minaj</td>\n",
       "      <td>282</td>\n",
       "    </tr>\n",
       "    <tr>\n",
       "      <th>...</th>\n",
       "      <td>...</td>\n",
       "      <td>...</td>\n",
       "    </tr>\n",
       "    <tr>\n",
       "      <th>56</th>\n",
       "      <td>Dua Lipa</td>\n",
       "      <td>29</td>\n",
       "    </tr>\n",
       "    <tr>\n",
       "      <th>57</th>\n",
       "      <td>Lorde</td>\n",
       "      <td>27</td>\n",
       "    </tr>\n",
       "    <tr>\n",
       "      <th>58</th>\n",
       "      <td>Black Star</td>\n",
       "      <td>23</td>\n",
       "    </tr>\n",
       "    <tr>\n",
       "      <th>59</th>\n",
       "      <td>Necrophagist</td>\n",
       "      <td>16</td>\n",
       "    </tr>\n",
       "    <tr>\n",
       "      <th>60</th>\n",
       "      <td>Gorgoroth</td>\n",
       "      <td>16</td>\n",
       "    </tr>\n",
       "  </tbody>\n",
       "</table>\n",
       "<p>61 rows × 2 columns</p>\n",
       "</div>"
      ],
      "text/plain": [
       "               artist  counts\n",
       "0              Eminem     493\n",
       "1   Bruce Springsteen     467\n",
       "2           Bob Dylan     447\n",
       "3      Britney Spears     323\n",
       "4         Nicki Minaj     282\n",
       "..                ...     ...\n",
       "56           Dua Lipa      29\n",
       "57              Lorde      27\n",
       "58         Black Star      23\n",
       "59       Necrophagist      16\n",
       "60          Gorgoroth      16\n",
       "\n",
       "[61 rows x 2 columns]"
      ]
     },
     "execution_count": 9,
     "metadata": {},
     "output_type": "execute_result"
    }
   ],
   "source": [
    "df['artist'].value_counts().rename_axis('artist').reset_index(name='counts')"
   ]
  },
  {
   "cell_type": "code",
   "execution_count": 10,
   "metadata": {},
   "outputs": [
    {
     "data": {
      "image/png": "[encoded data removed]",
      "text/plain": [
       "<Figure size 936x360 with 1 Axes>"
      ]
     },
     "metadata": {
      "needs_background": "light"
     },
     "output_type": "display_data"
    }
   ],
   "source": [
    "plt.figure(figsize=(13,5))\n",
    "chart = sns.countplot(data=df, x='artist', order = df['artist'].value_counts().index, palette='viridis')\n",
    "chart.set_xticklabels(chart.get_xticklabels(), rotation=90)\n",
    "plt.tight_layout()"
   ]
  },
  {
   "cell_type": "markdown",
   "metadata": {},
   "source": [
    "##### $(2.2)$ Cantidad de canciones registradas por cada género en orden decreciente:"
   ]
  },
  {
   "cell_type": "code",
   "execution_count": 11,
   "metadata": {},
   "outputs": [
    {
     "data": {
      "text/html": [
       "<div>\n",
       "<style scoped>\n",
       "    .dataframe tbody tr th:only-of-type {\n",
       "        vertical-align: middle;\n",
       "    }\n",
       "\n",
       "    .dataframe tbody tr th {\n",
       "        vertical-align: top;\n",
       "    }\n",
       "\n",
       "    .dataframe thead th {\n",
       "        text-align: right;\n",
       "    }\n",
       "</style>\n",
       "<table border=\"1\" class=\"dataframe\">\n",
       "  <thead>\n",
       "    <tr style=\"text-align: right;\">\n",
       "      <th></th>\n",
       "      <th>genre</th>\n",
       "      <th>counts</th>\n",
       "    </tr>\n",
       "  </thead>\n",
       "  <tbody>\n",
       "    <tr>\n",
       "      <th>0</th>\n",
       "      <td>rock</td>\n",
       "      <td>4140</td>\n",
       "    </tr>\n",
       "    <tr>\n",
       "      <th>1</th>\n",
       "      <td>hiphop</td>\n",
       "      <td>2535</td>\n",
       "    </tr>\n",
       "    <tr>\n",
       "      <th>2</th>\n",
       "      <td>metal</td>\n",
       "      <td>1582</td>\n",
       "    </tr>\n",
       "    <tr>\n",
       "      <th>3</th>\n",
       "      <td>pop</td>\n",
       "      <td>1232</td>\n",
       "    </tr>\n",
       "  </tbody>\n",
       "</table>\n",
       "</div>"
      ],
      "text/plain": [
       "    genre  counts\n",
       "0    rock    4140\n",
       "1  hiphop    2535\n",
       "2   metal    1582\n",
       "3     pop    1232"
      ]
     },
     "execution_count": 11,
     "metadata": {},
     "output_type": "execute_result"
    }
   ],
   "source": [
    "df['genre'].value_counts().rename_axis('genre').reset_index(name='counts')"
   ]
  },
  {
   "cell_type": "code",
   "execution_count": 12,
   "metadata": {},
   "outputs": [
    {
     "data": {
      "image/png": "[encoded data removed]",
      "text/plain": [
       "<Figure size 360x360 with 1 Axes>"
      ]
     },
     "metadata": {
      "needs_background": "light"
     },
     "output_type": "display_data"
    }
   ],
   "source": [
    "plt.figure(figsize=(5,5))\n",
    "chart = sns.countplot(data=df, x='genre', order = df['genre'].value_counts().index, palette='viridis')\n",
    "plt.tight_layout()"
   ]
  },
  {
   "cell_type": "markdown",
   "metadata": {},
   "source": [
    "##### $(2.3)$ Principales tendencias:"
   ]
  },
  {
   "cell_type": "markdown",
   "metadata": {},
   "source": [
    "**(R)** De acuerdo a $(2.1)$, el top 5 de artistas con más canciones es:"
   ]
  },
  {
   "cell_type": "code",
   "execution_count": 13,
   "metadata": {},
   "outputs": [
    {
     "data": {
      "text/plain": [
       "Eminem               493\n",
       "Bruce Springsteen    467\n",
       "Bob Dylan            447\n",
       "Britney Spears       323\n",
       "Nicki Minaj          282\n",
       "Name: artist, dtype: int64"
      ]
     },
     "execution_count": 13,
     "metadata": {},
     "output_type": "execute_result"
    }
   ],
   "source": [
    "df['artist'].value_counts().head(5)"
   ]
  },
  {
   "cell_type": "markdown",
   "metadata": {},
   "source": [
    "Y de acuerdo a $(2.2)$, el género más prolífero es el **rock**, seguido del **hiphop**."
   ]
  },
  {
   "cell_type": "markdown",
   "metadata": {},
   "source": [
    "### **Ejercicio 3: Matriz de ocurrencias**"
   ]
  },
  {
   "cell_type": "code",
   "execution_count": 21,
   "metadata": {},
   "outputs": [],
   "source": [
    "from sklearn.feature_extraction.text import CountVectorizer"
   ]
  },
  {
   "cell_type": "markdown",
   "metadata": {},
   "source": [
    "**(R)** En análisis computacional de textos, un _token_ es una unidad funcional de texto que generaliza el concepto de palabras (típicamente separados por espacios). `CountVectorizer` convierte una colección de documentos de texto a una matriz de cuentas de _tokens_, proveyendo una manera de _tokenizar_ dicha colección construyendo un vocabulario de palabras conocidas, a la vez que permite codificar nuevos documentos usando dicho vocabulario."
   ]
  },
  {
   "cell_type": "code",
   "execution_count": 40,
   "metadata": {},
   "outputs": [],
   "source": [
    "def top100_words(dataframe, genre=None):\n",
    "    df_ = dataframe\n",
    "    if genre!=None:\n",
    "        df_ = dataframe[dataframe['genre'] == genre]\n",
    "    count_vectorizer = CountVectorizer(stop_words = 'english')\n",
    "    count_vectorizer_fit = count_vectorizer.fit_transform(df_['lyrics'])\n",
    "    words = count_vectorizer.get_feature_names()\n",
    "    words_freq = count_vectorizer_fit.toarray().sum(axis = 0)\n",
    "    df__ = pd.DataFrame({'words':words, 'frequency':words_freq})\n",
    "    print(genre) if genre!=None else print('')\n",
    "    print(df__.sort_values('frequency', ascending = False).head(100))"
   ]
  },
  {
   "cell_type": "markdown",
   "metadata": {},
   "source": [
    "**(R)** Las 100 palabras mas repetidas en canciones en todo el data set:"
   ]
  },
  {
   "cell_type": "code",
   "execution_count": 41,
   "metadata": {},
   "outputs": [
    {
     "name": "stdout",
     "output_type": "stream",
     "text": [
      "\n",
      "       words  frequency\n",
      "24950   like      19629\n",
      "12859    don      17398\n",
      "23856   know      14962\n",
      "18439    got      14171\n",
      "23287   just      13978\n",
      "...      ...        ...\n",
      "11041  death       1897\n",
      "24615   left       1895\n",
      "43442  thing       1882\n",
      "14305    end       1829\n",
      "41068   stay       1828\n",
      "\n",
      "[100 rows x 2 columns]\n"
     ]
    }
   ],
   "source": [
    "top100_words(df)"
   ]
  },
  {
   "cell_type": "markdown",
   "metadata": {},
   "source": [
    "**(R)** Las 100 palabras mas repetidas por género:"
   ]
  },
  {
   "cell_type": "code",
   "execution_count": 47,
   "metadata": {},
   "outputs": [
    {
     "name": "stdout",
     "output_type": "stream",
     "text": [
      "rock\n",
      "       words  frequency\n",
      "5282     don       5284\n",
      "10362   love       5114\n",
      "9697    know       4702\n",
      "12077     oh       4258\n",
      "20056   yeah       4157\n",
      "...      ...        ...\n",
      "18247   town        558\n",
      "6337    fall        548\n",
      "14819  round        548\n",
      "4527    days        542\n",
      "10335   lost        541\n",
      "\n",
      "[100 rows x 2 columns]\n",
      "------------------------\n",
      "hiphop\n",
      "        words  frequency\n",
      "18361    like      12055\n",
      "13533     got       7613\n",
      "9466      don       7604\n",
      "17532    know       6535\n",
      "17082    just       6272\n",
      "...       ...        ...\n",
      "31521    talk        823\n",
      "18961      ma        821\n",
      "34088   verse        820\n",
      "5866   chorus        811\n",
      "3911     bout        808\n",
      "\n",
      "[100 rows x 2 columns]\n",
      "------------------------\n",
      "metal\n",
      "       words  frequency\n",
      "7883    life       1233\n",
      "4088     don       1181\n",
      "3284   death       1139\n",
      "13844   time       1096\n",
      "7977      ll       1069\n",
      "...      ...        ...\n",
      "13839   till        215\n",
      "5939    good        214\n",
      "11666   save        213\n",
      "13041   stop        211\n",
      "8034    lord        210\n",
      "\n",
      "[100 rows x 2 columns]\n",
      "------------------------\n",
      "pop\n",
      "           words  frequency\n",
      "3135         don       3329\n",
      "6219        like       2995\n",
      "6390        love       2914\n",
      "7455          oh       2737\n",
      "5918        know       2677\n",
      "...          ...        ...\n",
      "878      believe        282\n",
      "10873      thing        274\n",
      "3641   everybody        270\n",
      "3429          eh        269\n",
      "1865       chick        267\n",
      "\n",
      "[100 rows x 2 columns]\n",
      "------------------------\n"
     ]
    }
   ],
   "source": [
    "genres =  ['rock', 'hiphop', 'metal', 'pop']\n",
    "for genre in genres:\n",
    "    top100_words(df, genre=genre)\n",
    "    print('------------------------')"
   ]
  },
  {
   "cell_type": "markdown",
   "metadata": {},
   "source": [
    "**(R)**\n",
    "- Palabras como `don` (provenientes de `don't`) tienden a ser independientes del género.\n",
    "- Palabras como `love` y `like` tienden a repetirse mucho, excepto en el metal.\n",
    "- En este último, naturalmente las palabras más repetidas son `life`, `death`, `lord`, etc."
   ]
  },
  {
   "cell_type": "markdown",
   "metadata": {},
   "source": [
    "#### **Ejercicio 4: Entrenamiento del Modelo**"
   ]
  },
  {
   "cell_type": "code",
   "execution_count": 48,
   "metadata": {},
   "outputs": [],
   "source": [
    "from sklearn.naive_bayes import MultinomialNB\n",
    "from sklearn.pipeline import Pipeline\n",
    "from sklearn.metrics import roc_auc_score, roc_curve, confusion_matrix\n",
    "from sklearn.model_selection import train_test_split\n",
    "from sklearn.preprocessing import LabelEncoder"
   ]
  },
  {
   "cell_type": "code",
   "execution_count": 57,
   "metadata": {},
   "outputs": [],
   "source": [
    "X = df['lyrics']\n",
    "y = df['genre']\n",
    "\n",
    "X_train, X_test, y_train, y_test = train_test_split(X, y, test_size = .4, random_state = 42)"
   ]
  },
  {
   "cell_type": "code",
   "execution_count": 58,
   "metadata": {},
   "outputs": [],
   "source": [
    "pipeline = Pipeline(\n",
    "    [\n",
    "        ('countvect', CountVectorizer(stop_words = 'english')),\n",
    "        ('multinbay', MultinomialNB())\n",
    "    ]\n",
    ")"
   ]
  },
  {
   "cell_type": "code",
   "execution_count": 59,
   "metadata": {},
   "outputs": [],
   "source": [
    "pipeline.fit(X_train, y_train);\n",
    "# pipeline.named_steps.countvect.get_feature_names()"
   ]
  },
  {
   "cell_type": "code",
   "execution_count": 60,
   "metadata": {},
   "outputs": [],
   "source": [
    "to_predict = pd.Series(np.array(\n",
    "    [\"I got a place in the underworld\",\n",
    "     \"As veils of ignorance, hatred retains Storm of arrows through karma Seeking light through samsara\", \n",
    "     \"Bye bye Don't want to be a fool for you Just another player in your game for two You may hate me but it ain't no lie\",\n",
    "     \"Move bitch, get out the way Get out the way bitch, get out the way Move bitch, get out the way Get out the way bitch, get out the way\",\n",
    "     \"Sexual violence doesn’t start and end with rape It starts in our books and behind our school gates\",\n",
    "     \"Take it from the girl you claimed to love You gonna get some bad karma I'm the one who had to learn to build a heart made of armor From the girl who made you soup and tied your shoes when you were hurting You are not deserving, you are not deserving\"\n",
    "    ]))"
   ]
  },
  {
   "cell_type": "code",
   "execution_count": 61,
   "metadata": {},
   "outputs": [
    {
     "data": {
      "text/plain": [
       "array(['rock', 'metal', 'rock', 'pop', 'metal', 'rock'], dtype='<U6')"
      ]
     },
     "execution_count": 61,
     "metadata": {},
     "output_type": "execute_result"
    }
   ],
   "source": [
    "pipeline.predict(to_predict)"
   ]
  },
  {
   "cell_type": "code",
   "execution_count": null,
   "metadata": {},
   "outputs": [],
   "source": []
  }
 ],
 "metadata": {
  "kernelspec": {
   "display_name": "dlatam_ds",
   "language": "python",
   "name": "dlatam_ds"
  },
  "language_info": {
   "codemirror_mode": {
    "name": "ipython",
    "version": 3
   },
   "file_extension": ".py",
   "mimetype": "text/x-python",
   "name": "python",
   "nbconvert_exporter": "python",
   "pygments_lexer": "ipython3",
   "version": "3.7.3"
  }
 },
 "nbformat": 4,
 "nbformat_minor": 4
}
