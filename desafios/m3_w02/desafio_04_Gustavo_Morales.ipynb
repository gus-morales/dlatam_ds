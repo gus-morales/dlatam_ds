{
 "cells": [
  {
   "cell_type": "markdown",
   "metadata": {},
   "source": [
    "## Machine Learning - Desafío 4, Análisis lineal discriminante\n",
    "#### Gustavo Morales, G10 - 15.Ene.2020, (Miércoles Semana 2)"
   ]
  },
  {
   "cell_type": "markdown",
   "metadata": {},
   "source": [
    "### **Ejercicio 1: Preparar el ambiente de trabajo**"
   ]
  },
  {
   "cell_type": "code",
   "execution_count": 1,
   "metadata": {},
   "outputs": [],
   "source": [
    "import numpy as np\n",
    "import pandas as pd\n",
    "import matplotlib.pyplot as plt\n",
    "import seaborn as sns\n",
    "import itertools\n",
    "from sklearn.model_selection import train_test_split, cross_val_score\n",
    "from sklearn.preprocessing import LabelEncoder, StandardScaler, LabelBinarizer\n",
    "from sklearn.metrics import (classification_report, confusion_matrix, plot_confusion_matrix,\n",
    "                             roc_curve, roc_auc_score)\n",
    "from sklearn.discriminant_analysis import LinearDiscriminantAnalysis, QuadraticDiscriminantAnalysis\n",
    "plt.style.use('seaborn-paper')\n",
    "plt.rc('xtick', labelsize=15)\n",
    "plt.rc('ytick', labelsize=15)"
   ]
  },
  {
   "cell_type": "code",
   "execution_count": 2,
   "metadata": {},
   "outputs": [],
   "source": [
    "#plt.style.available"
   ]
  },
  {
   "cell_type": "code",
   "execution_count": 3,
   "metadata": {},
   "outputs": [],
   "source": [
    "df = pd.read_csv('default_credit.csv').drop(columns = 'index')"
   ]
  },
  {
   "cell_type": "code",
   "execution_count": 4,
   "metadata": {},
   "outputs": [
    {
     "data": {
      "text/html": [
       "<div>\n",
       "<style scoped>\n",
       "    .dataframe tbody tr th:only-of-type {\n",
       "        vertical-align: middle;\n",
       "    }\n",
       "\n",
       "    .dataframe tbody tr th {\n",
       "        vertical-align: top;\n",
       "    }\n",
       "\n",
       "    .dataframe thead th {\n",
       "        text-align: right;\n",
       "    }\n",
       "</style>\n",
       "<table border=\"1\" class=\"dataframe\">\n",
       "  <thead>\n",
       "    <tr style=\"text-align: right;\">\n",
       "      <th></th>\n",
       "      <th>default</th>\n",
       "      <th>student</th>\n",
       "      <th>balance</th>\n",
       "      <th>income</th>\n",
       "    </tr>\n",
       "  </thead>\n",
       "  <tbody>\n",
       "    <tr>\n",
       "      <th>0</th>\n",
       "      <td>No</td>\n",
       "      <td>No</td>\n",
       "      <td>729.526495</td>\n",
       "      <td>44361.625074</td>\n",
       "    </tr>\n",
       "    <tr>\n",
       "      <th>1</th>\n",
       "      <td>No</td>\n",
       "      <td>Yes</td>\n",
       "      <td>817.180407</td>\n",
       "      <td>12106.134700</td>\n",
       "    </tr>\n",
       "    <tr>\n",
       "      <th>2</th>\n",
       "      <td>No</td>\n",
       "      <td>No</td>\n",
       "      <td>1073.549164</td>\n",
       "      <td>31767.138947</td>\n",
       "    </tr>\n",
       "    <tr>\n",
       "      <th>3</th>\n",
       "      <td>No</td>\n",
       "      <td>No</td>\n",
       "      <td>529.250605</td>\n",
       "      <td>35704.493935</td>\n",
       "    </tr>\n",
       "    <tr>\n",
       "      <th>4</th>\n",
       "      <td>No</td>\n",
       "      <td>No</td>\n",
       "      <td>785.655883</td>\n",
       "      <td>38463.495879</td>\n",
       "    </tr>\n",
       "    <tr>\n",
       "      <th>5</th>\n",
       "      <td>No</td>\n",
       "      <td>Yes</td>\n",
       "      <td>919.588530</td>\n",
       "      <td>7491.558572</td>\n",
       "    </tr>\n",
       "    <tr>\n",
       "      <th>6</th>\n",
       "      <td>No</td>\n",
       "      <td>No</td>\n",
       "      <td>825.513331</td>\n",
       "      <td>24905.226578</td>\n",
       "    </tr>\n",
       "    <tr>\n",
       "      <th>7</th>\n",
       "      <td>No</td>\n",
       "      <td>Yes</td>\n",
       "      <td>808.667504</td>\n",
       "      <td>17600.451344</td>\n",
       "    </tr>\n",
       "    <tr>\n",
       "      <th>8</th>\n",
       "      <td>No</td>\n",
       "      <td>No</td>\n",
       "      <td>1161.057854</td>\n",
       "      <td>37468.529288</td>\n",
       "    </tr>\n",
       "    <tr>\n",
       "      <th>9</th>\n",
       "      <td>No</td>\n",
       "      <td>No</td>\n",
       "      <td>0.000000</td>\n",
       "      <td>29275.268293</td>\n",
       "    </tr>\n",
       "  </tbody>\n",
       "</table>\n",
       "</div>"
      ],
      "text/plain": [
       "  default student      balance        income\n",
       "0      No      No   729.526495  44361.625074\n",
       "1      No     Yes   817.180407  12106.134700\n",
       "2      No      No  1073.549164  31767.138947\n",
       "3      No      No   529.250605  35704.493935\n",
       "4      No      No   785.655883  38463.495879\n",
       "5      No     Yes   919.588530   7491.558572\n",
       "6      No      No   825.513331  24905.226578\n",
       "7      No     Yes   808.667504  17600.451344\n",
       "8      No      No  1161.057854  37468.529288\n",
       "9      No      No     0.000000  29275.268293"
      ]
     },
     "execution_count": 4,
     "metadata": {},
     "output_type": "execute_result"
    }
   ],
   "source": [
    "df.head(10)"
   ]
  },
  {
   "cell_type": "code",
   "execution_count": 5,
   "metadata": {},
   "outputs": [
    {
     "name": "stdout",
     "output_type": "stream",
     "text": [
      "<class 'pandas.core.frame.DataFrame'>\n",
      "RangeIndex: 10000 entries, 0 to 9999\n",
      "Data columns (total 4 columns):\n",
      "default    10000 non-null object\n",
      "student    10000 non-null object\n",
      "balance    10000 non-null float64\n",
      "income     10000 non-null float64\n",
      "dtypes: float64(2), object(2)\n",
      "memory usage: 312.6+ KB\n"
     ]
    }
   ],
   "source": [
    "df.info()"
   ]
  },
  {
   "cell_type": "code",
   "execution_count": 6,
   "metadata": {},
   "outputs": [
    {
     "data": {
      "text/plain": [
       "default    0\n",
       "student    0\n",
       "balance    0\n",
       "income     0\n",
       "dtype: int64"
      ]
     },
     "execution_count": 6,
     "metadata": {},
     "output_type": "execute_result"
    }
   ],
   "source": [
    "df.isnull().sum(axis = 0)  # NaN distribution columnwise"
   ]
  },
  {
   "cell_type": "code",
   "execution_count": 7,
   "metadata": {},
   "outputs": [],
   "source": [
    "from scipy.stats import pearsonr\n",
    "def corrfunc(x,y, ax=None, **kws):\n",
    "    \"\"\"Plot the correlation coefficient in the top right hand corner of a plot.\"\"\"\n",
    "    r, _ = pearsonr(x, y)\n",
    "    ax = ax or plt.gca()\n",
    "    # Unicode for lowercase rho (ρ)\n",
    "    # rho = '\\u03C1'\n",
    "    ax.annotate(f'{r:.2f}', xy=(.85, .9), xycoords=ax.transAxes, fontsize=14)"
   ]
  },
  {
   "cell_type": "code",
   "execution_count": 8,
   "metadata": {},
   "outputs": [],
   "source": [
    "def plot_pair_grid(dataframe, variables=None):\n",
    "    grid = sns.PairGrid(data=dataframe, vars=variables, dropna=True)\n",
    "    grid = grid.map_upper(sns.regplot, color='black', scatter_kws={'alpha': 0.01})\n",
    "    grid = grid.map_upper(corrfunc)\n",
    "    grid = grid.map_lower(sns.kdeplot, cmap='binary')\n",
    "    grid = grid.map_diag(sns.distplot, kde=False, rug=False, color='black')\n",
    "    plt.tight_layout()"
   ]
  },
  {
   "cell_type": "code",
   "execution_count": 9,
   "metadata": {},
   "outputs": [
    {
     "data": {
      "image/png": "[encoded data removed]",
      "text/plain": [
       "<Figure size 360x360 with 6 Axes>"
      ]
     },
     "metadata": {
      "needs_background": "light"
     },
     "output_type": "display_data"
    }
   ],
   "source": [
    "plot_pair_grid(df)"
   ]
  },
  {
   "cell_type": "markdown",
   "metadata": {},
   "source": [
    "También son útiles los histogramas separados por estado de estudios:"
   ]
  },
  {
   "cell_type": "code",
   "execution_count": 10,
   "metadata": {},
   "outputs": [
    {
     "data": {
      "image/png": "[encoded data removed]",
      "text/plain": [
       "<Figure size 460.8x316.8 with 1 Axes>"
      ]
     },
     "metadata": {
      "needs_background": "light"
     },
     "output_type": "display_data"
    }
   ],
   "source": [
    "dfs1 = df[df.student == 'Yes']\n",
    "dfs0 = df[df.student == 'No']\n",
    "sns.distplot(dfs1['income'], kde=False, label='Student')\n",
    "sns.distplot(dfs0['income'], kde=False, label='Not Student')\n",
    "plt.legend()\n",
    "plt.tight_layout()"
   ]
  },
  {
   "cell_type": "code",
   "execution_count": 11,
   "metadata": {},
   "outputs": [
    {
     "data": {
      "image/png": "[encoded data removed]",
      "text/plain": [
       "<Figure size 460.8x316.8 with 1 Axes>"
      ]
     },
     "metadata": {
      "needs_background": "light"
     },
     "output_type": "display_data"
    }
   ],
   "source": [
    "sns.distplot(dfs1['balance'], kde=False, label='Student')\n",
    "sns.distplot(dfs0['balance'], kde=False, label='Not Student')\n",
    "plt.legend()\n",
    "plt.tight_layout()"
   ]
  },
  {
   "cell_type": "markdown",
   "metadata": {},
   "source": [
    "### **Ejercicio 2: Modelo base**"
   ]
  },
  {
   "cell_type": "code",
   "execution_count": 12,
   "metadata": {},
   "outputs": [
    {
     "data": {
      "text/html": [
       "<div>\n",
       "<style scoped>\n",
       "    .dataframe tbody tr th:only-of-type {\n",
       "        vertical-align: middle;\n",
       "    }\n",
       "\n",
       "    .dataframe tbody tr th {\n",
       "        vertical-align: top;\n",
       "    }\n",
       "\n",
       "    .dataframe thead th {\n",
       "        text-align: right;\n",
       "    }\n",
       "</style>\n",
       "<table border=\"1\" class=\"dataframe\">\n",
       "  <thead>\n",
       "    <tr style=\"text-align: right;\">\n",
       "      <th></th>\n",
       "      <th>default</th>\n",
       "      <th>student</th>\n",
       "      <th>balance</th>\n",
       "      <th>income</th>\n",
       "    </tr>\n",
       "  </thead>\n",
       "  <tbody>\n",
       "    <tr>\n",
       "      <th>0</th>\n",
       "      <td>0</td>\n",
       "      <td>0</td>\n",
       "      <td>729.526495</td>\n",
       "      <td>44361.625074</td>\n",
       "    </tr>\n",
       "    <tr>\n",
       "      <th>1</th>\n",
       "      <td>0</td>\n",
       "      <td>1</td>\n",
       "      <td>817.180407</td>\n",
       "      <td>12106.134700</td>\n",
       "    </tr>\n",
       "    <tr>\n",
       "      <th>2</th>\n",
       "      <td>0</td>\n",
       "      <td>0</td>\n",
       "      <td>1073.549164</td>\n",
       "      <td>31767.138947</td>\n",
       "    </tr>\n",
       "    <tr>\n",
       "      <th>3</th>\n",
       "      <td>0</td>\n",
       "      <td>0</td>\n",
       "      <td>529.250605</td>\n",
       "      <td>35704.493935</td>\n",
       "    </tr>\n",
       "    <tr>\n",
       "      <th>4</th>\n",
       "      <td>0</td>\n",
       "      <td>0</td>\n",
       "      <td>785.655883</td>\n",
       "      <td>38463.495879</td>\n",
       "    </tr>\n",
       "    <tr>\n",
       "      <th>5</th>\n",
       "      <td>0</td>\n",
       "      <td>1</td>\n",
       "      <td>919.588530</td>\n",
       "      <td>7491.558572</td>\n",
       "    </tr>\n",
       "    <tr>\n",
       "      <th>6</th>\n",
       "      <td>0</td>\n",
       "      <td>0</td>\n",
       "      <td>825.513331</td>\n",
       "      <td>24905.226578</td>\n",
       "    </tr>\n",
       "    <tr>\n",
       "      <th>7</th>\n",
       "      <td>0</td>\n",
       "      <td>1</td>\n",
       "      <td>808.667504</td>\n",
       "      <td>17600.451344</td>\n",
       "    </tr>\n",
       "    <tr>\n",
       "      <th>8</th>\n",
       "      <td>0</td>\n",
       "      <td>0</td>\n",
       "      <td>1161.057854</td>\n",
       "      <td>37468.529288</td>\n",
       "    </tr>\n",
       "    <tr>\n",
       "      <th>9</th>\n",
       "      <td>0</td>\n",
       "      <td>0</td>\n",
       "      <td>0.000000</td>\n",
       "      <td>29275.268293</td>\n",
       "    </tr>\n",
       "  </tbody>\n",
       "</table>\n",
       "</div>"
      ],
      "text/plain": [
       "   default  student      balance        income\n",
       "0        0        0   729.526495  44361.625074\n",
       "1        0        1   817.180407  12106.134700\n",
       "2        0        0  1073.549164  31767.138947\n",
       "3        0        0   529.250605  35704.493935\n",
       "4        0        0   785.655883  38463.495879\n",
       "5        0        1   919.588530   7491.558572\n",
       "6        0        0   825.513331  24905.226578\n",
       "7        0        1   808.667504  17600.451344\n",
       "8        0        0  1161.057854  37468.529288\n",
       "9        0        0     0.000000  29275.268293"
      ]
     },
     "execution_count": 12,
     "metadata": {},
     "output_type": "execute_result"
    }
   ],
   "source": [
    "df['default'] = LabelEncoder().fit_transform(df['default'])\n",
    "df['student'] = LabelEncoder().fit_transform(df['student'])\n",
    "df.head(10)"
   ]
  },
  {
   "cell_type": "code",
   "execution_count": 13,
   "metadata": {},
   "outputs": [],
   "source": [
    "X = df.drop(['default'], axis = 1)\n",
    "y = df['default']\n",
    "\n",
    "X_train, X_test, y_train, y_test = train_test_split(X, y, test_size=.33, random_state=42)"
   ]
  },
  {
   "cell_type": "code",
   "execution_count": 14,
   "metadata": {},
   "outputs": [],
   "source": [
    "lda_p0_model = LinearDiscriminantAnalysis()\n",
    "lda_p0_model.fit(X_train,y_train);"
   ]
  },
  {
   "cell_type": "code",
   "execution_count": 15,
   "metadata": {},
   "outputs": [
    {
     "data": {
      "text/plain": [
       "array([0.96671642, 0.03328358])"
      ]
     },
     "execution_count": 15,
     "metadata": {},
     "output_type": "execute_result"
    }
   ],
   "source": [
    "lda_p0_model.priors_"
   ]
  },
  {
   "cell_type": "code",
   "execution_count": 16,
   "metadata": {},
   "outputs": [],
   "source": [
    "y_pred = lda_p0_model.predict(X_test)"
   ]
  },
  {
   "cell_type": "code",
   "execution_count": 17,
   "metadata": {},
   "outputs": [
    {
     "name": "stdout",
     "output_type": "stream",
     "text": [
      "              precision    recall  f1-score   support\n",
      "\n",
      "           0       0.97      1.00      0.99      3190\n",
      "           1       0.79      0.25      0.38       110\n",
      "\n",
      "    accuracy                           0.97      3300\n",
      "   macro avg       0.88      0.62      0.68      3300\n",
      "weighted avg       0.97      0.97      0.97      3300\n",
      "\n"
     ]
    }
   ],
   "source": [
    "print(classification_report(y_test, y_pred))"
   ]
  },
  {
   "cell_type": "code",
   "execution_count": 18,
   "metadata": {},
   "outputs": [
    {
     "data": {
      "image/png": "[encoded data removed]",
      "text/plain": [
       "<Figure size 460.8x316.8 with 2 Axes>"
      ]
     },
     "metadata": {
      "needs_background": "light"
     },
     "output_type": "display_data"
    }
   ],
   "source": [
    "plot_confusion_matrix(lda_p0_model.fit(X_train,y_train),\n",
    "                      X_test, y_test,\n",
    "                      cmap=plt.cm.Blues,\n",
    "                      normalize='true')\n",
    "plt.tight_layout()"
   ]
  },
  {
   "cell_type": "code",
   "execution_count": 19,
   "metadata": {},
   "outputs": [
    {
     "data": {
      "text/plain": [
       "{'tn': 3183, 'fp': 7, 'fn': 83, 'tp': 27}"
      ]
     },
     "execution_count": 19,
     "metadata": {},
     "output_type": "execute_result"
    }
   ],
   "source": [
    "tn, fp, fn, tp = confusion_matrix(y_test, y_pred).ravel()\n",
    "lda = {'tn':tn, 'fp':fp, 'fn':fn, 'tp':tp}\n",
    "lda"
   ]
  },
  {
   "cell_type": "markdown",
   "metadata": {},
   "source": [
    "**(R)** El desempeño del modelo deja ver las clases desbalanceadas: la etiqueta `0` (cliente no-moroso) tiene una _precision_, _recall_ y _f1-score_ casi perfectos, con un _support_ (N) grande en comparación con la clase `1` (cliente moroso). En general, la _accuracy_ del modelo es bastante buena, con una matriz de confusión que confirma la gran cantidad de _true negatives_ en comparación a los _true positives_; y muy pocos falsos negativos/positivos. Dado que a un banco en general le gustaría más bien predecir los morosos (clase `1`) que los no-morosos (clase `0`), **queremos un modelo que tenga más `TP` (predichos morosos que realmente lo son) y menos `FN` (predichos no-morosos que en realidad sí lo son)**."
   ]
  },
  {
   "cell_type": "markdown",
   "metadata": {},
   "source": [
    "### **Ejercicio 3: Refactorización 1 - información a priori**"
   ]
  },
  {
   "cell_type": "markdown",
   "metadata": {},
   "source": [
    "#### **(3.1)** Prior 1 → morosos : no-morosos = 50:50"
   ]
  },
  {
   "cell_type": "code",
   "execution_count": 20,
   "metadata": {},
   "outputs": [],
   "source": [
    "prior_1 = np.array([0.5,0.5])\n",
    "lda_p1_model = LinearDiscriminantAnalysis(priors=prior_1)\n",
    "lda_p1_model.fit(X_train,y_train);"
   ]
  },
  {
   "cell_type": "code",
   "execution_count": 21,
   "metadata": {},
   "outputs": [
    {
     "data": {
      "text/plain": [
       "array([0.5, 0.5])"
      ]
     },
     "execution_count": 21,
     "metadata": {},
     "output_type": "execute_result"
    }
   ],
   "source": [
    "lda_p1_model.priors_"
   ]
  },
  {
   "cell_type": "code",
   "execution_count": 22,
   "metadata": {},
   "outputs": [],
   "source": [
    "y_pred_p1 = lda_p1_model.predict(X_test)"
   ]
  },
  {
   "cell_type": "code",
   "execution_count": 23,
   "metadata": {},
   "outputs": [
    {
     "name": "stdout",
     "output_type": "stream",
     "text": [
      "              precision    recall  f1-score   support\n",
      "\n",
      "           0       0.99      0.85      0.92      3190\n",
      "           1       0.17      0.87      0.28       110\n",
      "\n",
      "    accuracy                           0.85      3300\n",
      "   macro avg       0.58      0.86      0.60      3300\n",
      "weighted avg       0.97      0.85      0.89      3300\n",
      "\n"
     ]
    }
   ],
   "source": [
    "print(classification_report(y_test, y_pred_p1))"
   ]
  },
  {
   "cell_type": "code",
   "execution_count": 24,
   "metadata": {},
   "outputs": [
    {
     "data": {
      "image/png": "[encoded data removed]",
      "text/plain": [
       "<Figure size 460.8x316.8 with 2 Axes>"
      ]
     },
     "metadata": {
      "needs_background": "light"
     },
     "output_type": "display_data"
    }
   ],
   "source": [
    "plot_confusion_matrix(lda_p1_model.fit(X_train,y_train),\n",
    "                      X_test, y_test,\n",
    "                      cmap=plt.cm.Blues,\n",
    "                      normalize='true')\n",
    "plt.tight_layout()"
   ]
  },
  {
   "cell_type": "code",
   "execution_count": 25,
   "metadata": {},
   "outputs": [
    {
     "data": {
      "text/plain": [
       "{'tn': 2705, 'fp': 485, 'fn': 14, 'tp': 96}"
      ]
     },
     "execution_count": 25,
     "metadata": {},
     "output_type": "execute_result"
    }
   ],
   "source": [
    "tn, fp, fn, tp = confusion_matrix(y_test, y_pred_p1).ravel()\n",
    "lda_p1 = {'tn':tn, 'fp':fp, 'fn':fn, 'tp':tp}\n",
    "lda_p1"
   ]
  },
  {
   "cell_type": "markdown",
   "metadata": {},
   "source": [
    "#### **(3.2)** Prior 2 → morosos : no-morosos = 60:40"
   ]
  },
  {
   "cell_type": "code",
   "execution_count": 26,
   "metadata": {},
   "outputs": [],
   "source": [
    "prior_2 = np.array([0.6,0.4])\n",
    "lda_p2_model = LinearDiscriminantAnalysis(priors=prior_2)\n",
    "lda_p2_model.fit(X_train,y_train);"
   ]
  },
  {
   "cell_type": "code",
   "execution_count": 27,
   "metadata": {},
   "outputs": [
    {
     "data": {
      "text/plain": [
       "array([0.6, 0.4])"
      ]
     },
     "execution_count": 27,
     "metadata": {},
     "output_type": "execute_result"
    }
   ],
   "source": [
    "lda_p2_model.priors_"
   ]
  },
  {
   "cell_type": "code",
   "execution_count": 28,
   "metadata": {},
   "outputs": [],
   "source": [
    "y_pred_p2 = lda_p2_model.predict(X_test)"
   ]
  },
  {
   "cell_type": "code",
   "execution_count": 29,
   "metadata": {},
   "outputs": [
    {
     "name": "stdout",
     "output_type": "stream",
     "text": [
      "              precision    recall  f1-score   support\n",
      "\n",
      "           0       0.99      0.89      0.94      3190\n",
      "           1       0.21      0.85      0.33       110\n",
      "\n",
      "    accuracy                           0.89      3300\n",
      "   macro avg       0.60      0.87      0.63      3300\n",
      "weighted avg       0.97      0.89      0.92      3300\n",
      "\n"
     ]
    }
   ],
   "source": [
    "print(classification_report(y_test, y_pred_p2))"
   ]
  },
  {
   "cell_type": "code",
   "execution_count": 30,
   "metadata": {},
   "outputs": [
    {
     "data": {
      "image/png": "[encoded data removed]",
      "text/plain": [
       "<Figure size 460.8x316.8 with 2 Axes>"
      ]
     },
     "metadata": {
      "needs_background": "light"
     },
     "output_type": "display_data"
    }
   ],
   "source": [
    "plot_confusion_matrix(lda_p2_model.fit(X_train,y_train),\n",
    "                      X_test, y_test,\n",
    "                      cmap=plt.cm.Blues,\n",
    "                      normalize='true')\n",
    "plt.tight_layout()"
   ]
  },
  {
   "cell_type": "code",
   "execution_count": 31,
   "metadata": {},
   "outputs": [
    {
     "data": {
      "text/plain": [
       "{'tn': 2830, 'fp': 360, 'fn': 17, 'tp': 93}"
      ]
     },
     "execution_count": 31,
     "metadata": {},
     "output_type": "execute_result"
    }
   ],
   "source": [
    "tn, fp, fn, tp = confusion_matrix(y_test, y_pred_p2).ravel()\n",
    "lda_p2 = {'tn':tn, 'fp':fp, 'fn':fn, 'tp':tp}\n",
    "lda_p2"
   ]
  },
  {
   "cell_type": "markdown",
   "metadata": {},
   "source": [
    "Notar que el desbalanceo de las etiquetas disminuye un poco al asumir distintos _priors_. En general, la `accuracy` del modelo sigue siendo bastante buena, con una matriz de confusión que aumenta la cantidad de `TN` pero disminuye a su vez la cantidad de `TP`."
   ]
  },
  {
   "cell_type": "markdown",
   "metadata": {},
   "source": [
    "### **Ejercicio 4: Refactorización 2 - oversampling**"
   ]
  },
  {
   "cell_type": "code",
   "execution_count": 32,
   "metadata": {},
   "outputs": [],
   "source": [
    "from imblearn.over_sampling import SMOTE\n",
    "oversampler = SMOTE(random_state=42, sampling_strategy='minority')\n",
    "X_train_oversamp, y_train_oversamp = oversampler.fit_sample(X_train, y_train)"
   ]
  },
  {
   "cell_type": "code",
   "execution_count": 33,
   "metadata": {},
   "outputs": [],
   "source": [
    "lda_over_model = LinearDiscriminantAnalysis()\n",
    "lda_over_model.fit(X_train_oversamp, y_train_oversamp);"
   ]
  },
  {
   "cell_type": "code",
   "execution_count": 34,
   "metadata": {},
   "outputs": [
    {
     "data": {
      "text/plain": [
       "array([0.5, 0.5])"
      ]
     },
     "execution_count": 34,
     "metadata": {},
     "output_type": "execute_result"
    }
   ],
   "source": [
    "lda_over_model.priors_"
   ]
  },
  {
   "cell_type": "code",
   "execution_count": 35,
   "metadata": {},
   "outputs": [],
   "source": [
    "y_pred_over = lda_over_model.predict(X_test)"
   ]
  },
  {
   "cell_type": "code",
   "execution_count": 36,
   "metadata": {},
   "outputs": [
    {
     "name": "stdout",
     "output_type": "stream",
     "text": [
      "              precision    recall  f1-score   support\n",
      "\n",
      "           0       1.00      0.85      0.92      3190\n",
      "           1       0.17      0.88      0.29       110\n",
      "\n",
      "    accuracy                           0.85      3300\n",
      "   macro avg       0.58      0.87      0.60      3300\n",
      "weighted avg       0.97      0.85      0.90      3300\n",
      "\n"
     ]
    }
   ],
   "source": [
    "print(classification_report(y_test, y_pred_over))"
   ]
  },
  {
   "cell_type": "code",
   "execution_count": 37,
   "metadata": {},
   "outputs": [
    {
     "data": {
      "image/png": "[encoded data removed]",
      "text/plain": [
       "<Figure size 460.8x316.8 with 2 Axes>"
      ]
     },
     "metadata": {
      "needs_background": "light"
     },
     "output_type": "display_data"
    }
   ],
   "source": [
    "plot_confusion_matrix(lda_over_model.fit(X_train_oversamp,y_train_oversamp),\n",
    "                      X_test, y_test,\n",
    "                      cmap=plt.cm.Blues,\n",
    "                      normalize='true')\n",
    "plt.tight_layout()"
   ]
  },
  {
   "cell_type": "code",
   "execution_count": 38,
   "metadata": {},
   "outputs": [
    {
     "data": {
      "text/plain": [
       "{'tn': 2717, 'fp': 473, 'fn': 13, 'tp': 97}"
      ]
     },
     "execution_count": 38,
     "metadata": {},
     "output_type": "execute_result"
    }
   ],
   "source": [
    "tn, fp, fn, tp = confusion_matrix(y_test, y_pred_over).ravel()\n",
    "lda_over = {'tn':tn, 'fp':fp, 'fn':fn, 'tp':tp}\n",
    "lda_over"
   ]
  },
  {
   "cell_type": "markdown",
   "metadata": {},
   "source": [
    "**(R)** Vemos que aunque este modelo tiene menos TN, tiene más TP y menos FN (que es lo que nos interesa desde el punto de vista del banco). Las métricas en general siguen siendo relativamente buenas."
   ]
  },
  {
   "cell_type": "markdown",
   "metadata": {},
   "source": [
    "### **Ejercicio 5: Refactorización 3 - QDA**"
   ]
  },
  {
   "cell_type": "code",
   "execution_count": 39,
   "metadata": {},
   "outputs": [],
   "source": [
    "qda_over_model = QuadraticDiscriminantAnalysis()\n",
    "qda_over_model.fit(X_train_oversamp,y_train_oversamp);"
   ]
  },
  {
   "cell_type": "code",
   "execution_count": 40,
   "metadata": {},
   "outputs": [
    {
     "data": {
      "text/plain": [
       "array([0.5, 0.5])"
      ]
     },
     "execution_count": 40,
     "metadata": {},
     "output_type": "execute_result"
    }
   ],
   "source": [
    "qda_over_model.priors_"
   ]
  },
  {
   "cell_type": "code",
   "execution_count": 41,
   "metadata": {},
   "outputs": [],
   "source": [
    "y_pred_qda_over = qda_over_model.predict(X_test)"
   ]
  },
  {
   "cell_type": "code",
   "execution_count": 42,
   "metadata": {},
   "outputs": [
    {
     "name": "stdout",
     "output_type": "stream",
     "text": [
      "              precision    recall  f1-score   support\n",
      "\n",
      "           0       0.99      0.88      0.93      3190\n",
      "           1       0.19      0.85      0.32       110\n",
      "\n",
      "    accuracy                           0.88      3300\n",
      "   macro avg       0.59      0.86      0.62      3300\n",
      "weighted avg       0.97      0.88      0.91      3300\n",
      "\n"
     ]
    }
   ],
   "source": [
    "print(classification_report(y_test, y_pred_qda_over))"
   ]
  },
  {
   "cell_type": "code",
   "execution_count": 43,
   "metadata": {},
   "outputs": [
    {
     "data": {
      "image/png": "[encoded data removed]",
      "text/plain": [
       "<Figure size 460.8x316.8 with 2 Axes>"
      ]
     },
     "metadata": {
      "needs_background": "light"
     },
     "output_type": "display_data"
    }
   ],
   "source": [
    "plot_confusion_matrix(qda_over_model.fit(X_train_oversamp,y_train_oversamp),\n",
    "                      X_test, y_test,\n",
    "                      cmap=plt.cm.Blues,\n",
    "                      normalize='true')\n",
    "plt.tight_layout()"
   ]
  },
  {
   "cell_type": "code",
   "execution_count": 44,
   "metadata": {},
   "outputs": [
    {
     "data": {
      "text/plain": [
       "{'tn': 2804, 'fp': 386, 'fn': 17, 'tp': 93}"
      ]
     },
     "execution_count": 44,
     "metadata": {},
     "output_type": "execute_result"
    }
   ],
   "source": [
    "tn, fp, fn, tp = confusion_matrix(y_test, y_pred_qda_over).ravel()\n",
    "qda_over = {'tn':tn, 'fp':fp, 'fn':fn, 'tp':tp}\n",
    "qda_over"
   ]
  },
  {
   "cell_type": "markdown",
   "metadata": {},
   "source": [
    "**(R)** No hay mucha diferencia con los modelos anteriores."
   ]
  },
  {
   "cell_type": "markdown",
   "metadata": {},
   "source": [
    "Veamos un resumen para entender mejor:"
   ]
  },
  {
   "cell_type": "code",
   "execution_count": 45,
   "metadata": {},
   "outputs": [],
   "source": [
    "def get_scores(cm_object):\n",
    "    tn, fp, fn, tp = cm_object.ravel()\n",
    "    precision = tp / (tp + fp)\n",
    "    accuracy = (tp + tn) / (tp + tn + fp + fn)\n",
    "    sensitivity = tp / (tp + fn)\n",
    "    specificity = tn / (tn + fp)\n",
    "    neg_pred_value = tn / (tn + fn)\n",
    "    f1 = 2*(precision * sensitivity)/(precision + sensitivity)\n",
    "    \"\"\"\n",
    "    precision (positive predictive value): probability that instances predicted positive are actually positive\n",
    "    → a measure of QUALITY\n",
    "    accuracy: fraction of correct predictions among the total number of input samples\n",
    "    sensitivity (recall): how many of the actual positives our model capture through labeling it as positive\n",
    "    → a measure of QUANTITY (completeness)\n",
    "    neg_pred_value: probability that instances predicted negative are actually negative\n",
    "    f1: (precision plus recall) a combined measure of how many instances are classified correctly,\n",
    "        as well as how robust it is by not missing a significant number of instances\n",
    "    → a measure of TEST'S ACCURACY\n",
    "    \"\"\"\n",
    "    return {'precision': round(precision,2),\n",
    "            'accuracy': round(accuracy,2),\n",
    "            'sensitivity': round(sensitivity,2),\n",
    "            'specificity': round(specificity,2),\n",
    "            'NPV': round(neg_pred_value,2),\n",
    "            'f1': round(f1,2)}"
   ]
  },
  {
   "cell_type": "code",
   "execution_count": 46,
   "metadata": {},
   "outputs": [],
   "source": [
    "cm_lda = confusion_matrix(y_test, y_pred)\n",
    "cm_lda_p1 = confusion_matrix(y_test, y_pred_p1)\n",
    "cm_lda_p2 = confusion_matrix(y_test, y_pred_p2)\n",
    "cm_lda_ov = confusion_matrix(y_test, y_pred_over)\n",
    "cm_qda = confusion_matrix(y_test, y_pred_qda_over)\n",
    "d1 = pd.DataFrame.from_dict(get_scores(cm_lda), orient='index', columns=['lda'])\n",
    "d2 = pd.DataFrame.from_dict(get_scores(cm_lda_p1), orient='index', columns=['lda_p1'])\n",
    "d3 = pd.DataFrame.from_dict(get_scores(cm_lda_p2), orient='index', columns=['lda_p2'])\n",
    "d4 = pd.DataFrame.from_dict(get_scores(cm_lda_ov), orient='index', columns=['lda_over'])\n",
    "d5 = pd.DataFrame.from_dict(get_scores(cm_qda), orient='index', columns=['qda_over'])\n",
    "frames = [d1, d2, d3, d4, d5]\n",
    "metrics = pd.concat(frames, axis=1)"
   ]
  },
  {
   "cell_type": "code",
   "execution_count": 47,
   "metadata": {},
   "outputs": [],
   "source": [
    "d1_ = pd.DataFrame.from_dict(lda, orient='index', columns=['lda'])\n",
    "d2_ = pd.DataFrame.from_dict(lda_p1, orient='index', columns=['lda_p1'])\n",
    "d3_ = pd.DataFrame.from_dict(lda_p2, orient='index', columns=['lda_p2'])\n",
    "d4_ = pd.DataFrame.from_dict(lda_over, orient='index', columns=['lda_over'])\n",
    "d5_ = pd.DataFrame.from_dict(qda_over, orient='index', columns=['qda_over'])\n",
    "frames_ = [d1_, d2_, d3_, d4_, d5_]\n",
    "confusion = pd.concat(frames_, axis=1)"
   ]
  },
  {
   "cell_type": "code",
   "execution_count": 48,
   "metadata": {},
   "outputs": [
    {
     "data": {
      "text/html": [
       "<div>\n",
       "<style scoped>\n",
       "    .dataframe tbody tr th:only-of-type {\n",
       "        vertical-align: middle;\n",
       "    }\n",
       "\n",
       "    .dataframe tbody tr th {\n",
       "        vertical-align: top;\n",
       "    }\n",
       "\n",
       "    .dataframe thead th {\n",
       "        text-align: right;\n",
       "    }\n",
       "</style>\n",
       "<table border=\"1\" class=\"dataframe\">\n",
       "  <thead>\n",
       "    <tr style=\"text-align: right;\">\n",
       "      <th></th>\n",
       "      <th>lda</th>\n",
       "      <th>lda_p1</th>\n",
       "      <th>lda_p2</th>\n",
       "      <th>lda_over</th>\n",
       "      <th>qda_over</th>\n",
       "    </tr>\n",
       "  </thead>\n",
       "  <tbody>\n",
       "    <tr>\n",
       "      <th>precision</th>\n",
       "      <td>0.79</td>\n",
       "      <td>0.17</td>\n",
       "      <td>0.21</td>\n",
       "      <td>0.17</td>\n",
       "      <td>0.19</td>\n",
       "    </tr>\n",
       "    <tr>\n",
       "      <th>accuracy</th>\n",
       "      <td>0.97</td>\n",
       "      <td>0.85</td>\n",
       "      <td>0.89</td>\n",
       "      <td>0.85</td>\n",
       "      <td>0.88</td>\n",
       "    </tr>\n",
       "    <tr>\n",
       "      <th>sensitivity</th>\n",
       "      <td>0.25</td>\n",
       "      <td>0.87</td>\n",
       "      <td>0.85</td>\n",
       "      <td>0.88</td>\n",
       "      <td>0.85</td>\n",
       "    </tr>\n",
       "    <tr>\n",
       "      <th>specificity</th>\n",
       "      <td>1.00</td>\n",
       "      <td>0.85</td>\n",
       "      <td>0.89</td>\n",
       "      <td>0.85</td>\n",
       "      <td>0.88</td>\n",
       "    </tr>\n",
       "    <tr>\n",
       "      <th>NPV</th>\n",
       "      <td>0.97</td>\n",
       "      <td>0.99</td>\n",
       "      <td>0.99</td>\n",
       "      <td>1.00</td>\n",
       "      <td>0.99</td>\n",
       "    </tr>\n",
       "    <tr>\n",
       "      <th>f1</th>\n",
       "      <td>0.38</td>\n",
       "      <td>0.28</td>\n",
       "      <td>0.33</td>\n",
       "      <td>0.29</td>\n",
       "      <td>0.32</td>\n",
       "    </tr>\n",
       "    <tr>\n",
       "      <th>tn</th>\n",
       "      <td>3183.00</td>\n",
       "      <td>2705.00</td>\n",
       "      <td>2830.00</td>\n",
       "      <td>2717.00</td>\n",
       "      <td>2804.00</td>\n",
       "    </tr>\n",
       "    <tr>\n",
       "      <th>fp</th>\n",
       "      <td>7.00</td>\n",
       "      <td>485.00</td>\n",
       "      <td>360.00</td>\n",
       "      <td>473.00</td>\n",
       "      <td>386.00</td>\n",
       "    </tr>\n",
       "    <tr>\n",
       "      <th>fn</th>\n",
       "      <td>83.00</td>\n",
       "      <td>14.00</td>\n",
       "      <td>17.00</td>\n",
       "      <td>13.00</td>\n",
       "      <td>17.00</td>\n",
       "    </tr>\n",
       "    <tr>\n",
       "      <th>tp</th>\n",
       "      <td>27.00</td>\n",
       "      <td>96.00</td>\n",
       "      <td>93.00</td>\n",
       "      <td>97.00</td>\n",
       "      <td>93.00</td>\n",
       "    </tr>\n",
       "  </tbody>\n",
       "</table>\n",
       "</div>"
      ],
      "text/plain": [
       "                 lda   lda_p1   lda_p2  lda_over  qda_over\n",
       "precision       0.79     0.17     0.21      0.17      0.19\n",
       "accuracy        0.97     0.85     0.89      0.85      0.88\n",
       "sensitivity     0.25     0.87     0.85      0.88      0.85\n",
       "specificity     1.00     0.85     0.89      0.85      0.88\n",
       "NPV             0.97     0.99     0.99      1.00      0.99\n",
       "f1              0.38     0.28     0.33      0.29      0.32\n",
       "tn           3183.00  2705.00  2830.00   2717.00   2804.00\n",
       "fp              7.00   485.00   360.00    473.00    386.00\n",
       "fn             83.00    14.00    17.00     13.00     17.00\n",
       "tp             27.00    96.00    93.00     97.00     93.00"
      ]
     },
     "execution_count": 48,
     "metadata": {},
     "output_type": "execute_result"
    }
   ],
   "source": [
    "results = pd.concat([metrics, confusion])\n",
    "results"
   ]
  },
  {
   "cell_type": "markdown",
   "metadata": {},
   "source": [
    "Veamos qué modelos optimizan la mayor cantidad de métricas de rendimiento:"
   ]
  },
  {
   "cell_type": "code",
   "execution_count": 49,
   "metadata": {},
   "outputs": [
    {
     "data": {
      "text/plain": [
       "precision           lda\n",
       "accuracy            lda\n",
       "sensitivity    lda_over\n",
       "specificity         lda\n",
       "NPV            lda_over\n",
       "f1                  lda\n",
       "tn                  lda\n",
       "tp             lda_over\n",
       "dtype: object"
      ]
     },
     "execution_count": 49,
     "metadata": {},
     "output_type": "execute_result"
    }
   ],
   "source": [
    "results.drop(['fp', 'fn']).idxmax(axis=1)"
   ]
  },
  {
   "cell_type": "code",
   "execution_count": 50,
   "metadata": {},
   "outputs": [
    {
     "data": {
      "text/plain": [
       "fp         lda\n",
       "fn    lda_over\n",
       "dtype: object"
      ]
     },
     "execution_count": 50,
     "metadata": {},
     "output_type": "execute_result"
    }
   ],
   "source": [
    "results.loc[['fp', 'fn']].idxmin(axis=1)"
   ]
  },
  {
   "cell_type": "markdown",
   "metadata": {},
   "source": [
    "**(R)** En general, vemos que efectivamente el modelo LDA con _oversampling_ `lda_over` no necesariamente tiene las mejores métricas como un todo, pero sí tiene mejores métricas desde el punto de vista del banco: mejor `recall` (`sensitivity`: capacidad de recuperar casos morosos que realmente lo son), mejor `NPV` (`negative predictive value`: capacidad de predecir no-morosos que realmente son no-morosos), más `TP` y menos `TN`. El mejor modelo en este caso sería entonces el que viene de LDA con _oversampling_."
   ]
  },
  {
   "cell_type": "markdown",
   "metadata": {},
   "source": [
    "Ahora miremos las curvas AUC para analizar los modelos:"
   ]
  },
  {
   "cell_type": "code",
   "execution_count": 51,
   "metadata": {},
   "outputs": [],
   "source": [
    "y_pred_probs = [\n",
    "    lda_p0_model.predict_proba(X_test)[:,1],\n",
    "    lda_p1_model.predict_proba(X_test)[:,1],\n",
    "    lda_p2_model.predict_proba(X_test)[:,1],\n",
    "    lda_over_model.predict_proba(X_test)[:,1],\n",
    "    qda_over_model.predict_proba(X_test)[:,1]\n",
    "]"
   ]
  },
  {
   "cell_type": "code",
   "execution_count": 52,
   "metadata": {},
   "outputs": [
    {
     "data": {
      "image/png": "[encoded data removed]",
      "text/plain": [
       "<Figure size 576x432 with 1 Axes>"
      ]
     },
     "metadata": {
      "needs_background": "light"
     },
     "output_type": "display_data"
    }
   ],
   "source": [
    "plt.rcParams['figure.figsize'] = 8, 6\n",
    "linestyles = ['solid', 'solid', 'solid', 'solid', 'dashed']\n",
    "linewidths = [22, 15, 10, 5, 3]\n",
    "#linewidths = [3, 3, 3, 3, 3]\n",
    "model_labels = ['LDA_p0', 'LDA_p1', 'LDA_p2', 'LDA_ov', 'QDA_ov']\n",
    "for (pred, ls, lw, ml) in zip(y_pred_probs, linestyles, linewidths, model_labels):\n",
    "    auc = roc_auc_score(y_test, pred)\n",
    "    fpr, tpr, thresholds = roc_curve(y_test, pred)\n",
    "    lb = ml + f' AUC={auc:0.3f}'\n",
    "    plt.plot(fpr, tpr, label=lb, linestyle=ls, linewidth=lw)\n",
    "    plt.xlabel('1 - Specificity (false positive rate)')\n",
    "    plt.ylabel('Sensitivity (true positive rate)')\n",
    "    plt.title('ROC curves')\n",
    "    plt.legend(fontsize='x-large')\n",
    "plt.tight_layout()"
   ]
  },
  {
   "cell_type": "markdown",
   "metadata": {},
   "source": [
    "**(R)** Desde el punto de vista de las curvas ROC, el comportamiento de las curvas y el puntaje AUC son esencialmente los mismos a través de los distintos modelos; es decir, todos los modelos tienen la misma capacidad de separar ambas poblaciones."
   ]
  },
  {
   "cell_type": "code",
   "execution_count": null,
   "metadata": {},
   "outputs": [],
   "source": []
  }
 ],
 "metadata": {
  "kernelspec": {
   "display_name": "dlatam_ds",
   "language": "python",
   "name": "dlatam_ds"
  },
  "language_info": {
   "codemirror_mode": {
    "name": "ipython",
    "version": 3
   },
   "file_extension": ".py",
   "mimetype": "text/x-python",
   "name": "python",
   "nbconvert_exporter": "python",
   "pygments_lexer": "ipython3",
   "version": "3.7.3"
  }
 },
 "nbformat": 4,
 "nbformat_minor": 4
}
