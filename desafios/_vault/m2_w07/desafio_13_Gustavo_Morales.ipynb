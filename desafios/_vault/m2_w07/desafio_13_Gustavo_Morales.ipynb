{
 "cells": [
  {
   "cell_type": "markdown",
   "metadata": {},
   "source": [
    "## Desafío 13 (Lunes Semana 7)\n",
    "## Dimensionalidad y Agrupación (I)\n",
    "### Gustavo Morales, G10 - 04.Nov.2019"
   ]
  },
  {
   "cell_type": "markdown",
   "metadata": {},
   "source": [
    "#### Ejercicio 1"
   ]
  },
  {
   "cell_type": "code",
   "execution_count": 1,
   "metadata": {},
   "outputs": [],
   "source": [
    "import pandas as pd\n",
    "import numpy as np\n",
    "import matplotlib.pyplot as plt\n",
    "from matplotlib import rcParams\n",
    "import seaborn as sns\n",
    "import missingno as msno\n",
    "import factor_analyzer as factor\n",
    "import statsmodels.formula.api as smf"
   ]
  },
  {
   "cell_type": "code",
   "execution_count": 2,
   "metadata": {},
   "outputs": [],
   "source": [
    "df = pd.read_csv(\"bfi.csv\").astype(float)"
   ]
  },
  {
   "cell_type": "code",
   "execution_count": 3,
   "metadata": {},
   "outputs": [
    {
     "data": {
      "text/html": [
       "<div>\n",
       "<style scoped>\n",
       "    .dataframe tbody tr th:only-of-type {\n",
       "        vertical-align: middle;\n",
       "    }\n",
       "\n",
       "    .dataframe tbody tr th {\n",
       "        vertical-align: top;\n",
       "    }\n",
       "\n",
       "    .dataframe thead th {\n",
       "        text-align: right;\n",
       "    }\n",
       "</style>\n",
       "<table border=\"1\" class=\"dataframe\">\n",
       "  <thead>\n",
       "    <tr style=\"text-align: right;\">\n",
       "      <th></th>\n",
       "      <th>Unnamed: 0</th>\n",
       "      <th>A1</th>\n",
       "      <th>A2</th>\n",
       "      <th>A3</th>\n",
       "      <th>A4</th>\n",
       "      <th>A5</th>\n",
       "      <th>C1</th>\n",
       "      <th>C2</th>\n",
       "      <th>C3</th>\n",
       "      <th>C4</th>\n",
       "      <th>...</th>\n",
       "      <th>N4</th>\n",
       "      <th>N5</th>\n",
       "      <th>O1</th>\n",
       "      <th>O2</th>\n",
       "      <th>O3</th>\n",
       "      <th>O4</th>\n",
       "      <th>O5</th>\n",
       "      <th>gender</th>\n",
       "      <th>education</th>\n",
       "      <th>age</th>\n",
       "    </tr>\n",
       "  </thead>\n",
       "  <tbody>\n",
       "    <tr>\n",
       "      <th>0</th>\n",
       "      <td>61617.0</td>\n",
       "      <td>2.0</td>\n",
       "      <td>4.0</td>\n",
       "      <td>3.0</td>\n",
       "      <td>4.0</td>\n",
       "      <td>4.0</td>\n",
       "      <td>2.0</td>\n",
       "      <td>3.0</td>\n",
       "      <td>3.0</td>\n",
       "      <td>4.0</td>\n",
       "      <td>...</td>\n",
       "      <td>2.0</td>\n",
       "      <td>3.0</td>\n",
       "      <td>3.0</td>\n",
       "      <td>6.0</td>\n",
       "      <td>3.0</td>\n",
       "      <td>4.0</td>\n",
       "      <td>3.0</td>\n",
       "      <td>1.0</td>\n",
       "      <td>NaN</td>\n",
       "      <td>16.0</td>\n",
       "    </tr>\n",
       "    <tr>\n",
       "      <th>1</th>\n",
       "      <td>61618.0</td>\n",
       "      <td>2.0</td>\n",
       "      <td>4.0</td>\n",
       "      <td>5.0</td>\n",
       "      <td>2.0</td>\n",
       "      <td>5.0</td>\n",
       "      <td>5.0</td>\n",
       "      <td>4.0</td>\n",
       "      <td>4.0</td>\n",
       "      <td>3.0</td>\n",
       "      <td>...</td>\n",
       "      <td>5.0</td>\n",
       "      <td>5.0</td>\n",
       "      <td>4.0</td>\n",
       "      <td>2.0</td>\n",
       "      <td>4.0</td>\n",
       "      <td>3.0</td>\n",
       "      <td>3.0</td>\n",
       "      <td>2.0</td>\n",
       "      <td>NaN</td>\n",
       "      <td>18.0</td>\n",
       "    </tr>\n",
       "    <tr>\n",
       "      <th>2</th>\n",
       "      <td>61620.0</td>\n",
       "      <td>5.0</td>\n",
       "      <td>4.0</td>\n",
       "      <td>5.0</td>\n",
       "      <td>4.0</td>\n",
       "      <td>4.0</td>\n",
       "      <td>4.0</td>\n",
       "      <td>5.0</td>\n",
       "      <td>4.0</td>\n",
       "      <td>2.0</td>\n",
       "      <td>...</td>\n",
       "      <td>2.0</td>\n",
       "      <td>3.0</td>\n",
       "      <td>4.0</td>\n",
       "      <td>2.0</td>\n",
       "      <td>5.0</td>\n",
       "      <td>5.0</td>\n",
       "      <td>2.0</td>\n",
       "      <td>2.0</td>\n",
       "      <td>NaN</td>\n",
       "      <td>17.0</td>\n",
       "    </tr>\n",
       "    <tr>\n",
       "      <th>3</th>\n",
       "      <td>61621.0</td>\n",
       "      <td>4.0</td>\n",
       "      <td>4.0</td>\n",
       "      <td>6.0</td>\n",
       "      <td>5.0</td>\n",
       "      <td>5.0</td>\n",
       "      <td>4.0</td>\n",
       "      <td>4.0</td>\n",
       "      <td>3.0</td>\n",
       "      <td>5.0</td>\n",
       "      <td>...</td>\n",
       "      <td>4.0</td>\n",
       "      <td>1.0</td>\n",
       "      <td>3.0</td>\n",
       "      <td>3.0</td>\n",
       "      <td>4.0</td>\n",
       "      <td>3.0</td>\n",
       "      <td>5.0</td>\n",
       "      <td>2.0</td>\n",
       "      <td>NaN</td>\n",
       "      <td>17.0</td>\n",
       "    </tr>\n",
       "    <tr>\n",
       "      <th>4</th>\n",
       "      <td>61622.0</td>\n",
       "      <td>2.0</td>\n",
       "      <td>3.0</td>\n",
       "      <td>3.0</td>\n",
       "      <td>4.0</td>\n",
       "      <td>5.0</td>\n",
       "      <td>4.0</td>\n",
       "      <td>4.0</td>\n",
       "      <td>5.0</td>\n",
       "      <td>3.0</td>\n",
       "      <td>...</td>\n",
       "      <td>4.0</td>\n",
       "      <td>3.0</td>\n",
       "      <td>3.0</td>\n",
       "      <td>3.0</td>\n",
       "      <td>4.0</td>\n",
       "      <td>3.0</td>\n",
       "      <td>3.0</td>\n",
       "      <td>1.0</td>\n",
       "      <td>NaN</td>\n",
       "      <td>17.0</td>\n",
       "    </tr>\n",
       "  </tbody>\n",
       "</table>\n",
       "<p>5 rows × 29 columns</p>\n",
       "</div>"
      ],
      "text/plain": [
       "   Unnamed: 0   A1   A2   A3   A4   A5   C1   C2   C3   C4  ...   N4   N5  \\\n",
       "0     61617.0  2.0  4.0  3.0  4.0  4.0  2.0  3.0  3.0  4.0  ...  2.0  3.0   \n",
       "1     61618.0  2.0  4.0  5.0  2.0  5.0  5.0  4.0  4.0  3.0  ...  5.0  5.0   \n",
       "2     61620.0  5.0  4.0  5.0  4.0  4.0  4.0  5.0  4.0  2.0  ...  2.0  3.0   \n",
       "3     61621.0  4.0  4.0  6.0  5.0  5.0  4.0  4.0  3.0  5.0  ...  4.0  1.0   \n",
       "4     61622.0  2.0  3.0  3.0  4.0  5.0  4.0  4.0  5.0  3.0  ...  4.0  3.0   \n",
       "\n",
       "    O1   O2   O3   O4   O5  gender  education   age  \n",
       "0  3.0  6.0  3.0  4.0  3.0     1.0        NaN  16.0  \n",
       "1  4.0  2.0  4.0  3.0  3.0     2.0        NaN  18.0  \n",
       "2  4.0  2.0  5.0  5.0  2.0     2.0        NaN  17.0  \n",
       "3  3.0  3.0  4.0  3.0  5.0     2.0        NaN  17.0  \n",
       "4  3.0  3.0  4.0  3.0  3.0     1.0        NaN  17.0  \n",
       "\n",
       "[5 rows x 29 columns]"
      ]
     },
     "execution_count": 3,
     "metadata": {},
     "output_type": "execute_result"
    }
   ],
   "source": [
    "df.head(5)"
   ]
  },
  {
   "cell_type": "markdown",
   "metadata": {},
   "source": [
    "#### Ejercicio 2"
   ]
  },
  {
   "cell_type": "code",
   "execution_count": 4,
   "metadata": {},
   "outputs": [],
   "source": [
    "df = df.drop(columns='Unnamed: 0')"
   ]
  },
  {
   "cell_type": "code",
   "execution_count": 5,
   "metadata": {},
   "outputs": [
    {
     "data": {
      "image/png": "[encoded data removed]",
      "text/plain": [
       "<Figure size 1800x720 with 2 Axes>"
      ]
     },
     "metadata": {
      "needs_background": "light"
     },
     "output_type": "display_data"
    }
   ],
   "source": [
    "msno.matrix(df);"
   ]
  },
  {
   "cell_type": "code",
   "execution_count": 6,
   "metadata": {},
   "outputs": [
    {
     "name": "stdout",
     "output_type": "stream",
     "text": [
      "<class 'pandas.core.frame.DataFrame'>\n",
      "RangeIndex: 2800 entries, 0 to 2799\n",
      "Data columns (total 28 columns):\n",
      "A1           2784 non-null float64\n",
      "A2           2773 non-null float64\n",
      "A3           2774 non-null float64\n",
      "A4           2781 non-null float64\n",
      "A5           2784 non-null float64\n",
      "C1           2779 non-null float64\n",
      "C2           2776 non-null float64\n",
      "C3           2780 non-null float64\n",
      "C4           2774 non-null float64\n",
      "C5           2784 non-null float64\n",
      "E1           2777 non-null float64\n",
      "E2           2784 non-null float64\n",
      "E3           2775 non-null float64\n",
      "E4           2791 non-null float64\n",
      "E5           2779 non-null float64\n",
      "N1           2778 non-null float64\n",
      "N2           2779 non-null float64\n",
      "N3           2789 non-null float64\n",
      "N4           2764 non-null float64\n",
      "N5           2771 non-null float64\n",
      "O1           2778 non-null float64\n",
      "O2           2800 non-null float64\n",
      "O3           2772 non-null float64\n",
      "O4           2786 non-null float64\n",
      "O5           2780 non-null float64\n",
      "gender       2800 non-null float64\n",
      "education    2577 non-null float64\n",
      "age          2800 non-null float64\n",
      "dtypes: float64(28)\n",
      "memory usage: 612.6 KB\n"
     ]
    }
   ],
   "source": [
    "df.info()"
   ]
  },
  {
   "cell_type": "code",
   "execution_count": 7,
   "metadata": {},
   "outputs": [
    {
     "data": {
      "text/plain": [
       "education    8.0\n",
       "N4           1.3\n",
       "N5           1.0\n",
       "O3           1.0\n",
       "A2           1.0\n",
       "C4           0.9\n",
       "A3           0.9\n",
       "E3           0.9\n",
       "C2           0.9\n",
       "E1           0.8\n",
       "O1           0.8\n",
       "N1           0.8\n",
       "N2           0.8\n",
       "E5           0.8\n",
       "C1           0.8\n",
       "O5           0.7\n",
       "C3           0.7\n",
       "A4           0.7\n",
       "A1           0.6\n",
       "C5           0.6\n",
       "E2           0.6\n",
       "A5           0.6\n",
       "O4           0.5\n",
       "N3           0.4\n",
       "E4           0.3\n",
       "O2           0.0\n",
       "gender       0.0\n",
       "age          0.0\n",
       "dtype: float64"
      ]
     },
     "execution_count": 7,
     "metadata": {},
     "output_type": "execute_result"
    }
   ],
   "source": [
    "df.isna().mean().sort_values(ascending=False).round(3)*100"
   ]
  },
  {
   "cell_type": "markdown",
   "metadata": {},
   "source": [
    "**(R)** Las principales variables con mayores tasas de valores perdidos son `education`, `N4`, `N5`, `O3` y `A2`."
   ]
  },
  {
   "cell_type": "code",
   "execution_count": 8,
   "metadata": {},
   "outputs": [
    {
     "data": {
      "image/png": "[encoded data removed]",
      "text/plain": [
       "<Figure size 1800x720 with 2 Axes>"
      ]
     },
     "metadata": {
      "needs_background": "light"
     },
     "output_type": "display_data"
    }
   ],
   "source": [
    "df = df.dropna().reset_index(drop = True)\n",
    "msno.matrix(df);"
   ]
  },
  {
   "cell_type": "markdown",
   "metadata": {},
   "source": [
    "#### Ejercicio 3"
   ]
  },
  {
   "cell_type": "code",
   "execution_count": 9,
   "metadata": {},
   "outputs": [],
   "source": [
    "def get_subdf(dataframe, filterby):\n",
    "    df_filtered = dataframe.filter(regex = filterby)\n",
    "    columns, means = [], []\n",
    "\n",
    "    for col, ser in df_filtered.iteritems():\n",
    "        columns.append(col)\n",
    "        means.append(ser.mean())\n",
    "\n",
    "    return pd.DataFrame({'var': columns, 'mean': means}).sort_values(by=[\"mean\"])"
   ]
  },
  {
   "cell_type": "code",
   "execution_count": 10,
   "metadata": {},
   "outputs": [],
   "source": [
    "A = get_subdf(df, \"A_*\")\n",
    "C = get_subdf(df, \"C_*\")\n",
    "E = get_subdf(df, \"E_*\")\n",
    "N = get_subdf(df, \"N_*\")\n",
    "O = get_subdf(df, \"O_*\")"
   ]
  },
  {
   "cell_type": "code",
   "execution_count": 11,
   "metadata": {},
   "outputs": [
    {
     "data": {
      "text/html": [
       "<div>\n",
       "<style scoped>\n",
       "    .dataframe tbody tr th:only-of-type {\n",
       "        vertical-align: middle;\n",
       "    }\n",
       "\n",
       "    .dataframe tbody tr th {\n",
       "        vertical-align: top;\n",
       "    }\n",
       "\n",
       "    .dataframe thead th {\n",
       "        text-align: right;\n",
       "    }\n",
       "</style>\n",
       "<table border=\"1\" class=\"dataframe\">\n",
       "  <thead>\n",
       "    <tr style=\"text-align: right;\">\n",
       "      <th></th>\n",
       "      <th>var</th>\n",
       "      <th>mean</th>\n",
       "    </tr>\n",
       "  </thead>\n",
       "  <tbody>\n",
       "    <tr>\n",
       "      <th>0</th>\n",
       "      <td>A1</td>\n",
       "      <td>2.365385</td>\n",
       "    </tr>\n",
       "    <tr>\n",
       "      <th>4</th>\n",
       "      <td>O5</td>\n",
       "      <td>2.455277</td>\n",
       "    </tr>\n",
       "    <tr>\n",
       "      <th>3</th>\n",
       "      <td>C4</td>\n",
       "      <td>2.500894</td>\n",
       "    </tr>\n",
       "    <tr>\n",
       "      <th>1</th>\n",
       "      <td>O2</td>\n",
       "      <td>2.689177</td>\n",
       "    </tr>\n",
       "    <tr>\n",
       "      <th>0</th>\n",
       "      <td>N1</td>\n",
       "      <td>2.908318</td>\n",
       "    </tr>\n",
       "    <tr>\n",
       "      <th>4</th>\n",
       "      <td>N5</td>\n",
       "      <td>2.952147</td>\n",
       "    </tr>\n",
       "    <tr>\n",
       "      <th>0</th>\n",
       "      <td>E1</td>\n",
       "      <td>2.969589</td>\n",
       "    </tr>\n",
       "    <tr>\n",
       "      <th>1</th>\n",
       "      <td>E2</td>\n",
       "      <td>3.121199</td>\n",
       "    </tr>\n",
       "    <tr>\n",
       "      <th>3</th>\n",
       "      <td>N4</td>\n",
       "      <td>3.175313</td>\n",
       "    </tr>\n",
       "    <tr>\n",
       "      <th>2</th>\n",
       "      <td>N3</td>\n",
       "      <td>3.198569</td>\n",
       "    </tr>\n",
       "    <tr>\n",
       "      <th>4</th>\n",
       "      <td>C5</td>\n",
       "      <td>3.255367</td>\n",
       "    </tr>\n",
       "    <tr>\n",
       "      <th>1</th>\n",
       "      <td>N2</td>\n",
       "      <td>3.485689</td>\n",
       "    </tr>\n",
       "    <tr>\n",
       "      <th>2</th>\n",
       "      <td>E3</td>\n",
       "      <td>4.009839</td>\n",
       "    </tr>\n",
       "    <tr>\n",
       "      <th>2</th>\n",
       "      <td>C3</td>\n",
       "      <td>4.322898</td>\n",
       "    </tr>\n",
       "    <tr>\n",
       "      <th>1</th>\n",
       "      <td>C2</td>\n",
       "      <td>4.401163</td>\n",
       "    </tr>\n",
       "    <tr>\n",
       "      <th>4</th>\n",
       "      <td>E5</td>\n",
       "      <td>4.418605</td>\n",
       "    </tr>\n",
       "    <tr>\n",
       "      <th>3</th>\n",
       "      <td>E4</td>\n",
       "      <td>4.430680</td>\n",
       "    </tr>\n",
       "    <tr>\n",
       "      <th>2</th>\n",
       "      <td>O3</td>\n",
       "      <td>4.483005</td>\n",
       "    </tr>\n",
       "    <tr>\n",
       "      <th>0</th>\n",
       "      <td>C1</td>\n",
       "      <td>4.569767</td>\n",
       "    </tr>\n",
       "    <tr>\n",
       "      <th>4</th>\n",
       "      <td>A5</td>\n",
       "      <td>4.584973</td>\n",
       "    </tr>\n",
       "    <tr>\n",
       "      <th>2</th>\n",
       "      <td>A3</td>\n",
       "      <td>4.629249</td>\n",
       "    </tr>\n",
       "    <tr>\n",
       "      <th>3</th>\n",
       "      <td>A4</td>\n",
       "      <td>4.749553</td>\n",
       "    </tr>\n",
       "    <tr>\n",
       "      <th>0</th>\n",
       "      <td>O1</td>\n",
       "      <td>4.821556</td>\n",
       "    </tr>\n",
       "    <tr>\n",
       "      <th>1</th>\n",
       "      <td>A2</td>\n",
       "      <td>4.834079</td>\n",
       "    </tr>\n",
       "    <tr>\n",
       "      <th>3</th>\n",
       "      <td>O4</td>\n",
       "      <td>4.948122</td>\n",
       "    </tr>\n",
       "  </tbody>\n",
       "</table>\n",
       "</div>"
      ],
      "text/plain": [
       "  var      mean\n",
       "0  A1  2.365385\n",
       "4  O5  2.455277\n",
       "3  C4  2.500894\n",
       "1  O2  2.689177\n",
       "0  N1  2.908318\n",
       "4  N5  2.952147\n",
       "0  E1  2.969589\n",
       "1  E2  3.121199\n",
       "3  N4  3.175313\n",
       "2  N3  3.198569\n",
       "4  C5  3.255367\n",
       "1  N2  3.485689\n",
       "2  E3  4.009839\n",
       "2  C3  4.322898\n",
       "1  C2  4.401163\n",
       "4  E5  4.418605\n",
       "3  E4  4.430680\n",
       "2  O3  4.483005\n",
       "0  C1  4.569767\n",
       "4  A5  4.584973\n",
       "2  A3  4.629249\n",
       "3  A4  4.749553\n",
       "0  O1  4.821556\n",
       "1  A2  4.834079\n",
       "3  O4  4.948122"
      ]
     },
     "execution_count": 11,
     "metadata": {},
     "output_type": "execute_result"
    }
   ],
   "source": [
    "q = pd.concat([A, C, E, N, O]).sort_values(by=['mean'])\n",
    "q"
   ]
  },
  {
   "cell_type": "code",
   "execution_count": 12,
   "metadata": {},
   "outputs": [
    {
     "data": {
      "image/png": "[encoded data removed]",
      "text/plain": [
       "<Figure size 720x648 with 1 Axes>"
      ]
     },
     "metadata": {
      "needs_background": "light"
     },
     "output_type": "display_data"
    }
   ],
   "source": [
    "plt.figure(figsize = (10,9))\n",
    "plt.plot(q['mean'], q['var'], 'x')\n",
    "plt.xlabel('mean')\n",
    "plt.ylabel('question')\n",
    "plt.tight_layout()"
   ]
  },
  {
   "cell_type": "code",
   "execution_count": 13,
   "metadata": {},
   "outputs": [
    {
     "data": {
      "image/png": "[encoded data removed]",
      "text/plain": [
       "<Figure size 576x432 with 2 Axes>"
      ]
     },
     "metadata": {
      "needs_background": "light"
     },
     "output_type": "display_data"
    }
   ],
   "source": [
    "rcParams['figure.figsize'] = 8,6\n",
    "df_q = df.loc[:, 'A1':'O5']\n",
    "dfqcorr = df_q.corr()\n",
    "sns.heatmap(abs(dfqcorr), annot=False, cmap='viridis_r', vmin=0, vmax=1)\n",
    "plt.tight_layout()"
   ]
  },
  {
   "cell_type": "markdown",
   "metadata": {},
   "source": [
    "**(R)** Por inspección visual podemos estimar que los principales patrones de correlación se encuentran en los grupos de preguntas A, C, E y N, y en menor medida el grupo A con el grupo E."
   ]
  },
  {
   "cell_type": "markdown",
   "metadata": {},
   "source": [
    "### Ejercicio 4"
   ]
  },
  {
   "cell_type": "code",
   "execution_count": 14,
   "metadata": {},
   "outputs": [
    {
     "data": {
      "text/plain": [
       "(16484.781654160415, 0.0)"
      ]
     },
     "execution_count": 14,
     "metadata": {},
     "output_type": "execute_result"
    }
   ],
   "source": [
    "factor.calculate_bartlett_sphericity(df_q)"
   ]
  },
  {
   "cell_type": "markdown",
   "metadata": {},
   "source": [
    "**(R)** La prueba de esfericidad de Bartlett evalúa la aplicabilidad del análisis factorial de las variables estudiadas. El modelo es significativo (aceptamos la hipótesis nula, $H_0$) cuando se puede aplicar el análisis factorial. En este caso, como el resultado da p-value ~ $0.0$, existe evidencia sustancial para afirmar que la matriz no es la matriz identidad y por lo tanto existe covarianza entre los ítems. Así, consideramos la batería de preguntas como un dataset idóneo para aplicar análisis factorial."
   ]
  },
  {
   "cell_type": "code",
   "execution_count": 15,
   "metadata": {},
   "outputs": [
    {
     "data": {
      "text/plain": [
       "(         KMO\n",
       " A1  0.738005\n",
       " A2  0.834387\n",
       " A3  0.871681\n",
       " A4  0.870525\n",
       " A5  0.900699\n",
       " C1  0.838225\n",
       " C2  0.788569\n",
       " C3  0.849578\n",
       " C4  0.823776\n",
       " C5  0.861994\n",
       " E1  0.841634\n",
       " E2  0.883987\n",
       " E3  0.893156\n",
       " E4  0.878282\n",
       " E5  0.894127\n",
       " N1  0.778281\n",
       " N2  0.778607\n",
       " N3  0.860167\n",
       " N4  0.886345\n",
       " N5  0.860604\n",
       " O1  0.855123\n",
       " O2  0.783962\n",
       " O3  0.833868\n",
       " O4  0.781271\n",
       " O5  0.758213, 0.8469455121781353)"
      ]
     },
     "execution_count": 15,
     "metadata": {},
     "output_type": "execute_result"
    }
   ],
   "source": [
    "factor.calculate_kmo(df_q)"
   ]
  },
  {
   "cell_type": "markdown",
   "metadata": {},
   "source": [
    "El test KMO (Kaiser, Meyer y Olkin) relaciona los coeficientes de correlación observados entre las variables. Cuanto más cerca de 1 tenga el valor obtenido del test KMO, implica que la relación entres las variables es alta. En este caso, obtuvimos un puntaje de 0.84 general, con ninguno bajo 0.7. Es decir, existe al menos un factor latente y la reducción de dimensionalidad corresponde."
   ]
  },
  {
   "cell_type": "code",
   "execution_count": 16,
   "metadata": {},
   "outputs": [],
   "source": [
    "factorize = factor.FactorAnalyzer()\n",
    "factorize.analyze(df_q, n_factors=10, rotation=None)"
   ]
  },
  {
   "cell_type": "code",
   "execution_count": 17,
   "metadata": {},
   "outputs": [],
   "source": [
    "factor_evalues = factorize.get_eigenvalues()[0]\n",
    "evalues_values = [factor_evalues.values[i][0] for i in range(len(factor_evalues.values))]\n",
    "evalues_index = np.arange(1,len(factor_evalues.values)+1)"
   ]
  },
  {
   "cell_type": "code",
   "execution_count": 18,
   "metadata": {},
   "outputs": [
    {
     "data": {
      "image/png": "[encoded data removed]",
      "text/plain": [
       "<Figure size 576x432 with 1 Axes>"
      ]
     },
     "metadata": {
      "needs_background": "light"
     },
     "output_type": "display_data"
    }
   ],
   "source": [
    "plt.plot(evalues_index, evalues_values, 'o-', color='tomato')\n",
    "plt.xlabel('Latent factors')\n",
    "plt.ylabel('Eigenvalues')\n",
    "plt.axhline(1)\n",
    "plt.title('Scree plot')\n",
    "plt.tight_layout()"
   ]
  },
  {
   "cell_type": "markdown",
   "metadata": {},
   "source": [
    "**(R)** Podemos observar que hay 6 factores latentes con valores propios mayor a 1, los cuales vamos a conservar para posterior análisis. Las cargas $\\lambda$ del modelo están dadas por:"
   ]
  },
  {
   "cell_type": "code",
   "execution_count": 19,
   "metadata": {},
   "outputs": [
    {
     "data": {
      "text/html": [
       "<div>\n",
       "<style scoped>\n",
       "    .dataframe tbody tr th:only-of-type {\n",
       "        vertical-align: middle;\n",
       "    }\n",
       "\n",
       "    .dataframe tbody tr th {\n",
       "        vertical-align: top;\n",
       "    }\n",
       "\n",
       "    .dataframe thead th {\n",
       "        text-align: right;\n",
       "    }\n",
       "</style>\n",
       "<table border=\"1\" class=\"dataframe\">\n",
       "  <thead>\n",
       "    <tr style=\"text-align: right;\">\n",
       "      <th></th>\n",
       "      <th>Factor1</th>\n",
       "      <th>Factor2</th>\n",
       "      <th>Factor3</th>\n",
       "      <th>Factor4</th>\n",
       "      <th>Factor5</th>\n",
       "      <th>Factor6</th>\n",
       "    </tr>\n",
       "  </thead>\n",
       "  <tbody>\n",
       "    <tr>\n",
       "      <th>A1</th>\n",
       "      <td></td>\n",
       "      <td></td>\n",
       "      <td></td>\n",
       "      <td></td>\n",
       "      <td></td>\n",
       "      <td></td>\n",
       "    </tr>\n",
       "    <tr>\n",
       "      <th>A2</th>\n",
       "      <td>0.46</td>\n",
       "      <td></td>\n",
       "      <td></td>\n",
       "      <td></td>\n",
       "      <td></td>\n",
       "      <td></td>\n",
       "    </tr>\n",
       "    <tr>\n",
       "      <th>A3</th>\n",
       "      <td>0.52</td>\n",
       "      <td></td>\n",
       "      <td></td>\n",
       "      <td></td>\n",
       "      <td></td>\n",
       "      <td></td>\n",
       "    </tr>\n",
       "    <tr>\n",
       "      <th>A4</th>\n",
       "      <td></td>\n",
       "      <td></td>\n",
       "      <td></td>\n",
       "      <td></td>\n",
       "      <td></td>\n",
       "      <td></td>\n",
       "    </tr>\n",
       "    <tr>\n",
       "      <th>A5</th>\n",
       "      <td>0.57</td>\n",
       "      <td></td>\n",
       "      <td></td>\n",
       "      <td></td>\n",
       "      <td></td>\n",
       "      <td></td>\n",
       "    </tr>\n",
       "    <tr>\n",
       "      <th>C1</th>\n",
       "      <td></td>\n",
       "      <td></td>\n",
       "      <td>0.44</td>\n",
       "      <td></td>\n",
       "      <td></td>\n",
       "      <td></td>\n",
       "    </tr>\n",
       "    <tr>\n",
       "      <th>C2</th>\n",
       "      <td></td>\n",
       "      <td></td>\n",
       "      <td>0.45</td>\n",
       "      <td></td>\n",
       "      <td></td>\n",
       "      <td></td>\n",
       "    </tr>\n",
       "    <tr>\n",
       "      <th>C3</th>\n",
       "      <td></td>\n",
       "      <td></td>\n",
       "      <td></td>\n",
       "      <td></td>\n",
       "      <td></td>\n",
       "      <td></td>\n",
       "    </tr>\n",
       "    <tr>\n",
       "      <th>C4</th>\n",
       "      <td></td>\n",
       "      <td></td>\n",
       "      <td></td>\n",
       "      <td></td>\n",
       "      <td></td>\n",
       "      <td></td>\n",
       "    </tr>\n",
       "    <tr>\n",
       "      <th>C5</th>\n",
       "      <td></td>\n",
       "      <td></td>\n",
       "      <td></td>\n",
       "      <td></td>\n",
       "      <td></td>\n",
       "      <td></td>\n",
       "    </tr>\n",
       "    <tr>\n",
       "      <th>E1</th>\n",
       "      <td></td>\n",
       "      <td></td>\n",
       "      <td></td>\n",
       "      <td></td>\n",
       "      <td></td>\n",
       "      <td></td>\n",
       "    </tr>\n",
       "    <tr>\n",
       "      <th>E2</th>\n",
       "      <td></td>\n",
       "      <td></td>\n",
       "      <td></td>\n",
       "      <td></td>\n",
       "      <td></td>\n",
       "      <td></td>\n",
       "    </tr>\n",
       "    <tr>\n",
       "      <th>E3</th>\n",
       "      <td>0.55</td>\n",
       "      <td></td>\n",
       "      <td></td>\n",
       "      <td></td>\n",
       "      <td></td>\n",
       "      <td></td>\n",
       "    </tr>\n",
       "    <tr>\n",
       "      <th>E4</th>\n",
       "      <td>0.61</td>\n",
       "      <td></td>\n",
       "      <td></td>\n",
       "      <td></td>\n",
       "      <td></td>\n",
       "      <td></td>\n",
       "    </tr>\n",
       "    <tr>\n",
       "      <th>E5</th>\n",
       "      <td>0.52</td>\n",
       "      <td></td>\n",
       "      <td></td>\n",
       "      <td></td>\n",
       "      <td></td>\n",
       "      <td></td>\n",
       "    </tr>\n",
       "    <tr>\n",
       "      <th>N1</th>\n",
       "      <td></td>\n",
       "      <td>0.65</td>\n",
       "      <td></td>\n",
       "      <td></td>\n",
       "      <td></td>\n",
       "      <td></td>\n",
       "    </tr>\n",
       "    <tr>\n",
       "      <th>N2</th>\n",
       "      <td></td>\n",
       "      <td>0.63</td>\n",
       "      <td></td>\n",
       "      <td></td>\n",
       "      <td></td>\n",
       "      <td></td>\n",
       "    </tr>\n",
       "    <tr>\n",
       "      <th>N3</th>\n",
       "      <td></td>\n",
       "      <td>0.61</td>\n",
       "      <td></td>\n",
       "      <td></td>\n",
       "      <td></td>\n",
       "      <td></td>\n",
       "    </tr>\n",
       "    <tr>\n",
       "      <th>N4</th>\n",
       "      <td></td>\n",
       "      <td>0.41</td>\n",
       "      <td></td>\n",
       "      <td></td>\n",
       "      <td></td>\n",
       "      <td></td>\n",
       "    </tr>\n",
       "    <tr>\n",
       "      <th>N5</th>\n",
       "      <td></td>\n",
       "      <td>0.41</td>\n",
       "      <td></td>\n",
       "      <td></td>\n",
       "      <td></td>\n",
       "      <td></td>\n",
       "    </tr>\n",
       "    <tr>\n",
       "      <th>O1</th>\n",
       "      <td></td>\n",
       "      <td></td>\n",
       "      <td></td>\n",
       "      <td></td>\n",
       "      <td></td>\n",
       "      <td></td>\n",
       "    </tr>\n",
       "    <tr>\n",
       "      <th>O2</th>\n",
       "      <td></td>\n",
       "      <td></td>\n",
       "      <td></td>\n",
       "      <td></td>\n",
       "      <td></td>\n",
       "      <td></td>\n",
       "    </tr>\n",
       "    <tr>\n",
       "      <th>O3</th>\n",
       "      <td></td>\n",
       "      <td></td>\n",
       "      <td></td>\n",
       "      <td></td>\n",
       "      <td></td>\n",
       "      <td></td>\n",
       "    </tr>\n",
       "    <tr>\n",
       "      <th>O4</th>\n",
       "      <td></td>\n",
       "      <td></td>\n",
       "      <td></td>\n",
       "      <td></td>\n",
       "      <td></td>\n",
       "      <td></td>\n",
       "    </tr>\n",
       "    <tr>\n",
       "      <th>O5</th>\n",
       "      <td></td>\n",
       "      <td></td>\n",
       "      <td></td>\n",
       "      <td>0.42</td>\n",
       "      <td></td>\n",
       "      <td></td>\n",
       "    </tr>\n",
       "  </tbody>\n",
       "</table>\n",
       "</div>"
      ],
      "text/plain": [
       "   Factor1 Factor2 Factor3 Factor4 Factor5 Factor6\n",
       "A1                                                \n",
       "A2    0.46                                        \n",
       "A3    0.52                                        \n",
       "A4                                                \n",
       "A5    0.57                                        \n",
       "C1                    0.44                        \n",
       "C2                    0.45                        \n",
       "C3                                                \n",
       "C4                                                \n",
       "C5                                                \n",
       "E1                                                \n",
       "E2                                                \n",
       "E3    0.55                                        \n",
       "E4    0.61                                        \n",
       "E5    0.52                                        \n",
       "N1            0.65                                \n",
       "N2            0.63                                \n",
       "N3            0.61                                \n",
       "N4            0.41                                \n",
       "N5            0.41                                \n",
       "O1                                                \n",
       "O2                                                \n",
       "O3                                                \n",
       "O4                                                \n",
       "O5                            0.42                "
      ]
     },
     "execution_count": 19,
     "metadata": {},
     "output_type": "execute_result"
    }
   ],
   "source": [
    "NFACTORS = 6\n",
    "factorize = factor.FactorAnalyzer()\n",
    "factorize.analyze(df_q, n_factors=NFACTORS, rotation=None)  # refactorization with retained latent factors\n",
    "factorize.loadings.applymap(lambda x: np.where(x<.4, '', round(x, 2)))  # factorization loadings, filtering the most relevant ones"
   ]
  },
  {
   "cell_type": "markdown",
   "metadata": {},
   "source": [
    "**(R)** El análisis factorial es una técnica estadística de reducción de datos usada para explicar las correlaciones entre las variables observadas en términos de un número menor de variables no observadas llamadas factores. De acuerdo a nuestro análisis, las preguntas en nuestro dataset `df` poseen cierto nivel de correlación con al menos 6 factores latentes independientes. De forma análoga al coeficiente r de Pearson, la carga del factor al cuadrado es la fracción de la varianza en la variable explicada por el factor."
   ]
  },
  {
   "cell_type": "markdown",
   "metadata": {},
   "source": [
    "### Ejercicio 5"
   ]
  },
  {
   "cell_type": "markdown",
   "metadata": {},
   "source": [
    "Extrayendo los factores:"
   ]
  },
  {
   "cell_type": "code",
   "execution_count": 20,
   "metadata": {},
   "outputs": [],
   "source": [
    "extract_factor_scores = factorize.get_scores(df_q)"
   ]
  },
  {
   "cell_type": "markdown",
   "metadata": {},
   "source": [
    "Y graficando los KDE plots correspondientes:"
   ]
  },
  {
   "cell_type": "code",
   "execution_count": 21,
   "metadata": {},
   "outputs": [
    {
     "data": {
      "image/png": "[encoded data removed]",
      "text/plain": [
       "<Figure size 576x360 with 6 Axes>"
      ]
     },
     "metadata": {
      "needs_background": "light"
     },
     "output_type": "display_data"
    }
   ],
   "source": [
    "plt.figure(figsize = (8,5))\n",
    "factors = ['Factor1', 'Factor2', 'Factor3', 'Factor4', 'Factor5', 'Factor6']\n",
    "for i, factor in enumerate(factors):\n",
    "    plt.subplot(2,3,i+1)\n",
    "    sns.kdeplot(extract_factor_scores[factor], shade=True)\n",
    "    plt.title(factor)\n",
    "    plt.legend().remove()\n",
    "plt.tight_layout()"
   ]
  },
  {
   "cell_type": "markdown",
   "metadata": {},
   "source": [
    "Para el modelamiento, podemos agregar estos factores a nuestra base de datos y modelar:"
   ]
  },
  {
   "cell_type": "code",
   "execution_count": 22,
   "metadata": {},
   "outputs": [
    {
     "data": {
      "text/html": [
       "<div>\n",
       "<style scoped>\n",
       "    .dataframe tbody tr th:only-of-type {\n",
       "        vertical-align: middle;\n",
       "    }\n",
       "\n",
       "    .dataframe tbody tr th {\n",
       "        vertical-align: top;\n",
       "    }\n",
       "\n",
       "    .dataframe thead th {\n",
       "        text-align: right;\n",
       "    }\n",
       "</style>\n",
       "<table border=\"1\" class=\"dataframe\">\n",
       "  <thead>\n",
       "    <tr style=\"text-align: right;\">\n",
       "      <th></th>\n",
       "      <th>A1</th>\n",
       "      <th>A2</th>\n",
       "      <th>A3</th>\n",
       "      <th>A4</th>\n",
       "      <th>A5</th>\n",
       "      <th>C1</th>\n",
       "      <th>C2</th>\n",
       "      <th>C3</th>\n",
       "      <th>C4</th>\n",
       "      <th>C5</th>\n",
       "      <th>...</th>\n",
       "      <th>O5</th>\n",
       "      <th>gender</th>\n",
       "      <th>education</th>\n",
       "      <th>age</th>\n",
       "      <th>Factor1</th>\n",
       "      <th>Factor2</th>\n",
       "      <th>Factor3</th>\n",
       "      <th>Factor4</th>\n",
       "      <th>Factor5</th>\n",
       "      <th>Factor6</th>\n",
       "    </tr>\n",
       "  </thead>\n",
       "  <tbody>\n",
       "    <tr>\n",
       "      <th>1119</th>\n",
       "      <td>1.0</td>\n",
       "      <td>6.0</td>\n",
       "      <td>6.0</td>\n",
       "      <td>5.0</td>\n",
       "      <td>5.0</td>\n",
       "      <td>6.0</td>\n",
       "      <td>6.0</td>\n",
       "      <td>5.0</td>\n",
       "      <td>1.0</td>\n",
       "      <td>2.0</td>\n",
       "      <td>...</td>\n",
       "      <td>1.0</td>\n",
       "      <td>2.0</td>\n",
       "      <td>3.0</td>\n",
       "      <td>32.0</td>\n",
       "      <td>1.014582</td>\n",
       "      <td>1.163001</td>\n",
       "      <td>0.858531</td>\n",
       "      <td>0.194182</td>\n",
       "      <td>-0.017714</td>\n",
       "      <td>-1.140519</td>\n",
       "    </tr>\n",
       "  </tbody>\n",
       "</table>\n",
       "<p>1 rows × 34 columns</p>\n",
       "</div>"
      ],
      "text/plain": [
       "       A1   A2   A3   A4   A5   C1   C2   C3   C4   C5  ...   O5  gender  \\\n",
       "1119  1.0  6.0  6.0  5.0  5.0  6.0  6.0  5.0  1.0  2.0  ...  1.0     2.0   \n",
       "\n",
       "      education   age   Factor1   Factor2   Factor3   Factor4   Factor5  \\\n",
       "1119        3.0  32.0  1.014582  1.163001  0.858531  0.194182 -0.017714   \n",
       "\n",
       "       Factor6  \n",
       "1119 -1.140519  \n",
       "\n",
       "[1 rows x 34 columns]"
      ]
     },
     "execution_count": 22,
     "metadata": {},
     "output_type": "execute_result"
    }
   ],
   "source": [
    "for factor in factors:\n",
    "    df[factor] = extract_factor_scores[factor]\n",
    "df.sample()"
   ]
  },
  {
   "cell_type": "code",
   "execution_count": 23,
   "metadata": {},
   "outputs": [],
   "source": [
    "modelf1 = smf.ols(\"Factor1 ~ gender + education + age\", df).fit()\n",
    "modelf2 = smf.ols(\"Factor2 ~ gender + education + age\", df).fit()\n",
    "modelf3 = smf.ols(\"Factor3 ~ gender + education + age\", df).fit()\n",
    "modelf4 = smf.ols(\"Factor4 ~ gender + education + age\", df).fit()\n",
    "modelf5 = smf.ols(\"Factor5 ~ gender + education + age\", df).fit()\n",
    "modelf6 = smf.ols(\"Factor6 ~ gender + education + age\", df).fit()"
   ]
  },
  {
   "cell_type": "markdown",
   "metadata": {},
   "source": [
    "Revisando los resultados, tenemos que:"
   ]
  },
  {
   "cell_type": "code",
   "execution_count": 24,
   "metadata": {},
   "outputs": [
    {
     "data": {
      "text/plain": [
       "Intercept    3.570211e-11\n",
       "gender       1.750930e-05\n",
       "education    4.550822e-01\n",
       "age          1.943944e-08\n",
       "Name: P>|t|, dtype: float64"
      ]
     },
     "execution_count": 24,
     "metadata": {},
     "output_type": "execute_result"
    }
   ],
   "source": [
    "modelf1.summary2().tables[1]['P>|t|']"
   ]
  },
  {
   "cell_type": "code",
   "execution_count": 25,
   "metadata": {},
   "outputs": [
    {
     "data": {
      "text/plain": [
       "Intercept    2.347771e-05\n",
       "gender       3.215033e-15\n",
       "education    7.765832e-01\n",
       "age          7.394470e-03\n",
       "Name: P>|t|, dtype: float64"
      ]
     },
     "execution_count": 25,
     "metadata": {},
     "output_type": "execute_result"
    }
   ],
   "source": [
    "modelf2.summary2().tables[1]['P>|t|']"
   ]
  },
  {
   "cell_type": "code",
   "execution_count": 26,
   "metadata": {},
   "outputs": [
    {
     "data": {
      "text/plain": [
       "Intercept    2.006587e-01\n",
       "gender       7.602266e-07\n",
       "education    8.825045e-03\n",
       "age          2.326685e-01\n",
       "Name: P>|t|, dtype: float64"
      ]
     },
     "execution_count": 26,
     "metadata": {},
     "output_type": "execute_result"
    }
   ],
   "source": [
    "modelf3.summary2().tables[1]['P>|t|']"
   ]
  },
  {
   "cell_type": "code",
   "execution_count": 27,
   "metadata": {},
   "outputs": [
    {
     "data": {
      "text/plain": [
       "Intercept    1.257259e-04\n",
       "gender       4.735221e-18\n",
       "education    1.469773e-05\n",
       "age          6.730695e-01\n",
       "Name: P>|t|, dtype: float64"
      ]
     },
     "execution_count": 27,
     "metadata": {},
     "output_type": "execute_result"
    }
   ],
   "source": [
    "modelf4.summary2().tables[1]['P>|t|']"
   ]
  },
  {
   "cell_type": "code",
   "execution_count": 28,
   "metadata": {},
   "outputs": [
    {
     "data": {
      "text/plain": [
       "Intercept    9.994864e-09\n",
       "gender       6.618817e-04\n",
       "education    2.516626e-03\n",
       "age          5.227519e-03\n",
       "Name: P>|t|, dtype: float64"
      ]
     },
     "execution_count": 28,
     "metadata": {},
     "output_type": "execute_result"
    }
   ],
   "source": [
    "modelf5.summary2().tables[1]['P>|t|']"
   ]
  },
  {
   "cell_type": "code",
   "execution_count": 29,
   "metadata": {},
   "outputs": [
    {
     "data": {
      "text/plain": [
       "Intercept    1.513833e-17\n",
       "gender       1.734915e-14\n",
       "education    4.331566e-01\n",
       "age          1.850583e-06\n",
       "Name: P>|t|, dtype: float64"
      ]
     },
     "execution_count": 29,
     "metadata": {},
     "output_type": "execute_result"
    }
   ],
   "source": [
    "modelf6.summary2().tables[1]['P>|t|']"
   ]
  },
  {
   "cell_type": "markdown",
   "metadata": {},
   "source": [
    "**(R)** Con una significancia de p-value$=0.05$, podemos decir que:\n",
    "\n",
    "para el factor 1, los principales determinantes son `gender` y `age`;\\\n",
    "para el factor 2, los principales determinantes son `gender` y `age`;\\\n",
    "para el factor 3, los principales determinantes son `gender` y `education`;\\\n",
    "para el factor 4, los principales determinantes son `gender` y `education`;\\\n",
    "para el factor 5, los principales determinantes son `gender`, `age` y `education`;\\\n",
    "para el factor 6, los principales determinantes son `gender` y `age`."
   ]
  },
  {
   "cell_type": "code",
   "execution_count": null,
   "metadata": {},
   "outputs": [],
   "source": []
  }
 ],
 "metadata": {
  "kernelspec": {
   "display_name": "dlatam_ds",
   "language": "python",
   "name": "dlatam_ds"
  },
  "language_info": {
   "codemirror_mode": {
    "name": "ipython",
    "version": 3
   },
   "file_extension": ".py",
   "mimetype": "text/x-python",
   "name": "python",
   "nbconvert_exporter": "python",
   "pygments_lexer": "ipython3",
   "version": "3.7.3"
  }
 },
 "nbformat": 4,
 "nbformat_minor": 4
}
