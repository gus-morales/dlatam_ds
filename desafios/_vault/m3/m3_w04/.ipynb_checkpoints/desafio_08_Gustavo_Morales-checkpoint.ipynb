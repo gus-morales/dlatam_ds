{
 "cells": [
  {
   "cell_type": "markdown",
   "metadata": {},
   "source": [
    "## Machine Learning - Desafío 8, Random Forest\n",
    "#### Gustavo Morales, G10 - 29.Ene.2020, (Miércoles Semana 4)"
   ]
  },
  {
   "cell_type": "markdown",
   "metadata": {},
   "source": [
    "### **Ejercicio 1: Preparar el ambiente de trabajo**"
   ]
  },
  {
   "cell_type": "code",
   "execution_count": 1,
   "metadata": {},
   "outputs": [],
   "source": [
    "import pandas as pd\n",
    "import numpy as np\n",
    "import matplotlib.pyplot as plt\n",
    "#import seaborn as sns\n",
    "from sklearn.metrics import mean_squared_error, median_absolute_error, r2_score\n",
    "from sklearn.ensemble import RandomForestRegressor\n",
    "import pickle\n",
    "import gc"
   ]
  },
  {
   "cell_type": "code",
   "execution_count": 2,
   "metadata": {},
   "outputs": [],
   "source": [
    "df = pd.read_csv('ames_housing.csv').drop(columns='Unnamed: 0')"
   ]
  },
  {
   "cell_type": "code",
   "execution_count": 3,
   "metadata": {},
   "outputs": [
    {
     "data": {
      "text/html": [
       "<div>\n",
       "<style scoped>\n",
       "    .dataframe tbody tr th:only-of-type {\n",
       "        vertical-align: middle;\n",
       "    }\n",
       "\n",
       "    .dataframe tbody tr th {\n",
       "        vertical-align: top;\n",
       "    }\n",
       "\n",
       "    .dataframe thead th {\n",
       "        text-align: right;\n",
       "    }\n",
       "</style>\n",
       "<table border=\"1\" class=\"dataframe\">\n",
       "  <thead>\n",
       "    <tr style=\"text-align: right;\">\n",
       "      <th></th>\n",
       "      <th>MS_SubClass</th>\n",
       "      <th>MS_Zoning</th>\n",
       "      <th>Lot_Frontage</th>\n",
       "      <th>Lot_Area</th>\n",
       "      <th>Street</th>\n",
       "      <th>Alley</th>\n",
       "      <th>Lot_Shape</th>\n",
       "      <th>Land_Contour</th>\n",
       "      <th>Utilities</th>\n",
       "      <th>Lot_Config</th>\n",
       "      <th>...</th>\n",
       "      <th>Fence</th>\n",
       "      <th>Misc_Feature</th>\n",
       "      <th>Misc_Val</th>\n",
       "      <th>Mo_Sold</th>\n",
       "      <th>Year_Sold</th>\n",
       "      <th>Sale_Type</th>\n",
       "      <th>Sale_Condition</th>\n",
       "      <th>Sale_Price</th>\n",
       "      <th>Longitude</th>\n",
       "      <th>Latitude</th>\n",
       "    </tr>\n",
       "  </thead>\n",
       "  <tbody>\n",
       "    <tr>\n",
       "      <th>1357</th>\n",
       "      <td>Two_Story_1945_and_Older</td>\n",
       "      <td>Residential_Medium_Density</td>\n",
       "      <td>0</td>\n",
       "      <td>5100</td>\n",
       "      <td>Pave</td>\n",
       "      <td>Gravel</td>\n",
       "      <td>Regular</td>\n",
       "      <td>Lvl</td>\n",
       "      <td>AllPub</td>\n",
       "      <td>Inside</td>\n",
       "      <td>...</td>\n",
       "      <td>Minimum_Privacy</td>\n",
       "      <td>None</td>\n",
       "      <td>0</td>\n",
       "      <td>6</td>\n",
       "      <td>2008</td>\n",
       "      <td>WD</td>\n",
       "      <td>Normal</td>\n",
       "      <td>161000</td>\n",
       "      <td>-93.621065</td>\n",
       "      <td>42.029038</td>\n",
       "    </tr>\n",
       "    <tr>\n",
       "      <th>2367</th>\n",
       "      <td>Two_Story_PUD_1946_and_Newer</td>\n",
       "      <td>Residential_Medium_Density</td>\n",
       "      <td>21</td>\n",
       "      <td>1890</td>\n",
       "      <td>Pave</td>\n",
       "      <td>No_Alley_Access</td>\n",
       "      <td>Regular</td>\n",
       "      <td>Lvl</td>\n",
       "      <td>AllPub</td>\n",
       "      <td>Inside</td>\n",
       "      <td>...</td>\n",
       "      <td>No_Fence</td>\n",
       "      <td>None</td>\n",
       "      <td>0</td>\n",
       "      <td>7</td>\n",
       "      <td>2006</td>\n",
       "      <td>WD</td>\n",
       "      <td>Normal</td>\n",
       "      <td>116000</td>\n",
       "      <td>-93.627103</td>\n",
       "      <td>42.051798</td>\n",
       "    </tr>\n",
       "    <tr>\n",
       "      <th>2822</th>\n",
       "      <td>Two_Story_1946_and_Newer</td>\n",
       "      <td>Residential_Low_Density</td>\n",
       "      <td>62</td>\n",
       "      <td>7162</td>\n",
       "      <td>Pave</td>\n",
       "      <td>No_Alley_Access</td>\n",
       "      <td>Regular</td>\n",
       "      <td>Lvl</td>\n",
       "      <td>AllPub</td>\n",
       "      <td>Inside</td>\n",
       "      <td>...</td>\n",
       "      <td>No_Fence</td>\n",
       "      <td>None</td>\n",
       "      <td>0</td>\n",
       "      <td>5</td>\n",
       "      <td>2006</td>\n",
       "      <td>WD</td>\n",
       "      <td>Normal</td>\n",
       "      <td>196500</td>\n",
       "      <td>-93.672379</td>\n",
       "      <td>42.018990</td>\n",
       "    </tr>\n",
       "    <tr>\n",
       "      <th>2126</th>\n",
       "      <td>One_Story_1946_and_Newer_All_Styles</td>\n",
       "      <td>Residential_Low_Density</td>\n",
       "      <td>60</td>\n",
       "      <td>8070</td>\n",
       "      <td>Pave</td>\n",
       "      <td>No_Alley_Access</td>\n",
       "      <td>Regular</td>\n",
       "      <td>Lvl</td>\n",
       "      <td>AllPub</td>\n",
       "      <td>Inside</td>\n",
       "      <td>...</td>\n",
       "      <td>No_Fence</td>\n",
       "      <td>None</td>\n",
       "      <td>0</td>\n",
       "      <td>8</td>\n",
       "      <td>2007</td>\n",
       "      <td>WD</td>\n",
       "      <td>Normal</td>\n",
       "      <td>123600</td>\n",
       "      <td>-93.692415</td>\n",
       "      <td>42.019028</td>\n",
       "    </tr>\n",
       "    <tr>\n",
       "      <th>1544</th>\n",
       "      <td>One_Story_1945_and_Older</td>\n",
       "      <td>Residential_Medium_Density</td>\n",
       "      <td>50</td>\n",
       "      <td>7000</td>\n",
       "      <td>Pave</td>\n",
       "      <td>No_Alley_Access</td>\n",
       "      <td>Regular</td>\n",
       "      <td>Lvl</td>\n",
       "      <td>AllPub</td>\n",
       "      <td>Inside</td>\n",
       "      <td>...</td>\n",
       "      <td>Minimum_Privacy</td>\n",
       "      <td>None</td>\n",
       "      <td>0</td>\n",
       "      <td>7</td>\n",
       "      <td>2008</td>\n",
       "      <td>WD</td>\n",
       "      <td>Normal</td>\n",
       "      <td>126000</td>\n",
       "      <td>-93.628409</td>\n",
       "      <td>42.022607</td>\n",
       "    </tr>\n",
       "    <tr>\n",
       "      <th>2415</th>\n",
       "      <td>One_Story_1946_and_Newer_All_Styles</td>\n",
       "      <td>Residential_Low_Density</td>\n",
       "      <td>102</td>\n",
       "      <td>11660</td>\n",
       "      <td>Pave</td>\n",
       "      <td>No_Alley_Access</td>\n",
       "      <td>Slightly_Irregular</td>\n",
       "      <td>Lvl</td>\n",
       "      <td>AllPub</td>\n",
       "      <td>Inside</td>\n",
       "      <td>...</td>\n",
       "      <td>No_Fence</td>\n",
       "      <td>None</td>\n",
       "      <td>0</td>\n",
       "      <td>7</td>\n",
       "      <td>2006</td>\n",
       "      <td>New</td>\n",
       "      <td>Partial</td>\n",
       "      <td>174190</td>\n",
       "      <td>-93.644627</td>\n",
       "      <td>42.063031</td>\n",
       "    </tr>\n",
       "    <tr>\n",
       "      <th>2227</th>\n",
       "      <td>One_Story_PUD_1946_and_Newer</td>\n",
       "      <td>Residential_Medium_Density</td>\n",
       "      <td>35</td>\n",
       "      <td>3907</td>\n",
       "      <td>Pave</td>\n",
       "      <td>No_Alley_Access</td>\n",
       "      <td>Slightly_Irregular</td>\n",
       "      <td>Bnk</td>\n",
       "      <td>AllPub</td>\n",
       "      <td>Inside</td>\n",
       "      <td>...</td>\n",
       "      <td>No_Fence</td>\n",
       "      <td>None</td>\n",
       "      <td>0</td>\n",
       "      <td>3</td>\n",
       "      <td>2007</td>\n",
       "      <td>WD</td>\n",
       "      <td>Normal</td>\n",
       "      <td>200000</td>\n",
       "      <td>-93.645785</td>\n",
       "      <td>42.009321</td>\n",
       "    </tr>\n",
       "    <tr>\n",
       "      <th>410</th>\n",
       "      <td>Two_Story_PUD_1946_and_Newer</td>\n",
       "      <td>Residential_Low_Density</td>\n",
       "      <td>24</td>\n",
       "      <td>2280</td>\n",
       "      <td>Pave</td>\n",
       "      <td>No_Alley_Access</td>\n",
       "      <td>Regular</td>\n",
       "      <td>Lvl</td>\n",
       "      <td>AllPub</td>\n",
       "      <td>FR2</td>\n",
       "      <td>...</td>\n",
       "      <td>No_Fence</td>\n",
       "      <td>None</td>\n",
       "      <td>0</td>\n",
       "      <td>7</td>\n",
       "      <td>2009</td>\n",
       "      <td>WD</td>\n",
       "      <td>Normal</td>\n",
       "      <td>148500</td>\n",
       "      <td>-93.624748</td>\n",
       "      <td>42.050705</td>\n",
       "    </tr>\n",
       "    <tr>\n",
       "      <th>761</th>\n",
       "      <td>One_Story_1946_and_Newer_All_Styles</td>\n",
       "      <td>Residential_Low_Density</td>\n",
       "      <td>50</td>\n",
       "      <td>4280</td>\n",
       "      <td>Pave</td>\n",
       "      <td>No_Alley_Access</td>\n",
       "      <td>Slightly_Irregular</td>\n",
       "      <td>Lvl</td>\n",
       "      <td>AllPub</td>\n",
       "      <td>Inside</td>\n",
       "      <td>...</td>\n",
       "      <td>No_Fence</td>\n",
       "      <td>None</td>\n",
       "      <td>0</td>\n",
       "      <td>9</td>\n",
       "      <td>2009</td>\n",
       "      <td>WD</td>\n",
       "      <td>Normal</td>\n",
       "      <td>88750</td>\n",
       "      <td>-93.659205</td>\n",
       "      <td>42.032681</td>\n",
       "    </tr>\n",
       "    <tr>\n",
       "      <th>436</th>\n",
       "      <td>Two_Story_1946_and_Newer</td>\n",
       "      <td>Residential_Low_Density</td>\n",
       "      <td>59</td>\n",
       "      <td>23303</td>\n",
       "      <td>Pave</td>\n",
       "      <td>No_Alley_Access</td>\n",
       "      <td>Irregular</td>\n",
       "      <td>Lvl</td>\n",
       "      <td>AllPub</td>\n",
       "      <td>CulDSac</td>\n",
       "      <td>...</td>\n",
       "      <td>No_Fence</td>\n",
       "      <td>None</td>\n",
       "      <td>0</td>\n",
       "      <td>6</td>\n",
       "      <td>2009</td>\n",
       "      <td>WD</td>\n",
       "      <td>Family</td>\n",
       "      <td>409900</td>\n",
       "      <td>-93.656737</td>\n",
       "      <td>42.060353</td>\n",
       "    </tr>\n",
       "  </tbody>\n",
       "</table>\n",
       "<p>10 rows × 81 columns</p>\n",
       "</div>"
      ],
      "text/plain": [
       "                              MS_SubClass                   MS_Zoning  \\\n",
       "1357             Two_Story_1945_and_Older  Residential_Medium_Density   \n",
       "2367         Two_Story_PUD_1946_and_Newer  Residential_Medium_Density   \n",
       "2822             Two_Story_1946_and_Newer     Residential_Low_Density   \n",
       "2126  One_Story_1946_and_Newer_All_Styles     Residential_Low_Density   \n",
       "1544             One_Story_1945_and_Older  Residential_Medium_Density   \n",
       "2415  One_Story_1946_and_Newer_All_Styles     Residential_Low_Density   \n",
       "2227         One_Story_PUD_1946_and_Newer  Residential_Medium_Density   \n",
       "410          Two_Story_PUD_1946_and_Newer     Residential_Low_Density   \n",
       "761   One_Story_1946_and_Newer_All_Styles     Residential_Low_Density   \n",
       "436              Two_Story_1946_and_Newer     Residential_Low_Density   \n",
       "\n",
       "      Lot_Frontage  Lot_Area Street            Alley           Lot_Shape  \\\n",
       "1357             0      5100   Pave           Gravel             Regular   \n",
       "2367            21      1890   Pave  No_Alley_Access             Regular   \n",
       "2822            62      7162   Pave  No_Alley_Access             Regular   \n",
       "2126            60      8070   Pave  No_Alley_Access             Regular   \n",
       "1544            50      7000   Pave  No_Alley_Access             Regular   \n",
       "2415           102     11660   Pave  No_Alley_Access  Slightly_Irregular   \n",
       "2227            35      3907   Pave  No_Alley_Access  Slightly_Irregular   \n",
       "410             24      2280   Pave  No_Alley_Access             Regular   \n",
       "761             50      4280   Pave  No_Alley_Access  Slightly_Irregular   \n",
       "436             59     23303   Pave  No_Alley_Access           Irregular   \n",
       "\n",
       "     Land_Contour Utilities Lot_Config  ...            Fence Misc_Feature  \\\n",
       "1357          Lvl    AllPub     Inside  ...  Minimum_Privacy         None   \n",
       "2367          Lvl    AllPub     Inside  ...         No_Fence         None   \n",
       "2822          Lvl    AllPub     Inside  ...         No_Fence         None   \n",
       "2126          Lvl    AllPub     Inside  ...         No_Fence         None   \n",
       "1544          Lvl    AllPub     Inside  ...  Minimum_Privacy         None   \n",
       "2415          Lvl    AllPub     Inside  ...         No_Fence         None   \n",
       "2227          Bnk    AllPub     Inside  ...         No_Fence         None   \n",
       "410           Lvl    AllPub        FR2  ...         No_Fence         None   \n",
       "761           Lvl    AllPub     Inside  ...         No_Fence         None   \n",
       "436           Lvl    AllPub    CulDSac  ...         No_Fence         None   \n",
       "\n",
       "     Misc_Val Mo_Sold Year_Sold Sale_Type Sale_Condition Sale_Price  \\\n",
       "1357        0       6      2008       WD          Normal     161000   \n",
       "2367        0       7      2006       WD          Normal     116000   \n",
       "2822        0       5      2006       WD          Normal     196500   \n",
       "2126        0       8      2007       WD          Normal     123600   \n",
       "1544        0       7      2008       WD          Normal     126000   \n",
       "2415        0       7      2006       New        Partial     174190   \n",
       "2227        0       3      2007       WD          Normal     200000   \n",
       "410         0       7      2009       WD          Normal     148500   \n",
       "761         0       9      2009       WD          Normal      88750   \n",
       "436         0       6      2009       WD          Family     409900   \n",
       "\n",
       "      Longitude   Latitude  \n",
       "1357 -93.621065  42.029038  \n",
       "2367 -93.627103  42.051798  \n",
       "2822 -93.672379  42.018990  \n",
       "2126 -93.692415  42.019028  \n",
       "1544 -93.628409  42.022607  \n",
       "2415 -93.644627  42.063031  \n",
       "2227 -93.645785  42.009321  \n",
       "410  -93.624748  42.050705  \n",
       "761  -93.659205  42.032681  \n",
       "436  -93.656737  42.060353  \n",
       "\n",
       "[10 rows x 81 columns]"
      ]
     },
     "execution_count": 3,
     "metadata": {},
     "output_type": "execute_result"
    }
   ],
   "source": [
    "df.sample(10, random_state=42)"
   ]
  },
  {
   "cell_type": "code",
   "execution_count": 4,
   "metadata": {},
   "outputs": [
    {
     "name": "stdout",
     "output_type": "stream",
     "text": [
      "<class 'pandas.core.frame.DataFrame'>\n",
      "RangeIndex: 2930 entries, 0 to 2929\n",
      "Columns: 81 entries, MS_SubClass to Latitude\n",
      "dtypes: float64(2), int64(33), object(46)\n",
      "memory usage: 1.8+ MB\n"
     ]
    }
   ],
   "source": [
    "df.info(max_cols=80)"
   ]
  },
  {
   "cell_type": "markdown",
   "metadata": {},
   "source": [
    "### **Ejercicio 2: Importación de archivos serializados**"
   ]
  },
  {
   "cell_type": "code",
   "execution_count": 5,
   "metadata": {},
   "outputs": [],
   "source": [
    "gus_model = pickle.load(open('gus-morales_actividad07_best-model.pkl', 'rb'))\n",
    "Xg_train = pickle.load(open('gus-morales_actividad07_xtrain.pkl', 'rb'))\n",
    "Xg_test = pickle.load(open('gus-morales_actividad07_xtest.pkl', 'rb'))\n",
    "yg_train = pickle.load(open('gus-morales_actividad07_ytrain.pkl', 'rb'))\n",
    "yg_test = pickle.load(open('gus-morales_actividad07_ytest.pkl', 'rb'))"
   ]
  },
  {
   "cell_type": "code",
   "execution_count": 6,
   "metadata": {},
   "outputs": [
    {
     "data": {
      "text/plain": [
       "GridSearchCV(cv=5, error_score=nan,\n",
       "             estimator=DecisionTreeRegressor(ccp_alpha=0.0, criterion='mse',\n",
       "                                             max_depth=None, max_features=None,\n",
       "                                             max_leaf_nodes=None,\n",
       "                                             min_impurity_decrease=0.0,\n",
       "                                             min_impurity_split=None,\n",
       "                                             min_samples_leaf=1,\n",
       "                                             min_samples_split=2,\n",
       "                                             min_weight_fraction_leaf=0.0,\n",
       "                                             presort='deprecated',\n",
       "                                             random_state=None,\n",
       "                                             splitter='best'),\n",
       "             iid='deprecated', n_jobs=None,\n",
       "             param_grid={'max_depth': array([ 1.,  2.,  3.,  4.,  5.,  6.,  7.,  8.,  9., 10., 11., 12., 13.,\n",
       "       14., 15., 16., 17., 18., 19., 20., 21., 22., 23., 24., 25., 26.,\n",
       "       27., 28., 29., 30., 31., 32.]),\n",
       "                         'max_features': [1, 2, 3, 4, 5, 6, 7, 8, 9]},\n",
       "             pre_dispatch='2*n_jobs', refit=True, return_train_score=False,\n",
       "             scoring=None, verbose=1)"
      ]
     },
     "execution_count": 6,
     "metadata": {},
     "output_type": "execute_result"
    }
   ],
   "source": [
    "gus_model"
   ]
  },
  {
   "cell_type": "code",
   "execution_count": 7,
   "metadata": {},
   "outputs": [],
   "source": [
    "edu_model = pickle.load(open('eduardo-lopez-actividad07-model.sav', 'rb'))\n",
    "Xe_train = pickle.load(open('eduardo-lopez-actividad07-X_train.sav', 'rb'))\n",
    "Xe_test = pickle.load(open('eduardo-lopez-actividad07-X_test.sav', 'rb'))\n",
    "ye_train = pickle.load(open('eduardo-lopez-actividad07-y_train.sav', 'rb'))\n",
    "ye_test = pickle.load(open('eduardo-lopez-actividad07-y_test.sav', 'rb'))"
   ]
  },
  {
   "cell_type": "code",
   "execution_count": 8,
   "metadata": {},
   "outputs": [],
   "source": [
    "ye_pred = edu_model.predict(Xe_test)\n",
    "yg_pred = gus_model.predict(Xg_test)"
   ]
  },
  {
   "cell_type": "code",
   "execution_count": 9,
   "metadata": {},
   "outputs": [],
   "source": [
    "dict_edu = {\n",
    "    'mse': mean_squared_error(ye_test, ye_pred).round(2),\n",
    "    'mae': median_absolute_error(ye_test, ye_pred).round(2),\n",
    "    'r2': r2_score(ye_test, ye_pred).round(2)\n",
    "}"
   ]
  },
  {
   "cell_type": "code",
   "execution_count": 10,
   "metadata": {},
   "outputs": [],
   "source": [
    "dict_gus = {\n",
    "    'mse': mean_squared_error(yg_test, yg_pred).round(2),\n",
    "    'mae': median_absolute_error(yg_test, yg_pred).round(2),\n",
    "    'r2': r2_score(yg_test, yg_pred).round(2)\n",
    "}"
   ]
  },
  {
   "cell_type": "code",
   "execution_count": 11,
   "metadata": {},
   "outputs": [
    {
     "data": {
      "text/html": [
       "<div>\n",
       "<style scoped>\n",
       "    .dataframe tbody tr th:only-of-type {\n",
       "        vertical-align: middle;\n",
       "    }\n",
       "\n",
       "    .dataframe tbody tr th {\n",
       "        vertical-align: top;\n",
       "    }\n",
       "\n",
       "    .dataframe thead th {\n",
       "        text-align: right;\n",
       "    }\n",
       "</style>\n",
       "<table border=\"1\" class=\"dataframe\">\n",
       "  <thead>\n",
       "    <tr style=\"text-align: right;\">\n",
       "      <th></th>\n",
       "      <th>edu_dtr</th>\n",
       "      <th>gus_dtr</th>\n",
       "    </tr>\n",
       "  </thead>\n",
       "  <tbody>\n",
       "    <tr>\n",
       "      <th>mse</th>\n",
       "      <td>1.329358e+09</td>\n",
       "      <td>1.937903e+09</td>\n",
       "    </tr>\n",
       "    <tr>\n",
       "      <th>mae</th>\n",
       "      <td>1.537500e+04</td>\n",
       "      <td>1.543344e+04</td>\n",
       "    </tr>\n",
       "    <tr>\n",
       "      <th>r2</th>\n",
       "      <td>7.700000e-01</td>\n",
       "      <td>7.100000e-01</td>\n",
       "    </tr>\n",
       "  </tbody>\n",
       "</table>\n",
       "</div>"
      ],
      "text/plain": [
       "          edu_dtr       gus_dtr\n",
       "mse  1.329358e+09  1.937903e+09\n",
       "mae  1.537500e+04  1.543344e+04\n",
       "r2   7.700000e-01  7.100000e-01"
      ]
     },
     "execution_count": 11,
     "metadata": {},
     "output_type": "execute_result"
    }
   ],
   "source": [
    "d1 = pd.DataFrame.from_dict(dict_edu, orient='index', columns=['edu_dtr'])\n",
    "d2 = pd.DataFrame.from_dict(dict_gus, orient='index', columns=['gus_dtr'])\n",
    "pd.concat([d1, d2], axis=1)"
   ]
  },
  {
   "cell_type": "markdown",
   "metadata": {},
   "source": [
    "**(R)** Son métricas muy similares, lo cual es esperable dado que partimos de la misma base de datos original."
   ]
  },
  {
   "cell_type": "markdown",
   "metadata": {},
   "source": [
    "### **Ejercicio 3: Evaluación Random Forest**"
   ]
  },
  {
   "cell_type": "code",
   "execution_count": 12,
   "metadata": {},
   "outputs": [],
   "source": [
    "gus_rf_model = RandomForestRegressor(random_state=42).fit(Xg_train, yg_train)"
   ]
  },
  {
   "cell_type": "code",
   "execution_count": 13,
   "metadata": {},
   "outputs": [],
   "source": [
    "yg_rf_pred = gus_rf_model.predict(Xg_test)\n",
    "dict_rf_gus = {\n",
    "    'mse': mean_squared_error(yg_test, yg_rf_pred).round(2),\n",
    "    'mae': median_absolute_error(yg_test, yg_rf_pred).round(2),\n",
    "    'r2': r2_score(yg_test, yg_rf_pred).round(2)\n",
    "}"
   ]
  },
  {
   "cell_type": "code",
   "execution_count": 14,
   "metadata": {},
   "outputs": [
    {
     "data": {
      "text/html": [
       "<div>\n",
       "<style scoped>\n",
       "    .dataframe tbody tr th:only-of-type {\n",
       "        vertical-align: middle;\n",
       "    }\n",
       "\n",
       "    .dataframe tbody tr th {\n",
       "        vertical-align: top;\n",
       "    }\n",
       "\n",
       "    .dataframe thead th {\n",
       "        text-align: right;\n",
       "    }\n",
       "</style>\n",
       "<table border=\"1\" class=\"dataframe\">\n",
       "  <thead>\n",
       "    <tr style=\"text-align: right;\">\n",
       "      <th></th>\n",
       "      <th>edu_dtr</th>\n",
       "      <th>gus_dtr</th>\n",
       "      <th>gus_rfr</th>\n",
       "    </tr>\n",
       "  </thead>\n",
       "  <tbody>\n",
       "    <tr>\n",
       "      <th>mse</th>\n",
       "      <td>1.329358e+09</td>\n",
       "      <td>1.937903e+09</td>\n",
       "      <td>1.009614e+09</td>\n",
       "    </tr>\n",
       "    <tr>\n",
       "      <th>mae</th>\n",
       "      <td>1.537500e+04</td>\n",
       "      <td>1.543344e+04</td>\n",
       "      <td>1.305838e+04</td>\n",
       "    </tr>\n",
       "    <tr>\n",
       "      <th>r2</th>\n",
       "      <td>7.700000e-01</td>\n",
       "      <td>7.100000e-01</td>\n",
       "      <td>8.500000e-01</td>\n",
       "    </tr>\n",
       "  </tbody>\n",
       "</table>\n",
       "</div>"
      ],
      "text/plain": [
       "          edu_dtr       gus_dtr       gus_rfr\n",
       "mse  1.329358e+09  1.937903e+09  1.009614e+09\n",
       "mae  1.537500e+04  1.543344e+04  1.305838e+04\n",
       "r2   7.700000e-01  7.100000e-01  8.500000e-01"
      ]
     },
     "execution_count": 14,
     "metadata": {},
     "output_type": "execute_result"
    }
   ],
   "source": [
    "d3 = pd.DataFrame.from_dict(dict_rf_gus, orient='index', columns=['gus_rfr'])\n",
    "pd.concat([d1, d2, d3], axis=1)"
   ]
  },
  {
   "cell_type": "markdown",
   "metadata": {},
   "source": [
    "**(R)** Según estas métricas, todos los modelos tienen un desempeño similar."
   ]
  },
  {
   "cell_type": "markdown",
   "metadata": {},
   "source": [
    "### **Ejercicio 4: Evaluación Random Forest**"
   ]
  },
  {
   "cell_type": "code",
   "execution_count": 15,
   "metadata": {},
   "outputs": [],
   "source": [
    "SEED = 42\n",
    "n_estimators = range(30, 1000, 50)\n",
    "max_features = [None, 'sqrt', 'log2']\n",
    "oob_none, oob_sqrt, oob_log2 = [], [], []"
   ]
  },
  {
   "cell_type": "code",
   "execution_count": 16,
   "metadata": {},
   "outputs": [
    {
     "name": "stdout",
     "output_type": "stream",
     "text": [
      "(1) n_estimators = 30\n",
      "(2) n_estimators = 80\n",
      "(3) n_estimators = 130\n",
      "(4) n_estimators = 180\n",
      "(5) n_estimators = 230\n",
      "(6) n_estimators = 280\n",
      "(7) n_estimators = 330\n",
      "(8) n_estimators = 380\n",
      "(9) n_estimators = 430\n",
      "(10) n_estimators = 480\n",
      "(11) n_estimators = 530\n",
      "(12) n_estimators = 580\n",
      "(13) n_estimators = 630\n",
      "(14) n_estimators = 680\n",
      "(15) n_estimators = 730\n",
      "(16) n_estimators = 780\n",
      "(17) n_estimators = 830\n",
      "(18) n_estimators = 880\n",
      "(19) n_estimators = 930\n",
      "(20) n_estimators = 980\n"
     ]
    }
   ],
   "source": [
    "for i,n in enumerate(n_estimators):\n",
    "    print('(%d) n_estimators = %d'%(i+1,n))\n",
    "\n",
    "    rf_none = RandomForestRegressor(\n",
    "        n_estimators = n,\n",
    "        max_features = max_features[0],\n",
    "        oob_score = True,\n",
    "        random_state = SEED\n",
    "    ).fit(Xg_train, yg_train)\n",
    "\n",
    "    rf_sqrt = RandomForestRegressor(\n",
    "        n_estimators = n,\n",
    "        max_features = max_features[1],\n",
    "        oob_score = True,\n",
    "        random_state = SEED\n",
    "    ).fit(Xg_train, yg_train)\n",
    "\n",
    "    rf_log2 = RandomForestRegressor(\n",
    "        n_estimators = n,\n",
    "        max_features = max_features[2],\n",
    "        oob_score = True,\n",
    "        random_state = SEED\n",
    "    ).fit(Xg_train, yg_train)\n",
    "\n",
    "    oob_none.append(1 - rf_none.oob_score_)\n",
    "    oob_sqrt.append(1 - rf_sqrt.oob_score_)\n",
    "    oob_log2.append(1 - rf_log2.oob_score_)\n",
    "\n",
    "    gc.collect()"
   ]
  },
  {
   "cell_type": "code",
   "execution_count": 17,
   "metadata": {},
   "outputs": [
    {
     "data": {
      "image/png": "[encoded data removed]",
      "text/plain": [
       "<Figure size 720x216 with 3 Axes>"
      ]
     },
     "metadata": {
      "needs_background": "light"
     },
     "output_type": "display_data"
    }
   ],
   "source": [
    "plt.rcParams['figure.figsize'] = (10,3)\n",
    "fig, axs = plt.subplots(1, 3, sharey=True)\n",
    "axs[0].plot(oob_none, '.-', label = 'OOB error rate')\n",
    "axs[0].set_title('None')\n",
    "axs[1].plot(oob_sqrt,'.-',  label = 'OOB error rate')\n",
    "axs[1].set_title('Squared Root')\n",
    "axs[2].plot(oob_log2, '.-', label = 'OOB error rate')\n",
    "axs[2].set_title('Log2')\n",
    "axs[2].legend(frameon=False)\n",
    "plt.tight_layout()"
   ]
  },
  {
   "cell_type": "markdown",
   "metadata": {},
   "source": [
    "### **Ejercicio 5: Refactorice el modelo**"
   ]
  },
  {
   "cell_type": "code",
   "execution_count": 18,
   "metadata": {},
   "outputs": [],
   "source": [
    "BEST_N = 430\n",
    "rf_log2_best = RandomForestRegressor(\n",
    "        n_estimators = BEST_N,\n",
    "        max_features = 'log2',\n",
    "        oob_score = True,\n",
    "        random_state = SEED\n",
    "    ).fit(Xg_train, yg_train)"
   ]
  },
  {
   "cell_type": "code",
   "execution_count": 19,
   "metadata": {},
   "outputs": [],
   "source": [
    "yg_rfbest_pred = rf_log2_best.predict(Xg_test)\n",
    "dict_rfbest = {\n",
    "    'mse': mean_squared_error(yg_test, yg_rfbest_pred).round(2),\n",
    "    'mae': median_absolute_error(yg_test, yg_rfbest_pred).round(2),\n",
    "    'r2': r2_score(yg_test, yg_rfbest_pred).round(2)\n",
    "}"
   ]
  },
  {
   "cell_type": "code",
   "execution_count": 20,
   "metadata": {},
   "outputs": [
    {
     "data": {
      "text/html": [
       "<div>\n",
       "<style scoped>\n",
       "    .dataframe tbody tr th:only-of-type {\n",
       "        vertical-align: middle;\n",
       "    }\n",
       "\n",
       "    .dataframe tbody tr th {\n",
       "        vertical-align: top;\n",
       "    }\n",
       "\n",
       "    .dataframe thead th {\n",
       "        text-align: right;\n",
       "    }\n",
       "</style>\n",
       "<table border=\"1\" class=\"dataframe\">\n",
       "  <thead>\n",
       "    <tr style=\"text-align: right;\">\n",
       "      <th></th>\n",
       "      <th>edu_dtr</th>\n",
       "      <th>gus_dtr</th>\n",
       "      <th>gus_rfr</th>\n",
       "      <th>rfr_log2_best</th>\n",
       "    </tr>\n",
       "  </thead>\n",
       "  <tbody>\n",
       "    <tr>\n",
       "      <th>mse</th>\n",
       "      <td>1.329358e+09</td>\n",
       "      <td>1.937903e+09</td>\n",
       "      <td>1.009614e+09</td>\n",
       "      <td>9.362000e+08</td>\n",
       "    </tr>\n",
       "    <tr>\n",
       "      <th>mae</th>\n",
       "      <td>1.537500e+04</td>\n",
       "      <td>1.543344e+04</td>\n",
       "      <td>1.305838e+04</td>\n",
       "      <td>1.218838e+04</td>\n",
       "    </tr>\n",
       "    <tr>\n",
       "      <th>r2</th>\n",
       "      <td>7.700000e-01</td>\n",
       "      <td>7.100000e-01</td>\n",
       "      <td>8.500000e-01</td>\n",
       "      <td>8.600000e-01</td>\n",
       "    </tr>\n",
       "  </tbody>\n",
       "</table>\n",
       "</div>"
      ],
      "text/plain": [
       "          edu_dtr       gus_dtr       gus_rfr  rfr_log2_best\n",
       "mse  1.329358e+09  1.937903e+09  1.009614e+09   9.362000e+08\n",
       "mae  1.537500e+04  1.543344e+04  1.305838e+04   1.218838e+04\n",
       "r2   7.700000e-01  7.100000e-01  8.500000e-01   8.600000e-01"
      ]
     },
     "execution_count": 20,
     "metadata": {},
     "output_type": "execute_result"
    }
   ],
   "source": [
    "d4 = pd.DataFrame.from_dict(dict_rfbest, orient='index', columns=['rfr_log2_best'])\n",
    "pd.concat([d1, d2, d3, d4], axis=1)"
   ]
  },
  {
   "cell_type": "markdown",
   "metadata": {},
   "source": [
    "**(R)** Vemos que efectivamente el modelo con mejor desempeño es el último: tiene mejor MSE, mejor MAE, y mejor R$^2$."
   ]
  },
  {
   "cell_type": "code",
   "execution_count": null,
   "metadata": {},
   "outputs": [],
   "source": []
  }
 ],
 "metadata": {
  "kernelspec": {
   "display_name": "dlatam_ds",
   "language": "python",
   "name": "dlatam_ds"
  },
  "language_info": {
   "codemirror_mode": {
    "name": "ipython",
    "version": 3
   },
   "file_extension": ".py",
   "mimetype": "text/x-python",
   "name": "python",
   "nbconvert_exporter": "python",
   "pygments_lexer": "ipython3",
   "version": "3.7.3"
  }
 },
 "nbformat": 4,
 "nbformat_minor": 4
}
