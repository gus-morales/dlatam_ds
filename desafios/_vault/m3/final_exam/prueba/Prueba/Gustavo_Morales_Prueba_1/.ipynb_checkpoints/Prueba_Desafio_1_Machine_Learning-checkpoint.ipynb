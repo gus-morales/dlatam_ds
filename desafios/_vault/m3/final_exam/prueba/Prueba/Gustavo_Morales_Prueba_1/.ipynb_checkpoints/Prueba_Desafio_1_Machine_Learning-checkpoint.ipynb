{
 "cells": [
  {
   "cell_type": "markdown",
   "metadata": {},
   "source": [
    "Team Tomato : **Gustavo Morales y Eduardo López**, G10\\\n",
    "26-Mar-2020\n",
    "\n",
    "▣ Hito 1: Preliminares y aspectos computacionales.\\\n",
    "▣ Hito 2: Análisis exploratorio e ingeniería de atributos.\\\n",
    "▣ Hito 3: Modelación y evaluación de rendimiento."
   ]
  },
  {
   "cell_type": "markdown",
   "metadata": {},
   "source": [
    "<div class=\"alert alert-block alert-info\">\n",
    "<center><b>HITO 1:</b> PRELIMINARES Y ASPECTOS COMPUTACIONALES</center>\n",
    "</div>"
   ]
  },
  {
   "cell_type": "markdown",
   "metadata": {},
   "source": [
    "### Descripción del problema \n",
    "Se solicita que mediante el estudio de un gran número de tweets, se puedan clasificar si estos pertenecen a la categoría de \"Positivo\" o \"Negativo\". Ejemplos de tweets positivos son aquellos relacionados a atributos como:\n",
    "* `happines`, `love`, `surprise`, `fun`, `relief`, `enthusiasm`.\n",
    "\n",
    "En el caso de tweets negativos, tendríamos por ejemplo:\n",
    "* `worry`, `sadness`, `hate`, `empty`, `boredom`, `anger`.\n",
    "\n",
    "### Objetivo\n",
    "Evaluar múltiples modelos de clasificación de tweets para predecir si pertenecen a una u otra de dichas categorías.\n",
    "\n",
    "### Solución\n",
    "Analizar distintos modelos de clasificación. Una vez entrenados y puestos a prueba, serán calificados y comparados entre sí para definir qué modelo es más exacto y preciso al momento de clasificar. Una vez hecho esto se llevará a cabo el paso fundamental de definir la clase correspondiente a un tweet especifico.\n",
    "\n",
    "A fin de mejorar el rendimento al momento de predecir, se recurrirá a dos técnicas de preprocesamiento de datos de este tipo: _tokenización_ y _lematización_. La primera hace referencia a discriminar _tokens_ (\"palabras\" definidas según algún criterio simple dentro de un cuerpo de texto más grande) que tengan valor linguístico, y la segunda a un proceso que consiste en eliminar formas linguísticas de dichas palabras con el fin de agrupar las morfológicamente idénticas o similares. El objetivo de la _lematización_ es reducir las palabras a su raíz lingúistica básica, reduciendo los datos que no aportan valor estadístico. El proceso de _stemming_ tiene el mismo objetivo, y consiste en simplemente cortar palabras que tengan la misma raíz. Dicha técnica fue desechada en favor de la _lematización_ por considerarla más cruda y propensa a fallos (por ejemplo, con carrot y cartoon).\n",
    "\n",
    "### Métricas de desempeño\n",
    "Las métricas de desempeño caracterizan la eficiencia de nuestros modelos. Antes de presentar soluciones estrictamente cuantitativas se procederá a graficar las variables consideradas relevantes para la solución de este problema, mostrando gráficos de distribución relevantes al problema.\n",
    "\n",
    "Para el caso de clasificación se utilizaran las siguientes metricas de desempeño:\n",
    "* `precision`: la exactitud se define como la cantidad de predicciones positivas que fueron correctas.\n",
    "* `recall`: el porcentaje de casos positivos detectados.\n",
    "* `accuracy`: la fracción de predicciones correctas entre el número total de registros.\n",
    "* `F1-score`: para cuantificar el balance entre `precision` y `recall`.\n",
    "* `ROC curve`: es más bien un gráfico de apoyo, útil para visualizar la capacidad de diagnóstico de un clasificador binario. Similarmente, el área bajo la curva ROC, `AUC score`, cuantifica el poder del modelo para discriminar entre dos clases."
   ]
  },
  {
   "cell_type": "markdown",
   "metadata": {},
   "source": [
    "### Aspectos computacionales\n",
    "\n",
    "Para la ingesta y preprocesamiento de datos se utilizarán las librerías de `numpy` y `pandas`. Para la visualización de datos se utilizarán las librerías de `matplotlib` y `seaborn`."
   ]
  },
  {
   "cell_type": "code",
   "execution_count": 1,
   "metadata": {},
   "outputs": [],
   "source": [
    "import numpy as np\n",
    "import pandas as pd\n",
    "import matplotlib.pyplot as plt\n",
    "from matplotlib import rcParams\n",
    "import seaborn as sns\n",
    "plt.style.use('seaborn')"
   ]
  },
  {
   "cell_type": "markdown",
   "metadata": {},
   "source": [
    "Para el desarrollo de técnicas de aprendizaje de máquina, las librerías a continuación facilitarán la creación de modelos en base a la predicción de un vector objetivo utilizando modelos de clasificación. El problema corresponde a aprendizaje supervisado, por lo que proponemos utilizar los siguientes modelos. Para aquellos que se beneficien de una búsqueda de grilla previa, se especifican sus respectivos hiperparámetros (tentativos):\n",
    "\n",
    "   * Bernoulli Naive-Bayes\n",
    "        ```python\n",
    "        nb_params = { 'alpha': [0.0, 1.0, 10, 100] }  # additive (Laplace/Lidstone) smoothing parameter\n",
    "        ```\n",
    "\n",
    "\n",
    "   * AdaBoostClassifier\n",
    "        ```python \n",
    "           ada_params = {\n",
    "               'learning_rate': [0.01, 0.1, 0.5],  # shrinks the contribution of each classifier\n",
    "               'n_estimators': [1000, 2000, 5000]  # max number of estimators at which boosting is terminated\n",
    "           }\n",
    "        ```\n",
    "\n",
    "\n",
    "   * DecisionTreeClassifier\n",
    "        ```python\n",
    "           dtc_params = { 'max_depth': [2**n for n in list(np.arange(15)[1:])] }  # maximum depth of the tree\n",
    "        ```\n",
    "\n",
    "\n",
    "   * LogisticRegression\n",
    "        ```python\n",
    "           logreg_params = {\n",
    "               'C': [0.01, 0.1, 1.0, 2.0, 3.0, 4.0],  # regularization strength\n",
    "               'penalty': ['l2', 'none']  # type of penalty\n",
    "           }\n",
    "        ```\n",
    "\n",
    "\n",
    "   * SVC\n",
    "        ```python\n",
    "           svc_params = {\n",
    "               'C': [1e-2, 1e-1, 1e0, 1e1, 1e2],  # regularization parameter, l2 penalty\n",
    "               'gamma': [1e-3, 1e-2, 1e-1, 1e0, 1e1]  # kernel coefficient\n",
    "           }\n",
    "        ```\n",
    "   \n",
    "#### Selección de submuestras\n",
    "   * Usaremos el método `train_test_split`, que divide la matriz de datos de manera aleatoria, generando sets de entrenamiento y prueba. Utilizaremos un 33% del total para la muestra de entrenamiento y el resto para la muestra de prueba, con una semilla pseudoaleatoria con valor 63."
   ]
  },
  {
   "cell_type": "markdown",
   "metadata": {},
   "source": [
    "#### Módulos para implementación de modelos "
   ]
  },
  {
   "cell_type": "code",
   "execution_count": 2,
   "metadata": {},
   "outputs": [],
   "source": [
    "from sklearn.naive_bayes import BernoulliNB\n",
    "from sklearn.svm import SVC\n",
    "from sklearn.ensemble import AdaBoostClassifier\n",
    "from sklearn.tree import DecisionTreeClassifier\n",
    "from sklearn.linear_model import LogisticRegression"
   ]
  },
  {
   "cell_type": "markdown",
   "metadata": {},
   "source": [
    "#### Módulos para selección y medición de desempeño de modelos"
   ]
  },
  {
   "cell_type": "code",
   "execution_count": 3,
   "metadata": {},
   "outputs": [],
   "source": [
    "from sklearn.model_selection import train_test_split\n",
    "from sklearn.metrics import classification_report, roc_curve, roc_auc_score"
   ]
  },
  {
   "cell_type": "markdown",
   "metadata": {},
   "source": [
    "#### Módulo para optimizar, organizar y concatenar procesos de aprendizaje en modelos"
   ]
  },
  {
   "cell_type": "code",
   "execution_count": 4,
   "metadata": {},
   "outputs": [],
   "source": [
    "from sklearn.pipeline import Pipeline"
   ]
  },
  {
   "cell_type": "markdown",
   "metadata": {},
   "source": [
    "#### Módulo para búsqueda y selección automática de hiperparámetros"
   ]
  },
  {
   "cell_type": "code",
   "execution_count": 5,
   "metadata": {},
   "outputs": [],
   "source": [
    "from sklearn.model_selection import GridSearchCV"
   ]
  },
  {
   "cell_type": "markdown",
   "metadata": {},
   "source": [
    "#### Módulos para serialización de objetos y filtro advertencias"
   ]
  },
  {
   "cell_type": "code",
   "execution_count": 6,
   "metadata": {},
   "outputs": [],
   "source": [
    "import pickle\n",
    "import warnings\n",
    "warnings.filterwarnings('ignore')"
   ]
  },
  {
   "cell_type": "markdown",
   "metadata": {},
   "source": [
    "<div class=\"alert alert-block alert-info\">\n",
    "<center><b>HITO 2:</b> ANÁLISIS EXPLORATORIO E INGENIERÍA DE ATRIBUTOS</center>\n",
    "</div>"
   ]
  },
  {
   "cell_type": "markdown",
   "metadata": {},
   "source": [
    "### Ingeniería de atributos (_Feature Engineering_)"
   ]
  },
  {
   "cell_type": "code",
   "execution_count": 7,
   "metadata": {},
   "outputs": [],
   "source": [
    "df = pd.read_csv('text_emotion.csv')"
   ]
  },
  {
   "cell_type": "markdown",
   "metadata": {},
   "source": [
    "Primero observamos el set de datos y revisamos su integridad:"
   ]
  },
  {
   "cell_type": "code",
   "execution_count": 8,
   "metadata": {},
   "outputs": [
    {
     "data": {
      "text/html": [
       "<div>\n",
       "<style scoped>\n",
       "    .dataframe tbody tr th:only-of-type {\n",
       "        vertical-align: middle;\n",
       "    }\n",
       "\n",
       "    .dataframe tbody tr th {\n",
       "        vertical-align: top;\n",
       "    }\n",
       "\n",
       "    .dataframe thead th {\n",
       "        text-align: right;\n",
       "    }\n",
       "</style>\n",
       "<table border=\"1\" class=\"dataframe\">\n",
       "  <thead>\n",
       "    <tr style=\"text-align: right;\">\n",
       "      <th></th>\n",
       "      <th>tweet_id</th>\n",
       "      <th>sentiment</th>\n",
       "      <th>author</th>\n",
       "      <th>content</th>\n",
       "    </tr>\n",
       "  </thead>\n",
       "  <tbody>\n",
       "    <tr>\n",
       "      <th>0</th>\n",
       "      <td>1956967341</td>\n",
       "      <td>empty</td>\n",
       "      <td>xoshayzers</td>\n",
       "      <td>@tiffanylue i know  i was listenin to bad habi...</td>\n",
       "    </tr>\n",
       "    <tr>\n",
       "      <th>1</th>\n",
       "      <td>1956967666</td>\n",
       "      <td>sadness</td>\n",
       "      <td>wannamama</td>\n",
       "      <td>Layin n bed with a headache  ughhhh...waitin o...</td>\n",
       "    </tr>\n",
       "    <tr>\n",
       "      <th>2</th>\n",
       "      <td>1956967696</td>\n",
       "      <td>sadness</td>\n",
       "      <td>coolfunky</td>\n",
       "      <td>Funeral ceremony...gloomy friday...</td>\n",
       "    </tr>\n",
       "    <tr>\n",
       "      <th>3</th>\n",
       "      <td>1956967789</td>\n",
       "      <td>enthusiasm</td>\n",
       "      <td>czareaquino</td>\n",
       "      <td>wants to hang out with friends SOON!</td>\n",
       "    </tr>\n",
       "    <tr>\n",
       "      <th>4</th>\n",
       "      <td>1956968416</td>\n",
       "      <td>neutral</td>\n",
       "      <td>xkilljoyx</td>\n",
       "      <td>@dannycastillo We want to trade with someone w...</td>\n",
       "    </tr>\n",
       "    <tr>\n",
       "      <th>...</th>\n",
       "      <td>...</td>\n",
       "      <td>...</td>\n",
       "      <td>...</td>\n",
       "      <td>...</td>\n",
       "    </tr>\n",
       "    <tr>\n",
       "      <th>39995</th>\n",
       "      <td>1753918954</td>\n",
       "      <td>neutral</td>\n",
       "      <td>showMe_Heaven</td>\n",
       "      <td>@JohnLloydTaylor</td>\n",
       "    </tr>\n",
       "    <tr>\n",
       "      <th>39996</th>\n",
       "      <td>1753919001</td>\n",
       "      <td>love</td>\n",
       "      <td>drapeaux</td>\n",
       "      <td>Happy Mothers Day  All my love</td>\n",
       "    </tr>\n",
       "    <tr>\n",
       "      <th>39997</th>\n",
       "      <td>1753919005</td>\n",
       "      <td>love</td>\n",
       "      <td>JenniRox</td>\n",
       "      <td>Happy Mother's Day to all the mommies out ther...</td>\n",
       "    </tr>\n",
       "    <tr>\n",
       "      <th>39998</th>\n",
       "      <td>1753919043</td>\n",
       "      <td>happiness</td>\n",
       "      <td>ipdaman1</td>\n",
       "      <td>@niariley WASSUP BEAUTIFUL!!! FOLLOW ME!!  PEE...</td>\n",
       "    </tr>\n",
       "    <tr>\n",
       "      <th>39999</th>\n",
       "      <td>1753919049</td>\n",
       "      <td>love</td>\n",
       "      <td>Alpharalpha</td>\n",
       "      <td>@mopedronin bullet train from tokyo    the gf ...</td>\n",
       "    </tr>\n",
       "  </tbody>\n",
       "</table>\n",
       "<p>40000 rows × 4 columns</p>\n",
       "</div>"
      ],
      "text/plain": [
       "         tweet_id   sentiment         author  \\\n",
       "0      1956967341       empty     xoshayzers   \n",
       "1      1956967666     sadness      wannamama   \n",
       "2      1956967696     sadness      coolfunky   \n",
       "3      1956967789  enthusiasm    czareaquino   \n",
       "4      1956968416     neutral      xkilljoyx   \n",
       "...           ...         ...            ...   \n",
       "39995  1753918954     neutral  showMe_Heaven   \n",
       "39996  1753919001        love       drapeaux   \n",
       "39997  1753919005        love       JenniRox   \n",
       "39998  1753919043   happiness       ipdaman1   \n",
       "39999  1753919049        love    Alpharalpha   \n",
       "\n",
       "                                                 content  \n",
       "0      @tiffanylue i know  i was listenin to bad habi...  \n",
       "1      Layin n bed with a headache  ughhhh...waitin o...  \n",
       "2                    Funeral ceremony...gloomy friday...  \n",
       "3                   wants to hang out with friends SOON!  \n",
       "4      @dannycastillo We want to trade with someone w...  \n",
       "...                                                  ...  \n",
       "39995                                   @JohnLloydTaylor  \n",
       "39996                     Happy Mothers Day  All my love  \n",
       "39997  Happy Mother's Day to all the mommies out ther...  \n",
       "39998  @niariley WASSUP BEAUTIFUL!!! FOLLOW ME!!  PEE...  \n",
       "39999  @mopedronin bullet train from tokyo    the gf ...  \n",
       "\n",
       "[40000 rows x 4 columns]"
      ]
     },
     "execution_count": 8,
     "metadata": {},
     "output_type": "execute_result"
    }
   ],
   "source": [
    "df"
   ]
  },
  {
   "cell_type": "code",
   "execution_count": 9,
   "metadata": {},
   "outputs": [
    {
     "name": "stdout",
     "output_type": "stream",
     "text": [
      "<class 'pandas.core.frame.DataFrame'>\n",
      "RangeIndex: 40000 entries, 0 to 39999\n",
      "Data columns (total 4 columns):\n",
      "tweet_id     40000 non-null int64\n",
      "sentiment    40000 non-null object\n",
      "author       40000 non-null object\n",
      "content      40000 non-null object\n",
      "dtypes: int64(1), object(3)\n",
      "memory usage: 1.2+ MB\n"
     ]
    }
   ],
   "source": [
    "df.info()"
   ]
  },
  {
   "cell_type": "markdown",
   "metadata": {},
   "source": [
    "Notar que NO existen valores perdidos (NaN)."
   ]
  },
  {
   "cell_type": "markdown",
   "metadata": {},
   "source": [
    "Para el preprocesamiento del vector objetivo, definimos primero una función pertinente que se encarga de capitalizar todo el texto en minúscula, luego filtra todo lo que no sea letra, y finalmente aplica una _lematización_. Este último paso utiliza el modelo `en_core_web_sm` de `spacy`, entrenado para efectuar la reducción."
   ]
  },
  {
   "cell_type": "code",
   "execution_count": 10,
   "metadata": {},
   "outputs": [],
   "source": [
    "import spacy\n",
    "import re\n",
    "from nltk.corpus import stopwords\n",
    "\n",
    "nlp = spacy.load('en_core_web_sm')  # English multi-task CNN trained on OntoNotes.\n",
    "\n",
    "def preproc_text(text):\n",
    "    \"\"\"Transform input text to improve modeling, including capitalization, filtering, and lemmatization.\n",
    "\n",
    "    Args:\n",
    "    text (str): Text content\n",
    "    \n",
    "    Returns:\n",
    "    text (str): Transformed text content\n",
    "    \"\"\"\n",
    "    text = text.lower()\n",
    "    text = re.sub('[^a-z]+',' ',text)\n",
    "    text = ' '.join([token.lemma_ if token.lemma_ != '-PRON-' else token.text for token in nlp(text)])\n",
    "    return text"
   ]
  },
  {
   "cell_type": "markdown",
   "metadata": {},
   "source": [
    "#### Ejemplo de Lemmatización\n",
    "La lematización funciona reduciendo las palabras a una raíz linguística dada."
   ]
  },
  {
   "cell_type": "code",
   "execution_count": 11,
   "metadata": {},
   "outputs": [
    {
     "name": "stdout",
     "output_type": "stream",
     "text": [
      "Texto sin lematizar:  I he she became going did made make\n",
      "-------------------------\n",
      "Texto lematizado:  ['I', 'he', 'she', 'become', 'go', 'do', 'make', 'make']\n"
     ]
    }
   ],
   "source": [
    "text = 'I he she became going did made make'\n",
    "textl = [token.lemma_ if token.lemma_ != '-PRON-' else token.text for token in nlp(text)]\n",
    "print('Texto sin lematizar: ', text)\n",
    "print('-------------------------')\n",
    "print('Texto lematizado: ', textl)"
   ]
  },
  {
   "cell_type": "markdown",
   "metadata": {},
   "source": [
    "### Frencuencia de categorías\n",
    "Una vez procesado el texto, analizamos la frecuencia de categorías en el texto:"
   ]
  },
  {
   "cell_type": "code",
   "execution_count": 12,
   "metadata": {},
   "outputs": [
    {
     "data": {
      "image/png": "[encoded data removed]",
      "text/plain": [
       "<Figure size 432x432 with 1 Axes>"
      ]
     },
     "metadata": {},
     "output_type": "display_data"
    }
   ],
   "source": [
    "sent = df['sentiment'].value_counts().index.tolist()\n",
    "sent_frec = df['sentiment'].value_counts().tolist()\n",
    "\n",
    "df_sent = pd.DataFrame({'sentiment':sent, 'frequency':sent_frec})\n",
    "\n",
    "ax = sns.catplot(x = 'sentiment', y = 'frequency', kind = 'bar', height = 6, data = df_sent);\n",
    "ax.set_xticklabels(rotation = 45, horizontalalignment = 'right');\n"
   ]
  },
  {
   "cell_type": "markdown",
   "metadata": {},
   "source": [
    "### Recodificación:\n",
    "En este punto podemos hacer una recodificación del vector objetivo conteniendo una clasificación binaria: sentimiento Positivo y Negativo."
   ]
  },
  {
   "cell_type": "code",
   "execution_count": 13,
   "metadata": {},
   "outputs": [],
   "source": [
    "df.replace(to_replace = \"worry\",value = \"Negativa\", inplace = True)\n",
    "df.replace(to_replace = \"happiness\",value = \"Positiva\", inplace = True)\n",
    "df.replace(to_replace = \"sadness\",value = \"Negativa\", inplace = True)\n",
    "df.replace(to_replace = \"love\",value = \"Positiva\", inplace = True)\n",
    "df.replace(to_replace = \"surprise\",value = \"Positiva\", inplace = True)\n",
    "df.replace(to_replace = \"fun\",value = \"Positiva\", inplace = True)\n",
    "df.replace(to_replace = \"relief\",value = \"Positiva\", inplace = True)\n",
    "df.replace(to_replace = \"hate\",value = \"Negativa\", inplace = True)\n",
    "df.replace(to_replace = \"empty\",value = \"Negativa\", inplace = True)\n",
    "df.replace(to_replace = \"enthusiasm\",value = \"Positiva\", inplace = True)\n",
    "df.replace(to_replace = \"boredom\",value = \"Negativa\", inplace = True)\n",
    "df.replace(to_replace = \"anger\",value = \"Negativa\", inplace = True)"
   ]
  },
  {
   "cell_type": "markdown",
   "metadata": {},
   "source": [
    "A continuación decidimos borrar los tweets clasificados como neutrales porque de acuerdo a nuestra clasificación binaria de Positivo vs Negativo, una clasificación Neutral se puede entender como ruido para el modelo, o similarmente, un dato nulo."
   ]
  },
  {
   "cell_type": "code",
   "execution_count": 14,
   "metadata": {},
   "outputs": [],
   "source": [
    "df = df.drop(df[df.sentiment == 'neutral'].index)\n",
    "\n",
    "# Para aleatorizar categoria \"neutral\"\n",
    "#for i, row in df[\"sentiment\"].iteritems():\n",
    "    #if row == \"neutral\":\n",
    "        #df[\"sentiment\"][i] = np.random.choice(choice_sent)"
   ]
  },
  {
   "cell_type": "code",
   "execution_count": 15,
   "metadata": {},
   "outputs": [
    {
     "data": {
      "text/plain": [
       "Negativa    16063\n",
       "Positiva    15299\n",
       "Name: sentiment, dtype: int64"
      ]
     },
     "execution_count": 15,
     "metadata": {},
     "output_type": "execute_result"
    }
   ],
   "source": [
    "df['sentiment'].value_counts()"
   ]
  },
  {
   "cell_type": "markdown",
   "metadata": {},
   "source": [
    "### Tokenización\n",
    "A continuación realizamos el proceso de _tokenización_, cuyo objetivo es discriminar palabras entre sí."
   ]
  },
  {
   "cell_type": "code",
   "execution_count": 16,
   "metadata": {},
   "outputs": [],
   "source": [
    "# CountVectorizer snippet\n",
    "from sklearn.feature_extraction.text import CountVectorizer\n",
    "# instanciamos un objeto CountVectorizer con nuestra función\n",
    "count_vectorizer = CountVectorizer(preprocessor=preproc_text, stop_words='english')\n",
    "# implementamos los pasos de fit y transform\n",
    "count_vectorizer_fit = count_vectorizer.fit_transform(df['content'])\n",
    "# extraemos los tokens (palabras)\n",
    "words = count_vectorizer.get_feature_names()\n",
    "# y ahora extraemos la frecuencia\n",
    "words_freq = count_vectorizer_fit.toarray().sum(axis=0)"
   ]
  },
  {
   "cell_type": "code",
   "execution_count": 17,
   "metadata": {},
   "outputs": [],
   "source": [
    "df_words = pd.DataFrame({'words':words, 'frequency':words_freq})"
   ]
  },
  {
   "cell_type": "markdown",
   "metadata": {},
   "source": [
    "El resultado de la tokenización y su frecuencia es:"
   ]
  },
  {
   "cell_type": "code",
   "execution_count": 18,
   "metadata": {},
   "outputs": [
    {
     "data": {
      "text/html": [
       "<div>\n",
       "<style scoped>\n",
       "    .dataframe tbody tr th:only-of-type {\n",
       "        vertical-align: middle;\n",
       "    }\n",
       "\n",
       "    .dataframe tbody tr th {\n",
       "        vertical-align: top;\n",
       "    }\n",
       "\n",
       "    .dataframe thead th {\n",
       "        text-align: right;\n",
       "    }\n",
       "</style>\n",
       "<table border=\"1\" class=\"dataframe\">\n",
       "  <thead>\n",
       "    <tr style=\"text-align: right;\">\n",
       "      <th></th>\n",
       "      <th>words</th>\n",
       "      <th>frequency</th>\n",
       "    </tr>\n",
       "  </thead>\n",
       "  <tbody>\n",
       "    <tr>\n",
       "      <th>0</th>\n",
       "      <td>aa</td>\n",
       "      <td>3</td>\n",
       "    </tr>\n",
       "    <tr>\n",
       "      <th>1</th>\n",
       "      <td>aaa</td>\n",
       "      <td>2</td>\n",
       "    </tr>\n",
       "    <tr>\n",
       "      <th>2</th>\n",
       "      <td>aaaa</td>\n",
       "      <td>1</td>\n",
       "    </tr>\n",
       "    <tr>\n",
       "      <th>3</th>\n",
       "      <td>aaaaa</td>\n",
       "      <td>1</td>\n",
       "    </tr>\n",
       "    <tr>\n",
       "      <th>4</th>\n",
       "      <td>aaaaaaaa</td>\n",
       "      <td>1</td>\n",
       "    </tr>\n",
       "    <tr>\n",
       "      <th>...</th>\n",
       "      <td>...</td>\n",
       "      <td>...</td>\n",
       "    </tr>\n",
       "    <tr>\n",
       "      <th>34246</th>\n",
       "      <td>zzz</td>\n",
       "      <td>2</td>\n",
       "    </tr>\n",
       "    <tr>\n",
       "      <th>34247</th>\n",
       "      <td>zzzz</td>\n",
       "      <td>2</td>\n",
       "    </tr>\n",
       "    <tr>\n",
       "      <th>34248</th>\n",
       "      <td>zzzzy</td>\n",
       "      <td>1</td>\n",
       "    </tr>\n",
       "    <tr>\n",
       "      <th>34249</th>\n",
       "      <td>zzzzz</td>\n",
       "      <td>1</td>\n",
       "    </tr>\n",
       "    <tr>\n",
       "      <th>34250</th>\n",
       "      <td>zzzzzzzzzzzzzzz</td>\n",
       "      <td>1</td>\n",
       "    </tr>\n",
       "  </tbody>\n",
       "</table>\n",
       "<p>34251 rows × 2 columns</p>\n",
       "</div>"
      ],
      "text/plain": [
       "                 words  frequency\n",
       "0                   aa          3\n",
       "1                  aaa          2\n",
       "2                 aaaa          1\n",
       "3                aaaaa          1\n",
       "4             aaaaaaaa          1\n",
       "...                ...        ...\n",
       "34246              zzz          2\n",
       "34247             zzzz          2\n",
       "34248            zzzzy          1\n",
       "34249            zzzzz          1\n",
       "34250  zzzzzzzzzzzzzzz          1\n",
       "\n",
       "[34251 rows x 2 columns]"
      ]
     },
     "execution_count": 18,
     "metadata": {},
     "output_type": "execute_result"
    }
   ],
   "source": [
    "df_words"
   ]
  },
  {
   "cell_type": "markdown",
   "metadata": {},
   "source": [
    "Con ello, las 10 palabras mas repetidas de todo el data set de la columna 'content' está dado por:"
   ]
  },
  {
   "cell_type": "code",
   "execution_count": 19,
   "metadata": {},
   "outputs": [
    {
     "data": {
      "text/html": [
       "<div>\n",
       "<style scoped>\n",
       "    .dataframe tbody tr th:only-of-type {\n",
       "        vertical-align: middle;\n",
       "    }\n",
       "\n",
       "    .dataframe tbody tr th {\n",
       "        vertical-align: top;\n",
       "    }\n",
       "\n",
       "    .dataframe thead th {\n",
       "        text-align: right;\n",
       "    }\n",
       "</style>\n",
       "<table border=\"1\" class=\"dataframe\">\n",
       "  <thead>\n",
       "    <tr style=\"text-align: right;\">\n",
       "      <th></th>\n",
       "      <th>words</th>\n",
       "      <th>frequency</th>\n",
       "    </tr>\n",
       "  </thead>\n",
       "  <tbody>\n",
       "    <tr>\n",
       "      <th>7130</th>\n",
       "      <td>day</td>\n",
       "      <td>3203</td>\n",
       "    </tr>\n",
       "    <tr>\n",
       "      <th>15566</th>\n",
       "      <td>just</td>\n",
       "      <td>2614</td>\n",
       "    </tr>\n",
       "    <tr>\n",
       "      <th>11568</th>\n",
       "      <td>good</td>\n",
       "      <td>2336</td>\n",
       "    </tr>\n",
       "    <tr>\n",
       "      <th>17825</th>\n",
       "      <td>love</td>\n",
       "      <td>1827</td>\n",
       "    </tr>\n",
       "    <tr>\n",
       "      <th>33257</th>\n",
       "      <td>work</td>\n",
       "      <td>1727</td>\n",
       "    </tr>\n",
       "    <tr>\n",
       "      <th>17270</th>\n",
       "      <td>like</td>\n",
       "      <td>1710</td>\n",
       "    </tr>\n",
       "    <tr>\n",
       "      <th>24265</th>\n",
       "      <td>quot</td>\n",
       "      <td>1469</td>\n",
       "    </tr>\n",
       "    <tr>\n",
       "      <th>30484</th>\n",
       "      <td>today</td>\n",
       "      <td>1390</td>\n",
       "    </tr>\n",
       "    <tr>\n",
       "      <th>12305</th>\n",
       "      <td>happy</td>\n",
       "      <td>1390</td>\n",
       "    </tr>\n",
       "    <tr>\n",
       "      <th>13227</th>\n",
       "      <td>http</td>\n",
       "      <td>1284</td>\n",
       "    </tr>\n",
       "  </tbody>\n",
       "</table>\n",
       "</div>"
      ],
      "text/plain": [
       "       words  frequency\n",
       "7130     day       3203\n",
       "15566   just       2614\n",
       "11568   good       2336\n",
       "17825   love       1827\n",
       "33257   work       1727\n",
       "17270   like       1710\n",
       "24265   quot       1469\n",
       "30484  today       1390\n",
       "12305  happy       1390\n",
       "13227   http       1284"
      ]
     },
     "execution_count": 19,
     "metadata": {},
     "output_type": "execute_result"
    }
   ],
   "source": [
    "df_words.sort_values(\"frequency\", ascending = False).head(10)"
   ]
  },
  {
   "cell_type": "markdown",
   "metadata": {},
   "source": [
    "<div class=\"alert alert-block alert-info\">\n",
    "<center><b>Hito 3:</b> MODELACIÓN Y EVALUACIÓN DE RENDIMIENTO</center>\n",
    "</div>"
   ]
  },
  {
   "cell_type": "markdown",
   "metadata": {},
   "source": [
    "A continuación, para cada uno de los cinco modelos mencionados anterioremente exploraremos el espacio de hiperparámetros usando el método de búsqueda en grilla. Dado que toma un tiempo considerable, decidimos guardar el resultado y cargarlo en una instancia de `pickle` para el informe final. Luego, evaluamos cada modelo usando el mejor set de hiperparámetros entregados por dicho método y entregamos el reporte de la clasificación, más las métricas mencionadas al comienzo. Para aquellas búsquedas en grilla que cubran un espacio de hiperparámetros uno- o bi-dimensional, mostramos además una representación visual de la grilla optimizada. También haremos una predicción explícita de prueba para confirmar los resultados, y en base a todo el desempeño en conjunto, decidir los mejores dos modelos."
   ]
  },
  {
   "cell_type": "code",
   "execution_count": 20,
   "metadata": {},
   "outputs": [],
   "source": [
    "X = count_vectorizer_fit\n",
    "y = df['sentiment']\n",
    "\n",
    "X_train, X_test, y_train, y_test = train_test_split(X, y, test_size=.33, random_state=63)"
   ]
  },
  {
   "cell_type": "markdown",
   "metadata": {},
   "source": [
    "<div class=\"alert alert-block alert-warning\">\n",
    "(1) Adaptative Boost Classifier\n",
    "</div>"
   ]
  },
  {
   "cell_type": "code",
   "execution_count": 21,
   "metadata": {},
   "outputs": [],
   "source": [
    "ada_params = {\n",
    "    'learning_rate': [0.01, 0.1, 0.5],\n",
    "    'n_estimators': [1000, 2000, 5000]\n",
    "}"
   ]
  },
  {
   "cell_type": "markdown",
   "metadata": {},
   "source": [
    "```python\n",
    "# Grid search snippet\n",
    "ada_model_gs = GridSearchCV(\n",
    "    AdaBoostClassifier(random_state=63),\n",
    "    ada_params,\n",
    "    cv=2,\n",
    "    verbose=30\n",
    ")\n",
    "\n",
    "ada_model_gs_fit = ada_model_gs.fit(X_train, y_train)\n",
    "\n",
    "pickle.dump(ada_model_gs_fit, open('ada_model_gs_fit_prueba1.pkl', \"wb\"))\n",
    "```"
   ]
  },
  {
   "cell_type": "code",
   "execution_count": 22,
   "metadata": {},
   "outputs": [],
   "source": [
    "ada_model_gs_fit = pickle.load(open('ada_model_gs_fit_prueba1.pkl', \"rb\"))"
   ]
  },
  {
   "cell_type": "code",
   "execution_count": 23,
   "metadata": {},
   "outputs": [
    {
     "data": {
      "image/png": "[encoded data removed]",
      "text/plain": [
       "<Figure size 504x360 with 2 Axes>"
      ]
     },
     "metadata": {},
     "output_type": "display_data"
    }
   ],
   "source": [
    "scores = ada_model_gs_fit.cv_results_['mean_test_score']\n",
    "data = scores.reshape(len(ada_params['learning_rate']),len(ada_params['n_estimators']))\n",
    "plt.figure(figsize=(7,5))\n",
    "sns.heatmap(data, cmap='Blues', annot=True, fmt='.3',\n",
    "            xticklabels=ada_params['n_estimators'],\n",
    "            yticklabels=ada_params['learning_rate'])\n",
    "plt.xlabel('learning_rate')\n",
    "plt.ylabel('n_estimators')\n",
    "plt.tight_layout()"
   ]
  },
  {
   "cell_type": "code",
   "execution_count": 24,
   "metadata": {},
   "outputs": [
    {
     "name": "stdout",
     "output_type": "stream",
     "text": [
      "{'learning_rate': 0.1, 'n_estimators': 2000}\n"
     ]
    }
   ],
   "source": [
    "print(ada_model_gs_fit.best_params_)"
   ]
  },
  {
   "cell_type": "code",
   "execution_count": 25,
   "metadata": {},
   "outputs": [
    {
     "name": "stdout",
     "output_type": "stream",
     "text": [
      "              precision    recall  f1-score   support\n",
      "\n",
      "    Negativa       0.70      0.81      0.75      5346\n",
      "    Positiva       0.75      0.63      0.68      5004\n",
      "\n",
      "    accuracy                           0.72     10350\n",
      "   macro avg       0.73      0.72      0.72     10350\n",
      "weighted avg       0.72      0.72      0.72     10350\n",
      "\n"
     ]
    }
   ],
   "source": [
    "print(classification_report(y_test, ada_model_gs_fit.best_estimator_.predict(X_test)))"
   ]
  },
  {
   "cell_type": "markdown",
   "metadata": {},
   "source": [
    "<div class=\"alert alert-block alert-warning\">\n",
    "(2) Bernoulli Naive Bayes\n",
    "</div>"
   ]
  },
  {
   "cell_type": "code",
   "execution_count": 26,
   "metadata": {},
   "outputs": [],
   "source": [
    "nb_params = {\n",
    "    'alpha': [0.0, 1.0, 10, 100],\n",
    "}"
   ]
  },
  {
   "cell_type": "markdown",
   "metadata": {},
   "source": [
    "```python\n",
    "# Grid search snippet\n",
    "nb_model_gs = GridSearchCV(\n",
    "    BernoulliNB(),\n",
    "    nb_params,\n",
    "    cv=2,\n",
    "    verbose=10\n",
    ")\n",
    "\n",
    "nb_model_gs_fit = nb_model_gs.fit(X_train, y_train)\n",
    "\n",
    "pickle.dump(nb_model_gs_fit, open('nb_model_gs_fit.pkl', \"wb\"))\n",
    "```"
   ]
  },
  {
   "cell_type": "code",
   "execution_count": 27,
   "metadata": {},
   "outputs": [],
   "source": [
    "nb_model_gs_fit = pickle.load(open('nb_model_gs_fit.pkl', \"rb\"))"
   ]
  },
  {
   "cell_type": "code",
   "execution_count": 28,
   "metadata": {},
   "outputs": [
    {
     "data": {
      "image/png": "[encoded data removed]",
      "text/plain": [
       "<Figure size 720x144 with 2 Axes>"
      ]
     },
     "metadata": {},
     "output_type": "display_data"
    }
   ],
   "source": [
    "scores = nb_model_gs_fit.cv_results_['mean_test_score']\n",
    "data = scores.reshape(1, len(nb_params['alpha']))\n",
    "plt.figure(figsize=(10,2))\n",
    "sns.heatmap(data, cmap='Blues', annot=True, fmt='.2',\n",
    "            xticklabels=nb_params['alpha'],\n",
    "            yticklabels='')\n",
    "plt.xlabel('alpha')\n",
    "plt.tight_layout()"
   ]
  },
  {
   "cell_type": "code",
   "execution_count": 29,
   "metadata": {},
   "outputs": [
    {
     "name": "stdout",
     "output_type": "stream",
     "text": [
      "{'alpha': 1.0}\n"
     ]
    }
   ],
   "source": [
    "print(nb_model_gs_fit.best_params_)"
   ]
  },
  {
   "cell_type": "code",
   "execution_count": 30,
   "metadata": {},
   "outputs": [
    {
     "name": "stdout",
     "output_type": "stream",
     "text": [
      "              precision    recall  f1-score   support\n",
      "\n",
      "    Negativa       0.71      0.79      0.74      5346\n",
      "    Positiva       0.74      0.65      0.69      5004\n",
      "\n",
      "    accuracy                           0.72     10350\n",
      "   macro avg       0.72      0.72      0.72     10350\n",
      "weighted avg       0.72      0.72      0.72     10350\n",
      "\n"
     ]
    }
   ],
   "source": [
    "print(classification_report(y_test, nb_model_gs_fit.predict(X_test)))"
   ]
  },
  {
   "cell_type": "markdown",
   "metadata": {},
   "source": [
    "<div class=\"alert alert-block alert-warning\">\n",
    "(3) Logistic Regression\n",
    "</div>"
   ]
  },
  {
   "cell_type": "code",
   "execution_count": 31,
   "metadata": {},
   "outputs": [],
   "source": [
    "logreg_params = {\n",
    "    'C': [0.01, 0.1, 1.0, 2.0, 3.0, 4.0],\n",
    "    'penalty': ['l2', 'none']\n",
    "}"
   ]
  },
  {
   "cell_type": "markdown",
   "metadata": {},
   "source": [
    "```python\n",
    "# Grid search snippet\n",
    "logreg_model_gs = GridSearchCV(\n",
    "    LogisticRegression(),\n",
    "    logreg_params,\n",
    "    cv=2,\n",
    "    verbose=60\n",
    ")\n",
    "\n",
    "logreg_model_gs_fit = logreg_model_gs.fit(X_train, y_train)\n",
    "\n",
    "pickle.dump(logreg_model_gs_fit, open('logreg_model_gs_fit.pkl', \"wb\"))\n",
    "```"
   ]
  },
  {
   "cell_type": "code",
   "execution_count": 32,
   "metadata": {},
   "outputs": [],
   "source": [
    "logreg_model_gs_fit = pickle.load(open('logreg_model_gs_fit.pkl', \"rb\"))"
   ]
  },
  {
   "cell_type": "code",
   "execution_count": 33,
   "metadata": {},
   "outputs": [
    {
     "data": {
      "image/png": "[encoded data removed]",
      "text/plain": [
       "<Figure size 360x720 with 2 Axes>"
      ]
     },
     "metadata": {},
     "output_type": "display_data"
    }
   ],
   "source": [
    "scores = logreg_model_gs_fit.cv_results_['mean_test_score']\n",
    "data = scores.reshape(len(logreg_params['C']),len(logreg_params['penalty']))\n",
    "plt.figure(figsize=(5,10))\n",
    "sns.heatmap(data, cmap='Blues', annot=True, fmt='.3',\n",
    "            xticklabels=logreg_params['penalty'],\n",
    "            yticklabels=logreg_params['C'])\n",
    "plt.xlabel('penalty')\n",
    "plt.ylabel('C')\n",
    "plt.tight_layout()"
   ]
  },
  {
   "cell_type": "code",
   "execution_count": 34,
   "metadata": {},
   "outputs": [
    {
     "name": "stdout",
     "output_type": "stream",
     "text": [
      "{'C': 0.1, 'penalty': 'l2'}\n"
     ]
    }
   ],
   "source": [
    "print(logreg_model_gs_fit.best_params_)"
   ]
  },
  {
   "cell_type": "code",
   "execution_count": 35,
   "metadata": {},
   "outputs": [
    {
     "name": "stdout",
     "output_type": "stream",
     "text": [
      "              precision    recall  f1-score   support\n",
      "\n",
      "    Negativa       0.72      0.78      0.75      5346\n",
      "    Positiva       0.74      0.68      0.71      5004\n",
      "\n",
      "    accuracy                           0.73     10350\n",
      "   macro avg       0.73      0.73      0.73     10350\n",
      "weighted avg       0.73      0.73      0.73     10350\n",
      "\n"
     ]
    }
   ],
   "source": [
    "print(classification_report(y_test, logreg_model_gs_fit.predict(X_test)))"
   ]
  },
  {
   "cell_type": "markdown",
   "metadata": {},
   "source": [
    "<div class=\"alert alert-block alert-warning\">\n",
    "(4) Support Vector Classifier\n",
    "</div>"
   ]
  },
  {
   "cell_type": "code",
   "execution_count": 36,
   "metadata": {},
   "outputs": [],
   "source": [
    "svc_params = {\n",
    "    'C': [1e-2, 1e-1, 1e0, 1e1, 1e2],\n",
    "    'gamma': [1e-3, 1e-2, 1e-1, 1e0, 1e1]\n",
    "}"
   ]
  },
  {
   "cell_type": "markdown",
   "metadata": {},
   "source": [
    "```python\n",
    "# Grid search snippet\n",
    "svc_model_gs = GridSearchCV(\n",
    "    SVC(kernel = \"rbf\", probability = True),\n",
    "    svc_params,\n",
    "    cv=2,\n",
    "    verbose=60\n",
    ")\n",
    "\n",
    "svc_model_gs_fit = svc_model_gs.fit(X_train, y_train)\n",
    "\n",
    "pickle.dump(svc_model_gs_fit, open('svc_model_gs_fit.pkl', \"wb\"))\n",
    "```"
   ]
  },
  {
   "cell_type": "code",
   "execution_count": 37,
   "metadata": {},
   "outputs": [],
   "source": [
    "svc_model_gs_fit = pickle.load(open('svc_model_gs_fit.pkl', \"rb\"))"
   ]
  },
  {
   "cell_type": "code",
   "execution_count": 38,
   "metadata": {},
   "outputs": [
    {
     "data": {
      "image/png": "[encoded data removed]",
      "text/plain": [
       "<Figure size 720x504 with 2 Axes>"
      ]
     },
     "metadata": {},
     "output_type": "display_data"
    }
   ],
   "source": [
    "scores = svc_model_gs_fit.cv_results_['mean_test_score']\n",
    "data = scores.reshape(len(svc_params['gamma']),len(svc_params['C']))\n",
    "plt.figure(figsize=(10,7))\n",
    "sns.heatmap(data, cmap='Blues', annot=True, fmt='.3',\n",
    "            xticklabels=svc_params['gamma'],\n",
    "            yticklabels=svc_params['C'])\n",
    "plt.xlabel('gamma')\n",
    "plt.ylabel('C')\n",
    "plt.tight_layout()"
   ]
  },
  {
   "cell_type": "code",
   "execution_count": 39,
   "metadata": {},
   "outputs": [
    {
     "name": "stdout",
     "output_type": "stream",
     "text": [
      "{'C': 1.0, 'gamma': 0.1}\n"
     ]
    }
   ],
   "source": [
    "print(svc_model_gs_fit.best_params_)"
   ]
  },
  {
   "cell_type": "code",
   "execution_count": 40,
   "metadata": {},
   "outputs": [
    {
     "name": "stdout",
     "output_type": "stream",
     "text": [
      "              precision    recall  f1-score   support\n",
      "\n",
      "    Negativa       0.72      0.78      0.75      5346\n",
      "    Positiva       0.74      0.67      0.71      5004\n",
      "\n",
      "    accuracy                           0.73     10350\n",
      "   macro avg       0.73      0.73      0.73     10350\n",
      "weighted avg       0.73      0.73      0.73     10350\n",
      "\n"
     ]
    }
   ],
   "source": [
    "print(classification_report(y_test, svc_model_gs_fit.predict(X_test)))"
   ]
  },
  {
   "cell_type": "markdown",
   "metadata": {},
   "source": [
    "<div class=\"alert alert-block alert-warning\">\n",
    "(5) Decission Tree Classifier\n",
    "</div>"
   ]
  },
  {
   "cell_type": "code",
   "execution_count": 41,
   "metadata": {},
   "outputs": [],
   "source": [
    "dtc_params = {\n",
    "    'max_depth': [2**n for n in list(np.arange(15)[1:])]\n",
    "}"
   ]
  },
  {
   "cell_type": "markdown",
   "metadata": {},
   "source": [
    "```python\n",
    "# Grid search snippet\n",
    "dtc_model_gs = GridSearchCV(\n",
    "    DecisionTreeClassifier(),\n",
    "    dtc_params,\n",
    "    cv=2,\n",
    "    verbose=10\n",
    ")\n",
    "\n",
    "dtc_model_gs_fit = dtc_model_gs.fit(X_train, y_train)\n",
    "\n",
    "pickle.dump(dtc_model_gs_fit, open('dtc_model_gs_fit.pkl', \"wb\"))\n",
    "```"
   ]
  },
  {
   "cell_type": "code",
   "execution_count": 42,
   "metadata": {},
   "outputs": [],
   "source": [
    "dtc_model_gs_fit = pickle.load(open('dtc_model_gs_fit.pkl', \"rb\"))"
   ]
  },
  {
   "cell_type": "code",
   "execution_count": 43,
   "metadata": {},
   "outputs": [
    {
     "data": {
      "image/png": "[encoded data removed]",
      "text/plain": [
       "<Figure size 1008x108 with 2 Axes>"
      ]
     },
     "metadata": {},
     "output_type": "display_data"
    }
   ],
   "source": [
    "scores = dtc_model_gs_fit.cv_results_['mean_test_score']\n",
    "data = scores.reshape(1,len(dtc_params['max_depth']))\n",
    "plt.figure(figsize=(14,1.5))\n",
    "sns.heatmap(data, cmap='Blues', annot=True, fmt='.3',\n",
    "            xticklabels=dtc_params['max_depth'],\n",
    "            yticklabels='')\n",
    "plt.xlabel('max_depth')\n",
    "plt.tight_layout()"
   ]
  },
  {
   "cell_type": "code",
   "execution_count": 44,
   "metadata": {},
   "outputs": [
    {
     "name": "stdout",
     "output_type": "stream",
     "text": [
      "{'max_depth': 64}\n"
     ]
    }
   ],
   "source": [
    "print(dtc_model_gs_fit.best_params_)"
   ]
  },
  {
   "cell_type": "code",
   "execution_count": 45,
   "metadata": {},
   "outputs": [
    {
     "name": "stdout",
     "output_type": "stream",
     "text": [
      "              precision    recall  f1-score   support\n",
      "\n",
      "    Negativa       0.66      0.81      0.73      5346\n",
      "    Positiva       0.73      0.55      0.63      5004\n",
      "\n",
      "    accuracy                           0.68     10350\n",
      "   macro avg       0.69      0.68      0.68     10350\n",
      "weighted avg       0.69      0.68      0.68     10350\n",
      "\n"
     ]
    }
   ],
   "source": [
    "print(classification_report(y_test, dtc_model_gs_fit.predict(X_test)))"
   ]
  },
  {
   "cell_type": "markdown",
   "metadata": {},
   "source": [
    "Finalmente, entregamos las correspondientes curvas _ROC_ con sus respectivos _AUC score_:"
   ]
  },
  {
   "cell_type": "code",
   "execution_count": 46,
   "metadata": {},
   "outputs": [
    {
     "data": {
      "image/png": "[encoded data removed]",
      "text/plain": [
       "<Figure size 576x396 with 1 Axes>"
      ]
     },
     "metadata": {},
     "output_type": "display_data"
    }
   ],
   "source": [
    "model_names = [\n",
    "    'Adaptative Boosting',\n",
    "    'Bernoulli NB',\n",
    "    'Decision Tree',\n",
    "    'Support Vector',\n",
    "    'Logistic Regression'\n",
    "]\n",
    "\n",
    "model_objs = [\n",
    "    ada_model_gs_fit,\n",
    "    nb_model_gs_fit,\n",
    "    dtc_model_gs_fit,\n",
    "    svc_model_gs_fit,\n",
    "    logreg_model_gs_fit\n",
    "]\n",
    "\n",
    "for n,m in zip(model_names, model_objs):\n",
    "    yhat_pr = m.predict_proba(X_test)[:, 1]\n",
    "    false_positive, true_positive, threshold = roc_curve(y_test, yhat_pr, pos_label='Positiva')\n",
    "    auc_roc = roc_auc_score(y_test, yhat_pr)\n",
    "    plt.plot(false_positive, true_positive, label=n+' AUC = %0.3f' % auc_roc)\n",
    "    plt.plot([0, 1], linestyle=\"--\", lw=1, color='grey')\n",
    "    plt.ylabel('True Positive Rate')\n",
    "    plt.xlabel('False Positive Rate')\n",
    "    plt.legend(loc='lower right')\n",
    "plt.tight_layout()"
   ]
  },
  {
   "cell_type": "markdown",
   "metadata": {},
   "source": [
    "<div class=\"alert alert-block alert-warning\">\n",
    "<center>Reporte comparativo del desempeño de los modelos</center>\n",
    "</div>"
   ]
  },
  {
   "cell_type": "markdown",
   "metadata": {},
   "source": [
    "| Modelo\\Metrica               | Precision          | Recall             | F1-score           | Accuracy  | AUC score  |\n",
    "|------------------------------|--------------------|--------------------|--------------------|-----------|------------|\n",
    "| AdaptativeBoostingClassifier | N: 0.70<br>P: 0.75 | N: 0.81<br>P: 0.63 | N: 0.75<br>P: 0.68 | 0.72      | 0.79       |\n",
    "| BernoulliNB                  | N: 0.71<br>P: 0.74 | N: 0.79<br>P: 0.65 | N: 0.74<br>P: 0.69 | 0.72      | 0.79       |\n",
    "| LogisticRegression           | N: 0.72<br>P: 0.74 | N: 0.78<br>P: 0.68 | N: 0.75<br>P: 0.71 | 0.73      | 0.80       |\n",
    "| SVC                          | N: 0.72<br>P: 0.74 | N: 0.78<br>P: 0.67 | N: 0.75<br>P: 0.71 | 0.73      | 0.80       |\n",
    "| DecisionTreeClassifier       | N: 0.66<br>P: 0.73 | N: 0.81<br>P: 0.55 | N: 0.73<br>P: 0.63 | 0.68      | 0.71       |"
   ]
  },
  {
   "cell_type": "markdown",
   "metadata": {},
   "source": [
    "<div class=\"alert alert-block alert-success\">\n",
    "<b>Resumen de desempeño y selección de mejores modelos:</b> Podemos ver que en general todos los modelos tienen muy buen desempeño en todas las métricas utilizadas. La <code>precision</code>, es decir, la probabilidad de que un tuit marcado como positivo/negativo sea efectivamente positivo/negativo, no baja del 70%. El <code>recall</code>, es decir, la fracción del total de tuits positivos/negativos que realmente fueron recuperados como positivos/negativos, tiene un mucho mejor rendimiento (~10-15%) para recuperar tuits negativos que positivos, a lo largo de todos los modelos. Como consecuencia, la media armónica de estos dos valores, también conocido como el <code>F1-score</code>, y entendida como una medida del poder de recuperar casos relevantes, tiene un mejor rendimiento en el caso de tuits negativos comparados con los positivos; alrededor de un 5% mejor. Por otro lado, la <code>accuracy</code>, entendida como la fracción correcta de predicciones es razonablemente buena a través de todos los modelos, siendo no menor a un 72%. Finalmente, el <code>AUC score</code>, entendido como el poder de los modelos para separar correctamente falsos positivos y falsos negativos de la muestra total, es también bastante aceptable, estimado en general en un 80%. La excepción general es el algoritmo de <code>DecisionTreeClassifier</code>, que tiene un menor rendimiento tanto en las métricas principales como en la curva ROC. De este modo, escogeremos <code>LogisticRegression</code> y <code>SupportVectorClassifier</code> por tener una desempeño marginalmente mejor.\n",
    "</div>"
   ]
  },
  {
   "cell_type": "code",
   "execution_count": 47,
   "metadata": {},
   "outputs": [],
   "source": [
    "X = df['content']\n",
    "y = df['sentiment']\n",
    "\n",
    "X_train, X_test, y_train, y_test = train_test_split(X, y, test_size=.33, random_state=63)"
   ]
  },
  {
   "cell_type": "code",
   "execution_count": 48,
   "metadata": {},
   "outputs": [],
   "source": [
    "logreg_model = Pipeline(\n",
    "    [\n",
    "        ( 'count_vectorizer', CountVectorizer(preprocessor=preproc_text, stop_words='english') ),\n",
    "        ( 'logreg', LogisticRegression(C=0.1, penalty='l2') )\n",
    "    ]\n",
    ")\n",
    "\n",
    "logreg_model_fit = logreg_model.fit(X_train, y_train)\n",
    "\n",
    "pickle.dump(logreg_model_fit, open('final_models/LogisticRegression_model_final_prueba1.pkl', \"wb\"))"
   ]
  },
  {
   "cell_type": "code",
   "execution_count": 49,
   "metadata": {},
   "outputs": [],
   "source": [
    "svc_model = Pipeline(\n",
    "    [\n",
    "        ( 'count_vectorizer', CountVectorizer(preprocessor=preproc_text, stop_words='english') ),\n",
    "        ( 'svc', SVC(C=1.0, gamma=0.1) )\n",
    "    ]\n",
    ")\n",
    "\n",
    "svc_model_fit = svc_model.fit(X_train, y_train)\n",
    "\n",
    "pickle.dump(svc_model_fit, open('final_models/SVC_model_final_prueba1.pkl', \"wb\"))"
   ]
  },
  {
   "cell_type": "markdown",
   "metadata": {},
   "source": [
    "Finalmente, probamos las predicciones de cada uno con unos tuits de prueba:"
   ]
  },
  {
   "cell_type": "code",
   "execution_count": 50,
   "metadata": {},
   "outputs": [],
   "source": [
    "pred_list = [\n",
    "    \"Sad times\",  # → debería ser Negativa\n",
    "    \"I'm happy\",  # → debería ser Positiva\n",
    "    \"I'm really happy and a bit sad\",  # → debería confundirse a través de varios modelos\n",
    "]"
   ]
  },
  {
   "cell_type": "code",
   "execution_count": 51,
   "metadata": {},
   "outputs": [
    {
     "data": {
      "text/plain": [
       "array(['Negativa', 'Positiva', 'Negativa'], dtype=object)"
      ]
     },
     "execution_count": 51,
     "metadata": {},
     "output_type": "execute_result"
    }
   ],
   "source": [
    "logreg_model_fit.predict(pred_list)"
   ]
  },
  {
   "cell_type": "code",
   "execution_count": 52,
   "metadata": {},
   "outputs": [
    {
     "data": {
      "text/plain": [
       "array(['Negativa', 'Positiva', 'Negativa'], dtype=object)"
      ]
     },
     "execution_count": 52,
     "metadata": {},
     "output_type": "execute_result"
    }
   ],
   "source": [
    "svc_model_fit.predict(pred_list)"
   ]
  },
  {
   "cell_type": "markdown",
   "metadata": {},
   "source": [
    "Vemos que -como era de esperarse- la predicción es la esperada, aunque un poco cargada hacia el lado negativo quizás porque el `recall` de la clase positiva es significativamente menor que la de la clase negativa."
   ]
  },
  {
   "cell_type": "markdown",
   "metadata": {},
   "source": [
    "<div class=\"alert alert-block alert-danger\">\n",
    "<center>FIN PRUEBA 1</center>\n",
    "</div>"
   ]
  },
  {
   "cell_type": "code",
   "execution_count": null,
   "metadata": {},
   "outputs": [],
   "source": []
  }
 ],
 "metadata": {
  "kernelspec": {
   "display_name": "dlatam_ds",
   "language": "python",
   "name": "dlatam_ds"
  },
  "language_info": {
   "codemirror_mode": {
    "name": "ipython",
    "version": 3
   },
   "file_extension": ".py",
   "mimetype": "text/x-python",
   "name": "python",
   "nbconvert_exporter": "python",
   "pygments_lexer": "ipython3",
   "version": "3.7.3"
  }
 },
 "nbformat": 4,
 "nbformat_minor": 4
}
