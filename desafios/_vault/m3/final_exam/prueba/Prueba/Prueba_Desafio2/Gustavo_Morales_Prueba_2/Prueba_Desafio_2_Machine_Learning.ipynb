{
 "cells": [
  {
   "cell_type": "markdown",
   "metadata": {},
   "source": [
    "![alttext](logo.png)"
   ]
  },
  {
   "cell_type": "markdown",
   "metadata": {},
   "source": [
    "### Team Tomato: Gustavo Morales - Eduardo López\n",
    "### Generación :  G10\n",
    "### Profesores : Heriberto Briceño - Giannina Salomo \n",
    "### Fecha : Lunes 2 de Marzo de 2020\n",
    "\n",
    "▣ Hito 1: Preliminares y aspectos computacionales.\\\n",
    "▣ Hito 2: Análisis exploratorio e ingeniería de atributos.\\\n",
    "▢ Hito 3: Modelación descriptiva.\\\n",
    "▢ Hito 4: Modelación predictiva."
   ]
  },
  {
   "cell_type": "markdown",
   "metadata": {},
   "source": [
    "# H1: Preliminares y aspectos computacionales"
   ]
  },
  {
   "cell_type": "markdown",
   "metadata": {},
   "source": [
    "### Descripción del problema \n",
    "Debemos analizar los crímenes en la ciudad de de Nueva York. Mediante la información entregada por el departamento de policia de New York se solicita un estudio que entregue de manera detallada si ocurrió o no un arresto, y ademas si un procedimiento policial concluirá en alguna acción violenta.\n",
    "\n",
    "### Objetivo \n",
    "Desarrollar varios modelos de clasificación para definir si existira violencia durante un procedimiento policial y si ocurrió un arresto o no.\n",
    "\n",
    "### Solución \n",
    "Desarrollo de modelos de clasificación. Una vez entrenados y puestos a prueba serán calificados y evaluados entre ellos para definir que modelo es mas exacto y preciso al momento de clasificar. Luego se llevará a cabo el paso fundamental de definir las clases correspondientes a violencia y arresto.\n",
    "\n",
    "### Métricas de desempeño\n",
    "Las métricas de desempeño caracterizan la eficiencia de nuestros modelos. Antes de presentar soluciones estrictamente cuantitativas se procederá a graficar las variables consideradas relevantes para la solución de este problema, mostrando gráficos de distribución relevantes al problema.\n",
    "\n",
    "Para el caso de clasificación se utilizaran las siguientes metricas de desempeño:\n",
    "* `precision`: la exactitud se define como la cantidad de predicciones positivas que fueron correctas.\n",
    "* `recall`: el porcentaje de casos positivos detectados.\n",
    "* `accuracy`: la fracción de predicciones correctas entre el número total de registros.\n",
    "* `F1-score`: para cuantificar el balance entre `precision` y `recall`.\n",
    "* `ROC curve`: es más bien un gráfico de apoyo, útil para visualizar la capacidad de diagnóstico de un clasificador binario. Similarmente, el área bajo la curva ROC, `AUC score`, cuantifica el poder del modelo para discriminar entre dos clases."
   ]
  },
  {
   "cell_type": "markdown",
   "metadata": {},
   "source": [
    "### Aspectos computacionales\n",
    "\n",
    "Para la ingesta y preprocesamiento de datos se utilizarán las librerías de `numpy` y `pandas`. Para la visualización de datos se utilizarán las librerías de `matplotlib` y `seaborn`."
   ]
  },
  {
   "cell_type": "code",
   "execution_count": 1,
   "metadata": {},
   "outputs": [],
   "source": [
    "import numpy as np \n",
    "import pandas as pd\n",
    "import matplotlib.pyplot as plt\n",
    "from matplotlib import rcParams\n",
    "import seaborn as sns\n",
    "plt.style.use('seaborn')"
   ]
  },
  {
   "cell_type": "markdown",
   "metadata": {},
   "source": [
    "### Librerias para Machine Learning\n",
    "Las librerias a continuación facilitan la creación de un modelo en base a la predicción de un vector objetivo utilizando modelos de clasificación.\n",
    "\n",
    "Dado que se trabajara con un problema de aprendizaje supervisado, se utilizaran los siguientes modelos:\n",
    "\n",
    "#### Modelos\n",
    "   * GradientBoostingClassifier\n",
    "       * Hiperparametros:\n",
    "       ```python\n",
    "          gradient_params = {\n",
    "              'learning_rate': [0.01, 0.1,0.5],  # shrinks the contribution of each classifier\n",
    "              'n_estimators': [50, 100, 500, 1000, 2000],  # max number of estimators at which boosting is terminated\n",
    "              'subsample': [0.1,0.5,0.9]  # fraction of samples to be used for fitting the individual base learners\n",
    "          }\n",
    "       ```\n",
    "   * AdaBoostClassifier\n",
    "        * Hiperparametros: \n",
    "        ```python \n",
    "           ada_params = {\n",
    "               'learning_rate': [0.01, 0.1, 0.5],  # shrinks the contribution of each classifier\n",
    "               'n_estimators': [50, 100, 500, 1000, 2000]  # max number of estimators at which boosting is terminated\n",
    "           }\n",
    "        ```\n",
    "   * DecisionTreeClassifier\n",
    "        * Hiperparametros: \n",
    "        ```python\n",
    "           dec_tree_params = {\n",
    "                'min_samples_split' : range(10,500,20),\n",
    "                'max_depth': range(1,20,2)\n",
    "                 }\n",
    "        ```\n",
    "   * LogisticRegression\n",
    "        ```python\n",
    "           log_params = {\n",
    "                \"C\":np.logspace(-3,3,7), # [0.001, 0.01, 0.1, 1.0, 10.0, 100.0, 1000.0]\n",
    "                \"penalty\":[\"l1\",\"l2\"] # l1 lasso l2 ridge\n",
    "            } \n",
    "        ```\n",
    "   * SVC\n",
    "        * Hiperparametros:\n",
    "        ```python\n",
    "           params = {\n",
    "               'C': [0.0001, 0.001, 0.01, 0.1, 1, 10, 100, 1000],  # regularization parameter, l2 penalty\n",
    "               'gamma': [0.0000001, 0.0001, 0.001, 0.01, 0.1, 1, 10]  # kernel coefficient\n",
    "           }\n",
    "           cv = 10\n",
    "        ```\n",
    "\n",
    "#### Selección de submuestras\n",
    "   * Usaremos el método `train_test_split`, que divide la matriz de datos de manera aleatoria, generando sets de entrenamiento y prueba. Utilizaremos un 33% del total para la muestra de entrenamiento y el resto para la muestra de prueba, con una semilla pseudoaleatoria con valor 63."
   ]
  },
  {
   "cell_type": "markdown",
   "metadata": {},
   "source": [
    "#### Módulos para implementación de modelos"
   ]
  },
  {
   "cell_type": "code",
   "execution_count": 2,
   "metadata": {},
   "outputs": [],
   "source": [
    "from sklearn.ensemble import GradientBoostingClassifier\n",
    "from sklearn.svm import SVC\n",
    "from sklearn.ensemble import AdaBoostClassifier\n",
    "from sklearn.tree import DecisionTreeClassifier\n",
    "from sklearn.linear_model import LogisticRegression"
   ]
  },
  {
   "cell_type": "markdown",
   "metadata": {},
   "source": [
    "#### Módulos para selección y medición de desempeño de modelos"
   ]
  },
  {
   "cell_type": "code",
   "execution_count": 3,
   "metadata": {},
   "outputs": [],
   "source": [
    "from sklearn.model_selection import train_test_split\n",
    "from sklearn.metrics import classification_report, roc_curve, roc_auc_score"
   ]
  },
  {
   "cell_type": "markdown",
   "metadata": {},
   "source": [
    "#### Módulo para optimizar procesos de aprendizaje en modelos"
   ]
  },
  {
   "cell_type": "code",
   "execution_count": 4,
   "metadata": {},
   "outputs": [],
   "source": [
    "from sklearn.pipeline import Pipeline"
   ]
  },
  {
   "cell_type": "markdown",
   "metadata": {},
   "source": [
    "#### Módulo para selección de mejores hiperparámetros según modelo"
   ]
  },
  {
   "cell_type": "code",
   "execution_count": 5,
   "metadata": {},
   "outputs": [],
   "source": [
    "from sklearn.model_selection import GridSearchCV"
   ]
  },
  {
   "cell_type": "markdown",
   "metadata": {},
   "source": [
    "#### Módulo para serialización de modelos, funciones auxiliares y filtro advertencias"
   ]
  },
  {
   "cell_type": "code",
   "execution_count": 6,
   "metadata": {},
   "outputs": [],
   "source": [
    "import pickle\n",
    "import preproc_nyc_sqf as pre_funcs\n",
    "import aux_funcs as funcs\n",
    "import warnings\n",
    "warnings.filterwarnings('ignore')"
   ]
  },
  {
   "cell_type": "markdown",
   "metadata": {},
   "source": [
    "#### Módulo para ejercer estrategia de oversampling en caso de existir desbalance de clases"
   ]
  },
  {
   "cell_type": "code",
   "execution_count": 7,
   "metadata": {},
   "outputs": [],
   "source": [
    "from imblearn.over_sampling import SMOTE"
   ]
  },
  {
   "cell_type": "markdown",
   "metadata": {},
   "source": [
    "# H2: Análisis exploratorio e ingeniería de atributos"
   ]
  },
  {
   "cell_type": "markdown",
   "metadata": {},
   "source": [
    "### Ingeniería de atributos (_Feature Engineering_)"
   ]
  },
  {
   "cell_type": "markdown",
   "metadata": {},
   "source": [
    "Primero observamos el set de datos y revisamos su integridad:"
   ]
  },
  {
   "cell_type": "code",
   "execution_count": 8,
   "metadata": {},
   "outputs": [],
   "source": [
    "df = pd.read_csv(\"2009_1perc.csv\").drop(columns = \"Unnamed: 0\")\n",
    "df_test = pd.read_csv(\"2010_1perc.csv\").drop(columns = \"Unnamed: 0\")"
   ]
  },
  {
   "cell_type": "code",
   "execution_count": 9,
   "metadata": {},
   "outputs": [
    {
     "data": {
      "text/html": [
       "<div>\n",
       "<style scoped>\n",
       "    .dataframe tbody tr th:only-of-type {\n",
       "        vertical-align: middle;\n",
       "    }\n",
       "\n",
       "    .dataframe tbody tr th {\n",
       "        vertical-align: top;\n",
       "    }\n",
       "\n",
       "    .dataframe thead th {\n",
       "        text-align: right;\n",
       "    }\n",
       "</style>\n",
       "<table border=\"1\" class=\"dataframe\">\n",
       "  <thead>\n",
       "    <tr style=\"text-align: right;\">\n",
       "      <th></th>\n",
       "      <th>year</th>\n",
       "      <th>pct</th>\n",
       "      <th>ser_num</th>\n",
       "      <th>datestop</th>\n",
       "      <th>timestop</th>\n",
       "      <th>recstat</th>\n",
       "      <th>inout</th>\n",
       "      <th>trhsloc</th>\n",
       "      <th>perobs</th>\n",
       "      <th>crimsusp</th>\n",
       "      <th>...</th>\n",
       "      <th>zip</th>\n",
       "      <th>addrpct</th>\n",
       "      <th>sector</th>\n",
       "      <th>beat</th>\n",
       "      <th>post</th>\n",
       "      <th>xcoord</th>\n",
       "      <th>ycoord</th>\n",
       "      <th>dettypcm</th>\n",
       "      <th>linecm</th>\n",
       "      <th>detailcm</th>\n",
       "    </tr>\n",
       "  </thead>\n",
       "  <tbody>\n",
       "    <tr>\n",
       "      <th>0</th>\n",
       "      <td>2009</td>\n",
       "      <td>41</td>\n",
       "      <td>1779</td>\n",
       "      <td>4032009</td>\n",
       "      <td>130</td>\n",
       "      <td>A</td>\n",
       "      <td>O</td>\n",
       "      <td>P</td>\n",
       "      <td>1.0</td>\n",
       "      <td>CPW</td>\n",
       "      <td>...</td>\n",
       "      <td></td>\n",
       "      <td>41</td>\n",
       "      <td>G</td>\n",
       "      <td>7</td>\n",
       "      <td></td>\n",
       "      <td>1013067</td>\n",
       "      <td>0238633</td>\n",
       "      <td>CM</td>\n",
       "      <td>1</td>\n",
       "      <td>20</td>\n",
       "    </tr>\n",
       "    <tr>\n",
       "      <th>1</th>\n",
       "      <td>2009</td>\n",
       "      <td>108</td>\n",
       "      <td>5805</td>\n",
       "      <td>10292009</td>\n",
       "      <td>1050</td>\n",
       "      <td>A</td>\n",
       "      <td>O</td>\n",
       "      <td>P</td>\n",
       "      <td>3.0</td>\n",
       "      <td>BURG</td>\n",
       "      <td>...</td>\n",
       "      <td></td>\n",
       "      <td>108</td>\n",
       "      <td>J</td>\n",
       "      <td></td>\n",
       "      <td></td>\n",
       "      <td>1012043</td>\n",
       "      <td>0212157</td>\n",
       "      <td>CM</td>\n",
       "      <td>1</td>\n",
       "      <td>14</td>\n",
       "    </tr>\n",
       "    <tr>\n",
       "      <th>2</th>\n",
       "      <td>2009</td>\n",
       "      <td>43</td>\n",
       "      <td>8340</td>\n",
       "      <td>10062009</td>\n",
       "      <td>1450</td>\n",
       "      <td>1</td>\n",
       "      <td>O</td>\n",
       "      <td>P</td>\n",
       "      <td>1.0</td>\n",
       "      <td>MISD</td>\n",
       "      <td>...</td>\n",
       "      <td></td>\n",
       "      <td>43</td>\n",
       "      <td>E</td>\n",
       "      <td></td>\n",
       "      <td></td>\n",
       "      <td>1017599</td>\n",
       "      <td>0240200</td>\n",
       "      <td>CM</td>\n",
       "      <td>1</td>\n",
       "      <td>20</td>\n",
       "    </tr>\n",
       "    <tr>\n",
       "      <th>3</th>\n",
       "      <td>2009</td>\n",
       "      <td>77</td>\n",
       "      <td>932</td>\n",
       "      <td>1232009</td>\n",
       "      <td>1843</td>\n",
       "      <td>A</td>\n",
       "      <td>O</td>\n",
       "      <td>P</td>\n",
       "      <td>5.0</td>\n",
       "      <td>MIS</td>\n",
       "      <td>...</td>\n",
       "      <td></td>\n",
       "      <td>77</td>\n",
       "      <td>J</td>\n",
       "      <td>4</td>\n",
       "      <td>35</td>\n",
       "      <td>1002625</td>\n",
       "      <td>0183442</td>\n",
       "      <td>CM</td>\n",
       "      <td>1</td>\n",
       "      <td>24</td>\n",
       "    </tr>\n",
       "    <tr>\n",
       "      <th>4</th>\n",
       "      <td>2009</td>\n",
       "      <td>110</td>\n",
       "      <td>11224</td>\n",
       "      <td>12132009</td>\n",
       "      <td>1655</td>\n",
       "      <td>A</td>\n",
       "      <td>O</td>\n",
       "      <td>P</td>\n",
       "      <td>3.0</td>\n",
       "      <td>CPW</td>\n",
       "      <td>...</td>\n",
       "      <td></td>\n",
       "      <td>110</td>\n",
       "      <td>H</td>\n",
       "      <td></td>\n",
       "      <td></td>\n",
       "      <td>1024535</td>\n",
       "      <td>0209890</td>\n",
       "      <td>CM</td>\n",
       "      <td>1</td>\n",
       "      <td>20</td>\n",
       "    </tr>\n",
       "    <tr>\n",
       "      <th>...</th>\n",
       "      <td>...</td>\n",
       "      <td>...</td>\n",
       "      <td>...</td>\n",
       "      <td>...</td>\n",
       "      <td>...</td>\n",
       "      <td>...</td>\n",
       "      <td>...</td>\n",
       "      <td>...</td>\n",
       "      <td>...</td>\n",
       "      <td>...</td>\n",
       "      <td>...</td>\n",
       "      <td>...</td>\n",
       "      <td>...</td>\n",
       "      <td>...</td>\n",
       "      <td>...</td>\n",
       "      <td>...</td>\n",
       "      <td>...</td>\n",
       "      <td>...</td>\n",
       "      <td>...</td>\n",
       "      <td>...</td>\n",
       "      <td>...</td>\n",
       "    </tr>\n",
       "    <tr>\n",
       "      <th>5807</th>\n",
       "      <td>2009</td>\n",
       "      <td>52</td>\n",
       "      <td>3719</td>\n",
       "      <td>3282009</td>\n",
       "      <td>210</td>\n",
       "      <td>A</td>\n",
       "      <td>O</td>\n",
       "      <td>P</td>\n",
       "      <td>1.0</td>\n",
       "      <td>ASSAULT</td>\n",
       "      <td>...</td>\n",
       "      <td></td>\n",
       "      <td>52</td>\n",
       "      <td>A</td>\n",
       "      <td></td>\n",
       "      <td></td>\n",
       "      <td>1009910</td>\n",
       "      <td>0255837</td>\n",
       "      <td>CM</td>\n",
       "      <td>1</td>\n",
       "      <td>9</td>\n",
       "    </tr>\n",
       "    <tr>\n",
       "      <th>5808</th>\n",
       "      <td>2009</td>\n",
       "      <td>79</td>\n",
       "      <td>15751</td>\n",
       "      <td>9292009</td>\n",
       "      <td>2008</td>\n",
       "      <td>A</td>\n",
       "      <td>O</td>\n",
       "      <td>P</td>\n",
       "      <td>3.0</td>\n",
       "      <td>CPW</td>\n",
       "      <td>...</td>\n",
       "      <td></td>\n",
       "      <td>79</td>\n",
       "      <td>F</td>\n",
       "      <td>17</td>\n",
       "      <td></td>\n",
       "      <td>1001545</td>\n",
       "      <td>0192836</td>\n",
       "      <td>CM</td>\n",
       "      <td>1</td>\n",
       "      <td>20</td>\n",
       "    </tr>\n",
       "    <tr>\n",
       "      <th>5809</th>\n",
       "      <td>2009</td>\n",
       "      <td>69</td>\n",
       "      <td>3024</td>\n",
       "      <td>6262009</td>\n",
       "      <td>1937</td>\n",
       "      <td>1</td>\n",
       "      <td>O</td>\n",
       "      <td>P</td>\n",
       "      <td>1.0</td>\n",
       "      <td>FEL</td>\n",
       "      <td>...</td>\n",
       "      <td></td>\n",
       "      <td>69</td>\n",
       "      <td>B</td>\n",
       "      <td></td>\n",
       "      <td></td>\n",
       "      <td>1012860</td>\n",
       "      <td>0174682</td>\n",
       "      <td>CM</td>\n",
       "      <td>1</td>\n",
       "      <td>85</td>\n",
       "    </tr>\n",
       "    <tr>\n",
       "      <th>5810</th>\n",
       "      <td>2009</td>\n",
       "      <td>76</td>\n",
       "      <td>1303</td>\n",
       "      <td>3102009</td>\n",
       "      <td>59</td>\n",
       "      <td>1</td>\n",
       "      <td>O</td>\n",
       "      <td>H</td>\n",
       "      <td>1.0</td>\n",
       "      <td>CPM MISD  PSA#771</td>\n",
       "      <td>...</td>\n",
       "      <td></td>\n",
       "      <td>76</td>\n",
       "      <td>A</td>\n",
       "      <td>10</td>\n",
       "      <td></td>\n",
       "      <td>0981820</td>\n",
       "      <td>0185424</td>\n",
       "      <td>CM</td>\n",
       "      <td>1</td>\n",
       "      <td>27</td>\n",
       "    </tr>\n",
       "    <tr>\n",
       "      <th>5811</th>\n",
       "      <td>2009</td>\n",
       "      <td>10</td>\n",
       "      <td>1018</td>\n",
       "      <td>5142009</td>\n",
       "      <td>40</td>\n",
       "      <td>1</td>\n",
       "      <td>O</td>\n",
       "      <td>H</td>\n",
       "      <td>5.0</td>\n",
       "      <td>CPCS</td>\n",
       "      <td>...</td>\n",
       "      <td></td>\n",
       "      <td>10</td>\n",
       "      <td>D</td>\n",
       "      <td></td>\n",
       "      <td></td>\n",
       "      <td>0984003</td>\n",
       "      <td>0212087</td>\n",
       "      <td>CM</td>\n",
       "      <td>1</td>\n",
       "      <td>24</td>\n",
       "    </tr>\n",
       "  </tbody>\n",
       "</table>\n",
       "<p>5812 rows × 111 columns</p>\n",
       "</div>"
      ],
      "text/plain": [
       "      year  pct  ser_num  datestop  timestop recstat inout trhsloc  perobs  \\\n",
       "0     2009   41     1779   4032009       130       A     O       P     1.0   \n",
       "1     2009  108     5805  10292009      1050       A     O       P     3.0   \n",
       "2     2009   43     8340  10062009      1450       1     O       P     1.0   \n",
       "3     2009   77      932   1232009      1843       A     O       P     5.0   \n",
       "4     2009  110    11224  12132009      1655       A     O       P     3.0   \n",
       "...    ...  ...      ...       ...       ...     ...   ...     ...     ...   \n",
       "5807  2009   52     3719   3282009       210       A     O       P     1.0   \n",
       "5808  2009   79    15751   9292009      2008       A     O       P     3.0   \n",
       "5809  2009   69     3024   6262009      1937       1     O       P     1.0   \n",
       "5810  2009   76     1303   3102009        59       1     O       H     1.0   \n",
       "5811  2009   10     1018   5142009        40       1     O       H     5.0   \n",
       "\n",
       "               crimsusp  ...  zip addrpct sector beat post   xcoord   ycoord  \\\n",
       "0                   CPW  ...           41      G    7       1013067  0238633   \n",
       "1                  BURG  ...          108      J            1012043  0212157   \n",
       "2                  MISD  ...           43      E            1017599  0240200   \n",
       "3                   MIS  ...           77      J    4   35  1002625  0183442   \n",
       "4                   CPW  ...          110      H            1024535  0209890   \n",
       "...                 ...  ...  ...     ...    ...  ...  ...      ...      ...   \n",
       "5807            ASSAULT  ...           52      A            1009910  0255837   \n",
       "5808                CPW  ...           79      F   17       1001545  0192836   \n",
       "5809                FEL  ...           69      B            1012860  0174682   \n",
       "5810  CPM MISD  PSA#771  ...           76      A   10       0981820  0185424   \n",
       "5811               CPCS  ...           10      D            0984003  0212087   \n",
       "\n",
       "     dettypcm  linecm  detailcm  \n",
       "0          CM       1        20  \n",
       "1          CM       1        14  \n",
       "2          CM       1        20  \n",
       "3          CM       1        24  \n",
       "4          CM       1        20  \n",
       "...       ...     ...       ...  \n",
       "5807       CM       1         9  \n",
       "5808       CM       1        20  \n",
       "5809       CM       1        85  \n",
       "5810       CM       1        27  \n",
       "5811       CM       1        24  \n",
       "\n",
       "[5812 rows x 111 columns]"
      ]
     },
     "execution_count": 9,
     "metadata": {},
     "output_type": "execute_result"
    }
   ],
   "source": [
    "df"
   ]
  },
  {
   "cell_type": "code",
   "execution_count": 10,
   "metadata": {},
   "outputs": [
    {
     "data": {
      "text/html": [
       "<div>\n",
       "<style scoped>\n",
       "    .dataframe tbody tr th:only-of-type {\n",
       "        vertical-align: middle;\n",
       "    }\n",
       "\n",
       "    .dataframe tbody tr th {\n",
       "        vertical-align: top;\n",
       "    }\n",
       "\n",
       "    .dataframe thead th {\n",
       "        text-align: right;\n",
       "    }\n",
       "</style>\n",
       "<table border=\"1\" class=\"dataframe\">\n",
       "  <thead>\n",
       "    <tr style=\"text-align: right;\">\n",
       "      <th></th>\n",
       "      <th>year</th>\n",
       "      <th>pct</th>\n",
       "      <th>ser_num</th>\n",
       "      <th>datestop</th>\n",
       "      <th>timestop</th>\n",
       "      <th>recstat</th>\n",
       "      <th>inout</th>\n",
       "      <th>trhsloc</th>\n",
       "      <th>perobs</th>\n",
       "      <th>crimsusp</th>\n",
       "      <th>...</th>\n",
       "      <th>zip</th>\n",
       "      <th>addrpct</th>\n",
       "      <th>sector</th>\n",
       "      <th>beat</th>\n",
       "      <th>post</th>\n",
       "      <th>xcoord</th>\n",
       "      <th>ycoord</th>\n",
       "      <th>dettypcm</th>\n",
       "      <th>linecm</th>\n",
       "      <th>detailcm</th>\n",
       "    </tr>\n",
       "  </thead>\n",
       "  <tbody>\n",
       "    <tr>\n",
       "      <th>0</th>\n",
       "      <td>2010</td>\n",
       "      <td>6</td>\n",
       "      <td>487</td>\n",
       "      <td>1192010</td>\n",
       "      <td>1420</td>\n",
       "      <td>1</td>\n",
       "      <td>O</td>\n",
       "      <td>P</td>\n",
       "      <td>2</td>\n",
       "      <td>FEL</td>\n",
       "      <td>...</td>\n",
       "      <td></td>\n",
       "      <td>6</td>\n",
       "      <td>G</td>\n",
       "      <td></td>\n",
       "      <td>38</td>\n",
       "      <td>983543</td>\n",
       "      <td>208767</td>\n",
       "      <td>CM</td>\n",
       "      <td>1</td>\n",
       "      <td>85</td>\n",
       "    </tr>\n",
       "    <tr>\n",
       "      <th>1</th>\n",
       "      <td>2010</td>\n",
       "      <td>42</td>\n",
       "      <td>7138</td>\n",
       "      <td>9042010</td>\n",
       "      <td>225</td>\n",
       "      <td>1</td>\n",
       "      <td>I</td>\n",
       "      <td>T</td>\n",
       "      <td>10</td>\n",
       "      <td>FELONY</td>\n",
       "      <td>...</td>\n",
       "      <td></td>\n",
       "      <td>42</td>\n",
       "      <td>E</td>\n",
       "      <td></td>\n",
       "      <td></td>\n",
       "      <td>1014172</td>\n",
       "      <td>241737</td>\n",
       "      <td>CM</td>\n",
       "      <td>1</td>\n",
       "      <td>45</td>\n",
       "    </tr>\n",
       "    <tr>\n",
       "      <th>2</th>\n",
       "      <td>2010</td>\n",
       "      <td>33</td>\n",
       "      <td>2628</td>\n",
       "      <td>6302010</td>\n",
       "      <td>1240</td>\n",
       "      <td>1</td>\n",
       "      <td>I</td>\n",
       "      <td>T</td>\n",
       "      <td>5</td>\n",
       "      <td>ROBBERY</td>\n",
       "      <td>...</td>\n",
       "      <td></td>\n",
       "      <td>33</td>\n",
       "      <td>B</td>\n",
       "      <td>6</td>\n",
       "      <td></td>\n",
       "      <td>1000916</td>\n",
       "      <td>245710</td>\n",
       "      <td>CM</td>\n",
       "      <td>1</td>\n",
       "      <td>85</td>\n",
       "    </tr>\n",
       "    <tr>\n",
       "      <th>3</th>\n",
       "      <td>2010</td>\n",
       "      <td>108</td>\n",
       "      <td>6384</td>\n",
       "      <td>11172010</td>\n",
       "      <td>2338</td>\n",
       "      <td>1</td>\n",
       "      <td>O</td>\n",
       "      <td>P</td>\n",
       "      <td>3</td>\n",
       "      <td>CSCS</td>\n",
       "      <td>...</td>\n",
       "      <td></td>\n",
       "      <td>108</td>\n",
       "      <td>J</td>\n",
       "      <td></td>\n",
       "      <td></td>\n",
       "      <td>1012612</td>\n",
       "      <td>212240</td>\n",
       "      <td>CM</td>\n",
       "      <td>1</td>\n",
       "      <td>28</td>\n",
       "    </tr>\n",
       "    <tr>\n",
       "      <th>4</th>\n",
       "      <td>2010</td>\n",
       "      <td>14</td>\n",
       "      <td>2295</td>\n",
       "      <td>3072010</td>\n",
       "      <td>2240</td>\n",
       "      <td>1</td>\n",
       "      <td>I</td>\n",
       "      <td>T</td>\n",
       "      <td>5</td>\n",
       "      <td>MISD/ CPW</td>\n",
       "      <td>...</td>\n",
       "      <td></td>\n",
       "      <td>14</td>\n",
       "      <td>C</td>\n",
       "      <td>7</td>\n",
       "      <td></td>\n",
       "      <td>987636</td>\n",
       "      <td>212439</td>\n",
       "      <td>CM</td>\n",
       "      <td>1</td>\n",
       "      <td>20</td>\n",
       "    </tr>\n",
       "    <tr>\n",
       "      <th>...</th>\n",
       "      <td>...</td>\n",
       "      <td>...</td>\n",
       "      <td>...</td>\n",
       "      <td>...</td>\n",
       "      <td>...</td>\n",
       "      <td>...</td>\n",
       "      <td>...</td>\n",
       "      <td>...</td>\n",
       "      <td>...</td>\n",
       "      <td>...</td>\n",
       "      <td>...</td>\n",
       "      <td>...</td>\n",
       "      <td>...</td>\n",
       "      <td>...</td>\n",
       "      <td>...</td>\n",
       "      <td>...</td>\n",
       "      <td>...</td>\n",
       "      <td>...</td>\n",
       "      <td>...</td>\n",
       "      <td>...</td>\n",
       "      <td>...</td>\n",
       "    </tr>\n",
       "    <tr>\n",
       "      <th>6008</th>\n",
       "      <td>2010</td>\n",
       "      <td>60</td>\n",
       "      <td>7062</td>\n",
       "      <td>9262010</td>\n",
       "      <td>45</td>\n",
       "      <td>1</td>\n",
       "      <td>O</td>\n",
       "      <td>H</td>\n",
       "      <td>2</td>\n",
       "      <td>MISD</td>\n",
       "      <td>...</td>\n",
       "      <td></td>\n",
       "      <td>60</td>\n",
       "      <td>I</td>\n",
       "      <td></td>\n",
       "      <td></td>\n",
       "      <td>989382</td>\n",
       "      <td>155162</td>\n",
       "      <td>CM</td>\n",
       "      <td>1</td>\n",
       "      <td>20</td>\n",
       "    </tr>\n",
       "    <tr>\n",
       "      <th>6009</th>\n",
       "      <td>2010</td>\n",
       "      <td>75</td>\n",
       "      <td>15797</td>\n",
       "      <td>7302010</td>\n",
       "      <td>10</td>\n",
       "      <td>A</td>\n",
       "      <td>O</td>\n",
       "      <td>P</td>\n",
       "      <td>1</td>\n",
       "      <td>ROBBERY</td>\n",
       "      <td>...</td>\n",
       "      <td></td>\n",
       "      <td>75</td>\n",
       "      <td>A</td>\n",
       "      <td></td>\n",
       "      <td></td>\n",
       "      <td>1012757</td>\n",
       "      <td>186018</td>\n",
       "      <td>CM</td>\n",
       "      <td>1</td>\n",
       "      <td>85</td>\n",
       "    </tr>\n",
       "    <tr>\n",
       "      <th>6010</th>\n",
       "      <td>2010</td>\n",
       "      <td>123</td>\n",
       "      <td>830</td>\n",
       "      <td>4302010</td>\n",
       "      <td>1630</td>\n",
       "      <td>A</td>\n",
       "      <td>O</td>\n",
       "      <td>P</td>\n",
       "      <td>3</td>\n",
       "      <td>GLA</td>\n",
       "      <td>...</td>\n",
       "      <td></td>\n",
       "      <td>123</td>\n",
       "      <td>E</td>\n",
       "      <td></td>\n",
       "      <td></td>\n",
       "      <td>933868</td>\n",
       "      <td>138600</td>\n",
       "      <td>CM</td>\n",
       "      <td>1</td>\n",
       "      <td>46</td>\n",
       "    </tr>\n",
       "    <tr>\n",
       "      <th>6011</th>\n",
       "      <td>2010</td>\n",
       "      <td>115</td>\n",
       "      <td>13122</td>\n",
       "      <td>11232010</td>\n",
       "      <td>2100</td>\n",
       "      <td>1</td>\n",
       "      <td>O</td>\n",
       "      <td>P</td>\n",
       "      <td>1</td>\n",
       "      <td>FELONY</td>\n",
       "      <td>...</td>\n",
       "      <td></td>\n",
       "      <td>115</td>\n",
       "      <td>E</td>\n",
       "      <td></td>\n",
       "      <td></td>\n",
       "      <td>1014722</td>\n",
       "      <td>214388</td>\n",
       "      <td>CM</td>\n",
       "      <td>1</td>\n",
       "      <td>85</td>\n",
       "    </tr>\n",
       "    <tr>\n",
       "      <th>6012</th>\n",
       "      <td>2010</td>\n",
       "      <td>14</td>\n",
       "      <td>219</td>\n",
       "      <td>1062010</td>\n",
       "      <td>1406</td>\n",
       "      <td>1</td>\n",
       "      <td>I</td>\n",
       "      <td>T</td>\n",
       "      <td>4</td>\n",
       "      <td>CRIM MIS.</td>\n",
       "      <td>...</td>\n",
       "      <td></td>\n",
       "      <td>14</td>\n",
       "      <td>H</td>\n",
       "      <td>11</td>\n",
       "      <td></td>\n",
       "      <td>987078</td>\n",
       "      <td>215157</td>\n",
       "      <td>CM</td>\n",
       "      <td>1</td>\n",
       "      <td>23</td>\n",
       "    </tr>\n",
       "  </tbody>\n",
       "</table>\n",
       "<p>6013 rows × 111 columns</p>\n",
       "</div>"
      ],
      "text/plain": [
       "      year  pct  ser_num  datestop  timestop recstat inout trhsloc  perobs  \\\n",
       "0     2010    6      487   1192010      1420       1     O       P       2   \n",
       "1     2010   42     7138   9042010       225       1     I       T      10   \n",
       "2     2010   33     2628   6302010      1240       1     I       T       5   \n",
       "3     2010  108     6384  11172010      2338       1     O       P       3   \n",
       "4     2010   14     2295   3072010      2240       1     I       T       5   \n",
       "...    ...  ...      ...       ...       ...     ...   ...     ...     ...   \n",
       "6008  2010   60     7062   9262010        45       1     O       H       2   \n",
       "6009  2010   75    15797   7302010        10       A     O       P       1   \n",
       "6010  2010  123      830   4302010      1630       A     O       P       3   \n",
       "6011  2010  115    13122  11232010      2100       1     O       P       1   \n",
       "6012  2010   14      219   1062010      1406       1     I       T       4   \n",
       "\n",
       "       crimsusp  ...  zip addrpct sector beat post   xcoord  ycoord dettypcm  \\\n",
       "0           FEL  ...            6      G        38   983543  208767       CM   \n",
       "1        FELONY  ...           42      E            1014172  241737       CM   \n",
       "2       ROBBERY  ...           33      B    6       1000916  245710       CM   \n",
       "3          CSCS  ...          108      J            1012612  212240       CM   \n",
       "4     MISD/ CPW  ...           14      C    7        987636  212439       CM   \n",
       "...         ...  ...  ...     ...    ...  ...  ...      ...     ...      ...   \n",
       "6008       MISD  ...           60      I             989382  155162       CM   \n",
       "6009    ROBBERY  ...           75      A            1012757  186018       CM   \n",
       "6010        GLA  ...          123      E             933868  138600       CM   \n",
       "6011     FELONY  ...          115      E            1014722  214388       CM   \n",
       "6012  CRIM MIS.  ...           14      H   11        987078  215157       CM   \n",
       "\n",
       "      linecm  detailcm  \n",
       "0          1        85  \n",
       "1          1        45  \n",
       "2          1        85  \n",
       "3          1        28  \n",
       "4          1        20  \n",
       "...      ...       ...  \n",
       "6008       1        20  \n",
       "6009       1        85  \n",
       "6010       1        46  \n",
       "6011       1        85  \n",
       "6012       1        23  \n",
       "\n",
       "[6013 rows x 111 columns]"
      ]
     },
     "execution_count": 10,
     "metadata": {},
     "output_type": "execute_result"
    }
   ],
   "source": [
    "df_test"
   ]
  },
  {
   "cell_type": "code",
   "execution_count": 11,
   "metadata": {},
   "outputs": [
    {
     "name": "stdout",
     "output_type": "stream",
     "text": [
      "<class 'pandas.core.frame.DataFrame'>\n",
      "RangeIndex: 5812 entries, 0 to 5811\n",
      "Columns: 111 entries, year to detailcm\n",
      "dtypes: float64(1), int64(18), object(92)\n",
      "memory usage: 4.9+ MB\n"
     ]
    }
   ],
   "source": [
    "df.info()"
   ]
  },
  {
   "cell_type": "markdown",
   "metadata": {},
   "source": [
    "Notar que NO existen valores perdidos (NaN)."
   ]
  },
  {
   "cell_type": "code",
   "execution_count": 12,
   "metadata": {},
   "outputs": [
    {
     "name": "stdout",
     "output_type": "stream",
     "text": [
      "<class 'pandas.core.frame.DataFrame'>\n",
      "RangeIndex: 6013 entries, 0 to 6012\n",
      "Columns: 111 entries, year to detailcm\n",
      "dtypes: int64(16), object(95)\n",
      "memory usage: 5.1+ MB\n"
     ]
    }
   ],
   "source": [
    "df_test.info()"
   ]
  },
  {
   "cell_type": "markdown",
   "metadata": {},
   "source": [
    "Ahora generamos los objetos de pandas de forma apropiada:"
   ]
  },
  {
   "cell_type": "code",
   "execution_count": 13,
   "metadata": {},
   "outputs": [
    {
     "name": "stdout",
     "output_type": "stream",
     "text": [
      "['perobs']\n",
      "[]\n"
     ]
    }
   ],
   "source": [
    "df, cat_att, num_att = pre_funcs.create_suitable_dataframe(df)\n",
    "df_test, cat_att_test, num_att_test = pre_funcs.create_suitable_dataframe(df_test)"
   ]
  },
  {
   "cell_type": "code",
   "execution_count": 14,
   "metadata": {
    "scrolled": true
   },
   "outputs": [
    {
     "data": {
      "text/html": [
       "<div>\n",
       "<style scoped>\n",
       "    .dataframe tbody tr th:only-of-type {\n",
       "        vertical-align: middle;\n",
       "    }\n",
       "\n",
       "    .dataframe tbody tr th {\n",
       "        vertical-align: top;\n",
       "    }\n",
       "\n",
       "    .dataframe thead th {\n",
       "        text-align: right;\n",
       "    }\n",
       "</style>\n",
       "<table border=\"1\" class=\"dataframe\">\n",
       "  <thead>\n",
       "    <tr style=\"text-align: right;\">\n",
       "      <th></th>\n",
       "      <th>recstat</th>\n",
       "      <th>inout</th>\n",
       "      <th>trhsloc</th>\n",
       "      <th>typeofid</th>\n",
       "      <th>explnstp</th>\n",
       "      <th>othpers</th>\n",
       "      <th>arstmade</th>\n",
       "      <th>sumissue</th>\n",
       "      <th>offunif</th>\n",
       "      <th>officrid</th>\n",
       "      <th>...</th>\n",
       "      <th>race</th>\n",
       "      <th>haircolr</th>\n",
       "      <th>eyecolor</th>\n",
       "      <th>build</th>\n",
       "      <th>city</th>\n",
       "      <th>sector</th>\n",
       "      <th>beat</th>\n",
       "      <th>post</th>\n",
       "      <th>month</th>\n",
       "      <th>meters</th>\n",
       "    </tr>\n",
       "  </thead>\n",
       "  <tbody>\n",
       "    <tr>\n",
       "      <th>0</th>\n",
       "      <td>A</td>\n",
       "      <td>O</td>\n",
       "      <td>P</td>\n",
       "      <td>P</td>\n",
       "      <td>Y</td>\n",
       "      <td>N</td>\n",
       "      <td>N</td>\n",
       "      <td>N</td>\n",
       "      <td>Y</td>\n",
       "      <td>N</td>\n",
       "      <td>...</td>\n",
       "      <td>B</td>\n",
       "      <td>BK</td>\n",
       "      <td>BR</td>\n",
       "      <td>M</td>\n",
       "      <td>BRONX</td>\n",
       "      <td>G</td>\n",
       "      <td>7</td>\n",
       "      <td></td>\n",
       "      <td>4</td>\n",
       "      <td>1.798320</td>\n",
       "    </tr>\n",
       "    <tr>\n",
       "      <th>2</th>\n",
       "      <td>1</td>\n",
       "      <td>O</td>\n",
       "      <td>P</td>\n",
       "      <td>V</td>\n",
       "      <td>Y</td>\n",
       "      <td>N</td>\n",
       "      <td>N</td>\n",
       "      <td>N</td>\n",
       "      <td>N</td>\n",
       "      <td>N</td>\n",
       "      <td>...</td>\n",
       "      <td>Q</td>\n",
       "      <td>BR</td>\n",
       "      <td>BR</td>\n",
       "      <td>M</td>\n",
       "      <td>BRONX</td>\n",
       "      <td>E</td>\n",
       "      <td>U</td>\n",
       "      <td></td>\n",
       "      <td>10</td>\n",
       "      <td>1.920240</td>\n",
       "    </tr>\n",
       "    <tr>\n",
       "      <th>3</th>\n",
       "      <td>A</td>\n",
       "      <td>O</td>\n",
       "      <td>P</td>\n",
       "      <td>P</td>\n",
       "      <td>Y</td>\n",
       "      <td>N</td>\n",
       "      <td>N</td>\n",
       "      <td>N</td>\n",
       "      <td>Y</td>\n",
       "      <td>N</td>\n",
       "      <td>...</td>\n",
       "      <td>B</td>\n",
       "      <td>BK</td>\n",
       "      <td>BR</td>\n",
       "      <td>T</td>\n",
       "      <td>BROOKLYN</td>\n",
       "      <td>J</td>\n",
       "      <td>4</td>\n",
       "      <td>35</td>\n",
       "      <td>12</td>\n",
       "      <td>1.676400</td>\n",
       "    </tr>\n",
       "    <tr>\n",
       "      <th>5</th>\n",
       "      <td>1</td>\n",
       "      <td>I</td>\n",
       "      <td>T</td>\n",
       "      <td>V</td>\n",
       "      <td>Y</td>\n",
       "      <td>N</td>\n",
       "      <td>N</td>\n",
       "      <td>N</td>\n",
       "      <td>N</td>\n",
       "      <td>Y</td>\n",
       "      <td>...</td>\n",
       "      <td>B</td>\n",
       "      <td>BK</td>\n",
       "      <td>BR</td>\n",
       "      <td>M</td>\n",
       "      <td>MANHATTAN</td>\n",
       "      <td>F</td>\n",
       "      <td>16</td>\n",
       "      <td></td>\n",
       "      <td>5</td>\n",
       "      <td>1.767840</td>\n",
       "    </tr>\n",
       "    <tr>\n",
       "      <th>6</th>\n",
       "      <td>1</td>\n",
       "      <td>O</td>\n",
       "      <td>P</td>\n",
       "      <td>P</td>\n",
       "      <td>Y</td>\n",
       "      <td>N</td>\n",
       "      <td>N</td>\n",
       "      <td>N</td>\n",
       "      <td>Y</td>\n",
       "      <td>N</td>\n",
       "      <td>...</td>\n",
       "      <td>B</td>\n",
       "      <td>BK</td>\n",
       "      <td>BR</td>\n",
       "      <td>T</td>\n",
       "      <td>BROOKLYN</td>\n",
       "      <td>N</td>\n",
       "      <td>U</td>\n",
       "      <td></td>\n",
       "      <td>11</td>\n",
       "      <td>1.557528</td>\n",
       "    </tr>\n",
       "    <tr>\n",
       "      <th>...</th>\n",
       "      <td>...</td>\n",
       "      <td>...</td>\n",
       "      <td>...</td>\n",
       "      <td>...</td>\n",
       "      <td>...</td>\n",
       "      <td>...</td>\n",
       "      <td>...</td>\n",
       "      <td>...</td>\n",
       "      <td>...</td>\n",
       "      <td>...</td>\n",
       "      <td>...</td>\n",
       "      <td>...</td>\n",
       "      <td>...</td>\n",
       "      <td>...</td>\n",
       "      <td>...</td>\n",
       "      <td>...</td>\n",
       "      <td>...</td>\n",
       "      <td>...</td>\n",
       "      <td>...</td>\n",
       "      <td>...</td>\n",
       "      <td>...</td>\n",
       "    </tr>\n",
       "    <tr>\n",
       "      <th>5806</th>\n",
       "      <td>A</td>\n",
       "      <td>O</td>\n",
       "      <td>P</td>\n",
       "      <td>V</td>\n",
       "      <td>Y</td>\n",
       "      <td>Y</td>\n",
       "      <td>N</td>\n",
       "      <td>N</td>\n",
       "      <td>Y</td>\n",
       "      <td>N</td>\n",
       "      <td>...</td>\n",
       "      <td>B</td>\n",
       "      <td>BK</td>\n",
       "      <td>BR</td>\n",
       "      <td>M</td>\n",
       "      <td>BRONX</td>\n",
       "      <td>N</td>\n",
       "      <td>U</td>\n",
       "      <td>3</td>\n",
       "      <td>5</td>\n",
       "      <td>1.554480</td>\n",
       "    </tr>\n",
       "    <tr>\n",
       "      <th>5808</th>\n",
       "      <td>A</td>\n",
       "      <td>O</td>\n",
       "      <td>P</td>\n",
       "      <td>P</td>\n",
       "      <td>Y</td>\n",
       "      <td>N</td>\n",
       "      <td>N</td>\n",
       "      <td>N</td>\n",
       "      <td>N</td>\n",
       "      <td>N</td>\n",
       "      <td>...</td>\n",
       "      <td>B</td>\n",
       "      <td>BK</td>\n",
       "      <td>BR</td>\n",
       "      <td>T</td>\n",
       "      <td>BROOKLYN</td>\n",
       "      <td>F</td>\n",
       "      <td>17</td>\n",
       "      <td></td>\n",
       "      <td>9</td>\n",
       "      <td>1.557528</td>\n",
       "    </tr>\n",
       "    <tr>\n",
       "      <th>5809</th>\n",
       "      <td>1</td>\n",
       "      <td>O</td>\n",
       "      <td>P</td>\n",
       "      <td>P</td>\n",
       "      <td>Y</td>\n",
       "      <td>N</td>\n",
       "      <td>N</td>\n",
       "      <td>N</td>\n",
       "      <td>Y</td>\n",
       "      <td>N</td>\n",
       "      <td>...</td>\n",
       "      <td>B</td>\n",
       "      <td>BK</td>\n",
       "      <td>BR</td>\n",
       "      <td>M</td>\n",
       "      <td>BROOKLYN</td>\n",
       "      <td>B</td>\n",
       "      <td>U</td>\n",
       "      <td></td>\n",
       "      <td>6</td>\n",
       "      <td>1.737360</td>\n",
       "    </tr>\n",
       "    <tr>\n",
       "      <th>5810</th>\n",
       "      <td>1</td>\n",
       "      <td>O</td>\n",
       "      <td>H</td>\n",
       "      <td>P</td>\n",
       "      <td>Y</td>\n",
       "      <td>N</td>\n",
       "      <td>Y</td>\n",
       "      <td>N</td>\n",
       "      <td>Y</td>\n",
       "      <td>N</td>\n",
       "      <td>...</td>\n",
       "      <td>B</td>\n",
       "      <td>BK</td>\n",
       "      <td>BR</td>\n",
       "      <td>T</td>\n",
       "      <td>BROOKLYN</td>\n",
       "      <td>A</td>\n",
       "      <td>10</td>\n",
       "      <td></td>\n",
       "      <td>3</td>\n",
       "      <td>1.767840</td>\n",
       "    </tr>\n",
       "    <tr>\n",
       "      <th>5811</th>\n",
       "      <td>1</td>\n",
       "      <td>O</td>\n",
       "      <td>H</td>\n",
       "      <td>P</td>\n",
       "      <td>Y</td>\n",
       "      <td>N</td>\n",
       "      <td>N</td>\n",
       "      <td>N</td>\n",
       "      <td>Y</td>\n",
       "      <td>N</td>\n",
       "      <td>...</td>\n",
       "      <td>U</td>\n",
       "      <td>BK</td>\n",
       "      <td>BR</td>\n",
       "      <td>M</td>\n",
       "      <td>MANHATTAN</td>\n",
       "      <td>D</td>\n",
       "      <td>U</td>\n",
       "      <td></td>\n",
       "      <td>5</td>\n",
       "      <td>1.828800</td>\n",
       "    </tr>\n",
       "  </tbody>\n",
       "</table>\n",
       "<p>4636 rows × 74 columns</p>\n",
       "</div>"
      ],
      "text/plain": [
       "     recstat inout trhsloc typeofid explnstp othpers arstmade sumissue  \\\n",
       "0          A     O       P        P        Y       N        N        N   \n",
       "2          1     O       P        V        Y       N        N        N   \n",
       "3          A     O       P        P        Y       N        N        N   \n",
       "5          1     I       T        V        Y       N        N        N   \n",
       "6          1     O       P        P        Y       N        N        N   \n",
       "...      ...   ...     ...      ...      ...     ...      ...      ...   \n",
       "5806       A     O       P        V        Y       Y        N        N   \n",
       "5808       A     O       P        P        Y       N        N        N   \n",
       "5809       1     O       P        P        Y       N        N        N   \n",
       "5810       1     O       H        P        Y       N        Y        N   \n",
       "5811       1     O       H        P        Y       N        N        N   \n",
       "\n",
       "     offunif officrid  ... race haircolr eyecolor build       city sector  \\\n",
       "0          Y        N  ...    B       BK       BR     M      BRONX      G   \n",
       "2          N        N  ...    Q       BR       BR     M      BRONX      E   \n",
       "3          Y        N  ...    B       BK       BR     T   BROOKLYN      J   \n",
       "5          N        Y  ...    B       BK       BR     M  MANHATTAN      F   \n",
       "6          Y        N  ...    B       BK       BR     T   BROOKLYN      N   \n",
       "...      ...      ...  ...  ...      ...      ...   ...        ...    ...   \n",
       "5806       Y        N  ...    B       BK       BR     M      BRONX      N   \n",
       "5808       N        N  ...    B       BK       BR     T   BROOKLYN      F   \n",
       "5809       Y        N  ...    B       BK       BR     M   BROOKLYN      B   \n",
       "5810       Y        N  ...    B       BK       BR     T   BROOKLYN      A   \n",
       "5811       Y        N  ...    U       BK       BR     M  MANHATTAN      D   \n",
       "\n",
       "     beat post month    meters  \n",
       "0       7          4  1.798320  \n",
       "2       U         10  1.920240  \n",
       "3       4   35    12  1.676400  \n",
       "5      16          5  1.767840  \n",
       "6       U         11  1.557528  \n",
       "...   ...  ...   ...       ...  \n",
       "5806    U    3     5  1.554480  \n",
       "5808   17          9  1.557528  \n",
       "5809    U          6  1.737360  \n",
       "5810   10          3  1.767840  \n",
       "5811    U          5  1.828800  \n",
       "\n",
       "[4636 rows x 74 columns]"
      ]
     },
     "execution_count": 14,
     "metadata": {},
     "output_type": "execute_result"
    }
   ],
   "source": [
    "df"
   ]
  },
  {
   "cell_type": "markdown",
   "metadata": {},
   "source": [
    "#### Análisis exploratorio tanto para atributos contínuos como discretos."
   ]
  },
  {
   "cell_type": "markdown",
   "metadata": {},
   "source": [
    "##### → set de datos 2009"
   ]
  },
  {
   "cell_type": "code",
   "execution_count": 15,
   "metadata": {},
   "outputs": [
    {
     "data": {
      "image/png": "[encoded data removed]",
      "text/plain": [
       "<Figure size 1080x1440 with 74 Axes>"
      ]
     },
     "metadata": {
      "needs_background": "light"
     },
     "output_type": "display_data"
    }
   ],
   "source": [
    "plt.figure(figsize = (15, 20))\n",
    "funcs.plot_describe_variables(df, 15, 5)"
   ]
  },
  {
   "cell_type": "markdown",
   "metadata": {},
   "source": [
    "Dado el gráfico de distribuciones se procede a eliminar columnas que no generan ningun aporte al estudio:\n",
    "\n",
    "* `asltweap`\n",
    "* `post`\n",
    "* `beat`\n",
    "* `meters`"
   ]
  },
  {
   "cell_type": "markdown",
   "metadata": {},
   "source": [
    "→ set de datos 2010"
   ]
  },
  {
   "cell_type": "code",
   "execution_count": 16,
   "metadata": {},
   "outputs": [
    {
     "data": {
      "image/png": "[encoded data removed]",
      "text/plain": [
       "<Figure size 1080x1440 with 77 Axes>"
      ]
     },
     "metadata": {
      "needs_background": "light"
     },
     "output_type": "display_data"
    }
   ],
   "source": [
    "plt.figure(figsize = (15, 20))\n",
    "funcs.plot_describe_variables(df_test, 15, 6)"
   ]
  },
  {
   "cell_type": "markdown",
   "metadata": {},
   "source": [
    "Dado el gráfico de distribuciones se procede a eliminar columnas que no generan ningun aporte al estudio:\n",
    "\n",
    "* `addrpct`\n",
    "* `beat`\n",
    "* `dettypcm`\n",
    "* `linecm`\n",
    "* `detailcm`\n",
    "* `meters`\n",
    "* `addrtyp`"
   ]
  },
  {
   "cell_type": "code",
   "execution_count": 17,
   "metadata": {},
   "outputs": [],
   "source": [
    "df = df.drop(columns = ['asltweap','post', 'beat', 'meters'])\n",
    "df_test = df_test.drop(columns = ['addrpct', 'beat', 'dettypcm',\n",
    "                                  'linecm', 'detailcm', 'meters','addrtyp'])"
   ]
  },
  {
   "cell_type": "code",
   "execution_count": 18,
   "metadata": {},
   "outputs": [],
   "source": [
    "def plot_importance(fit_model, feat_names):\n",
    "    \"\"\"Plots attributes in terms of statistical importance.\"\"\"\n",
    "    tmp_importance = fit_model.best_estimator_.feature_importances_ # para acceder a features importantes\n",
    "    sort_importance = np.argsort(tmp_importance)[::-1]\n",
    "    names = [feat_names[i] for i in sort_importance]\n",
    "    plt.title(\"Feature importance\")\n",
    "    plt.barh(names[:20], tmp_importance[sort_importance][:20])\n",
    "    plt.yticks(names[:20], names, rotation = 0)"
   ]
  },
  {
   "cell_type": "markdown",
   "metadata": {},
   "source": [
    "A continuación binarizamos el dataset 2009 y 2010:"
   ]
  },
  {
   "cell_type": "code",
   "execution_count": 19,
   "metadata": {},
   "outputs": [],
   "source": [
    "df = funcs.binarize_object(df)\n",
    "df_test = funcs.binarize_object_wmin(df_test)\n",
    "\n",
    "df = df.rename(columns = {\"city_STATEN ISLAND\": \"city_STATEN_ISLAND\"})"
   ]
  },
  {
   "cell_type": "code",
   "execution_count": 20,
   "metadata": {},
   "outputs": [],
   "source": [
    "col_df = df.columns.tolist()\n",
    "col_df_test = df_test.columns.tolist()\n",
    "col_to_del = []\n",
    "\n",
    "for i in range(len(col_df_test)):\n",
    "    if col_df_test[i] not in col_df:\n",
    "        col_to_del.append(col_df_test[i])"
   ]
  },
  {
   "cell_type": "code",
   "execution_count": 21,
   "metadata": {},
   "outputs": [],
   "source": [
    "df = df.drop(columns = ['trhsloc_U','haircolr_SN','city_STATEN_ISLAND'])\n",
    "df_test = df_test.drop(columns = col_to_del)"
   ]
  },
  {
   "cell_type": "code",
   "execution_count": 22,
   "metadata": {},
   "outputs": [
    {
     "data": {
      "text/plain": [
       "(4636, 117)"
      ]
     },
     "execution_count": 22,
     "metadata": {},
     "output_type": "execute_result"
    }
   ],
   "source": [
    "df.shape"
   ]
  },
  {
   "cell_type": "code",
   "execution_count": 23,
   "metadata": {},
   "outputs": [
    {
     "data": {
      "text/plain": [
       "(4747, 117)"
      ]
     },
     "execution_count": 23,
     "metadata": {},
     "output_type": "execute_result"
    }
   ],
   "source": [
    "df_test.shape"
   ]
  },
  {
   "cell_type": "markdown",
   "metadata": {},
   "source": [
    "# Hito 3: Modelación y evaluación de rendimiento"
   ]
  },
  {
   "cell_type": "markdown",
   "metadata": {},
   "source": [
    "## Primer vector objetivo - Si existe arresto o no\n",
    "* vector objetivo: arstmade_Y"
   ]
  },
  {
   "cell_type": "code",
   "execution_count": 24,
   "metadata": {},
   "outputs": [],
   "source": [
    "X_train = df.drop(columns='arstmade_Y') # se saca el vector objetivo\n",
    "y_train = df['arstmade_Y']\n",
    "X_test  = df_test.drop(columns='arstmade_Y') # se saca el vector objetivo\n",
    "y_test  = df_test['arstmade_Y']\n",
    "\n",
    "# Reordenamos para que queden las mismas columnas en el mismo orden\n",
    "\n",
    "X_test = X_test.reindex(sorted(X_train.columns), axis=1)\n",
    "X_train = X_train.reindex(sorted(X_train.columns), axis=1)"
   ]
  },
  {
   "cell_type": "markdown",
   "metadata": {},
   "source": [
    "## Modelos "
   ]
  },
  {
   "cell_type": "markdown",
   "metadata": {},
   "source": [
    "### Gradient Boosting Classifier"
   ]
  },
  {
   "cell_type": "markdown",
   "metadata": {},
   "source": [
    "```python\n",
    "gradient_params = {\n",
    "    'learning_rate': [0.01, 0.1,0.5],\n",
    "    'n_estimators': [50, 100, 500, 1000, 2000],\n",
    "    'subsample': [0.1,0.5,0.9]\n",
    "}\n",
    "\n",
    "grad_model_2009 = GridSearchCV(GradientBoostingClassifier(), gradient_params, cv=4).fit(X_train, y_train)\n",
    "```"
   ]
  },
  {
   "cell_type": "code",
   "execution_count": 25,
   "metadata": {},
   "outputs": [],
   "source": [
    "# pickle.dump(grad_model_2009, open('gradmodel_2009_arstmade.sav','wb')) \n",
    "grad_model_2009 = pickle.load(open('final_models/gradmodel_2009_arstmade.sav', 'rb'))\n",
    "model_list = []\n",
    "model_list.append(grad_model_2009)"
   ]
  },
  {
   "cell_type": "markdown",
   "metadata": {},
   "source": [
    "Los mejores hiperparámetros para `GradientBoostingClassifier` están dados por:"
   ]
  },
  {
   "cell_type": "code",
   "execution_count": 26,
   "metadata": {},
   "outputs": [
    {
     "name": "stdout",
     "output_type": "stream",
     "text": [
      "{'learning_rate': 0.01, 'n_estimators': 500, 'subsample': 0.9}\n"
     ]
    }
   ],
   "source": [
    "print(grad_model_2009.best_params_)"
   ]
  },
  {
   "cell_type": "markdown",
   "metadata": {},
   "source": [
    "El desempeño de `GradientBoostingClassifer` utilizando mejor combinación de hiperparámetros está dada por:"
   ]
  },
  {
   "cell_type": "code",
   "execution_count": 27,
   "metadata": {},
   "outputs": [],
   "source": [
    "pred_gradient = grad_model_2009.best_estimator_.predict(X_test)"
   ]
  },
  {
   "cell_type": "code",
   "execution_count": 28,
   "metadata": {
    "scrolled": true
   },
   "outputs": [
    {
     "name": "stdout",
     "output_type": "stream",
     "text": [
      "              precision    recall  f1-score   support\n",
      "\n",
      "           0       0.97      0.99      0.98      4438\n",
      "           1       0.85      0.63      0.72       309\n",
      "\n",
      "    accuracy                           0.97      4747\n",
      "   macro avg       0.91      0.81      0.85      4747\n",
      "weighted avg       0.97      0.97      0.97      4747\n",
      "\n"
     ]
    }
   ],
   "source": [
    "print(classification_report(y_test, pred_gradient))"
   ]
  },
  {
   "cell_type": "markdown",
   "metadata": {},
   "source": [
    "Luego, podemos graficar los principales factores asociados al arresto:"
   ]
  },
  {
   "cell_type": "code",
   "execution_count": 29,
   "metadata": {},
   "outputs": [
    {
     "data": {
      "image/png": "[encoded data removed]",
      "text/plain": [
       "<Figure size 720x720 with 1 Axes>"
      ]
     },
     "metadata": {
      "needs_background": "light"
     },
     "output_type": "display_data"
    }
   ],
   "source": [
    "plt.rcParams['figure.figsize'] = 10, 10\n",
    "plot_importance(grad_model_2009, X_test.columns)"
   ]
  },
  {
   "cell_type": "markdown",
   "metadata": {},
   "source": [
    "Con ello, los atributos que aumentan de mayor manera la probabilidad de arresto son:\n",
    "\n",
    "* `sb_other_Y`: BASIS OF SEARCH - OTHER → En qué se basan para investigar.\n",
    "* `pf_hcuff_Y`: PHYSICAL FORCE - HANDCUFF → Existió fuerza física con uso de esposas.\n",
    "* `contrabn_Y`: WAS CONTRABAND FOUND ON SUSPECT? → Si el sospechoso portaba ítemes de contrabando."
   ]
  },
  {
   "cell_type": "markdown",
   "metadata": {},
   "source": [
    "### Probabilidad de arresto segun barrio, raza y sexo"
   ]
  },
  {
   "cell_type": "code",
   "execution_count": 30,
   "metadata": {},
   "outputs": [],
   "source": [
    "# generamos las PREDICCIONES DE PROBABILIDAD para un arresto\n",
    "pred_proba_arstmade = grad_model_2009.best_estimator_.predict_proba(X_test)\n",
    "df[\"prob\"] = pd.Series(pred_proba_arstmade[:, 1])\n",
    "\n",
    "states_pr = df.groupby(by = [\"city_BROOKLYN\",\"city_MANHATTAN\",\"city_QUEENS\",\n",
    "                                  \"sex_M\",\"sex_Z\",\n",
    "                                  \"race_B\",\"race_I\",\"race_P\",\"race_Q\",\"race_U\",\n",
    "                                  \"race_W\",\"race_Z\"]).mean()\n",
    "\n",
    "prob_df = pd.DataFrame(states_pr.loc[:, \"prob\"].sort_values(ascending = False))\n"
   ]
  },
  {
   "cell_type": "code",
   "execution_count": 31,
   "metadata": {},
   "outputs": [
    {
     "data": {
      "text/html": [
       "<div>\n",
       "<style scoped>\n",
       "    .dataframe tbody tr th:only-of-type {\n",
       "        vertical-align: middle;\n",
       "    }\n",
       "\n",
       "    .dataframe tbody tr th {\n",
       "        vertical-align: top;\n",
       "    }\n",
       "\n",
       "    .dataframe thead tr th {\n",
       "        text-align: left;\n",
       "    }\n",
       "</style>\n",
       "<table border=\"1\" class=\"dataframe\">\n",
       "  <thead>\n",
       "    <tr>\n",
       "      <th>city_BROOKLYN</th>\n",
       "      <th colspan=\"2\" halign=\"left\">0</th>\n",
       "      <th colspan=\"2\" halign=\"left\">1</th>\n",
       "      <th colspan=\"2\" halign=\"left\">0</th>\n",
       "      <th>1</th>\n",
       "      <th colspan=\"5\" halign=\"left\">0</th>\n",
       "      <th>1</th>\n",
       "      <th>0</th>\n",
       "      <th>1</th>\n",
       "      <th colspan=\"2\" halign=\"left\">0</th>\n",
       "      <th>1</th>\n",
       "      <th colspan=\"2\" halign=\"left\">0</th>\n",
       "      <th>1</th>\n",
       "    </tr>\n",
       "    <tr>\n",
       "      <th>city_MANHATTAN</th>\n",
       "      <th colspan=\"2\" halign=\"left\">0</th>\n",
       "      <th colspan=\"2\" halign=\"left\">0</th>\n",
       "      <th colspan=\"2\" halign=\"left\">0</th>\n",
       "      <th>0</th>\n",
       "      <th>1</th>\n",
       "      <th colspan=\"4\" halign=\"left\">0</th>\n",
       "      <th>0</th>\n",
       "      <th>0</th>\n",
       "      <th>0</th>\n",
       "      <th colspan=\"2\" halign=\"left\">0</th>\n",
       "      <th>0</th>\n",
       "      <th colspan=\"2\" halign=\"left\">1</th>\n",
       "      <th>0</th>\n",
       "    </tr>\n",
       "    <tr>\n",
       "      <th>city_QUEENS</th>\n",
       "      <th colspan=\"2\" halign=\"left\">0</th>\n",
       "      <th colspan=\"2\" halign=\"left\">0</th>\n",
       "      <th colspan=\"2\" halign=\"left\">1</th>\n",
       "      <th>0</th>\n",
       "      <th>0</th>\n",
       "      <th>1</th>\n",
       "      <th colspan=\"3\" halign=\"left\">0</th>\n",
       "      <th>0</th>\n",
       "      <th>0</th>\n",
       "      <th>0</th>\n",
       "      <th>1</th>\n",
       "      <th>0</th>\n",
       "      <th>0</th>\n",
       "      <th colspan=\"2\" halign=\"left\">0</th>\n",
       "      <th>0</th>\n",
       "    </tr>\n",
       "    <tr>\n",
       "      <th>sex_M</th>\n",
       "      <th colspan=\"2\" halign=\"left\">0</th>\n",
       "      <th colspan=\"2\" halign=\"left\">0</th>\n",
       "      <th colspan=\"2\" halign=\"left\">0</th>\n",
       "      <th>1</th>\n",
       "      <th>1</th>\n",
       "      <th>0</th>\n",
       "      <th colspan=\"3\" halign=\"left\">0</th>\n",
       "      <th>1</th>\n",
       "      <th>0</th>\n",
       "      <th>0</th>\n",
       "      <th>0</th>\n",
       "      <th>0</th>\n",
       "      <th>0</th>\n",
       "      <th colspan=\"2\" halign=\"left\">0</th>\n",
       "      <th>0</th>\n",
       "    </tr>\n",
       "    <tr>\n",
       "      <th>sex_Z</th>\n",
       "      <th colspan=\"2\" halign=\"left\">1</th>\n",
       "      <th colspan=\"2\" halign=\"left\">0</th>\n",
       "      <th>1</th>\n",
       "      <th>0</th>\n",
       "      <th>0</th>\n",
       "      <th>0</th>\n",
       "      <th>0</th>\n",
       "      <th colspan=\"3\" halign=\"left\">1</th>\n",
       "      <th>0</th>\n",
       "      <th>0</th>\n",
       "      <th>0</th>\n",
       "      <th>1</th>\n",
       "      <th>0</th>\n",
       "      <th>1</th>\n",
       "      <th>0</th>\n",
       "      <th>1</th>\n",
       "      <th>0</th>\n",
       "    </tr>\n",
       "    <tr>\n",
       "      <th>race_B</th>\n",
       "      <th>1</th>\n",
       "      <th>0</th>\n",
       "      <th colspan=\"2\" halign=\"left\">0</th>\n",
       "      <th>1</th>\n",
       "      <th>0</th>\n",
       "      <th>0</th>\n",
       "      <th>0</th>\n",
       "      <th>0</th>\n",
       "      <th colspan=\"3\" halign=\"left\">0</th>\n",
       "      <th>0</th>\n",
       "      <th>0</th>\n",
       "      <th>0</th>\n",
       "      <th>0</th>\n",
       "      <th>0</th>\n",
       "      <th>1</th>\n",
       "      <th>0</th>\n",
       "      <th>0</th>\n",
       "      <th>0</th>\n",
       "    </tr>\n",
       "    <tr>\n",
       "      <th>race_I</th>\n",
       "      <th>0</th>\n",
       "      <th>0</th>\n",
       "      <th>1</th>\n",
       "      <th>0</th>\n",
       "      <th>0</th>\n",
       "      <th>0</th>\n",
       "      <th>0</th>\n",
       "      <th>0</th>\n",
       "      <th>0</th>\n",
       "      <th colspan=\"3\" halign=\"left\">0</th>\n",
       "      <th>0</th>\n",
       "      <th>0</th>\n",
       "      <th>0</th>\n",
       "      <th>0</th>\n",
       "      <th>0</th>\n",
       "      <th>0</th>\n",
       "      <th>0</th>\n",
       "      <th>0</th>\n",
       "      <th>0</th>\n",
       "    </tr>\n",
       "    <tr>\n",
       "      <th>race_P</th>\n",
       "      <th>0</th>\n",
       "      <th>1</th>\n",
       "      <th>0</th>\n",
       "      <th>0</th>\n",
       "      <th>0</th>\n",
       "      <th>0</th>\n",
       "      <th>0</th>\n",
       "      <th>0</th>\n",
       "      <th>0</th>\n",
       "      <th colspan=\"3\" halign=\"left\">0</th>\n",
       "      <th>0</th>\n",
       "      <th>0</th>\n",
       "      <th>0</th>\n",
       "      <th>0</th>\n",
       "      <th>1</th>\n",
       "      <th>0</th>\n",
       "      <th>1</th>\n",
       "      <th>0</th>\n",
       "      <th>1</th>\n",
       "    </tr>\n",
       "    <tr>\n",
       "      <th>race_Q</th>\n",
       "      <th>0</th>\n",
       "      <th>0</th>\n",
       "      <th>0</th>\n",
       "      <th>1</th>\n",
       "      <th>0</th>\n",
       "      <th>1</th>\n",
       "      <th>0</th>\n",
       "      <th>0</th>\n",
       "      <th>0</th>\n",
       "      <th>1</th>\n",
       "      <th>...</th>\n",
       "      <th>0</th>\n",
       "      <th>0</th>\n",
       "      <th>0</th>\n",
       "      <th>0</th>\n",
       "      <th>0</th>\n",
       "      <th>0</th>\n",
       "      <th>0</th>\n",
       "      <th>0</th>\n",
       "      <th>1</th>\n",
       "      <th>0</th>\n",
       "    </tr>\n",
       "    <tr>\n",
       "      <th>race_U</th>\n",
       "      <th>0</th>\n",
       "      <th>0</th>\n",
       "      <th>0</th>\n",
       "      <th>0</th>\n",
       "      <th>0</th>\n",
       "      <th>0</th>\n",
       "      <th>0</th>\n",
       "      <th>0</th>\n",
       "      <th>0</th>\n",
       "      <th>0</th>\n",
       "      <th>...</th>\n",
       "      <th>1</th>\n",
       "      <th>1</th>\n",
       "      <th>0</th>\n",
       "      <th>0</th>\n",
       "      <th>0</th>\n",
       "      <th>0</th>\n",
       "      <th>0</th>\n",
       "      <th>0</th>\n",
       "      <th>0</th>\n",
       "      <th>0</th>\n",
       "    </tr>\n",
       "    <tr>\n",
       "      <th>race_W</th>\n",
       "      <th>0</th>\n",
       "      <th>0</th>\n",
       "      <th>0</th>\n",
       "      <th>0</th>\n",
       "      <th>0</th>\n",
       "      <th>0</th>\n",
       "      <th>0</th>\n",
       "      <th>0</th>\n",
       "      <th>1</th>\n",
       "      <th>0</th>\n",
       "      <th>...</th>\n",
       "      <th>0</th>\n",
       "      <th>0</th>\n",
       "      <th>0</th>\n",
       "      <th>0</th>\n",
       "      <th>0</th>\n",
       "      <th>0</th>\n",
       "      <th>0</th>\n",
       "      <th>0</th>\n",
       "      <th>0</th>\n",
       "      <th>0</th>\n",
       "    </tr>\n",
       "    <tr>\n",
       "      <th>race_Z</th>\n",
       "      <th>0</th>\n",
       "      <th>0</th>\n",
       "      <th>0</th>\n",
       "      <th>0</th>\n",
       "      <th>0</th>\n",
       "      <th>0</th>\n",
       "      <th>1</th>\n",
       "      <th>1</th>\n",
       "      <th>0</th>\n",
       "      <th>0</th>\n",
       "      <th>...</th>\n",
       "      <th>0</th>\n",
       "      <th>0</th>\n",
       "      <th>1</th>\n",
       "      <th>1</th>\n",
       "      <th>1</th>\n",
       "      <th>0</th>\n",
       "      <th>0</th>\n",
       "      <th>0</th>\n",
       "      <th>0</th>\n",
       "      <th>0</th>\n",
       "    </tr>\n",
       "  </thead>\n",
       "  <tbody>\n",
       "    <tr>\n",
       "      <th>prob</th>\n",
       "      <td>0.846055</td>\n",
       "      <td>0.333986</td>\n",
       "      <td>0.258687</td>\n",
       "      <td>0.217591</td>\n",
       "      <td>0.212883</td>\n",
       "      <td>0.205058</td>\n",
       "      <td>0.185195</td>\n",
       "      <td>0.172898</td>\n",
       "      <td>0.172428</td>\n",
       "      <td>0.167712</td>\n",
       "      <td>...</td>\n",
       "      <td>0.015152</td>\n",
       "      <td>0.015139</td>\n",
       "      <td>0.014611</td>\n",
       "      <td>0.014346</td>\n",
       "      <td>0.014333</td>\n",
       "      <td>0.014269</td>\n",
       "      <td>0.014141</td>\n",
       "      <td>0.013775</td>\n",
       "      <td>0.012857</td>\n",
       "      <td>0.0126</td>\n",
       "    </tr>\n",
       "  </tbody>\n",
       "</table>\n",
       "<p>1 rows × 73 columns</p>\n",
       "</div>"
      ],
      "text/plain": [
       "city_BROOKLYN          0                   1                   0            \\\n",
       "city_MANHATTAN         0                   0                   0             \n",
       "city_QUEENS            0                   0                   1             \n",
       "sex_M                  0                   0                   0             \n",
       "sex_Z                  1                   0                   1         0   \n",
       "race_B                 1         0         0                   1         0   \n",
       "race_I                 0         0         1         0         0         0   \n",
       "race_P                 0         1         0         0         0         0   \n",
       "race_Q                 0         0         0         1         0         1   \n",
       "race_U                 0         0         0         0         0         0   \n",
       "race_W                 0         0         0         0         0         0   \n",
       "race_Z                 0         0         0         0         0         0   \n",
       "prob            0.846055  0.333986  0.258687  0.217591  0.212883  0.205058   \n",
       "\n",
       "city_BROOKLYN          1         0                      ...            \\\n",
       "city_MANHATTAN         0         1         0            ...             \n",
       "city_QUEENS            0         0         1         0  ...             \n",
       "sex_M                  1         1         0         0  ...             \n",
       "sex_Z                  0         0         0         1  ...             \n",
       "race_B                 0         0         0         0  ...             \n",
       "race_I                 0         0         0         0  ...             \n",
       "race_P                 0         0         0         0  ...             \n",
       "race_Q                 0         0         0         1  ...         0   \n",
       "race_U                 0         0         0         0  ...         1   \n",
       "race_W                 0         0         1         0  ...         0   \n",
       "race_Z                 1         1         0         0  ...         0   \n",
       "prob            0.185195  0.172898  0.172428  0.167712  ...  0.015152   \n",
       "\n",
       "city_BROOKLYN          1         0         1         0                   1  \\\n",
       "city_MANHATTAN         0         0         0         0                   0   \n",
       "city_QUEENS            0         0         0         1         0         0   \n",
       "sex_M                  1         0         0         0         0         0   \n",
       "sex_Z                  0         0         0         1         0         1   \n",
       "race_B                 0         0         0         0         0         1   \n",
       "race_I                 0         0         0         0         0         0   \n",
       "race_P                 0         0         0         0         1         0   \n",
       "race_Q                 0         0         0         0         0         0   \n",
       "race_U                 1         0         0         0         0         0   \n",
       "race_W                 0         0         0         0         0         0   \n",
       "race_Z                 0         1         1         1         0         0   \n",
       "prob            0.015139  0.014611  0.014346  0.014333  0.014269  0.014141   \n",
       "\n",
       "city_BROOKLYN          0                 1  \n",
       "city_MANHATTAN         1                 0  \n",
       "city_QUEENS            0                 0  \n",
       "sex_M                  0                 0  \n",
       "sex_Z                  0         1       0  \n",
       "race_B                 0         0       0  \n",
       "race_I                 0         0       0  \n",
       "race_P                 1         0       1  \n",
       "race_Q                 0         1       0  \n",
       "race_U                 0         0       0  \n",
       "race_W                 0         0       0  \n",
       "race_Z                 0         0       0  \n",
       "prob            0.013775  0.012857  0.0126  \n",
       "\n",
       "[1 rows x 73 columns]"
      ]
     },
     "execution_count": 31,
     "metadata": {},
     "output_type": "execute_result"
    }
   ],
   "source": [
    "prob_df.T.head()"
   ]
  },
  {
   "cell_type": "markdown",
   "metadata": {},
   "source": [
    "### Adaptive Boosting Classifier"
   ]
  },
  {
   "cell_type": "markdown",
   "metadata": {},
   "source": [
    "```python\n",
    "ada_params = {\n",
    "    'learning_rate': [0.01, 0.1, 0.5],\n",
    "    'n_estimators': [50, 100, 500, 1000, 2000]\n",
    "}\n",
    "\n",
    "ada_model_2009 = GridSearchCV(AdaBoostClassifier(random_state=63), ada_params, cv=4).fit(X_train, y_train)\n",
    "```"
   ]
  },
  {
   "cell_type": "code",
   "execution_count": 32,
   "metadata": {},
   "outputs": [],
   "source": [
    "# pickle.dump(ada_model_2009, open('adamodel_2009_arstmade.sav','wb')) \n",
    "ada_model_2009 = pickle.load(open('adamodel_2009_arstmade.sav', 'rb'))\n",
    "model_list.append(ada_model_2009)"
   ]
  },
  {
   "cell_type": "markdown",
   "metadata": {},
   "source": [
    "Los mejores hiperparámetros para para `AdaBoostClassifier` están dados por:"
   ]
  },
  {
   "cell_type": "code",
   "execution_count": 33,
   "metadata": {},
   "outputs": [
    {
     "name": "stdout",
     "output_type": "stream",
     "text": [
      "{'learning_rate': 0.1, 'n_estimators': 500}\n"
     ]
    }
   ],
   "source": [
    "print(ada_model_2009.best_params_)"
   ]
  },
  {
   "cell_type": "markdown",
   "metadata": {},
   "source": [
    "El desempeño de `AdaBoostClassifier` utilizando mejor combinación de hiperparámetros está dada por:"
   ]
  },
  {
   "cell_type": "code",
   "execution_count": 34,
   "metadata": {},
   "outputs": [
    {
     "name": "stdout",
     "output_type": "stream",
     "text": [
      "              precision    recall  f1-score   support\n",
      "\n",
      "           0       0.97      0.99      0.98      4438\n",
      "           1       0.86      0.55      0.67       309\n",
      "\n",
      "    accuracy                           0.96      4747\n",
      "   macro avg       0.92      0.77      0.83      4747\n",
      "weighted avg       0.96      0.96      0.96      4747\n",
      "\n"
     ]
    }
   ],
   "source": [
    "print(classification_report(y_test, ada_model_2009.best_estimator_.predict(X_test)))"
   ]
  },
  {
   "cell_type": "markdown",
   "metadata": {},
   "source": [
    "### Decision Tree Classifier"
   ]
  },
  {
   "cell_type": "markdown",
   "metadata": {},
   "source": [
    "```python\n",
    "dec_tree_params = {\n",
    "    'min_samples_split' : range(10,500,20),\n",
    "    'max_depth': range(1,20,2)}\n",
    "\n",
    "dec_tree_model = GridSearchCV(DecisionTreeClassifier(),dec_tree_params).fit(X_train, y_train)\n",
    "```"
   ]
  },
  {
   "cell_type": "code",
   "execution_count": 35,
   "metadata": {},
   "outputs": [],
   "source": [
    "# pickle.dump(dec_tree_model, open('dectree_2009_arstmade.sav','wb')) \n",
    "dec_tree_model = pickle.load(open('dectree_2009_arstmade.sav', 'rb'))\n",
    "model_list.append(dec_tree_model)"
   ]
  },
  {
   "cell_type": "markdown",
   "metadata": {},
   "source": [
    "Los mejores hiperparámetros para para `DecisionTreeClassifier` están dados por:"
   ]
  },
  {
   "cell_type": "code",
   "execution_count": 36,
   "metadata": {},
   "outputs": [
    {
     "name": "stdout",
     "output_type": "stream",
     "text": [
      "{'max_depth': 3, 'min_samples_split': 10}\n"
     ]
    }
   ],
   "source": [
    "print(dec_tree_model.best_params_)"
   ]
  },
  {
   "cell_type": "markdown",
   "metadata": {},
   "source": [
    "El desempeño de `DecisionTreeClassifier` utilizando mejor combinación de hiperparámetros está dada por:"
   ]
  },
  {
   "cell_type": "code",
   "execution_count": 37,
   "metadata": {},
   "outputs": [
    {
     "name": "stdout",
     "output_type": "stream",
     "text": [
      "              precision    recall  f1-score   support\n",
      "\n",
      "           0       0.97      0.99      0.98      4438\n",
      "           1       0.86      0.53      0.65       309\n",
      "\n",
      "    accuracy                           0.96      4747\n",
      "   macro avg       0.91      0.76      0.82      4747\n",
      "weighted avg       0.96      0.96      0.96      4747\n",
      "\n"
     ]
    }
   ],
   "source": [
    "print(classification_report(y_test, dec_tree_model.best_estimator_.predict(X_test)))"
   ]
  },
  {
   "cell_type": "markdown",
   "metadata": {},
   "source": [
    "### SVC"
   ]
  },
  {
   "cell_type": "markdown",
   "metadata": {},
   "source": [
    "```python\n",
    "svc_params = {\n",
    "     'C': [0.0001, 0.001, 0.01, 0.1, 1, 10, 100, 1000],  # regularization parameter, l2 penalty\n",
    "     'gamma': [0.0000001, 0.0001, 0.001, 0.01, 0.1, 1, 10]  # kernel coefficient\n",
    " }\n",
    "\n",
    "svc_model = GridSearchCV(SVC(kernel = \"rbf\", probability = True),\n",
    "                         svc_params, \n",
    "                         cv = 4, return_train_score = True).fit(X_train, y_train)\n",
    "```"
   ]
  },
  {
   "cell_type": "code",
   "execution_count": 38,
   "metadata": {},
   "outputs": [],
   "source": [
    "# pickle.dump(svc_model, open('svc_2009_arstmade.sav','wb')) \n",
    "svc_model = pickle.load(open('final_models/svc_2009_arstmade.sav', 'rb'))\n",
    "model_list.append(svc_model)"
   ]
  },
  {
   "cell_type": "markdown",
   "metadata": {},
   "source": [
    "Los mejores hiperparámetros para para `SVC` están dados por:"
   ]
  },
  {
   "cell_type": "code",
   "execution_count": 39,
   "metadata": {},
   "outputs": [
    {
     "name": "stdout",
     "output_type": "stream",
     "text": [
      "{'C': 1000, 'gamma': 0.001}\n"
     ]
    }
   ],
   "source": [
    "print(svc_model.best_params_)"
   ]
  },
  {
   "cell_type": "markdown",
   "metadata": {},
   "source": [
    "El desempeño de `SVC` utilizando mejor combinación de hiperparámetros está dada por:"
   ]
  },
  {
   "cell_type": "code",
   "execution_count": 40,
   "metadata": {},
   "outputs": [
    {
     "name": "stdout",
     "output_type": "stream",
     "text": [
      "              precision    recall  f1-score   support\n",
      "\n",
      "           0       0.97      0.99      0.98      4438\n",
      "           1       0.83      0.63      0.72       309\n",
      "\n",
      "    accuracy                           0.97      4747\n",
      "   macro avg       0.90      0.81      0.85      4747\n",
      "weighted avg       0.97      0.97      0.97      4747\n",
      "\n"
     ]
    }
   ],
   "source": [
    "print(classification_report(y_test, svc_model.best_estimator_.predict(X_test)))"
   ]
  },
  {
   "cell_type": "markdown",
   "metadata": {},
   "source": [
    "### Logistic Regression"
   ]
  },
  {
   "cell_type": "markdown",
   "metadata": {},
   "source": [
    "```python\n",
    "log_params = {\n",
    "            \"C\":np.logspace(-3,3,7), # [0.001, 0.01, 0.1, 1.0, 10.0, 100.0, 1000.0]\n",
    "            \"penalty\":[\"l1\",\"l2\"] # l1 lasso l2 ridge\n",
    "            } \n",
    "\n",
    "log_model = GridSearchCV(LogisticRegression(),\n",
    "                         log_params, cv = 10).fit(X_train, y_train)\n",
    "```"
   ]
  },
  {
   "cell_type": "code",
   "execution_count": 41,
   "metadata": {},
   "outputs": [],
   "source": [
    "# pickle.dump(log_model, open('logmodel_2009_arstmade.sav','wb')) \n",
    "log_model = pickle.load(open('logmodel_2009_arstmade.sav', 'rb'))\n",
    "model_list.append(log_model)"
   ]
  },
  {
   "cell_type": "markdown",
   "metadata": {},
   "source": [
    "Los mejores hiperparámetros para para `LogisticRegression` están dados por:"
   ]
  },
  {
   "cell_type": "code",
   "execution_count": 42,
   "metadata": {},
   "outputs": [
    {
     "name": "stdout",
     "output_type": "stream",
     "text": [
      "{'C': 1.0, 'penalty': 'l2'}\n"
     ]
    }
   ],
   "source": [
    "print(log_model.best_params_)"
   ]
  },
  {
   "cell_type": "markdown",
   "metadata": {},
   "source": [
    "El desempeño de `LogisticRegression` utilizando mejor combinación de hiperparámetros está dada por:"
   ]
  },
  {
   "cell_type": "code",
   "execution_count": 43,
   "metadata": {},
   "outputs": [
    {
     "name": "stdout",
     "output_type": "stream",
     "text": [
      "              precision    recall  f1-score   support\n",
      "\n",
      "           0       0.97      0.99      0.98      4438\n",
      "           1       0.85      0.58      0.69       309\n",
      "\n",
      "    accuracy                           0.97      4747\n",
      "   macro avg       0.91      0.79      0.84      4747\n",
      "weighted avg       0.96      0.97      0.96      4747\n",
      "\n"
     ]
    }
   ],
   "source": [
    "print(classification_report(y_test, log_model.best_estimator_.predict(X_test)))"
   ]
  },
  {
   "cell_type": "markdown",
   "metadata": {},
   "source": [
    "### Curva ROC y su respectivo AUC (area bajo la curva) para cada modelo estudiado"
   ]
  },
  {
   "cell_type": "code",
   "execution_count": 44,
   "metadata": {},
   "outputs": [
    {
     "data": {
      "image/png": "[encoded data removed]",
      "text/plain": [
       "<Figure size 720x720 with 5 Axes>"
      ]
     },
     "metadata": {
      "needs_background": "light"
     },
     "output_type": "display_data"
    }
   ],
   "source": [
    "model_name = [\"GradientBoostingClassifier\", \"AdaptativeBoostingClassifier\",\n",
    "             \"DecisionTreeClassifier\", \"SVC\", \"LogisticRegression\"]\n",
    "for i in range(len(model_list)):\n",
    "    plt.subplot(2, 3, i + 1)\n",
    "    funcs.plot_roc_curve(model_list[i], y_test, X_test,model_name[i])"
   ]
  },
  {
   "cell_type": "markdown",
   "metadata": {},
   "source": [
    "### Reporte de metricas de desempeño para cada modelo estudiado: <br>\n",
    "| Modelo\\Metrica               | Precision        | Recall           | F1-score         | Accuracy |\n",
    "|------------------------------|------------------|------------------|------------------|----------|\n",
    "| GradientBoostingClassifier   | 0: .97<br>1: .85 | 0: .99<br>1: .63 | 0: .98<br>1: .72 | .97      |\n",
    "| AdaptativeBoostingClassifier | 0: .97<br>1: .86 | 0: .99<br>1: .55 | 0: .98<br>1: .67 | .96      |\n",
    "| DecisionTreeClassifier       | 0: .97<br>1: .86 | 0: .99<br>1: .53 | 0: .98<br>1: .65 | .96      |\n",
    "| SVC                          | 0: .97<br>1: .83 | 0: .99<br>1: .63 | 0: .98<br>1: .72 | .97      |\n",
    "| LogisticRegression           | 0: .97<br>1: .85 | 0: .99<br>1: .58 | 0: .98<br>1: .69 | .97      |\n",
    "\n",
    "<br>\n",
    "Dado que el accuracy para todos los modelos es el mismo o solo varia por centecimas se decide seleccionar al mejor modelo en base a su desempeño en la metrica F1-score para clasificar tanto 0 como 1, ademas del valor entregado por el area bajo la curva segun gráfico de curva ROC.\n",
    "\n",
    "Siguiendo lo ya mencionado, los 2 mejores modelos según su desempeño son:\n",
    "* `GradientBoostingClassifier`: \n",
    "    * F1-score -> 0: 0.98, 1: 0.72 \n",
    "    * AUC -> 0.90\n",
    "* `SVC`:\n",
    "    * F1-score -> 0: 0.98, 1: 0.72\n",
    "    * AUC -> 0.90"
   ]
  },
  {
   "cell_type": "markdown",
   "metadata": {},
   "source": [
    "## Generación del segundo vector objetivo - Si existió violencia o no: \n",
    "Para generar el vector objetivo se utilizarán como referencia los siguientes atributos: \n",
    "\n",
    "* `pf_hands`: PHYSICAL FORCE USED BY OFFICER - HANDS\n",
    "* `pf_wall`: PHYSICAL FORCE USED BY OFFICER - SUSPECT AGAINST WALL \n",
    "* `pf_grnd`: PHYSICAL FORCE USED BY OFFICER - SUSPECT ON GROUND\n",
    "* `pf_drwep`: PHYSICAL FORCE USED BY OFFICER - WEAPON DRAWN\n",
    "* `pf_ptwep`: PHYSICAL FORCE USED BY OFFICER - WEAPON POINTED \n",
    "* `pf_baton`: PHYSICAL FORCE USED BY OFFICER - BATON\n",
    "* `pf_hcuff`: PHYSICAL FORCE USED BY OFFICER - HANDCUFF\n",
    "* `pf_pepsp`: PHYSICAL FORCE USED BY OFFICER - PEPPER SPRAY \n",
    "* `pf_other`: PHYSICAL FORCE USED BY OFFICER - OTHER"
   ]
  },
  {
   "cell_type": "code",
   "execution_count": 45,
   "metadata": {},
   "outputs": [],
   "source": [
    "df_pf = df.loc[:,\"pf_hands_Y\":\"pf_other_Y\"]\n",
    "df_test_pf = df_test.loc[:, \"pf_hands_Y\":\"pf_other_Y\"]"
   ]
  },
  {
   "cell_type": "markdown",
   "metadata": {},
   "source": [
    "### Generación de segundo vector objetivo - Si ocurrió violencia si o no\n",
    "* `PF` -> Physical Force"
   ]
  },
  {
   "cell_type": "code",
   "execution_count": 46,
   "metadata": {},
   "outputs": [],
   "source": [
    "df[\"PF\"] = -1\n",
    "df_test[\"PF\"] = -1"
   ]
  },
  {
   "cell_type": "code",
   "execution_count": 47,
   "metadata": {},
   "outputs": [],
   "source": [
    "for i, row in df_pf.iterrows():\n",
    "    df[\"PF\"][i] = 1 if (row == 1).any() else 0\n",
    "    \n",
    "for i, row in df_test_pf.iterrows():\n",
    "    df_test[\"PF\"][i] = 1 if (row == 1).any() else 0"
   ]
  },
  {
   "cell_type": "code",
   "execution_count": 48,
   "metadata": {},
   "outputs": [
    {
     "data": {
      "text/plain": [
       "0    3500\n",
       "1    1136\n",
       "Name: PF, dtype: int64"
      ]
     },
     "execution_count": 48,
     "metadata": {},
     "output_type": "execute_result"
    }
   ],
   "source": [
    "df[\"PF\"].value_counts()"
   ]
  },
  {
   "cell_type": "code",
   "execution_count": 49,
   "metadata": {},
   "outputs": [
    {
     "data": {
      "text/plain": [
       "0    3639\n",
       "1    1108\n",
       "Name: PF, dtype: int64"
      ]
     },
     "execution_count": 49,
     "metadata": {},
     "output_type": "execute_result"
    }
   ],
   "source": [
    "df_test[\"PF\"].value_counts()"
   ]
  },
  {
   "cell_type": "code",
   "execution_count": 50,
   "metadata": {},
   "outputs": [],
   "source": [
    "cols = df_pf.columns.tolist()\n",
    "cols_test = df_test_pf.columns.tolist()"
   ]
  },
  {
   "cell_type": "markdown",
   "metadata": {},
   "source": [
    "Se eliminan las columnas que generaron el nuevo vector objetivo para evitar colinealidad."
   ]
  },
  {
   "cell_type": "code",
   "execution_count": 51,
   "metadata": {},
   "outputs": [],
   "source": [
    "df = df.drop(columns = cols)\n",
    "df_test = df_test.drop(columns = cols_test)"
   ]
  },
  {
   "cell_type": "markdown",
   "metadata": {},
   "source": [
    "## Modelos "
   ]
  },
  {
   "cell_type": "code",
   "execution_count": 52,
   "metadata": {},
   "outputs": [],
   "source": [
    "X_train = df.drop(columns=['prob','PF']) # se saca el vector objetivo\n",
    "y_train = df['PF']\n",
    "X_test  = df_test.drop(columns='PF') # se saca el vector objetivo\n",
    "y_test  = df_test['PF']\n",
    "\n",
    "# Reordenamos para que queden las mismas columnas en el mismo orden\n",
    "\n",
    "X_test = X_test.reindex(sorted(X_train.columns), axis=1)\n",
    "X_train = X_train.reindex(sorted(X_train.columns), axis=1)"
   ]
  },
  {
   "cell_type": "markdown",
   "metadata": {},
   "source": [
    "Dado que existe un desbalance de clases notorio, se decide utilizar tecnica de oversampling para mejorar el desempeño de los modelos al momento de clasificar.\n",
    "\n",
    "Esta estrategia consiste en incrementar los datos en la clase minoritaria."
   ]
  },
  {
   "cell_type": "code",
   "execution_count": 53,
   "metadata": {},
   "outputs": [],
   "source": [
    "oversampler = SMOTE(random_state = 63, sampling_strategy = \"minority\", ratio = \"minority\")\n",
    "X_train_oversamp, y_train_oversamp = oversampler.fit_sample(X_train, y_train)"
   ]
  },
  {
   "cell_type": "markdown",
   "metadata": {},
   "source": [
    "### Gradient Boosting Classifier"
   ]
  },
  {
   "cell_type": "markdown",
   "metadata": {},
   "source": [
    "```python\n",
    "gradient_params = {\n",
    "    'learning_rate': [0.01, 0.1,0.5],\n",
    "    'n_estimators': [50, 100, 500, 1000, 2000],\n",
    "    'subsample': [0.1,0.5,0.9]\n",
    "}\n",
    "\n",
    "grad_model_2009_PF = GridSearchCV(GradientBoostingClassifier(), gradient_params, cv=4).fit(X_train_oversamp, y_train_oversamp)\n",
    "```"
   ]
  },
  {
   "cell_type": "code",
   "execution_count": 54,
   "metadata": {},
   "outputs": [],
   "source": [
    "# pickle.dump(grad_model_2009_PF, open('gradmodel_2009_PF.sav','wb')) \n",
    "grad_model_2009_PF = pickle.load(open('final_models/gradmodel_2009_PF.sav', 'rb'))\n",
    "model_list_PF = []\n",
    "model_list_PF.append(grad_model_2009_PF)"
   ]
  },
  {
   "cell_type": "markdown",
   "metadata": {},
   "source": [
    "Los mejores hiperparámetros para para `GradientBoostingClassifier` están dados por:"
   ]
  },
  {
   "cell_type": "code",
   "execution_count": 55,
   "metadata": {},
   "outputs": [
    {
     "data": {
      "text/plain": [
       "{'learning_rate': 0.5, 'n_estimators': 1000, 'subsample': 0.9}"
      ]
     },
     "execution_count": 55,
     "metadata": {},
     "output_type": "execute_result"
    }
   ],
   "source": [
    "grad_model_2009_PF.best_params_"
   ]
  },
  {
   "cell_type": "markdown",
   "metadata": {},
   "source": [
    "El desempeño de `GradientBoostingClassifer` utilizando mejor combinación de hiperparámetros está dada por:"
   ]
  },
  {
   "cell_type": "code",
   "execution_count": 56,
   "metadata": {},
   "outputs": [
    {
     "name": "stdout",
     "output_type": "stream",
     "text": [
      "              precision    recall  f1-score   support\n",
      "\n",
      "           0       0.83      0.81      0.82      3639\n",
      "           1       0.42      0.45      0.43      1108\n",
      "\n",
      "    accuracy                           0.73      4747\n",
      "   macro avg       0.62      0.63      0.63      4747\n",
      "weighted avg       0.73      0.73      0.73      4747\n",
      "\n"
     ]
    }
   ],
   "source": [
    "print(classification_report(y_test, grad_model_2009_PF.best_estimator_.predict(X_test)))"
   ]
  },
  {
   "cell_type": "markdown",
   "metadata": {},
   "source": [
    "### Adaptative Boosting Classifier"
   ]
  },
  {
   "cell_type": "markdown",
   "metadata": {},
   "source": [
    "```python\n",
    "ada_params = {'learning_rate': [0.01, 0.1, 0.5],\n",
    "              'n_estimators': [50, 100, 500, 1000, 2000]}\n",
    "\n",
    "ada_model_2009_PF = GridSearchCV(AdaBoostClassifier(random_state = 63), ada_params,\n",
    "                             cv = 4).fit(X_train_oversamp, y_train_oversamp)\n",
    "```"
   ]
  },
  {
   "cell_type": "code",
   "execution_count": 57,
   "metadata": {},
   "outputs": [],
   "source": [
    "# pickle.dump(ada_model_2009_PF, open('adamodel_2009_PF.sav','wb')) \n",
    "ada_model_2009_PF = pickle.load(open(\"adamodel_2009_PF.sav\", 'rb'))\n",
    "model_list_PF.append(ada_model_2009_PF)"
   ]
  },
  {
   "cell_type": "markdown",
   "metadata": {},
   "source": [
    "Mejores hiperparametros para `AdaBoostClassifier`:"
   ]
  },
  {
   "cell_type": "code",
   "execution_count": 58,
   "metadata": {},
   "outputs": [
    {
     "data": {
      "text/plain": [
       "{'learning_rate': 0.5, 'n_estimators': 2000}"
      ]
     },
     "execution_count": 58,
     "metadata": {},
     "output_type": "execute_result"
    }
   ],
   "source": [
    "ada_model_2009_PF.best_params_"
   ]
  },
  {
   "cell_type": "markdown",
   "metadata": {},
   "source": [
    "Desempeño de `AdaBoostClassifier` utilizando mejor combinación de hiperparametros:"
   ]
  },
  {
   "cell_type": "code",
   "execution_count": 59,
   "metadata": {},
   "outputs": [
    {
     "name": "stdout",
     "output_type": "stream",
     "text": [
      "              precision    recall  f1-score   support\n",
      "\n",
      "           0       0.82      0.81      0.82      3639\n",
      "           1       0.40      0.42      0.41      1108\n",
      "\n",
      "    accuracy                           0.72      4747\n",
      "   macro avg       0.61      0.62      0.61      4747\n",
      "weighted avg       0.72      0.72      0.72      4747\n",
      "\n"
     ]
    }
   ],
   "source": [
    "print(classification_report(y_test, ada_model_2009_PF.best_estimator_.predict(X_test)))"
   ]
  },
  {
   "cell_type": "markdown",
   "metadata": {},
   "source": [
    "### Decision Tree Classifier"
   ]
  },
  {
   "cell_type": "markdown",
   "metadata": {},
   "source": [
    "```python\n",
    "dec_tree_params = {\n",
    "    'min_samples_split' : range(10,500,20),\n",
    "    'max_depth': range(1,20,2)}\n",
    "\n",
    "dec_tree_model_PF = GridSearchCV(DecisionTreeClassifier(),dec_tree_params).fit(X_train_oversamp, y_train_oversamp)\n",
    "```"
   ]
  },
  {
   "cell_type": "code",
   "execution_count": 60,
   "metadata": {},
   "outputs": [],
   "source": [
    "# pickle.dump(dec_tree_model_PF, open('dectreemodel_2009_PF.sav','wb')) \n",
    "dec_tree_model_PF = pickle.load(open(\"dectreemodel_2009_PF.sav\", 'rb'))\n",
    "model_list_PF.append(dec_tree_model_PF)"
   ]
  },
  {
   "cell_type": "markdown",
   "metadata": {},
   "source": [
    "Mejores hiperparametros para `DecisionTreeClassifier`:"
   ]
  },
  {
   "cell_type": "code",
   "execution_count": 61,
   "metadata": {},
   "outputs": [
    {
     "data": {
      "text/plain": [
       "{'max_depth': 19, 'min_samples_split': 30}"
      ]
     },
     "execution_count": 61,
     "metadata": {},
     "output_type": "execute_result"
    }
   ],
   "source": [
    "dec_tree_model_PF.best_params_"
   ]
  },
  {
   "cell_type": "markdown",
   "metadata": {},
   "source": [
    "Desempeño de `DecisionTreeClassifier` utilizando mejor combinación de hiperparametros:"
   ]
  },
  {
   "cell_type": "code",
   "execution_count": 62,
   "metadata": {},
   "outputs": [
    {
     "name": "stdout",
     "output_type": "stream",
     "text": [
      "              precision    recall  f1-score   support\n",
      "\n",
      "           0       0.84      0.76      0.79      3639\n",
      "           1       0.39      0.52      0.45      1108\n",
      "\n",
      "    accuracy                           0.70      4747\n",
      "   macro avg       0.61      0.64      0.62      4747\n",
      "weighted avg       0.73      0.70      0.71      4747\n",
      "\n"
     ]
    }
   ],
   "source": [
    "print(classification_report(y_test, dec_tree_model_PF.best_estimator_.predict(X_test)))"
   ]
  },
  {
   "cell_type": "markdown",
   "metadata": {},
   "source": [
    "### SVC "
   ]
  },
  {
   "cell_type": "markdown",
   "metadata": {},
   "source": [
    "```python\n",
    "svc_params = {\n",
    "     'C': [0.0001, 0.1, 100, 1000],  # regularization parameter, l2 penalty\n",
    "     'gamma': [0.0000001, 0.1, 1, 10]  # kernel coefficient\n",
    " }\n",
    "\n",
    "svc_model_PF = GridSearchCV(SVC(kernel = \"rbf\", probability = True),\n",
    "                         svc_params, \n",
    "                         cv = 5, return_train_score = True).fit(X_train_oversamp, y_train_oversamp)\n",
    "```"
   ]
  },
  {
   "cell_type": "code",
   "execution_count": 63,
   "metadata": {},
   "outputs": [],
   "source": [
    "# pickle.dump(svc_model_PF, open('svcmodel_2009_PF.sav','wb')) \n",
    "svc_model_PF = pickle.load(open(\"svcmodel_2009_PF.sav\", 'rb'))\n",
    "model_list_PF.append(svc_model_PF)"
   ]
  },
  {
   "cell_type": "markdown",
   "metadata": {},
   "source": [
    "Mejores hiperparametros para `SVC`:"
   ]
  },
  {
   "cell_type": "code",
   "execution_count": 64,
   "metadata": {},
   "outputs": [
    {
     "name": "stdout",
     "output_type": "stream",
     "text": [
      "{'C': 100, 'gamma': 0.1}\n"
     ]
    }
   ],
   "source": [
    "print(svc_model_PF.best_params_)"
   ]
  },
  {
   "cell_type": "markdown",
   "metadata": {},
   "source": [
    "Desempeño de `SVC` utilizando mejor combinación de hiperparametros:"
   ]
  },
  {
   "cell_type": "code",
   "execution_count": 65,
   "metadata": {},
   "outputs": [
    {
     "name": "stdout",
     "output_type": "stream",
     "text": [
      "              precision    recall  f1-score   support\n",
      "\n",
      "           0       0.81      0.82      0.82      3639\n",
      "           1       0.40      0.38      0.39      1108\n",
      "\n",
      "    accuracy                           0.72      4747\n",
      "   macro avg       0.60      0.60      0.60      4747\n",
      "weighted avg       0.72      0.72      0.72      4747\n",
      "\n"
     ]
    }
   ],
   "source": [
    "print(classification_report(y_test, svc_model_PF.best_estimator_.predict(X_test)))"
   ]
  },
  {
   "cell_type": "markdown",
   "metadata": {},
   "source": [
    "### Logistic Regression"
   ]
  },
  {
   "cell_type": "markdown",
   "metadata": {},
   "source": [
    "```python\n",
    "log_params = {\n",
    "            \"C\":np.logspace(-3,3,7), # [0.001, 0.01, 0.1, 1.0, 10.0, 100.0, 1000.0]\n",
    "            \"penalty\":[\"l1\",\"l2\"] # l1 lasso l2 ridge\n",
    "            } \n",
    "\n",
    "log_model_PF = GridSearchCV(LogisticRegression(), log_params, cv = 10).fit(X_train_oversamp, y_train_oversamp)\n",
    "```"
   ]
  },
  {
   "cell_type": "code",
   "execution_count": 66,
   "metadata": {},
   "outputs": [],
   "source": [
    "# pickle.dump(log_model_PF, open('logmodel_2009_PF.sav','wb')) \n",
    "log_model_PF = pickle.load(open(\"final_models/logmodel_2009_PF.sav\", 'rb'))\n",
    "model_list_PF.append(log_model_PF)"
   ]
  },
  {
   "cell_type": "markdown",
   "metadata": {},
   "source": [
    "Mejores hiperparametros para `LogisticRegression`:"
   ]
  },
  {
   "cell_type": "code",
   "execution_count": 67,
   "metadata": {},
   "outputs": [
    {
     "name": "stdout",
     "output_type": "stream",
     "text": [
      "{'C': 1000.0, 'penalty': 'l2'}\n"
     ]
    }
   ],
   "source": [
    "print(log_model_PF.best_params_)"
   ]
  },
  {
   "cell_type": "markdown",
   "metadata": {},
   "source": [
    "Desempeño de `LogisticRegression` utilizando mejor combinación de hiperparametros:"
   ]
  },
  {
   "cell_type": "code",
   "execution_count": 68,
   "metadata": {},
   "outputs": [
    {
     "name": "stdout",
     "output_type": "stream",
     "text": [
      "              precision    recall  f1-score   support\n",
      "\n",
      "           0       0.82      0.82      0.82      3639\n",
      "           1       0.42      0.43      0.42      1108\n",
      "\n",
      "    accuracy                           0.73      4747\n",
      "   macro avg       0.62      0.62      0.62      4747\n",
      "weighted avg       0.73      0.73      0.73      4747\n",
      "\n"
     ]
    }
   ],
   "source": [
    "print(classification_report(y_test, log_model_PF.best_estimator_.predict(X_test)))"
   ]
  },
  {
   "cell_type": "markdown",
   "metadata": {},
   "source": [
    "### Curva ROC y su respectivo AUC (area bajo la curva) para cada modelo estudiado"
   ]
  },
  {
   "cell_type": "code",
   "execution_count": 69,
   "metadata": {},
   "outputs": [
    {
     "data": {
      "image/png": "[encoded data removed]",
      "text/plain": [
       "<Figure size 720x720 with 5 Axes>"
      ]
     },
     "metadata": {
      "needs_background": "light"
     },
     "output_type": "display_data"
    }
   ],
   "source": [
    "model_name = [\"GradientBoostingClassifier\", \"AdaptativeBoostingClassifier\",\n",
    "             \"DecisionTreeClassifier\", \"SVC\", \"LogisticRegression\"]\n",
    "for i in range(len(model_list_PF)):\n",
    "    plt.subplot(2, 3, i + 1)\n",
    "    funcs.plot_roc_curve(model_list_PF[i], y_test, X_test,model_name[i])"
   ]
  },
  {
   "cell_type": "markdown",
   "metadata": {},
   "source": [
    "### Reporte de metricas de desempeño para cada modelo estudiado: <br>\n",
    "\n",
    "| Modelo\\Metrica               | Precision        | Recall           | F1-score         | Accuracy |\n",
    "|------------------------------|------------------|------------------|------------------|----------|\n",
    "| GradientBoostingClassifier   | 0: .83<br>1: .42 | 0: .81<br>1: .45 | 0: .82<br>1: .43 | .73      |\n",
    "| AdaptativeBoostingClassifier | 0: .82<br>1: .40 | 0: .81<br>1: .42 | 0: .82<br>1: .41 | .72      |\n",
    "| DecisionTreeClassifier       | 0: .84<br>1: .39 | 0: .76<br>1: .52 | 0: .79<br>1: .45 | .70      |\n",
    "| SVC                          | 0: .81<br>1: .40 | 0: .82<br>1: .38 | 0: .82<br>1: .39 | .72      |\n",
    "| LogisticRegression           | 0: .82<br>1: .42 | 0: .82<br>1: .43 | 0: .82<br>1: .42 | .73      |\n",
    "\n",
    "<br> \n",
    "\n",
    "Existio un desempeño deficiente para la clasificación de valores 1, a pesar de esto los modelos de igual manera presentan un desempeño promedio estable.\n",
    "\n",
    "Para definir cuales son los 2 mejores modelos respecto a su desempeño clasificando, se decide utilizar 3 valores, el porcentaje de clasificacion correcta para 0 y 1 dado por F1-score, el accuracy y el area bajo la curva dada por las curvas ROC.\n",
    "\n",
    "Los 2 mejores modelos dadas sus metricas de desempeño son:\n",
    "* GradientBoostingClassifier:\n",
    "    * F1-score -> 0: 0.82, 1: 0.43\n",
    "    * accurracy -> 0.73\n",
    "    * AUC -> 0.71\n",
    "* LogisticRegression:\n",
    "    * F1-score -> 0: 0.82, 1: 0.42\n",
    "    * accuracy -> 0.72\n",
    "    * AUC -> 0.74"
   ]
  },
  {
   "cell_type": "markdown",
   "metadata": {},
   "source": [
    "# Fin PRUEBA 2"
   ]
  }
 ],
 "metadata": {
  "kernelspec": {
   "display_name": "dlatam_ds",
   "language": "python",
   "name": "dlatam_ds"
  },
  "language_info": {
   "codemirror_mode": {
    "name": "ipython",
    "version": 3
   },
   "file_extension": ".py",
   "mimetype": "text/x-python",
   "name": "python",
   "nbconvert_exporter": "python",
   "pygments_lexer": "ipython3",
   "version": "3.7.3"
  }
 },
 "nbformat": 4,
 "nbformat_minor": 4
}
