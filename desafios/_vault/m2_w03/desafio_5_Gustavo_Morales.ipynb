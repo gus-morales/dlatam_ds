{
 "cells": [
  {
   "cell_type": "markdown",
   "metadata": {},
   "source": [
    "# Desafío Lunes Semana 23 - Gráficos"
   ]
  },
  {
   "cell_type": "markdown",
   "metadata": {},
   "source": [
    "#### Gustavo Morales, G10 - 23.Sep.2019"
   ]
  },
  {
   "cell_type": "markdown",
   "metadata": {},
   "source": [
    "### Ejercicio 1"
   ]
  },
  {
   "cell_type": "code",
   "execution_count": 1,
   "metadata": {},
   "outputs": [],
   "source": [
    "import pandas as pd\n",
    "import numpy as np\n",
    "import matplotlib.pyplot as plt"
   ]
  },
  {
   "cell_type": "code",
   "execution_count": 2,
   "metadata": {},
   "outputs": [],
   "source": [
    "fname = \"qog_std_cs_jan18.csv\"\n",
    "df = pd.read_csv(fname)"
   ]
  },
  {
   "cell_type": "code",
   "execution_count": 3,
   "metadata": {},
   "outputs": [],
   "source": [
    "random_seed = 382  # RUT ends in 038-2"
   ]
  },
  {
   "cell_type": "code",
   "execution_count": 4,
   "metadata": {},
   "outputs": [],
   "source": [
    "df_sample = df[['cname',\n",
    "                'undp_hdi',\n",
    "                'ccodealp',\n",
    "                'ht_region',\n",
    "                'gle_cgdpc',\n",
    "                'imf_pop',\n",
    "                'ffp_hf',\n",
    "                'wef_qes',\n",
    "                'wdi_expedu',\n",
    "                'wdi_ners']].sample(frac=0.5, random_state=random_seed)"
   ]
  },
  {
   "cell_type": "code",
   "execution_count": 5,
   "metadata": {},
   "outputs": [],
   "source": [
    "df_sample['region'] = df_sample['ht_region'].replace(\n",
    "            [1, 2, 3, 4, 5, 6, 7, 8, 9, 10],\n",
    "            ['EastEurope', 'LatAm', 'NorthAfrica', 'SubSaharian', 'WesternDem',\n",
    "             'EastAsia', 'SouthEastAsia', 'SouthAsia', 'Pacific', 'Caribbean']\n",
    ")"
   ]
  },
  {
   "cell_type": "markdown",
   "metadata": {},
   "source": [
    "**(R)** El objeto `Pandas` a utilizar en el siguiente ejercicio es:"
   ]
  },
  {
   "cell_type": "code",
   "execution_count": 6,
   "metadata": {},
   "outputs": [
    {
     "name": "stdout",
     "output_type": "stream",
     "text": [
      "<class 'pandas.core.frame.DataFrame'>\n",
      "Int64Index: 97 entries, 149 to 141\n",
      "Data columns (total 11 columns):\n",
      "cname         97 non-null object\n",
      "undp_hdi      94 non-null float64\n",
      "ccodealp      97 non-null object\n",
      "ht_region     97 non-null int64\n",
      "gle_cgdpc     95 non-null float64\n",
      "imf_pop       79 non-null float64\n",
      "ffp_hf        87 non-null float64\n",
      "wef_qes       76 non-null float64\n",
      "wdi_expedu    77 non-null float64\n",
      "wdi_ners      65 non-null float64\n",
      "region        97 non-null object\n",
      "dtypes: float64(7), int64(1), object(3)\n",
      "memory usage: 9.1+ KB\n"
     ]
    }
   ],
   "source": [
    "df_sample.info()"
   ]
  },
  {
   "cell_type": "markdown",
   "metadata": {},
   "source": [
    "### Ejercicio 2"
   ]
  },
  {
   "cell_type": "code",
   "execution_count": 7,
   "metadata": {},
   "outputs": [
    {
     "data": {
      "text/plain": [
       "['cname',\n",
       " 'undp_hdi',\n",
       " 'ccodealp',\n",
       " 'ht_region',\n",
       " 'gle_cgdpc',\n",
       " 'imf_pop',\n",
       " 'ffp_hf',\n",
       " 'wef_qes',\n",
       " 'wdi_expedu',\n",
       " 'wdi_ners',\n",
       " 'region']"
      ]
     },
     "execution_count": 7,
     "metadata": {},
     "output_type": "execute_result"
    }
   ],
   "source": [
    "df_sample.columns.tolist()"
   ]
  },
  {
   "cell_type": "markdown",
   "metadata": {},
   "source": [
    "Variables continuas: `undp_hdi`, `gle_cgdpc`, `imf_pop`, `ffp_hf`, `wef_qes`, `wdi_expedu`, `wdi_ners`.\n",
    "\n",
    "Variables discretas: `cname`, `ccodealp`, `region`."
   ]
  },
  {
   "cell_type": "code",
   "execution_count": 8,
   "metadata": {},
   "outputs": [],
   "source": [
    "def compute_stats(dataframe):\n",
    "    dataframe_numeric = dataframe.select_dtypes(exclude=['object'])\n",
    "    dataframe_categor = dataframe.select_dtypes(include=['object'])\n",
    "    pd.options.display.float_format = \"{:.2f}\".format\n",
    "    \n",
    "    print(dataframe_numeric.describe())\n",
    "    \n",
    "    for var in dataframe_categor.columns.tolist():\n",
    "        print(dataframe_categor[var].value_counts())"
   ]
  },
  {
   "cell_type": "code",
   "execution_count": 9,
   "metadata": {},
   "outputs": [
    {
     "name": "stdout",
     "output_type": "stream",
     "text": [
      "       undp_hdi  ht_region  gle_cgdpc  imf_pop  ffp_hf  wef_qes  wdi_expedu  \\\n",
      "count     94.00      97.00      95.00    79.00   87.00    76.00       77.00   \n",
      "mean       0.70       4.52   15462.06    26.20    5.47     3.73        4.58   \n",
      "std        0.16       2.66   19270.02    49.02    2.10     0.88        1.59   \n",
      "min        0.39       1.00     324.16     0.01    1.50     2.13        1.71   \n",
      "25%        0.56       2.00    2680.54     1.20    3.55     3.14        3.32   \n",
      "50%        0.73       4.00    7454.88     6.93    5.70     3.66        4.75   \n",
      "75%        0.84       6.00   23316.80    24.16    7.10     4.33        5.50   \n",
      "max        0.95      10.00  104049.44   252.16    9.30     5.82        7.85   \n",
      "\n",
      "       wdi_ners  \n",
      "count     65.00  \n",
      "mean      75.04  \n",
      "std       20.82  \n",
      "min       26.49  \n",
      "25%       64.43  \n",
      "50%       82.48  \n",
      "75%       92.21  \n",
      "max       99.47  \n",
      "Serbia                   1\n",
      "Venezuela                1\n",
      "Brazil                   1\n",
      "Swaziland                1\n",
      "United Kingdom           1\n",
      "                        ..\n",
      "Sao Tome and Principe    1\n",
      "Afghanistan              1\n",
      "Vanuatu                  1\n",
      "Nicaragua                1\n",
      "Cyprus (1975-)           1\n",
      "Name: cname, Length: 97, dtype: int64\n",
      "AGO    1\n",
      "MMR    1\n",
      "UKR    1\n",
      "TON    1\n",
      "NZL    1\n",
      "      ..\n",
      "VCT    1\n",
      "MLT    1\n",
      "LAO    1\n",
      "TLS    1\n",
      "IDN    1\n",
      "Name: ccodealp, Length: 97, dtype: int64\n",
      "SubSaharian      23\n",
      "WesternDem       15\n",
      "EastEurope       15\n",
      "LatAm            11\n",
      "SouthEastAsia     7\n",
      "NorthAfrica       7\n",
      "Caribbean         6\n",
      "Pacific           6\n",
      "SouthAsia         4\n",
      "EastAsia          3\n",
      "Name: region, dtype: int64\n"
     ]
    }
   ],
   "source": [
    "compute_stats(df_sample)"
   ]
  },
  {
   "cell_type": "markdown",
   "metadata": {},
   "source": [
    "*(R) Comparación con compañeros:* En general, la descripción estadística no presenta mayores diferencias en comparación con mis compañeros, *excepto* para algunas en donde la semilla usada (distinta para cada caso) sí generó algunas diferencias. Naturalmente, fijando `random_seed`, obtenemos esencialmente los mismos resultados."
   ]
  },
  {
   "cell_type": "markdown",
   "metadata": {},
   "source": [
    "### Ejercicio 3"
   ]
  },
  {
   "cell_type": "code",
   "execution_count": 10,
   "metadata": {},
   "outputs": [],
   "source": [
    "def get_na(dataframe, var, print_list=False):\n",
    "    \"\"\"Returns the quantity and fraction of the 'dataframe' where the input variable 'var' is NaN.\n",
    "    If asked for, returns the 'dataframe' indices of such cases instead.\n",
    "    \"\"\"\n",
    "    na_df = dataframe[var].isna()\n",
    "    \n",
    "    # here 'ascending' is set to False to not change the output ordering\n",
    "    na_quantity = na_df.value_counts(ascending=False)\n",
    "    na_fraction = na_df.value_counts('%', ascending=False)\n",
    "    if print_list:\n",
    "        return dataframe[dataframe[var].isna()][var]\n",
    "    \n",
    "    \"\"\"\n",
    "    I have no idea how to force value_counts() to not drop an index\n",
    "    when one boolean frequency is zero, so I will cover all cases.\n",
    "    I also do not remember how to select by non-integer index, so I had to\n",
    "    turn off sorting above and select using iloc.\n",
    "    \"\"\"\n",
    "    \n",
    "    # if SOME values are NaN\n",
    "    if len(na_quantity)>1 and print_list==False:\n",
    "        return var, na_quantity.iloc[1], na_fraction.iloc[1]\n",
    "    # if everything is NaN\n",
    "    if len(na_quantity)==1 and na_df.value_counts().index[0]==True and print_list==False:\n",
    "        return var, na_quantity.iloc[0], na_fraction.iloc[0]\n",
    "    # if nothing is NaN\n",
    "    if len(na_quantity)==1 and na_df.value_counts().index[0]==False and print_list==False:\n",
    "        return var, 0 , 0"
   ]
  },
  {
   "cell_type": "markdown",
   "metadata": {},
   "source": [
    "Para testear la función demuestro que el largo de una columna sólo con NaN's equivalga al largo del dataframe que estoy usando:"
   ]
  },
  {
   "cell_type": "code",
   "execution_count": 11,
   "metadata": {},
   "outputs": [
    {
     "data": {
      "text/plain": [
       "True"
      ]
     },
     "execution_count": 11,
     "metadata": {},
     "output_type": "execute_result"
    }
   ],
   "source": [
    "df_sample['all_nan_test']=np.nan\n",
    "get_na(df_sample, 'all_nan_test')[1]==df_sample.shape[0]"
   ]
  },
  {
   "cell_type": "markdown",
   "metadata": {},
   "source": [
    "Lo mismo hago para una columna que no tenga NaN's:"
   ]
  },
  {
   "cell_type": "code",
   "execution_count": 12,
   "metadata": {},
   "outputs": [
    {
     "data": {
      "text/plain": [
       "True"
      ]
     },
     "execution_count": 12,
     "metadata": {},
     "output_type": "execute_result"
    }
   ],
   "source": [
    "df_sample['no_nan_test']=0\n",
    "get_na(df_sample, 'no_nan_test')[1]==0"
   ]
  },
  {
   "cell_type": "markdown",
   "metadata": {},
   "source": [
    "Lo cual es correcto. Para analizar todas las variables del dataframe original `df`:"
   ]
  },
  {
   "cell_type": "code",
   "execution_count": 13,
   "metadata": {},
   "outputs": [],
   "source": [
    "df_sample = df_sample.drop(columns=['all_nan_test', 'no_nan_test'])"
   ]
  },
  {
   "cell_type": "code",
   "execution_count": 14,
   "metadata": {},
   "outputs": [],
   "source": [
    "results = [ get_na(df, col) for col in df.columns.tolist() ]"
   ]
  },
  {
   "cell_type": "code",
   "execution_count": 15,
   "metadata": {},
   "outputs": [],
   "source": [
    "variables = [ result[0] for result in results ]\n",
    "fractions = [ result[2] for result in results ]"
   ]
  },
  {
   "cell_type": "code",
   "execution_count": 16,
   "metadata": {},
   "outputs": [],
   "source": [
    "s1 = pd.Series(variables, name='variable')\n",
    "s2 = pd.Series(fractions, name='na_fraction')"
   ]
  },
  {
   "cell_type": "markdown",
   "metadata": {},
   "source": [
    "Las tres variables con un mayor porcentaje de casos perdidos son:"
   ]
  },
  {
   "cell_type": "code",
   "execution_count": 17,
   "metadata": {},
   "outputs": [
    {
     "data": {
      "text/html": [
       "<div>\n",
       "<style scoped>\n",
       "    .dataframe tbody tr th:only-of-type {\n",
       "        vertical-align: middle;\n",
       "    }\n",
       "\n",
       "    .dataframe tbody tr th {\n",
       "        vertical-align: top;\n",
       "    }\n",
       "\n",
       "    .dataframe thead th {\n",
       "        text-align: right;\n",
       "    }\n",
       "</style>\n",
       "<table border=\"1\" class=\"dataframe\">\n",
       "  <thead>\n",
       "    <tr style=\"text-align: right;\">\n",
       "      <th></th>\n",
       "      <th>variable</th>\n",
       "      <th>na_fraction</th>\n",
       "    </tr>\n",
       "  </thead>\n",
       "  <tbody>\n",
       "    <tr>\n",
       "      <th>1191</th>\n",
       "      <td>r_elf61</td>\n",
       "      <td>0.49</td>\n",
       "    </tr>\n",
       "    <tr>\n",
       "      <th>181</th>\n",
       "      <td>dpi_dhondt</td>\n",
       "      <td>0.49</td>\n",
       "    </tr>\n",
       "    <tr>\n",
       "      <th>816</th>\n",
       "      <td>iaep_ese</td>\n",
       "      <td>0.49</td>\n",
       "    </tr>\n",
       "  </tbody>\n",
       "</table>\n",
       "</div>"
      ],
      "text/plain": [
       "        variable  na_fraction\n",
       "1191     r_elf61         0.49\n",
       "181   dpi_dhondt         0.49\n",
       "816     iaep_ese         0.49"
      ]
     },
     "execution_count": 17,
     "metadata": {},
     "output_type": "execute_result"
    }
   ],
   "source": [
    "pd.concat([s1, s2], axis=1).sort_values(by='na_fraction', ascending=False).head(3)"
   ]
  },
  {
   "cell_type": "markdown",
   "metadata": {},
   "source": [
    "Y para obtener las listas de países correspondientes:"
   ]
  },
  {
   "cell_type": "code",
   "execution_count": 18,
   "metadata": {},
   "outputs": [],
   "source": [
    "def get_nation_list(dataframe, var):\n",
    "    print(var)\n",
    "    for l in dataframe[dataframe[var].isna()]['cname']:\n",
    "        print(l)\n",
    "    print('')\n",
    "    print('---')"
   ]
  },
  {
   "cell_type": "code",
   "execution_count": 19,
   "metadata": {},
   "outputs": [
    {
     "name": "stdout",
     "output_type": "stream",
     "text": [
      "r_elf61\n",
      "---\n",
      "Algeria\n",
      "Andorra\n",
      "Angola\n",
      "Antigua and Barbuda\n",
      "Azerbaijan\n",
      "Bahamas\n",
      "Bahrain\n",
      "Bangladesh\n",
      "Armenia\n",
      "Barbados\n",
      "Bosnia and Herzegovina\n",
      "Botswana\n",
      "Belize\n",
      "Solomon Islands\n",
      "Brunei\n",
      "Burundi\n",
      "Belarus\n",
      "Cambodia\n",
      "Cape Verde\n",
      "Comoros\n",
      "Croatia\n",
      "Cyprus (1975-)\n",
      "Czech Republic\n",
      "Dominica\n",
      "Equatorial Guinea\n",
      "Ethiopia (1993-)\n",
      "Eritrea\n",
      "Estonia\n",
      "Fiji\n",
      "France (1963-)\n",
      "Djibouti\n",
      "Georgia\n",
      "Gambia\n",
      "Germany\n",
      "Kiribati\n",
      "Grenada\n",
      "Guyana\n",
      "Jamaica\n",
      "Kazakhstan\n",
      "Kenya\n",
      "Kyrgyzstan\n",
      "Lesotho\n",
      "Latvia\n",
      "Liechtenstein\n",
      "Lithuania\n",
      "Malawi\n",
      "Maldives\n",
      "Malta\n",
      "Mauritius\n",
      "Monaco\n",
      "Moldova\n",
      "Montenegro\n",
      "Mozambique\n",
      "Namibia\n",
      "Nauru\n",
      "Vanuatu\n",
      "Micronesia\n",
      "Marshall Islands\n",
      "Palau\n",
      "Pakistan (1971-)\n",
      "Papua New Guinea\n",
      "Guinea-Bissau\n",
      "Timor-Leste\n",
      "Qatar\n",
      "Russia\n",
      "Rwanda\n",
      "St Kitts and Nevis\n",
      "St Lucia\n",
      "St Vincent and the Grenadines\n",
      "San Marino\n",
      "Sao Tome and Principe\n",
      "Serbia\n",
      "Seychelles\n",
      "Singapore\n",
      "Slovakia\n",
      "Vietnam\n",
      "Slovenia\n",
      "Zimbabwe\n",
      "South Sudan\n",
      "Sudan (2012-)\n",
      "Suriname\n",
      "Swaziland\n",
      "Tajikistan\n",
      "Tonga\n",
      "Trinidad and Tobago\n",
      "United Arab Emirates\n",
      "Turkmenistan\n",
      "Tuvalu\n",
      "Uganda\n",
      "Ukraine\n",
      "Macedonia\n",
      "Tanzania\n",
      "Uzbekistan\n",
      "Samoa\n",
      "Yemen\n",
      "Zambia\n",
      "\n",
      "===\n",
      "dpi_dhondt\n",
      "---\n",
      "Andorra\n",
      "Antigua and Barbuda\n",
      "Azerbaijan\n",
      "Bahamas\n",
      "Bahrain\n",
      "Bangladesh\n",
      "Armenia\n",
      "Barbados\n",
      "Botswana\n",
      "Belize\n",
      "Solomon Islands\n",
      "Brunei\n",
      "Myanmar\n",
      "Cameroon\n",
      "Canada\n",
      "Central African Republic\n",
      "Chad\n",
      "China\n",
      "Taiwan\n",
      "Comoros\n",
      "Congo\n",
      "Cuba\n",
      "Dominica\n",
      "Ethiopia (1993-)\n",
      "Eritrea\n",
      "Fiji\n",
      "France (1963-)\n",
      "Gabon\n",
      "Georgia\n",
      "Gambia\n",
      "Ghana\n",
      "Kiribati\n",
      "Grenada\n",
      "Guinea\n",
      "Haiti\n",
      "Iran\n",
      "Cote d'Ivoire\n",
      "Jamaica\n",
      "Jordan\n",
      "Kenya\n",
      "Korea, North\n",
      "Kuwait\n",
      "Kyrgyzstan\n",
      "Laos\n",
      "Lebanon\n",
      "Liberia\n",
      "Libya\n",
      "Liechtenstein\n",
      "Malawi\n",
      "Malaysia (1966-)\n",
      "Maldives\n",
      "Mali\n",
      "Monaco\n",
      "Mongolia\n",
      "Montenegro\n",
      "Morocco\n",
      "Nauru\n",
      "Vanuatu\n",
      "Nigeria\n",
      "Micronesia\n",
      "Marshall Islands\n",
      "Palau\n",
      "Pakistan (1971-)\n",
      "Papua New Guinea\n",
      "Qatar\n",
      "Rwanda\n",
      "St Kitts and Nevis\n",
      "St Lucia\n",
      "St Vincent and the Grenadines\n",
      "San Marino\n",
      "Sao Tome and Principe\n",
      "Saudi Arabia\n",
      "Serbia\n",
      "Seychelles\n",
      "Singapore\n",
      "Vietnam\n",
      "Somalia\n",
      "Zimbabwe\n",
      "South Sudan\n",
      "Sudan (2012-)\n",
      "Swaziland\n",
      "Thailand\n",
      "Tonga\n",
      "Trinidad and Tobago\n",
      "United Arab Emirates\n",
      "Turkmenistan\n",
      "Tuvalu\n",
      "Uganda\n",
      "Egypt\n",
      "United Kingdom\n",
      "Tanzania\n",
      "United States\n",
      "Uzbekistan\n",
      "Samoa\n",
      "Yemen\n",
      "Zambia\n",
      "\n",
      "===\n",
      "iaep_ese\n",
      "---\n",
      "Albania\n",
      "Andorra\n",
      "Angola\n",
      "Antigua and Barbuda\n",
      "Australia\n",
      "Bahamas\n",
      "Bahrain\n",
      "Bangladesh\n",
      "Barbados\n",
      "Belgium\n",
      "Bhutan\n",
      "Botswana\n",
      "Belize\n",
      "Solomon Islands\n",
      "Brunei\n",
      "Myanmar\n",
      "Cambodia\n",
      "Canada\n",
      "Cape Verde\n",
      "China\n",
      "Cuba\n",
      "Czech Republic\n",
      "Denmark\n",
      "Dominica\n",
      "Ethiopia (1993-)\n",
      "Eritrea\n",
      "Estonia\n",
      "Fiji\n",
      "Germany\n",
      "Kiribati\n",
      "Greece\n",
      "Grenada\n",
      "Guyana\n",
      "Hungary\n",
      "Iceland\n",
      "India\n",
      "Iraq\n",
      "Israel\n",
      "Italy\n",
      "Jamaica\n",
      "Japan\n",
      "Jordan\n",
      "Korea, North\n",
      "Kuwait\n",
      "Kyrgyzstan\n",
      "Laos\n",
      "Lebanon\n",
      "Lesotho\n",
      "Latvia\n",
      "Libya\n",
      "Liechtenstein\n",
      "Luxembourg\n",
      "Madagascar\n",
      "Malaysia (1966-)\n",
      "Maldives\n",
      "Malta\n",
      "Mauritius\n",
      "Monaco\n",
      "Moldova\n",
      "Morocco\n",
      "Oman\n",
      "Nauru\n",
      "Nepal\n",
      "Netherlands\n",
      "Vanuatu\n",
      "New Zealand\n",
      "Norway\n",
      "Micronesia\n",
      "Marshall Islands\n",
      "Palau\n",
      "Pakistan (1971-)\n",
      "Papua New Guinea\n",
      "Qatar\n",
      "St Kitts and Nevis\n",
      "St Lucia\n",
      "St Vincent and the Grenadines\n",
      "San Marino\n",
      "Sao Tome and Principe\n",
      "Saudi Arabia\n",
      "Serbia\n",
      "Seychelles\n",
      "Vietnam\n",
      "Somalia\n",
      "South Africa\n",
      "Spain\n",
      "Suriname\n",
      "Swaziland\n",
      "Sweden\n",
      "Switzerland\n",
      "Thailand\n",
      "Tonga\n",
      "Trinidad and Tobago\n",
      "United Arab Emirates\n",
      "Tuvalu\n",
      "United Kingdom\n",
      "Samoa\n",
      "\n",
      "===\n"
     ]
    }
   ],
   "source": [
    "var_list = pd.concat([s1, s2], axis=1).sort_values(by='na_fraction', ascending=False).head(3)['variable']\n",
    "for var in var_list:\n",
    "    print(var)\n",
    "    print('---')\n",
    "    for l in df[df[var].isna()]['cname']:\n",
    "        print(l)\n",
    "    print('')\n",
    "    print('===')"
   ]
  },
  {
   "cell_type": "markdown",
   "metadata": {},
   "source": [
    "### Ejercicio 4"
   ]
  },
  {
   "cell_type": "code",
   "execution_count": 20,
   "metadata": {},
   "outputs": [],
   "source": [
    "def plot_sample_histogram(dataframe, var, true_mean, sample_mean=False):\n",
    "    dataframe_sample = dataframe.dropna().sample(frac=0.5, random_state=random_seed)\n",
    "    mean_tot = dataframe[var].dropna().mean()\n",
    "    stdd_tot = dataframe[var].dropna().std()\n",
    "    mean_sam = dataframe_sample[var].mean()\n",
    "    plt.hist(dataframe[var].dropna(), color='lightgrey')\n",
    "    plt.axvline(mean_tot, lw=3, color='tomato', ls='-', label='true_mean')\n",
    "    if sample_mean:\n",
    "        plt.axvline(mean_sam, lw=3, color='dodgerblue', ls='--', label='sample_mean')\n",
    "    plt.axvspan(mean_tot-stdd_tot, mean_tot+stdd_tot, alpha=0.1, color='red', label=r'$\\mu \\pm \\sigma$')\n",
    "    plt.xlabel(var)\n",
    "    plt.legend()\n",
    "    plt.tight_layout()"
   ]
  },
  {
   "cell_type": "code",
   "execution_count": 21,
   "metadata": {},
   "outputs": [
    {
     "data": {
      "image/png": "[encoded data removed]",
      "text/plain": [
       "<Figure size 432x288 with 1 Axes>"
      ]
     },
     "metadata": {
      "needs_background": "light"
     },
     "output_type": "display_data"
    }
   ],
   "source": [
    "plot_sample_histogram(df_sample, 'ffp_hf', True, sample_mean=True)"
   ]
  },
  {
   "cell_type": "code",
   "execution_count": 22,
   "metadata": {},
   "outputs": [
    {
     "data": {
      "image/png": "[encoded data removed]",
      "text/plain": [
       "<Figure size 432x288 with 1 Axes>"
      ]
     },
     "metadata": {
      "needs_background": "light"
     },
     "output_type": "display_data"
    }
   ],
   "source": [
    "plot_sample_histogram(df_sample, 'wef_qes', True, sample_mean=True)"
   ]
  },
  {
   "cell_type": "code",
   "execution_count": 23,
   "metadata": {},
   "outputs": [
    {
     "data": {
      "image/png": "[encoded data removed]",
      "text/plain": [
       "<Figure size 432x288 with 1 Axes>"
      ]
     },
     "metadata": {
      "needs_background": "light"
     },
     "output_type": "display_data"
    }
   ],
   "source": [
    "plot_sample_histogram(df_sample, 'wdi_expedu', True, sample_mean=True)"
   ]
  },
  {
   "cell_type": "code",
   "execution_count": 24,
   "metadata": {},
   "outputs": [
    {
     "data": {
      "image/png": "[encoded data removed]",
      "text/plain": [
       "<Figure size 432x288 with 1 Axes>"
      ]
     },
     "metadata": {
      "needs_background": "light"
     },
     "output_type": "display_data"
    }
   ],
   "source": [
    "plot_sample_histogram(df_sample, 'wdi_ners', True, sample_mean=True)"
   ]
  },
  {
   "cell_type": "markdown",
   "metadata": {},
   "source": [
    "**(R)** En general todas las variables tienen la media muestral similar a la media total, lo cual se puede usar para justificar que la muestra es representativa."
   ]
  },
  {
   "cell_type": "markdown",
   "metadata": {},
   "source": [
    "### Ejercicio 5"
   ]
  },
  {
   "cell_type": "code",
   "execution_count": 25,
   "metadata": {},
   "outputs": [
    {
     "data": {
      "text/html": [
       "<div>\n",
       "<style scoped>\n",
       "    .dataframe tbody tr th:only-of-type {\n",
       "        vertical-align: middle;\n",
       "    }\n",
       "\n",
       "    .dataframe tbody tr th {\n",
       "        vertical-align: top;\n",
       "    }\n",
       "\n",
       "    .dataframe thead th {\n",
       "        text-align: right;\n",
       "    }\n",
       "</style>\n",
       "<table border=\"1\" class=\"dataframe\">\n",
       "  <thead>\n",
       "    <tr style=\"text-align: right;\">\n",
       "      <th></th>\n",
       "      <th>variable</th>\n",
       "      <th>na_fraction</th>\n",
       "    </tr>\n",
       "  </thead>\n",
       "  <tbody>\n",
       "    <tr>\n",
       "      <th>0</th>\n",
       "      <td>ccode</td>\n",
       "      <td>0.00</td>\n",
       "    </tr>\n",
       "    <tr>\n",
       "      <th>639</th>\n",
       "      <td>fh_pr</td>\n",
       "      <td>0.00</td>\n",
       "    </tr>\n",
       "    <tr>\n",
       "      <th>640</th>\n",
       "      <td>fh_rol</td>\n",
       "      <td>0.00</td>\n",
       "    </tr>\n",
       "    <tr>\n",
       "      <th>641</th>\n",
       "      <td>fh_status</td>\n",
       "      <td>0.00</td>\n",
       "    </tr>\n",
       "  </tbody>\n",
       "</table>\n",
       "</div>"
      ],
      "text/plain": [
       "      variable  na_fraction\n",
       "0        ccode         0.00\n",
       "639      fh_pr         0.00\n",
       "640     fh_rol         0.00\n",
       "641  fh_status         0.00"
      ]
     },
     "execution_count": 25,
     "metadata": {},
     "output_type": "execute_result"
    }
   ],
   "source": [
    "pd.concat([s1, s2], axis=1).sort_values(by='na_fraction').head(4)"
   ]
  },
  {
   "cell_type": "markdown",
   "metadata": {},
   "source": [
    "Escogeré `fh_pr`, `fh_rol` y `fh_status`."
   ]
  },
  {
   "cell_type": "code",
   "execution_count": 26,
   "metadata": {},
   "outputs": [],
   "source": [
    "def plot_dotplot(dataframe, plot_var, plot_by, global_stat=False, statistic='mean'):\n",
    "    if statistic=='mean':\n",
    "        stat = dataframe.groupby(plot_by)[plot_var].mean()\n",
    "    if statistic=='median':\n",
    "        stat = dataframe.groupby(plot_by)[plot_var].median()\n",
    "    plt.plot(stat.values, stat.index.tolist(), 'o', label=plot_by)\n",
    "    if global_stat:\n",
    "        mean_tot = dataframe[plot_var].dropna().mean()\n",
    "        plt.axvline(mean_tot, lw=2, color='tomato', ls='--', label='true_mean')\n",
    "    plt.legend()\n",
    "    plt.grid(axis='y')\n",
    "    plt.xlabel(plot_var)\n",
    "    plt.tight_layout()"
   ]
  },
  {
   "cell_type": "code",
   "execution_count": 27,
   "metadata": {},
   "outputs": [],
   "source": [
    "df['region'] = df['ht_region'].replace(\n",
    "            [1, 2, 3, 4, 5, 6, 7, 8, 9, 10],\n",
    "            ['EastEurope', 'LatAm', 'NorthAfrica', 'SubSaharian', 'WesternDem',\n",
    "             'EastAsia', 'SouthEastAsia', 'SouthAsia', 'Pacific', 'Caribbean'])"
   ]
  },
  {
   "cell_type": "code",
   "execution_count": 28,
   "metadata": {},
   "outputs": [
    {
     "data": {
      "image/png": "[encoded data removed]",
      "text/plain": [
       "<Figure size 432x288 with 1 Axes>"
      ]
     },
     "metadata": {
      "needs_background": "light"
     },
     "output_type": "display_data"
    }
   ],
   "source": [
    "plot_dotplot(df, 'fh_pr', 'region', global_stat=True)"
   ]
  },
  {
   "cell_type": "code",
   "execution_count": 29,
   "metadata": {},
   "outputs": [
    {
     "data": {
      "image/png": "[encoded data removed]",
      "text/plain": [
       "<Figure size 432x288 with 1 Axes>"
      ]
     },
     "metadata": {
      "needs_background": "light"
     },
     "output_type": "display_data"
    }
   ],
   "source": [
    "plot_dotplot(df, 'fh_pr', 'region', global_stat=True)"
   ]
  },
  {
   "cell_type": "code",
   "execution_count": 30,
   "metadata": {},
   "outputs": [
    {
     "data": {
      "image/png": "[encoded data removed]",
      "text/plain": [
       "<Figure size 432x288 with 1 Axes>"
      ]
     },
     "metadata": {
      "needs_background": "light"
     },
     "output_type": "display_data"
    }
   ],
   "source": [
    "plot_dotplot(df, 'fh_rol', 'region', global_stat=True)"
   ]
  },
  {
   "cell_type": "code",
   "execution_count": 31,
   "metadata": {},
   "outputs": [
    {
     "data": {
      "image/png": "[encoded data removed]",
      "text/plain": [
       "<Figure size 432x288 with 1 Axes>"
      ]
     },
     "metadata": {
      "needs_background": "light"
     },
     "output_type": "display_data"
    }
   ],
   "source": [
    "plot_dotplot(df, 'fh_status', 'region', global_stat=True)"
   ]
  },
  {
   "cell_type": "markdown",
   "metadata": {},
   "source": [
    "### Ejercicio 6"
   ]
  },
  {
   "cell_type": "code",
   "execution_count": 32,
   "metadata": {},
   "outputs": [],
   "source": [
    "df_sample.to_csv('subsample_gamc_demo.csv')"
   ]
  },
  {
   "cell_type": "markdown",
   "metadata": {},
   "source": [
    "##### ---"
   ]
  },
  {
   "cell_type": "code",
   "execution_count": null,
   "metadata": {},
   "outputs": [],
   "source": []
  }
 ],
 "metadata": {
  "kernelspec": {
   "display_name": "dlatam_ds",
   "language": "python",
   "name": "dlatam_ds"
  },
  "language_info": {
   "codemirror_mode": {
    "name": "ipython",
    "version": 3
   },
   "file_extension": ".py",
   "mimetype": "text/x-python",
   "name": "python",
   "nbconvert_exporter": "python",
   "pygments_lexer": "ipython3",
   "version": "3.7.3"
  }
 },
 "nbformat": 4,
 "nbformat_minor": 4
}
