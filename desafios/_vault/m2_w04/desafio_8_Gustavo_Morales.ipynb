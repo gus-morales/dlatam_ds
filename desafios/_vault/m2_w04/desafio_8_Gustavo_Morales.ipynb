{
 "cells": [
  {
   "cell_type": "markdown",
   "metadata": {},
   "source": [
    "## Desafío Miércoles Semana 4 - Pruebas de Hipótesis\n",
    "###  Gustavo Morales, G10 - 02.Oct.2019"
   ]
  },
  {
   "cell_type": "markdown",
   "metadata": {},
   "source": [
    "#### Ejercicio 1"
   ]
  },
  {
   "cell_type": "markdown",
   "metadata": {},
   "source": [
    "**(1.1)** Para un nivel de confianza de `99%` y un valor de corte de $t_c$ = `2.58`, el valor de prueba $t$ = `11.83` es mayor que $t_c$, por lo tanto podemos **rechazar la hipótesis nula** de que ambos porcentajes no son diferentes. Es decir, hay evidencia para apoyar la idea de que la orientación sexual del encuestador afecta el juicio del encuestado."
   ]
  },
  {
   "cell_type": "markdown",
   "metadata": {},
   "source": [
    "**(1.2)** Que incluso asumiendo que son 24 hombres y 24 mujeres, no es una estadística significativa (falta información). Asumiendo además que la hipótesis se refiere al total de la población chilena, yo no considero que sea una muestra considerable para emitir un juicio. Una convención usual es que al menos deberían samplear un 10% de la población para tener una estadística mínimamente robusta. Es decir, que si hay $\\sim$ 12 millones de adultos en Chile, deberían estudiar al menos 500 mil hombres y 500 mil mujeres para así poder tener un tamaño muestral considerable para poder rechazar la hipótesis nula (es decir, rechazar que los niveles de consumo son similares entre hombres y mujeres)."
   ]
  },
  {
   "cell_type": "markdown",
   "metadata": {},
   "source": [
    "#### Ejercicio 2"
   ]
  },
  {
   "cell_type": "code",
   "execution_count": 1,
   "metadata": {},
   "outputs": [],
   "source": [
    "import pandas as pd\n",
    "import numpy as np\n",
    "from scipy.stats import ttest_ind\n",
    "import matplotlib.pyplot as plt\n",
    "from pprint import pprint"
   ]
  },
  {
   "cell_type": "code",
   "execution_count": 2,
   "metadata": {},
   "outputs": [],
   "source": [
    "df = pd.read_csv(\"nations.csv\", encoding = \"ISO-8859-1\")\n",
    "df = df.drop(columns='Unnamed: 0')"
   ]
  },
  {
   "cell_type": "code",
   "execution_count": 3,
   "metadata": {},
   "outputs": [],
   "source": [
    "regions = ['Africa', 'Americas', 'Asia', 'Europe', 'Oceania']\n",
    "for region in regions:\n",
    "    df['is_'+region] = np.where(df['region']==region, 1, 0)"
   ]
  },
  {
   "cell_type": "code",
   "execution_count": 4,
   "metadata": {},
   "outputs": [
    {
     "data": {
      "text/plain": [
       "Index(['country', 'region', 'gdp', 'school', 'adfert', 'chldmort', 'life',\n",
       "       'pop', 'urban', 'femlab', 'literacy', 'co2', 'gini', 'is_Africa',\n",
       "       'is_Americas', 'is_Asia', 'is_Europe', 'is_Oceania'],\n",
       "      dtype='object')"
      ]
     },
     "execution_count": 4,
     "metadata": {},
     "output_type": "execute_result"
    }
   ],
   "source": [
    "df.columns"
   ]
  },
  {
   "cell_type": "markdown",
   "metadata": {},
   "source": [
    "#### Ejercicio 3"
   ]
  },
  {
   "cell_type": "code",
   "execution_count": 5,
   "metadata": {},
   "outputs": [],
   "source": [
    "def test_hip(dataframe, variable, binarize):\n",
    "    \"\"\"Given a dataframe with binarized columns, outputs the ttest results.\"\"\"\n",
    "    variable_0 = dataframe.query(binarize+'==0')[variable].dropna()\n",
    "    variable_1 = dataframe.query(binarize+'==1')[variable].dropna()\n",
    "    \n",
    "    mean_0 = np.mean(variable_0)\n",
    "    mean_1 = np.mean(variable_1)\n",
    "    mean_d = mean_1 - mean_0\n",
    "    \n",
    "    # H0 → variable_0 and variable_1 differences in \n",
    "    # H1 → variable_0 and variable_1 differ considerably\n",
    "    t, pvalue = ttest_ind(variable_0, variable_1)\n",
    "    \n",
    "    return {'mean_0': mean_0,\n",
    "            'mean_1': mean_1,\n",
    "            'mean_diff': mean_d,\n",
    "            't-test': t,\n",
    "            'p-value': pvalue}"
   ]
  },
  {
   "cell_type": "code",
   "execution_count": 6,
   "metadata": {},
   "outputs": [],
   "source": [
    "variables = ['chldmort',  # mortalidad infantil\n",
    "             'adfert',    # fertilidad adolescente\n",
    "             'life']      # esperanza de vida al nacer\n",
    "bin_regions = ['is_Africa', 'is_Americas', 'is_Asia', 'is_Europe', 'is_Oceania']"
   ]
  },
  {
   "cell_type": "code",
   "execution_count": 7,
   "metadata": {},
   "outputs": [],
   "source": [
    "dic = {}\n",
    "for var in variables:\n",
    "    for br in bin_regions:\n",
    "        d = test_hip(df, var, br)\n",
    "        dic[var + ' in ' + br[3:]] = d\n",
    "        print"
   ]
  },
  {
   "cell_type": "code",
   "execution_count": 8,
   "metadata": {},
   "outputs": [
    {
     "data": {
      "text/html": [
       "<div>\n",
       "<style scoped>\n",
       "    .dataframe tbody tr th:only-of-type {\n",
       "        vertical-align: middle;\n",
       "    }\n",
       "\n",
       "    .dataframe tbody tr th {\n",
       "        vertical-align: top;\n",
       "    }\n",
       "\n",
       "    .dataframe thead th {\n",
       "        text-align: right;\n",
       "    }\n",
       "</style>\n",
       "<table border=\"1\" class=\"dataframe\">\n",
       "  <thead>\n",
       "    <tr style=\"text-align: right;\">\n",
       "      <th></th>\n",
       "      <th>mean_0</th>\n",
       "      <th>mean_1</th>\n",
       "      <th>mean_diff</th>\n",
       "      <th>t-test</th>\n",
       "      <th>p-value</th>\n",
       "    </tr>\n",
       "  </thead>\n",
       "  <tbody>\n",
       "    <tr>\n",
       "      <th>chldmort in Africa</th>\n",
       "      <td>24.748227</td>\n",
       "      <td>109.750000</td>\n",
       "      <td>85.001773</td>\n",
       "      <td>-14.173677</td>\n",
       "      <td>1.244573e-31</td>\n",
       "    </tr>\n",
       "    <tr>\n",
       "      <th>chldmort in Americas</th>\n",
       "      <td>53.052215</td>\n",
       "      <td>23.264286</td>\n",
       "      <td>-29.787929</td>\n",
       "      <td>3.085619</td>\n",
       "      <td>2.333001e-03</td>\n",
       "    </tr>\n",
       "    <tr>\n",
       "      <th>chldmort in Asia</th>\n",
       "      <td>51.141379</td>\n",
       "      <td>37.104167</td>\n",
       "      <td>-14.037213</td>\n",
       "      <td>1.602738</td>\n",
       "      <td>1.106449e-01</td>\n",
       "    </tr>\n",
       "    <tr>\n",
       "      <th>chldmort in Europe</th>\n",
       "      <td>59.290000</td>\n",
       "      <td>7.046512</td>\n",
       "      <td>-52.243488</td>\n",
       "      <td>6.262400</td>\n",
       "      <td>2.450659e-09</td>\n",
       "    </tr>\n",
       "    <tr>\n",
       "      <th>chldmort in Oceania</th>\n",
       "      <td>48.344101</td>\n",
       "      <td>39.416667</td>\n",
       "      <td>-8.927434</td>\n",
       "      <td>0.627778</td>\n",
       "      <td>5.308992e-01</td>\n",
       "    </tr>\n",
       "    <tr>\n",
       "      <th>adfert in Africa</th>\n",
       "      <td>36.834507</td>\n",
       "      <td>92.721153</td>\n",
       "      <td>55.886646</td>\n",
       "      <td>-9.444409</td>\n",
       "      <td>1.248167e-17</td>\n",
       "    </tr>\n",
       "    <tr>\n",
       "      <th>adfert in Americas</th>\n",
       "      <td>49.206918</td>\n",
       "      <td>63.660000</td>\n",
       "      <td>14.453082</td>\n",
       "      <td>-1.766279</td>\n",
       "      <td>7.893816e-02</td>\n",
       "    </tr>\n",
       "    <tr>\n",
       "      <th>adfert in Asia</th>\n",
       "      <td>57.880000</td>\n",
       "      <td>33.865306</td>\n",
       "      <td>-24.014694</td>\n",
       "      <td>3.386270</td>\n",
       "      <td>8.592686e-04</td>\n",
       "    </tr>\n",
       "    <tr>\n",
       "      <th>adfert in Europe</th>\n",
       "      <td>62.145033</td>\n",
       "      <td>15.537209</td>\n",
       "      <td>-46.607824</td>\n",
       "      <td>6.797973</td>\n",
       "      <td>1.304088e-10</td>\n",
       "    </tr>\n",
       "    <tr>\n",
       "      <th>adfert in Oceania</th>\n",
       "      <td>52.386033</td>\n",
       "      <td>44.993334</td>\n",
       "      <td>-7.392699</td>\n",
       "      <td>0.623132</td>\n",
       "      <td>5.339371e-01</td>\n",
       "    </tr>\n",
       "    <tr>\n",
       "      <th>life in Africa</th>\n",
       "      <td>73.211150</td>\n",
       "      <td>56.490385</td>\n",
       "      <td>-16.720765</td>\n",
       "      <td>15.174603</td>\n",
       "      <td>1.071399e-34</td>\n",
       "    </tr>\n",
       "    <tr>\n",
       "      <th>life in Americas</th>\n",
       "      <td>67.689832</td>\n",
       "      <td>73.451428</td>\n",
       "      <td>5.761596</td>\n",
       "      <td>-3.138415</td>\n",
       "      <td>1.966606e-03</td>\n",
       "    </tr>\n",
       "    <tr>\n",
       "      <th>life in Asia</th>\n",
       "      <td>68.005057</td>\n",
       "      <td>70.872449</td>\n",
       "      <td>2.867392</td>\n",
       "      <td>-1.734672</td>\n",
       "      <td>8.440370e-02</td>\n",
       "    </tr>\n",
       "    <tr>\n",
       "      <th>life in Europe</th>\n",
       "      <td>66.389514</td>\n",
       "      <td>76.945736</td>\n",
       "      <td>10.556222</td>\n",
       "      <td>-6.735356</td>\n",
       "      <td>1.849161e-10</td>\n",
       "    </tr>\n",
       "    <tr>\n",
       "      <th>life in Oceania</th>\n",
       "      <td>68.657635</td>\n",
       "      <td>69.584445</td>\n",
       "      <td>0.926810</td>\n",
       "      <td>-0.342111</td>\n",
       "      <td>7.326417e-01</td>\n",
       "    </tr>\n",
       "  </tbody>\n",
       "</table>\n",
       "</div>"
      ],
      "text/plain": [
       "                         mean_0      mean_1  mean_diff     t-test  \\\n",
       "chldmort in Africa    24.748227  109.750000  85.001773 -14.173677   \n",
       "chldmort in Americas  53.052215   23.264286 -29.787929   3.085619   \n",
       "chldmort in Asia      51.141379   37.104167 -14.037213   1.602738   \n",
       "chldmort in Europe    59.290000    7.046512 -52.243488   6.262400   \n",
       "chldmort in Oceania   48.344101   39.416667  -8.927434   0.627778   \n",
       "adfert in Africa      36.834507   92.721153  55.886646  -9.444409   \n",
       "adfert in Americas    49.206918   63.660000  14.453082  -1.766279   \n",
       "adfert in Asia        57.880000   33.865306 -24.014694   3.386270   \n",
       "adfert in Europe      62.145033   15.537209 -46.607824   6.797973   \n",
       "adfert in Oceania     52.386033   44.993334  -7.392699   0.623132   \n",
       "life in Africa        73.211150   56.490385 -16.720765  15.174603   \n",
       "life in Americas      67.689832   73.451428   5.761596  -3.138415   \n",
       "life in Asia          68.005057   70.872449   2.867392  -1.734672   \n",
       "life in Europe        66.389514   76.945736  10.556222  -6.735356   \n",
       "life in Oceania       68.657635   69.584445   0.926810  -0.342111   \n",
       "\n",
       "                           p-value  \n",
       "chldmort in Africa    1.244573e-31  \n",
       "chldmort in Americas  2.333001e-03  \n",
       "chldmort in Asia      1.106449e-01  \n",
       "chldmort in Europe    2.450659e-09  \n",
       "chldmort in Oceania   5.308992e-01  \n",
       "adfert in Africa      1.248167e-17  \n",
       "adfert in Americas    7.893816e-02  \n",
       "adfert in Asia        8.592686e-04  \n",
       "adfert in Europe      1.304088e-10  \n",
       "adfert in Oceania     5.339371e-01  \n",
       "life in Africa        1.071399e-34  \n",
       "life in Americas      1.966606e-03  \n",
       "life in Asia          8.440370e-02  \n",
       "life in Europe        1.849161e-10  \n",
       "life in Oceania       7.326417e-01  "
      ]
     },
     "execution_count": 8,
     "metadata": {},
     "output_type": "execute_result"
    }
   ],
   "source": [
    "pd.DataFrame.from_dict(dic, orient='index')"
   ]
  },
  {
   "cell_type": "markdown",
   "metadata": {},
   "source": [
    "#### Ejercicio 4"
   ]
  },
  {
   "cell_type": "markdown",
   "metadata": {},
   "source": [
    "La hipótesis nula será que la mortalidad infantil, la fertilidad adolescente y la esperanza de vida de cada región son representativas de las del resto del mundo. Para cada caso consideraré un nivel de significancia de `p` (posibilidad de `p` de fallar en rechazar la hipótesis nula). La hipótesis nula, `H0`, es la que usualmente se explica por efectos de azar. Por ejemplo, `H0` podría ser que la esperanza de vida en africanos es la misma que la de no africanos, como si distribuyeramos a toda la gente del mundo al azar por todos los continentes. En dicho caso, la hipótesis alternativa, `Ha`, sería afirmar que la esperanza de vida en África no es la misma que la del resto del mundo."
   ]
  },
  {
   "cell_type": "markdown",
   "metadata": {},
   "source": [
    "Analizaremos por región:"
   ]
  },
  {
   "cell_type": "code",
   "execution_count": 9,
   "metadata": {},
   "outputs": [],
   "source": [
    "def graph_histograms(dataframe, variable, binarize, alpha):\n",
    "    variable_0 = dataframe.query(binarize+'==0')[variable].dropna()\n",
    "    variable_1 = dataframe.query(binarize+'==1')[variable].dropna()\n",
    "    plt.title(variable)\n",
    "    plt.hist(variable_0, alpha=alpha, label='not_'+binarize[3:], color='tomato')\n",
    "    plt.axvline(np.mean(variable_0), color='red')\n",
    "    plt.hist(variable_1, alpha=alpha, label=binarize[3:], color='dodgerblue')\n",
    "    plt.axvline(np.mean(variable_1), color='blue')\n",
    "    plt.legend()"
   ]
  },
  {
   "cell_type": "code",
   "execution_count": 10,
   "metadata": {},
   "outputs": [
    {
     "data": {
      "image/png": "[encoded data removed]",
      "text/plain": [
       "<Figure size 936x216 with 3 Axes>"
      ]
     },
     "metadata": {
      "needs_background": "light"
     },
     "output_type": "display_data"
    }
   ],
   "source": [
    "plt.rcParams['figure.figsize'] = 13, 3\n",
    "for i,var in enumerate(variables):\n",
    "    plt.subplot(1, len(variables), i+1)\n",
    "    graph_histograms(df, var, 'is_'+regions[0], 0.5)\n",
    "plt.tight_layout()"
   ]
  },
  {
   "cell_type": "code",
   "execution_count": 11,
   "metadata": {},
   "outputs": [
    {
     "data": {
      "text/html": [
       "<div>\n",
       "<style scoped>\n",
       "    .dataframe tbody tr th:only-of-type {\n",
       "        vertical-align: middle;\n",
       "    }\n",
       "\n",
       "    .dataframe tbody tr th {\n",
       "        vertical-align: top;\n",
       "    }\n",
       "\n",
       "    .dataframe thead th {\n",
       "        text-align: right;\n",
       "    }\n",
       "</style>\n",
       "<table border=\"1\" class=\"dataframe\">\n",
       "  <thead>\n",
       "    <tr style=\"text-align: right;\">\n",
       "      <th></th>\n",
       "      <th>chldmort in Africa</th>\n",
       "      <th>adfert in Africa</th>\n",
       "      <th>life in Africa</th>\n",
       "    </tr>\n",
       "  </thead>\n",
       "  <tbody>\n",
       "    <tr>\n",
       "      <th>mean_0</th>\n",
       "      <td>2.474823e+01</td>\n",
       "      <td>3.683451e+01</td>\n",
       "      <td>7.321115e+01</td>\n",
       "    </tr>\n",
       "    <tr>\n",
       "      <th>mean_1</th>\n",
       "      <td>1.097500e+02</td>\n",
       "      <td>9.272115e+01</td>\n",
       "      <td>5.649038e+01</td>\n",
       "    </tr>\n",
       "    <tr>\n",
       "      <th>mean_diff</th>\n",
       "      <td>8.500177e+01</td>\n",
       "      <td>5.588665e+01</td>\n",
       "      <td>-1.672077e+01</td>\n",
       "    </tr>\n",
       "    <tr>\n",
       "      <th>t-test</th>\n",
       "      <td>-1.417368e+01</td>\n",
       "      <td>-9.444409e+00</td>\n",
       "      <td>1.517460e+01</td>\n",
       "    </tr>\n",
       "    <tr>\n",
       "      <th>p-value</th>\n",
       "      <td>1.244573e-31</td>\n",
       "      <td>1.248167e-17</td>\n",
       "      <td>1.071399e-34</td>\n",
       "    </tr>\n",
       "  </tbody>\n",
       "</table>\n",
       "</div>"
      ],
      "text/plain": [
       "           chldmort in Africa  adfert in Africa  life in Africa\n",
       "mean_0           2.474823e+01      3.683451e+01    7.321115e+01\n",
       "mean_1           1.097500e+02      9.272115e+01    5.649038e+01\n",
       "mean_diff        8.500177e+01      5.588665e+01   -1.672077e+01\n",
       "t-test          -1.417368e+01     -9.444409e+00    1.517460e+01\n",
       "p-value          1.244573e-31      1.248167e-17    1.071399e-34"
      ]
     },
     "execution_count": 11,
     "metadata": {},
     "output_type": "execute_result"
    }
   ],
   "source": [
    "aux = [var + ' in ' + reg for reg in regions for var in variables]\n",
    "dfs = [pd.DataFrame.from_dict(dic[a], orient='index', columns=[a]) for a in aux]\n",
    "pd.concat([dfs[0], dfs[1], dfs[2]], axis=1)"
   ]
  },
  {
   "cell_type": "markdown",
   "metadata": {},
   "source": [
    "**(Africa)** Todos los p-values dan considerablemente menores que `0.001`, lo cuál quiere decir que hay evidencia para rechazar la hipótesis nula en los tres casos. Es decir, podemos afirmar con bastante certeza que la mortalidad infantil, la fertilidad adolescente y la esperanza de vida en África no son representativas de las del resto del mundo."
   ]
  },
  {
   "cell_type": "markdown",
   "metadata": {},
   "source": [
    "---"
   ]
  },
  {
   "cell_type": "code",
   "execution_count": 12,
   "metadata": {},
   "outputs": [
    {
     "data": {
      "image/png": "[encoded data removed]",
      "text/plain": [
       "<Figure size 936x216 with 3 Axes>"
      ]
     },
     "metadata": {
      "needs_background": "light"
     },
     "output_type": "display_data"
    }
   ],
   "source": [
    "for i,var in enumerate(variables):\n",
    "    plt.subplot(1, len(variables), i+1)\n",
    "    graph_histograms(df, var, 'is_'+regions[1], 0.5)\n",
    "plt.tight_layout()"
   ]
  },
  {
   "cell_type": "code",
   "execution_count": 13,
   "metadata": {},
   "outputs": [
    {
     "data": {
      "text/html": [
       "<div>\n",
       "<style scoped>\n",
       "    .dataframe tbody tr th:only-of-type {\n",
       "        vertical-align: middle;\n",
       "    }\n",
       "\n",
       "    .dataframe tbody tr th {\n",
       "        vertical-align: top;\n",
       "    }\n",
       "\n",
       "    .dataframe thead th {\n",
       "        text-align: right;\n",
       "    }\n",
       "</style>\n",
       "<table border=\"1\" class=\"dataframe\">\n",
       "  <thead>\n",
       "    <tr style=\"text-align: right;\">\n",
       "      <th></th>\n",
       "      <th>chldmort in Americas</th>\n",
       "      <th>adfert in Americas</th>\n",
       "      <th>life in Americas</th>\n",
       "    </tr>\n",
       "  </thead>\n",
       "  <tbody>\n",
       "    <tr>\n",
       "      <th>mean_0</th>\n",
       "      <td>53.052215</td>\n",
       "      <td>49.206918</td>\n",
       "      <td>67.689832</td>\n",
       "    </tr>\n",
       "    <tr>\n",
       "      <th>mean_1</th>\n",
       "      <td>23.264286</td>\n",
       "      <td>63.660000</td>\n",
       "      <td>73.451428</td>\n",
       "    </tr>\n",
       "    <tr>\n",
       "      <th>mean_diff</th>\n",
       "      <td>-29.787929</td>\n",
       "      <td>14.453082</td>\n",
       "      <td>5.761596</td>\n",
       "    </tr>\n",
       "    <tr>\n",
       "      <th>t-test</th>\n",
       "      <td>3.085619</td>\n",
       "      <td>-1.766279</td>\n",
       "      <td>-3.138415</td>\n",
       "    </tr>\n",
       "    <tr>\n",
       "      <th>p-value</th>\n",
       "      <td>0.002333</td>\n",
       "      <td>0.078938</td>\n",
       "      <td>0.001967</td>\n",
       "    </tr>\n",
       "  </tbody>\n",
       "</table>\n",
       "</div>"
      ],
      "text/plain": [
       "           chldmort in Americas  adfert in Americas  life in Americas\n",
       "mean_0                53.052215           49.206918         67.689832\n",
       "mean_1                23.264286           63.660000         73.451428\n",
       "mean_diff            -29.787929           14.453082          5.761596\n",
       "t-test                 3.085619           -1.766279         -3.138415\n",
       "p-value                0.002333            0.078938          0.001967"
      ]
     },
     "execution_count": 13,
     "metadata": {},
     "output_type": "execute_result"
    }
   ],
   "source": [
    "pd.concat([dfs[3], dfs[4], dfs[5]], axis=1)"
   ]
  },
  {
   "cell_type": "markdown",
   "metadata": {},
   "source": [
    "**(Americas)** En este caso, con una significancia de `0.01`, hay evidencia para rechazar la hipótesis de que la mortalidad infantil y la esperanza de vida sean representativas de las del resto del mundo. No hay evidencia para rechazar la hipótesis nula en el caso de la fertilidad adolescente."
   ]
  },
  {
   "cell_type": "markdown",
   "metadata": {},
   "source": [
    "---"
   ]
  },
  {
   "cell_type": "code",
   "execution_count": 14,
   "metadata": {},
   "outputs": [
    {
     "data": {
      "image/png": "[encoded data removed]",
      "text/plain": [
       "<Figure size 936x216 with 3 Axes>"
      ]
     },
     "metadata": {
      "needs_background": "light"
     },
     "output_type": "display_data"
    }
   ],
   "source": [
    "for i,var in enumerate(variables):\n",
    "    plt.subplot(1, len(variables), i+1)\n",
    "    graph_histograms(df, var, 'is_'+regions[2], 0.5)\n",
    "plt.tight_layout()"
   ]
  },
  {
   "cell_type": "code",
   "execution_count": 15,
   "metadata": {},
   "outputs": [
    {
     "data": {
      "text/html": [
       "<div>\n",
       "<style scoped>\n",
       "    .dataframe tbody tr th:only-of-type {\n",
       "        vertical-align: middle;\n",
       "    }\n",
       "\n",
       "    .dataframe tbody tr th {\n",
       "        vertical-align: top;\n",
       "    }\n",
       "\n",
       "    .dataframe thead th {\n",
       "        text-align: right;\n",
       "    }\n",
       "</style>\n",
       "<table border=\"1\" class=\"dataframe\">\n",
       "  <thead>\n",
       "    <tr style=\"text-align: right;\">\n",
       "      <th></th>\n",
       "      <th>chldmort in Asia</th>\n",
       "      <th>adfert in Asia</th>\n",
       "      <th>life in Asia</th>\n",
       "    </tr>\n",
       "  </thead>\n",
       "  <tbody>\n",
       "    <tr>\n",
       "      <th>mean_0</th>\n",
       "      <td>51.141379</td>\n",
       "      <td>57.880000</td>\n",
       "      <td>68.005057</td>\n",
       "    </tr>\n",
       "    <tr>\n",
       "      <th>mean_1</th>\n",
       "      <td>37.104167</td>\n",
       "      <td>33.865306</td>\n",
       "      <td>70.872449</td>\n",
       "    </tr>\n",
       "    <tr>\n",
       "      <th>mean_diff</th>\n",
       "      <td>-14.037213</td>\n",
       "      <td>-24.014694</td>\n",
       "      <td>2.867392</td>\n",
       "    </tr>\n",
       "    <tr>\n",
       "      <th>t-test</th>\n",
       "      <td>1.602738</td>\n",
       "      <td>3.386270</td>\n",
       "      <td>-1.734672</td>\n",
       "    </tr>\n",
       "    <tr>\n",
       "      <th>p-value</th>\n",
       "      <td>0.110645</td>\n",
       "      <td>0.000859</td>\n",
       "      <td>0.084404</td>\n",
       "    </tr>\n",
       "  </tbody>\n",
       "</table>\n",
       "</div>"
      ],
      "text/plain": [
       "           chldmort in Asia  adfert in Asia  life in Asia\n",
       "mean_0            51.141379       57.880000     68.005057\n",
       "mean_1            37.104167       33.865306     70.872449\n",
       "mean_diff        -14.037213      -24.014694      2.867392\n",
       "t-test             1.602738        3.386270     -1.734672\n",
       "p-value            0.110645        0.000859      0.084404"
      ]
     },
     "execution_count": 15,
     "metadata": {},
     "output_type": "execute_result"
    }
   ],
   "source": [
    "pd.concat([dfs[6], dfs[7], dfs[8]], axis=1)"
   ]
  },
  {
   "cell_type": "markdown",
   "metadata": {},
   "source": [
    "**(Asia)** Con una significancia de un `0.01`, sólo hay evidencia para rechazar la hipótesis nula en el caso de la fertilidad adolescente."
   ]
  },
  {
   "cell_type": "markdown",
   "metadata": {},
   "source": [
    "---"
   ]
  },
  {
   "cell_type": "code",
   "execution_count": 16,
   "metadata": {},
   "outputs": [
    {
     "data": {
      "image/png": "[encoded data removed]",
      "text/plain": [
       "<Figure size 936x216 with 3 Axes>"
      ]
     },
     "metadata": {
      "needs_background": "light"
     },
     "output_type": "display_data"
    }
   ],
   "source": [
    "for i,var in enumerate(variables):\n",
    "    plt.subplot(1, len(variables), i+1)\n",
    "    graph_histograms(df, var, 'is_'+regions[3], 0.5)\n",
    "plt.tight_layout()"
   ]
  },
  {
   "cell_type": "code",
   "execution_count": 17,
   "metadata": {},
   "outputs": [
    {
     "data": {
      "text/html": [
       "<div>\n",
       "<style scoped>\n",
       "    .dataframe tbody tr th:only-of-type {\n",
       "        vertical-align: middle;\n",
       "    }\n",
       "\n",
       "    .dataframe tbody tr th {\n",
       "        vertical-align: top;\n",
       "    }\n",
       "\n",
       "    .dataframe thead th {\n",
       "        text-align: right;\n",
       "    }\n",
       "</style>\n",
       "<table border=\"1\" class=\"dataframe\">\n",
       "  <thead>\n",
       "    <tr style=\"text-align: right;\">\n",
       "      <th></th>\n",
       "      <th>chldmort in Europe</th>\n",
       "      <th>adfert in Europe</th>\n",
       "      <th>life in Europe</th>\n",
       "    </tr>\n",
       "  </thead>\n",
       "  <tbody>\n",
       "    <tr>\n",
       "      <th>mean_0</th>\n",
       "      <td>5.929000e+01</td>\n",
       "      <td>6.214503e+01</td>\n",
       "      <td>6.638951e+01</td>\n",
       "    </tr>\n",
       "    <tr>\n",
       "      <th>mean_1</th>\n",
       "      <td>7.046512e+00</td>\n",
       "      <td>1.553721e+01</td>\n",
       "      <td>7.694574e+01</td>\n",
       "    </tr>\n",
       "    <tr>\n",
       "      <th>mean_diff</th>\n",
       "      <td>-5.224349e+01</td>\n",
       "      <td>-4.660782e+01</td>\n",
       "      <td>1.055622e+01</td>\n",
       "    </tr>\n",
       "    <tr>\n",
       "      <th>t-test</th>\n",
       "      <td>6.262400e+00</td>\n",
       "      <td>6.797973e+00</td>\n",
       "      <td>-6.735356e+00</td>\n",
       "    </tr>\n",
       "    <tr>\n",
       "      <th>p-value</th>\n",
       "      <td>2.450659e-09</td>\n",
       "      <td>1.304088e-10</td>\n",
       "      <td>1.849161e-10</td>\n",
       "    </tr>\n",
       "  </tbody>\n",
       "</table>\n",
       "</div>"
      ],
      "text/plain": [
       "           chldmort in Europe  adfert in Europe  life in Europe\n",
       "mean_0           5.929000e+01      6.214503e+01    6.638951e+01\n",
       "mean_1           7.046512e+00      1.553721e+01    7.694574e+01\n",
       "mean_diff       -5.224349e+01     -4.660782e+01    1.055622e+01\n",
       "t-test           6.262400e+00      6.797973e+00   -6.735356e+00\n",
       "p-value          2.450659e-09      1.304088e-10    1.849161e-10"
      ]
     },
     "execution_count": 17,
     "metadata": {},
     "output_type": "execute_result"
    }
   ],
   "source": [
    "pd.concat([dfs[9], dfs[10], dfs[11]], axis=1)"
   ]
  },
  {
   "cell_type": "markdown",
   "metadata": {},
   "source": [
    "**(Europe)** Con una significancia de un `0.001`, hay evidencia considerable para rechazar la hipótesis nula en los tres casos."
   ]
  },
  {
   "cell_type": "markdown",
   "metadata": {},
   "source": [
    "---"
   ]
  },
  {
   "cell_type": "code",
   "execution_count": 18,
   "metadata": {},
   "outputs": [
    {
     "data": {
      "image/png": "[encoded data removed]",
      "text/plain": [
       "<Figure size 936x216 with 3 Axes>"
      ]
     },
     "metadata": {
      "needs_background": "light"
     },
     "output_type": "display_data"
    }
   ],
   "source": [
    "for i,var in enumerate(variables):\n",
    "    plt.subplot(1, len(variables), i+1)\n",
    "    graph_histograms(df, var, 'is_'+regions[4], 0.5)\n",
    "plt.tight_layout()"
   ]
  },
  {
   "cell_type": "code",
   "execution_count": 19,
   "metadata": {},
   "outputs": [
    {
     "data": {
      "text/html": [
       "<div>\n",
       "<style scoped>\n",
       "    .dataframe tbody tr th:only-of-type {\n",
       "        vertical-align: middle;\n",
       "    }\n",
       "\n",
       "    .dataframe tbody tr th {\n",
       "        vertical-align: top;\n",
       "    }\n",
       "\n",
       "    .dataframe thead th {\n",
       "        text-align: right;\n",
       "    }\n",
       "</style>\n",
       "<table border=\"1\" class=\"dataframe\">\n",
       "  <thead>\n",
       "    <tr style=\"text-align: right;\">\n",
       "      <th></th>\n",
       "      <th>chldmort in Oceania</th>\n",
       "      <th>adfert in Oceania</th>\n",
       "      <th>life in Oceania</th>\n",
       "    </tr>\n",
       "  </thead>\n",
       "  <tbody>\n",
       "    <tr>\n",
       "      <th>mean_0</th>\n",
       "      <td>48.344101</td>\n",
       "      <td>52.386033</td>\n",
       "      <td>68.657635</td>\n",
       "    </tr>\n",
       "    <tr>\n",
       "      <th>mean_1</th>\n",
       "      <td>39.416667</td>\n",
       "      <td>44.993334</td>\n",
       "      <td>69.584445</td>\n",
       "    </tr>\n",
       "    <tr>\n",
       "      <th>mean_diff</th>\n",
       "      <td>-8.927434</td>\n",
       "      <td>-7.392699</td>\n",
       "      <td>0.926810</td>\n",
       "    </tr>\n",
       "    <tr>\n",
       "      <th>t-test</th>\n",
       "      <td>0.627778</td>\n",
       "      <td>0.623132</td>\n",
       "      <td>-0.342111</td>\n",
       "    </tr>\n",
       "    <tr>\n",
       "      <th>p-value</th>\n",
       "      <td>0.530899</td>\n",
       "      <td>0.533937</td>\n",
       "      <td>0.732642</td>\n",
       "    </tr>\n",
       "  </tbody>\n",
       "</table>\n",
       "</div>"
      ],
      "text/plain": [
       "           chldmort in Oceania  adfert in Oceania  life in Oceania\n",
       "mean_0               48.344101          52.386033        68.657635\n",
       "mean_1               39.416667          44.993334        69.584445\n",
       "mean_diff            -8.927434          -7.392699         0.926810\n",
       "t-test                0.627778           0.623132        -0.342111\n",
       "p-value               0.530899           0.533937         0.732642"
      ]
     },
     "execution_count": 19,
     "metadata": {},
     "output_type": "execute_result"
    }
   ],
   "source": [
    "pd.concat([dfs[12], dfs[13], dfs[14]], axis=1)"
   ]
  },
  {
   "cell_type": "markdown",
   "metadata": {},
   "source": [
    "**(Oceania)** No hay evidencia para rechazar la hipótesis nula en ningún caso."
   ]
  },
  {
   "cell_type": "markdown",
   "metadata": {},
   "source": [
    "Notar que la diferencia de los promedios no es necesariamente una buena medida de qué tan \"similares\" son dos muestras."
   ]
  },
  {
   "cell_type": "code",
   "execution_count": 20,
   "metadata": {},
   "outputs": [
    {
     "data": {
      "image/png": "[encoded data removed]",
      "text/plain": [
       "<Figure size 936x216 with 1 Axes>"
      ]
     },
     "metadata": {
      "needs_background": "light"
     },
     "output_type": "display_data"
    }
   ],
   "source": [
    "graph_histograms(df, 'femlab', 'is_Africa', 0.5)"
   ]
  },
  {
   "cell_type": "code",
   "execution_count": 21,
   "metadata": {},
   "outputs": [
    {
     "data": {
      "text/plain": [
       "{'mean_0': 0.6761015881858174,\n",
       " 'mean_1': 0.7299098010156667,\n",
       " 'mean_diff': 0.05380821282984927,\n",
       " 't-test': -1.783872878266046,\n",
       " 'p-value': 0.0761771840435915}"
      ]
     },
     "execution_count": 21,
     "metadata": {},
     "output_type": "execute_result"
    }
   ],
   "source": [
    "test_hip(df, 'femlab', 'is_Africa')"
   ]
  },
  {
   "cell_type": "code",
   "execution_count": 22,
   "metadata": {},
   "outputs": [
    {
     "data": {
      "text/plain": [
       "{'mean_0': 90.19857935471968,\n",
       " 'mean_1': 65.30851067887976,\n",
       " 'mean_diff': -24.890068675839927,\n",
       " 't-test': 8.909991173873896,\n",
       " 'p-value': 3.3857112156459963e-15}"
      ]
     },
     "execution_count": 22,
     "metadata": {},
     "output_type": "execute_result"
    }
   ],
   "source": [
    "test_hip(df, 'literacy', 'is_Africa')"
   ]
  },
  {
   "cell_type": "code",
   "execution_count": null,
   "metadata": {},
   "outputs": [],
   "source": []
  }
 ],
 "metadata": {
  "kernelspec": {
   "display_name": "dlatam_ds",
   "language": "python",
   "name": "dlatam_ds"
  },
  "language_info": {
   "codemirror_mode": {
    "name": "ipython",
    "version": 3
   },
   "file_extension": ".py",
   "mimetype": "text/x-python",
   "name": "python",
   "nbconvert_exporter": "python",
   "pygments_lexer": "ipython3",
   "version": "3.7.3"
  }
 },
 "nbformat": 4,
 "nbformat_minor": 4
}
