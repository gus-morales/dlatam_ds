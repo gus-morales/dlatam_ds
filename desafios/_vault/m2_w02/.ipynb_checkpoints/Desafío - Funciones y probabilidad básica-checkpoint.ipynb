{
 "cells": [
  {
   "cell_type": "markdown",
   "metadata": {},
   "source": [
    "# Desafío Miércoles Semana 2 - Funciones y probabilidad básica"
   ]
  },
  {
   "cell_type": "markdown",
   "metadata": {},
   "source": [
    "#### Gustavo Morales, G10 - 04.Sep.2019"
   ]
  },
  {
   "cell_type": "markdown",
   "metadata": {},
   "source": [
    "### Desafío 1"
   ]
  },
  {
   "cell_type": "code",
   "execution_count": 1,
   "metadata": {},
   "outputs": [],
   "source": [
    "import pandas as pd\n",
    "import numpy as np"
   ]
  },
  {
   "cell_type": "code",
   "execution_count": 2,
   "metadata": {},
   "outputs": [],
   "source": [
    "def get_mean(x):\n",
    "    \"\"\"Compute the arithmetic mean given the input array.\n",
    "\n",
    "    Parameters\n",
    "    ----------\n",
    "    x : list\n",
    "        Array containing numbers.\n",
    "\n",
    "    Returns\n",
    "    -------\n",
    "    m : float\n",
    "        Mean value of the input array.\n",
    "    \"\"\"\n",
    "\n",
    "    return sum(x)/len(x)"
   ]
  },
  {
   "cell_type": "code",
   "execution_count": 3,
   "metadata": {},
   "outputs": [],
   "source": [
    "def get_var(x):\n",
    "    \"\"\"Compute the average of the squared deviations from the mean (variance).\n",
    "    \n",
    "    Parameters\n",
    "    ----------\n",
    "    x : list\n",
    "        Array containing numbers.\n",
    "\n",
    "    Returns\n",
    "    -------\n",
    "    v : float\n",
    "        Variance value of the input array.\n",
    "    \"\"\"\n",
    "    variance = 0\n",
    "    for i in x:\n",
    "        variance += (get_mean(x) - i)**2\n",
    "    return variance / len(x)"
   ]
  },
  {
   "cell_type": "code",
   "execution_count": 4,
   "metadata": {},
   "outputs": [],
   "source": [
    "filename = \"worldcup2014.csv\"\n",
    "df = pd.read_csv(filename)"
   ]
  },
  {
   "cell_type": "code",
   "execution_count": 5,
   "metadata": {},
   "outputs": [],
   "source": [
    "def get_mean_and_var(dataframe, col_name):\n",
    "    stats = {\"mean\": get_mean(dataframe[col_name].tolist()),\n",
    "             \"variance\": get_var(dataframe[col_name].tolist())}\n",
    "    return stats"
   ]
  },
  {
   "cell_type": "code",
   "execution_count": 6,
   "metadata": {},
   "outputs": [],
   "source": [
    "stats_goles_favor = get_mean_and_var(df, \"goles_favor\")\n",
    "stats_goles_contra = get_mean_and_var(df, \"goles_contra\")\n",
    "stats_puntos = get_mean_and_var(df, \"puntos\")"
   ]
  },
  {
   "cell_type": "code",
   "execution_count": 7,
   "metadata": {},
   "outputs": [
    {
     "name": "stdout",
     "output_type": "stream",
     "text": [
      "goles a favor: {'mean': 4.25, 'variance': 5.1875}\n",
      "goles en contra: {'mean': 4.25, 'variance': 4.8125}\n",
      "puntos: {'mean': 4.21875, 'variance': 8.0458984375}\n"
     ]
    }
   ],
   "source": [
    "print(\"goles a favor:\", stats_goles_favor)\n",
    "print(\"goles en contra:\", stats_goles_contra)\n",
    "print(\"puntos:\", stats_puntos)"
   ]
  },
  {
   "cell_type": "markdown",
   "metadata": {},
   "source": [
    "### Desafío 2"
   ]
  },
  {
   "cell_type": "code",
   "execution_count": 8,
   "metadata": {},
   "outputs": [],
   "source": [
    "europe_df = df[df[\"continent\"] == \"europe\"]\n",
    "southamerica_df = df[df[\"continent\"] == \"southamerica\"]\n",
    "africa_df = df[df[\"continent\"] == \"africa\"]\n",
    "northamerica_df = df[df[\"continent\"] == \"northamerica\"]\n",
    "asia_df = df[df[\"continent\"] == \"asia\"]"
   ]
  },
  {
   "cell_type": "code",
   "execution_count": 9,
   "metadata": {},
   "outputs": [],
   "source": [
    "continent_dfs = [europe_df, southamerica_df, africa_df, northamerica_df, asia_df]"
   ]
  },
  {
   "cell_type": "code",
   "execution_count": 10,
   "metadata": {},
   "outputs": [],
   "source": [
    "def func(group_by, var):\n",
    "    continent = []\n",
    "    store_mean = []\n",
    "    store_var = []\n",
    "\n",
    "    for d in group_by:\n",
    "        continent.append(d.iloc[0,1])\n",
    "        store_mean.append(get_mean(d[var]))\n",
    "        store_var.append(get_var(d[var]))\n",
    "        tmp = pd.DataFrame({'continente': continent,\n",
    "                            'media': store_mean,\n",
    "                            'var': store_var})\n",
    "\n",
    "    return tmp.sort_values(by='media', ascending=False)"
   ]
  },
  {
   "cell_type": "code",
   "execution_count": 11,
   "metadata": {},
   "outputs": [],
   "source": [
    "def print_answer(var):\n",
    "    a = func(continent_dfs, var)[\"continente\"].tolist()[0]\n",
    "    print(\"En {} se encuentra la mayor cantidad de {}.\".format(a, var))"
   ]
  },
  {
   "cell_type": "code",
   "execution_count": 12,
   "metadata": {},
   "outputs": [
    {
     "name": "stdout",
     "output_type": "stream",
     "text": [
      "En southamerica se encuentra la mayor cantidad de goles_favor.\n",
      "En asia se encuentra la mayor cantidad de goles_contra.\n",
      "En southamerica se encuentra la mayor cantidad de puntos.\n"
     ]
    }
   ],
   "source": [
    "print_answer(\"goles_favor\")\n",
    "print_answer(\"goles_contra\")\n",
    "print_answer(\"puntos\")"
   ]
  },
  {
   "cell_type": "markdown",
   "metadata": {},
   "source": [
    "### Desafío 3"
   ]
  },
  {
   "cell_type": "code",
   "execution_count": 13,
   "metadata": {},
   "outputs": [],
   "source": [
    "def generate_pet():\n",
    "    c = np.random.choice([\"perro\", \"gato\"])\n",
    "\n",
    "    return c"
   ]
  },
  {
   "cell_type": "code",
   "execution_count": 14,
   "metadata": {},
   "outputs": [
    {
     "name": "stdout",
     "output_type": "stream",
     "text": [
      "gato\n"
     ]
    }
   ],
   "source": [
    "c1 = generate_pet(); print(c1)"
   ]
  },
  {
   "cell_type": "code",
   "execution_count": 15,
   "metadata": {},
   "outputs": [
    {
     "name": "stdout",
     "output_type": "stream",
     "text": [
      "gato\n"
     ]
    }
   ],
   "source": [
    "c2 = generate_pet(); print(c2)"
   ]
  },
  {
   "cell_type": "code",
   "execution_count": 16,
   "metadata": {},
   "outputs": [],
   "source": [
    "array = []\n",
    "np.random.seed(2)  # added afterwards!\n",
    "for i in range(20):\n",
    "    array.append(generate_pet())"
   ]
  },
  {
   "cell_type": "code",
   "execution_count": 17,
   "metadata": {},
   "outputs": [],
   "source": [
    "probs = pd.Series(array).value_counts(\"%\").to_dict()"
   ]
  },
  {
   "cell_type": "code",
   "execution_count": 18,
   "metadata": {},
   "outputs": [
    {
     "name": "stdout",
     "output_type": "stream",
     "text": [
      "La probabilidad de elegir un perro al azar es de un 40.0%\n",
      "La probabilidad de elegir un gato al azar es de un 60.0%\n"
     ]
    }
   ],
   "source": [
    "print(\"La probabilidad de elegir un perro al azar es de un {}%\".format(round(probs[\"perro\"]*100,2)))\n",
    "print(\"La probabilidad de elegir un gato al azar es de un {}%\".format(round(probs[\"gato\"]*100,2)))"
   ]
  },
  {
   "cell_type": "markdown",
   "metadata": {},
   "source": [
    "El método `np.random.seed(X)` fija la semilla pseudo-aleatoria con valor `X` al inicio de la celda. Esto provoca que los métodos que inicializan `np.random.RandomState(seed=None)` produzcan siempre el mismo resultado, aunque `X` sea obtenido de una distribución aleatoria. Un ejemplo es justamente `np.random.choice()`."
   ]
  },
  {
   "cell_type": "markdown",
   "metadata": {},
   "source": [
    "### Desafío 4"
   ]
  },
  {
   "cell_type": "code",
   "execution_count": 19,
   "metadata": {},
   "outputs": [],
   "source": [
    "def simulate_pets_prob(sims_number):\n",
    "    np.random.seed(1)\n",
    "\n",
    "    young_pet, old_pet = [], []\n",
    "    for i in range(sims_number):\n",
    "        young_pet.append(np.random.choice([\"dog\", \"cat\"]))\n",
    "        old_pet.append(np.random.choice([\"dog\", \"cat\"]))\n",
    "    \n",
    "    zippedList =  list(zip(young_pet, old_pet))\n",
    "\n",
    "    return pd.DataFrame(zippedList, columns=[\"young_pet\", \"old_pet\"])"
   ]
  },
  {
   "cell_type": "code",
   "execution_count": 20,
   "metadata": {},
   "outputs": [],
   "source": [
    "sims_number = 100"
   ]
  },
  {
   "cell_type": "code",
   "execution_count": 21,
   "metadata": {},
   "outputs": [],
   "source": [
    "df_sim = simulate_pets_prob(sims_number)"
   ]
  },
  {
   "cell_type": "markdown",
   "metadata": {},
   "source": [
    "Para simular las ocasiones donde por lo menos uno de los animales sea un perro:"
   ]
  },
  {
   "cell_type": "code",
   "execution_count": 22,
   "metadata": {},
   "outputs": [],
   "source": [
    "df_sim[\"dog|dog\"] = np.logical_or(df_sim[\"young_pet\"]==\"dog\", df_sim[\"old_pet\"]==\"dog\")"
   ]
  },
  {
   "cell_type": "markdown",
   "metadata": {},
   "source": [
    "Para simular las ocasiones donde por lo menos uno de los animales sea un perro viejo:"
   ]
  },
  {
   "cell_type": "code",
   "execution_count": 23,
   "metadata": {},
   "outputs": [],
   "source": [
    "df_sim[\"old_dog\"] = np.where(df_sim[\"old_pet\"]==\"dog\", True, False)"
   ]
  },
  {
   "cell_type": "markdown",
   "metadata": {},
   "source": [
    "Para simular las ocasiones donde los dos sean perros:"
   ]
  },
  {
   "cell_type": "code",
   "execution_count": 24,
   "metadata": {},
   "outputs": [],
   "source": [
    "df_sim[\"dog&dog\"] = np.logical_and(df_sim[\"young_pet\"]==\"dog\", df_sim[\"old_pet\"]==\"dog\")"
   ]
  },
  {
   "cell_type": "markdown",
   "metadata": {},
   "source": [
    "Ahora contamos:"
   ]
  },
  {
   "cell_type": "code",
   "execution_count": 25,
   "metadata": {},
   "outputs": [],
   "source": [
    "case1 = df_sim[\"dog|dog\"].value_counts(sort=False).iloc[1]\n",
    "case2 = df_sim[\"old_dog\"].value_counts(sort=False).iloc[1]\n",
    "case3 = df_sim[\"dog&dog\"].value_counts(sort=False).iloc[1]"
   ]
  },
  {
   "cell_type": "code",
   "execution_count": 26,
   "metadata": {},
   "outputs": [
    {
     "name": "stdout",
     "output_type": "stream",
     "text": [
      "De una muestra de 100, hay 72 ocasiones donde al menos uno de los animales es un perro.\n",
      "De una muestra de 100, hay 51 ocasiones donde al menos uno de los animales es un perro viejo.\n",
      "De una muestra de 100, hay 27 ocasiones donde ambos son perros.\n"
     ]
    }
   ],
   "source": [
    "print(\"De una muestra de {}, hay {} ocasiones donde al menos uno de los animales es un perro.\".format(sims_number, case1))\n",
    "print(\"De una muestra de {}, hay {} ocasiones donde al menos uno de los animales es un perro viejo.\".format(sims_number, case2))\n",
    "print(\"De una muestra de {}, hay {} ocasiones donde ambos son perros.\".format(sims_number, case3))"
   ]
  },
  {
   "cell_type": "markdown",
   "metadata": {},
   "source": [
    "Para las probabilidades:"
   ]
  },
  {
   "cell_type": "code",
   "execution_count": 27,
   "metadata": {},
   "outputs": [
    {
     "name": "stdout",
     "output_type": "stream",
     "text": [
      "Probabilidad de al menos un perro = 72%.\n",
      "Probabilidad de al menos un perro viejo = 51%.\n",
      "Probabilidad de que ambos sean perros = 27%.\n"
     ]
    }
   ],
   "source": [
    "print(\"Probabilidad de al menos un perro = {}%.\".format(case1))\n",
    "print(\"Probabilidad de al menos un perro viejo = {}%.\".format(case2))\n",
    "print(\"Probabilidad de que ambos sean perros = {}%.\".format(case3))"
   ]
  },
  {
   "cell_type": "markdown",
   "metadata": {},
   "source": [
    "- El escenario menos probable es el último caso: \"ambos son perros\".\n",
    "- El escenario menos probable es el primer caso: \"al menos un perro\"."
   ]
  },
  {
   "cell_type": "code",
   "execution_count": null,
   "metadata": {},
   "outputs": [],
   "source": []
  }
 ],
 "metadata": {
  "kernelspec": {
   "display_name": "dlatam_ds",
   "language": "python",
   "name": "dlatam_ds"
  },
  "language_info": {
   "codemirror_mode": {
    "name": "ipython",
    "version": 3
   },
   "file_extension": ".py",
   "mimetype": "text/x-python",
   "name": "python",
   "nbconvert_exporter": "python",
   "pygments_lexer": "ipython3",
   "version": "3.7.3"
  }
 },
 "nbformat": 4,
 "nbformat_minor": 4
}
