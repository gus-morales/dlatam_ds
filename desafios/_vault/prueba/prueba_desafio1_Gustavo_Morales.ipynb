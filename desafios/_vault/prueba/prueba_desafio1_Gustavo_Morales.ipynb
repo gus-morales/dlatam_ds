{
 "cells": [
  {
   "cell_type": "markdown",
   "metadata": {},
   "source": [
    "## Prueba Fundamentos de Data Science G10\n",
    "### TEAM TOMATO: Eduardo López - Gustavo Morales"
   ]
  },
  {
   "cell_type": "markdown",
   "metadata": {},
   "source": [
    "☑ Hito 1 `04.Oct.2019` : Preliminares y Aspectos Computacionales.\\\n",
    "☑ Hito 2 `06.Oct.2019`: Descripción.\\\n",
    "☑ Hito 3 `11.Nov.2019`: Modelación descriptiva.\\\n",
    "☑ Hito 4 `12.Nov.2019`: Modelación predictiva."
   ]
  },
  {
   "cell_type": "markdown",
   "metadata": {},
   "source": [
    "## ────── DESAFIO 1: Determinantes del ingreso ──────"
   ]
  },
  {
   "cell_type": "markdown",
   "metadata": {},
   "source": [
    "**ENUNCIADO**\\\n",
    "Usted trabaja para un organismo no gubernamental que está interesado en las dinámicas socioeconómicas que determinan la desigualdad de ingreso y la erradicación de la pobreza extrema, enmarcado dentro de los objetivos del desarrollo del nuevo milenio del Programa de las Naciones Unidas para el Desarrollo. Le encomiendan el desarrollo de un modelo predictivo sobre la probabilidad que un individuo presente salarios por sobre o bajo los 50.000 dólares anuales, en base a una serie de atributos sociodemográficos."
   ]
  },
  {
   "cell_type": "markdown",
   "metadata": {},
   "source": [
    "**TIPO DE PROBLEMA**\\\n",
    "Predicción (clasificación) usando técnicas de aprendizaje de máquinas. La variable objetivo es binaria, y la idea es hacer al menos tres modelos que sean capaz de predecir la ocurrencia de la misma basada en una matriz de atributos sociodemográficos. Para ello, seleccionaré las variables con mayor significancia estadística para discriminar entre un modelo saturado y otros dos depurados. Tras comparar las métricas de rendimiento de todos los modelos, comprobaré el poder de predicción de los mismos con dos registros nuevos."
   ]
  },
  {
   "cell_type": "markdown",
   "metadata": {},
   "source": [
    "**JUSTIFICACIÓN METRICAS**\n",
    "\n",
    "`precision`, porque es la probabilidad de que instancias positivas sean efectivamente predichas como positivas, es decir, es una medida de la calidad del modelo;\n",
    "\n",
    "`sensitivity` o `recall`, porque hace referencia a cuántas de las mediciones que son positivas el modelo es capaz de capturar etiquetándolas como positivas, es decir, es una medida de la completitud del modelo;\n",
    "\n",
    "`accuracy`, porque es la fracción de predicciones correctas entre el número total de registros, es decir, es una medida intuitiva del poder de predicción del modelo;\n",
    "\n",
    "`F1-score`, porque combina de manera razonable `precision` y `sensitivity`, es decir, es una medida de qué tan robusto es el modelo como un todo; y\n",
    "\n",
    "`AUC`, porque el área bajo la curva ROC es una buena medida de cuán bien se pueden discriminar los casos positivos de los negativos, reduciendo los errores Tipo I y II.\n",
    "\n",
    "Finalmente mostraré la `confusion matrix`, para poder visualizar las posibles correlaciones entre los atributos del modelo."
   ]
  },
  {
   "cell_type": "markdown",
   "metadata": {},
   "source": [
    "**JUSTIFICACIÓN DE LIBRERIAS**\n",
    "\n",
    "Utilizaré `pandas` y `numpy` para manejar los datos, transformarlos y prepararlos para el modelamiento, en conjunto con `matplotlib.pyplot` y `seaborn`, útiles para realizar gráficos pertinentes a la visualización de los datos y de los resultados. La librería `statsmodels` sirve para analizar estadísticamente la significancia de las variables en el modelamiento. También usaré  `sklearn.preprocessing`, que contiene `StandardScaler()` y `OneHotEncoder()`, para estandarizar los valores numéricos y para codificar variables categóricas creandos columnas binarias por cada categoría, respectivamente. Luego, `sklearn.linear_model` y `sklearn.model_selection` contienen los métodos de modelamiento predictivo, en particular `LogisticRegression()` para la regresión logística, y `train_test_split()` para generar las submuestras; mientras que `sklearn.metrics` a su vez contiene todas las métricas para cuantificar el rendimiento del modelo. También usaré `sklearn.impute.SimpleImputer()`, encargado de la imputación estadística de los valores inválidos o no informados; y `sklearn.compose.ColumnTransformer()`, que simplemente aplica transformadas a columnas de un _dataframe_. Finalmente, `sklearn.pipeline.Pipeline()` aplica una lista de transformaciones de forma secuencial en una _pipeline_, muy útil para estandarizar el proceso de aprendizaje de máquinas en general. Adicionalmente, `missingno` es útil para visualizar datos inválidos (NaN)."
   ]
  },
  {
   "cell_type": "markdown",
   "metadata": {},
   "source": [
    "**PREPROCESAMIENTO y RECODIFICACION DE DATOS**\n",
    "\n",
    "Realizaré el proceso estándar para el preprocesamiento de los datos:\n",
    "\n",
    "    - revisión del archivo con los datos (encoding, archivos corruptos, etc.);\n",
    "    - limpieza o imputación estadística de valores inválidos (NaN) según corresponda;\n",
    "    - recodificación de columnas según el enunciado y acorde a las necesidades del problema;\n",
    "    - cuando corresponda, estandarización de variables contínuas y binarización de variables categóricas."
   ]
  },
  {
   "cell_type": "code",
   "execution_count": 1,
   "metadata": {},
   "outputs": [],
   "source": [
    "import pandas as pd\n",
    "import numpy as np\n",
    "import matplotlib.pyplot as plt\n",
    "import seaborn as sns\n",
    "import statsmodels.formula.api as smf\n",
    "from sklearn.linear_model import LogisticRegression\n",
    "from sklearn.model_selection import train_test_split\n",
    "from sklearn.metrics import classification_report, roc_curve, roc_auc_score, confusion_matrix\n",
    "from sklearn.compose import ColumnTransformer\n",
    "from sklearn.pipeline import Pipeline\n",
    "from sklearn.impute import SimpleImputer\n",
    "from sklearn.preprocessing import StandardScaler, OneHotEncoder\n",
    "import missingno as msno\n",
    "from support import *  # local support functions\n",
    "plt.style.use('seaborn-notebook')"
   ]
  },
  {
   "cell_type": "markdown",
   "metadata": {},
   "source": [
    "Primero veamos qué tiene el dataset:"
   ]
  },
  {
   "cell_type": "code",
   "execution_count": 2,
   "metadata": {},
   "outputs": [
    {
     "data": {
      "text/html": [
       "<div>\n",
       "<style scoped>\n",
       "    .dataframe tbody tr th:only-of-type {\n",
       "        vertical-align: middle;\n",
       "    }\n",
       "\n",
       "    .dataframe tbody tr th {\n",
       "        vertical-align: top;\n",
       "    }\n",
       "\n",
       "    .dataframe thead th {\n",
       "        text-align: right;\n",
       "    }\n",
       "</style>\n",
       "<table border=\"1\" class=\"dataframe\">\n",
       "  <thead>\n",
       "    <tr style=\"text-align: right;\">\n",
       "      <th></th>\n",
       "      <th>age</th>\n",
       "      <th>workclass</th>\n",
       "      <th>fnlwgt</th>\n",
       "      <th>education</th>\n",
       "      <th>educational-num</th>\n",
       "      <th>marital-status</th>\n",
       "      <th>occupation</th>\n",
       "      <th>relationship</th>\n",
       "      <th>race</th>\n",
       "      <th>gender</th>\n",
       "      <th>capital-gain</th>\n",
       "      <th>capital-loss</th>\n",
       "      <th>hours-per-week</th>\n",
       "      <th>native-country</th>\n",
       "      <th>income</th>\n",
       "    </tr>\n",
       "  </thead>\n",
       "  <tbody>\n",
       "    <tr>\n",
       "      <th>34628</th>\n",
       "      <td>29</td>\n",
       "      <td>State-gov</td>\n",
       "      <td>183285</td>\n",
       "      <td>Some-college</td>\n",
       "      <td>10</td>\n",
       "      <td>Never-married</td>\n",
       "      <td>Protective-serv</td>\n",
       "      <td>Not-in-family</td>\n",
       "      <td>White</td>\n",
       "      <td>Male</td>\n",
       "      <td>0</td>\n",
       "      <td>0</td>\n",
       "      <td>36</td>\n",
       "      <td>United-States</td>\n",
       "      <td>&lt;=50K</td>\n",
       "    </tr>\n",
       "    <tr>\n",
       "      <th>48619</th>\n",
       "      <td>33</td>\n",
       "      <td>Local-gov</td>\n",
       "      <td>318921</td>\n",
       "      <td>HS-grad</td>\n",
       "      <td>9</td>\n",
       "      <td>Divorced</td>\n",
       "      <td>Transport-moving</td>\n",
       "      <td>Not-in-family</td>\n",
       "      <td>White</td>\n",
       "      <td>Female</td>\n",
       "      <td>0</td>\n",
       "      <td>0</td>\n",
       "      <td>35</td>\n",
       "      <td>United-States</td>\n",
       "      <td>&lt;=50K</td>\n",
       "    </tr>\n",
       "    <tr>\n",
       "      <th>21522</th>\n",
       "      <td>50</td>\n",
       "      <td>Private</td>\n",
       "      <td>207367</td>\n",
       "      <td>Some-college</td>\n",
       "      <td>10</td>\n",
       "      <td>Married-spouse-absent</td>\n",
       "      <td>Other-service</td>\n",
       "      <td>Not-in-family</td>\n",
       "      <td>White</td>\n",
       "      <td>Female</td>\n",
       "      <td>0</td>\n",
       "      <td>0</td>\n",
       "      <td>40</td>\n",
       "      <td>Cuba</td>\n",
       "      <td>&lt;=50K</td>\n",
       "    </tr>\n",
       "    <tr>\n",
       "      <th>16217</th>\n",
       "      <td>32</td>\n",
       "      <td>Private</td>\n",
       "      <td>244268</td>\n",
       "      <td>11th</td>\n",
       "      <td>7</td>\n",
       "      <td>Married-civ-spouse</td>\n",
       "      <td>Craft-repair</td>\n",
       "      <td>Husband</td>\n",
       "      <td>White</td>\n",
       "      <td>Male</td>\n",
       "      <td>0</td>\n",
       "      <td>1672</td>\n",
       "      <td>48</td>\n",
       "      <td>United-States</td>\n",
       "      <td>&lt;=50K</td>\n",
       "    </tr>\n",
       "    <tr>\n",
       "      <th>26535</th>\n",
       "      <td>31</td>\n",
       "      <td>Private</td>\n",
       "      <td>204752</td>\n",
       "      <td>12th</td>\n",
       "      <td>8</td>\n",
       "      <td>Never-married</td>\n",
       "      <td>Sales</td>\n",
       "      <td>Own-child</td>\n",
       "      <td>White</td>\n",
       "      <td>Male</td>\n",
       "      <td>0</td>\n",
       "      <td>0</td>\n",
       "      <td>32</td>\n",
       "      <td>United-States</td>\n",
       "      <td>&lt;=50K</td>\n",
       "    </tr>\n",
       "  </tbody>\n",
       "</table>\n",
       "</div>"
      ],
      "text/plain": [
       "       age  workclass  fnlwgt     education  educational-num  \\\n",
       "34628   29  State-gov  183285  Some-college               10   \n",
       "48619   33  Local-gov  318921       HS-grad                9   \n",
       "21522   50    Private  207367  Some-college               10   \n",
       "16217   32    Private  244268          11th                7   \n",
       "26535   31    Private  204752          12th                8   \n",
       "\n",
       "              marital-status        occupation   relationship   race  gender  \\\n",
       "34628          Never-married   Protective-serv  Not-in-family  White    Male   \n",
       "48619               Divorced  Transport-moving  Not-in-family  White  Female   \n",
       "21522  Married-spouse-absent     Other-service  Not-in-family  White  Female   \n",
       "16217     Married-civ-spouse      Craft-repair        Husband  White    Male   \n",
       "26535          Never-married             Sales      Own-child  White    Male   \n",
       "\n",
       "       capital-gain  capital-loss  hours-per-week native-country income  \n",
       "34628             0             0              36  United-States  <=50K  \n",
       "48619             0             0              35  United-States  <=50K  \n",
       "21522             0             0              40           Cuba  <=50K  \n",
       "16217             0          1672              48  United-States  <=50K  \n",
       "26535             0             0              32  United-States  <=50K  "
      ]
     },
     "execution_count": 2,
     "metadata": {},
     "output_type": "execute_result"
    }
   ],
   "source": [
    "df = pd.read_csv('income-db.csv')\n",
    "df.sample(n=5)"
   ]
  },
  {
   "cell_type": "markdown",
   "metadata": {},
   "source": [
    "Ahora transformo los datos `?` a NaN's para poder tratarlos adecuadamente:"
   ]
  },
  {
   "cell_type": "code",
   "execution_count": 3,
   "metadata": {},
   "outputs": [],
   "source": [
    "df = df.replace(to_replace='?', value=np.nan)\n",
    "df_bckup = df.dropna().copy()"
   ]
  },
  {
   "cell_type": "code",
   "execution_count": 4,
   "metadata": {},
   "outputs": [
    {
     "name": "stdout",
     "output_type": "stream",
     "text": [
      "<class 'pandas.core.frame.DataFrame'>\n",
      "RangeIndex: 48842 entries, 0 to 48841\n",
      "Data columns (total 15 columns):\n",
      "age                48842 non-null int64\n",
      "workclass          46043 non-null object\n",
      "fnlwgt             48842 non-null int64\n",
      "education          48842 non-null object\n",
      "educational-num    48842 non-null int64\n",
      "marital-status     48842 non-null object\n",
      "occupation         46033 non-null object\n",
      "relationship       48842 non-null object\n",
      "race               48842 non-null object\n",
      "gender             48842 non-null object\n",
      "capital-gain       48842 non-null int64\n",
      "capital-loss       48842 non-null int64\n",
      "hours-per-week     48842 non-null int64\n",
      "native-country     47985 non-null object\n",
      "income             48842 non-null object\n",
      "dtypes: int64(6), object(9)\n",
      "memory usage: 5.6+ MB\n"
     ]
    }
   ],
   "source": [
    "df.info()"
   ]
  },
  {
   "cell_type": "markdown",
   "metadata": {},
   "source": [
    "Y ahora visualizo los valores inválidos tipo `np.nan` para todo mi dataframe, y posteriormente hago un reporte por columna:"
   ]
  },
  {
   "cell_type": "code",
   "execution_count": 5,
   "metadata": {},
   "outputs": [
    {
     "data": {
      "image/png": "[encoded data removed]",
      "text/plain": [
       "<Figure size 1800x720 with 2 Axes>"
      ]
     },
     "metadata": {
      "needs_background": "light"
     },
     "output_type": "display_data"
    }
   ],
   "source": [
    "msno.matrix(df);"
   ]
  },
  {
   "cell_type": "code",
   "execution_count": 6,
   "metadata": {},
   "outputs": [
    {
     "data": {
      "text/plain": [
       "age                   0\n",
       "workclass          2799\n",
       "fnlwgt                0\n",
       "education             0\n",
       "educational-num       0\n",
       "marital-status        0\n",
       "occupation         2809\n",
       "relationship          0\n",
       "race                  0\n",
       "gender                0\n",
       "capital-gain          0\n",
       "capital-loss          0\n",
       "hours-per-week        0\n",
       "native-country      857\n",
       "income                0\n",
       "dtype: int64"
      ]
     },
     "execution_count": 6,
     "metadata": {},
     "output_type": "execute_result"
    }
   ],
   "source": [
    "df.isnull().sum(axis = 0)  # NaN distribution columnwise"
   ]
  },
  {
   "cell_type": "markdown",
   "metadata": {},
   "source": [
    "**Inspección visual del vector objetivo y las demás variables:**"
   ]
  },
  {
   "cell_type": "code",
   "execution_count": 7,
   "metadata": {},
   "outputs": [
    {
     "data": {
      "image/png": "[encoded data removed]",
      "text/plain": [
       "<Figure size 720x432 with 6 Axes>"
      ]
     },
     "metadata": {
      "needs_background": "light"
     },
     "output_type": "display_data"
    }
   ],
   "source": [
    "variables_to_plot = ['age', 'educational-num', 'capital-gain', 'capital-loss', 'hours-per-week']\n",
    "plt.figure(figsize=(10,6))\n",
    "plt.subplot(2,3,1)\n",
    "df['income'].hist(bins=3, color='tomato')\n",
    "plt.grid(False)\n",
    "plt.xlabel('income')\n",
    "for i, var in enumerate(variables_to_plot):\n",
    "    plt.subplot(2,3,i+2)\n",
    "    sns.distplot(df[var].dropna(), kde=False, bins=8, color='tomato')\n",
    "plt.tight_layout()"
   ]
  },
  {
   "cell_type": "code",
   "execution_count": 8,
   "metadata": {},
   "outputs": [
    {
     "data": {
      "image/png": "[encoded data removed]",
      "text/plain": [
       "<Figure size 792x648 with 6 Axes>"
      ]
     },
     "metadata": {
      "needs_background": "light"
     },
     "output_type": "display_data"
    }
   ],
   "source": [
    "categoricals_to_plot = ['workclass', 'education', 'marital-status',\n",
    "                        'occupation', 'relationship', 'race']\n",
    "plt.figure(figsize=(11,9))\n",
    "for i, var in enumerate(categoricals_to_plot):\n",
    "    plt.subplot(2,3,i+1)\n",
    "    chart = sns.countplot(data=df, x=var, hue='gender')\n",
    "    chart.set_xticklabels(chart.get_xticklabels(), rotation=90, fontsize=8)\n",
    "plt.tight_layout()"
   ]
  },
  {
   "cell_type": "markdown",
   "metadata": {},
   "source": [
    "Ninguna de las variables presenta anomalías notables."
   ]
  },
  {
   "cell_type": "markdown",
   "metadata": {},
   "source": [
    "La recodificación se puede realizar de la siguiente manera. Primero, defino los grupos, luego aplico la recodificación:"
   ]
  },
  {
   "cell_type": "code",
   "execution_count": 9,
   "metadata": {},
   "outputs": [],
   "source": [
    "white_collars = ['Prof-specialty', 'Exec-managerial', 'Adm-clerical', 'Sales', 'Tech-support']\n",
    "blue_collars = ['Craft-repair', 'Machine-op-inspct', 'Transport-moving', 'Handlers-cleaners', 'Farming-fishing', 'Protective-serv', 'Priv-house-serv']\n",
    "other_collars = ['Other-service', 'Armed-Forces']\n",
    "federal_gov_wc = ['Federal-gov']\n",
    "state_level_gov_wc = ['State-goc', 'Local-gov']\n",
    "self_employed_wc = ['Self-emp-inc', 'Self-emp-not-inc']\n",
    "unemployed_wc = ['Never-worked', 'Without-pay']\n",
    "private_wc = ['Private']\n",
    "preschool_ed = ['Preschool']\n",
    "elementary_school_ed = ['1st-4th', '5th-6th']\n",
    "high_school_ed = ['7th-8th', '9th', '10th', '11th', '12th', 'HS-grad']\n",
    "college_ed = ['Assoc-voc', 'Assoc-acdm', 'Some-college']\n",
    "university_ed = ['Bachelors', 'Masters', 'Prof-school', 'Doctorate']\n",
    "married_ms = ['Married-civ-spouse', 'Married-spouse-absent', 'Married-AF-spouse']\n",
    "nmarried_ms = ['Never-married']\n",
    "divorced_ms = ['Divorced']\n",
    "separated_ms = ['Separated']\n",
    "widowed_ms = ['Widowed']\n",
    "america_reg = ['United-States', 'Mexico', 'Puerto-Rico', 'Canada', 'El-Salvador', 'Cuba', 'Jamaica', 'Dominican-Republic', 'Guatemala', 'Columbia', 'Haiti', 'Nicaragua', 'Peru', 'Ecuador', 'Trinadad&Tobago', 'Outlying-US', 'Honduras']\n",
    "europe_reg = ['Germany', 'England', 'Italy', 'Poland', 'Portugal', 'Greece', 'France', 'Ireland', 'Yugoslavia', 'Scotland', 'Hungary', 'Holand-Netherlands']\n",
    "asia_reg = ['Philippines', 'India', 'China', 'Japan', 'Vietnam', 'Taiwan', 'Iran', 'Hong', 'Thailand', 'Cambodia', 'Laos']\n",
    "africa_reg = ['South']"
   ]
  },
  {
   "cell_type": "code",
   "execution_count": 10,
   "metadata": {},
   "outputs": [],
   "source": [
    "df['collars'] = df.apply(lambda row: recod_row(row, 'occupation', 'white', white_collars), axis=1)\n",
    "df['collars'] = df.apply(lambda row: recod_row(row, 'occupation', 'blue', blue_collars) if row['collars'] is np.nan else row['collars'], axis=1)\n",
    "df['collars'] = df.apply(lambda row: recod_row(row, 'occupation', 'others', other_collars) if row['collars'] is np.nan else row['collars'], axis=1)"
   ]
  },
  {
   "cell_type": "code",
   "execution_count": 11,
   "metadata": {},
   "outputs": [],
   "source": [
    "df['workclass_recod'] = df.apply(lambda row: recod_row(row, 'workclass', 'federal_gov', federal_gov_wc), axis=1)\n",
    "df['workclass_recod'] = df.apply(lambda row: recod_row(row, 'workclass', 'state_level_gov', state_level_gov_wc) if row['workclass_recod'] is np.nan else row['workclass_recod'], axis=1)\n",
    "df['workclass_recod'] = df.apply(lambda row: recod_row(row, 'workclass', 'self_employed', self_employed_wc) if row['workclass_recod'] is np.nan else row['workclass_recod'], axis=1)\n",
    "df['workclass_recod'] = df.apply(lambda row: recod_row(row, 'workclass', 'unemployed', unemployed_wc) if row['workclass_recod'] is np.nan else row['workclass_recod'], axis=1)\n",
    "df['workclass_recod'] = df.apply(lambda row: recod_row(row, 'workclass', 'private', private_wc) if row['workclass_recod'] is np.nan else row['workclass_recod'], axis=1)"
   ]
  },
  {
   "cell_type": "code",
   "execution_count": 12,
   "metadata": {},
   "outputs": [],
   "source": [
    "df['educ_recod'] = df.apply(lambda row: recod_row(row, 'education', 'preschool', preschool_ed), axis=1)\n",
    "df['educ_recod'] = df.apply(lambda row: recod_row(row, 'education', 'elementary_school', elementary_school_ed) if row['educ_recod'] is np.nan else row['educ_recod'], axis=1)\n",
    "df['educ_recod'] = df.apply(lambda row: recod_row(row, 'education', 'high_school', high_school_ed) if row['educ_recod'] is np.nan else row['educ_recod'], axis=1)\n",
    "df['educ_recod'] = df.apply(lambda row: recod_row(row, 'education', 'college', college_ed) if row['educ_recod'] is np.nan else row['educ_recod'], axis=1)\n",
    "df['educ_recod'] = df.apply(lambda row: recod_row(row, 'education', 'university', university_ed) if row['educ_recod'] is np.nan else row['educ_recod'], axis=1)"
   ]
  },
  {
   "cell_type": "code",
   "execution_count": 13,
   "metadata": {},
   "outputs": [],
   "source": [
    "df['civstatus'] = df.apply(lambda row: recod_row(row, 'marital-status', 'married', married_ms), axis=1)\n",
    "df['civstatus'] = df.apply(lambda row: recod_row(row, 'marital-status', 'nmarried', nmarried_ms) if row['civstatus'] is np.nan else row['civstatus'], axis=1)\n",
    "df['civstatus'] = df.apply(lambda row: recod_row(row, 'marital-status', 'divorced', divorced_ms) if row['civstatus'] is np.nan else row['civstatus'], axis=1)\n",
    "df['civstatus'] = df.apply(lambda row: recod_row(row, 'marital-status', 'separated', separated_ms) if row['civstatus'] is np.nan else row['civstatus'], axis=1)\n",
    "df['civstatus'] = df.apply(lambda row: recod_row(row, 'marital-status', 'widowed', widowed_ms) if row['civstatus'] is np.nan else row['civstatus'], axis=1)"
   ]
  },
  {
   "cell_type": "code",
   "execution_count": 14,
   "metadata": {},
   "outputs": [],
   "source": [
    "df['region'] = df.apply(lambda row: recod_row(row, 'native-country', 'america', america_reg), axis=1)\n",
    "df['region'] = df.apply(lambda row: recod_row(row, 'native-country', 'europe', europe_reg) if row['region'] is np.nan else row['region'], axis=1)\n",
    "df['region'] = df.apply(lambda row: recod_row(row, 'native-country', 'asia', asia_reg) if row['region'] is np.nan else row['region'], axis=1)\n",
    "df['region'] = df.apply(lambda row: recod_row(row, 'native-country', 'africa', africa_reg) if row['region'] is np.nan else row['region'], axis=1)"
   ]
  },
  {
   "cell_type": "code",
   "execution_count": 15,
   "metadata": {},
   "outputs": [
    {
     "data": {
      "text/plain": [
       "<=50K    37155\n",
       ">50K     11687\n",
       "Name: income, dtype: int64"
      ]
     },
     "execution_count": 15,
     "metadata": {},
     "output_type": "execute_result"
    }
   ],
   "source": [
    "df['income'].value_counts()"
   ]
  },
  {
   "cell_type": "code",
   "execution_count": 16,
   "metadata": {},
   "outputs": [],
   "source": [
    "df['>50k'] = np.where(df['income']=='>50K', 1, 0)"
   ]
  },
  {
   "cell_type": "markdown",
   "metadata": {},
   "source": [
    "Para reducir colinearidad, elimino las columnas que contienen la misma información. Además elimino `fnlwgt`, porque es una variable que sabemos no aporta en nada al modelamiento:"
   ]
  },
  {
   "cell_type": "code",
   "execution_count": 17,
   "metadata": {},
   "outputs": [],
   "source": [
    "df = df.drop(columns=['occupation', 'workclass', 'education', 'marital-status', 'native-country', 'income', 'fnlwgt'])"
   ]
  },
  {
   "cell_type": "markdown",
   "metadata": {},
   "source": [
    "También reviso la matriz de correlaciones:"
   ]
  },
  {
   "cell_type": "code",
   "execution_count": 18,
   "metadata": {},
   "outputs": [
    {
     "data": {
      "image/png": "[encoded data removed]",
      "text/plain": [
       "<Figure size 576x360 with 2 Axes>"
      ]
     },
     "metadata": {
      "needs_background": "light"
     },
     "output_type": "display_data"
    }
   ],
   "source": [
    "dfcorr = df.corr().dropna()\n",
    "plt.rcParams['figure.figsize'] = 8, 5\n",
    "ax = sns.heatmap(dfcorr, annot=True, cmap='Blues', vmin=-1, vmax=1, fmt='.1g')\n",
    "plt.tight_layout()"
   ]
  },
  {
   "cell_type": "markdown",
   "metadata": {},
   "source": [
    "En donde podemos confirmar que no existe una colinealidad evidente entre mis regresores."
   ]
  },
  {
   "cell_type": "markdown",
   "metadata": {},
   "source": [
    "### Generación de modelos"
   ]
  },
  {
   "cell_type": "markdown",
   "metadata": {},
   "source": [
    "A continuación generaré `mod1`, un modelo saturado que incluya todos los regresores."
   ]
  },
  {
   "cell_type": "code",
   "execution_count": 19,
   "metadata": {},
   "outputs": [],
   "source": [
    "X = df.drop(['>50k'], axis=1)  # features\n",
    "y = df['>50k']  # target"
   ]
  },
  {
   "cell_type": "code",
   "execution_count": 20,
   "metadata": {},
   "outputs": [
    {
     "name": "stdout",
     "output_type": "stream",
     "text": [
      "Sample size = 48842\n",
      "Features    = 13\n"
     ]
    }
   ],
   "source": [
    "print(f'Sample size = {y.shape[0]}')\n",
    "print(f'Features    = {X.shape[1]}')"
   ]
  },
  {
   "cell_type": "markdown",
   "metadata": {},
   "source": [
    "De las :\n",
    "\n",
    "4 regresores NUMÉRICOS →\\\n",
    "`age`, `capital-gain`, `capital-loss`, `hours-per-week`\n",
    "\n",
    "9 regresores CATEGÓRICOS →\\\n",
    "`relationship` (6), `educational-num` (16), `race` (5), `gender` (2), `collars` (3),\\\n",
    "`workclass_recod` (5), `education_recod` (5), `civstatus` (4), `region` (4)"
   ]
  },
  {
   "cell_type": "markdown",
   "metadata": {},
   "source": [
    "Ahora construiré la pipeline para todo el proceso:\\\n",
    "(1) proprocesamiento de los datos, que incluye manejo de valores inválidos por `SimpleImputer()`,\\\n",
    "codificación de clases para las variables categóricas via `OneHotEncoder()`,\\\n",
    "y estandarización para las variables numéricas usando `StandardScaler()`, y\\\n",
    "(2) modelamiento."
   ]
  },
  {
   "cell_type": "markdown",
   "metadata": {},
   "source": [
    "Nota: Como estrategia para manejar datos NaN, usaré imputación estadística de datos (utilizando la mediana) antes que la eliminación del registro. Esto es porque debido a la poca cantidad de valores NaN, prefiero reemplazar sus valores por uno representativo de la distribución antes que eliminar el registro por completo. El posible efecto de introducción de sesgo en la muestra debido a datos imputados se considera despreciable."
   ]
  },
  {
   "cell_type": "code",
   "execution_count": 21,
   "metadata": {},
   "outputs": [],
   "source": [
    "numeric_features = ['age', 'capital-gain', 'capital-loss', 'hours-per-week']\n",
    "numeric_transformer = Pipeline(steps=[\n",
    "    ('imputer', SimpleImputer(strategy='median')),\n",
    "    ('scaler', StandardScaler())])"
   ]
  },
  {
   "cell_type": "code",
   "execution_count": 22,
   "metadata": {},
   "outputs": [],
   "source": [
    "categorical_features = ['relationship', 'educational-num', 'race', 'gender', 'collars', 'workclass_recod', 'civstatus', 'region']\n",
    "categorical_transformer = Pipeline(steps=[\n",
    "    ('imputer', SimpleImputer(strategy='constant', fill_value='missing')),\n",
    "    ('onehot', OneHotEncoder(handle_unknown='ignore'))])"
   ]
  },
  {
   "cell_type": "code",
   "execution_count": 23,
   "metadata": {},
   "outputs": [],
   "source": [
    "preprocessor = ColumnTransformer(\n",
    "    transformers=[\n",
    "        ('num', numeric_transformer, numeric_features),\n",
    "        ('cat', categorical_transformer, categorical_features)])"
   ]
  },
  {
   "cell_type": "code",
   "execution_count": 24,
   "metadata": {},
   "outputs": [],
   "source": [
    "logreg_pip = Pipeline(steps=[('preprocessor', preprocessor),\n",
    "                             ('model', LogisticRegression(solver='lbfgs', max_iter=1000))])"
   ]
  },
  {
   "cell_type": "code",
   "execution_count": 25,
   "metadata": {},
   "outputs": [],
   "source": [
    "X_train, X_test, y_train, y_test = train_test_split(X, y, test_size=0.33, random_state=42)"
   ]
  },
  {
   "cell_type": "code",
   "execution_count": 26,
   "metadata": {},
   "outputs": [],
   "source": [
    "mod1 = logreg_pip.fit(X_train, y_train)"
   ]
  },
  {
   "cell_type": "code",
   "execution_count": 27,
   "metadata": {},
   "outputs": [],
   "source": [
    "y_test_pred_log = mod1.predict(X_test)  # make prediction, logreg\n",
    "y_test_pred_probs_log = mod1.predict_proba(X_test)[:,1]  # get probabilities of predicted classes, logreg"
   ]
  },
  {
   "cell_type": "markdown",
   "metadata": {},
   "source": [
    "En este punto ya es posible hacer predicciones con el modelo `mod1`."
   ]
  },
  {
   "cell_type": "markdown",
   "metadata": {},
   "source": [
    "A continuación generaré `mod2`, un modelo depurado que incluya sólo los regresores de más alta significancia estadística. Para ello usaré una binarización explícita de las variables, y seleccionaré de acuerdo a ello."
   ]
  },
  {
   "cell_type": "code",
   "execution_count": 28,
   "metadata": {},
   "outputs": [],
   "source": [
    "import re\n",
    "df2 = df.rename(columns={'>50k': 'more_than_50k'})\n",
    "df2 = df2.dropna()"
   ]
  },
  {
   "cell_type": "code",
   "execution_count": 29,
   "metadata": {},
   "outputs": [
    {
     "name": "stdout",
     "output_type": "stream",
     "text": [
      "<class 'pandas.core.frame.DataFrame'>\n",
      "RangeIndex: 48842 entries, 0 to 48841\n",
      "Data columns (total 14 columns):\n",
      "age                48842 non-null int64\n",
      "educational-num    48842 non-null int64\n",
      "relationship       48842 non-null object\n",
      "race               48842 non-null object\n",
      "gender             48842 non-null object\n",
      "capital-gain       48842 non-null int64\n",
      "capital-loss       48842 non-null int64\n",
      "hours-per-week     48842 non-null int64\n",
      "collars            46033 non-null object\n",
      "workclass_recod    44062 non-null object\n",
      "educ_recod         48842 non-null object\n",
      "civstatus          48842 non-null object\n",
      "region             47962 non-null object\n",
      ">50k               48842 non-null int64\n",
      "dtypes: int64(6), object(8)\n",
      "memory usage: 5.2+ MB\n"
     ]
    }
   ],
   "source": [
    "cols = binarize(df2)\n",
    "df2 = df2.drop(columns=cols)\n",
    "df2 = df2.rename(columns=lambda x: re.sub('-','_',x))\n",
    "df.info()"
   ]
  },
  {
   "cell_type": "markdown",
   "metadata": {},
   "source": [
    "En este punto usaré `statmodels` para generar una regresión logística que me entregue un desglose estadístico de los _p-value_, que dado un valor crítico podré seleccionar iterativamente para generar cada nuevo modelo depurado:"
   ]
  },
  {
   "cell_type": "code",
   "execution_count": 30,
   "metadata": {},
   "outputs": [
    {
     "name": "stdout",
     "output_type": "stream",
     "text": [
      "Optimization terminated successfully.\n",
      "         Current function value: 0.331528\n",
      "         Iterations 11\n"
     ]
    }
   ],
   "source": [
    "mod_logit = smf.logit(generate_formula(df2.columns.tolist(), 'more_than_50k'), data=df2).fit()"
   ]
  },
  {
   "cell_type": "code",
   "execution_count": 31,
   "metadata": {},
   "outputs": [
    {
     "data": {
      "text/plain": [
       "['bin_race_Other',\n",
       " 'bin_workclass_recod_state_level_gov',\n",
       " 'bin_workclass_recod_unemployed',\n",
       " 'bin_educ_recod_college',\n",
       " 'bin_educ_recod_elementary_school',\n",
       " 'bin_educ_recod_preschool',\n",
       " 'bin_region_europe']"
      ]
     },
     "execution_count": 31,
     "metadata": {},
     "output_type": "execute_result"
    }
   ],
   "source": [
    "table = mod_logit.summary2().tables[1]['P>|z|']\n",
    "low_sig = [table.index[i] for i, value in enumerate(table) if value >= 5/100 and i != 0]\n",
    "low_sig"
   ]
  },
  {
   "cell_type": "code",
   "execution_count": 32,
   "metadata": {},
   "outputs": [],
   "source": [
    "df2 = df2.drop(columns=low_sig)"
   ]
  },
  {
   "cell_type": "markdown",
   "metadata": {},
   "source": [
    "En este punto, `df2` corresponde a un dataframe depurado una vez (_1-depurado_). Luego generaré un dataframe _2-depurado_ y para cada uno crearé un modelo, cuyos rendimientos podré comparar más tarde. Ahora puedo generar `mod2`, usando `df2`."
   ]
  },
  {
   "cell_type": "code",
   "execution_count": 33,
   "metadata": {},
   "outputs": [],
   "source": [
    "X2 = df2.drop(['more_than_50k'], axis=1)  # features\n",
    "y2 = df2['more_than_50k']  # target\n",
    "X2_train, X2_test, y2_train, y2_test = train_test_split(X2, y2, test_size=0.33, random_state=42)"
   ]
  },
  {
   "cell_type": "code",
   "execution_count": 34,
   "metadata": {},
   "outputs": [],
   "source": [
    "mod2 = LogisticRegression(solver='lbfgs', max_iter=1000).fit(X2_train, y2_train)\n",
    "y2_test_pred_log = mod2.predict(X2_test)  # make prediction, logreg\n",
    "y2_test_pred_probs_log = mod2.predict_proba(X2_test)[:,1]  # get probabilities of predicted classes, logreg"
   ]
  },
  {
   "cell_type": "markdown",
   "metadata": {},
   "source": [
    "En este punto ya es posible hacer predicciones con el modelo `mod2`."
   ]
  },
  {
   "cell_type": "markdown",
   "metadata": {},
   "source": [
    "A continuación generaré `mod3`, un modelo _2-depurado_ que incluya sólo los regresores de más alta significancia estadística."
   ]
  },
  {
   "cell_type": "code",
   "execution_count": 35,
   "metadata": {},
   "outputs": [
    {
     "name": "stdout",
     "output_type": "stream",
     "text": [
      "Optimization terminated successfully.\n",
      "         Current function value: 0.331702\n",
      "         Iterations 9\n"
     ]
    }
   ],
   "source": [
    "mod_logit2 = smf.logit(generate_formula(df2.columns.tolist(), 'more_than_50k'), data=df2).fit()"
   ]
  },
  {
   "cell_type": "code",
   "execution_count": 36,
   "metadata": {},
   "outputs": [
    {
     "data": {
      "text/plain": [
       "['bin_educ_recod_university']"
      ]
     },
     "execution_count": 36,
     "metadata": {},
     "output_type": "execute_result"
    }
   ],
   "source": [
    "table2 = mod_logit2.summary2().tables[1]['P>|z|']\n",
    "low_sig2 = [ table2.index[i] for i, value in enumerate(table2) if value >= 5/100 and i != 0 ]\n",
    "low_sig2"
   ]
  },
  {
   "cell_type": "code",
   "execution_count": 37,
   "metadata": {},
   "outputs": [],
   "source": [
    "df3 = df2.drop(columns=low_sig2)"
   ]
  },
  {
   "cell_type": "markdown",
   "metadata": {},
   "source": [
    "En este punto, `df3` corresponde a un dataframe depurado dos veces (_2-depurado_). Ahora puedo generar `mod3`, usando `df3`."
   ]
  },
  {
   "cell_type": "code",
   "execution_count": 38,
   "metadata": {},
   "outputs": [],
   "source": [
    "X3 = df3.drop(['more_than_50k'], axis=1)  # features\n",
    "y3 = df3['more_than_50k']  # target\n",
    "X3_train, X3_test, y3_train, y3_test = train_test_split(X3, y3, test_size=0.33, random_state=42)"
   ]
  },
  {
   "cell_type": "code",
   "execution_count": 39,
   "metadata": {},
   "outputs": [],
   "source": [
    "mod3 = LogisticRegression(solver='lbfgs', max_iter=5000).fit(X3_train, y3_train)\n",
    "y3_test_pred_log = mod3.predict(X3_test)  # make prediction, logreg\n",
    "y3_test_pred_probs_log = mod3.predict_proba(X3_test)[:,1]  # get probabilities of predicted classes, logreg"
   ]
  },
  {
   "cell_type": "markdown",
   "metadata": {},
   "source": [
    "En este punto ya es posible hacer predicciones con el modelo `mod3.`"
   ]
  },
  {
   "cell_type": "markdown",
   "metadata": {},
   "source": [
    "### Evaluación de modelos"
   ]
  },
  {
   "cell_type": "code",
   "execution_count": 40,
   "metadata": {},
   "outputs": [
    {
     "name": "stdout",
     "output_type": "stream",
     "text": [
      "Model 1: Logistic Regression (saturado)\n",
      "              precision    recall  f1-score   support\n",
      "\n",
      "           0       0.88      0.93      0.91     12316\n",
      "           1       0.74      0.60      0.66      3802\n",
      "\n",
      "    accuracy                           0.85     16118\n",
      "   macro avg       0.81      0.77      0.78     16118\n",
      "weighted avg       0.85      0.85      0.85     16118\n",
      "\n"
     ]
    },
    {
     "data": {
      "image/png": "[encoded data removed]",
      "text/plain": [
       "<Figure size 432x288 with 1 Axes>"
      ]
     },
     "metadata": {
      "needs_background": "light"
     },
     "output_type": "display_data"
    }
   ],
   "source": [
    "get_model_evaluation_report(y_test, y_test_pred_log, y_test_pred_probs_log, 'Model 1: Logistic Regression (saturado)')"
   ]
  },
  {
   "cell_type": "code",
   "execution_count": 41,
   "metadata": {},
   "outputs": [
    {
     "name": "stdout",
     "output_type": "stream",
     "text": [
      "Model 2: Logistic Regression (1-depurado)\n",
      "              precision    recall  f1-score   support\n",
      "\n",
      "           0       0.88      0.92      0.90     10750\n",
      "           1       0.72      0.61      0.66      3525\n",
      "\n",
      "    accuracy                           0.85     14275\n",
      "   macro avg       0.80      0.76      0.78     14275\n",
      "weighted avg       0.84      0.85      0.84     14275\n",
      "\n"
     ]
    },
    {
     "data": {
      "image/png": "[encoded data removed]",
      "text/plain": [
       "<Figure size 432x288 with 1 Axes>"
      ]
     },
     "metadata": {
      "needs_background": "light"
     },
     "output_type": "display_data"
    }
   ],
   "source": [
    "get_model_evaluation_report(y2_test, y2_test_pred_log, y2_test_pred_probs_log, 'Model 2: Logistic Regression (1-depurado)')"
   ]
  },
  {
   "cell_type": "code",
   "execution_count": 42,
   "metadata": {},
   "outputs": [
    {
     "name": "stdout",
     "output_type": "stream",
     "text": [
      "Model 3: Logistic Regression (2-depurado)\n",
      "              precision    recall  f1-score   support\n",
      "\n",
      "           0       0.88      0.92      0.90     10750\n",
      "           1       0.72      0.61      0.66      3525\n",
      "\n",
      "    accuracy                           0.84     14275\n",
      "   macro avg       0.80      0.76      0.78     14275\n",
      "weighted avg       0.84      0.84      0.84     14275\n",
      "\n"
     ]
    },
    {
     "data": {
      "image/png": "[encoded data removed]",
      "text/plain": [
       "<Figure size 432x288 with 1 Axes>"
      ]
     },
     "metadata": {
      "needs_background": "light"
     },
     "output_type": "display_data"
    }
   ],
   "source": [
    "get_model_evaluation_report(y3_test, y3_test_pred_log, y3_test_pred_probs_log, 'Model 3: Logistic Regression (2-depurado)')"
   ]
  },
  {
   "cell_type": "code",
   "execution_count": 43,
   "metadata": {},
   "outputs": [
    {
     "data": {
      "text/html": [
       "<table style=\"display:inline\" border=\"1\" class=\"dataframe\">\n",
       "  <thead>\n",
       "    <tr style=\"text-align: right;\">\n",
       "      <th></th>\n",
       "      <th>actual positive</th>\n",
       "      <th>actual negative</th>\n",
       "    </tr>\n",
       "  </thead>\n",
       "  <tbody>\n",
       "    <tr>\n",
       "      <th>predicted positive</th>\n",
       "      <td>TP = 2270</td>\n",
       "      <td>FP = 809 (type I)</td>\n",
       "    </tr>\n",
       "    <tr>\n",
       "      <th>predicted negative</th>\n",
       "      <td>FN = 1532 (type II)</td>\n",
       "      <td>TN = 11507</td>\n",
       "    </tr>\n",
       "  </tbody>\n",
       "</table style=\"display:inline\"><table style=\"display:inline\" border=\"1\" class=\"dataframe\">\n",
       "  <thead>\n",
       "    <tr style=\"text-align: right;\">\n",
       "      <th></th>\n",
       "      <th>actual positive</th>\n",
       "      <th>actual negative</th>\n",
       "    </tr>\n",
       "  </thead>\n",
       "  <tbody>\n",
       "    <tr>\n",
       "      <th>predicted positive</th>\n",
       "      <td>TP = 2135</td>\n",
       "      <td>FP = 818 (type I)</td>\n",
       "    </tr>\n",
       "    <tr>\n",
       "      <th>predicted negative</th>\n",
       "      <td>FN = 1390 (type II)</td>\n",
       "      <td>TN = 9932</td>\n",
       "    </tr>\n",
       "  </tbody>\n",
       "</table style=\"display:inline\"><table style=\"display:inline\" border=\"1\" class=\"dataframe\">\n",
       "  <thead>\n",
       "    <tr style=\"text-align: right;\">\n",
       "      <th></th>\n",
       "      <th>actual positive</th>\n",
       "      <th>actual negative</th>\n",
       "    </tr>\n",
       "  </thead>\n",
       "  <tbody>\n",
       "    <tr>\n",
       "      <th>predicted positive</th>\n",
       "      <td>TP = 2134</td>\n",
       "      <td>FP = 827 (type I)</td>\n",
       "    </tr>\n",
       "    <tr>\n",
       "      <th>predicted negative</th>\n",
       "      <td>FN = 1391 (type II)</td>\n",
       "      <td>TN = 9923</td>\n",
       "    </tr>\n",
       "  </tbody>\n",
       "</table style=\"display:inline\">"
      ]
     },
     "metadata": {},
     "output_type": "display_data"
    }
   ],
   "source": [
    "cm1 = get_confusion_matrix(y_test, y_test_pred_log)\n",
    "cm2 = get_confusion_matrix(y2_test, y2_test_pred_log)\n",
    "cm3 = get_confusion_matrix(y3_test, y3_test_pred_log)\n",
    "display_side_by_side(cm1, cm2, cm3)"
   ]
  },
  {
   "cell_type": "code",
   "execution_count": 44,
   "metadata": {},
   "outputs": [
    {
     "data": {
      "text/html": [
       "<div>\n",
       "<style scoped>\n",
       "    .dataframe tbody tr th:only-of-type {\n",
       "        vertical-align: middle;\n",
       "    }\n",
       "\n",
       "    .dataframe tbody tr th {\n",
       "        vertical-align: top;\n",
       "    }\n",
       "\n",
       "    .dataframe thead th {\n",
       "        text-align: right;\n",
       "    }\n",
       "</style>\n",
       "<table border=\"1\" class=\"dataframe\">\n",
       "  <thead>\n",
       "    <tr style=\"text-align: right;\">\n",
       "      <th></th>\n",
       "      <th>sat</th>\n",
       "      <th>1-dep</th>\n",
       "      <th>2-dep</th>\n",
       "    </tr>\n",
       "  </thead>\n",
       "  <tbody>\n",
       "    <tr>\n",
       "      <th>precision</th>\n",
       "      <td>0.737</td>\n",
       "      <td>0.723</td>\n",
       "      <td>0.721</td>\n",
       "    </tr>\n",
       "    <tr>\n",
       "      <th>accuracy</th>\n",
       "      <td>0.855</td>\n",
       "      <td>0.845</td>\n",
       "      <td>0.845</td>\n",
       "    </tr>\n",
       "    <tr>\n",
       "      <th>sensitivity (recall)</th>\n",
       "      <td>0.597</td>\n",
       "      <td>0.606</td>\n",
       "      <td>0.605</td>\n",
       "    </tr>\n",
       "    <tr>\n",
       "      <th>specificity</th>\n",
       "      <td>0.934</td>\n",
       "      <td>0.924</td>\n",
       "      <td>0.923</td>\n",
       "    </tr>\n",
       "    <tr>\n",
       "      <th>neg_pred_value</th>\n",
       "      <td>0.883</td>\n",
       "      <td>0.877</td>\n",
       "      <td>0.877</td>\n",
       "    </tr>\n",
       "    <tr>\n",
       "      <th>f1</th>\n",
       "      <td>0.660</td>\n",
       "      <td>0.659</td>\n",
       "      <td>0.658</td>\n",
       "    </tr>\n",
       "  </tbody>\n",
       "</table>\n",
       "</div>"
      ],
      "text/plain": [
       "                        sat  1-dep  2-dep\n",
       "precision             0.737  0.723  0.721\n",
       "accuracy              0.855  0.845  0.845\n",
       "sensitivity (recall)  0.597  0.606  0.605\n",
       "specificity           0.934  0.924  0.923\n",
       "neg_pred_value        0.883  0.877  0.877\n",
       "f1                    0.660  0.659  0.658"
      ]
     },
     "execution_count": 44,
     "metadata": {},
     "output_type": "execute_result"
    }
   ],
   "source": [
    "scores1 = pd.DataFrame.from_dict(get_scores(confusion_matrix(y_test, y_test_pred_log)), columns=['sat'], orient='index')\n",
    "scores2 = pd.DataFrame.from_dict(get_scores(confusion_matrix(y2_test, y2_test_pred_log)), columns=['1-dep'], orient='index')\n",
    "scores3 = pd.DataFrame.from_dict(get_scores(confusion_matrix(y3_test, y3_test_pred_log)), columns=['2-dep'], orient='index')\n",
    "round(pd.concat([scores1, scores2, scores3], axis=1, join='inner'), ndigits=3)"
   ]
  },
  {
   "cell_type": "markdown",
   "metadata": {},
   "source": [
    "Vemos que desde el punto de vista de las métricas de evaluación del modelamiento, todos los modelos tienen un rendimiento bastante bueno y similar. Para decidir cuál es el mejor modelo predictivo, estudiaré la sensibilidad de predicción usando dos registros de los que razonablemente sé cuánto debería predecir y con qué probabilidad."
   ]
  },
  {
   "cell_type": "markdown",
   "metadata": {},
   "source": [
    "### Pruebas de predicción"
   ]
  },
  {
   "cell_type": "markdown",
   "metadata": {},
   "source": [
    "Para cada modelo, probaré con 2 casos extremos:\n",
    "\n",
    "(1) un hombre blanco europeo con ganacias fuera del salario, trabajo administrativo en una compañía privada; vs\\\n",
    "(2) una mujer negra africana sin ganancias extra, casada y desempleada."
   ]
  },
  {
   "cell_type": "code",
   "execution_count": 45,
   "metadata": {},
   "outputs": [
    {
     "data": {
      "text/plain": [
       "['age',\n",
       " 'educational-num',\n",
       " 'relationship',\n",
       " 'race',\n",
       " 'gender',\n",
       " 'capital-gain',\n",
       " 'capital-loss',\n",
       " 'hours-per-week',\n",
       " 'collars',\n",
       " 'workclass_recod',\n",
       " 'educ_recod',\n",
       " 'civstatus',\n",
       " 'region',\n",
       " '>50k']"
      ]
     },
     "execution_count": 45,
     "metadata": {},
     "output_type": "execute_result"
    }
   ],
   "source": [
    "df.columns.tolist()"
   ]
  },
  {
   "cell_type": "code",
   "execution_count": 46,
   "metadata": {},
   "outputs": [],
   "source": [
    "rich = np.array([40.0, 16, 'Unmarried', 'White', 'Male' , 10000, 0, 40, 'white', 'private', 'university'   , 'nmarried', 'europe']).reshape(1,-1)\n",
    "poor = np.array([20.0,  9, 'Wife'     , 'Black', 'Woman',   100, 0,  0, 'blue' , 'unemployed', 'preschool' , 'married', 'africa']).reshape(1,-1)"
   ]
  },
  {
   "cell_type": "code",
   "execution_count": 47,
   "metadata": {},
   "outputs": [],
   "source": [
    "rich = pd.DataFrame(data=rich, columns=df.columns[:-1])\n",
    "poor = pd.DataFrame(data=poor, columns=df.columns[:-1])"
   ]
  },
  {
   "cell_type": "code",
   "execution_count": 48,
   "metadata": {},
   "outputs": [
    {
     "data": {
      "text/plain": [
       "['age',\n",
       " 'educational_num',\n",
       " 'capital_gain',\n",
       " 'capital_loss',\n",
       " 'hours_per_week',\n",
       " 'more_than_50k',\n",
       " 'bin_relationship_Not_in_family',\n",
       " 'bin_relationship_Own_child',\n",
       " 'bin_relationship_Unmarried',\n",
       " 'bin_relationship_Wife',\n",
       " 'bin_relationship_Other_relative',\n",
       " 'bin_race_Black',\n",
       " 'bin_race_Asian_Pac_Islander',\n",
       " 'bin_race_Amer_Indian_Eskimo',\n",
       " 'bin_gender_Female',\n",
       " 'bin_collars_blue',\n",
       " 'bin_collars_others',\n",
       " 'bin_workclass_recod_self_employed',\n",
       " 'bin_workclass_recod_federal_gov',\n",
       " 'bin_educ_recod_university',\n",
       " 'bin_civstatus_nmarried',\n",
       " 'bin_civstatus_divorced',\n",
       " 'bin_civstatus_separated',\n",
       " 'bin_civstatus_widowed',\n",
       " 'bin_region_asia',\n",
       " 'bin_region_africa']"
      ]
     },
     "execution_count": 48,
     "metadata": {},
     "output_type": "execute_result"
    }
   ],
   "source": [
    "df2.columns.tolist()"
   ]
  },
  {
   "cell_type": "code",
   "execution_count": 49,
   "metadata": {},
   "outputs": [],
   "source": [
    "rich2 = np.array([40, 16, 10000, 0, 40,\n",
    "                  0, 0, 1, 0, 0,  # bin_relationship → Unmarried\n",
    "                  0, 0, 0,        # bin_race → White\n",
    "                  0,              # bin_gender → Male\n",
    "                  0, 0,           # bin_collars → white\n",
    "                  0, 0,           # bin_workclass → private\n",
    "                  1,              # bin_educ_recod → university\n",
    "                  1, 0, 0, 0,     # bin_civstatus → nmarried\n",
    "                  0, 0            # bin_region → europe\n",
    "                  ]).reshape(1,-1)"
   ]
  },
  {
   "cell_type": "code",
   "execution_count": 50,
   "metadata": {},
   "outputs": [],
   "source": [
    "poor2 = np.array([20, 9, 100, 0, 0,\n",
    "                  0, 0, 0, 1, 0,  # bin_relationship → Wife\n",
    "                  1, 0, 0,        # bin_race → Black\n",
    "                  1,              # bin_gender → Female\n",
    "                  1, 0,           # bin_collars → blue\n",
    "                  0, 0,           # bin_workclass → unemployed\n",
    "                  0,              # bin_educ_recod → preschool\n",
    "                  0, 0, 0, 0,     # bin_civstatus → married\n",
    "                  0, 1            # bin_region → africa\n",
    "                  ]).reshape(1,-1)"
   ]
  },
  {
   "cell_type": "code",
   "execution_count": 51,
   "metadata": {},
   "outputs": [],
   "source": [
    "rich2 = pd.DataFrame(data=rich2, columns=df2.columns.tolist().remove('more_than_50k'))\n",
    "poor2 = pd.DataFrame(data=poor2, columns=df2.columns.tolist().remove('more_than_50k'))"
   ]
  },
  {
   "cell_type": "code",
   "execution_count": 52,
   "metadata": {},
   "outputs": [
    {
     "data": {
      "text/plain": [
       "['age',\n",
       " 'educational_num',\n",
       " 'capital_gain',\n",
       " 'capital_loss',\n",
       " 'hours_per_week',\n",
       " 'more_than_50k',\n",
       " 'bin_relationship_Not_in_family',\n",
       " 'bin_relationship_Own_child',\n",
       " 'bin_relationship_Unmarried',\n",
       " 'bin_relationship_Wife',\n",
       " 'bin_relationship_Other_relative',\n",
       " 'bin_race_Black',\n",
       " 'bin_race_Asian_Pac_Islander',\n",
       " 'bin_race_Amer_Indian_Eskimo',\n",
       " 'bin_gender_Female',\n",
       " 'bin_collars_blue',\n",
       " 'bin_collars_others',\n",
       " 'bin_workclass_recod_self_employed',\n",
       " 'bin_workclass_recod_federal_gov',\n",
       " 'bin_civstatus_nmarried',\n",
       " 'bin_civstatus_divorced',\n",
       " 'bin_civstatus_separated',\n",
       " 'bin_civstatus_widowed',\n",
       " 'bin_region_asia',\n",
       " 'bin_region_africa']"
      ]
     },
     "execution_count": 52,
     "metadata": {},
     "output_type": "execute_result"
    }
   ],
   "source": [
    "df3.columns.tolist()"
   ]
  },
  {
   "cell_type": "code",
   "execution_count": 53,
   "metadata": {},
   "outputs": [],
   "source": [
    "rich3 = np.array([40, 16, 10000, 0, 40,\n",
    "                  0, 0, 1, 0, 0,  # bin_relationship → Unmarried\n",
    "                  0, 0, 0,        # bin_race → White\n",
    "                  0,              # bin_gender → Male\n",
    "                  0, 0,           # bin_collars → white\n",
    "                  0, 0,           # bin_workclass → private\n",
    "                  1, 0, 0, 0,     # bin_civstatus → nmarried\n",
    "                  0, 0            # bin_region → europe\n",
    "                  ]).reshape(1,-1)"
   ]
  },
  {
   "cell_type": "code",
   "execution_count": 54,
   "metadata": {},
   "outputs": [],
   "source": [
    "poor3 = np.array([20, 9, 100, 0, 0,\n",
    "                  0, 0, 0, 1, 0,  # bin_relationship → Wife\n",
    "                  1, 0, 0,        # bin_race → Black\n",
    "                  1,              # bin_gender → Female\n",
    "                  1, 0,           # bin_collars → blue\n",
    "                  0, 0,           # bin_workclass → unemployed\n",
    "                  0, 0, 0, 0,     # bin_civstatus → married\n",
    "                  0, 1            # bin_region → africa\n",
    "                  ]).reshape(1,-1)"
   ]
  },
  {
   "cell_type": "code",
   "execution_count": 55,
   "metadata": {},
   "outputs": [],
   "source": [
    "rich3 = pd.DataFrame(data=rich3, columns=df3.columns.tolist().remove('more_than_50k'))\n",
    "poor3 = pd.DataFrame(data=poor3, columns=df3.columns.tolist().remove('more_than_50k'))"
   ]
  },
  {
   "cell_type": "markdown",
   "metadata": {},
   "source": [
    "**En resumen:**"
   ]
  },
  {
   "cell_type": "code",
   "execution_count": 56,
   "metadata": {},
   "outputs": [
    {
     "name": "stdout",
     "output_type": "stream",
     "text": [
      "Modelo 1, caso 1: con una probabilidad de 0.51,la predicción de un salario >50k anual es 1\n",
      "Modelo 1, caso 2: con una probabilidad de 0.02,la predicción de un salario >50k anual es 0\n",
      "Modelo 2, caso 1: con una probabilidad de 0.86,la predicción de un salario >50k anual es 1\n",
      "Modelo 2, caso 2: con una probabilidad de 0.06,la predicción de un salario >50k anual es 0\n",
      "Modelo 3, caso 1: con una probabilidad de 0.89,la predicción de un salario >50k anual es 1\n",
      "Modelo 3, caso 2: con una probabilidad de 0.06,la predicción de un salario >50k anual es 0\n"
     ]
    }
   ],
   "source": [
    "print(f\"Modelo 1, caso 1: con una probabilidad de {mod1.predict_proba(rich)[0][1]:.2f},\\\n",
    "la predicción de un salario >50k anual es {mod1.predict(rich)[0]}\")\n",
    "print(f\"Modelo 1, caso 2: con una probabilidad de {mod1.predict_proba(poor)[0][1]:.2f},\\\n",
    "la predicción de un salario >50k anual es {mod1.predict(poor)[0]}\")\n",
    "print(f\"Modelo 2, caso 1: con una probabilidad de {mod2.predict_proba(rich2)[0][1]:.2f},\\\n",
    "la predicción de un salario >50k anual es {mod2.predict(rich2)[0]}\")\n",
    "print(f\"Modelo 2, caso 2: con una probabilidad de {mod2.predict_proba(poor2)[0][1]:.2f},\\\n",
    "la predicción de un salario >50k anual es {mod2.predict(poor2)[0]}\")\n",
    "print(f\"Modelo 3, caso 1: con una probabilidad de {mod3.predict_proba(rich3)[0][1]:.2f},\\\n",
    "la predicción de un salario >50k anual es {mod3.predict(rich3)[0]}\")\n",
    "print(f\"Modelo 3, caso 2: con una probabilidad de {mod3.predict_proba(poor3)[0][1]:.2f},\\\n",
    "la predicción de un salario >50k anual es {mod3.predict(poor3)[0]}\")"
   ]
  },
  {
   "cell_type": "markdown",
   "metadata": {},
   "source": [
    "De esta manera, concluyo que mi modelo con mejor capacidad predictiva y mejor sensibilidad es el Modelo 3, ya que reacciona adecuadamente ante cambios en _features_ relevantes."
   ]
  },
  {
   "cell_type": "code",
   "execution_count": null,
   "metadata": {},
   "outputs": [],
   "source": []
  }
 ],
 "metadata": {
  "kernelspec": {
   "display_name": "dlatam_ds",
   "language": "python",
   "name": "dlatam_ds"
  },
  "language_info": {
   "codemirror_mode": {
    "name": "ipython",
    "version": 3
   },
   "file_extension": ".py",
   "mimetype": "text/x-python",
   "name": "python",
   "nbconvert_exporter": "python",
   "pygments_lexer": "ipython3",
   "version": "3.7.3"
  }
 },
 "nbformat": 4,
 "nbformat_minor": 4
}
