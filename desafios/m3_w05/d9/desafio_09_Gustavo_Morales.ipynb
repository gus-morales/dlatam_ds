{
 "cells": [
  {
   "cell_type": "markdown",
   "metadata": {},
   "source": [
    "## Machine Learning - Desafío 9, Boosting Classifiers\n",
    "#### Gustavo Morales, G10 - 03.Feb.2020, (Lunes Semana 5)"
   ]
  },
  {
   "cell_type": "markdown",
   "metadata": {},
   "source": [
    "### **Ejercicio 1: Preprocesamiento**"
   ]
  },
  {
   "cell_type": "code",
   "execution_count": 1,
   "metadata": {},
   "outputs": [],
   "source": [
    "import pandas as pd\n",
    "import numpy as np\n",
    "import matplotlib.pyplot as plt\n",
    "import seaborn as sns\n",
    "from sklearn.model_selection import train_test_split, GridSearchCV\n",
    "from sklearn.metrics import classification_report\n",
    "from sklearn.ensemble import GradientBoostingClassifier, AdaBoostClassifier\n",
    "from itertools import islice"
   ]
  },
  {
   "cell_type": "code",
   "execution_count": 2,
   "metadata": {},
   "outputs": [],
   "source": [
    "df = pd.read_csv('churn_train.csv').drop(columns='Unnamed: 0')"
   ]
  },
  {
   "cell_type": "code",
   "execution_count": 3,
   "metadata": {},
   "outputs": [
    {
     "data": {
      "text/html": [
       "<div>\n",
       "<style scoped>\n",
       "    .dataframe tbody tr th:only-of-type {\n",
       "        vertical-align: middle;\n",
       "    }\n",
       "\n",
       "    .dataframe tbody tr th {\n",
       "        vertical-align: top;\n",
       "    }\n",
       "\n",
       "    .dataframe thead th {\n",
       "        text-align: right;\n",
       "    }\n",
       "</style>\n",
       "<table border=\"1\" class=\"dataframe\">\n",
       "  <thead>\n",
       "    <tr style=\"text-align: right;\">\n",
       "      <th></th>\n",
       "      <th>state</th>\n",
       "      <th>account_length</th>\n",
       "      <th>area_code</th>\n",
       "      <th>international_plan</th>\n",
       "      <th>voice_mail_plan</th>\n",
       "      <th>number_vmail_messages</th>\n",
       "      <th>total_day_minutes</th>\n",
       "      <th>total_day_calls</th>\n",
       "      <th>total_day_charge</th>\n",
       "      <th>total_eve_minutes</th>\n",
       "      <th>total_eve_calls</th>\n",
       "      <th>total_eve_charge</th>\n",
       "      <th>total_night_minutes</th>\n",
       "      <th>total_night_calls</th>\n",
       "      <th>total_night_charge</th>\n",
       "      <th>total_intl_minutes</th>\n",
       "      <th>total_intl_calls</th>\n",
       "      <th>total_intl_charge</th>\n",
       "      <th>number_customer_service_calls</th>\n",
       "      <th>churn</th>\n",
       "    </tr>\n",
       "  </thead>\n",
       "  <tbody>\n",
       "    <tr>\n",
       "      <th>438</th>\n",
       "      <td>WY</td>\n",
       "      <td>113</td>\n",
       "      <td>area_code_510</td>\n",
       "      <td>no</td>\n",
       "      <td>no</td>\n",
       "      <td>0</td>\n",
       "      <td>155.0</td>\n",
       "      <td>93</td>\n",
       "      <td>26.35</td>\n",
       "      <td>330.6</td>\n",
       "      <td>106</td>\n",
       "      <td>28.10</td>\n",
       "      <td>189.4</td>\n",
       "      <td>123</td>\n",
       "      <td>8.52</td>\n",
       "      <td>13.5</td>\n",
       "      <td>3</td>\n",
       "      <td>3.65</td>\n",
       "      <td>1</td>\n",
       "      <td>no</td>\n",
       "    </tr>\n",
       "    <tr>\n",
       "      <th>2674</th>\n",
       "      <td>IL</td>\n",
       "      <td>67</td>\n",
       "      <td>area_code_415</td>\n",
       "      <td>no</td>\n",
       "      <td>no</td>\n",
       "      <td>0</td>\n",
       "      <td>109.1</td>\n",
       "      <td>117</td>\n",
       "      <td>18.55</td>\n",
       "      <td>217.4</td>\n",
       "      <td>124</td>\n",
       "      <td>18.48</td>\n",
       "      <td>188.4</td>\n",
       "      <td>141</td>\n",
       "      <td>8.48</td>\n",
       "      <td>12.8</td>\n",
       "      <td>6</td>\n",
       "      <td>3.46</td>\n",
       "      <td>0</td>\n",
       "      <td>no</td>\n",
       "    </tr>\n",
       "    <tr>\n",
       "      <th>1345</th>\n",
       "      <td>SD</td>\n",
       "      <td>98</td>\n",
       "      <td>area_code_415</td>\n",
       "      <td>no</td>\n",
       "      <td>no</td>\n",
       "      <td>0</td>\n",
       "      <td>0.0</td>\n",
       "      <td>0</td>\n",
       "      <td>0.00</td>\n",
       "      <td>159.6</td>\n",
       "      <td>130</td>\n",
       "      <td>13.57</td>\n",
       "      <td>167.1</td>\n",
       "      <td>88</td>\n",
       "      <td>7.52</td>\n",
       "      <td>6.8</td>\n",
       "      <td>1</td>\n",
       "      <td>1.84</td>\n",
       "      <td>4</td>\n",
       "      <td>yes</td>\n",
       "    </tr>\n",
       "    <tr>\n",
       "      <th>1957</th>\n",
       "      <td>KY</td>\n",
       "      <td>147</td>\n",
       "      <td>area_code_408</td>\n",
       "      <td>no</td>\n",
       "      <td>no</td>\n",
       "      <td>0</td>\n",
       "      <td>212.8</td>\n",
       "      <td>79</td>\n",
       "      <td>36.18</td>\n",
       "      <td>204.1</td>\n",
       "      <td>91</td>\n",
       "      <td>17.35</td>\n",
       "      <td>156.2</td>\n",
       "      <td>113</td>\n",
       "      <td>7.03</td>\n",
       "      <td>10.2</td>\n",
       "      <td>2</td>\n",
       "      <td>2.75</td>\n",
       "      <td>1</td>\n",
       "      <td>no</td>\n",
       "    </tr>\n",
       "    <tr>\n",
       "      <th>2148</th>\n",
       "      <td>WY</td>\n",
       "      <td>96</td>\n",
       "      <td>area_code_408</td>\n",
       "      <td>no</td>\n",
       "      <td>no</td>\n",
       "      <td>0</td>\n",
       "      <td>144.0</td>\n",
       "      <td>102</td>\n",
       "      <td>24.48</td>\n",
       "      <td>224.7</td>\n",
       "      <td>73</td>\n",
       "      <td>19.10</td>\n",
       "      <td>227.7</td>\n",
       "      <td>91</td>\n",
       "      <td>10.25</td>\n",
       "      <td>10.0</td>\n",
       "      <td>7</td>\n",
       "      <td>2.70</td>\n",
       "      <td>1</td>\n",
       "      <td>no</td>\n",
       "    </tr>\n",
       "  </tbody>\n",
       "</table>\n",
       "</div>"
      ],
      "text/plain": [
       "     state  account_length      area_code international_plan voice_mail_plan  \\\n",
       "438     WY             113  area_code_510                 no              no   \n",
       "2674    IL              67  area_code_415                 no              no   \n",
       "1345    SD              98  area_code_415                 no              no   \n",
       "1957    KY             147  area_code_408                 no              no   \n",
       "2148    WY              96  area_code_408                 no              no   \n",
       "\n",
       "      number_vmail_messages  total_day_minutes  total_day_calls  \\\n",
       "438                       0              155.0               93   \n",
       "2674                      0              109.1              117   \n",
       "1345                      0                0.0                0   \n",
       "1957                      0              212.8               79   \n",
       "2148                      0              144.0              102   \n",
       "\n",
       "      total_day_charge  total_eve_minutes  total_eve_calls  total_eve_charge  \\\n",
       "438              26.35              330.6              106             28.10   \n",
       "2674             18.55              217.4              124             18.48   \n",
       "1345              0.00              159.6              130             13.57   \n",
       "1957             36.18              204.1               91             17.35   \n",
       "2148             24.48              224.7               73             19.10   \n",
       "\n",
       "      total_night_minutes  total_night_calls  total_night_charge  \\\n",
       "438                 189.4                123                8.52   \n",
       "2674                188.4                141                8.48   \n",
       "1345                167.1                 88                7.52   \n",
       "1957                156.2                113                7.03   \n",
       "2148                227.7                 91               10.25   \n",
       "\n",
       "      total_intl_minutes  total_intl_calls  total_intl_charge  \\\n",
       "438                 13.5                 3               3.65   \n",
       "2674                12.8                 6               3.46   \n",
       "1345                 6.8                 1               1.84   \n",
       "1957                10.2                 2               2.75   \n",
       "2148                10.0                 7               2.70   \n",
       "\n",
       "      number_customer_service_calls churn  \n",
       "438                               1    no  \n",
       "2674                              0    no  \n",
       "1345                              4   yes  \n",
       "1957                              1    no  \n",
       "2148                              1    no  "
      ]
     },
     "execution_count": 3,
     "metadata": {},
     "output_type": "execute_result"
    }
   ],
   "source": [
    "df.sample(5, random_state=42)"
   ]
  },
  {
   "cell_type": "code",
   "execution_count": 4,
   "metadata": {},
   "outputs": [
    {
     "name": "stdout",
     "output_type": "stream",
     "text": [
      "<class 'pandas.core.frame.DataFrame'>\n",
      "RangeIndex: 3333 entries, 0 to 3332\n",
      "Columns: 20 entries, state to churn\n",
      "dtypes: float64(8), int64(7), object(5)\n",
      "memory usage: 520.9+ KB\n"
     ]
    }
   ],
   "source": [
    "df.info(max_cols=1)"
   ]
  },
  {
   "cell_type": "markdown",
   "metadata": {},
   "source": [
    "**Comportamiento distributivo:**"
   ]
  },
  {
   "cell_type": "code",
   "execution_count": 5,
   "metadata": {},
   "outputs": [],
   "source": [
    "df_num = df.select_dtypes(exclude=['object'])\n",
    "df_obj = df.select_dtypes(include=['object'])"
   ]
  },
  {
   "cell_type": "code",
   "execution_count": 6,
   "metadata": {},
   "outputs": [
    {
     "data": {
      "image/png": "[encoded data removed]",
      "text/plain": [
       "<Figure size 1152x288 with 14 Axes>"
      ]
     },
     "metadata": {
      "needs_background": "light"
     },
     "output_type": "display_data"
    }
   ],
   "source": [
    "plt.rcParams['figure.figsize'] = 16, 4\n",
    "for i, var in enumerate(df_num.columns.tolist()[1:]):\n",
    "    plt.subplot(2,7,i+1)\n",
    "    sns.distplot(df_num[var], color='tomato', kde=True)\n",
    "    plt.axvline(df_num[var].mean(), color='dodgerblue')\n",
    "    plt.grid(False)\n",
    "plt.tight_layout()"
   ]
  },
  {
   "cell_type": "code",
   "execution_count": 7,
   "metadata": {},
   "outputs": [
    {
     "data": {
      "image/png": "[encoded data removed]",
      "text/plain": [
       "<Figure size 720x288 with 4 Axes>"
      ]
     },
     "metadata": {
      "needs_background": "light"
     },
     "output_type": "display_data"
    }
   ],
   "source": [
    "plt.rcParams['figure.figsize'] = 10, 4\n",
    "for i, var in enumerate(df_obj.columns.tolist()[1:]):\n",
    "    plt.subplot(2,2,i+1)\n",
    "    sns.countplot(df_obj[var], color='tomato')\n",
    "    plt.grid(False)\n",
    "plt.tight_layout()"
   ]
  },
  {
   "cell_type": "markdown",
   "metadata": {},
   "source": [
    "**(R)** En general los atributos tienen una distribución normal, con excepción de:\n",
    "\n",
    "- `number_vmail_messages`,\n",
    "- `total_intl_calls`, y\n",
    "- `number_customer_service_calls`."
   ]
  },
  {
   "cell_type": "markdown",
   "metadata": {},
   "source": [
    "**Recodificación de variables categóricas:**"
   ]
  },
  {
   "cell_type": "code",
   "execution_count": 8,
   "metadata": {},
   "outputs": [],
   "source": [
    "cols_to_delete = []\n",
    "for col in df:\n",
    "    if df[col].dtype == 'object':\n",
    "        df = pd.concat([df, pd.get_dummies(df[col], drop_first=True, prefix=col)], axis=1)\n",
    "        cols_to_delete.append(col)\n",
    "df_dummy = df.drop(columns=cols_to_delete)"
   ]
  },
  {
   "cell_type": "markdown",
   "metadata": {},
   "source": [
    "**Transformación de variables numéricas con alto sesgo:**"
   ]
  },
  {
   "cell_type": "code",
   "execution_count": 9,
   "metadata": {},
   "outputs": [],
   "source": [
    "hvar_vars = ['number_vmail_messages', 'number_customer_service_calls', 'total_intl_calls']\n",
    "for i in hvar_vars:\n",
    "    df_dummy[i] = df_dummy[i].apply(lambda x: np.log1p(x))"
   ]
  },
  {
   "cell_type": "code",
   "execution_count": 10,
   "metadata": {},
   "outputs": [],
   "source": [
    "df = df_dummy"
   ]
  },
  {
   "cell_type": "markdown",
   "metadata": {},
   "source": [
    "### **Ejercicio 2: Comparación de AdaBoost y Gradient Boosting**"
   ]
  },
  {
   "cell_type": "code",
   "execution_count": 11,
   "metadata": {},
   "outputs": [],
   "source": [
    "X = df.drop(['churn_yes'], axis=1)\n",
    "y = df['churn_yes']\n",
    "X_train, X_test, y_train, y_test = train_test_split(X, y, test_size=.33, random_state=42)"
   ]
  },
  {
   "cell_type": "markdown",
   "metadata": {},
   "source": [
    "**AdaBoost:**"
   ]
  },
  {
   "cell_type": "code",
   "execution_count": 12,
   "metadata": {},
   "outputs": [
    {
     "name": "stdout",
     "output_type": "stream",
     "text": [
      "Fitting 2 folds for each of 15 candidates, totalling 30 fits\n"
     ]
    },
    {
     "name": "stderr",
     "output_type": "stream",
     "text": [
      "[Parallel(n_jobs=1)]: Using backend SequentialBackend with 1 concurrent workers.\n",
      "[Parallel(n_jobs=1)]: Done  30 out of  30 | elapsed:  1.4min finished\n"
     ]
    }
   ],
   "source": [
    "CV = 2\n",
    "VERBOSITY = 1\n",
    "PARAM_GRID_ADA = {\n",
    "    'learning_rate': [0.01, 0.1, 0.5],\n",
    "    'n_estimators': [50, 100, 500, 1000, 2000]\n",
    "}\n",
    "\n",
    "grid_ada = GridSearchCV(AdaBoostClassifier(random_state=42),\n",
    "                        param_grid=PARAM_GRID_ADA,\n",
    "                        cv=CV, verbose=VERBOSITY).fit(X_train, y_train)"
   ]
  },
  {
   "cell_type": "code",
   "execution_count": 13,
   "metadata": {},
   "outputs": [
    {
     "data": {
      "image/png": "[encoded data removed]",
      "text/plain": [
       "<Figure size 360x288 with 1 Axes>"
      ]
     },
     "metadata": {
      "needs_background": "light"
     },
     "output_type": "display_data"
    }
   ],
   "source": [
    "scores = grid_ada.cv_results_['mean_test_score']\n",
    "data = scores.reshape(len(PARAM_GRID_ADA['learning_rate']),len(PARAM_GRID_ADA['n_estimators']))\n",
    "plt.figure(figsize=(5,4))\n",
    "sns.heatmap(\n",
    "    data, cmap='Blues', annot=True, fmt='.4', cbar=False,\n",
    "    xticklabels=PARAM_GRID_ADA['n_estimators'],\n",
    "    yticklabels=PARAM_GRID_ADA['learning_rate']\n",
    ")\n",
    "plt.xlabel('learning_rate', fontsize=15)\n",
    "plt.ylabel('n_estimators', fontsize=15)\n",
    "plt.tight_layout()"
   ]
  },
  {
   "cell_type": "code",
   "execution_count": 14,
   "metadata": {},
   "outputs": [
    {
     "data": {
      "text/plain": [
       "array([[0.85714223, 0.85714223, 0.86027482, 0.86609879, 0.87147192],\n",
       "       [0.86027482, 0.86609919, 0.87863637, 0.87774032, 0.87729349],\n",
       "       [0.87505535, 0.88043049, 0.87012784, 0.8710243 , 0.86206653]])"
      ]
     },
     "execution_count": 14,
     "metadata": {},
     "output_type": "execute_result"
    }
   ],
   "source": [
    "data"
   ]
  },
  {
   "cell_type": "code",
   "execution_count": 15,
   "metadata": {},
   "outputs": [
    {
     "name": "stdout",
     "output_type": "stream",
     "text": [
      "{'learning_rate': 0.5, 'n_estimators': 100}\n"
     ]
    }
   ],
   "source": [
    "print(grid_ada.best_params_)"
   ]
  },
  {
   "cell_type": "code",
   "execution_count": 16,
   "metadata": {},
   "outputs": [],
   "source": [
    "grid_ada_pred = grid_ada.predict(X_test)"
   ]
  },
  {
   "cell_type": "code",
   "execution_count": 17,
   "metadata": {},
   "outputs": [
    {
     "name": "stdout",
     "output_type": "stream",
     "text": [
      "              precision    recall  f1-score   support\n",
      "\n",
      "           0       0.89      0.98      0.93       940\n",
      "           1       0.68      0.31      0.43       160\n",
      "\n",
      "    accuracy                           0.88      1100\n",
      "   macro avg       0.79      0.64      0.68      1100\n",
      "weighted avg       0.86      0.88      0.86      1100\n",
      "\n"
     ]
    }
   ],
   "source": [
    "print(classification_report(y_test, grid_ada_pred))"
   ]
  },
  {
   "cell_type": "markdown",
   "metadata": {},
   "source": [
    "**(R)** Promedio ponderado del _F1 score_ de 86%, y _accuracy_ 88%."
   ]
  },
  {
   "cell_type": "markdown",
   "metadata": {},
   "source": [
    "**Gradient Boosting:**"
   ]
  },
  {
   "cell_type": "code",
   "execution_count": 18,
   "metadata": {},
   "outputs": [
    {
     "name": "stdout",
     "output_type": "stream",
     "text": [
      "Fitting 2 folds for each of 45 candidates, totalling 90 fits\n"
     ]
    },
    {
     "name": "stderr",
     "output_type": "stream",
     "text": [
      "[Parallel(n_jobs=1)]: Using backend SequentialBackend with 1 concurrent workers.\n",
      "[Parallel(n_jobs=1)]: Done  90 out of  90 | elapsed:  3.2min finished\n"
     ]
    }
   ],
   "source": [
    "CV = 2\n",
    "VERBOSITY = 1\n",
    "PARAM_GRID_GRA = {\n",
    "    'learning_rate': [0.01, 0.1, 0.5],\n",
    "    'n_estimators': [50, 100, 500, 1000, 2000],\n",
    "    'subsample': [0.1, 0.5, 0.9]\n",
    "}\n",
    "\n",
    "grid_gra = GridSearchCV(GradientBoostingClassifier(random_state=42),\n",
    "                        param_grid=PARAM_GRID_GRA,\n",
    "                        cv=CV, verbose=VERBOSITY).fit(X_train, y_train)"
   ]
  },
  {
   "cell_type": "code",
   "execution_count": 19,
   "metadata": {},
   "outputs": [
    {
     "name": "stdout",
     "output_type": "stream",
     "text": [
      "{'learning_rate': 0.01, 'n_estimators': 1000, 'subsample': 0.9}\n"
     ]
    }
   ],
   "source": [
    "print(grid_gra.best_params_)"
   ]
  },
  {
   "cell_type": "code",
   "execution_count": 20,
   "metadata": {},
   "outputs": [],
   "source": [
    "grid_gra_pred = grid_gra.predict(X_test)"
   ]
  },
  {
   "cell_type": "code",
   "execution_count": 21,
   "metadata": {},
   "outputs": [
    {
     "name": "stdout",
     "output_type": "stream",
     "text": [
      "              precision    recall  f1-score   support\n",
      "\n",
      "           0       0.95      0.99      0.97       940\n",
      "           1       0.93      0.72      0.81       160\n",
      "\n",
      "    accuracy                           0.95      1100\n",
      "   macro avg       0.94      0.85      0.89      1100\n",
      "weighted avg       0.95      0.95      0.95      1100\n",
      "\n"
     ]
    }
   ],
   "source": [
    "print(classification_report(y_test, grid_gra_pred))"
   ]
  },
  {
   "cell_type": "markdown",
   "metadata": {},
   "source": [
    "**(R)** Promedio ponderado del _F1 score_ de 95%, y _accuracy_ 95%. Es el modelo que tiene mejor rendimiento."
   ]
  },
  {
   "cell_type": "markdown",
   "metadata": {},
   "source": [
    "### **Ejercicio 3: Principales factores asociados**"
   ]
  },
  {
   "cell_type": "code",
   "execution_count": 22,
   "metadata": {},
   "outputs": [],
   "source": [
    "def plot_importance(fit_model, feat_names):\n",
    "    tmp_importance = fit_model.best_estimator_.feature_importances_\n",
    "    sort_importance = np.argsort(tmp_importance)[::-1]\n",
    "    names = [feat_names[i] for i in sort_importance]\n",
    "    plt.title('Feature importance')\n",
    "    plt.barh(names[:10], tmp_importance[sort_importance][:10])\n",
    "    plt.yticks(names[:10], names, rotation = 0)"
   ]
  },
  {
   "cell_type": "code",
   "execution_count": 23,
   "metadata": {},
   "outputs": [
    {
     "data": {
      "image/png": "[encoded data removed]",
      "text/plain": [
       "<Figure size 720x360 with 1 Axes>"
      ]
     },
     "metadata": {
      "needs_background": "light"
     },
     "output_type": "display_data"
    }
   ],
   "source": [
    "plt.rcParams['figure.figsize'] = 10, 5\n",
    "plot_importance(grid_gra, X.columns)"
   ]
  },
  {
   "cell_type": "markdown",
   "metadata": {},
   "source": [
    "**Atributos que aumentan de mayor manera la probabilidad de fuga:**\n",
    "* `international_plan_yes`: Tener plan internacional.\n",
    "* `total_day_charge`: Cobros realizados en la mañana.\n",
    "* `number_customer_service_calls`: Número de llamadas de servicio al cliente."
   ]
  },
  {
   "cell_type": "markdown",
   "metadata": {},
   "source": [
    "### **Ejercicio 4: Probabilidad de fuga**"
   ]
  },
  {
   "cell_type": "code",
   "execution_count": 24,
   "metadata": {},
   "outputs": [],
   "source": [
    "df_test = pd.read_csv('churn_test.csv').drop(columns='Unnamed: 0')"
   ]
  },
  {
   "cell_type": "code",
   "execution_count": 25,
   "metadata": {},
   "outputs": [
    {
     "data": {
      "text/html": [
       "<div>\n",
       "<style scoped>\n",
       "    .dataframe tbody tr th:only-of-type {\n",
       "        vertical-align: middle;\n",
       "    }\n",
       "\n",
       "    .dataframe tbody tr th {\n",
       "        vertical-align: top;\n",
       "    }\n",
       "\n",
       "    .dataframe thead th {\n",
       "        text-align: right;\n",
       "    }\n",
       "</style>\n",
       "<table border=\"1\" class=\"dataframe\">\n",
       "  <thead>\n",
       "    <tr style=\"text-align: right;\">\n",
       "      <th></th>\n",
       "      <th>state</th>\n",
       "      <th>account_length</th>\n",
       "      <th>area_code</th>\n",
       "      <th>international_plan</th>\n",
       "      <th>voice_mail_plan</th>\n",
       "      <th>number_vmail_messages</th>\n",
       "      <th>total_day_minutes</th>\n",
       "      <th>total_day_calls</th>\n",
       "      <th>total_day_charge</th>\n",
       "      <th>total_eve_minutes</th>\n",
       "      <th>total_eve_calls</th>\n",
       "      <th>total_eve_charge</th>\n",
       "      <th>total_night_minutes</th>\n",
       "      <th>total_night_calls</th>\n",
       "      <th>total_night_charge</th>\n",
       "      <th>total_intl_minutes</th>\n",
       "      <th>total_intl_calls</th>\n",
       "      <th>total_intl_charge</th>\n",
       "      <th>number_customer_service_calls</th>\n",
       "      <th>churn</th>\n",
       "    </tr>\n",
       "  </thead>\n",
       "  <tbody>\n",
       "    <tr>\n",
       "      <th>940</th>\n",
       "      <td>WY</td>\n",
       "      <td>142</td>\n",
       "      <td>area_code_408</td>\n",
       "      <td>no</td>\n",
       "      <td>yes</td>\n",
       "      <td>34</td>\n",
       "      <td>219.5</td>\n",
       "      <td>85</td>\n",
       "      <td>37.32</td>\n",
       "      <td>144.0</td>\n",
       "      <td>120</td>\n",
       "      <td>12.24</td>\n",
       "      <td>258.2</td>\n",
       "      <td>84</td>\n",
       "      <td>11.62</td>\n",
       "      <td>7.0</td>\n",
       "      <td>3</td>\n",
       "      <td>1.89</td>\n",
       "      <td>1</td>\n",
       "      <td>no</td>\n",
       "    </tr>\n",
       "    <tr>\n",
       "      <th>987</th>\n",
       "      <td>KY</td>\n",
       "      <td>94</td>\n",
       "      <td>area_code_408</td>\n",
       "      <td>no</td>\n",
       "      <td>no</td>\n",
       "      <td>0</td>\n",
       "      <td>139.1</td>\n",
       "      <td>93</td>\n",
       "      <td>23.65</td>\n",
       "      <td>237.9</td>\n",
       "      <td>100</td>\n",
       "      <td>20.22</td>\n",
       "      <td>227.1</td>\n",
       "      <td>59</td>\n",
       "      <td>10.22</td>\n",
       "      <td>11.4</td>\n",
       "      <td>3</td>\n",
       "      <td>3.08</td>\n",
       "      <td>1</td>\n",
       "      <td>no</td>\n",
       "    </tr>\n",
       "    <tr>\n",
       "      <th>405</th>\n",
       "      <td>NJ</td>\n",
       "      <td>91</td>\n",
       "      <td>area_code_415</td>\n",
       "      <td>no</td>\n",
       "      <td>no</td>\n",
       "      <td>0</td>\n",
       "      <td>93.5</td>\n",
       "      <td>110</td>\n",
       "      <td>15.90</td>\n",
       "      <td>213.3</td>\n",
       "      <td>79</td>\n",
       "      <td>18.13</td>\n",
       "      <td>171.7</td>\n",
       "      <td>83</td>\n",
       "      <td>7.73</td>\n",
       "      <td>8.9</td>\n",
       "      <td>4</td>\n",
       "      <td>2.40</td>\n",
       "      <td>4</td>\n",
       "      <td>yes</td>\n",
       "    </tr>\n",
       "    <tr>\n",
       "      <th>721</th>\n",
       "      <td>AL</td>\n",
       "      <td>42</td>\n",
       "      <td>area_code_510</td>\n",
       "      <td>no</td>\n",
       "      <td>no</td>\n",
       "      <td>0</td>\n",
       "      <td>160.2</td>\n",
       "      <td>103</td>\n",
       "      <td>27.23</td>\n",
       "      <td>159.8</td>\n",
       "      <td>116</td>\n",
       "      <td>13.58</td>\n",
       "      <td>255.7</td>\n",
       "      <td>87</td>\n",
       "      <td>11.51</td>\n",
       "      <td>12.9</td>\n",
       "      <td>3</td>\n",
       "      <td>3.48</td>\n",
       "      <td>1</td>\n",
       "      <td>no</td>\n",
       "    </tr>\n",
       "    <tr>\n",
       "      <th>1612</th>\n",
       "      <td>ID</td>\n",
       "      <td>57</td>\n",
       "      <td>area_code_415</td>\n",
       "      <td>no</td>\n",
       "      <td>no</td>\n",
       "      <td>0</td>\n",
       "      <td>217.1</td>\n",
       "      <td>115</td>\n",
       "      <td>36.91</td>\n",
       "      <td>258.6</td>\n",
       "      <td>92</td>\n",
       "      <td>21.98</td>\n",
       "      <td>173.7</td>\n",
       "      <td>117</td>\n",
       "      <td>7.82</td>\n",
       "      <td>12.6</td>\n",
       "      <td>6</td>\n",
       "      <td>3.40</td>\n",
       "      <td>2</td>\n",
       "      <td>no</td>\n",
       "    </tr>\n",
       "  </tbody>\n",
       "</table>\n",
       "</div>"
      ],
      "text/plain": [
       "     state  account_length      area_code international_plan voice_mail_plan  \\\n",
       "940     WY             142  area_code_408                 no             yes   \n",
       "987     KY              94  area_code_408                 no              no   \n",
       "405     NJ              91  area_code_415                 no              no   \n",
       "721     AL              42  area_code_510                 no              no   \n",
       "1612    ID              57  area_code_415                 no              no   \n",
       "\n",
       "      number_vmail_messages  total_day_minutes  total_day_calls  \\\n",
       "940                      34              219.5               85   \n",
       "987                       0              139.1               93   \n",
       "405                       0               93.5              110   \n",
       "721                       0              160.2              103   \n",
       "1612                      0              217.1              115   \n",
       "\n",
       "      total_day_charge  total_eve_minutes  total_eve_calls  total_eve_charge  \\\n",
       "940              37.32              144.0              120             12.24   \n",
       "987              23.65              237.9              100             20.22   \n",
       "405              15.90              213.3               79             18.13   \n",
       "721              27.23              159.8              116             13.58   \n",
       "1612             36.91              258.6               92             21.98   \n",
       "\n",
       "      total_night_minutes  total_night_calls  total_night_charge  \\\n",
       "940                 258.2                 84               11.62   \n",
       "987                 227.1                 59               10.22   \n",
       "405                 171.7                 83                7.73   \n",
       "721                 255.7                 87               11.51   \n",
       "1612                173.7                117                7.82   \n",
       "\n",
       "      total_intl_minutes  total_intl_calls  total_intl_charge  \\\n",
       "940                  7.0                 3               1.89   \n",
       "987                 11.4                 3               3.08   \n",
       "405                  8.9                 4               2.40   \n",
       "721                 12.9                 3               3.48   \n",
       "1612                12.6                 6               3.40   \n",
       "\n",
       "      number_customer_service_calls churn  \n",
       "940                               1    no  \n",
       "987                               1    no  \n",
       "405                               4   yes  \n",
       "721                               1    no  \n",
       "1612                              2    no  "
      ]
     },
     "execution_count": 25,
     "metadata": {},
     "output_type": "execute_result"
    }
   ],
   "source": [
    "df_test.sample(5, random_state=42)"
   ]
  },
  {
   "cell_type": "code",
   "execution_count": 26,
   "metadata": {},
   "outputs": [
    {
     "name": "stdout",
     "output_type": "stream",
     "text": [
      "<class 'pandas.core.frame.DataFrame'>\n",
      "RangeIndex: 1667 entries, 0 to 1666\n",
      "Columns: 20 entries, state to churn\n",
      "dtypes: float64(8), int64(7), object(5)\n",
      "memory usage: 260.6+ KB\n"
     ]
    }
   ],
   "source": [
    "df_test.info(max_cols=1)"
   ]
  },
  {
   "cell_type": "code",
   "execution_count": 27,
   "metadata": {},
   "outputs": [],
   "source": [
    "cols_to_delete = []\n",
    "for col in df_test:\n",
    "    if df_test[col].dtype == 'object':\n",
    "        df_test = pd.concat([df_test, pd.get_dummies(df_test[col], drop_first=True, prefix=col)], axis=1)\n",
    "        cols_to_delete.append(col)\n",
    "df_test_dummy = df_test.drop(columns=cols_to_delete)"
   ]
  },
  {
   "cell_type": "code",
   "execution_count": 28,
   "metadata": {},
   "outputs": [
    {
     "name": "stdout",
     "output_type": "stream",
     "text": [
      "<class 'pandas.core.frame.DataFrame'>\n",
      "RangeIndex: 1667 entries, 0 to 1666\n",
      "Columns: 70 entries, account_length to churn_yes\n",
      "dtypes: float64(8), int64(7), uint8(55)\n",
      "memory usage: 285.0 KB\n"
     ]
    }
   ],
   "source": [
    "df_test_dummy.info(max_cols=1)"
   ]
  },
  {
   "cell_type": "code",
   "execution_count": 29,
   "metadata": {},
   "outputs": [],
   "source": [
    "df = df_test_dummy"
   ]
  },
  {
   "cell_type": "code",
   "execution_count": 30,
   "metadata": {},
   "outputs": [],
   "source": [
    "X = df.drop(['churn_yes'], axis=1)\n",
    "y = df['churn_yes']\n",
    "X_train, X_test, y_train, y_test = train_test_split(X, y, test_size=.33, random_state=42)"
   ]
  },
  {
   "cell_type": "code",
   "execution_count": 31,
   "metadata": {},
   "outputs": [
    {
     "name": "stdout",
     "output_type": "stream",
     "text": [
      "Fitting 2 folds for each of 45 candidates, totalling 90 fits\n"
     ]
    },
    {
     "name": "stderr",
     "output_type": "stream",
     "text": [
      "[Parallel(n_jobs=1)]: Using backend SequentialBackend with 1 concurrent workers.\n",
      "[Parallel(n_jobs=1)]: Done  90 out of  90 | elapsed:  1.6min finished\n"
     ]
    }
   ],
   "source": [
    "grid_gra_test = GridSearchCV(GradientBoostingClassifier(random_state=42),\n",
    "                             param_grid=PARAM_GRID_GRA,\n",
    "                             cv=CV, verbose=VERBOSITY).fit(X_train, y_train)"
   ]
  },
  {
   "cell_type": "code",
   "execution_count": 32,
   "metadata": {},
   "outputs": [],
   "source": [
    "grid_gra_test_pred_proba = grid_gra.best_estimator_.predict_proba(X_test)"
   ]
  },
  {
   "cell_type": "code",
   "execution_count": 33,
   "metadata": {},
   "outputs": [],
   "source": [
    "import warnings\n",
    "warnings.simplefilter('ignore')\n",
    "temp_prob = grid_gra.best_estimator_.predict_proba(X_test)\n",
    "predicted_proba = X_test.filter(regex='state_*', axis=1)\n",
    "predicted_proba['pr_0'] = [i[0] for i in temp_prob]\n",
    "predicted_proba['pr_1'] = [i[1] for i in temp_prob]"
   ]
  },
  {
   "cell_type": "code",
   "execution_count": 34,
   "metadata": {},
   "outputs": [],
   "source": [
    "d = {state:predicted_proba[predicted_proba[state]==1]['pr_1'].mean() for (state,_) in predicted_proba.iteritems()}\n",
    "d = {k:v for k,v in sorted(d.items(), key=lambda item: item[1], reverse=True)}"
   ]
  },
  {
   "cell_type": "code",
   "execution_count": 35,
   "metadata": {},
   "outputs": [
    {
     "data": {
      "text/plain": [
       "['state_CT', 'state_AZ', 'state_NM']"
      ]
     },
     "execution_count": 35,
     "metadata": {},
     "output_type": "execute_result"
    }
   ],
   "source": [
    "list(islice(d, 3))"
   ]
  },
  {
   "cell_type": "markdown",
   "metadata": {},
   "source": [
    "**(R)** Los tres estados con una mayor probabilidad de fuga están dados por **Connecticut**, **Arizona**, y **New Mexico**."
   ]
  },
  {
   "cell_type": "code",
   "execution_count": 36,
   "metadata": {},
   "outputs": [
    {
     "data": {
      "image/png": "[encoded data removed]",
      "text/plain": [
       "<Figure size 360x288 with 1 Axes>"
      ]
     },
     "metadata": {
      "needs_background": "light"
     },
     "output_type": "display_data"
    }
   ],
   "source": [
    "TOP = 10\n",
    "plt.rcParams['figure.figsize'] = 5, 4\n",
    "plt.barh(range(len(d))[:TOP], list(d.values())[:TOP])\n",
    "plt.yticks(range(len(d))[:TOP], list(d.keys())[:TOP], rotation=0)\n",
    "plt.xlim([0.3,0.6])\n",
    "plt.xlabel('churn probability')\n",
    "plt.tight_layout()"
   ]
  },
  {
   "cell_type": "code",
   "execution_count": null,
   "metadata": {},
   "outputs": [],
   "source": []
  }
 ],
 "metadata": {
  "kernelspec": {
   "display_name": "dlatam_ds",
   "language": "python",
   "name": "dlatam_ds"
  },
  "language_info": {
   "codemirror_mode": {
    "name": "ipython",
    "version": 3
   },
   "file_extension": ".py",
   "mimetype": "text/x-python",
   "name": "python",
   "nbconvert_exporter": "python",
   "pygments_lexer": "ipython3",
   "version": "3.7.3"
  }
 },
 "nbformat": 4,
 "nbformat_minor": 4
}
